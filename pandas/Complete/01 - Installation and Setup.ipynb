{
 "cells": [
  {
   "cell_type": "markdown",
   "metadata": {
    "tags": []
   },
   "source": [
    "## Introduction to pandas\n",
    "- **Pandas** is a data analysis library built on top of the Python programming language."
   ]
  },
  {
   "cell_type": "markdown",
   "metadata": {},
   "source": [
    "##  Setup the Anaconda Distribution (macOS / Windows)\n",
    "- The **Anaconda** distribution is a software bundle that packages Python, pandas, 100+ libraries for data analysis/data science, and the conda environment manager.\n",
    "- Navigate to https://www.anaconda.com/download.\n",
    "- Download the latest Anaconda version for your operating system.\n",
    "- Follow the instructions in the installer/course video to install the distribution."
   ]
  },
  {
   "cell_type": "markdown",
   "metadata": {},
   "source": [
    "## Anaconda Navigator\n",
    "- **Anaconda Navigator** is a visual interface for creating, managing, and running conda environments.\n",
    "- A conda environment is an isolated sandbox/playground where we can install specific versions of Python, pandas, and other libraries."
   ]
  },
  {
   "cell_type": "markdown",
   "metadata": {},
   "source": [
    "## Launch Jupyter Lab\n",
    "- Open the **Anaconda Navigator** program.\n",
    "- Choose/activate the conda environment we created for the course.\n",
    "- Click the **Launch** button underneath Jupyter Lab.\n",
    "- **Jupyter Lab** is a program that runs in your default web browser (like Chrome).\n",
    "- **Jupyter Lab** is a server -- a continuously listening program that listens to requests and issues responses."
   ]
  },
  {
   "cell_type": "markdown",
   "metadata": {},
   "source": [
    "## Create, Saving, and Closing a Jupyter Notebook\n",
    "- Jupyter Notebooks have a `ipynb` extension. The extension comes from their former name, iPython Notebooks.\n",
    "- Save a Jupyter Notebook with Command + S (macOS) and Control + S (Windows). Jupyter includes an auto-save feature.\n",
    "- To shut down a Notebook, save and close its tab. \n",
    "- Click the **Running Terminals and Kernels** button on the left-hand menu (the second icon from the top).\n",
    "- Click **Shut Down All** in the **Kernels** section or individually target a specific Notebook you'd like to close.\n",
    "- Go to **File -> Shut Down** in the main menu."
   ]
  },
  {
   "cell_type": "markdown",
   "metadata": {
    "tags": []
   },
   "source": [
    "## Intro to Jupyter Notebook\n",
    "- Old name was IPython Notebooks\n",
    "- Notebooks saved in a `.ipynb` file extension. Press Command + S to save.\n",
    "- Copy-paste functionalities are available under **Edit** menu. Just use keyboard shortcuts.\n",
    "- The options in the **View** menu toggle the header and the toolbar.\n",
    "- If serious errors (i.e. frozen cell occur, use the **Kernel** option on the menu.\n",
    "- **Kernel >> Restart & Clear Output** clears everything"
   ]
  },
  {
   "cell_type": "markdown",
   "metadata": {},
   "source": [
    "## Cell Types and Cell Modes\n",
    "- Cell types: **Code** and **Markdown**. Select from the dropdown menu in the toolbar.\n",
    "- Cell modes: **Edit Mode** (green outline) or **Command Mode** (blue outline).\n",
    "- Double-click into a Markdown cell or single-click into a code cell to enter **Edit Mode**.\n",
    "- Press the Escape key to go to **Command Mode**.\n",
    "- **Command Mode** is for notebook operations - navigation, cell deletion, cell movement\n",
    "- Alternatively, in command mode, press \"m\" to make a cell Markdown and \"y\" to make it a code cell"
   ]
  },
  {
   "cell_type": "markdown",
   "metadata": {},
   "source": [
    "## Code Cell Execution\n",
    "\n",
    "- We need to \"execute\" a cell to run the Python code inside of it.\n",
    "- Press **Shift + Enter** to execute a code cell and move to the next cell.\n",
    "- Press **Ctrl + Enter** to execute a code cell and stay in the same cell.\n",
    "- Executing a Markdown cell will render the formatting within it.\n",
    "- A cell can be executed any number of times.\n",
    "- You can execute cells in any order."
   ]
  },
  {
   "cell_type": "code",
   "execution_count": null,
   "metadata": {},
   "outputs": [],
   "source": []
  },
  {
   "cell_type": "markdown",
   "metadata": {},
   "source": [
    "- Multiple operations can take place in a single cell.\n",
    "- The cell will automatically output the last expression.\n",
    "- Any operation not saved to a variable will be thrown out."
   ]
  },
  {
   "cell_type": "code",
   "execution_count": null,
   "metadata": {},
   "outputs": [],
   "source": []
  },
  {
   "cell_type": "markdown",
   "metadata": {},
   "source": [
    "## Popular Keyboard Shortcuts\n",
    "- In Command Mode, press `a` to insert a cell above the currently selected one\n",
    "- In Command Mode, press `b` to insert a cell below the currently selected one\n",
    "- In Command Mode, press `x` to cut a cell (i.e delete it)\n",
    "- Both add options are available on the main menu under **Insert**."
   ]
  },
  {
   "cell_type": "markdown",
   "metadata": {},
   "source": [
    "## Import Libraries\n",
    "- A library or a Python built-in module is a bundle of features that add new functionality.\n",
    "- Libraries are not imported by default to save memory -- use them as you need them.\n",
    "- Libraries and modules must be imported into each project (the Jupyter Notebook)\n",
    "- Import a library with the **`import`** keyword followed by the library name:  \n",
    "- Libraries can be assigned an alias, or an alternate name. Aliases are optional.\n",
    "- An alias reduces the amount of characters a user has to type when referencing a library.\n",
    "- An alias can have any name; the community standard for `pandas` is `pd`.\n",
    "- Follow the `import` statement with the `as` keyword and the alias (no quotes)\n",
    "- Multiple libraries can be imported in a single cell\n",
    "- The `pandas` library is built on top of the `numpy` library (Numerical Python)\n",
    "- The `numpy` library can be used to generate fake data sets -- we'll use it occasionally"
   ]
  },
  {
   "cell_type": "code",
   "execution_count": 1,
   "metadata": {},
   "outputs": [],
   "source": [
    "import pandas as pd\n",
    "import numpy as np"
   ]
  },
  {
   "cell_type": "code",
   "execution_count": null,
   "metadata": {},
   "outputs": [],
   "source": []
  }
 ],
 "metadata": {
  "anaconda-cloud": {},
  "kernelspec": {
   "display_name": "Python 3 (ipykernel)",
   "language": "python",
   "name": "python3"
  },
  "language_info": {
   "codemirror_mode": {
    "name": "ipython",
    "version": 3
   },
   "file_extension": ".py",
   "mimetype": "text/x-python",
   "name": "python",
   "nbconvert_exporter": "python",
   "pygments_lexer": "ipython3",
   "version": "3.11.5"
  }
 },
 "nbformat": 4,
 "nbformat_minor": 4
}
