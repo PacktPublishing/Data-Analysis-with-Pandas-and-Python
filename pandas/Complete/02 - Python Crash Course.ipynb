{
 "cells": [
  {
   "cell_type": "markdown",
   "id": "165afe4b-04af-43f0-93f9-b0ee79b7e7e9",
   "metadata": {},
   "source": [
    "# Python Crash Course"
   ]
  },
  {
   "cell_type": "markdown",
   "id": "b0d79961",
   "metadata": {},
   "source": [
    "## Comments\n",
    "- A **comment** is a line of text ignored by Python.\n",
    "- Use a hashtag/octothorpe (#) to create a comment."
   ]
  },
  {
   "cell_type": "code",
   "execution_count": 1,
   "id": "5f7086e1-1eb1-482c-a4a0-5fd1869fbc5c",
   "metadata": {
    "tags": []
   },
   "outputs": [
    {
     "data": {
      "text/plain": [
       "20"
      ]
     },
     "execution_count": 1,
     "metadata": {},
     "output_type": "execute_result"
    }
   ],
   "source": [
    "# Author: Boris\n",
    "3 + 3 \n",
    "5 + 5\n",
    "10 + 10 # Solve really complex mathematical expression using Python"
   ]
  },
  {
   "cell_type": "markdown",
   "id": "92e4dcbd-ae5d-4fe8-b2c0-c494fb605ca8",
   "metadata": {},
   "source": [
    "## Basic Data Types\n",
    "- An **integer** is a whole number.\n",
    "- A **floating-point** number is one with a fractional or decimal component.\n",
    "- A **string** is a piece of text. It's a collection of characters.\n",
    "- An **empty string** has a length of 0 characters.\n",
    "- A **Boolean** is a type whose value can only be True or False.\n",
    "- **None** is a special Python type that represents nothingness, blankness, or the absence of a value.\n",
    "- The operations that can be performed on a value depend on its type. There are functionalities that we can do with strings but not numbers, and vice versa."
   ]
  },
  {
   "cell_type": "code",
   "execution_count": 2,
   "id": "4bdbe3fa",
   "metadata": {},
   "outputs": [
    {
     "data": {
      "text/plain": [
       "0"
      ]
     },
     "execution_count": 2,
     "metadata": {},
     "output_type": "execute_result"
    }
   ],
   "source": [
    "# Integers - whole number\n",
    "5\n",
    "10\n",
    "-23\n",
    "0"
   ]
  },
  {
   "cell_type": "code",
   "execution_count": 3,
   "id": "f3fa5ce3",
   "metadata": {},
   "outputs": [
    {
     "data": {
      "text/plain": [
       "-113.23819"
      ]
     },
     "execution_count": 3,
     "metadata": {},
     "output_type": "execute_result"
    }
   ],
   "source": [
    "# Floating-point - number with a decimal/fractional component\n",
    "3.14\n",
    "3.14159\n",
    "9.99\n",
    "-113.23819"
   ]
  },
  {
   "cell_type": "code",
   "execution_count": 4,
   "id": "261e3b10",
   "metadata": {},
   "outputs": [
    {
     "data": {
      "text/plain": [
       "'123 dollars.!@#$%^'"
      ]
     },
     "execution_count": 4,
     "metadata": {},
     "output_type": "execute_result"
    }
   ],
   "source": [
    "# String - a piece of text, collection of characters\n",
    "\"Boris\"\n",
    "\"123 dollars.!@#$%^\""
   ]
  },
  {
   "cell_type": "code",
   "execution_count": 5,
   "id": "1a8ad7f3",
   "metadata": {},
   "outputs": [
    {
     "data": {
      "text/plain": [
       "144.14000000000001"
      ]
     },
     "execution_count": 5,
     "metadata": {},
     "output_type": "execute_result"
    }
   ],
   "source": [
    "139.99 + 4.15\n",
    "# \"139.99\" + 4.15"
   ]
  },
  {
   "cell_type": "code",
   "execution_count": 6,
   "id": "f3c87287-12a7-41a7-b8d1-b6d64679a47f",
   "metadata": {},
   "outputs": [
    {
     "data": {
      "text/plain": [
       "''"
      ]
     },
     "execution_count": 6,
     "metadata": {},
     "output_type": "execute_result"
    }
   ],
   "source": [
    "# Empty string - a string without characters\n",
    "\"\""
   ]
  },
  {
   "cell_type": "code",
   "execution_count": 7,
   "id": "9270bd16-016f-4d42-9890-5fa3e845be65",
   "metadata": {},
   "outputs": [
    {
     "data": {
      "text/plain": [
       "False"
      ]
     },
     "execution_count": 7,
     "metadata": {},
     "output_type": "execute_result"
    }
   ],
   "source": [
    "# Boolean - George Boole\n",
    "True\n",
    "False"
   ]
  },
  {
   "cell_type": "code",
   "execution_count": 8,
   "id": "7e545cb3-97a1-4faa-90f2-8b56b541a663",
   "metadata": {},
   "outputs": [
    {
     "data": {
      "text/plain": [
       "True"
      ]
     },
     "execution_count": 8,
     "metadata": {},
     "output_type": "execute_result"
    }
   ],
   "source": [
    "5 < 7"
   ]
  },
  {
   "cell_type": "code",
   "execution_count": 9,
   "id": "882a9c10-afba-42b1-9ec6-bece3fab0992",
   "metadata": {},
   "outputs": [
    {
     "data": {
      "text/plain": [
       "False"
      ]
     },
     "execution_count": 9,
     "metadata": {},
     "output_type": "execute_result"
    }
   ],
   "source": [
    "10 > 12"
   ]
  },
  {
   "cell_type": "code",
   "execution_count": 10,
   "id": "939bdf3f-d6c5-4ab6-8fd6-b513722c815b",
   "metadata": {},
   "outputs": [],
   "source": [
    "# None - a type that represents absence/nullness/a value missing\n",
    "None"
   ]
  },
  {
   "cell_type": "markdown",
   "id": "3271e1b9",
   "metadata": {},
   "source": [
    "## Operators\n",
    "- An **operator** is a symbol that performs an operation (mathematical, logical, etc).\n",
    "- Python supports all traditional mathematical operation - `+` for addition, `-` for subtraction, `*` for multiplication, and `/` for division.\n",
    "- The floor division operator (`//`) leaves off the floating point portion of a division result.\n",
    "- The `+` operator performs concatenation when used with strings.\n",
    "- The equality operator (`==`) returns True if two values are equal to each other.\n",
    "- The inequality operator (`!=`) returns True if two values are unequal to each other."
   ]
  },
  {
   "cell_type": "code",
   "execution_count": 11,
   "id": "18c1be1f",
   "metadata": {},
   "outputs": [
    {
     "data": {
      "text/plain": [
       "15.23"
      ]
     },
     "execution_count": 11,
     "metadata": {},
     "output_type": "execute_result"
    }
   ],
   "source": [
    "5 + 3\n",
    "3.14 + 7.96\n",
    "5 + 10.23"
   ]
  },
  {
   "cell_type": "code",
   "execution_count": 12,
   "id": "976f03ae-e196-4726-8762-079aa0db7e43",
   "metadata": {
    "tags": []
   },
   "outputs": [
    {
     "data": {
      "text/plain": [
       "'racecar'"
      ]
     },
     "execution_count": 12,
     "metadata": {},
     "output_type": "execute_result"
    }
   ],
   "source": [
    "# Concatenation - combining two strings together\n",
    "\"race\" + \"car\""
   ]
  },
  {
   "cell_type": "code",
   "execution_count": 13,
   "id": "66a67875-de12-4f73-a235-8d93472e8599",
   "metadata": {
    "tags": []
   },
   "outputs": [],
   "source": [
    "# \"race\" + 5\n",
    "# 5 + \"race\""
   ]
  },
  {
   "cell_type": "code",
   "execution_count": 14,
   "id": "58b969aa-77b8-4bb9-a108-d345e7fb760c",
   "metadata": {
    "tags": []
   },
   "outputs": [
    {
     "data": {
      "text/plain": [
       "5"
      ]
     },
     "execution_count": 14,
     "metadata": {},
     "output_type": "execute_result"
    }
   ],
   "source": [
    "10 - 5"
   ]
  },
  {
   "cell_type": "code",
   "execution_count": 15,
   "id": "5054b8ca-f00d-45b6-b283-2836b2771ef8",
   "metadata": {
    "tags": []
   },
   "outputs": [
    {
     "data": {
      "text/plain": [
       "12"
      ]
     },
     "execution_count": 15,
     "metadata": {},
     "output_type": "execute_result"
    }
   ],
   "source": [
    "4 * 3"
   ]
  },
  {
   "cell_type": "code",
   "execution_count": 16,
   "id": "0ba77ba9-43b6-46d6-8118-509a1d3eda48",
   "metadata": {
    "tags": []
   },
   "outputs": [
    {
     "data": {
      "text/plain": [
       "'MahiMahiMahiMahiMahiMahiMahiMahiMahiMahi'"
      ]
     },
     "execution_count": 16,
     "metadata": {},
     "output_type": "execute_result"
    }
   ],
   "source": [
    "\"Mahi\" * 10"
   ]
  },
  {
   "cell_type": "code",
   "execution_count": 17,
   "id": "e4bc6e3b-3393-4dc0-b02b-cf040fb88c32",
   "metadata": {
    "tags": []
   },
   "outputs": [
    {
     "data": {
      "text/plain": [
       "35"
      ]
     },
     "execution_count": 17,
     "metadata": {},
     "output_type": "execute_result"
    }
   ],
   "source": [
    "# PEMDAS - Parentheses, Exponents, Multiplication/Division, Addition/Subtraction\n",
    "3 + 4 * 5\n",
    "(3 + 4) * 5"
   ]
  },
  {
   "cell_type": "code",
   "execution_count": 18,
   "id": "235b7338-b7e2-4e1a-84f9-53a15eb7e7a5",
   "metadata": {
    "tags": []
   },
   "outputs": [
    {
     "data": {
      "text/plain": [
       "3.0"
      ]
     },
     "execution_count": 18,
     "metadata": {},
     "output_type": "execute_result"
    }
   ],
   "source": [
    "15 / 4\n",
    "12 / 4"
   ]
  },
  {
   "cell_type": "code",
   "execution_count": 19,
   "id": "59b1b107-89c3-48f2-a29a-2a078ea73aa6",
   "metadata": {
    "tags": []
   },
   "outputs": [
    {
     "data": {
      "text/plain": [
       "4"
      ]
     },
     "execution_count": 19,
     "metadata": {},
     "output_type": "execute_result"
    }
   ],
   "source": [
    "# Floor division - leaves out the floating-point\n",
    "10 // 3\n",
    "11 // 3\n",
    "12 // 3"
   ]
  },
  {
   "cell_type": "code",
   "execution_count": 20,
   "id": "b3897e59-3505-43e5-b86f-2f30c8346d35",
   "metadata": {
    "tags": []
   },
   "outputs": [
    {
     "data": {
      "text/plain": [
       "0"
      ]
     },
     "execution_count": 20,
     "metadata": {},
     "output_type": "execute_result"
    }
   ],
   "source": [
    "# Modulo operator - returns the remainder of a division\n",
    "14 % 3\n",
    "13 % 3\n",
    "15 % 3"
   ]
  },
  {
   "cell_type": "code",
   "execution_count": 21,
   "id": "7b602230",
   "metadata": {},
   "outputs": [
    {
     "data": {
      "text/plain": [
       "False"
      ]
     },
     "execution_count": 21,
     "metadata": {},
     "output_type": "execute_result"
    }
   ],
   "source": [
    "# Equality operator - check if two values are equal\n",
    "\n",
    "1 == 1\n",
    "1 == 2\n",
    "5 == 5.0\n",
    "5 == 5.1"
   ]
  },
  {
   "cell_type": "code",
   "execution_count": 22,
   "id": "ce22922e",
   "metadata": {},
   "outputs": [
    {
     "data": {
      "text/plain": [
       "False"
      ]
     },
     "execution_count": 22,
     "metadata": {},
     "output_type": "execute_result"
    }
   ],
   "source": [
    "\"Hello\" == \"Hello\"\n",
    "\"Hello\" == \"Goodbye\"\n",
    "\"Hello\" == \"hello\"\n",
    "\"Hello\" == \"Hello \""
   ]
  },
  {
   "cell_type": "code",
   "execution_count": 23,
   "id": "1e79878a",
   "metadata": {},
   "outputs": [
    {
     "data": {
      "text/plain": [
       "False"
      ]
     },
     "execution_count": 23,
     "metadata": {},
     "output_type": "execute_result"
    }
   ],
   "source": [
    "True == True\n",
    "True == False\n",
    "False == False\n",
    "False == True"
   ]
  },
  {
   "cell_type": "code",
   "execution_count": 24,
   "id": "9312e980",
   "metadata": {},
   "outputs": [
    {
     "data": {
      "text/plain": [
       "True"
      ]
     },
     "execution_count": 24,
     "metadata": {},
     "output_type": "execute_result"
    }
   ],
   "source": [
    "# Inequality operator - checks if two values are NOT equal\n",
    "# !=\n",
    "\n",
    "5 != 10\n",
    "5 != 5\n",
    "\"Hello\" != \"Hello\"\n",
    "\"Hello\" != \"hello\"\n",
    "\"Hello\" != \"Hello \""
   ]
  },
  {
   "cell_type": "code",
   "execution_count": 25,
   "id": "193b739a",
   "metadata": {},
   "outputs": [
    {
     "data": {
      "text/plain": [
       "True"
      ]
     },
     "execution_count": 25,
     "metadata": {},
     "output_type": "execute_result"
    }
   ],
   "source": [
    "5 < 8"
   ]
  },
  {
   "cell_type": "code",
   "execution_count": 26,
   "id": "a1419d28",
   "metadata": {},
   "outputs": [
    {
     "data": {
      "text/plain": [
       "False"
      ]
     },
     "execution_count": 26,
     "metadata": {},
     "output_type": "execute_result"
    }
   ],
   "source": [
    "5 <= 8\n",
    "8 <= 8\n",
    "10 <= 8"
   ]
  },
  {
   "cell_type": "code",
   "execution_count": 27,
   "id": "3292f809",
   "metadata": {},
   "outputs": [
    {
     "data": {
      "text/plain": [
       "False"
      ]
     },
     "execution_count": 27,
     "metadata": {},
     "output_type": "execute_result"
    }
   ],
   "source": [
    "14 > 9\n",
    "14 >= 9\n",
    "14 >= 14\n",
    "14 >= 17"
   ]
  },
  {
   "cell_type": "code",
   "execution_count": null,
   "id": "f4a3f067",
   "metadata": {},
   "outputs": [],
   "source": []
  },
  {
   "cell_type": "code",
   "execution_count": null,
   "id": "06ce2c6f",
   "metadata": {},
   "outputs": [],
   "source": []
  },
  {
   "cell_type": "code",
   "execution_count": null,
   "id": "ca937e36",
   "metadata": {},
   "outputs": [],
   "source": []
  },
  {
   "cell_type": "code",
   "execution_count": null,
   "id": "5556280a",
   "metadata": {},
   "outputs": [],
   "source": []
  },
  {
   "cell_type": "markdown",
   "id": "a7bc67a9",
   "metadata": {},
   "source": [
    "## Variables\n",
    "- A **variable** is a name for a value in your program. It is a placeholder for the value.\n",
    "- The value that a variable represents can *vary* over a program.\n",
    "- Multi-word variable names should follow a `snake_case` naming convention.\n",
    "- Python evaluates the right-hand side of an equal sign first."
   ]
  },
  {
   "cell_type": "code",
   "execution_count": 28,
   "id": "06765506-d200-4b47-a2e4-0e189cd00f89",
   "metadata": {
    "tags": []
   },
   "outputs": [],
   "source": [
    "age = 32"
   ]
  },
  {
   "cell_type": "code",
   "execution_count": 29,
   "id": "14046d65-15b2-4f5a-a33d-1cf4519a527b",
   "metadata": {
    "tags": []
   },
   "outputs": [
    {
     "data": {
      "text/plain": [
       "37"
      ]
     },
     "execution_count": 29,
     "metadata": {},
     "output_type": "execute_result"
    }
   ],
   "source": [
    "age + 5"
   ]
  },
  {
   "cell_type": "code",
   "execution_count": 30,
   "id": "71137fe3-fb6a-405a-a14a-1bb9fd1fb4a1",
   "metadata": {
    "tags": []
   },
   "outputs": [],
   "source": [
    "price = 19.99\n",
    "profession = \"Software Engineer\"\n",
    "\n",
    "# snake_case_formatting\n",
    "first_name = \"Boris\"\n",
    "is_handsome = True"
   ]
  },
  {
   "cell_type": "code",
   "execution_count": 31,
   "id": "2067023e-a2dd-4266-94f1-742808895ead",
   "metadata": {
    "tags": []
   },
   "outputs": [
    {
     "data": {
      "text/plain": [
       "'Boris the Great'"
      ]
     },
     "execution_count": 31,
     "metadata": {},
     "output_type": "execute_result"
    }
   ],
   "source": [
    "price\n",
    "first_name + \" the Great\""
   ]
  },
  {
   "cell_type": "code",
   "execution_count": 32,
   "id": "cf90303d-a5f2-49bd-ac19-75c43c79ccfa",
   "metadata": {
    "tags": []
   },
   "outputs": [],
   "source": [
    "profession = \"Python Developer\""
   ]
  },
  {
   "cell_type": "code",
   "execution_count": 33,
   "id": "5eab8e98-00bb-4727-ac52-0e1951657274",
   "metadata": {
    "tags": []
   },
   "outputs": [
    {
     "data": {
      "text/plain": [
       "'Python Developer'"
      ]
     },
     "execution_count": 33,
     "metadata": {},
     "output_type": "execute_result"
    }
   ],
   "source": [
    "profession"
   ]
  },
  {
   "cell_type": "code",
   "execution_count": 34,
   "id": "005dcb9a-0757-477a-ab55-70bb13a1d557",
   "metadata": {
    "tags": []
   },
   "outputs": [
    {
     "data": {
      "text/plain": [
       "32"
      ]
     },
     "execution_count": 34,
     "metadata": {},
     "output_type": "execute_result"
    }
   ],
   "source": [
    "age"
   ]
  },
  {
   "cell_type": "code",
   "execution_count": 35,
   "id": "33abb053-dd3d-4f22-905d-3d54d4e4d8c3",
   "metadata": {
    "tags": []
   },
   "outputs": [],
   "source": [
    "age = age + 5"
   ]
  },
  {
   "cell_type": "code",
   "execution_count": 36,
   "id": "045c3eff-d119-42b0-a23c-c9a81d808b42",
   "metadata": {
    "tags": []
   },
   "outputs": [
    {
     "data": {
      "text/plain": [
       "37"
      ]
     },
     "execution_count": 36,
     "metadata": {},
     "output_type": "execute_result"
    }
   ],
   "source": [
    "age"
   ]
  },
  {
   "cell_type": "code",
   "execution_count": null,
   "id": "1c60601b-3868-4801-83f4-738c617ec471",
   "metadata": {},
   "outputs": [],
   "source": []
  },
  {
   "cell_type": "code",
   "execution_count": null,
   "id": "db847ff6-dc93-4d31-8f80-edc4c1d46221",
   "metadata": {},
   "outputs": [],
   "source": []
  },
  {
   "cell_type": "markdown",
   "id": "42d67a50",
   "metadata": {},
   "source": [
    "## Built-in Functions\n",
    "- A **function** is a repeatable procedure.\n",
    "- A **function** can accept inputs (which are called **arguments**).\n",
    "- A **function** produces a **return value**, which is the \"output\" of the function.\n",
    "- The technical term for running/executing a function is \"invoking\" or \"calling\".\n",
    "- Invoke a function with a pair of parentheses.\n",
    "- The `len` function returns the length of its argument.\n",
    "- The `str` function converts its argument to a string.\n",
    "- The `int` function converts its argument to an integer.\n",
    "- The `float` function converts its argument to a floating-point.\n",
    "- The `type` function returns the type of its argument (the kind of value it is)."
   ]
  },
  {
   "cell_type": "code",
   "execution_count": 37,
   "id": "c876360e-9043-458c-a10e-97815c43eb2f",
   "metadata": {
    "tags": []
   },
   "outputs": [
    {
     "data": {
      "text/plain": [
       "13"
      ]
     },
     "execution_count": 37,
     "metadata": {},
     "output_type": "execute_result"
    }
   ],
   "source": [
    "len(\"Python is fun\")"
   ]
  },
  {
   "cell_type": "code",
   "execution_count": 38,
   "id": "54c11642-a975-43c5-938c-83b173c1ef16",
   "metadata": {
    "tags": []
   },
   "outputs": [
    {
     "data": {
      "text/plain": [
       "'3.14'"
      ]
     },
     "execution_count": 38,
     "metadata": {},
     "output_type": "execute_result"
    }
   ],
   "source": [
    "str(3.14)"
   ]
  },
  {
   "cell_type": "code",
   "execution_count": 39,
   "id": "686e22fa-67a7-481b-8689-23f73f812ead",
   "metadata": {
    "tags": []
   },
   "outputs": [
    {
     "data": {
      "text/plain": [
       "10"
      ]
     },
     "execution_count": 39,
     "metadata": {},
     "output_type": "execute_result"
    }
   ],
   "source": [
    "int(\"10\")"
   ]
  },
  {
   "cell_type": "code",
   "execution_count": 40,
   "id": "f8cd75b3-0ee2-490b-9c80-6af66456811d",
   "metadata": {
    "tags": []
   },
   "outputs": [
    {
     "data": {
      "text/plain": [
       "9.384"
      ]
     },
     "execution_count": 40,
     "metadata": {},
     "output_type": "execute_result"
    }
   ],
   "source": [
    "float(\"9.384\")"
   ]
  },
  {
   "cell_type": "code",
   "execution_count": 41,
   "id": "270c8bf5-4523-4b25-a73b-15769307fad4",
   "metadata": {
    "tags": []
   },
   "outputs": [
    {
     "data": {
      "text/plain": [
       "int"
      ]
     },
     "execution_count": 41,
     "metadata": {},
     "output_type": "execute_result"
    }
   ],
   "source": [
    "type(5)\n",
    "type(-23)"
   ]
  },
  {
   "cell_type": "code",
   "execution_count": 42,
   "id": "5b7ffcbb-4720-42cc-b9a3-8cfefe013366",
   "metadata": {
    "tags": []
   },
   "outputs": [
    {
     "data": {
      "text/plain": [
       "float"
      ]
     },
     "execution_count": 42,
     "metadata": {},
     "output_type": "execute_result"
    }
   ],
   "source": [
    "type(3.14)"
   ]
  },
  {
   "cell_type": "code",
   "execution_count": 43,
   "id": "4405f39f-ea86-4561-83b2-a1b6b8efdc56",
   "metadata": {
    "tags": []
   },
   "outputs": [
    {
     "data": {
      "text/plain": [
       "str"
      ]
     },
     "execution_count": 43,
     "metadata": {},
     "output_type": "execute_result"
    }
   ],
   "source": [
    "type(\"PlayStation\")"
   ]
  },
  {
   "cell_type": "code",
   "execution_count": 44,
   "id": "44b114d1-01f0-4ab3-803f-7ba017914589",
   "metadata": {
    "tags": []
   },
   "outputs": [
    {
     "data": {
      "text/plain": [
       "bool"
      ]
     },
     "execution_count": 44,
     "metadata": {},
     "output_type": "execute_result"
    }
   ],
   "source": [
    "type(True)\n",
    "type(False)"
   ]
  },
  {
   "cell_type": "code",
   "execution_count": null,
   "id": "cedee769-05fc-41ef-93fb-1ce163516bf8",
   "metadata": {},
   "outputs": [],
   "source": []
  },
  {
   "cell_type": "code",
   "execution_count": null,
   "id": "ae145ac5-f986-42ed-a432-53c182e9f431",
   "metadata": {},
   "outputs": [],
   "source": []
  },
  {
   "cell_type": "code",
   "execution_count": null,
   "id": "d67188b5-b44a-41d1-b2df-8980ed0cb028",
   "metadata": {},
   "outputs": [],
   "source": []
  },
  {
   "cell_type": "code",
   "execution_count": null,
   "id": "e68f43e5-d35a-45e1-a1f5-9c2305ab07f9",
   "metadata": {},
   "outputs": [],
   "source": []
  },
  {
   "cell_type": "code",
   "execution_count": null,
   "id": "3440e2b4-38cd-424f-b06d-95cb4fe824ec",
   "metadata": {},
   "outputs": [],
   "source": []
  },
  {
   "cell_type": "code",
   "execution_count": null,
   "id": "9c9cad2c-7cb1-48b4-a377-b44087847b2b",
   "metadata": {},
   "outputs": [],
   "source": []
  },
  {
   "cell_type": "markdown",
   "id": "cf976284",
   "metadata": {},
   "source": [
    "## Custom Functions\n",
    "- Define a function with the `def` keyword, a name, a parameter list, and a colon.\n",
    "- Functions names should follow a `snake_case` naming convention.\n",
    "- A **parameter** is a name for an expected input.\n",
    "- Write the function's logic inside a nested block. The end of the block marks the end of the function logic.\n",
    "- Variables declared inside a function body will only last as long as the function runs.\n",
    "- Use the **return** keyword to specify the function's return value (output).\n",
    "- When invoking a function, we can pass in argument sequentially or with explicit parameter names.\n",
    "- A **default argument** is a fallback value that Python will provide if an argument is not passed for a parameter during invocation."
   ]
  },
  {
   "cell_type": "code",
   "execution_count": 45,
   "id": "5b251bcf",
   "metadata": {},
   "outputs": [],
   "source": [
    "# Declare a function that accepts a temperature in Celsius and returns it in Fahrenheit\n",
    "\n",
    "# Parameter - a name for an expected argument\n",
    "def convert_to_fahrenheit(celsius_temp):\n",
    "    calculation = celsius_temp * 1.8\n",
    "    return calculation + 32"
   ]
  },
  {
   "cell_type": "code",
   "execution_count": 46,
   "id": "50ef6f0a-a9d2-4e03-8c2a-570246d34729",
   "metadata": {},
   "outputs": [
    {
     "data": {
      "text/plain": [
       "5"
      ]
     },
     "execution_count": 46,
     "metadata": {},
     "output_type": "execute_result"
    }
   ],
   "source": [
    "len(\"Hello\")"
   ]
  },
  {
   "cell_type": "code",
   "execution_count": 47,
   "id": "56b074bc-6296-43a1-8d0b-317685d9972c",
   "metadata": {},
   "outputs": [
    {
     "data": {
      "text/plain": [
       "32.0"
      ]
     },
     "execution_count": 47,
     "metadata": {},
     "output_type": "execute_result"
    }
   ],
   "source": [
    "convert_to_fahrenheit(0)"
   ]
  },
  {
   "cell_type": "code",
   "execution_count": 48,
   "id": "1c2c70f9-1d83-45c7-89c2-b507a634592c",
   "metadata": {},
   "outputs": [
    {
     "data": {
      "text/plain": [
       "57.2"
      ]
     },
     "execution_count": 48,
     "metadata": {},
     "output_type": "execute_result"
    }
   ],
   "source": [
    "convert_to_fahrenheit(14)"
   ]
  },
  {
   "cell_type": "code",
   "execution_count": 49,
   "id": "ac1a5d5e-2e85-4d29-9c54-8eb383c6f360",
   "metadata": {},
   "outputs": [
    {
     "data": {
      "text/plain": [
       "75.2"
      ]
     },
     "execution_count": 49,
     "metadata": {},
     "output_type": "execute_result"
    }
   ],
   "source": [
    "convert_to_fahrenheit(celsius_temp=24)"
   ]
  },
  {
   "cell_type": "code",
   "execution_count": 50,
   "id": "4f235e43-39dc-484f-9d7e-a7ad956bc877",
   "metadata": {
    "tags": []
   },
   "outputs": [
    {
     "data": {
      "text/plain": [
       "212.0"
      ]
     },
     "execution_count": 50,
     "metadata": {},
     "output_type": "execute_result"
    }
   ],
   "source": [
    "convert_to_fahrenheit(100)"
   ]
  },
  {
   "cell_type": "code",
   "execution_count": 51,
   "id": "42b44c9f-6455-430e-b5d5-6721e4f814cf",
   "metadata": {},
   "outputs": [],
   "source": [
    "def convert_to_fahrenheit(celsius_temp=0):\n",
    "    calculation = celsius_temp * 1.8\n",
    "    return calculation + 32"
   ]
  },
  {
   "cell_type": "code",
   "execution_count": 52,
   "id": "949e1c4e-2613-40c7-81d8-3d7aef5ca14e",
   "metadata": {},
   "outputs": [
    {
     "data": {
      "text/plain": [
       "32.0"
      ]
     },
     "execution_count": 52,
     "metadata": {},
     "output_type": "execute_result"
    }
   ],
   "source": [
    "convert_to_fahrenheit()"
   ]
  },
  {
   "cell_type": "code",
   "execution_count": 53,
   "id": "3967381b-148b-4582-b3fa-49b9dea41801",
   "metadata": {},
   "outputs": [
    {
     "data": {
      "text/plain": [
       "122.0"
      ]
     },
     "execution_count": 53,
     "metadata": {},
     "output_type": "execute_result"
    }
   ],
   "source": [
    "convert_to_fahrenheit(50)"
   ]
  },
  {
   "cell_type": "code",
   "execution_count": null,
   "id": "b09d7e78-ab58-4597-bff7-b2f498129d94",
   "metadata": {},
   "outputs": [],
   "source": []
  },
  {
   "cell_type": "markdown",
   "id": "7875f148",
   "metadata": {},
   "source": [
    "## String Methods\n",
    "- An **object** is the technical term for a type. A string is an example of an object.\n",
    "- A **method** is like a function that belongs to an object.\n",
    "- To invoke a method, provide a period after the object, then the method name and a pair of parentheses.\n",
    "- We use similar terminology and syntax for functions and methods. We can invoke methods. We can pass arguments to methods. Methods can return values.\n",
    "- Objects can be **mutable** (capable of change) or **immutable** (incapable of change). A string is immutable.\n",
    "- Common string methods include `upper`, `lower`, `swapcase`, `title`, `capitalize`, and `strip`.\n",
    "- **Method chaining** refers to invoking methods on objects returned by previous method invocations. We create a link or \"chain\" of methods.\n",
    "- The **in** and **not in** keywords check for the presence and absence of a substring within a string."
   ]
  },
  {
   "cell_type": "code",
   "execution_count": 54,
   "id": "1a373ab8",
   "metadata": {},
   "outputs": [],
   "source": [
    "profession = \"Python Developer\""
   ]
  },
  {
   "cell_type": "code",
   "execution_count": 55,
   "id": "32bb3dbb-2dd9-484e-a061-53a88a3697dc",
   "metadata": {
    "tags": []
   },
   "outputs": [
    {
     "data": {
      "text/plain": [
       "'PYTHON DEVELOPER'"
      ]
     },
     "execution_count": 55,
     "metadata": {},
     "output_type": "execute_result"
    }
   ],
   "source": [
    "profession.upper()"
   ]
  },
  {
   "cell_type": "code",
   "execution_count": 56,
   "id": "adc02083-adff-4ca5-a27b-199578a91318",
   "metadata": {
    "tags": []
   },
   "outputs": [
    {
     "data": {
      "text/plain": [
       "'python developer'"
      ]
     },
     "execution_count": 56,
     "metadata": {},
     "output_type": "execute_result"
    }
   ],
   "source": [
    "profession.lower()"
   ]
  },
  {
   "cell_type": "code",
   "execution_count": 57,
   "id": "fc87cf3c-e56d-4f9c-8b27-3e00aacd8f12",
   "metadata": {
    "tags": []
   },
   "outputs": [
    {
     "data": {
      "text/plain": [
       "'pYTHON dEVELOPER'"
      ]
     },
     "execution_count": 57,
     "metadata": {},
     "output_type": "execute_result"
    }
   ],
   "source": [
    "profession.swapcase()"
   ]
  },
  {
   "cell_type": "code",
   "execution_count": 58,
   "id": "1686b6c2-10e2-4e45-8f20-cc633731335b",
   "metadata": {
    "tags": []
   },
   "outputs": [
    {
     "data": {
      "text/plain": [
       "'Once Upon A Time'"
      ]
     },
     "execution_count": 58,
     "metadata": {},
     "output_type": "execute_result"
    }
   ],
   "source": [
    "\"once upon a time\".title()"
   ]
  },
  {
   "cell_type": "code",
   "execution_count": 59,
   "id": "070c567b-62b0-4089-a372-876265242bec",
   "metadata": {
    "tags": []
   },
   "outputs": [
    {
     "data": {
      "text/plain": [
       "'Once upon a time'"
      ]
     },
     "execution_count": 59,
     "metadata": {},
     "output_type": "execute_result"
    }
   ],
   "source": [
    "\"once upon a time\".capitalize()"
   ]
  },
  {
   "cell_type": "code",
   "execution_count": 60,
   "id": "f9cddde5-ab35-4897-bbad-c5692df59ee6",
   "metadata": {
    "tags": []
   },
   "outputs": [],
   "source": [
    "profession = \"       Python Developer       \""
   ]
  },
  {
   "cell_type": "code",
   "execution_count": 61,
   "id": "88cc7631-a744-4ca0-aa9e-0eb317e72f35",
   "metadata": {
    "tags": []
   },
   "outputs": [
    {
     "data": {
      "text/plain": [
       "'Python Developer       '"
      ]
     },
     "execution_count": 61,
     "metadata": {},
     "output_type": "execute_result"
    }
   ],
   "source": [
    "profession.lstrip()"
   ]
  },
  {
   "cell_type": "code",
   "execution_count": 62,
   "id": "4b80a9b9-30ca-47b7-860a-63ecdafaedc2",
   "metadata": {
    "tags": []
   },
   "outputs": [
    {
     "data": {
      "text/plain": [
       "'       Python Developer'"
      ]
     },
     "execution_count": 62,
     "metadata": {},
     "output_type": "execute_result"
    }
   ],
   "source": [
    "profession.rstrip()"
   ]
  },
  {
   "cell_type": "code",
   "execution_count": 63,
   "id": "139c010e-8f60-4336-bf06-2e6b4fd6f2bf",
   "metadata": {
    "tags": []
   },
   "outputs": [
    {
     "data": {
      "text/plain": [
       "'python developer'"
      ]
     },
     "execution_count": 63,
     "metadata": {},
     "output_type": "execute_result"
    }
   ],
   "source": [
    "profession.lstrip().rstrip().lower()"
   ]
  },
  {
   "cell_type": "code",
   "execution_count": 64,
   "id": "08c89584-c926-47f1-b0a8-e6ba1843f502",
   "metadata": {
    "tags": []
   },
   "outputs": [
    {
     "data": {
      "text/plain": [
       "'Python Developer'"
      ]
     },
     "execution_count": 64,
     "metadata": {},
     "output_type": "execute_result"
    }
   ],
   "source": [
    "profession.strip()"
   ]
  },
  {
   "cell_type": "code",
   "execution_count": 65,
   "id": "1e3178a9-d559-458e-a38e-99050d7f8e11",
   "metadata": {
    "tags": []
   },
   "outputs": [
    {
     "data": {
      "text/plain": [
       "'       Python D*v*lop*r       '"
      ]
     },
     "execution_count": 65,
     "metadata": {},
     "output_type": "execute_result"
    }
   ],
   "source": [
    "profession.replace(\"e\", \"*\")"
   ]
  },
  {
   "cell_type": "code",
   "execution_count": 66,
   "id": "2d22aa33-3771-4530-aab5-0d1b59ce7142",
   "metadata": {
    "tags": []
   },
   "outputs": [
    {
     "data": {
      "text/plain": [
       "'Python D*v*lop*r'"
      ]
     },
     "execution_count": 66,
     "metadata": {},
     "output_type": "execute_result"
    }
   ],
   "source": [
    "profession.strip().replace(\"e\", \"*\")"
   ]
  },
  {
   "cell_type": "code",
   "execution_count": 67,
   "id": "0d1f08a8-4135-4e4c-aabc-4c6d7c02b0be",
   "metadata": {
    "tags": []
   },
   "outputs": [
    {
     "data": {
      "text/plain": [
       "'Python Developer'"
      ]
     },
     "execution_count": 67,
     "metadata": {},
     "output_type": "execute_result"
    }
   ],
   "source": [
    "profession.strip()"
   ]
  },
  {
   "cell_type": "code",
   "execution_count": 68,
   "id": "ce2358d3-5584-4a6d-a664-a55b2f7ce4ff",
   "metadata": {
    "tags": []
   },
   "outputs": [
    {
     "data": {
      "text/plain": [
       "True"
      ]
     },
     "execution_count": 68,
     "metadata": {},
     "output_type": "execute_result"
    }
   ],
   "source": [
    "profession.strip().startswith(\"Pyt\")"
   ]
  },
  {
   "cell_type": "code",
   "execution_count": 69,
   "id": "3cee8b64-99a8-4c76-80b9-aa3ba0888918",
   "metadata": {
    "tags": []
   },
   "outputs": [
    {
     "data": {
      "text/plain": [
       "False"
      ]
     },
     "execution_count": 69,
     "metadata": {},
     "output_type": "execute_result"
    }
   ],
   "source": [
    "profession.strip().startswith(\"p\")"
   ]
  },
  {
   "cell_type": "code",
   "execution_count": 70,
   "id": "a569b9f3-cb54-4372-aff2-b01d4af1d147",
   "metadata": {
    "tags": []
   },
   "outputs": [
    {
     "data": {
      "text/plain": [
       "True"
      ]
     },
     "execution_count": 70,
     "metadata": {},
     "output_type": "execute_result"
    }
   ],
   "source": [
    "profession.strip().endswith(\"oper\")"
   ]
  },
  {
   "cell_type": "code",
   "execution_count": 71,
   "id": "000f7f12-b74e-4d15-b820-edb41816f601",
   "metadata": {
    "tags": []
   },
   "outputs": [
    {
     "data": {
      "text/plain": [
       "False"
      ]
     },
     "execution_count": 71,
     "metadata": {},
     "output_type": "execute_result"
    }
   ],
   "source": [
    "profession.strip().endswith(\"oper \")"
   ]
  },
  {
   "cell_type": "code",
   "execution_count": 72,
   "id": "e0f1e2a0-88e8-4aba-b82d-bf202d6a3452",
   "metadata": {
    "tags": []
   },
   "outputs": [
    {
     "data": {
      "text/plain": [
       "True"
      ]
     },
     "execution_count": 72,
     "metadata": {},
     "output_type": "execute_result"
    }
   ],
   "source": [
    "# in - checks for inclusion\n",
    "\"Dev\" in profession.strip()"
   ]
  },
  {
   "cell_type": "code",
   "execution_count": 73,
   "id": "ae3965c3-bb76-4b16-9d83-d3280a057cb8",
   "metadata": {
    "tags": []
   },
   "outputs": [
    {
     "data": {
      "text/plain": [
       "False"
      ]
     },
     "execution_count": 73,
     "metadata": {},
     "output_type": "execute_result"
    }
   ],
   "source": [
    "\"dev\" in profession.strip()"
   ]
  },
  {
   "cell_type": "code",
   "execution_count": 74,
   "id": "45e2c57d-d433-48f1-9e6e-9de72b8868e2",
   "metadata": {
    "tags": []
   },
   "outputs": [
    {
     "data": {
      "text/plain": [
       "True"
      ]
     },
     "execution_count": 74,
     "metadata": {},
     "output_type": "execute_result"
    }
   ],
   "source": [
    "\"dev\" not in profession.strip()"
   ]
  },
  {
   "cell_type": "code",
   "execution_count": 75,
   "id": "4ded441f-446a-4089-81d9-257bee11a65f",
   "metadata": {
    "tags": []
   },
   "outputs": [
    {
     "data": {
      "text/plain": [
       "False"
      ]
     },
     "execution_count": 75,
     "metadata": {},
     "output_type": "execute_result"
    }
   ],
   "source": [
    "\"Dev\" not in profession.strip()"
   ]
  },
  {
   "cell_type": "markdown",
   "id": "56ea194e",
   "metadata": {},
   "source": [
    "## Lists\n",
    "- A **list** is a mutable data structure that holds an ordered collection of values.\n",
    "- We often use the term **element** to describe an item in the list.\n",
    "- The length of a list is its number of elements.\n",
    "- The **append** method adds an element to the end of the list.\n",
    "- The **pop** methods remove the last element from the list.\n",
    "- The **in** and **not in** keywords check whether or not an element exists within a list."
   ]
  },
  {
   "cell_type": "code",
   "execution_count": 76,
   "id": "470fa6c6-1898-42cc-844d-6462b5a1b136",
   "metadata": {
    "tags": []
   },
   "outputs": [
    {
     "data": {
      "text/plain": [
       "[4, 8, 15, 16, 23, 42]"
      ]
     },
     "execution_count": 76,
     "metadata": {},
     "output_type": "execute_result"
    }
   ],
   "source": [
    "[4, 8, 15, 16, 23, 42]"
   ]
  },
  {
   "cell_type": "code",
   "execution_count": 77,
   "id": "eb1da8d9-f8c1-4d53-8baa-c8143fb0007b",
   "metadata": {
    "tags": []
   },
   "outputs": [
    {
     "data": {
      "text/plain": [
       "[True, False, True, True, False]"
      ]
     },
     "execution_count": 77,
     "metadata": {},
     "output_type": "execute_result"
    }
   ],
   "source": [
    "[True, False, True, True, False]"
   ]
  },
  {
   "cell_type": "code",
   "execution_count": 78,
   "id": "1a9ffc91-06d9-4469-9520-c607b7a2e468",
   "metadata": {
    "tags": []
   },
   "outputs": [],
   "source": [
    "party_attendees = [\"Michael\", \"Freddy\", \"Jason\"]"
   ]
  },
  {
   "cell_type": "code",
   "execution_count": 79,
   "id": "dc34cb57-b7eb-446c-8574-9de11e9a002e",
   "metadata": {
    "tags": []
   },
   "outputs": [
    {
     "data": {
      "text/plain": [
       "['Michael', 'Freddy', 'Jason']"
      ]
     },
     "execution_count": 79,
     "metadata": {},
     "output_type": "execute_result"
    }
   ],
   "source": [
    "party_attendees"
   ]
  },
  {
   "cell_type": "code",
   "execution_count": 80,
   "id": "9d98b3dc-067d-49b7-82b5-75bca227f15f",
   "metadata": {
    "tags": []
   },
   "outputs": [
    {
     "data": {
      "text/plain": [
       "6"
      ]
     },
     "execution_count": 80,
     "metadata": {},
     "output_type": "execute_result"
    }
   ],
   "source": [
    "len(\"Python\")"
   ]
  },
  {
   "cell_type": "code",
   "execution_count": 81,
   "id": "b0d9c116-3c51-465f-a324-7a0ae4151b03",
   "metadata": {
    "tags": []
   },
   "outputs": [
    {
     "data": {
      "text/plain": [
       "3"
      ]
     },
     "execution_count": 81,
     "metadata": {},
     "output_type": "execute_result"
    }
   ],
   "source": [
    "len(party_attendees)"
   ]
  },
  {
   "cell_type": "code",
   "execution_count": 82,
   "id": "58dee1f1-1c13-43f7-a748-d6a8a6b24595",
   "metadata": {
    "tags": []
   },
   "outputs": [
    {
     "data": {
      "text/plain": [
       "list"
      ]
     },
     "execution_count": 82,
     "metadata": {},
     "output_type": "execute_result"
    }
   ],
   "source": [
    "type(party_attendees)"
   ]
  },
  {
   "cell_type": "code",
   "execution_count": 83,
   "id": "4939618b-eb58-4cc9-9d5f-ac0db3559cd0",
   "metadata": {
    "tags": []
   },
   "outputs": [
    {
     "data": {
      "text/plain": [
       "['Washington', 'Jefferson']"
      ]
     },
     "execution_count": 83,
     "metadata": {},
     "output_type": "execute_result"
    }
   ],
   "source": [
    "presidents = [\"Washington\", \"Jefferson\"]\n",
    "presidents"
   ]
  },
  {
   "cell_type": "code",
   "execution_count": 84,
   "id": "3dc951eb-2c3f-4fd5-8514-dd00a1323403",
   "metadata": {
    "tags": []
   },
   "outputs": [],
   "source": [
    "presidents.append(\"Madison\")"
   ]
  },
  {
   "cell_type": "code",
   "execution_count": 85,
   "id": "5076d5ae-09d3-41a7-bd2f-fd9c6178be2f",
   "metadata": {
    "tags": []
   },
   "outputs": [
    {
     "data": {
      "text/plain": [
       "['Washington', 'Jefferson', 'Madison']"
      ]
     },
     "execution_count": 85,
     "metadata": {},
     "output_type": "execute_result"
    }
   ],
   "source": [
    "presidents"
   ]
  },
  {
   "cell_type": "code",
   "execution_count": 86,
   "id": "0f7afedf-3404-4eb8-b6d2-a3c7f9ddc192",
   "metadata": {
    "tags": []
   },
   "outputs": [
    {
     "data": {
      "text/plain": [
       "['Salted', 'Unsalted', 'Caramel']"
      ]
     },
     "execution_count": 86,
     "metadata": {},
     "output_type": "execute_result"
    }
   ],
   "source": [
    "popcorn_flavors = [\"Salted\", \"Unsalted\", \"Caramel\"]\n",
    "popcorn_flavors"
   ]
  },
  {
   "cell_type": "code",
   "execution_count": 87,
   "id": "91cf6475-fd3c-4d07-8558-79857f81fd36",
   "metadata": {
    "tags": []
   },
   "outputs": [
    {
     "data": {
      "text/plain": [
       "'Caramel'"
      ]
     },
     "execution_count": 87,
     "metadata": {},
     "output_type": "execute_result"
    }
   ],
   "source": [
    "popcorn_flavors.pop()"
   ]
  },
  {
   "cell_type": "code",
   "execution_count": 88,
   "id": "eaa3ccc2-46b0-438a-be61-9dcd85cf0f04",
   "metadata": {
    "tags": []
   },
   "outputs": [
    {
     "data": {
      "text/plain": [
       "['Salted', 'Unsalted']"
      ]
     },
     "execution_count": 88,
     "metadata": {},
     "output_type": "execute_result"
    }
   ],
   "source": [
    "popcorn_flavors"
   ]
  },
  {
   "cell_type": "code",
   "execution_count": 89,
   "id": "0acad2d8-8d01-4bb0-896e-75d8ea3a1f12",
   "metadata": {
    "tags": []
   },
   "outputs": [
    {
     "data": {
      "text/plain": [
       "['Mercury', 'Venus', 'Earth', 'Mars']"
      ]
     },
     "execution_count": 89,
     "metadata": {},
     "output_type": "execute_result"
    }
   ],
   "source": [
    "planets = [\"Mercury\", \"Venus\", \"Earth\", \"Mars\"]\n",
    "planets"
   ]
  },
  {
   "cell_type": "code",
   "execution_count": 90,
   "id": "b0b4f2aa-e3bf-4f8f-947f-ff598862d73b",
   "metadata": {
    "tags": []
   },
   "outputs": [
    {
     "data": {
      "text/plain": [
       "True"
      ]
     },
     "execution_count": 90,
     "metadata": {},
     "output_type": "execute_result"
    }
   ],
   "source": [
    "\"Earth\" in planets"
   ]
  },
  {
   "cell_type": "code",
   "execution_count": 91,
   "id": "0647c3fe-ff73-4cff-b47c-b8ce8639ec24",
   "metadata": {
    "tags": []
   },
   "outputs": [
    {
     "data": {
      "text/plain": [
       "False"
      ]
     },
     "execution_count": 91,
     "metadata": {},
     "output_type": "execute_result"
    }
   ],
   "source": [
    "\"earth\" in planets"
   ]
  },
  {
   "cell_type": "code",
   "execution_count": 92,
   "id": "fd52abc1-ff31-42e5-9655-b10ff0bc85c6",
   "metadata": {
    "tags": []
   },
   "outputs": [
    {
     "data": {
      "text/plain": [
       "True"
      ]
     },
     "execution_count": 92,
     "metadata": {},
     "output_type": "execute_result"
    }
   ],
   "source": [
    "\"Pluto\" not in planets"
   ]
  },
  {
   "cell_type": "code",
   "execution_count": 93,
   "id": "859dd0c9-e0c8-40a7-9b3b-69bb8e095c56",
   "metadata": {
    "tags": []
   },
   "outputs": [
    {
     "data": {
      "text/plain": [
       "False"
      ]
     },
     "execution_count": 93,
     "metadata": {},
     "output_type": "execute_result"
    }
   ],
   "source": [
    "\"Mars\" not in planets"
   ]
  },
  {
   "cell_type": "markdown",
   "id": "39e4d0be",
   "metadata": {},
   "source": [
    "## Index Positions and Slicing\n",
    "- Python assigns every string character an index position (an order in line).\n",
    "- Python assigns every list element an index position (an order in line).\n",
    "- The index starts counting at 0.\n",
    "- Use square brackets to extract a character/element by index position.\n",
    "- Use negative values to extract a character/element relative to the end of the object.\n",
    "- Use slicing to extract multiple character/elements."
   ]
  },
  {
   "cell_type": "code",
   "execution_count": 94,
   "id": "68d53beb-ecfa-4914-8cd8-910fb0785f10",
   "metadata": {},
   "outputs": [
    {
     "data": {
      "text/plain": [
       "'Spiderman'"
      ]
     },
     "execution_count": 94,
     "metadata": {},
     "output_type": "execute_result"
    }
   ],
   "source": [
    "hero = \"Spiderman\"\n",
    "hero"
   ]
  },
  {
   "cell_type": "code",
   "execution_count": 95,
   "id": "b3c502be-02e1-4772-a8a5-a82c5a0fb025",
   "metadata": {},
   "outputs": [
    {
     "data": {
      "text/plain": [
       "9"
      ]
     },
     "execution_count": 95,
     "metadata": {},
     "output_type": "execute_result"
    }
   ],
   "source": [
    "len(hero)"
   ]
  },
  {
   "cell_type": "code",
   "execution_count": 96,
   "id": "99698bd9-3815-49a6-b8d9-9841b62de5d8",
   "metadata": {},
   "outputs": [],
   "source": [
    "# 0 1 2 3 4 5 6 7 8\n",
    "# S p i d e r m a n"
   ]
  },
  {
   "cell_type": "code",
   "execution_count": 97,
   "id": "a30e87aa-79ab-48f7-b7f5-fd0e7e4cce94",
   "metadata": {},
   "outputs": [
    {
     "data": {
      "text/plain": [
       "'n'"
      ]
     },
     "execution_count": 97,
     "metadata": {},
     "output_type": "execute_result"
    }
   ],
   "source": [
    "hero[0]\n",
    "hero[1]\n",
    "hero[5]\n",
    "hero[8]\n",
    "\n",
    "# hero[100]"
   ]
  },
  {
   "cell_type": "code",
   "execution_count": 98,
   "id": "536610aa-1a67-47c8-b487-c36071649bea",
   "metadata": {},
   "outputs": [
    {
     "data": {
      "text/plain": [
       "'S'"
      ]
     },
     "execution_count": 98,
     "metadata": {},
     "output_type": "execute_result"
    }
   ],
   "source": [
    "hero[-1]\n",
    "hero[-2]\n",
    "hero[-8]\n",
    "hero[-9]\n",
    "\n",
    "# hero[-50]"
   ]
  },
  {
   "cell_type": "code",
   "execution_count": 99,
   "id": "f1c58bb1-13a6-4e17-91cc-2b3c43ab2137",
   "metadata": {},
   "outputs": [
    {
     "data": {
      "text/plain": [
       "'ider'"
      ]
     },
     "execution_count": 99,
     "metadata": {},
     "output_type": "execute_result"
    }
   ],
   "source": [
    "hero[1:3]\n",
    "hero[2:6]"
   ]
  },
  {
   "cell_type": "code",
   "execution_count": 100,
   "id": "98838732-6592-4c91-b876-0671ed8c67b9",
   "metadata": {},
   "outputs": [
    {
     "data": {
      "text/plain": [
       "'Spider'"
      ]
     },
     "execution_count": 100,
     "metadata": {},
     "output_type": "execute_result"
    }
   ],
   "source": [
    "hero[0:6]\n",
    "hero[:6]"
   ]
  },
  {
   "cell_type": "code",
   "execution_count": 101,
   "id": "edb5bee2-4909-4894-8616-3f23e4c1c225",
   "metadata": {},
   "outputs": [
    {
     "data": {
      "text/plain": [
       "'derman'"
      ]
     },
     "execution_count": 101,
     "metadata": {},
     "output_type": "execute_result"
    }
   ],
   "source": [
    "hero[3:100]\n",
    "hero[3:]"
   ]
  },
  {
   "cell_type": "code",
   "execution_count": 102,
   "id": "33b4efee-4c33-4920-9bd8-77d43a9695ce",
   "metadata": {},
   "outputs": [
    {
     "data": {
      "text/plain": [
       "'derm'"
      ]
     },
     "execution_count": 102,
     "metadata": {},
     "output_type": "execute_result"
    }
   ],
   "source": [
    "hero[3:-2]"
   ]
  },
  {
   "cell_type": "code",
   "execution_count": 103,
   "id": "ebead1a7-faff-4ed8-a61b-1af15251efa6",
   "metadata": {},
   "outputs": [
    {
     "data": {
      "text/plain": [
       "['Batman', 'Superman', 'Wolverine', 'Ironman', 'Arnold Schwarzenegger']"
      ]
     },
     "execution_count": 103,
     "metadata": {},
     "output_type": "execute_result"
    }
   ],
   "source": [
    "superheroes = [\"Batman\", \"Superman\", \"Wolverine\", \"Ironman\", \"Arnold Schwarzenegger\"]\n",
    "superheroes"
   ]
  },
  {
   "cell_type": "code",
   "execution_count": 104,
   "id": "c4e7e191-a739-4cb9-b650-9e7bd3d0cf2b",
   "metadata": {},
   "outputs": [
    {
     "data": {
      "text/plain": [
       "'Arnold Schwarzenegger'"
      ]
     },
     "execution_count": 104,
     "metadata": {},
     "output_type": "execute_result"
    }
   ],
   "source": [
    "superheroes[0]\n",
    "superheroes[1]\n",
    "superheroes[4]"
   ]
  },
  {
   "cell_type": "code",
   "execution_count": 105,
   "id": "d155feec-d82e-47b9-9c75-5bfdfd382f88",
   "metadata": {},
   "outputs": [
    {
     "data": {
      "text/plain": [
       "5"
      ]
     },
     "execution_count": 105,
     "metadata": {},
     "output_type": "execute_result"
    }
   ],
   "source": [
    "len(superheroes)"
   ]
  },
  {
   "cell_type": "code",
   "execution_count": 106,
   "id": "5b6f3697-497a-4b63-8258-307faeef947c",
   "metadata": {},
   "outputs": [
    {
     "data": {
      "text/plain": [
       "'Wolverine'"
      ]
     },
     "execution_count": 106,
     "metadata": {},
     "output_type": "execute_result"
    }
   ],
   "source": [
    "superheroes[-1]\n",
    "superheroes[-3]"
   ]
  },
  {
   "cell_type": "code",
   "execution_count": 107,
   "id": "5cac7457-baea-4522-8fc4-e0d98833711c",
   "metadata": {},
   "outputs": [
    {
     "data": {
      "text/plain": [
       "['Superman', 'Wolverine']"
      ]
     },
     "execution_count": 107,
     "metadata": {},
     "output_type": "execute_result"
    }
   ],
   "source": [
    "superheroes[1:3]"
   ]
  },
  {
   "cell_type": "code",
   "execution_count": 108,
   "id": "418f62ee-b391-4a5d-87f3-536af05217b5",
   "metadata": {},
   "outputs": [
    {
     "data": {
      "text/plain": [
       "['Batman', 'Superman', 'Wolverine', 'Ironman']"
      ]
     },
     "execution_count": 108,
     "metadata": {},
     "output_type": "execute_result"
    }
   ],
   "source": [
    "superheroes[0:4]\n",
    "superheroes[:4]"
   ]
  },
  {
   "cell_type": "code",
   "execution_count": 109,
   "id": "d1c40816-31fd-4f66-8ed3-4dbda0526963",
   "metadata": {},
   "outputs": [
    {
     "data": {
      "text/plain": [
       "['Ironman', 'Arnold Schwarzenegger']"
      ]
     },
     "execution_count": 109,
     "metadata": {},
     "output_type": "execute_result"
    }
   ],
   "source": [
    "superheroes[3:150]\n",
    "superheroes[3:]"
   ]
  },
  {
   "cell_type": "markdown",
   "id": "209b8921",
   "metadata": {},
   "source": [
    "## Dictionaries\n",
    "- A **dictionary** is a mutable, unordered collection of key-value pairs.\n",
    "- A **key** is a unique identifier for a value.\n",
    "- A **value** corresponds to the key. The values can contain duplicates.\n",
    "- Use a dictionary for **association** (i.e., to connect/map two values together). Use a list for **order**.\n",
    "- Declare a dictionary with a pair of curly braces.\n",
    "- Write a colon between every key and value.\n",
    "- Separate each key-value pair with a comma and a space.\n",
    "- The length of a dictionary is a count of its key-value pairs."
   ]
  },
  {
   "cell_type": "code",
   "execution_count": 110,
   "id": "69888935",
   "metadata": {},
   "outputs": [],
   "source": [
    "menu = { \n",
    "    \"Filet Mignon\": 29.99, \n",
    "    \"Big Mac\": 3.99, \n",
    "    \"Pizza\": 3.99, \n",
    "    \"Salmon\": 29.99 \n",
    "}"
   ]
  },
  {
   "cell_type": "code",
   "execution_count": 111,
   "id": "0e8f0c1c-df4f-405e-8471-162849e18828",
   "metadata": {
    "tags": []
   },
   "outputs": [
    {
     "data": {
      "text/plain": [
       "{'Filet Mignon': 29.99, 'Big Mac': 3.99, 'Pizza': 3.99, 'Salmon': 29.99}"
      ]
     },
     "execution_count": 111,
     "metadata": {},
     "output_type": "execute_result"
    }
   ],
   "source": [
    "menu"
   ]
  },
  {
   "cell_type": "code",
   "execution_count": 112,
   "id": "a114611f-2eda-4573-b688-423cf503400c",
   "metadata": {
    "tags": []
   },
   "outputs": [
    {
     "data": {
      "text/plain": [
       "4"
      ]
     },
     "execution_count": 112,
     "metadata": {},
     "output_type": "execute_result"
    }
   ],
   "source": [
    "len(menu)"
   ]
  },
  {
   "cell_type": "code",
   "execution_count": 113,
   "id": "fa1cfc98-7783-4241-8ba7-2c079c685684",
   "metadata": {
    "tags": []
   },
   "outputs": [
    {
     "data": {
      "text/plain": [
       "29.99"
      ]
     },
     "execution_count": 113,
     "metadata": {},
     "output_type": "execute_result"
    }
   ],
   "source": [
    "menu[\"Big Mac\"]\n",
    "menu[\"Salmon\"]\n",
    "# menu[\"Tuna\"]\n",
    "# menu[\"salmon\"]"
   ]
  },
  {
   "cell_type": "code",
   "execution_count": 114,
   "id": "5b183aa1-e4c6-452f-971a-e53bcf8532f8",
   "metadata": {
    "tags": []
   },
   "outputs": [],
   "source": [
    "menu[\"Burrito\"] = 13.99"
   ]
  },
  {
   "cell_type": "code",
   "execution_count": 115,
   "id": "3e24c1ee-9aa6-4c93-b890-87744886d433",
   "metadata": {
    "tags": []
   },
   "outputs": [
    {
     "data": {
      "text/plain": [
       "{'Filet Mignon': 29.99,\n",
       " 'Big Mac': 3.99,\n",
       " 'Pizza': 3.99,\n",
       " 'Salmon': 29.99,\n",
       " 'Burrito': 13.99}"
      ]
     },
     "execution_count": 115,
     "metadata": {},
     "output_type": "execute_result"
    }
   ],
   "source": [
    "menu"
   ]
  },
  {
   "cell_type": "code",
   "execution_count": 116,
   "id": "7894e127-2390-4479-9ec8-c67aa03a895a",
   "metadata": {
    "tags": []
   },
   "outputs": [],
   "source": [
    "menu[\"Big Mac\"] = 5.99"
   ]
  },
  {
   "cell_type": "code",
   "execution_count": 117,
   "id": "ea2b4d91-d1ff-4458-8e03-63924e00d090",
   "metadata": {
    "tags": []
   },
   "outputs": [
    {
     "data": {
      "text/plain": [
       "{'Filet Mignon': 29.99,\n",
       " 'Big Mac': 5.99,\n",
       " 'Pizza': 3.99,\n",
       " 'Salmon': 29.99,\n",
       " 'Burrito': 13.99}"
      ]
     },
     "execution_count": 117,
     "metadata": {},
     "output_type": "execute_result"
    }
   ],
   "source": [
    "menu"
   ]
  },
  {
   "cell_type": "code",
   "execution_count": 118,
   "id": "0e750e64-4b47-4fc8-b362-02c7514c5d74",
   "metadata": {
    "tags": []
   },
   "outputs": [
    {
     "data": {
      "text/plain": [
       "29.99"
      ]
     },
     "execution_count": 118,
     "metadata": {},
     "output_type": "execute_result"
    }
   ],
   "source": [
    "menu.pop(\"Filet Mignon\")"
   ]
  },
  {
   "cell_type": "code",
   "execution_count": 119,
   "id": "d1694037-ad27-4b77-ba82-83ab0ed05eee",
   "metadata": {
    "tags": []
   },
   "outputs": [
    {
     "data": {
      "text/plain": [
       "{'Big Mac': 5.99, 'Pizza': 3.99, 'Salmon': 29.99, 'Burrito': 13.99}"
      ]
     },
     "execution_count": 119,
     "metadata": {},
     "output_type": "execute_result"
    }
   ],
   "source": [
    "menu"
   ]
  },
  {
   "cell_type": "code",
   "execution_count": 120,
   "id": "fd1f80f0-44d3-4909-9f48-4d95d5883b6b",
   "metadata": {
    "tags": []
   },
   "outputs": [
    {
     "data": {
      "text/plain": [
       "True"
      ]
     },
     "execution_count": 120,
     "metadata": {},
     "output_type": "execute_result"
    }
   ],
   "source": [
    "\"Pizza\" in menu"
   ]
  },
  {
   "cell_type": "code",
   "execution_count": 121,
   "id": "3eff756f-cdfa-4a6b-bbb1-b544a15f02e3",
   "metadata": {
    "tags": []
   },
   "outputs": [
    {
     "data": {
      "text/plain": [
       "False"
      ]
     },
     "execution_count": 121,
     "metadata": {},
     "output_type": "execute_result"
    }
   ],
   "source": [
    "\"Hot Pockets\" in menu"
   ]
  },
  {
   "cell_type": "code",
   "execution_count": 122,
   "id": "bfddd233-ee0d-46f2-9631-436e7bb11ac3",
   "metadata": {
    "tags": []
   },
   "outputs": [
    {
     "data": {
      "text/plain": [
       "False"
      ]
     },
     "execution_count": 122,
     "metadata": {},
     "output_type": "execute_result"
    }
   ],
   "source": [
    "5.99 in menu"
   ]
  },
  {
   "cell_type": "code",
   "execution_count": 123,
   "id": "39560c0d-6907-435f-abe9-51aa2ab9f271",
   "metadata": {
    "tags": []
   },
   "outputs": [
    {
     "data": {
      "text/plain": [
       "True"
      ]
     },
     "execution_count": 123,
     "metadata": {},
     "output_type": "execute_result"
    }
   ],
   "source": [
    "5.99 in menu.values()"
   ]
  },
  {
   "cell_type": "code",
   "execution_count": 124,
   "id": "e15eb970-67b9-4674-a4ab-973792f1283d",
   "metadata": {
    "tags": []
   },
   "outputs": [
    {
     "data": {
      "text/plain": [
       "True"
      ]
     },
     "execution_count": 124,
     "metadata": {},
     "output_type": "execute_result"
    }
   ],
   "source": [
    "\"Lasagna\" not in menu"
   ]
  },
  {
   "cell_type": "code",
   "execution_count": 125,
   "id": "31f431fc-6b67-4137-b5f1-0acfef903859",
   "metadata": {
    "tags": []
   },
   "outputs": [
    {
     "data": {
      "text/plain": [
       "False"
      ]
     },
     "execution_count": 125,
     "metadata": {},
     "output_type": "execute_result"
    }
   ],
   "source": [
    "\"Salmon\" not in menu"
   ]
  },
  {
   "cell_type": "code",
   "execution_count": 126,
   "id": "18d65f3d-f2d3-42e7-8be5-aae65a4855b9",
   "metadata": {
    "tags": []
   },
   "outputs": [
    {
     "data": {
      "text/plain": [
       "True"
      ]
     },
     "execution_count": 126,
     "metadata": {},
     "output_type": "execute_result"
    }
   ],
   "source": [
    "49.99 not in menu.values()"
   ]
  },
  {
   "cell_type": "markdown",
   "id": "f266aada-0759-4373-8874-7a6080a6a1a2",
   "metadata": {},
   "source": [
    "## Classes\n",
    "- A **class** is a blueprint/template for creating objects.\n",
    "- A **class** defines the methods/functionalities that objects made from it will have.\n",
    "- An object is called an **instance** of the class it is made from.\n",
    "- The act of creating an object from a class is called **instantiation**.\n",
    "- Every time we've worked with a Python object, it's been \"instantiated\" from a class.\n",
    "- In real world terms, a class is the blueprint and the house we build is the instance/object.\n",
    "- Syntax options like `\"\"` or `[]` or `{}` are shortcuts for instantiation.\n",
    "- For other classes, we'll need to use `class()` syntax to instantiate an object.\n",
    "- Much like functions and methods, some class instantiations will require arguments."
   ]
  },
  {
   "cell_type": "markdown",
   "id": "a62a901f-1f47-4682-925b-1564312e1fc2",
   "metadata": {
    "tags": []
   },
   "source": [
    "<img src=\"Blueprint.png\" width=\"600\" height=\"410\">"
   ]
  },
  {
   "cell_type": "markdown",
   "id": "40053702-9cb6-4f86-a03e-84fa97fb8b4e",
   "metadata": {},
   "source": [
    "## Navigating Libraries using Jupyter Lab"
   ]
  },
  {
   "cell_type": "code",
   "execution_count": 127,
   "id": "20545267-3f61-4c06-8318-601e9fae4b1e",
   "metadata": {
    "tags": []
   },
   "outputs": [],
   "source": [
    "import pandas as pd"
   ]
  },
  {
   "cell_type": "code",
   "execution_count": 128,
   "id": "a6b95663-b6cf-426a-8464-349813fbe947",
   "metadata": {},
   "outputs": [
    {
     "data": {
      "text/plain": [
       "pandas.core.arrays.categorical.Categorical"
      ]
     },
     "execution_count": 128,
     "metadata": {},
     "output_type": "execute_result"
    }
   ],
   "source": [
    "pd.Categorical"
   ]
  },
  {
   "cell_type": "code",
   "execution_count": 129,
   "id": "4d7ed499-dac8-4cfd-888f-e1c0491e8c2d",
   "metadata": {},
   "outputs": [],
   "source": [
    "# some_library\n",
    "\n",
    "# import some_library as sl\n",
    "\n",
    "# sl.Categorical"
   ]
  },
  {
   "cell_type": "code",
   "execution_count": null,
   "id": "10c45fb2-606a-48a3-a5b9-dd84c48fe090",
   "metadata": {},
   "outputs": [],
   "source": []
  },
  {
   "cell_type": "code",
   "execution_count": null,
   "id": "81ead5c9-db76-445d-937e-fb4ab925eef6",
   "metadata": {},
   "outputs": [],
   "source": []
  }
 ],
 "metadata": {
  "kernelspec": {
   "display_name": "Python 3 (ipykernel)",
   "language": "python",
   "name": "python3"
  },
  "language_info": {
   "codemirror_mode": {
    "name": "ipython",
    "version": 3
   },
   "file_extension": ".py",
   "mimetype": "text/x-python",
   "name": "python",
   "nbconvert_exporter": "python",
   "pygments_lexer": "ipython3",
   "version": "3.11.5"
  }
 },
 "nbformat": 4,
 "nbformat_minor": 5
}
