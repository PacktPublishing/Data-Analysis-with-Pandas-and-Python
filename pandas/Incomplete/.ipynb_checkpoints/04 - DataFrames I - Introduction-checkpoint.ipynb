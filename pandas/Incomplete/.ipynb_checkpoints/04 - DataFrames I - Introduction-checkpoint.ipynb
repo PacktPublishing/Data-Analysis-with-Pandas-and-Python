{
 "cells": [
  {
   "cell_type": "markdown",
   "id": "953f78eb",
   "metadata": {},
   "source": [
    "# DataFrames I"
   ]
  },
  {
   "cell_type": "code",
   "execution_count": null,
   "id": "b098a2b1",
   "metadata": {},
   "outputs": [],
   "source": []
  },
  {
   "cell_type": "markdown",
   "id": "a0d5e19f",
   "metadata": {},
   "source": [
    "## Methods and Attributes between Series and DataFrames\n",
    "- A **DataFrame** is a 2-dimensional table consisting of rows and columns.\n",
    "- Pandas uses a `NaN` designation for cells that have a missing value. It is short for \"not a number\". Most operations on `NaN` values will produce `NaN` values.\n",
    "- Like with a **Series**, Pandas assigns an index position/label to each **DataFrame** row.\n",
    "- The **DataFrame** and **Series** have common and exclusive methods/attributes.\n",
    "- The `hasnans` attribute exists only a **Series**. The `columns` attribute exists only on a **DataFrame**.\n",
    "- Some methods/attributes will return different types of data.\n",
    "- The `info` method returns a summary of the pandas object."
   ]
  },
  {
   "cell_type": "code",
   "execution_count": null,
   "id": "a0f61f9e-50bf-43e8-bcb5-15e7bbf35369",
   "metadata": {},
   "outputs": [],
   "source": []
  },
  {
   "cell_type": "code",
   "execution_count": null,
   "id": "596e9443-20f1-479e-89c7-d80169a5a60f",
   "metadata": {},
   "outputs": [],
   "source": []
  },
  {
   "cell_type": "code",
   "execution_count": null,
   "id": "ab3396a6-7c23-4e27-8738-91f209f6f610",
   "metadata": {},
   "outputs": [],
   "source": []
  },
  {
   "cell_type": "code",
   "execution_count": null,
   "id": "fdad99e0-2ff6-43e3-bebb-5543cb5e91a3",
   "metadata": {},
   "outputs": [],
   "source": []
  },
  {
   "cell_type": "code",
   "execution_count": null,
   "id": "02a7aa10-8161-4f5e-ad59-91f6f8266782",
   "metadata": {},
   "outputs": [],
   "source": []
  },
  {
   "cell_type": "code",
   "execution_count": null,
   "id": "0916f365-76be-4cce-bc1e-4957edbc0f97",
   "metadata": {},
   "outputs": [],
   "source": []
  },
  {
   "cell_type": "code",
   "execution_count": null,
   "id": "57ffa4ed-ec8a-4b81-81c3-e72324e514bd",
   "metadata": {},
   "outputs": [],
   "source": []
  },
  {
   "cell_type": "code",
   "execution_count": null,
   "id": "29e89392-c9d0-4c86-8a18-939eb3c3c8b2",
   "metadata": {},
   "outputs": [],
   "source": []
  },
  {
   "cell_type": "code",
   "execution_count": null,
   "id": "d415ecf2-31ee-4e3a-b7f7-bb77d105b062",
   "metadata": {},
   "outputs": [],
   "source": []
  },
  {
   "cell_type": "code",
   "execution_count": null,
   "id": "021f5d45-c92b-4097-bce8-1d3b40500db1",
   "metadata": {},
   "outputs": [],
   "source": []
  },
  {
   "cell_type": "code",
   "execution_count": null,
   "id": "b39a11b1-524c-4751-9ac4-9c994909f68f",
   "metadata": {},
   "outputs": [],
   "source": []
  },
  {
   "cell_type": "code",
   "execution_count": null,
   "id": "ddc675f2-9edb-491c-9470-bb5c9b70b6eb",
   "metadata": {},
   "outputs": [],
   "source": []
  },
  {
   "cell_type": "code",
   "execution_count": null,
   "id": "081d24dc-852e-48e4-9d8b-e52f868aa541",
   "metadata": {},
   "outputs": [],
   "source": []
  },
  {
   "cell_type": "markdown",
   "id": "62207b08",
   "metadata": {},
   "source": [
    "## Differences between Shared Methods\n",
    "- The `sum` method adds a **Series's** values.\n",
    "- On a **DataFrame**, the `sum` method defaults to adding the values by traversing the index (row values).\n",
    "- The `axis` parameter customizes the direction that we add across. Pass `\"columns\"` or `1` to add \"across\" the columns."
   ]
  },
  {
   "cell_type": "code",
   "execution_count": null,
   "id": "04fb2051-2756-4f17-9672-faad84f290f3",
   "metadata": {},
   "outputs": [],
   "source": []
  },
  {
   "cell_type": "code",
   "execution_count": null,
   "id": "583fc4c9-7d6d-4d88-a520-bc3433e442aa",
   "metadata": {},
   "outputs": [],
   "source": []
  },
  {
   "cell_type": "code",
   "execution_count": null,
   "id": "463a501f-8af3-49e0-93a3-a35327fd3b73",
   "metadata": {},
   "outputs": [],
   "source": []
  },
  {
   "cell_type": "markdown",
   "id": "b55398f0",
   "metadata": {},
   "source": [
    "## Select One Column from a DataFrame\n",
    "- We can use attribute syntax (`df.column_name`) to select a column from a **DataFrame**. The syntax will not work if the column name has spaces.\n",
    "- We can also use square bracket syntax (`df[\"column name\"]`) which will work for any column name.\n",
    "- Pandas extracts a column from a **DataFrame** as a **Series**.\n",
    "- The **Series** is a view, so changes to the **Series** *will* affect the **DataFrame**.\n",
    "- Pandas will display a warning if you mutate the **Series**. Use the `copy` method to create a duplicate."
   ]
  },
  {
   "cell_type": "code",
   "execution_count": null,
   "id": "95716d00-dcc4-44fe-9d38-39ab0a2ce782",
   "metadata": {},
   "outputs": [],
   "source": []
  },
  {
   "cell_type": "code",
   "execution_count": null,
   "id": "5be97bda-a164-4435-a662-7c241b1de4d6",
   "metadata": {},
   "outputs": [],
   "source": []
  },
  {
   "cell_type": "code",
   "execution_count": null,
   "id": "572b9d22-8105-4246-9f35-306d5357da86",
   "metadata": {},
   "outputs": [],
   "source": []
  },
  {
   "cell_type": "code",
   "execution_count": null,
   "id": "a3c83066-dbb5-4fea-85c0-f96ae33cb106",
   "metadata": {},
   "outputs": [],
   "source": []
  },
  {
   "cell_type": "code",
   "execution_count": null,
   "id": "5eb8fb06-8ffc-4492-8d0f-d4912ae9e0af",
   "metadata": {},
   "outputs": [],
   "source": []
  },
  {
   "cell_type": "code",
   "execution_count": null,
   "id": "659e7912-76fa-457d-a8b2-a5911d837fae",
   "metadata": {},
   "outputs": [],
   "source": []
  },
  {
   "cell_type": "code",
   "execution_count": null,
   "id": "b5772ac4-2470-4113-a0b8-9c0046ba4c3a",
   "metadata": {},
   "outputs": [],
   "source": []
  },
  {
   "cell_type": "markdown",
   "id": "771e31d7",
   "metadata": {},
   "source": [
    "## Select Multiple Columns from a DataFrame\n",
    "- Use square brackets with a list of names to extract multiple **DataFrame** columns.\n",
    "- Pandas stores the result in a new **DataFrame** (a copy)."
   ]
  },
  {
   "cell_type": "code",
   "execution_count": null,
   "id": "46886e4d-002e-432c-bbd6-4365c56882b3",
   "metadata": {},
   "outputs": [],
   "source": []
  },
  {
   "cell_type": "code",
   "execution_count": null,
   "id": "771c1a66-b619-4b3d-a3be-23c25caafd47",
   "metadata": {},
   "outputs": [],
   "source": []
  },
  {
   "cell_type": "markdown",
   "id": "7a5e932e",
   "metadata": {},
   "source": [
    "## Add New Column to DataFrame\n",
    "- Use square bracket extraction syntax with an equal sign to add a new **Series** to a **DataFrame**.\n",
    "- The `insert` method allows us to insert an element at a specific column index.\n",
    "- On the right-hand side, we can reference an existing **DataFrame** column and perform a broadcasting operation on it to create the new **Series**."
   ]
  },
  {
   "cell_type": "code",
   "execution_count": null,
   "id": "14418ecb-5a16-4dd1-83cc-19cdd533f421",
   "metadata": {},
   "outputs": [],
   "source": []
  },
  {
   "cell_type": "code",
   "execution_count": null,
   "id": "c66ca9b8-5989-48c8-bda2-0946f0ef27ba",
   "metadata": {},
   "outputs": [],
   "source": []
  },
  {
   "cell_type": "code",
   "execution_count": null,
   "id": "7471cc75-63aa-40f1-8cf0-2690c5376d23",
   "metadata": {
    "scrolled": true
   },
   "outputs": [],
   "source": []
  },
  {
   "cell_type": "code",
   "execution_count": null,
   "id": "decd61b6-ad7c-4862-bf6f-d35017be53f9",
   "metadata": {},
   "outputs": [],
   "source": []
  },
  {
   "cell_type": "code",
   "execution_count": null,
   "id": "964db4fe-194c-43d0-836a-88fd261bef20",
   "metadata": {},
   "outputs": [],
   "source": []
  },
  {
   "cell_type": "code",
   "execution_count": null,
   "id": "0adba0cc-4a40-402e-b560-68324e40395b",
   "metadata": {},
   "outputs": [],
   "source": []
  },
  {
   "cell_type": "code",
   "execution_count": null,
   "id": "fc21c80f-c8d6-4f68-b764-04d21716795c",
   "metadata": {},
   "outputs": [],
   "source": []
  },
  {
   "cell_type": "markdown",
   "id": "d98d7a8c",
   "metadata": {},
   "source": [
    "## A Review of the value_counts Method\n",
    "- The `value_counts` method counts the number of times that each unique value occurs in a **Series**."
   ]
  },
  {
   "cell_type": "code",
   "execution_count": null,
   "id": "20b6a7fd-deb2-4095-a09f-3ab98aaed441",
   "metadata": {},
   "outputs": [],
   "source": []
  },
  {
   "cell_type": "code",
   "execution_count": null,
   "id": "04702b40-777a-4da3-84d0-bc5709eb269d",
   "metadata": {},
   "outputs": [],
   "source": []
  },
  {
   "cell_type": "markdown",
   "id": "695a7ffa",
   "metadata": {},
   "source": [
    "## Drop Rows with Missing Values\n",
    "- Pandas uses a `NaN` designation for cells that have a missing value.\n",
    "- The `dropna` method deletes rows with missing values. Its default behavior is to remove a row if it has *any* missing values.\n",
    "- Pass the `how` parameter an argument of \"all\" to delete rows where all the values are `NaN`.\n",
    "- The `subset` parameters customizes/limits the columns that pandas will use to drop rows with missing values."
   ]
  },
  {
   "cell_type": "code",
   "execution_count": null,
   "id": "541d51d1-9c34-4b8a-b65a-b7f736b951f4",
   "metadata": {},
   "outputs": [],
   "source": []
  },
  {
   "cell_type": "code",
   "execution_count": null,
   "id": "08ec7d63-8bcb-46f8-aa30-b2e04e93e8c3",
   "metadata": {},
   "outputs": [],
   "source": []
  },
  {
   "cell_type": "markdown",
   "id": "8d33a3d7",
   "metadata": {},
   "source": [
    "## Fill in Missing Values with the fillna Method\n",
    "- The `fillna` method replaces missing `NaN` values with its argument.\n",
    "- The `fillna` method is available on both **DataFrames** and **Series**.\n",
    "- An extracted **Series** is a view on the original **DataFrame**, but the `fillna` method returns a copy."
   ]
  },
  {
   "cell_type": "code",
   "execution_count": null,
   "id": "6d087355-37b8-4348-a223-b0ae4435162e",
   "metadata": {},
   "outputs": [],
   "source": []
  },
  {
   "cell_type": "code",
   "execution_count": null,
   "id": "74f0392f-eb9e-4306-82f6-862311030faa",
   "metadata": {},
   "outputs": [],
   "source": []
  },
  {
   "cell_type": "code",
   "execution_count": null,
   "id": "ff8ffa8c-1868-4444-8455-fb513c3078c2",
   "metadata": {},
   "outputs": [],
   "source": []
  },
  {
   "cell_type": "code",
   "execution_count": null,
   "id": "735dab76-188e-4389-a13d-9008696a8e8b",
   "metadata": {},
   "outputs": [],
   "source": []
  },
  {
   "cell_type": "code",
   "execution_count": null,
   "id": "1ca94c54-9618-44b1-bbcd-dea486f8cd51",
   "metadata": {},
   "outputs": [],
   "source": []
  },
  {
   "cell_type": "markdown",
   "id": "bc7be33b",
   "metadata": {},
   "source": [
    "## The astype Method I\n",
    "- The `astype` method converts a **Series's** values to a specified type.\n",
    "- Pass in the specified type as either a string or the core Python data type.\n",
    "- Pandas cannot convert `NaN` values to numeric types, so we need to eliminate/replace them before we perform the conversion.\n",
    "- The `dtypes` attribute returns a **Series** with the **DataFrame's** columns and their types."
   ]
  },
  {
   "cell_type": "code",
   "execution_count": null,
   "id": "38f6a68b-abb9-4e32-81b5-6402a2b25eba",
   "metadata": {},
   "outputs": [],
   "source": []
  },
  {
   "cell_type": "code",
   "execution_count": null,
   "id": "9e3ac701-31cf-413b-8987-986c4e20c095",
   "metadata": {},
   "outputs": [],
   "source": []
  },
  {
   "cell_type": "code",
   "execution_count": null,
   "id": "ece08955-111c-4a7f-8590-0ce5cd458359",
   "metadata": {},
   "outputs": [],
   "source": []
  },
  {
   "cell_type": "code",
   "execution_count": null,
   "id": "7ec15d0f-5534-4d28-84b5-8475f37a6b19",
   "metadata": {},
   "outputs": [],
   "source": []
  },
  {
   "cell_type": "code",
   "execution_count": null,
   "id": "63a268dc-62b4-4f3d-9eb9-39350338fce5",
   "metadata": {},
   "outputs": [],
   "source": []
  },
  {
   "cell_type": "markdown",
   "id": "3f6381c2",
   "metadata": {},
   "source": [
    "## The astype Method II\n",
    "- The `category` type is ideal for columns with a limited number of unique values.\n",
    "- The `nunique` method will return a **Series** with the number of unique values in each column.\n",
    "- With categories, pandas does not create a separate value in memory for each \"cell\". Rather, the cells point to a single copy for each unique value."
   ]
  },
  {
   "cell_type": "code",
   "execution_count": null,
   "id": "e8017ea4-a4b9-4068-a0f7-ed86f51fc51f",
   "metadata": {},
   "outputs": [],
   "source": []
  },
  {
   "cell_type": "code",
   "execution_count": null,
   "id": "153dcfe2-77c5-44f7-8b9a-60b50fd78626",
   "metadata": {},
   "outputs": [],
   "source": []
  },
  {
   "cell_type": "code",
   "execution_count": null,
   "id": "59b034e0-5fd8-458a-b43c-e9074bb02e29",
   "metadata": {},
   "outputs": [],
   "source": []
  },
  {
   "cell_type": "code",
   "execution_count": null,
   "id": "3e452a13-d256-4506-9225-a1b6fae39ced",
   "metadata": {},
   "outputs": [],
   "source": []
  },
  {
   "cell_type": "code",
   "execution_count": null,
   "id": "87f37d8d-a73e-45aa-a166-455b5dcd9fbf",
   "metadata": {},
   "outputs": [],
   "source": []
  },
  {
   "cell_type": "code",
   "execution_count": null,
   "id": "85e5a7ad-1877-4d58-a6f9-103d2e8dd4fe",
   "metadata": {},
   "outputs": [],
   "source": []
  },
  {
   "cell_type": "markdown",
   "id": "8c9851d8",
   "metadata": {},
   "source": [
    "## Sort a DataFrame with the sort_values Method I\n",
    "- The `sort_values` method sorts a **DataFrame** by the values in one or more columns. The default sort is an ascending one (alphabetical for strings).\n",
    "- The first parameter (`by`) expects the column(s) to sort by.\n",
    "- If sorting by a single column, pass a string with its name.\n",
    "- The `ascending` parameter customizes the sort order.\n",
    "- The `na_position` parameter customizes where pandas places `NaN` values."
   ]
  },
  {
   "cell_type": "code",
   "execution_count": null,
   "id": "8cdda111-6a2d-43a1-b098-8dbefe3fbe57",
   "metadata": {},
   "outputs": [],
   "source": []
  },
  {
   "cell_type": "code",
   "execution_count": null,
   "id": "4f9a8e76-6d45-456a-b7ee-da279ca4b846",
   "metadata": {},
   "outputs": [],
   "source": []
  },
  {
   "cell_type": "markdown",
   "id": "086886da",
   "metadata": {},
   "source": [
    "## Sort a DataFrame with the sort_values Method II\n",
    "- To sort by multiple columns, pass the `by` parameter a list of column names. Pandas will sort in the specified column order (first to last).\n",
    "- Pass the `ascending` parameter a Boolean to sort all columns in a consistent order (all ascending or all descending).\n",
    "- Pass `ascending` a list to customize the sort order *per* column. The `ascending` list length must match the `by` list."
   ]
  },
  {
   "cell_type": "code",
   "execution_count": null,
   "id": "b666d298-1fee-4372-8775-91353dd0caa6",
   "metadata": {},
   "outputs": [],
   "source": []
  },
  {
   "cell_type": "code",
   "execution_count": null,
   "id": "da2a2d40-9c78-499a-a0cf-42750443ea54",
   "metadata": {},
   "outputs": [],
   "source": []
  },
  {
   "cell_type": "markdown",
   "id": "0439e26b",
   "metadata": {},
   "source": [
    "## Sort a DataFrame by its Index\n",
    "- The `sort_index` method sorts the **DataFrame** by its index positions/labels."
   ]
  },
  {
   "cell_type": "code",
   "execution_count": null,
   "id": "b429f999-e4fc-4c1e-84ba-167da47ed5eb",
   "metadata": {},
   "outputs": [],
   "source": []
  },
  {
   "cell_type": "code",
   "execution_count": null,
   "id": "89f28797-2194-44ed-ad24-bff2bd2a92b2",
   "metadata": {},
   "outputs": [],
   "source": []
  },
  {
   "cell_type": "code",
   "execution_count": null,
   "id": "d4b9a049-502b-4af4-8723-a77832cab037",
   "metadata": {},
   "outputs": [],
   "source": []
  },
  {
   "cell_type": "markdown",
   "id": "093e0239",
   "metadata": {},
   "source": [
    "## Rank Values with the rank Method\n",
    "- The `rank` method assigns a numeric ranking to each **Series** value.\n",
    "- Pandas will assign the same rank to equal values and create a \"gap\" in the dataset for the ranks."
   ]
  },
  {
   "cell_type": "code",
   "execution_count": null,
   "id": "8765d174",
   "metadata": {},
   "outputs": [],
   "source": []
  },
  {
   "cell_type": "code",
   "execution_count": null,
   "id": "dcdb7a22-55d9-45cc-a919-83957bf52823",
   "metadata": {},
   "outputs": [],
   "source": []
  },
  {
   "cell_type": "code",
   "execution_count": null,
   "id": "bbf0e745-976d-4a51-8780-c33e01470991",
   "metadata": {},
   "outputs": [],
   "source": []
  },
  {
   "cell_type": "code",
   "execution_count": null,
   "id": "f4118c87-2691-4662-96ff-513a626eaa32",
   "metadata": {},
   "outputs": [],
   "source": []
  },
  {
   "cell_type": "code",
   "execution_count": null,
   "id": "b0f520ff-71ed-4924-8479-dba05a5a5782",
   "metadata": {},
   "outputs": [],
   "source": []
  },
  {
   "cell_type": "code",
   "execution_count": null,
   "id": "2811a88c",
   "metadata": {},
   "outputs": [],
   "source": []
  }
 ],
 "metadata": {
  "kernelspec": {
   "display_name": "Python 3 (ipykernel)",
   "language": "python",
   "name": "python3"
  },
  "language_info": {
   "codemirror_mode": {
    "name": "ipython",
    "version": 3
   },
   "file_extension": ".py",
   "mimetype": "text/x-python",
   "name": "python",
   "nbconvert_exporter": "python",
   "pygments_lexer": "ipython3",
   "version": "3.11.5"
  }
 },
 "nbformat": 4,
 "nbformat_minor": 5
}
