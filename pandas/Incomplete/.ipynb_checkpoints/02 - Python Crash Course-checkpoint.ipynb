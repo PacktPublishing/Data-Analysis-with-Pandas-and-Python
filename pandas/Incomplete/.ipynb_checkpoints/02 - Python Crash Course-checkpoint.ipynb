{
 "cells": [
  {
   "cell_type": "markdown",
   "id": "165afe4b-04af-43f0-93f9-b0ee79b7e7e9",
   "metadata": {},
   "source": [
    "# Python Crash Course"
   ]
  },
  {
   "cell_type": "markdown",
   "id": "b0d79961",
   "metadata": {},
   "source": [
    "## Comments\n",
    "- A **comment** is a line of text ignored by Python.\n",
    "- Use a hashtag/octothorpe (#) to create a comment."
   ]
  },
  {
   "cell_type": "code",
   "execution_count": null,
   "id": "5f7086e1-1eb1-482c-a4a0-5fd1869fbc5c",
   "metadata": {
    "tags": []
   },
   "outputs": [],
   "source": []
  },
  {
   "cell_type": "markdown",
   "id": "92e4dcbd-ae5d-4fe8-b2c0-c494fb605ca8",
   "metadata": {},
   "source": [
    "## Basic Data Types\n",
    "- An **integer** is a whole number.\n",
    "- A **floating-point** number is one with a fractional or decimal component.\n",
    "- A **string** is a piece of text. It's a collection of characters.\n",
    "- An **empty string** has a length of 0 characters.\n",
    "- A **Boolean** is a type whose value can only be True or False.\n",
    "- **None** is a special Python type that represents nothingness, blankness, or the absence of a value.\n",
    "- The operations that can be performed on a value depend on its type. There are functionalities that we can do with strings but not numbers, and vice versa."
   ]
  },
  {
   "cell_type": "code",
   "execution_count": null,
   "id": "4bdbe3fa",
   "metadata": {},
   "outputs": [],
   "source": []
  },
  {
   "cell_type": "code",
   "execution_count": null,
   "id": "f3fa5ce3",
   "metadata": {},
   "outputs": [],
   "source": []
  },
  {
   "cell_type": "code",
   "execution_count": null,
   "id": "261e3b10",
   "metadata": {},
   "outputs": [],
   "source": []
  },
  {
   "cell_type": "code",
   "execution_count": null,
   "id": "1a8ad7f3",
   "metadata": {},
   "outputs": [],
   "source": []
  },
  {
   "cell_type": "code",
   "execution_count": null,
   "id": "f3c87287-12a7-41a7-b8d1-b6d64679a47f",
   "metadata": {},
   "outputs": [],
   "source": []
  },
  {
   "cell_type": "code",
   "execution_count": null,
   "id": "9270bd16-016f-4d42-9890-5fa3e845be65",
   "metadata": {},
   "outputs": [],
   "source": []
  },
  {
   "cell_type": "code",
   "execution_count": null,
   "id": "7e545cb3-97a1-4faa-90f2-8b56b541a663",
   "metadata": {},
   "outputs": [],
   "source": []
  },
  {
   "cell_type": "code",
   "execution_count": null,
   "id": "882a9c10-afba-42b1-9ec6-bece3fab0992",
   "metadata": {},
   "outputs": [],
   "source": []
  },
  {
   "cell_type": "code",
   "execution_count": null,
   "id": "939bdf3f-d6c5-4ab6-8fd6-b513722c815b",
   "metadata": {},
   "outputs": [],
   "source": []
  },
  {
   "cell_type": "markdown",
   "id": "3271e1b9",
   "metadata": {},
   "source": [
    "## Operators\n",
    "- An **operator** is a symbol that performs an operation (mathematical, logical, etc).\n",
    "- Python supports all traditional mathematical operation - `+` for addition, `-` for subtraction, `*` for multiplication, and `/` for division.\n",
    "- The floor division operator (`//`) leaves off the floating point portion of a division result.\n",
    "- The `+` operator performs concatenation when used with strings.\n",
    "- The equality operator (`==`) returns True if two values are equal to each other.\n",
    "- The inequality operator (`!=`) returns True if two values are unequal to each other."
   ]
  },
  {
   "cell_type": "code",
   "execution_count": null,
   "id": "18c1be1f",
   "metadata": {},
   "outputs": [],
   "source": []
  },
  {
   "cell_type": "code",
   "execution_count": null,
   "id": "976f03ae-e196-4726-8762-079aa0db7e43",
   "metadata": {
    "tags": []
   },
   "outputs": [],
   "source": []
  },
  {
   "cell_type": "code",
   "execution_count": null,
   "id": "66a67875-de12-4f73-a235-8d93472e8599",
   "metadata": {
    "tags": []
   },
   "outputs": [],
   "source": []
  },
  {
   "cell_type": "code",
   "execution_count": null,
   "id": "58b969aa-77b8-4bb9-a108-d345e7fb760c",
   "metadata": {
    "tags": []
   },
   "outputs": [],
   "source": []
  },
  {
   "cell_type": "code",
   "execution_count": null,
   "id": "5054b8ca-f00d-45b6-b283-2836b2771ef8",
   "metadata": {
    "tags": []
   },
   "outputs": [],
   "source": []
  },
  {
   "cell_type": "code",
   "execution_count": null,
   "id": "0ba77ba9-43b6-46d6-8118-509a1d3eda48",
   "metadata": {
    "tags": []
   },
   "outputs": [],
   "source": []
  },
  {
   "cell_type": "code",
   "execution_count": null,
   "id": "e4bc6e3b-3393-4dc0-b02b-cf040fb88c32",
   "metadata": {
    "tags": []
   },
   "outputs": [],
   "source": []
  },
  {
   "cell_type": "code",
   "execution_count": null,
   "id": "235b7338-b7e2-4e1a-84f9-53a15eb7e7a5",
   "metadata": {
    "tags": []
   },
   "outputs": [],
   "source": []
  },
  {
   "cell_type": "code",
   "execution_count": null,
   "id": "59b1b107-89c3-48f2-a29a-2a078ea73aa6",
   "metadata": {
    "tags": []
   },
   "outputs": [],
   "source": []
  },
  {
   "cell_type": "code",
   "execution_count": null,
   "id": "b3897e59-3505-43e5-b86f-2f30c8346d35",
   "metadata": {
    "tags": []
   },
   "outputs": [],
   "source": []
  },
  {
   "cell_type": "code",
   "execution_count": null,
   "id": "7b602230",
   "metadata": {},
   "outputs": [],
   "source": []
  },
  {
   "cell_type": "code",
   "execution_count": null,
   "id": "ce22922e",
   "metadata": {},
   "outputs": [],
   "source": []
  },
  {
   "cell_type": "code",
   "execution_count": null,
   "id": "1e79878a",
   "metadata": {},
   "outputs": [],
   "source": []
  },
  {
   "cell_type": "code",
   "execution_count": null,
   "id": "9312e980",
   "metadata": {},
   "outputs": [],
   "source": []
  },
  {
   "cell_type": "code",
   "execution_count": null,
   "id": "193b739a",
   "metadata": {},
   "outputs": [],
   "source": []
  },
  {
   "cell_type": "code",
   "execution_count": null,
   "id": "a1419d28",
   "metadata": {},
   "outputs": [],
   "source": []
  },
  {
   "cell_type": "code",
   "execution_count": null,
   "id": "3292f809",
   "metadata": {},
   "outputs": [],
   "source": []
  },
  {
   "cell_type": "code",
   "execution_count": null,
   "id": "ca937e36",
   "metadata": {},
   "outputs": [],
   "source": []
  },
  {
   "cell_type": "code",
   "execution_count": null,
   "id": "5556280a",
   "metadata": {},
   "outputs": [],
   "source": []
  },
  {
   "cell_type": "markdown",
   "id": "a7bc67a9",
   "metadata": {},
   "source": [
    "## Variables\n",
    "- A **variable** is a name for a value in your program. It is a placeholder for the value.\n",
    "- The value that a variable represents can *vary* over a program.\n",
    "- Multi-word variable names should follow a `snake_case` naming convention.\n",
    "- Python evaluates the right-hand side of an equal sign first.\n",
    "- The `len` function returns the length of its argument."
   ]
  },
  {
   "cell_type": "code",
   "execution_count": null,
   "id": "06765506-d200-4b47-a2e4-0e189cd00f89",
   "metadata": {
    "tags": []
   },
   "outputs": [],
   "source": []
  },
  {
   "cell_type": "code",
   "execution_count": null,
   "id": "14046d65-15b2-4f5a-a33d-1cf4519a527b",
   "metadata": {
    "tags": []
   },
   "outputs": [],
   "source": []
  },
  {
   "cell_type": "code",
   "execution_count": null,
   "id": "71137fe3-fb6a-405a-a14a-1bb9fd1fb4a1",
   "metadata": {
    "tags": []
   },
   "outputs": [],
   "source": []
  },
  {
   "cell_type": "code",
   "execution_count": null,
   "id": "2067023e-a2dd-4266-94f1-742808895ead",
   "metadata": {
    "tags": []
   },
   "outputs": [],
   "source": []
  },
  {
   "cell_type": "code",
   "execution_count": null,
   "id": "cf90303d-a5f2-49bd-ac19-75c43c79ccfa",
   "metadata": {
    "tags": []
   },
   "outputs": [],
   "source": []
  },
  {
   "cell_type": "code",
   "execution_count": null,
   "id": "5eab8e98-00bb-4727-ac52-0e1951657274",
   "metadata": {
    "tags": []
   },
   "outputs": [],
   "source": []
  },
  {
   "cell_type": "code",
   "execution_count": null,
   "id": "005dcb9a-0757-477a-ab55-70bb13a1d557",
   "metadata": {
    "tags": []
   },
   "outputs": [],
   "source": []
  },
  {
   "cell_type": "code",
   "execution_count": null,
   "id": "33abb053-dd3d-4f22-905d-3d54d4e4d8c3",
   "metadata": {
    "tags": []
   },
   "outputs": [],
   "source": []
  },
  {
   "cell_type": "code",
   "execution_count": null,
   "id": "045c3eff-d119-42b0-a23c-c9a81d808b42",
   "metadata": {
    "tags": []
   },
   "outputs": [],
   "source": []
  },
  {
   "cell_type": "code",
   "execution_count": null,
   "id": "1c60601b-3868-4801-83f4-738c617ec471",
   "metadata": {},
   "outputs": [],
   "source": []
  },
  {
   "cell_type": "code",
   "execution_count": null,
   "id": "db847ff6-dc93-4d31-8f80-edc4c1d46221",
   "metadata": {},
   "outputs": [],
   "source": []
  },
  {
   "cell_type": "markdown",
   "id": "42d67a50",
   "metadata": {},
   "source": [
    "## Built-in Functions\n",
    "- A **function** is a repeatable procedure.\n",
    "- A **function** can accept inputs (which are called **arguments**).\n",
    "- A **function** produces a **return value**, which is the \"output\" of the function.\n",
    "- The technical term for running/executing a function is \"invoking\" or \"calling\".\n",
    "- Invoke a function with a pair of parentheses.\n",
    "- The `len` function returns the length of its argument.\n",
    "- The `str` function converts its argument to a string.\n",
    "- The `int` function converts its argument to an integer.\n",
    "- The `float` function converts its argument to a floating-point.\n",
    "- The `type` function returns the type of its argument (the kind of value it is)."
   ]
  },
  {
   "cell_type": "code",
   "execution_count": null,
   "id": "c876360e-9043-458c-a10e-97815c43eb2f",
   "metadata": {
    "tags": []
   },
   "outputs": [],
   "source": []
  },
  {
   "cell_type": "code",
   "execution_count": null,
   "id": "54c11642-a975-43c5-938c-83b173c1ef16",
   "metadata": {
    "tags": []
   },
   "outputs": [],
   "source": []
  },
  {
   "cell_type": "code",
   "execution_count": null,
   "id": "686e22fa-67a7-481b-8689-23f73f812ead",
   "metadata": {
    "tags": []
   },
   "outputs": [],
   "source": []
  },
  {
   "cell_type": "code",
   "execution_count": null,
   "id": "f8cd75b3-0ee2-490b-9c80-6af66456811d",
   "metadata": {
    "tags": []
   },
   "outputs": [],
   "source": []
  },
  {
   "cell_type": "code",
   "execution_count": null,
   "id": "270c8bf5-4523-4b25-a73b-15769307fad4",
   "metadata": {
    "tags": []
   },
   "outputs": [],
   "source": []
  },
  {
   "cell_type": "code",
   "execution_count": null,
   "id": "5b7ffcbb-4720-42cc-b9a3-8cfefe013366",
   "metadata": {
    "tags": []
   },
   "outputs": [],
   "source": []
  },
  {
   "cell_type": "code",
   "execution_count": null,
   "id": "4405f39f-ea86-4561-83b2-a1b6b8efdc56",
   "metadata": {
    "tags": []
   },
   "outputs": [],
   "source": []
  },
  {
   "cell_type": "code",
   "execution_count": null,
   "id": "44b114d1-01f0-4ab3-803f-7ba017914589",
   "metadata": {
    "tags": []
   },
   "outputs": [],
   "source": []
  },
  {
   "cell_type": "code",
   "execution_count": null,
   "id": "cedee769-05fc-41ef-93fb-1ce163516bf8",
   "metadata": {},
   "outputs": [],
   "source": []
  },
  {
   "cell_type": "code",
   "execution_count": null,
   "id": "ae145ac5-f986-42ed-a432-53c182e9f431",
   "metadata": {},
   "outputs": [],
   "source": []
  },
  {
   "cell_type": "code",
   "execution_count": null,
   "id": "d67188b5-b44a-41d1-b2df-8980ed0cb028",
   "metadata": {},
   "outputs": [],
   "source": []
  },
  {
   "cell_type": "code",
   "execution_count": null,
   "id": "e68f43e5-d35a-45e1-a1f5-9c2305ab07f9",
   "metadata": {},
   "outputs": [],
   "source": []
  },
  {
   "cell_type": "code",
   "execution_count": null,
   "id": "3440e2b4-38cd-424f-b06d-95cb4fe824ec",
   "metadata": {},
   "outputs": [],
   "source": []
  },
  {
   "cell_type": "code",
   "execution_count": null,
   "id": "9c9cad2c-7cb1-48b4-a377-b44087847b2b",
   "metadata": {},
   "outputs": [],
   "source": []
  },
  {
   "cell_type": "markdown",
   "id": "cf976284",
   "metadata": {},
   "source": [
    "## Custom Functions\n",
    "- Define a function with the `def` keyword, a name, a parameter list, and a colon.\n",
    "- Functions names should follow a `snake_case` naming convention.\n",
    "- A **parameter** is a name for an expected input.\n",
    "- Write the function's logic inside a nested block. The end of the block marks the end of the function logic.\n",
    "- Variables declared inside a function body will only last as long as the function runs.\n",
    "- Use the **return** keyword to specify the function's return value (output).\n",
    "- When invoking a function, we can pass in argument sequentially or with explicit parameter names.\n",
    "- A **default argument** is a fallback value that Python will provide if an argument is not passed for a parameter during invocation."
   ]
  },
  {
   "cell_type": "code",
   "execution_count": null,
   "id": "5b251bcf",
   "metadata": {},
   "outputs": [],
   "source": []
  },
  {
   "cell_type": "code",
   "execution_count": null,
   "id": "50ef6f0a-a9d2-4e03-8c2a-570246d34729",
   "metadata": {},
   "outputs": [],
   "source": []
  },
  {
   "cell_type": "code",
   "execution_count": null,
   "id": "56b074bc-6296-43a1-8d0b-317685d9972c",
   "metadata": {},
   "outputs": [],
   "source": []
  },
  {
   "cell_type": "code",
   "execution_count": null,
   "id": "1c2c70f9-1d83-45c7-89c2-b507a634592c",
   "metadata": {},
   "outputs": [],
   "source": []
  },
  {
   "cell_type": "code",
   "execution_count": null,
   "id": "ac1a5d5e-2e85-4d29-9c54-8eb383c6f360",
   "metadata": {},
   "outputs": [],
   "source": []
  },
  {
   "cell_type": "code",
   "execution_count": null,
   "id": "4f235e43-39dc-484f-9d7e-a7ad956bc877",
   "metadata": {
    "tags": []
   },
   "outputs": [],
   "source": []
  },
  {
   "cell_type": "code",
   "execution_count": null,
   "id": "42b44c9f-6455-430e-b5d5-6721e4f814cf",
   "metadata": {},
   "outputs": [],
   "source": []
  },
  {
   "cell_type": "code",
   "execution_count": null,
   "id": "949e1c4e-2613-40c7-81d8-3d7aef5ca14e",
   "metadata": {},
   "outputs": [],
   "source": []
  },
  {
   "cell_type": "code",
   "execution_count": null,
   "id": "3967381b-148b-4582-b3fa-49b9dea41801",
   "metadata": {},
   "outputs": [],
   "source": []
  },
  {
   "cell_type": "code",
   "execution_count": null,
   "id": "72a13fae-a306-4175-a7ab-b9a0ac7eeea9",
   "metadata": {},
   "outputs": [],
   "source": []
  },
  {
   "cell_type": "code",
   "execution_count": null,
   "id": "b09d7e78-ab58-4597-bff7-b2f498129d94",
   "metadata": {},
   "outputs": [],
   "source": []
  },
  {
   "cell_type": "markdown",
   "id": "7875f148",
   "metadata": {},
   "source": [
    "## String Methods\n",
    "- An **object** is the technical term for a type. A string is an example of an object.\n",
    "- A **method** is like a function that belongs to an object.\n",
    "- To invoke a method, provide a period after the object, then the method name and a pair of parentheses.\n",
    "- We use similar terminology and syntax for functions and methods. We can invoke methods. We can pass arguments to methods. Methods can return values.\n",
    "- Objects can be **mutable** (capable of change) or **immutable** (incapable of change). A string is immutable.\n",
    "- Common string methods include `upper`, `lower`, `swapcase`, `title`, `capitalize`, and `strip`.\n",
    "- **Method chaining** refers to invoking methods on objects returned by previous method invocations. We create a link or \"chain\" of methods.\n",
    "- The **in** and **not in** keywords check for the presence and absence of a substring within a string."
   ]
  },
  {
   "cell_type": "code",
   "execution_count": null,
   "id": "dc957854-a26c-4e7f-86bf-7d751f8529e8",
   "metadata": {},
   "outputs": [],
   "source": []
  },
  {
   "cell_type": "code",
   "execution_count": null,
   "id": "b1a69a51-ec83-49fa-8488-d3079fbde6cc",
   "metadata": {},
   "outputs": [],
   "source": []
  },
  {
   "cell_type": "code",
   "execution_count": null,
   "id": "105a1f30-ad2b-4038-8a39-e47a62c6cf9c",
   "metadata": {},
   "outputs": [],
   "source": []
  },
  {
   "cell_type": "code",
   "execution_count": null,
   "id": "53f28ef6-d203-47b0-8da7-baf6e7f33bfe",
   "metadata": {},
   "outputs": [],
   "source": []
  },
  {
   "cell_type": "code",
   "execution_count": null,
   "id": "4a89acb2-4c9c-4bab-b9cf-af52a6b0938e",
   "metadata": {},
   "outputs": [],
   "source": []
  },
  {
   "cell_type": "code",
   "execution_count": null,
   "id": "d539954f-0d9b-4674-b197-a06e116ea612",
   "metadata": {},
   "outputs": [],
   "source": []
  },
  {
   "cell_type": "code",
   "execution_count": null,
   "id": "86c7dfe0-df88-4079-a9dc-605321e905fc",
   "metadata": {},
   "outputs": [],
   "source": []
  },
  {
   "cell_type": "code",
   "execution_count": null,
   "id": "5a42583c-3a12-48ff-aaa0-d2a2f1fdc39c",
   "metadata": {},
   "outputs": [],
   "source": []
  },
  {
   "cell_type": "code",
   "execution_count": null,
   "id": "4863d756-c777-4c6c-b8de-ba4557b6f60f",
   "metadata": {},
   "outputs": [],
   "source": []
  },
  {
   "cell_type": "code",
   "execution_count": null,
   "id": "f5125f4c-edd2-4d20-8616-21811e8c0fde",
   "metadata": {},
   "outputs": [],
   "source": []
  },
  {
   "cell_type": "code",
   "execution_count": null,
   "id": "b6636917-4556-4b28-b3f7-d15d738a8a3a",
   "metadata": {},
   "outputs": [],
   "source": []
  },
  {
   "cell_type": "code",
   "execution_count": null,
   "id": "5a83ae5a-bfa3-4f63-bde7-fbf4c34ade8e",
   "metadata": {},
   "outputs": [],
   "source": []
  },
  {
   "cell_type": "code",
   "execution_count": null,
   "id": "710a5353-1f4d-499a-a983-5c6f8701ac11",
   "metadata": {},
   "outputs": [],
   "source": []
  },
  {
   "cell_type": "code",
   "execution_count": null,
   "id": "cafbda47-8877-4825-bbf6-667dc63d099f",
   "metadata": {},
   "outputs": [],
   "source": []
  },
  {
   "cell_type": "code",
   "execution_count": null,
   "id": "4ffadd50-0fe4-4ac3-9ee3-f1fa59047bb3",
   "metadata": {},
   "outputs": [],
   "source": []
  },
  {
   "cell_type": "code",
   "execution_count": null,
   "id": "0af3c3a5-e09b-4213-8bf8-a08ddb105b22",
   "metadata": {},
   "outputs": [],
   "source": []
  },
  {
   "cell_type": "code",
   "execution_count": null,
   "id": "ec16e8a0-0cdc-46d3-ac0d-7227c54a4b1b",
   "metadata": {},
   "outputs": [],
   "source": []
  },
  {
   "cell_type": "code",
   "execution_count": null,
   "id": "6f9dc984-440b-4bce-a8e3-1b36b86c5ac3",
   "metadata": {},
   "outputs": [],
   "source": []
  },
  {
   "cell_type": "code",
   "execution_count": null,
   "id": "0f01657d-5a9a-4a8d-82fb-4f259d1622a0",
   "metadata": {},
   "outputs": [],
   "source": []
  },
  {
   "cell_type": "markdown",
   "id": "56ea194e",
   "metadata": {},
   "source": [
    "## Lists\n",
    "- A **list** is a mutable data structure that holds an ordered collection of values.\n",
    "- We often use the term **element** to describe an item in the list.\n",
    "- The length of a list is its number of elements.\n",
    "- The **append** method adds an element to the end of the list.\n",
    "- The **pop** methods remove the last element from the list.\n",
    "- The **in** and **not in** keywords check whether or not an element exists within a list."
   ]
  },
  {
   "cell_type": "code",
   "execution_count": null,
   "id": "5f022822-f353-4e94-8103-c1bf6996aa09",
   "metadata": {},
   "outputs": [],
   "source": []
  },
  {
   "cell_type": "code",
   "execution_count": null,
   "id": "d52fa46c-f491-4d1d-af45-b321dbbbf19d",
   "metadata": {},
   "outputs": [],
   "source": []
  },
  {
   "cell_type": "code",
   "execution_count": null,
   "id": "52960ad6-0956-43f8-8c4f-69dbaa4cd63e",
   "metadata": {},
   "outputs": [],
   "source": []
  },
  {
   "cell_type": "code",
   "execution_count": null,
   "id": "94b88a57-3a02-42df-9fd7-6683adf57312",
   "metadata": {},
   "outputs": [],
   "source": []
  },
  {
   "cell_type": "code",
   "execution_count": null,
   "id": "8a47e35b-d76d-4c6e-848f-c804aa41a59c",
   "metadata": {},
   "outputs": [],
   "source": []
  },
  {
   "cell_type": "code",
   "execution_count": null,
   "id": "02c866fa-6d52-41aa-a151-e32c177ad109",
   "metadata": {},
   "outputs": [],
   "source": []
  },
  {
   "cell_type": "code",
   "execution_count": null,
   "id": "efadfcdb-d9e7-4d05-8337-6f429e3d5096",
   "metadata": {},
   "outputs": [],
   "source": []
  },
  {
   "cell_type": "code",
   "execution_count": null,
   "id": "b7a39c8c-8322-4d5c-92ed-e3db9e5216d3",
   "metadata": {},
   "outputs": [],
   "source": []
  },
  {
   "cell_type": "code",
   "execution_count": null,
   "id": "e009a5f8-d05a-4904-8fb8-15778ca4a53c",
   "metadata": {},
   "outputs": [],
   "source": []
  },
  {
   "cell_type": "code",
   "execution_count": null,
   "id": "dc1e9345-fa98-4a88-9a0e-228c6cda8a37",
   "metadata": {},
   "outputs": [],
   "source": []
  },
  {
   "cell_type": "code",
   "execution_count": null,
   "id": "75a5714b-2991-4325-b94f-4915db7e53dc",
   "metadata": {},
   "outputs": [],
   "source": []
  },
  {
   "cell_type": "code",
   "execution_count": null,
   "id": "78e2320f-f09b-42d2-b8d3-22590ff1ea2b",
   "metadata": {},
   "outputs": [],
   "source": []
  },
  {
   "cell_type": "code",
   "execution_count": null,
   "id": "7caf02da-1764-4aac-b7c3-0baa1221857b",
   "metadata": {},
   "outputs": [],
   "source": []
  },
  {
   "cell_type": "code",
   "execution_count": null,
   "id": "1a0c2161-1fce-4896-85c0-14eaa94a1a4e",
   "metadata": {},
   "outputs": [],
   "source": []
  },
  {
   "cell_type": "code",
   "execution_count": null,
   "id": "27a74ded-b617-4af4-a59b-2b60ac3cd5ef",
   "metadata": {},
   "outputs": [],
   "source": []
  },
  {
   "cell_type": "code",
   "execution_count": null,
   "id": "934a3c72-4a35-4ef9-b3bb-4f948a80d90d",
   "metadata": {},
   "outputs": [],
   "source": []
  },
  {
   "cell_type": "code",
   "execution_count": null,
   "id": "f424fe51-85ee-4cd6-9a8e-4e365f1c6e07",
   "metadata": {},
   "outputs": [],
   "source": []
  },
  {
   "cell_type": "code",
   "execution_count": null,
   "id": "3cb9c77a-0508-4376-971c-d42491ea6249",
   "metadata": {},
   "outputs": [],
   "source": []
  },
  {
   "cell_type": "code",
   "execution_count": null,
   "id": "68f54206-af2a-45da-9c32-dc279fb8e459",
   "metadata": {},
   "outputs": [],
   "source": []
  },
  {
   "cell_type": "code",
   "execution_count": null,
   "id": "ef6e3b09-5a5b-4bac-9933-cebf263318ae",
   "metadata": {},
   "outputs": [],
   "source": []
  },
  {
   "cell_type": "markdown",
   "id": "39e4d0be",
   "metadata": {},
   "source": [
    "## Index Positions and Slicing\n",
    "- Python assigns every string character an **index position** (an order in line).\n",
    "- Python assigns every list element an **index position** (an order in line).\n",
    "- The index starts counting at 0.\n",
    "- Use square brackets to extract a character/element by index position.\n",
    "- Use negative values to extract a character/element relative to the end of the object.\n",
    "- Use slicing to extract multiple character/elements.\n",
    "- The first index in a slice is inclusive. The second index in a slice is exclusive (Python will go up to that index but *not* include its value)."
   ]
  },
  {
   "cell_type": "code",
   "execution_count": null,
   "id": "8758fc13-0fcf-41e1-8f72-63a53d460de8",
   "metadata": {},
   "outputs": [],
   "source": []
  },
  {
   "cell_type": "code",
   "execution_count": null,
   "id": "438efa29-e57b-46fe-912f-aa2f34d956c2",
   "metadata": {},
   "outputs": [],
   "source": []
  },
  {
   "cell_type": "code",
   "execution_count": null,
   "id": "d90422d4-d924-4572-819f-cbd6cb9429bc",
   "metadata": {},
   "outputs": [],
   "source": []
  },
  {
   "cell_type": "code",
   "execution_count": null,
   "id": "f4dd33c7-3aa2-47db-980c-ea6ced7c3fd7",
   "metadata": {},
   "outputs": [],
   "source": []
  },
  {
   "cell_type": "code",
   "execution_count": null,
   "id": "896260bd-644c-4c7f-9bf8-ca0aa30694b2",
   "metadata": {},
   "outputs": [],
   "source": []
  },
  {
   "cell_type": "code",
   "execution_count": null,
   "id": "3d699799-eb6b-491c-a715-d66418e5f168",
   "metadata": {},
   "outputs": [],
   "source": []
  },
  {
   "cell_type": "code",
   "execution_count": null,
   "id": "ec10a22e-9a15-4ed4-a521-2c286af32497",
   "metadata": {},
   "outputs": [],
   "source": []
  },
  {
   "cell_type": "code",
   "execution_count": null,
   "id": "bb86c514-285a-4fc1-918b-fa259755aac4",
   "metadata": {},
   "outputs": [],
   "source": []
  },
  {
   "cell_type": "code",
   "execution_count": null,
   "id": "c41fda02-e3eb-4adf-ae7d-d5d8ff221117",
   "metadata": {},
   "outputs": [],
   "source": []
  },
  {
   "cell_type": "code",
   "execution_count": null,
   "id": "e6a17313-2536-4fb8-ae84-ff34b8a41708",
   "metadata": {},
   "outputs": [],
   "source": []
  },
  {
   "cell_type": "code",
   "execution_count": null,
   "id": "ee695c78-b5ec-4a8b-92b3-20efa4833dfd",
   "metadata": {},
   "outputs": [],
   "source": []
  },
  {
   "cell_type": "code",
   "execution_count": null,
   "id": "5f03b5c9-40bb-49ea-bbf7-c04ad8bba640",
   "metadata": {},
   "outputs": [],
   "source": []
  },
  {
   "cell_type": "code",
   "execution_count": null,
   "id": "c0da720d-1e67-45d5-8b2f-684aa56da7cd",
   "metadata": {},
   "outputs": [],
   "source": []
  },
  {
   "cell_type": "code",
   "execution_count": null,
   "id": "ffae0b9a-bdba-436d-a4c7-38742c82e933",
   "metadata": {},
   "outputs": [],
   "source": []
  },
  {
   "cell_type": "code",
   "execution_count": null,
   "id": "79efcca9-ef05-4027-8abb-81d7b11e4d17",
   "metadata": {},
   "outputs": [],
   "source": []
  },
  {
   "cell_type": "code",
   "execution_count": null,
   "id": "6ca83f7e-b500-40bd-b778-3fb338729ae9",
   "metadata": {},
   "outputs": [],
   "source": []
  },
  {
   "cell_type": "code",
   "execution_count": null,
   "id": "e12a4adc-c127-47c7-8c95-1c95c11ac35d",
   "metadata": {},
   "outputs": [],
   "source": []
  },
  {
   "cell_type": "markdown",
   "id": "209b8921",
   "metadata": {},
   "source": [
    "## Dictionaries\n",
    "- A **dictionary** is a mutable, unordered collection of key-value pairs.\n",
    "- A **key** is a unique identifier for a value.\n",
    "- A **value** corresponds to the key. The values can contain duplicates.\n",
    "- Use a dictionary for **association** (i.e., to connect/map two values together). Use a list for **order**.\n",
    "- Declare a dictionary with a pair of curly braces.\n",
    "- Write a colon between every key and value.\n",
    "- Separate each key-value pair with a comma and a space.\n",
    "- The length of a dictionary is a count of its key-value pairs."
   ]
  },
  {
   "cell_type": "code",
   "execution_count": null,
   "id": "8268bf89-5e60-428d-ad02-bde28a70b0c7",
   "metadata": {},
   "outputs": [],
   "source": []
  },
  {
   "cell_type": "code",
   "execution_count": null,
   "id": "c7cf377b-63d9-4294-8042-273574023a10",
   "metadata": {},
   "outputs": [],
   "source": []
  },
  {
   "cell_type": "code",
   "execution_count": null,
   "id": "b509546c-472e-4395-a553-5a478cfd76ea",
   "metadata": {},
   "outputs": [],
   "source": []
  },
  {
   "cell_type": "code",
   "execution_count": null,
   "id": "e5bd4afb-aef1-41f2-bcda-95a53851ada0",
   "metadata": {},
   "outputs": [],
   "source": []
  },
  {
   "cell_type": "code",
   "execution_count": null,
   "id": "94bda613-294e-4176-a909-7d8a81b8db5d",
   "metadata": {},
   "outputs": [],
   "source": []
  },
  {
   "cell_type": "code",
   "execution_count": null,
   "id": "8c52679c-7243-4bcc-a0da-295edadfd5d8",
   "metadata": {},
   "outputs": [],
   "source": []
  },
  {
   "cell_type": "code",
   "execution_count": null,
   "id": "d16a03ed-0792-4e03-928a-ed2b4a602e57",
   "metadata": {},
   "outputs": [],
   "source": []
  },
  {
   "cell_type": "code",
   "execution_count": null,
   "id": "efb57b4e-38f5-40d7-bfef-87ef3f633aa6",
   "metadata": {},
   "outputs": [],
   "source": []
  },
  {
   "cell_type": "code",
   "execution_count": null,
   "id": "9f0b28be-b0b3-4fb2-b0a8-cc2251babe98",
   "metadata": {},
   "outputs": [],
   "source": []
  },
  {
   "cell_type": "code",
   "execution_count": null,
   "id": "3af08c01-a6f2-49df-86a4-04b05df38f26",
   "metadata": {},
   "outputs": [],
   "source": []
  },
  {
   "cell_type": "code",
   "execution_count": null,
   "id": "8a248c07-5556-4029-b7a6-0fdcda1ed597",
   "metadata": {},
   "outputs": [],
   "source": []
  },
  {
   "cell_type": "code",
   "execution_count": null,
   "id": "12ec3ef8-3201-41e7-ac65-17aa58a14c93",
   "metadata": {},
   "outputs": [],
   "source": []
  },
  {
   "cell_type": "code",
   "execution_count": null,
   "id": "a18bb24e-cf04-44f0-9dcd-f9c9f2a336b8",
   "metadata": {},
   "outputs": [],
   "source": []
  },
  {
   "cell_type": "code",
   "execution_count": null,
   "id": "2b4a718e-5196-497a-b60e-dcffa0e0f165",
   "metadata": {},
   "outputs": [],
   "source": []
  },
  {
   "cell_type": "code",
   "execution_count": null,
   "id": "d08cbb8d-e161-4ff2-937e-b60360c0fe9a",
   "metadata": {},
   "outputs": [],
   "source": []
  },
  {
   "cell_type": "code",
   "execution_count": null,
   "id": "1756b888-74fa-4a08-99fc-3e9c9b6226d8",
   "metadata": {},
   "outputs": [],
   "source": []
  },
  {
   "cell_type": "code",
   "execution_count": null,
   "id": "34eefda4-bc68-4661-8f3b-281f16006127",
   "metadata": {},
   "outputs": [],
   "source": []
  },
  {
   "cell_type": "markdown",
   "id": "f266aada-0759-4373-8874-7a6080a6a1a2",
   "metadata": {},
   "source": [
    "## Classes\n",
    "- A **class** is a blueprint/template for creating objects.\n",
    "- A **class** defines the methods/functionalities that objects made from it will have.\n",
    "- An object is called an **instance** of the class it is made from.\n",
    "- The act of creating an object from a class is called **instantiation**.\n",
    "- Every time we've worked with a Python object, it's been \"instantiated\" from a class.\n",
    "- In real world terms, a class is the blueprint and the house we build is the instance/object.\n",
    "- Syntax options like `\"\"` or `[]` or `{}` are shortcuts for instantiation.\n",
    "- For other classes, we'll need to use `class()` syntax to instantiate an object.\n",
    "- Much like functions and methods, some class instantiations will require arguments."
   ]
  },
  {
   "cell_type": "markdown",
   "id": "a62a901f-1f47-4682-925b-1564312e1fc2",
   "metadata": {
    "tags": []
   },
   "source": [
    "<img src=\"Blueprint.png\" width=\"600\" height=\"410\">"
   ]
  },
  {
   "cell_type": "markdown",
   "id": "40053702-9cb6-4f86-a03e-84fa97fb8b4e",
   "metadata": {},
   "source": [
    "## Navigating Libraries using Jupyter Lab"
   ]
  },
  {
   "cell_type": "code",
   "execution_count": null,
   "id": "20545267-3f61-4c06-8318-601e9fae4b1e",
   "metadata": {
    "tags": []
   },
   "outputs": [],
   "source": []
  },
  {
   "cell_type": "code",
   "execution_count": null,
   "id": "a6b95663-b6cf-426a-8464-349813fbe947",
   "metadata": {},
   "outputs": [],
   "source": []
  },
  {
   "cell_type": "code",
   "execution_count": null,
   "id": "4d7ed499-dac8-4cfd-888f-e1c0491e8c2d",
   "metadata": {},
   "outputs": [],
   "source": []
  },
  {
   "cell_type": "code",
   "execution_count": null,
   "id": "10c45fb2-606a-48a3-a5b9-dd84c48fe090",
   "metadata": {},
   "outputs": [],
   "source": []
  },
  {
   "cell_type": "code",
   "execution_count": null,
   "id": "81ead5c9-db76-445d-937e-fb4ab925eef6",
   "metadata": {},
   "outputs": [],
   "source": []
  }
 ],
 "metadata": {
  "kernelspec": {
   "display_name": "Python 3 (ipykernel)",
   "language": "python",
   "name": "python3"
  },
  "language_info": {
   "codemirror_mode": {
    "name": "ipython",
    "version": 3
   },
   "file_extension": ".py",
   "mimetype": "text/x-python",
   "name": "python",
   "nbconvert_exporter": "python",
   "pygments_lexer": "ipython3",
   "version": "3.11.5"
  }
 },
 "nbformat": 4,
 "nbformat_minor": 5
}
