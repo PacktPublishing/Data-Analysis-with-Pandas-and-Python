{
 "cells": [
  {
   "cell_type": "code",
   "execution_count": null,
   "id": "c9a6ac74-0745-47c8-9973-9807ccbdc66c",
   "metadata": {
    "pycharm": {
     "name": "#%%\n"
    }
   },
   "outputs": [],
   "source": [
    "import pandas as pd"
   ]
  },
  {
   "cell_type": "code",
   "execution_count": null,
   "id": "24cf94f5-2ca7-4112-9b44-d90830845017",
   "metadata": {
    "pycharm": {
     "name": "#%%\n"
    }
   },
   "outputs": [],
   "source": [
    "nba = pd.read_csv(\"nba.csv\")"
   ]
  },
  {
   "cell_type": "code",
   "execution_count": null,
   "id": "011590a6-09a1-49c1-9815-a02cda31a426",
   "metadata": {
    "pycharm": {
     "name": "#%%\n"
    },
    "tags": []
   },
   "outputs": [],
   "source": [
    "nba.head(10)"
   ]
  },
  {
   "cell_type": "code",
   "execution_count": null,
   "id": "cbc8a0f5",
   "metadata": {
    "collapsed": false,
    "jupyter": {
     "outputs_hidden": false
    },
    "pycharm": {
     "name": "#%%\n"
    }
   },
   "outputs": [],
   "source": [
    "nba.tail()"
   ]
  },
  {
   "cell_type": "code",
   "execution_count": null,
   "id": "593bfd22",
   "metadata": {
    "collapsed": false,
    "jupyter": {
     "outputs_hidden": false
    },
    "pycharm": {
     "name": "#%%\n"
    }
   },
   "outputs": [],
   "source": [
    "nba.index"
   ]
  },
  {
   "cell_type": "code",
   "execution_count": null,
   "id": "373f2748",
   "metadata": {
    "pycharm": {
     "name": "#%%\n"
    },
    "tags": []
   },
   "outputs": [],
   "source": [
    "nba.values"
   ]
  },
  {
   "cell_type": "code",
   "execution_count": null,
   "id": "f360f713",
   "metadata": {
    "collapsed": false,
    "jupyter": {
     "outputs_hidden": false
    },
    "pycharm": {
     "name": "#%%\n"
    }
   },
   "outputs": [],
   "source": [
    "nba.shape"
   ]
  },
  {
   "cell_type": "code",
   "execution_count": null,
   "id": "eddc787d",
   "metadata": {
    "collapsed": false,
    "jupyter": {
     "outputs_hidden": false
    },
    "pycharm": {
     "name": "#%%\n"
    }
   },
   "outputs": [],
   "source": [
    "nba.dtypes"
   ]
  },
  {
   "cell_type": "code",
   "execution_count": null,
   "id": "194b00b6",
   "metadata": {
    "collapsed": false,
    "jupyter": {
     "outputs_hidden": false
    },
    "pycharm": {
     "name": "#%%\n"
    }
   },
   "outputs": [],
   "source": [
    "nba.dtypes.value_counts()  # counting the number of columns of a data type"
   ]
  },
  {
   "cell_type": "markdown",
   "id": "e15609db",
   "metadata": {
    "pycharm": {
     "name": "#%% md\n"
    }
   },
   "source": [
    "# Dataframe exclusive attributes"
   ]
  },
  {
   "cell_type": "code",
   "execution_count": null,
   "id": "2af3ae6a",
   "metadata": {
    "collapsed": false,
    "jupyter": {
     "outputs_hidden": false
    },
    "pycharm": {
     "name": "#%%\n"
    }
   },
   "outputs": [],
   "source": [
    "nba.columns"
   ]
  },
  {
   "cell_type": "code",
   "execution_count": null,
   "id": "bd32cdc8",
   "metadata": {
    "collapsed": false,
    "jupyter": {
     "outputs_hidden": false
    },
    "pycharm": {
     "name": "#%%\n"
    }
   },
   "outputs": [],
   "source": [
    "nba.axes"
   ]
  },
  {
   "cell_type": "code",
   "execution_count": null,
   "id": "76452409",
   "metadata": {
    "pycharm": {
     "name": "#%%\n"
    },
    "tags": []
   },
   "outputs": [],
   "source": [
    "nba.info()"
   ]
  },
  {
   "cell_type": "markdown",
   "id": "195ff526-927a-413a-991c-c595d9e76c8d",
   "metadata": {},
   "source": [
    "## Differences between shared methods"
   ]
  },
  {
   "cell_type": "code",
   "execution_count": null,
   "id": "d012493f-4511-4ee4-b86d-20a16b48f430",
   "metadata": {},
   "outputs": [],
   "source": [
    "rev = pd.read_csv(\"revenue.csv\", index_col=\"Date\")\n",
    "rev.head(3)"
   ]
  },
  {
   "cell_type": "code",
   "execution_count": null,
   "id": "670bf074-4386-4cbc-a095-0369e295c787",
   "metadata": {},
   "outputs": [],
   "source": [
    "s = pd.Series([1, 2, 3, 4])\n",
    "s"
   ]
  },
  {
   "cell_type": "code",
   "execution_count": null,
   "id": "d0aee4d6-8421-4dc8-af45-0bbcb1a41c9a",
   "metadata": {},
   "outputs": [],
   "source": [
    "s.sum()"
   ]
  },
  {
   "cell_type": "code",
   "execution_count": null,
   "id": "214febc1-5741-456c-9ea6-be6d93746b4b",
   "metadata": {},
   "outputs": [],
   "source": [
    "# in dataframes we can sum the values in rows or in columns\n",
    "# both forms are equivalent\n",
    "rev.sum(axis=1)\n",
    "rev.sum(axis=\"columns\")"
   ]
  },
  {
   "cell_type": "code",
   "execution_count": null,
   "id": "95902e89-ca99-4efd-96d5-1e5ce69de675",
   "metadata": {},
   "outputs": [],
   "source": [
    "rev.sum(axis=0)\n",
    "rev.sum(axis=\"index\")"
   ]
  },
  {
   "cell_type": "markdown",
   "id": "9a3e86c8-f3fa-45cb-8ffd-ccb3e6d057e2",
   "metadata": {},
   "source": [
    "# Select One Column from a `DataFrame`"
   ]
  },
  {
   "cell_type": "code",
   "execution_count": null,
   "id": "35093eb9-fe0e-4e74-adf2-3c505741da72",
   "metadata": {},
   "outputs": [],
   "source": [
    "nba.head()"
   ]
  },
  {
   "cell_type": "markdown",
   "id": "c436d523-9a74-43b0-92fb-774bc0c31523",
   "metadata": {},
   "source": [
    "## First option: `.` syntax"
   ]
  },
  {
   "cell_type": "code",
   "execution_count": null,
   "id": "5f012658-ca3f-4ebb-9266-2f4eb432ffa0",
   "metadata": {
    "tags": []
   },
   "outputs": [],
   "source": [
    "nba.Name"
   ]
  },
  {
   "cell_type": "markdown",
   "id": "be41a202-6e49-46ab-b45b-7353922c673d",
   "metadata": {},
   "source": [
    "When we extract a single column from a DF we get a Series"
   ]
  },
  {
   "cell_type": "code",
   "execution_count": null,
   "id": "4aaa7647-8417-45c2-82c5-7091b9de0c00",
   "metadata": {},
   "outputs": [],
   "source": [
    "type(nba.Name)"
   ]
  },
  {
   "cell_type": "markdown",
   "id": "90d9c3c0-a12b-402b-ba8e-fb66a77e6443",
   "metadata": {},
   "source": [
    "## Second option: *brackets* syntax\n",
    "This method is safer."
   ]
  },
  {
   "cell_type": "code",
   "execution_count": null,
   "id": "322f87a9-0781-45a6-aa93-ab802c114e30",
   "metadata": {
    "tags": []
   },
   "outputs": [],
   "source": [
    "nba[\"Name\"]"
   ]
  },
  {
   "cell_type": "markdown",
   "id": "045a275a-2add-4e33-9a9a-3236ffccac63",
   "metadata": {},
   "source": [
    "# Selecting two or more columns"
   ]
  },
  {
   "cell_type": "code",
   "execution_count": null,
   "id": "ffe68a61-183d-46ae-a951-2f693149dbac",
   "metadata": {},
   "outputs": [],
   "source": [
    "nba.head()"
   ]
  },
  {
   "cell_type": "code",
   "execution_count": null,
   "id": "48c25e25-b200-4f47-bc09-3b03b15f39bb",
   "metadata": {
    "tags": []
   },
   "outputs": [],
   "source": [
    "nba[[\"Name\", \"Team\"]]  # put to pairs of square brackets."
   ]
  },
  {
   "cell_type": "code",
   "execution_count": null,
   "id": "eee3eee3-0406-4051-8842-b59e77847751",
   "metadata": {
    "tags": []
   },
   "outputs": [],
   "source": [
    "# using variable\n",
    "antropo = [\"Age\", \"Height\", \"Weight\"]\n",
    "nba[antropo]"
   ]
  },
  {
   "cell_type": "markdown",
   "id": "586bfba6-acf6-407e-9236-66334cb5370b",
   "metadata": {},
   "source": [
    "# Add a new column"
   ]
  },
  {
   "cell_type": "code",
   "execution_count": null,
   "id": "536f7f10-011e-407b-9f69-f5969f3d02ce",
   "metadata": {},
   "outputs": [],
   "source": [
    "nba[\"Sport\"] = \"Basketball\"\n",
    "nba.head()"
   ]
  },
  {
   "cell_type": "code",
   "execution_count": null,
   "id": "26081e4d-1e46-48a9-b6bc-af2d21ab9559",
   "metadata": {},
   "outputs": [],
   "source": [
    "nba[\"League\"] = \"National Basketball Association\"\n",
    "nba.head()"
   ]
  },
  {
   "cell_type": "code",
   "execution_count": null,
   "id": "df768906-a17e-4871-a372-0015d1722391",
   "metadata": {},
   "outputs": [],
   "source": [
    "nba = pd.read_csv(\"nba.csv\")\n",
    "nba.head()"
   ]
  },
  {
   "cell_type": "code",
   "execution_count": null,
   "id": "9d9c8117-476e-400c-90b6-3a9c822f009e",
   "metadata": {},
   "outputs": [],
   "source": [
    "nba.insert(loc=3, column=\"Sports\", value=\"Basketball\")\n",
    "nba.head()"
   ]
  },
  {
   "cell_type": "code",
   "execution_count": null,
   "id": "6357cbaa-37d4-45c2-b054-91e615a5ed2c",
   "metadata": {},
   "outputs": [],
   "source": [
    "nba.head(3)"
   ]
  },
  {
   "cell_type": "markdown",
   "id": "9b6807ad",
   "metadata": {},
   "source": [
    "# Broadcasting Operations"
   ]
  },
  {
   "cell_type": "code",
   "execution_count": null,
   "id": "62a7ca5a",
   "metadata": {},
   "outputs": [],
   "source": [
    "nba[\"Age\"].add(5)  # adding with function"
   ]
  },
  {
   "cell_type": "code",
   "execution_count": null,
   "id": "202ba0e1",
   "metadata": {},
   "outputs": [],
   "source": [
    "nba[\"Age\"] + 5  # adding with `plus` operator"
   ]
  },
  {
   "cell_type": "code",
   "execution_count": null,
   "id": "83caf9a6",
   "metadata": {},
   "outputs": [],
   "source": [
    "# convert pounds to kilograms\n",
    "nba[\"Weight in Kilograms\"] = nba[\"Weight\"] * 0.453592"
   ]
  },
  {
   "cell_type": "code",
   "execution_count": null,
   "id": "2ef7ef93",
   "metadata": {},
   "outputs": [],
   "source": [
    "nba.head()"
   ]
  },
  {
   "cell_type": "code",
   "execution_count": null,
   "id": "cd69cc10",
   "metadata": {},
   "outputs": [],
   "source": [
    "# express salary in millios\n",
    "nba[\"Salary (millions $)\"] = nba[\"Salary\"] / 1e06"
   ]
  },
  {
   "cell_type": "code",
   "execution_count": null,
   "id": "cda78f8c",
   "metadata": {},
   "outputs": [],
   "source": [
    "nba.head(3)"
   ]
  },
  {
   "cell_type": "markdown",
   "id": "99e4cf34",
   "metadata": {},
   "source": [
    "# Review `value_counts()`\n",
    "\n",
    "This method only works on series."
   ]
  },
  {
   "cell_type": "code",
   "execution_count": null,
   "id": "5b0b66e3",
   "metadata": {},
   "outputs": [],
   "source": [
    "nba[\"Team\"].value_counts()"
   ]
  },
  {
   "cell_type": "code",
   "execution_count": null,
   "id": "aa35483a",
   "metadata": {},
   "outputs": [],
   "source": [
    "nba[\"Position\"].value_counts(ascending=True)"
   ]
  },
  {
   "cell_type": "markdown",
   "id": "c8310bbe-152c-4a3e-b810-d18485e27678",
   "metadata": {},
   "source": [
    "# Drop cells with null values"
   ]
  },
  {
   "cell_type": "code",
   "execution_count": null,
   "id": "cb372ad3-a726-4e73-8fcb-c091ee44f79c",
   "metadata": {},
   "outputs": [],
   "source": [
    "nba = pd.read_csv(\"nba.csv\")\n",
    "nba.shape"
   ]
  },
  {
   "cell_type": "code",
   "execution_count": null,
   "id": "675d20f5-de09-40c6-923b-1db1a5f37685",
   "metadata": {
    "tags": []
   },
   "outputs": [],
   "source": [
    "nba.dropna(how=\"any\").tail()  # this method drops a row, by default, with ANY null value"
   ]
  },
  {
   "cell_type": "code",
   "execution_count": null,
   "id": "a8b1f327-dbf6-4be6-a07b-f3a8e6d78757",
   "metadata": {},
   "outputs": [],
   "source": [
    "nba.dropna(how=\"all\", inplace=True)  # remove a row if all columns have null value"
   ]
  },
  {
   "cell_type": "code",
   "execution_count": null,
   "id": "aed3f460-9142-4ba4-a36e-ea642e33fe26",
   "metadata": {
    "tags": []
   },
   "outputs": [],
   "source": [
    "nba.tail()"
   ]
  },
  {
   "cell_type": "code",
   "execution_count": null,
   "id": "15331a5d-1205-4b2a-b78c-cbce4f9eca35",
   "metadata": {
    "tags": []
   },
   "outputs": [],
   "source": [
    "nba.dropna(axis=1)  # remove columns"
   ]
  },
  {
   "cell_type": "code",
   "execution_count": null,
   "id": "5822a2c2-3c95-48ab-9852-d6e16e6779e9",
   "metadata": {
    "tags": []
   },
   "outputs": [],
   "source": [
    "nba.dropna(\n",
    "    subset=[\"Salary\", \"College\"]\n",
    ")  # remove row if College or Salary column is NaN"
   ]
  },
  {
   "cell_type": "markdown",
   "id": "1ace896b-193f-4848-bdd7-788b56c8c413",
   "metadata": {},
   "source": [
    "# Fill NaN values with `fillna()` method"
   ]
  },
  {
   "cell_type": "code",
   "execution_count": null,
   "id": "6e397dfe-b1c1-42d6-9640-df2cfb5e4a41",
   "metadata": {},
   "outputs": [],
   "source": [
    "nba = pd.read_csv(\"nba.csv\")\n",
    "nba.head()"
   ]
  },
  {
   "cell_type": "code",
   "execution_count": null,
   "id": "193fe6e8-907e-4996-8ae2-bf2ebdcd1b72",
   "metadata": {
    "tags": []
   },
   "outputs": [],
   "source": [
    "nba.fillna(value=0)"
   ]
  },
  {
   "cell_type": "code",
   "execution_count": null,
   "id": "14cb9dec-81d9-474b-a54b-3fa60e5db9a6",
   "metadata": {},
   "outputs": [],
   "source": [
    "nba[\"Salary\"].fillna(value=0, inplace=True)\n",
    "nba.head()"
   ]
  },
  {
   "cell_type": "code",
   "execution_count": null,
   "id": "a5e5b66d-5054-412a-b781-0c4b1d3f9019",
   "metadata": {},
   "outputs": [],
   "source": [
    "nba[\"College\"].fillna(value=\"No college\", inplace=True)\n",
    "nba.head()"
   ]
  },
  {
   "cell_type": "markdown",
   "id": "fd6b1cef-3441-49e9-9b62-f4df65e4fd3e",
   "metadata": {},
   "source": [
    "# The `astype()` method"
   ]
  },
  {
   "cell_type": "code",
   "execution_count": null,
   "id": "f3f414db-61d4-4099-82c9-66eafb86d9d3",
   "metadata": {},
   "outputs": [],
   "source": [
    "nba = pd.read_csv(\"nba.csv\").dropna(how=\"all\")\n",
    "nba[\"Salary\"].fillna(value=0, inplace=True)\n",
    "nba[\"College\"].fillna(value=\"None\", inplace=True)\n",
    "nba.head(6)"
   ]
  },
  {
   "cell_type": "code",
   "execution_count": null,
   "id": "eb691871-c5e3-46d5-86c1-132b25fce438",
   "metadata": {},
   "outputs": [],
   "source": [
    "nba.dtypes"
   ]
  },
  {
   "cell_type": "code",
   "execution_count": null,
   "id": "7eddda76-21cf-4250-a349-d26372d097dd",
   "metadata": {},
   "outputs": [],
   "source": [
    "nba.info()"
   ]
  },
  {
   "cell_type": "code",
   "execution_count": null,
   "id": "f1ecbe62-1fb0-4878-a3f9-03756f787ec9",
   "metadata": {},
   "outputs": [],
   "source": [
    "# Convert Salary to int\n",
    "nba[\"Salary\"] = nba[\"Salary\"].astype(dtype=\"int\", copy=True, errors=\"raise\")"
   ]
  },
  {
   "cell_type": "code",
   "execution_count": null,
   "id": "f926883d-481c-4843-b95c-dfc03458a46a",
   "metadata": {},
   "outputs": [],
   "source": [
    "nba[\"Number\"] = nba[\"Number\"].astype(dtype=\"int\", copy=True, errors=\"raise\")"
   ]
  },
  {
   "cell_type": "code",
   "execution_count": null,
   "id": "13242788-fd3f-467b-be95-2502ff8f09be",
   "metadata": {},
   "outputs": [],
   "source": [
    "nba[\"Age\"] = nba[\"Age\"].astype(dtype=\"int\", copy=True, errors=\"raise\")"
   ]
  },
  {
   "cell_type": "code",
   "execution_count": null,
   "id": "19be5b9b-420c-49f6-ab01-612a8aea3c89",
   "metadata": {},
   "outputs": [],
   "source": [
    "nba[\"Weight\"] = nba[\"Weight\"].astype(dtype=\"int\", copy=True, errors=\"raise\")"
   ]
  },
  {
   "cell_type": "code",
   "execution_count": null,
   "id": "d7e066f8-97a9-4507-b6c5-c877f4abf067",
   "metadata": {},
   "outputs": [],
   "source": [
    "# The position only have 5 possible values so it is ideal to cast to category\n",
    "nba[\"Position\"].value_counts()"
   ]
  },
  {
   "cell_type": "code",
   "execution_count": null,
   "id": "471b9aed-2f58-488d-a1b1-ac27448cc132",
   "metadata": {},
   "outputs": [],
   "source": [
    "nba[\"Position\"] = nba[\"Position\"].astype(dtype=\"category\")\n",
    "nba[\"Team\"] = nba[\"Team\"].astype(dtype=\"category\")"
   ]
  },
  {
   "cell_type": "code",
   "execution_count": null,
   "id": "266d67dd-9162-4230-9715-542bcdc5704a",
   "metadata": {},
   "outputs": [],
   "source": [
    "nba.info()"
   ]
  },
  {
   "cell_type": "markdown",
   "id": "0130d02a-2508-4957-81d6-11874d85d48c",
   "metadata": {},
   "source": [
    "# Sort a Dataframe with the `sort_values()` method - Part 1 "
   ]
  },
  {
   "cell_type": "code",
   "execution_count": null,
   "id": "675831bb-4f0a-4398-b928-d96dea4e0ea5",
   "metadata": {
    "collapsed": true,
    "jupyter": {
     "outputs_hidden": true
    },
    "tags": []
   },
   "outputs": [],
   "source": [
    "nba = pd.read_csv(\"nba.csv\")\n",
    "nba.head()"
   ]
  },
  {
   "cell_type": "code",
   "execution_count": null,
   "id": "d1207aad-08a5-4075-8259-a44dff80858c",
   "metadata": {
    "collapsed": true,
    "jupyter": {
     "outputs_hidden": true
    },
    "tags": []
   },
   "outputs": [],
   "source": [
    "nba.sort_values(by=\"Name\")  # we have to choose the column to sort values.\n",
    "nba.head()\n",
    "# by default sort_values places the NaN values at the very last\n",
    "# this can be changed using the first parameter."
   ]
  },
  {
   "cell_type": "markdown",
   "id": "e0dd04ff-b7b0-4408-a852-fc39957e8669",
   "metadata": {},
   "source": [
    "# Sort a Dataframe with the `sort_values()` method - Part 1 "
   ]
  },
  {
   "cell_type": "code",
   "execution_count": null,
   "id": "c35ed017-5979-49f8-8218-d1a4b96e387b",
   "metadata": {
    "collapsed": true,
    "jupyter": {
     "outputs_hidden": true
    },
    "tags": []
   },
   "outputs": [],
   "source": [
    "# sort by team (ascending order), then by player name (descending order),\n",
    "nba.sort_values(by=[\"Team\", \"Name\"], ascending=[True, False]).head(10)"
   ]
  },
  {
   "cell_type": "markdown",
   "id": "22f966af-055f-49e4-ace7-d9f214e9d133",
   "metadata": {},
   "source": [
    "# The `.sort_index()` method"
   ]
  },
  {
   "cell_type": "code",
   "execution_count": null,
   "id": "bbf01d88-6132-4ca6-a421-60b41a789c97",
   "metadata": {},
   "outputs": [],
   "source": [
    "nba.sort_values(by=[\"Team\", \"Name\"], ascending=[True, False], inplace=True)"
   ]
  },
  {
   "cell_type": "code",
   "execution_count": null,
   "id": "e22fcda0-c5d0-424f-8876-8013f7575ef2",
   "metadata": {
    "collapsed": true,
    "jupyter": {
     "outputs_hidden": true
    },
    "tags": []
   },
   "outputs": [],
   "source": [
    "nba.tail()  # idexes are in random order"
   ]
  },
  {
   "cell_type": "code",
   "execution_count": null,
   "id": "cd65f37d-6742-4087-b5d5-9e08b4481087",
   "metadata": {
    "collapsed": true,
    "jupyter": {
     "outputs_hidden": true
    },
    "tags": []
   },
   "outputs": [],
   "source": [
    "## revert the original order with sort_index()\n",
    "nba.sort_index(inplace=True)\n",
    "nba.head()"
   ]
  },
  {
   "cell_type": "markdown",
   "id": "0a5f71b9-1595-4b53-9fa1-67c7ed58197a",
   "metadata": {},
   "source": [
    "# Rank values with the `rank()` method"
   ]
  },
  {
   "cell_type": "code",
   "execution_count": null,
   "id": "609c1d18-b9b3-4135-b044-889819b425c1",
   "metadata": {
    "collapsed": true,
    "jupyter": {
     "outputs_hidden": true
    },
    "tags": []
   },
   "outputs": [],
   "source": [
    "nba = pd.read_csv(\"nba.csv\").dropna(how=\"all\")  # remove row with all NaN values\n",
    "nba[\"Salary\"] = (\n",
    "    nba[\"Salary\"].fillna(value=0).astype(\"int\")\n",
    ")  # substitute the NaN values in this column\n",
    "nba.head()"
   ]
  },
  {
   "cell_type": "code",
   "execution_count": null,
   "id": "a038072b-b2d7-4451-930e-85866cbb5bfe",
   "metadata": {
    "collapsed": true,
    "jupyter": {
     "outputs_hidden": true
    },
    "tags": []
   },
   "outputs": [],
   "source": [
    "nba[\"Salary_Rank\"] = nba[\"Salary\"].rank(ascending=False).astype(\"int\")\n",
    "nba.head()"
   ]
  },
  {
   "cell_type": "code",
   "execution_count": null,
   "id": "c9604d07-652f-422c-9cf0-2f9ed71f8753",
   "metadata": {},
   "outputs": [],
   "source": [
    "nba.sort_values(by=[\"Salary\"], ascending=False)"
   ]
  }
 ],
 "metadata": {
  "kernelspec": {
   "display_name": "Python 3.10.4 ('pandas_playground')",
   "language": "python",
   "name": "python3"
  },
  "language_info": {
   "codemirror_mode": {
    "name": "ipython",
    "version": 3
   },
   "file_extension": ".py",
   "mimetype": "text/x-python",
   "name": "python",
   "nbconvert_exporter": "python",
   "pygments_lexer": "ipython3",
   "version": "3.10.4"
  },
  "vscode": {
   "interpreter": {
    "hash": "5431d8997ded1fc9d3d05a65bd72c147f4ad391ac23d4b528cffdf6ff5a60c23"
   }
  }
 },
 "nbformat": 4,
 "nbformat_minor": 5
}
