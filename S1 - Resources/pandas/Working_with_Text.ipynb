{
 "cells": [
  {
   "cell_type": "code",
   "execution_count": 1,
   "metadata": {
    "collapsed": true,
    "jupyter": {
     "outputs_hidden": true
    },
    "pycharm": {
     "name": "#%%\n"
    }
   },
   "outputs": [],
   "source": [
    "import pandas as pd"
   ]
  },
  {
   "cell_type": "code",
   "execution_count": 2,
   "metadata": {
    "collapsed": true,
    "jupyter": {
     "outputs_hidden": true
    },
    "pycharm": {
     "name": "#%%\n"
    }
   },
   "outputs": [
    {
     "data": {
      "text/plain": "                  Name            Position Title        Department  \\\n0      AARON,  ELVIA J          WATER RATE TAKER       WATER MGMNT   \n1    AARON,  JEFFERY M            POLICE OFFICER            POLICE   \n2       AARON,  KARINA            POLICE OFFICER            POLICE   \n3  AARON,  KIMBERLEI R  CHIEF CONTRACT EXPEDITER  GENERAL SERVICES   \n4  ABAD JR,  VICENTE M         CIVIL ENGINEER IV       WATER MGMNT   \n\n  Employee Annual Salary  \n0              $90744.00  \n1              $84450.00  \n2              $84450.00  \n3              $89880.00  \n4             $106836.00  ",
      "text/html": "<div>\n<style scoped>\n    .dataframe tbody tr th:only-of-type {\n        vertical-align: middle;\n    }\n\n    .dataframe tbody tr th {\n        vertical-align: top;\n    }\n\n    .dataframe thead th {\n        text-align: right;\n    }\n</style>\n<table border=\"1\" class=\"dataframe\">\n  <thead>\n    <tr style=\"text-align: right;\">\n      <th></th>\n      <th>Name</th>\n      <th>Position Title</th>\n      <th>Department</th>\n      <th>Employee Annual Salary</th>\n    </tr>\n  </thead>\n  <tbody>\n    <tr>\n      <th>0</th>\n      <td>AARON,  ELVIA J</td>\n      <td>WATER RATE TAKER</td>\n      <td>WATER MGMNT</td>\n      <td>$90744.00</td>\n    </tr>\n    <tr>\n      <th>1</th>\n      <td>AARON,  JEFFERY M</td>\n      <td>POLICE OFFICER</td>\n      <td>POLICE</td>\n      <td>$84450.00</td>\n    </tr>\n    <tr>\n      <th>2</th>\n      <td>AARON,  KARINA</td>\n      <td>POLICE OFFICER</td>\n      <td>POLICE</td>\n      <td>$84450.00</td>\n    </tr>\n    <tr>\n      <th>3</th>\n      <td>AARON,  KIMBERLEI R</td>\n      <td>CHIEF CONTRACT EXPEDITER</td>\n      <td>GENERAL SERVICES</td>\n      <td>$89880.00</td>\n    </tr>\n    <tr>\n      <th>4</th>\n      <td>ABAD JR,  VICENTE M</td>\n      <td>CIVIL ENGINEER IV</td>\n      <td>WATER MGMNT</td>\n      <td>$106836.00</td>\n    </tr>\n  </tbody>\n</table>\n</div>"
     },
     "execution_count": 2,
     "metadata": {},
     "output_type": "execute_result"
    }
   ],
   "source": [
    "chicago = pd.read_csv(\"chicago.csv\").dropna(how=\"all\")\n",
    "chicago[\"Department\"] = chicago[\"Department\"].astype(\"category\")\n",
    "chicago.head()"
   ]
  },
  {
   "cell_type": "code",
   "execution_count": 3,
   "metadata": {
    "collapsed": true,
    "jupyter": {
     "outputs_hidden": true
    },
    "pycharm": {
     "name": "#%%\n"
    }
   },
   "outputs": [
    {
     "name": "stdout",
     "output_type": "stream",
     "text": [
      "<class 'pandas.core.frame.DataFrame'>\n",
      "Int64Index: 32062 entries, 0 to 32061\n",
      "Data columns (total 4 columns):\n",
      " #   Column                  Non-Null Count  Dtype   \n",
      "---  ------                  --------------  -----   \n",
      " 0   Name                    32062 non-null  object  \n",
      " 1   Position Title          32062 non-null  object  \n",
      " 2   Department              32062 non-null  category\n",
      " 3   Employee Annual Salary  32062 non-null  object  \n",
      "dtypes: category(1), object(3)\n",
      "memory usage: 1.0+ MB\n"
     ]
    }
   ],
   "source": [
    "chicago.info()"
   ]
  },
  {
   "cell_type": "markdown",
   "metadata": {
    "pycharm": {
     "name": "#%% md\n"
    }
   },
   "source": [
    "# Common string methods `.lower()`, `.upper()`, `.title()` and `.len()`"
   ]
  },
  {
   "cell_type": "code",
   "execution_count": 4,
   "metadata": {
    "collapsed": true,
    "jupyter": {
     "outputs_hidden": true
    },
    "pycharm": {
     "name": "#%%\n"
    }
   },
   "outputs": [],
   "source": [
    "chicago[\"Name\"] = chicago[\"Name\"].str.title()\n",
    "chicago[\"Position Title\"] = chicago[\"Position Title\"].str.title()"
   ]
  },
  {
   "cell_type": "code",
   "execution_count": 5,
   "metadata": {
    "collapsed": true,
    "jupyter": {
     "outputs_hidden": true
    },
    "pycharm": {
     "name": "#%%\n"
    }
   },
   "outputs": [
    {
     "data": {
      "text/plain": "                      Name                  Position Title        Department  \\\n32057  Zygadlo,  Michael J  Frm Of Machinists - Automotive  GENERAL SERVICES   \n32058   Zygowicz,  Peter J                  Police Officer            POLICE   \n32059    Zymantas,  Mark E                  Police Officer            POLICE   \n32060  Zyrkowski,  Carlo E                  Police Officer            POLICE   \n32061  Zyskowski,  Dariusz         Chief Data Base Analyst              DoIT   \n\n      Employee Annual Salary  \n32057              $99528.00  \n32058              $87384.00  \n32059              $84450.00  \n32060              $87384.00  \n32061             $113664.00  ",
      "text/html": "<div>\n<style scoped>\n    .dataframe tbody tr th:only-of-type {\n        vertical-align: middle;\n    }\n\n    .dataframe tbody tr th {\n        vertical-align: top;\n    }\n\n    .dataframe thead th {\n        text-align: right;\n    }\n</style>\n<table border=\"1\" class=\"dataframe\">\n  <thead>\n    <tr style=\"text-align: right;\">\n      <th></th>\n      <th>Name</th>\n      <th>Position Title</th>\n      <th>Department</th>\n      <th>Employee Annual Salary</th>\n    </tr>\n  </thead>\n  <tbody>\n    <tr>\n      <th>32057</th>\n      <td>Zygadlo,  Michael J</td>\n      <td>Frm Of Machinists - Automotive</td>\n      <td>GENERAL SERVICES</td>\n      <td>$99528.00</td>\n    </tr>\n    <tr>\n      <th>32058</th>\n      <td>Zygowicz,  Peter J</td>\n      <td>Police Officer</td>\n      <td>POLICE</td>\n      <td>$87384.00</td>\n    </tr>\n    <tr>\n      <th>32059</th>\n      <td>Zymantas,  Mark E</td>\n      <td>Police Officer</td>\n      <td>POLICE</td>\n      <td>$84450.00</td>\n    </tr>\n    <tr>\n      <th>32060</th>\n      <td>Zyrkowski,  Carlo E</td>\n      <td>Police Officer</td>\n      <td>POLICE</td>\n      <td>$87384.00</td>\n    </tr>\n    <tr>\n      <th>32061</th>\n      <td>Zyskowski,  Dariusz</td>\n      <td>Chief Data Base Analyst</td>\n      <td>DoIT</td>\n      <td>$113664.00</td>\n    </tr>\n  </tbody>\n</table>\n</div>"
     },
     "execution_count": 5,
     "metadata": {},
     "output_type": "execute_result"
    }
   ],
   "source": [
    "chicago.tail()"
   ]
  },
  {
   "cell_type": "code",
   "execution_count": 6,
   "metadata": {
    "collapsed": true,
    "jupyter": {
     "outputs_hidden": true
    },
    "pycharm": {
     "name": "#%%\n"
    },
    "tags": []
   },
   "outputs": [],
   "source": [
    "chicago[\"Department\"] = (\n",
    "    chicago[\"Department\"].str.replace(\"MGMNT\", \"MANAGEMENT\").str.title()\n",
    ")"
   ]
  },
  {
   "cell_type": "code",
   "execution_count": 7,
   "metadata": {
    "collapsed": true,
    "jupyter": {
     "outputs_hidden": true
    },
    "pycharm": {
     "name": "#%%\n"
    }
   },
   "outputs": [],
   "source": [
    "chicago[\"Employee Annual Salary\"] = (\n",
    "    chicago[\"Employee Annual Salary\"].str.replace(r\"\\$\", \"\", regex=True).astype(\"float\")\n",
    ")"
   ]
  },
  {
   "cell_type": "code",
   "execution_count": 8,
   "metadata": {
    "collapsed": true,
    "jupyter": {
     "outputs_hidden": true
    },
    "pycharm": {
     "name": "#%%\n"
    }
   },
   "outputs": [
    {
     "data": {
      "text/plain": "                  Name            Position Title        Department  \\\n0      Aaron,  Elvia J          Water Rate Taker  Water Management   \n1    Aaron,  Jeffery M            Police Officer            Police   \n2       Aaron,  Karina            Police Officer            Police   \n3  Aaron,  Kimberlei R  Chief Contract Expediter  General Services   \n4  Abad Jr,  Vicente M         Civil Engineer Iv  Water Management   \n\n   Employee Annual Salary  \n0                 90744.0  \n1                 84450.0  \n2                 84450.0  \n3                 89880.0  \n4                106836.0  ",
      "text/html": "<div>\n<style scoped>\n    .dataframe tbody tr th:only-of-type {\n        vertical-align: middle;\n    }\n\n    .dataframe tbody tr th {\n        vertical-align: top;\n    }\n\n    .dataframe thead th {\n        text-align: right;\n    }\n</style>\n<table border=\"1\" class=\"dataframe\">\n  <thead>\n    <tr style=\"text-align: right;\">\n      <th></th>\n      <th>Name</th>\n      <th>Position Title</th>\n      <th>Department</th>\n      <th>Employee Annual Salary</th>\n    </tr>\n  </thead>\n  <tbody>\n    <tr>\n      <th>0</th>\n      <td>Aaron,  Elvia J</td>\n      <td>Water Rate Taker</td>\n      <td>Water Management</td>\n      <td>90744.0</td>\n    </tr>\n    <tr>\n      <th>1</th>\n      <td>Aaron,  Jeffery M</td>\n      <td>Police Officer</td>\n      <td>Police</td>\n      <td>84450.0</td>\n    </tr>\n    <tr>\n      <th>2</th>\n      <td>Aaron,  Karina</td>\n      <td>Police Officer</td>\n      <td>Police</td>\n      <td>84450.0</td>\n    </tr>\n    <tr>\n      <th>3</th>\n      <td>Aaron,  Kimberlei R</td>\n      <td>Chief Contract Expediter</td>\n      <td>General Services</td>\n      <td>89880.0</td>\n    </tr>\n    <tr>\n      <th>4</th>\n      <td>Abad Jr,  Vicente M</td>\n      <td>Civil Engineer Iv</td>\n      <td>Water Management</td>\n      <td>106836.0</td>\n    </tr>\n  </tbody>\n</table>\n</div>"
     },
     "execution_count": 8,
     "metadata": {},
     "output_type": "execute_result"
    }
   ],
   "source": [
    "chicago.head()"
   ]
  },
  {
   "cell_type": "code",
   "execution_count": 9,
   "metadata": {
    "collapsed": true,
    "jupyter": {
     "outputs_hidden": true
    },
    "pycharm": {
     "name": "#%%\n"
    }
   },
   "outputs": [
    {
     "data": {
      "text/plain": "                       Name                                 Position Title  \\\n0           Aaron,  Elvia J                               Water Rate Taker   \n554      Aluise,  Vincent G             Foreman Of Water Pipe Construction   \n671         Ander,  Perry A                               Water Chemist Ii   \n685     Anderson,  Andrew J  District Superintendent Of Water Distribution   \n702       Anderson,  Donald             Foreman Of Water Pipe Construction   \n...                     ...                                            ...   \n29669        Verma,  Anupam           Managing Engineer - Water Management   \n30239   Washington,  Joseph                              Water Chemist Iii   \n30544       West,  Thomas R                   Gen Supt Of Water Management   \n30991    Williams,  Matthew             Foreman Of Water Pipe Construction   \n31405  Woodridge,  Robert L             Foreman Of Water Pipe Construction   \n\n             Department  Employee Annual Salary  \n0      Water Management                 90744.0  \n554    Water Management                102440.0  \n671    Water Management                 82044.0  \n685    Water Management                109272.0  \n702    Water Management                102440.0  \n...                 ...                     ...  \n29669  Water Management                111192.0  \n30239  Water Management                 89676.0  \n30544  Water Management                115704.0  \n30991  Water Management                102440.0  \n31405  Water Management                102440.0  \n\n[111 rows x 4 columns]",
      "text/html": "<div>\n<style scoped>\n    .dataframe tbody tr th:only-of-type {\n        vertical-align: middle;\n    }\n\n    .dataframe tbody tr th {\n        vertical-align: top;\n    }\n\n    .dataframe thead th {\n        text-align: right;\n    }\n</style>\n<table border=\"1\" class=\"dataframe\">\n  <thead>\n    <tr style=\"text-align: right;\">\n      <th></th>\n      <th>Name</th>\n      <th>Position Title</th>\n      <th>Department</th>\n      <th>Employee Annual Salary</th>\n    </tr>\n  </thead>\n  <tbody>\n    <tr>\n      <th>0</th>\n      <td>Aaron,  Elvia J</td>\n      <td>Water Rate Taker</td>\n      <td>Water Management</td>\n      <td>90744.0</td>\n    </tr>\n    <tr>\n      <th>554</th>\n      <td>Aluise,  Vincent G</td>\n      <td>Foreman Of Water Pipe Construction</td>\n      <td>Water Management</td>\n      <td>102440.0</td>\n    </tr>\n    <tr>\n      <th>671</th>\n      <td>Ander,  Perry A</td>\n      <td>Water Chemist Ii</td>\n      <td>Water Management</td>\n      <td>82044.0</td>\n    </tr>\n    <tr>\n      <th>685</th>\n      <td>Anderson,  Andrew J</td>\n      <td>District Superintendent Of Water Distribution</td>\n      <td>Water Management</td>\n      <td>109272.0</td>\n    </tr>\n    <tr>\n      <th>702</th>\n      <td>Anderson,  Donald</td>\n      <td>Foreman Of Water Pipe Construction</td>\n      <td>Water Management</td>\n      <td>102440.0</td>\n    </tr>\n    <tr>\n      <th>...</th>\n      <td>...</td>\n      <td>...</td>\n      <td>...</td>\n      <td>...</td>\n    </tr>\n    <tr>\n      <th>29669</th>\n      <td>Verma,  Anupam</td>\n      <td>Managing Engineer - Water Management</td>\n      <td>Water Management</td>\n      <td>111192.0</td>\n    </tr>\n    <tr>\n      <th>30239</th>\n      <td>Washington,  Joseph</td>\n      <td>Water Chemist Iii</td>\n      <td>Water Management</td>\n      <td>89676.0</td>\n    </tr>\n    <tr>\n      <th>30544</th>\n      <td>West,  Thomas R</td>\n      <td>Gen Supt Of Water Management</td>\n      <td>Water Management</td>\n      <td>115704.0</td>\n    </tr>\n    <tr>\n      <th>30991</th>\n      <td>Williams,  Matthew</td>\n      <td>Foreman Of Water Pipe Construction</td>\n      <td>Water Management</td>\n      <td>102440.0</td>\n    </tr>\n    <tr>\n      <th>31405</th>\n      <td>Woodridge,  Robert L</td>\n      <td>Foreman Of Water Pipe Construction</td>\n      <td>Water Management</td>\n      <td>102440.0</td>\n    </tr>\n  </tbody>\n</table>\n<p>111 rows × 4 columns</p>\n</div>"
     },
     "execution_count": 9,
     "metadata": {},
     "output_type": "execute_result"
    }
   ],
   "source": [
    "mask = chicago[\"Position Title\"].str.lower().str.contains(\"water\")\n",
    "chicago[mask]"
   ]
  },
  {
   "cell_type": "code",
   "execution_count": 10,
   "metadata": {
    "collapsed": true,
    "jupyter": {
     "outputs_hidden": true
    },
    "pycharm": {
     "name": "#%%\n"
    }
   },
   "outputs": [
    {
     "data": {
      "text/plain": "                         Name           Position Title        Department  \\\n0             Aaron,  Elvia J         Water Rate Taker  Water Management   \n671           Ander,  Perry A         Water Chemist Ii  Water Management   \n1054         Ashley,  Karma T         Water Chemist Ii  Water Management   \n1079        Atkins,  Joanna M         Water Chemist Ii  Water Management   \n1181       Azeem,  Mohammed A         Water Chemist Ii  Water Management   \n...                       ...                      ...               ...   \n28574      Threatt,  Denise R  Water Quality Inspector  Water Management   \n28602       Tignor,  Darryl B         Water Rate Taker  Water Management   \n28955  Travis Cook,  Leslie R         Water Rate Taker  Water Management   \n29584        Velazquez,  John         Water Rate Taker  Water Management   \n30239     Washington,  Joseph        Water Chemist Iii  Water Management   \n\n       Employee Annual Salary  \n0                     90744.0  \n671                   82044.0  \n1054                  82044.0  \n1079                  82044.0  \n1181                  53172.0  \n...                       ...  \n28574                 62004.0  \n28602                 78948.0  \n28955                 78948.0  \n29584                 78948.0  \n30239                 89676.0  \n\n[75 rows x 4 columns]",
      "text/html": "<div>\n<style scoped>\n    .dataframe tbody tr th:only-of-type {\n        vertical-align: middle;\n    }\n\n    .dataframe tbody tr th {\n        vertical-align: top;\n    }\n\n    .dataframe thead th {\n        text-align: right;\n    }\n</style>\n<table border=\"1\" class=\"dataframe\">\n  <thead>\n    <tr style=\"text-align: right;\">\n      <th></th>\n      <th>Name</th>\n      <th>Position Title</th>\n      <th>Department</th>\n      <th>Employee Annual Salary</th>\n    </tr>\n  </thead>\n  <tbody>\n    <tr>\n      <th>0</th>\n      <td>Aaron,  Elvia J</td>\n      <td>Water Rate Taker</td>\n      <td>Water Management</td>\n      <td>90744.0</td>\n    </tr>\n    <tr>\n      <th>671</th>\n      <td>Ander,  Perry A</td>\n      <td>Water Chemist Ii</td>\n      <td>Water Management</td>\n      <td>82044.0</td>\n    </tr>\n    <tr>\n      <th>1054</th>\n      <td>Ashley,  Karma T</td>\n      <td>Water Chemist Ii</td>\n      <td>Water Management</td>\n      <td>82044.0</td>\n    </tr>\n    <tr>\n      <th>1079</th>\n      <td>Atkins,  Joanna M</td>\n      <td>Water Chemist Ii</td>\n      <td>Water Management</td>\n      <td>82044.0</td>\n    </tr>\n    <tr>\n      <th>1181</th>\n      <td>Azeem,  Mohammed A</td>\n      <td>Water Chemist Ii</td>\n      <td>Water Management</td>\n      <td>53172.0</td>\n    </tr>\n    <tr>\n      <th>...</th>\n      <td>...</td>\n      <td>...</td>\n      <td>...</td>\n      <td>...</td>\n    </tr>\n    <tr>\n      <th>28574</th>\n      <td>Threatt,  Denise R</td>\n      <td>Water Quality Inspector</td>\n      <td>Water Management</td>\n      <td>62004.0</td>\n    </tr>\n    <tr>\n      <th>28602</th>\n      <td>Tignor,  Darryl B</td>\n      <td>Water Rate Taker</td>\n      <td>Water Management</td>\n      <td>78948.0</td>\n    </tr>\n    <tr>\n      <th>28955</th>\n      <td>Travis Cook,  Leslie R</td>\n      <td>Water Rate Taker</td>\n      <td>Water Management</td>\n      <td>78948.0</td>\n    </tr>\n    <tr>\n      <th>29584</th>\n      <td>Velazquez,  John</td>\n      <td>Water Rate Taker</td>\n      <td>Water Management</td>\n      <td>78948.0</td>\n    </tr>\n    <tr>\n      <th>30239</th>\n      <td>Washington,  Joseph</td>\n      <td>Water Chemist Iii</td>\n      <td>Water Management</td>\n      <td>89676.0</td>\n    </tr>\n  </tbody>\n</table>\n<p>75 rows × 4 columns</p>\n</div>"
     },
     "execution_count": 10,
     "metadata": {},
     "output_type": "execute_result"
    }
   ],
   "source": [
    "mask2 = chicago[\"Position Title\"].str.lower().str.startswith(\"water\")\n",
    "chicago[mask2]"
   ]
  },
  {
   "cell_type": "code",
   "execution_count": 11,
   "metadata": {
    "collapsed": true,
    "jupyter": {
     "outputs_hidden": true
    },
    "pycharm": {
     "name": "#%%\n"
    }
   },
   "outputs": [
    {
     "data": {
      "text/plain": "                          Name                        Position Title  \\\n184             Afroz,  Nayyar                          Psychiatrist   \n308           Alarcon,  Luis J            Loan Processing Specialist   \n422           Allain,  Carolyn  Senior Telecommunications Specialist   \n472             Allen,  Robert                             Machinist   \n705        Anderson,  Edward M             Sr Procurement Specialist   \n...                        ...                                   ...   \n31667         Yoder,  Teresa G                   Archival Specialist   \n31688  Youngbloom,  Laurence G        Crimes Surveillance Specialist   \n31717       Young,  Kimberly M             Sr Procurement Specialist   \n31837            Zapata,  Hugo             Sr Procurement Specialist   \n31918        Zemke,  Richard P                             Machinist   \n\n                  Department  Employee Annual Salary  \n184                   Health                 99840.0  \n308    Community Development                 81948.0  \n422                     Doit                 89880.0  \n472         Water Management                 94328.0  \n705              Procurement                 91476.0  \n...                      ...                     ...  \n31667         Public Library                 74304.0  \n31688                   Oemc                 19676.8  \n31717            Procurement                 68556.0  \n31837            Procurement                 87324.0  \n31918               Aviation                 94328.0  \n\n[172 rows x 4 columns]",
      "text/html": "<div>\n<style scoped>\n    .dataframe tbody tr th:only-of-type {\n        vertical-align: middle;\n    }\n\n    .dataframe tbody tr th {\n        vertical-align: top;\n    }\n\n    .dataframe thead th {\n        text-align: right;\n    }\n</style>\n<table border=\"1\" class=\"dataframe\">\n  <thead>\n    <tr style=\"text-align: right;\">\n      <th></th>\n      <th>Name</th>\n      <th>Position Title</th>\n      <th>Department</th>\n      <th>Employee Annual Salary</th>\n    </tr>\n  </thead>\n  <tbody>\n    <tr>\n      <th>184</th>\n      <td>Afroz,  Nayyar</td>\n      <td>Psychiatrist</td>\n      <td>Health</td>\n      <td>99840.0</td>\n    </tr>\n    <tr>\n      <th>308</th>\n      <td>Alarcon,  Luis J</td>\n      <td>Loan Processing Specialist</td>\n      <td>Community Development</td>\n      <td>81948.0</td>\n    </tr>\n    <tr>\n      <th>422</th>\n      <td>Allain,  Carolyn</td>\n      <td>Senior Telecommunications Specialist</td>\n      <td>Doit</td>\n      <td>89880.0</td>\n    </tr>\n    <tr>\n      <th>472</th>\n      <td>Allen,  Robert</td>\n      <td>Machinist</td>\n      <td>Water Management</td>\n      <td>94328.0</td>\n    </tr>\n    <tr>\n      <th>705</th>\n      <td>Anderson,  Edward M</td>\n      <td>Sr Procurement Specialist</td>\n      <td>Procurement</td>\n      <td>91476.0</td>\n    </tr>\n    <tr>\n      <th>...</th>\n      <td>...</td>\n      <td>...</td>\n      <td>...</td>\n      <td>...</td>\n    </tr>\n    <tr>\n      <th>31667</th>\n      <td>Yoder,  Teresa G</td>\n      <td>Archival Specialist</td>\n      <td>Public Library</td>\n      <td>74304.0</td>\n    </tr>\n    <tr>\n      <th>31688</th>\n      <td>Youngbloom,  Laurence G</td>\n      <td>Crimes Surveillance Specialist</td>\n      <td>Oemc</td>\n      <td>19676.8</td>\n    </tr>\n    <tr>\n      <th>31717</th>\n      <td>Young,  Kimberly M</td>\n      <td>Sr Procurement Specialist</td>\n      <td>Procurement</td>\n      <td>68556.0</td>\n    </tr>\n    <tr>\n      <th>31837</th>\n      <td>Zapata,  Hugo</td>\n      <td>Sr Procurement Specialist</td>\n      <td>Procurement</td>\n      <td>87324.0</td>\n    </tr>\n    <tr>\n      <th>31918</th>\n      <td>Zemke,  Richard P</td>\n      <td>Machinist</td>\n      <td>Aviation</td>\n      <td>94328.0</td>\n    </tr>\n  </tbody>\n</table>\n<p>172 rows × 4 columns</p>\n</div>"
     },
     "execution_count": 11,
     "metadata": {},
     "output_type": "execute_result"
    }
   ],
   "source": [
    "mask3 = chicago[\"Position Title\"].str.lower().str.endswith(\"ist\")\n",
    "chicago[mask3]"
   ]
  },
  {
   "cell_type": "markdown",
   "metadata": {
    "pycharm": {
     "name": "#%% md\n"
    }
   },
   "source": [
    "# More DataFrame String Methods - `strip`, `lstrip`, and `rstrip`"
   ]
  },
  {
   "cell_type": "code",
   "execution_count": 12,
   "outputs": [
    {
     "data": {
      "text/plain": "                               Position Title        Department  \\\nName                                                              \nAARON,  ELVIA J              WATER RATE TAKER       WATER MGMNT   \nAARON,  JEFFERY M              POLICE OFFICER            POLICE   \nAARON,  KARINA                 POLICE OFFICER            POLICE   \nAARON,  KIMBERLEI R  CHIEF CONTRACT EXPEDITER  GENERAL SERVICES   \nABAD JR,  VICENTE M         CIVIL ENGINEER IV       WATER MGMNT   \n\n                     Employee Annual Salary  \nName                                         \nAARON,  ELVIA J                     90744.0  \nAARON,  JEFFERY M                   84450.0  \nAARON,  KARINA                      84450.0  \nAARON,  KIMBERLEI R                 89880.0  \nABAD JR,  VICENTE M                106836.0  ",
      "text/html": "<div>\n<style scoped>\n    .dataframe tbody tr th:only-of-type {\n        vertical-align: middle;\n    }\n\n    .dataframe tbody tr th {\n        vertical-align: top;\n    }\n\n    .dataframe thead th {\n        text-align: right;\n    }\n</style>\n<table border=\"1\" class=\"dataframe\">\n  <thead>\n    <tr style=\"text-align: right;\">\n      <th></th>\n      <th>Position Title</th>\n      <th>Department</th>\n      <th>Employee Annual Salary</th>\n    </tr>\n    <tr>\n      <th>Name</th>\n      <th></th>\n      <th></th>\n      <th></th>\n    </tr>\n  </thead>\n  <tbody>\n    <tr>\n      <th>AARON,  ELVIA J</th>\n      <td>WATER RATE TAKER</td>\n      <td>WATER MGMNT</td>\n      <td>90744.0</td>\n    </tr>\n    <tr>\n      <th>AARON,  JEFFERY M</th>\n      <td>POLICE OFFICER</td>\n      <td>POLICE</td>\n      <td>84450.0</td>\n    </tr>\n    <tr>\n      <th>AARON,  KARINA</th>\n      <td>POLICE OFFICER</td>\n      <td>POLICE</td>\n      <td>84450.0</td>\n    </tr>\n    <tr>\n      <th>AARON,  KIMBERLEI R</th>\n      <td>CHIEF CONTRACT EXPEDITER</td>\n      <td>GENERAL SERVICES</td>\n      <td>89880.0</td>\n    </tr>\n    <tr>\n      <th>ABAD JR,  VICENTE M</th>\n      <td>CIVIL ENGINEER IV</td>\n      <td>WATER MGMNT</td>\n      <td>106836.0</td>\n    </tr>\n  </tbody>\n</table>\n</div>"
     },
     "execution_count": 12,
     "metadata": {},
     "output_type": "execute_result"
    }
   ],
   "source": [
    "chicago = pd.read_csv(\"chicago.csv\", index_col=\"Name\").dropna(how=\"all\")\n",
    "chicago[\"Department\"] = chicago[\"Department\"].astype(\"category\")\n",
    "chicago[\"Employee Annual Salary\"] = (\n",
    "    chicago[\"Employee Annual Salary\"].str.replace(r\"\\$\", \"\", regex=True).astype(\"float\")\n",
    ")\n",
    "chicago[\"Employee Annual Salary\"].mean()\n",
    "chicago.head()"
   ],
   "metadata": {
    "collapsed": false,
    "pycharm": {
     "name": "#%%\n"
    }
   }
  },
  {
   "cell_type": "code",
   "execution_count": 13,
   "outputs": [],
   "source": [
    "chicago.index = (\n",
    "    chicago.index.str.strip().str.replace(r\"\\s+\", \" \", regex=True).str.title()\n",
    ")\n",
    "chicago[\"Position Title\"] = chicago[\"Position Title\"].str.title()\n",
    "chicago[\"Department\"] = (\n",
    "    chicago[\"Department\"]\n",
    "    .str.lower()\n",
    "    .str.replace(r\"mgmnt\", \"management\", regex=True)\n",
    "    .str.title()\n",
    ")"
   ],
   "metadata": {
    "collapsed": false,
    "pycharm": {
     "name": "#%%\n"
    }
   }
  },
  {
   "cell_type": "code",
   "execution_count": 14,
   "outputs": [],
   "source": [
    "chicago.columns = chicago.columns.str.upper()"
   ],
   "metadata": {
    "collapsed": false,
    "pycharm": {
     "name": "#%%\n"
    }
   }
  },
  {
   "cell_type": "code",
   "execution_count": 15,
   "outputs": [
    {
     "data": {
      "text/plain": "                              POSITION TITLE        DEPARTMENT  \\\nName                                                             \nAaron, Elvia J              Water Rate Taker  Water Management   \nAaron, Jeffery M              Police Officer            Police   \nAaron, Karina                 Police Officer            Police   \nAaron, Kimberlei R  Chief Contract Expediter  General Services   \nAbad Jr, Vicente M         Civil Engineer Iv  Water Management   \n\n                    EMPLOYEE ANNUAL SALARY  \nName                                        \nAaron, Elvia J                     90744.0  \nAaron, Jeffery M                   84450.0  \nAaron, Karina                      84450.0  \nAaron, Kimberlei R                 89880.0  \nAbad Jr, Vicente M                106836.0  ",
      "text/html": "<div>\n<style scoped>\n    .dataframe tbody tr th:only-of-type {\n        vertical-align: middle;\n    }\n\n    .dataframe tbody tr th {\n        vertical-align: top;\n    }\n\n    .dataframe thead th {\n        text-align: right;\n    }\n</style>\n<table border=\"1\" class=\"dataframe\">\n  <thead>\n    <tr style=\"text-align: right;\">\n      <th></th>\n      <th>POSITION TITLE</th>\n      <th>DEPARTMENT</th>\n      <th>EMPLOYEE ANNUAL SALARY</th>\n    </tr>\n    <tr>\n      <th>Name</th>\n      <th></th>\n      <th></th>\n      <th></th>\n    </tr>\n  </thead>\n  <tbody>\n    <tr>\n      <th>Aaron, Elvia J</th>\n      <td>Water Rate Taker</td>\n      <td>Water Management</td>\n      <td>90744.0</td>\n    </tr>\n    <tr>\n      <th>Aaron, Jeffery M</th>\n      <td>Police Officer</td>\n      <td>Police</td>\n      <td>84450.0</td>\n    </tr>\n    <tr>\n      <th>Aaron, Karina</th>\n      <td>Police Officer</td>\n      <td>Police</td>\n      <td>84450.0</td>\n    </tr>\n    <tr>\n      <th>Aaron, Kimberlei R</th>\n      <td>Chief Contract Expediter</td>\n      <td>General Services</td>\n      <td>89880.0</td>\n    </tr>\n    <tr>\n      <th>Abad Jr, Vicente M</th>\n      <td>Civil Engineer Iv</td>\n      <td>Water Management</td>\n      <td>106836.0</td>\n    </tr>\n  </tbody>\n</table>\n</div>"
     },
     "execution_count": 15,
     "metadata": {},
     "output_type": "execute_result"
    }
   ],
   "source": [
    "chicago.head()"
   ],
   "metadata": {
    "collapsed": false,
    "pycharm": {
     "name": "#%%\n"
    }
   }
  },
  {
   "cell_type": "code",
   "execution_count": 16,
   "outputs": [
    {
     "data": {
      "text/plain": "['Hello', 'my', 'name', 'is', 'Javier']"
     },
     "execution_count": 16,
     "metadata": {},
     "output_type": "execute_result"
    }
   ],
   "source": [
    "\"Hello my name is Javier\".split()"
   ],
   "metadata": {
    "collapsed": false,
    "pycharm": {
     "name": "#%%\n"
    }
   }
  },
  {
   "cell_type": "markdown",
   "source": [
    "# Split Strings by Characters with the `.str.split()` Method"
   ],
   "metadata": {
    "collapsed": false,
    "pycharm": {
     "name": "#%% md\n"
    }
   }
  },
  {
   "cell_type": "code",
   "execution_count": 17,
   "outputs": [
    {
     "data": {
      "text/plain": "                  Name            Position Title        Department  \\\n0      AARON,  ELVIA J          WATER RATE TAKER       WATER MGMNT   \n1    AARON,  JEFFERY M            POLICE OFFICER            POLICE   \n2       AARON,  KARINA            POLICE OFFICER            POLICE   \n3  AARON,  KIMBERLEI R  CHIEF CONTRACT EXPEDITER  GENERAL SERVICES   \n4  ABAD JR,  VICENTE M         CIVIL ENGINEER IV       WATER MGMNT   \n\n   Employee Annual Salary  \n0                 90744.0  \n1                 84450.0  \n2                 84450.0  \n3                 89880.0  \n4                106836.0  ",
      "text/html": "<div>\n<style scoped>\n    .dataframe tbody tr th:only-of-type {\n        vertical-align: middle;\n    }\n\n    .dataframe tbody tr th {\n        vertical-align: top;\n    }\n\n    .dataframe thead th {\n        text-align: right;\n    }\n</style>\n<table border=\"1\" class=\"dataframe\">\n  <thead>\n    <tr style=\"text-align: right;\">\n      <th></th>\n      <th>Name</th>\n      <th>Position Title</th>\n      <th>Department</th>\n      <th>Employee Annual Salary</th>\n    </tr>\n  </thead>\n  <tbody>\n    <tr>\n      <th>0</th>\n      <td>AARON,  ELVIA J</td>\n      <td>WATER RATE TAKER</td>\n      <td>WATER MGMNT</td>\n      <td>90744.0</td>\n    </tr>\n    <tr>\n      <th>1</th>\n      <td>AARON,  JEFFERY M</td>\n      <td>POLICE OFFICER</td>\n      <td>POLICE</td>\n      <td>84450.0</td>\n    </tr>\n    <tr>\n      <th>2</th>\n      <td>AARON,  KARINA</td>\n      <td>POLICE OFFICER</td>\n      <td>POLICE</td>\n      <td>84450.0</td>\n    </tr>\n    <tr>\n      <th>3</th>\n      <td>AARON,  KIMBERLEI R</td>\n      <td>CHIEF CONTRACT EXPEDITER</td>\n      <td>GENERAL SERVICES</td>\n      <td>89880.0</td>\n    </tr>\n    <tr>\n      <th>4</th>\n      <td>ABAD JR,  VICENTE M</td>\n      <td>CIVIL ENGINEER IV</td>\n      <td>WATER MGMNT</td>\n      <td>106836.0</td>\n    </tr>\n  </tbody>\n</table>\n</div>"
     },
     "execution_count": 17,
     "metadata": {},
     "output_type": "execute_result"
    }
   ],
   "source": [
    "chicago = pd.read_csv(\"chicago.csv\").dropna(how=\"all\")\n",
    "chicago[\"Department\"] = chicago[\"Department\"].astype(\"category\")\n",
    "chicago[\"Employee Annual Salary\"] = (\n",
    "    chicago[\"Employee Annual Salary\"].str.replace(r\"\\$\", \"\", regex=True).astype(\"float\")\n",
    ")\n",
    "chicago.head()"
   ],
   "metadata": {
    "collapsed": false,
    "pycharm": {
     "name": "#%%\n"
    }
   }
  },
  {
   "cell_type": "code",
   "execution_count": 18,
   "outputs": [
    {
     "data": {
      "text/plain": "Williams     293\nJohnson      244\nSmith        241\nBrown        185\nJones        183\n            ... \nHorkavy        1\nHorn           1\nHorne Jr       1\nHorner         1\nZyskowski      1\nName: Name, Length: 13829, dtype: int64"
     },
     "execution_count": 18,
     "metadata": {},
     "output_type": "execute_result"
    }
   ],
   "source": [
    "chicago[\"Name\"].str.split(\",\").str.get(0).str.title().value_counts()"
   ],
   "metadata": {
    "collapsed": false,
    "pycharm": {
     "name": "#%%\n"
    }
   }
  },
  {
   "cell_type": "code",
   "execution_count": 19,
   "outputs": [
    {
     "data": {
      "text/plain": "POLICE             10856\nFIREFIGHTER-EMT     1509\nSERGEANT            1186\nPOOL                 918\nFIREFIGHTER          810\n                   ...  \nDENTIST                1\nASSOC                  1\nTELEPHONE              1\nMAYOR                  1\nPREPRESS               1\nName: Position Title, Length: 320, dtype: int64"
     },
     "execution_count": 19,
     "metadata": {},
     "output_type": "execute_result"
    }
   ],
   "source": [
    "chicago[\"Position Title\"].str.split().str.get(0).value_counts()"
   ],
   "metadata": {
    "collapsed": false,
    "pycharm": {
     "name": "#%%\n"
    }
   }
  },
  {
   "cell_type": "markdown",
   "source": [
    "# More Practice with the `split()` method"
   ],
   "metadata": {
    "collapsed": false,
    "pycharm": {
     "name": "#%% md\n"
    }
   }
  },
  {
   "cell_type": "code",
   "execution_count": 20,
   "outputs": [
    {
     "data": {
      "text/plain": "                  Name            Position Title        Department  \\\n0      AARON,  ELVIA J          WATER RATE TAKER       WATER MGMNT   \n1    AARON,  JEFFERY M            POLICE OFFICER            POLICE   \n2       AARON,  KARINA            POLICE OFFICER            POLICE   \n3  AARON,  KIMBERLEI R  CHIEF CONTRACT EXPEDITER  GENERAL SERVICES   \n4  ABAD JR,  VICENTE M         CIVIL ENGINEER IV       WATER MGMNT   \n\n   Employee Annual Salary  \n0                 90744.0  \n1                 84450.0  \n2                 84450.0  \n3                 89880.0  \n4                106836.0  ",
      "text/html": "<div>\n<style scoped>\n    .dataframe tbody tr th:only-of-type {\n        vertical-align: middle;\n    }\n\n    .dataframe tbody tr th {\n        vertical-align: top;\n    }\n\n    .dataframe thead th {\n        text-align: right;\n    }\n</style>\n<table border=\"1\" class=\"dataframe\">\n  <thead>\n    <tr style=\"text-align: right;\">\n      <th></th>\n      <th>Name</th>\n      <th>Position Title</th>\n      <th>Department</th>\n      <th>Employee Annual Salary</th>\n    </tr>\n  </thead>\n  <tbody>\n    <tr>\n      <th>0</th>\n      <td>AARON,  ELVIA J</td>\n      <td>WATER RATE TAKER</td>\n      <td>WATER MGMNT</td>\n      <td>90744.0</td>\n    </tr>\n    <tr>\n      <th>1</th>\n      <td>AARON,  JEFFERY M</td>\n      <td>POLICE OFFICER</td>\n      <td>POLICE</td>\n      <td>84450.0</td>\n    </tr>\n    <tr>\n      <th>2</th>\n      <td>AARON,  KARINA</td>\n      <td>POLICE OFFICER</td>\n      <td>POLICE</td>\n      <td>84450.0</td>\n    </tr>\n    <tr>\n      <th>3</th>\n      <td>AARON,  KIMBERLEI R</td>\n      <td>CHIEF CONTRACT EXPEDITER</td>\n      <td>GENERAL SERVICES</td>\n      <td>89880.0</td>\n    </tr>\n    <tr>\n      <th>4</th>\n      <td>ABAD JR,  VICENTE M</td>\n      <td>CIVIL ENGINEER IV</td>\n      <td>WATER MGMNT</td>\n      <td>106836.0</td>\n    </tr>\n  </tbody>\n</table>\n</div>"
     },
     "execution_count": 20,
     "metadata": {},
     "output_type": "execute_result"
    }
   ],
   "source": [
    "chicago = pd.read_csv(\"chicago.csv\").dropna(how=\"all\")\n",
    "chicago[\"Department\"] = chicago[\"Department\"].astype(\"category\")\n",
    "chicago[\"Employee Annual Salary\"] = (\n",
    "    chicago[\"Employee Annual Salary\"].str.replace(r\"\\$\", \"\", regex=True).astype(\"float\")\n",
    ")\n",
    "chicago.head()"
   ],
   "metadata": {
    "collapsed": false,
    "pycharm": {
     "name": "#%%\n"
    }
   }
  },
  {
   "cell_type": "code",
   "execution_count": 21,
   "outputs": [
    {
     "data": {
      "text/plain": "MICHAEL    1153\nJOHN        899\nJAMES       676\nROBERT      622\nJOSEPH      537\nName: Name, dtype: int64"
     },
     "execution_count": 21,
     "metadata": {},
     "output_type": "execute_result"
    }
   ],
   "source": [
    "# get the most common first name\n",
    "chicago[\"Name\"].str.split(\",\").str.get(1).str.split().str.get(0).value_counts().head(5)"
   ],
   "metadata": {
    "collapsed": false,
    "pycharm": {
     "name": "#%%\n"
    }
   }
  },
  {
   "cell_type": "markdown",
   "source": [
    "# Exploring the `expand` and `n` Parameters of the `str.split()` Method"
   ],
   "metadata": {
    "collapsed": false,
    "pycharm": {
     "name": "#%% md\n"
    }
   }
  },
  {
   "cell_type": "code",
   "execution_count": 22,
   "outputs": [
    {
     "data": {
      "text/plain": "                  Name            Position Title        Department  \\\n0      AARON,  ELVIA J          WATER RATE TAKER       WATER MGMNT   \n1    AARON,  JEFFERY M            POLICE OFFICER            POLICE   \n2       AARON,  KARINA            POLICE OFFICER            POLICE   \n3  AARON,  KIMBERLEI R  CHIEF CONTRACT EXPEDITER  GENERAL SERVICES   \n4  ABAD JR,  VICENTE M         CIVIL ENGINEER IV       WATER MGMNT   \n\n   Employee Annual Salary  \n0                 90744.0  \n1                 84450.0  \n2                 84450.0  \n3                 89880.0  \n4                106836.0  ",
      "text/html": "<div>\n<style scoped>\n    .dataframe tbody tr th:only-of-type {\n        vertical-align: middle;\n    }\n\n    .dataframe tbody tr th {\n        vertical-align: top;\n    }\n\n    .dataframe thead th {\n        text-align: right;\n    }\n</style>\n<table border=\"1\" class=\"dataframe\">\n  <thead>\n    <tr style=\"text-align: right;\">\n      <th></th>\n      <th>Name</th>\n      <th>Position Title</th>\n      <th>Department</th>\n      <th>Employee Annual Salary</th>\n    </tr>\n  </thead>\n  <tbody>\n    <tr>\n      <th>0</th>\n      <td>AARON,  ELVIA J</td>\n      <td>WATER RATE TAKER</td>\n      <td>WATER MGMNT</td>\n      <td>90744.0</td>\n    </tr>\n    <tr>\n      <th>1</th>\n      <td>AARON,  JEFFERY M</td>\n      <td>POLICE OFFICER</td>\n      <td>POLICE</td>\n      <td>84450.0</td>\n    </tr>\n    <tr>\n      <th>2</th>\n      <td>AARON,  KARINA</td>\n      <td>POLICE OFFICER</td>\n      <td>POLICE</td>\n      <td>84450.0</td>\n    </tr>\n    <tr>\n      <th>3</th>\n      <td>AARON,  KIMBERLEI R</td>\n      <td>CHIEF CONTRACT EXPEDITER</td>\n      <td>GENERAL SERVICES</td>\n      <td>89880.0</td>\n    </tr>\n    <tr>\n      <th>4</th>\n      <td>ABAD JR,  VICENTE M</td>\n      <td>CIVIL ENGINEER IV</td>\n      <td>WATER MGMNT</td>\n      <td>106836.0</td>\n    </tr>\n  </tbody>\n</table>\n</div>"
     },
     "execution_count": 22,
     "metadata": {},
     "output_type": "execute_result"
    }
   ],
   "source": [
    "chicago = pd.read_csv(\"chicago.csv\").dropna(how=\"all\")\n",
    "chicago[\"Department\"] = chicago[\"Department\"].astype(\"category\")\n",
    "chicago[\"Employee Annual Salary\"] = (\n",
    "    chicago[\"Employee Annual Salary\"].str.replace(r\"\\$\", \"\", regex=True).astype(\"float\")\n",
    ")\n",
    "chicago.head()"
   ],
   "metadata": {
    "collapsed": false,
    "pycharm": {
     "name": "#%%\n"
    }
   }
  },
  {
   "cell_type": "code",
   "execution_count": 23,
   "outputs": [
    {
     "data": {
      "text/plain": "                  Name            Position Title        Department  \\\n0      AARON,  ELVIA J          WATER RATE TAKER       WATER MGMNT   \n1    AARON,  JEFFERY M            POLICE OFFICER            POLICE   \n2       AARON,  KARINA            POLICE OFFICER            POLICE   \n3  AARON,  KIMBERLEI R  CHIEF CONTRACT EXPEDITER  GENERAL SERVICES   \n4  ABAD JR,  VICENTE M         CIVIL ENGINEER IV       WATER MGMNT   \n\n   Employee Annual Salary First Name      Last Name  \n0                 90744.0      AARON        ELVIA J  \n1                 84450.0      AARON      JEFFERY M  \n2                 84450.0      AARON         KARINA  \n3                 89880.0      AARON    KIMBERLEI R  \n4                106836.0    ABAD JR      VICENTE M  ",
      "text/html": "<div>\n<style scoped>\n    .dataframe tbody tr th:only-of-type {\n        vertical-align: middle;\n    }\n\n    .dataframe tbody tr th {\n        vertical-align: top;\n    }\n\n    .dataframe thead th {\n        text-align: right;\n    }\n</style>\n<table border=\"1\" class=\"dataframe\">\n  <thead>\n    <tr style=\"text-align: right;\">\n      <th></th>\n      <th>Name</th>\n      <th>Position Title</th>\n      <th>Department</th>\n      <th>Employee Annual Salary</th>\n      <th>First Name</th>\n      <th>Last Name</th>\n    </tr>\n  </thead>\n  <tbody>\n    <tr>\n      <th>0</th>\n      <td>AARON,  ELVIA J</td>\n      <td>WATER RATE TAKER</td>\n      <td>WATER MGMNT</td>\n      <td>90744.0</td>\n      <td>AARON</td>\n      <td>ELVIA J</td>\n    </tr>\n    <tr>\n      <th>1</th>\n      <td>AARON,  JEFFERY M</td>\n      <td>POLICE OFFICER</td>\n      <td>POLICE</td>\n      <td>84450.0</td>\n      <td>AARON</td>\n      <td>JEFFERY M</td>\n    </tr>\n    <tr>\n      <th>2</th>\n      <td>AARON,  KARINA</td>\n      <td>POLICE OFFICER</td>\n      <td>POLICE</td>\n      <td>84450.0</td>\n      <td>AARON</td>\n      <td>KARINA</td>\n    </tr>\n    <tr>\n      <th>3</th>\n      <td>AARON,  KIMBERLEI R</td>\n      <td>CHIEF CONTRACT EXPEDITER</td>\n      <td>GENERAL SERVICES</td>\n      <td>89880.0</td>\n      <td>AARON</td>\n      <td>KIMBERLEI R</td>\n    </tr>\n    <tr>\n      <th>4</th>\n      <td>ABAD JR,  VICENTE M</td>\n      <td>CIVIL ENGINEER IV</td>\n      <td>WATER MGMNT</td>\n      <td>106836.0</td>\n      <td>ABAD JR</td>\n      <td>VICENTE M</td>\n    </tr>\n  </tbody>\n</table>\n</div>"
     },
     "execution_count": 23,
     "metadata": {},
     "output_type": "execute_result"
    }
   ],
   "source": [
    "chicago[[\"First Name\", \"Last Name\"]] = chicago[\"Name\"].str.split(\",\", expand=True)\n",
    "chicago.head()"
   ],
   "metadata": {
    "collapsed": false,
    "pycharm": {
     "name": "#%%\n"
    }
   }
  },
  {
   "cell_type": "code",
   "execution_count": 24,
   "outputs": [],
   "source": [
    "chicago[[\"First Title Word\", \"Remaining Title Words\"]] = chicago[\n",
    "    \"Position Title\"\n",
    "].str.split(expand=True, n=1)"
   ],
   "metadata": {
    "collapsed": false,
    "pycharm": {
     "name": "#%%\n"
    }
   }
  },
  {
   "cell_type": "code",
   "execution_count": 25,
   "outputs": [
    {
     "data": {
      "text/plain": "                  Name            Position Title        Department  \\\n0      AARON,  ELVIA J          WATER RATE TAKER       WATER MGMNT   \n1    AARON,  JEFFERY M            POLICE OFFICER            POLICE   \n2       AARON,  KARINA            POLICE OFFICER            POLICE   \n3  AARON,  KIMBERLEI R  CHIEF CONTRACT EXPEDITER  GENERAL SERVICES   \n4  ABAD JR,  VICENTE M         CIVIL ENGINEER IV       WATER MGMNT   \n\n   Employee Annual Salary First Name      Last Name First Title Word  \\\n0                 90744.0      AARON        ELVIA J            WATER   \n1                 84450.0      AARON      JEFFERY M           POLICE   \n2                 84450.0      AARON         KARINA           POLICE   \n3                 89880.0      AARON    KIMBERLEI R            CHIEF   \n4                106836.0    ABAD JR      VICENTE M            CIVIL   \n\n  Remaining Title Words  \n0            RATE TAKER  \n1               OFFICER  \n2               OFFICER  \n3    CONTRACT EXPEDITER  \n4           ENGINEER IV  ",
      "text/html": "<div>\n<style scoped>\n    .dataframe tbody tr th:only-of-type {\n        vertical-align: middle;\n    }\n\n    .dataframe tbody tr th {\n        vertical-align: top;\n    }\n\n    .dataframe thead th {\n        text-align: right;\n    }\n</style>\n<table border=\"1\" class=\"dataframe\">\n  <thead>\n    <tr style=\"text-align: right;\">\n      <th></th>\n      <th>Name</th>\n      <th>Position Title</th>\n      <th>Department</th>\n      <th>Employee Annual Salary</th>\n      <th>First Name</th>\n      <th>Last Name</th>\n      <th>First Title Word</th>\n      <th>Remaining Title Words</th>\n    </tr>\n  </thead>\n  <tbody>\n    <tr>\n      <th>0</th>\n      <td>AARON,  ELVIA J</td>\n      <td>WATER RATE TAKER</td>\n      <td>WATER MGMNT</td>\n      <td>90744.0</td>\n      <td>AARON</td>\n      <td>ELVIA J</td>\n      <td>WATER</td>\n      <td>RATE TAKER</td>\n    </tr>\n    <tr>\n      <th>1</th>\n      <td>AARON,  JEFFERY M</td>\n      <td>POLICE OFFICER</td>\n      <td>POLICE</td>\n      <td>84450.0</td>\n      <td>AARON</td>\n      <td>JEFFERY M</td>\n      <td>POLICE</td>\n      <td>OFFICER</td>\n    </tr>\n    <tr>\n      <th>2</th>\n      <td>AARON,  KARINA</td>\n      <td>POLICE OFFICER</td>\n      <td>POLICE</td>\n      <td>84450.0</td>\n      <td>AARON</td>\n      <td>KARINA</td>\n      <td>POLICE</td>\n      <td>OFFICER</td>\n    </tr>\n    <tr>\n      <th>3</th>\n      <td>AARON,  KIMBERLEI R</td>\n      <td>CHIEF CONTRACT EXPEDITER</td>\n      <td>GENERAL SERVICES</td>\n      <td>89880.0</td>\n      <td>AARON</td>\n      <td>KIMBERLEI R</td>\n      <td>CHIEF</td>\n      <td>CONTRACT EXPEDITER</td>\n    </tr>\n    <tr>\n      <th>4</th>\n      <td>ABAD JR,  VICENTE M</td>\n      <td>CIVIL ENGINEER IV</td>\n      <td>WATER MGMNT</td>\n      <td>106836.0</td>\n      <td>ABAD JR</td>\n      <td>VICENTE M</td>\n      <td>CIVIL</td>\n      <td>ENGINEER IV</td>\n    </tr>\n  </tbody>\n</table>\n</div>"
     },
     "execution_count": 25,
     "metadata": {},
     "output_type": "execute_result"
    }
   ],
   "source": [
    "chicago.head()"
   ],
   "metadata": {
    "collapsed": false,
    "pycharm": {
     "name": "#%%\n"
    }
   }
  },
  {
   "cell_type": "code",
   "execution_count": 26,
   "metadata": {
    "collapsed": true,
    "jupyter": {
     "outputs_hidden": true
    },
    "pycharm": {
     "name": "#%%\n"
    }
   },
   "outputs": [
    {
     "data": {
      "text/plain": "POLICE             10856\nFIREFIGHTER-EMT     1509\nSERGEANT            1186\nPOOL                 918\nFIREFIGHTER          810\n                   ...  \nDENTIST                1\nASSOC                  1\nTELEPHONE              1\nMAYOR                  1\nPREPRESS               1\nName: Position Title, Length: 320, dtype: int64"
     },
     "execution_count": 26,
     "metadata": {},
     "output_type": "execute_result"
    }
   ],
   "source": [
    "chicago[\"Position Title\"].str.split().str.get(0).value_counts()"
   ]
  },
  {
   "cell_type": "markdown",
   "metadata": {
    "pycharm": {
     "name": "#%% md\n"
    }
   },
   "source": [
    "# More Practice with the `split()` method"
   ]
  },
  {
   "cell_type": "code",
   "execution_count": 27,
   "metadata": {
    "collapsed": true,
    "jupyter": {
     "outputs_hidden": true
    },
    "pycharm": {
     "name": "#%%\n"
    }
   },
   "outputs": [
    {
     "data": {
      "text/plain": "                  Name            Position Title        Department  \\\n0      AARON,  ELVIA J          WATER RATE TAKER       WATER MGMNT   \n1    AARON,  JEFFERY M            POLICE OFFICER            POLICE   \n2       AARON,  KARINA            POLICE OFFICER            POLICE   \n3  AARON,  KIMBERLEI R  CHIEF CONTRACT EXPEDITER  GENERAL SERVICES   \n4  ABAD JR,  VICENTE M         CIVIL ENGINEER IV       WATER MGMNT   \n\n   Employee Annual Salary  \n0                 90744.0  \n1                 84450.0  \n2                 84450.0  \n3                 89880.0  \n4                106836.0  ",
      "text/html": "<div>\n<style scoped>\n    .dataframe tbody tr th:only-of-type {\n        vertical-align: middle;\n    }\n\n    .dataframe tbody tr th {\n        vertical-align: top;\n    }\n\n    .dataframe thead th {\n        text-align: right;\n    }\n</style>\n<table border=\"1\" class=\"dataframe\">\n  <thead>\n    <tr style=\"text-align: right;\">\n      <th></th>\n      <th>Name</th>\n      <th>Position Title</th>\n      <th>Department</th>\n      <th>Employee Annual Salary</th>\n    </tr>\n  </thead>\n  <tbody>\n    <tr>\n      <th>0</th>\n      <td>AARON,  ELVIA J</td>\n      <td>WATER RATE TAKER</td>\n      <td>WATER MGMNT</td>\n      <td>90744.0</td>\n    </tr>\n    <tr>\n      <th>1</th>\n      <td>AARON,  JEFFERY M</td>\n      <td>POLICE OFFICER</td>\n      <td>POLICE</td>\n      <td>84450.0</td>\n    </tr>\n    <tr>\n      <th>2</th>\n      <td>AARON,  KARINA</td>\n      <td>POLICE OFFICER</td>\n      <td>POLICE</td>\n      <td>84450.0</td>\n    </tr>\n    <tr>\n      <th>3</th>\n      <td>AARON,  KIMBERLEI R</td>\n      <td>CHIEF CONTRACT EXPEDITER</td>\n      <td>GENERAL SERVICES</td>\n      <td>89880.0</td>\n    </tr>\n    <tr>\n      <th>4</th>\n      <td>ABAD JR,  VICENTE M</td>\n      <td>CIVIL ENGINEER IV</td>\n      <td>WATER MGMNT</td>\n      <td>106836.0</td>\n    </tr>\n  </tbody>\n</table>\n</div>"
     },
     "execution_count": 27,
     "metadata": {},
     "output_type": "execute_result"
    }
   ],
   "source": [
    "chicago = pd.read_csv(\"chicago.csv\").dropna(how=\"all\")\n",
    "chicago[\"Department\"] = chicago[\"Department\"].astype(\"category\")\n",
    "chicago[\"Employee Annual Salary\"] = (\n",
    "    chicago[\"Employee Annual Salary\"].str.replace(r\"\\$\", \"\", regex=True).astype(\"float\")\n",
    ")\n",
    "chicago.head()"
   ]
  },
  {
   "cell_type": "code",
   "execution_count": 28,
   "metadata": {
    "collapsed": true,
    "jupyter": {
     "outputs_hidden": true
    },
    "pycharm": {
     "name": "#%%\n"
    }
   },
   "outputs": [
    {
     "data": {
      "text/plain": "MICHAEL    1153\nJOHN        899\nJAMES       676\nROBERT      622\nJOSEPH      537\nName: Name, dtype: int64"
     },
     "execution_count": 28,
     "metadata": {},
     "output_type": "execute_result"
    }
   ],
   "source": [
    "# get the most common first name\n",
    "chicago[\"Name\"].str.split(\",\").str.get(1).str.split().str.get(0).value_counts().head(5)"
   ]
  },
  {
   "cell_type": "markdown",
   "metadata": {
    "pycharm": {
     "name": "#%% md\n"
    }
   },
   "source": [
    "# Exploring the `expand` and `n` Parameters of the `str.split()` Method"
   ]
  },
  {
   "cell_type": "code",
   "execution_count": 29,
   "metadata": {
    "tags": [],
    "pycharm": {
     "name": "#%%\n"
    }
   },
   "outputs": [
    {
     "data": {
      "text/plain": "                  Name            Position Title        Department  \\\n0      AARON,  ELVIA J          WATER RATE TAKER       WATER MGMNT   \n1    AARON,  JEFFERY M            POLICE OFFICER            POLICE   \n2       AARON,  KARINA            POLICE OFFICER            POLICE   \n3  AARON,  KIMBERLEI R  CHIEF CONTRACT EXPEDITER  GENERAL SERVICES   \n4  ABAD JR,  VICENTE M         CIVIL ENGINEER IV       WATER MGMNT   \n\n   Employee Annual Salary  \n0                 90744.0  \n1                 84450.0  \n2                 84450.0  \n3                 89880.0  \n4                106836.0  ",
      "text/html": "<div>\n<style scoped>\n    .dataframe tbody tr th:only-of-type {\n        vertical-align: middle;\n    }\n\n    .dataframe tbody tr th {\n        vertical-align: top;\n    }\n\n    .dataframe thead th {\n        text-align: right;\n    }\n</style>\n<table border=\"1\" class=\"dataframe\">\n  <thead>\n    <tr style=\"text-align: right;\">\n      <th></th>\n      <th>Name</th>\n      <th>Position Title</th>\n      <th>Department</th>\n      <th>Employee Annual Salary</th>\n    </tr>\n  </thead>\n  <tbody>\n    <tr>\n      <th>0</th>\n      <td>AARON,  ELVIA J</td>\n      <td>WATER RATE TAKER</td>\n      <td>WATER MGMNT</td>\n      <td>90744.0</td>\n    </tr>\n    <tr>\n      <th>1</th>\n      <td>AARON,  JEFFERY M</td>\n      <td>POLICE OFFICER</td>\n      <td>POLICE</td>\n      <td>84450.0</td>\n    </tr>\n    <tr>\n      <th>2</th>\n      <td>AARON,  KARINA</td>\n      <td>POLICE OFFICER</td>\n      <td>POLICE</td>\n      <td>84450.0</td>\n    </tr>\n    <tr>\n      <th>3</th>\n      <td>AARON,  KIMBERLEI R</td>\n      <td>CHIEF CONTRACT EXPEDITER</td>\n      <td>GENERAL SERVICES</td>\n      <td>89880.0</td>\n    </tr>\n    <tr>\n      <th>4</th>\n      <td>ABAD JR,  VICENTE M</td>\n      <td>CIVIL ENGINEER IV</td>\n      <td>WATER MGMNT</td>\n      <td>106836.0</td>\n    </tr>\n  </tbody>\n</table>\n</div>"
     },
     "execution_count": 29,
     "metadata": {},
     "output_type": "execute_result"
    }
   ],
   "source": [
    "chicago = pd.read_csv(\"chicago.csv\").dropna(how=\"all\")\n",
    "chicago[\"Department\"] = chicago[\"Department\"].astype(\"category\")\n",
    "chicago[\"Employee Annual Salary\"] = (\n",
    "    chicago[\"Employee Annual Salary\"].str.replace(r\"\\$\", \"\", regex=True).astype(\"float\")\n",
    ")\n",
    "chicago.head()"
   ]
  },
  {
   "cell_type": "code",
   "execution_count": 30,
   "metadata": {
    "collapsed": true,
    "jupyter": {
     "outputs_hidden": true
    },
    "pycharm": {
     "name": "#%%\n"
    }
   },
   "outputs": [
    {
     "data": {
      "text/plain": "                  Name            Position Title        Department  \\\n0      AARON,  ELVIA J          WATER RATE TAKER       WATER MGMNT   \n1    AARON,  JEFFERY M            POLICE OFFICER            POLICE   \n2       AARON,  KARINA            POLICE OFFICER            POLICE   \n3  AARON,  KIMBERLEI R  CHIEF CONTRACT EXPEDITER  GENERAL SERVICES   \n4  ABAD JR,  VICENTE M         CIVIL ENGINEER IV       WATER MGMNT   \n\n   Employee Annual Salary First Name      Last Name  \n0                 90744.0      AARON        ELVIA J  \n1                 84450.0      AARON      JEFFERY M  \n2                 84450.0      AARON         KARINA  \n3                 89880.0      AARON    KIMBERLEI R  \n4                106836.0    ABAD JR      VICENTE M  ",
      "text/html": "<div>\n<style scoped>\n    .dataframe tbody tr th:only-of-type {\n        vertical-align: middle;\n    }\n\n    .dataframe tbody tr th {\n        vertical-align: top;\n    }\n\n    .dataframe thead th {\n        text-align: right;\n    }\n</style>\n<table border=\"1\" class=\"dataframe\">\n  <thead>\n    <tr style=\"text-align: right;\">\n      <th></th>\n      <th>Name</th>\n      <th>Position Title</th>\n      <th>Department</th>\n      <th>Employee Annual Salary</th>\n      <th>First Name</th>\n      <th>Last Name</th>\n    </tr>\n  </thead>\n  <tbody>\n    <tr>\n      <th>0</th>\n      <td>AARON,  ELVIA J</td>\n      <td>WATER RATE TAKER</td>\n      <td>WATER MGMNT</td>\n      <td>90744.0</td>\n      <td>AARON</td>\n      <td>ELVIA J</td>\n    </tr>\n    <tr>\n      <th>1</th>\n      <td>AARON,  JEFFERY M</td>\n      <td>POLICE OFFICER</td>\n      <td>POLICE</td>\n      <td>84450.0</td>\n      <td>AARON</td>\n      <td>JEFFERY M</td>\n    </tr>\n    <tr>\n      <th>2</th>\n      <td>AARON,  KARINA</td>\n      <td>POLICE OFFICER</td>\n      <td>POLICE</td>\n      <td>84450.0</td>\n      <td>AARON</td>\n      <td>KARINA</td>\n    </tr>\n    <tr>\n      <th>3</th>\n      <td>AARON,  KIMBERLEI R</td>\n      <td>CHIEF CONTRACT EXPEDITER</td>\n      <td>GENERAL SERVICES</td>\n      <td>89880.0</td>\n      <td>AARON</td>\n      <td>KIMBERLEI R</td>\n    </tr>\n    <tr>\n      <th>4</th>\n      <td>ABAD JR,  VICENTE M</td>\n      <td>CIVIL ENGINEER IV</td>\n      <td>WATER MGMNT</td>\n      <td>106836.0</td>\n      <td>ABAD JR</td>\n      <td>VICENTE M</td>\n    </tr>\n  </tbody>\n</table>\n</div>"
     },
     "execution_count": 30,
     "metadata": {},
     "output_type": "execute_result"
    }
   ],
   "source": [
    "chicago[[\"First Name\", \"Last Name\"]] = chicago[\"Name\"].str.split(\",\", expand=True)\n",
    "chicago.head()"
   ]
  },
  {
   "cell_type": "code",
   "execution_count": 31,
   "metadata": {
    "collapsed": true,
    "jupyter": {
     "outputs_hidden": true
    },
    "pycharm": {
     "name": "#%%\n"
    }
   },
   "outputs": [],
   "source": [
    "chicago[[\"First Title Word\", \"Remaining Title Words\"]] = chicago[\n",
    "    \"Position Title\"\n",
    "].str.split(expand=True, n=1)"
   ]
  },
  {
   "cell_type": "code",
   "execution_count": 32,
   "metadata": {
    "collapsed": true,
    "jupyter": {
     "outputs_hidden": true
    },
    "pycharm": {
     "name": "#%%\n"
    }
   },
   "outputs": [
    {
     "data": {
      "text/plain": "                  Name            Position Title        Department  \\\n0      AARON,  ELVIA J          WATER RATE TAKER       WATER MGMNT   \n1    AARON,  JEFFERY M            POLICE OFFICER            POLICE   \n2       AARON,  KARINA            POLICE OFFICER            POLICE   \n3  AARON,  KIMBERLEI R  CHIEF CONTRACT EXPEDITER  GENERAL SERVICES   \n4  ABAD JR,  VICENTE M         CIVIL ENGINEER IV       WATER MGMNT   \n\n   Employee Annual Salary First Name      Last Name First Title Word  \\\n0                 90744.0      AARON        ELVIA J            WATER   \n1                 84450.0      AARON      JEFFERY M           POLICE   \n2                 84450.0      AARON         KARINA           POLICE   \n3                 89880.0      AARON    KIMBERLEI R            CHIEF   \n4                106836.0    ABAD JR      VICENTE M            CIVIL   \n\n  Remaining Title Words  \n0            RATE TAKER  \n1               OFFICER  \n2               OFFICER  \n3    CONTRACT EXPEDITER  \n4           ENGINEER IV  ",
      "text/html": "<div>\n<style scoped>\n    .dataframe tbody tr th:only-of-type {\n        vertical-align: middle;\n    }\n\n    .dataframe tbody tr th {\n        vertical-align: top;\n    }\n\n    .dataframe thead th {\n        text-align: right;\n    }\n</style>\n<table border=\"1\" class=\"dataframe\">\n  <thead>\n    <tr style=\"text-align: right;\">\n      <th></th>\n      <th>Name</th>\n      <th>Position Title</th>\n      <th>Department</th>\n      <th>Employee Annual Salary</th>\n      <th>First Name</th>\n      <th>Last Name</th>\n      <th>First Title Word</th>\n      <th>Remaining Title Words</th>\n    </tr>\n  </thead>\n  <tbody>\n    <tr>\n      <th>0</th>\n      <td>AARON,  ELVIA J</td>\n      <td>WATER RATE TAKER</td>\n      <td>WATER MGMNT</td>\n      <td>90744.0</td>\n      <td>AARON</td>\n      <td>ELVIA J</td>\n      <td>WATER</td>\n      <td>RATE TAKER</td>\n    </tr>\n    <tr>\n      <th>1</th>\n      <td>AARON,  JEFFERY M</td>\n      <td>POLICE OFFICER</td>\n      <td>POLICE</td>\n      <td>84450.0</td>\n      <td>AARON</td>\n      <td>JEFFERY M</td>\n      <td>POLICE</td>\n      <td>OFFICER</td>\n    </tr>\n    <tr>\n      <th>2</th>\n      <td>AARON,  KARINA</td>\n      <td>POLICE OFFICER</td>\n      <td>POLICE</td>\n      <td>84450.0</td>\n      <td>AARON</td>\n      <td>KARINA</td>\n      <td>POLICE</td>\n      <td>OFFICER</td>\n    </tr>\n    <tr>\n      <th>3</th>\n      <td>AARON,  KIMBERLEI R</td>\n      <td>CHIEF CONTRACT EXPEDITER</td>\n      <td>GENERAL SERVICES</td>\n      <td>89880.0</td>\n      <td>AARON</td>\n      <td>KIMBERLEI R</td>\n      <td>CHIEF</td>\n      <td>CONTRACT EXPEDITER</td>\n    </tr>\n    <tr>\n      <th>4</th>\n      <td>ABAD JR,  VICENTE M</td>\n      <td>CIVIL ENGINEER IV</td>\n      <td>WATER MGMNT</td>\n      <td>106836.0</td>\n      <td>ABAD JR</td>\n      <td>VICENTE M</td>\n      <td>CIVIL</td>\n      <td>ENGINEER IV</td>\n    </tr>\n  </tbody>\n</table>\n</div>"
     },
     "execution_count": 32,
     "metadata": {},
     "output_type": "execute_result"
    }
   ],
   "source": [
    "chicago.head()"
   ]
  }
 ],
 "metadata": {
  "kernelspec": {
   "display_name": "Python 3 (ipykernel)",
   "language": "python",
   "name": "python3"
  },
  "language_info": {
   "codemirror_mode": {
    "name": "ipython",
    "version": 3
   },
   "file_extension": ".py",
   "mimetype": "text/x-python",
   "name": "python",
   "nbconvert_exporter": "python",
   "pygments_lexer": "ipython3",
   "version": "3.10.4"
  },
  "vscode": {
   "interpreter": {
    "hash": "5431d8997ded1fc9d3d05a65bd72c147f4ad391ac23d4b528cffdf6ff5a60c23"
   }
  }
 },
 "nbformat": 4,
 "nbformat_minor": 4
}