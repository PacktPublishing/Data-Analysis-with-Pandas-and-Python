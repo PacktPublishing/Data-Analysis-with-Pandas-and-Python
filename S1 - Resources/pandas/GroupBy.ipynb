{
 "cells": [
  {
   "cell_type": "markdown",
   "source": [
    "# The `groupby()` method"
   ],
   "metadata": {
    "collapsed": false,
    "pycharm": {
     "name": "#%% md\n"
    }
   }
  },
  {
   "cell_type": "code",
   "execution_count": 3,
   "metadata": {
    "collapsed": true,
    "pycharm": {
     "name": "#%%\n"
    }
   },
   "outputs": [],
   "source": [
    "import pandas as pd"
   ]
  },
  {
   "cell_type": "code",
   "execution_count": 11,
   "outputs": [
    {
     "data": {
      "text/plain": "                 Company       Sector  \\\nRank                                    \n1                Walmart    Retailing   \n2            Exxon Mobil       Energy   \n3                  Apple   Technology   \n4     Berkshire Hathaway   Financials   \n5               McKesson  Health Care   \n\n                                      Industry           Location  Revenue  \\\nRank                                                                         \n1                        General Merchandisers    Bentonville, AR   482130   \n2                           Petroleum Refining         Irving, TX   246204   \n3                  Computers, Office Equipment      Cupertino, CA   233715   \n4     Insurance: Property and Casualty (Stock)          Omaha, NE   210821   \n5                     Wholesalers: Health Care  San Francisco, CA   181241   \n\n      Profits  Employees  \nRank                      \n1       14694    2300000  \n2       16150      75600  \n3       53394     110000  \n4       24083     331000  \n5        1476      70400  ",
      "text/html": "<div>\n<style scoped>\n    .dataframe tbody tr th:only-of-type {\n        vertical-align: middle;\n    }\n\n    .dataframe tbody tr th {\n        vertical-align: top;\n    }\n\n    .dataframe thead th {\n        text-align: right;\n    }\n</style>\n<table border=\"1\" class=\"dataframe\">\n  <thead>\n    <tr style=\"text-align: right;\">\n      <th></th>\n      <th>Company</th>\n      <th>Sector</th>\n      <th>Industry</th>\n      <th>Location</th>\n      <th>Revenue</th>\n      <th>Profits</th>\n      <th>Employees</th>\n    </tr>\n    <tr>\n      <th>Rank</th>\n      <th></th>\n      <th></th>\n      <th></th>\n      <th></th>\n      <th></th>\n      <th></th>\n      <th></th>\n    </tr>\n  </thead>\n  <tbody>\n    <tr>\n      <th>1</th>\n      <td>Walmart</td>\n      <td>Retailing</td>\n      <td>General Merchandisers</td>\n      <td>Bentonville, AR</td>\n      <td>482130</td>\n      <td>14694</td>\n      <td>2300000</td>\n    </tr>\n    <tr>\n      <th>2</th>\n      <td>Exxon Mobil</td>\n      <td>Energy</td>\n      <td>Petroleum Refining</td>\n      <td>Irving, TX</td>\n      <td>246204</td>\n      <td>16150</td>\n      <td>75600</td>\n    </tr>\n    <tr>\n      <th>3</th>\n      <td>Apple</td>\n      <td>Technology</td>\n      <td>Computers, Office Equipment</td>\n      <td>Cupertino, CA</td>\n      <td>233715</td>\n      <td>53394</td>\n      <td>110000</td>\n    </tr>\n    <tr>\n      <th>4</th>\n      <td>Berkshire Hathaway</td>\n      <td>Financials</td>\n      <td>Insurance: Property and Casualty (Stock)</td>\n      <td>Omaha, NE</td>\n      <td>210821</td>\n      <td>24083</td>\n      <td>331000</td>\n    </tr>\n    <tr>\n      <th>5</th>\n      <td>McKesson</td>\n      <td>Health Care</td>\n      <td>Wholesalers: Health Care</td>\n      <td>San Francisco, CA</td>\n      <td>181241</td>\n      <td>1476</td>\n      <td>70400</td>\n    </tr>\n  </tbody>\n</table>\n</div>"
     },
     "execution_count": 11,
     "metadata": {},
     "output_type": "execute_result"
    }
   ],
   "source": [
    "fortune = pd.read_csv(\"fortune1000.csv\", index_col=\"Rank\")\n",
    "sectors = fortune.groupby(\"Sector\")\n",
    "fortune.head()"
   ],
   "metadata": {
    "collapsed": false,
    "pycharm": {
     "name": "#%%\n"
    }
   }
  },
  {
   "cell_type": "code",
   "execution_count": 12,
   "outputs": [
    {
     "data": {
      "text/plain": "pandas.core.frame.DataFrame"
     },
     "execution_count": 12,
     "metadata": {},
     "output_type": "execute_result"
    }
   ],
   "source": [
    "type(fortune)"
   ],
   "metadata": {
    "collapsed": false,
    "pycharm": {
     "name": "#%%\n"
    }
   }
  },
  {
   "cell_type": "code",
   "execution_count": 14,
   "outputs": [
    {
     "data": {
      "text/plain": "pandas.core.groupby.generic.DataFrameGroupBy"
     },
     "execution_count": 14,
     "metadata": {},
     "output_type": "execute_result"
    }
   ],
   "source": [
    "type(sectors)"
   ],
   "metadata": {
    "collapsed": false,
    "pycharm": {
     "name": "#%%\n"
    }
   }
  },
  {
   "cell_type": "code",
   "execution_count": 16,
   "outputs": [
    {
     "data": {
      "text/plain": "True"
     },
     "execution_count": 16,
     "metadata": {},
     "output_type": "execute_result"
    }
   ],
   "source": [
    "len(sectors) == fortune[\"Sector\"].nunique()"
   ],
   "metadata": {
    "collapsed": false,
    "pycharm": {
     "name": "#%%\n"
    }
   }
  },
  {
   "cell_type": "code",
   "execution_count": 17,
   "outputs": [
    {
     "data": {
      "text/plain": "Sector\nAerospace & Defense              20\nApparel                          15\nBusiness Services                51\nChemicals                        30\nEnergy                          122\nEngineering & Construction       26\nFinancials                      139\nFood and Drug Stores             15\nFood, Beverages & Tobacco        43\nHealth Care                      75\nHotels, Resturants & Leisure     25\nHousehold Products               28\nIndustrials                      46\nMaterials                        43\nMedia                            25\nMotor Vehicles & Parts           24\nRetailing                        80\nTechnology                      102\nTelecommunications               15\nTransportation                   36\nWholesalers                      40\ndtype: int64"
     },
     "execution_count": 17,
     "metadata": {},
     "output_type": "execute_result"
    }
   ],
   "source": [
    "sectors.size()"
   ],
   "metadata": {
    "collapsed": false,
    "pycharm": {
     "name": "#%%\n"
    }
   }
  },
  {
   "cell_type": "code",
   "execution_count": 18,
   "outputs": [
    {
     "data": {
      "text/plain": "                                             Company  \\\nSector                                                 \nAerospace & Defense                           Boeing   \nApparel                                         Nike   \nBusiness Services                      ManpowerGroup   \nChemicals                               Dow Chemical   \nEnergy                                   Exxon Mobil   \nEngineering & Construction                     Fluor   \nFinancials                        Berkshire Hathaway   \nFood and Drug Stores                      CVS Health   \nFood, Beverages & Tobacco     Archer Daniels Midland   \nHealth Care                                 McKesson   \nHotels, Resturants & Leisure              McDonald’s   \nHousehold Products                  Procter & Gamble   \nIndustrials                         General Electric   \nMaterials                                      Alcoa   \nMedia                                         Disney   \nMotor Vehicles & Parts                General Motors   \nRetailing                                    Walmart   \nTechnology                                     Apple   \nTelecommunications                              AT&T   \nTransportation                                   UPS   \nWholesalers                                    Sysco   \n\n                                                              Industry  \\\nSector                                                                   \nAerospace & Defense                              Aerospace and Defense   \nApparel                                                        Apparel   \nBusiness Services                                       Temporary Help   \nChemicals                                                    Chemicals   \nEnergy                                              Petroleum Refining   \nEngineering & Construction                   Engineering, Construction   \nFinancials                    Insurance: Property and Casualty (Stock)   \nFood and Drug Stores                              Food and Drug Stores   \nFood, Beverages & Tobacco                              Food Production   \nHealth Care                                   Wholesalers: Health Care   \nHotels, Resturants & Leisure                             Food Services   \nHousehold Products                     Household and Personal Products   \nIndustrials                                       Industrial Machinery   \nMaterials                                                       Metals   \nMedia                                                    Entertainment   \nMotor Vehicles & Parts                        Motor Vehicles and Parts   \nRetailing                                        General Merchandisers   \nTechnology                                 Computers, Office Equipment   \nTelecommunications                                  Telecommunications   \nTransportation                     Mail, Package, and Freight Delivery   \nWholesalers                              Wholesalers: Food and Grocery   \n\n                                       Location  Revenue  Profits  Employees  \nSector                                                                        \nAerospace & Defense                 Chicago, IL    96114     5176     161400  \nApparel                           Beaverton, OR    30601     3273      62600  \nBusiness Services                 Milwaukee, WI    19330      419      27000  \nChemicals                           Midland, MI    48778     7685      49495  \nEnergy                               Irving, TX   246204    16150      75600  \nEngineering & Construction           Irving, TX    18114      413      38758  \nFinancials                            Omaha, NE   210821    24083     331000  \nFood and Drug Stores             Woonsocket, RI   153290     5237     199000  \nFood, Beverages & Tobacco           Chicago, IL    67702     1849      32300  \nHealth Care                   San Francisco, CA   181241     1476      70400  \nHotels, Resturants & Leisure      Oak Brook, IL    25413     4529     420000  \nHousehold Products               Cincinnati, OH    78756     7036     110000  \nIndustrials                       Fairfield, CT   140389    -6126     333000  \nMaterials                          New York, NY    22534     -322      60000  \nMedia                               Burbank, CA    52465     8382     185000  \nMotor Vehicles & Parts              Detroit, MI   152356     9687     215000  \nRetailing                       Bentonville, AR   482130    14694    2300000  \nTechnology                        Cupertino, CA   233715    53394     110000  \nTelecommunications                   Dallas, TX   146801    13345     281450  \nTransportation                      Atlanta, GA    58363     4844     341240  \nWholesalers                         Houston, TX    48681      687      51700  ",
      "text/html": "<div>\n<style scoped>\n    .dataframe tbody tr th:only-of-type {\n        vertical-align: middle;\n    }\n\n    .dataframe tbody tr th {\n        vertical-align: top;\n    }\n\n    .dataframe thead th {\n        text-align: right;\n    }\n</style>\n<table border=\"1\" class=\"dataframe\">\n  <thead>\n    <tr style=\"text-align: right;\">\n      <th></th>\n      <th>Company</th>\n      <th>Industry</th>\n      <th>Location</th>\n      <th>Revenue</th>\n      <th>Profits</th>\n      <th>Employees</th>\n    </tr>\n    <tr>\n      <th>Sector</th>\n      <th></th>\n      <th></th>\n      <th></th>\n      <th></th>\n      <th></th>\n      <th></th>\n    </tr>\n  </thead>\n  <tbody>\n    <tr>\n      <th>Aerospace &amp; Defense</th>\n      <td>Boeing</td>\n      <td>Aerospace and Defense</td>\n      <td>Chicago, IL</td>\n      <td>96114</td>\n      <td>5176</td>\n      <td>161400</td>\n    </tr>\n    <tr>\n      <th>Apparel</th>\n      <td>Nike</td>\n      <td>Apparel</td>\n      <td>Beaverton, OR</td>\n      <td>30601</td>\n      <td>3273</td>\n      <td>62600</td>\n    </tr>\n    <tr>\n      <th>Business Services</th>\n      <td>ManpowerGroup</td>\n      <td>Temporary Help</td>\n      <td>Milwaukee, WI</td>\n      <td>19330</td>\n      <td>419</td>\n      <td>27000</td>\n    </tr>\n    <tr>\n      <th>Chemicals</th>\n      <td>Dow Chemical</td>\n      <td>Chemicals</td>\n      <td>Midland, MI</td>\n      <td>48778</td>\n      <td>7685</td>\n      <td>49495</td>\n    </tr>\n    <tr>\n      <th>Energy</th>\n      <td>Exxon Mobil</td>\n      <td>Petroleum Refining</td>\n      <td>Irving, TX</td>\n      <td>246204</td>\n      <td>16150</td>\n      <td>75600</td>\n    </tr>\n    <tr>\n      <th>Engineering &amp; Construction</th>\n      <td>Fluor</td>\n      <td>Engineering, Construction</td>\n      <td>Irving, TX</td>\n      <td>18114</td>\n      <td>413</td>\n      <td>38758</td>\n    </tr>\n    <tr>\n      <th>Financials</th>\n      <td>Berkshire Hathaway</td>\n      <td>Insurance: Property and Casualty (Stock)</td>\n      <td>Omaha, NE</td>\n      <td>210821</td>\n      <td>24083</td>\n      <td>331000</td>\n    </tr>\n    <tr>\n      <th>Food and Drug Stores</th>\n      <td>CVS Health</td>\n      <td>Food and Drug Stores</td>\n      <td>Woonsocket, RI</td>\n      <td>153290</td>\n      <td>5237</td>\n      <td>199000</td>\n    </tr>\n    <tr>\n      <th>Food, Beverages &amp; Tobacco</th>\n      <td>Archer Daniels Midland</td>\n      <td>Food Production</td>\n      <td>Chicago, IL</td>\n      <td>67702</td>\n      <td>1849</td>\n      <td>32300</td>\n    </tr>\n    <tr>\n      <th>Health Care</th>\n      <td>McKesson</td>\n      <td>Wholesalers: Health Care</td>\n      <td>San Francisco, CA</td>\n      <td>181241</td>\n      <td>1476</td>\n      <td>70400</td>\n    </tr>\n    <tr>\n      <th>Hotels, Resturants &amp; Leisure</th>\n      <td>McDonald’s</td>\n      <td>Food Services</td>\n      <td>Oak Brook, IL</td>\n      <td>25413</td>\n      <td>4529</td>\n      <td>420000</td>\n    </tr>\n    <tr>\n      <th>Household Products</th>\n      <td>Procter &amp; Gamble</td>\n      <td>Household and Personal Products</td>\n      <td>Cincinnati, OH</td>\n      <td>78756</td>\n      <td>7036</td>\n      <td>110000</td>\n    </tr>\n    <tr>\n      <th>Industrials</th>\n      <td>General Electric</td>\n      <td>Industrial Machinery</td>\n      <td>Fairfield, CT</td>\n      <td>140389</td>\n      <td>-6126</td>\n      <td>333000</td>\n    </tr>\n    <tr>\n      <th>Materials</th>\n      <td>Alcoa</td>\n      <td>Metals</td>\n      <td>New York, NY</td>\n      <td>22534</td>\n      <td>-322</td>\n      <td>60000</td>\n    </tr>\n    <tr>\n      <th>Media</th>\n      <td>Disney</td>\n      <td>Entertainment</td>\n      <td>Burbank, CA</td>\n      <td>52465</td>\n      <td>8382</td>\n      <td>185000</td>\n    </tr>\n    <tr>\n      <th>Motor Vehicles &amp; Parts</th>\n      <td>General Motors</td>\n      <td>Motor Vehicles and Parts</td>\n      <td>Detroit, MI</td>\n      <td>152356</td>\n      <td>9687</td>\n      <td>215000</td>\n    </tr>\n    <tr>\n      <th>Retailing</th>\n      <td>Walmart</td>\n      <td>General Merchandisers</td>\n      <td>Bentonville, AR</td>\n      <td>482130</td>\n      <td>14694</td>\n      <td>2300000</td>\n    </tr>\n    <tr>\n      <th>Technology</th>\n      <td>Apple</td>\n      <td>Computers, Office Equipment</td>\n      <td>Cupertino, CA</td>\n      <td>233715</td>\n      <td>53394</td>\n      <td>110000</td>\n    </tr>\n    <tr>\n      <th>Telecommunications</th>\n      <td>AT&amp;T</td>\n      <td>Telecommunications</td>\n      <td>Dallas, TX</td>\n      <td>146801</td>\n      <td>13345</td>\n      <td>281450</td>\n    </tr>\n    <tr>\n      <th>Transportation</th>\n      <td>UPS</td>\n      <td>Mail, Package, and Freight Delivery</td>\n      <td>Atlanta, GA</td>\n      <td>58363</td>\n      <td>4844</td>\n      <td>341240</td>\n    </tr>\n    <tr>\n      <th>Wholesalers</th>\n      <td>Sysco</td>\n      <td>Wholesalers: Food and Grocery</td>\n      <td>Houston, TX</td>\n      <td>48681</td>\n      <td>687</td>\n      <td>51700</td>\n    </tr>\n  </tbody>\n</table>\n</div>"
     },
     "execution_count": 18,
     "metadata": {},
     "output_type": "execute_result"
    }
   ],
   "source": [
    "sectors.first()"
   ],
   "metadata": {
    "collapsed": false,
    "pycharm": {
     "name": "#%%\n"
    }
   }
  },
  {
   "cell_type": "code",
   "execution_count": 20,
   "outputs": [
    {
     "data": {
      "text/plain": "{'Aerospace & Defense': [24, 45, 60, 88, 118, 120, 209, 245, 282, 378, 389, 490, 560, 605, 785, 788, 836, 903, 958, 987], 'Apparel': [91, 231, 340, 354, 448, 547, 575, 597, 683, 695, 726, 794, 877, 882, 917], 'Business Services': [144, 186, 199, 204, 221, 248, 249, 294, 307, 312, 355, 392, 404, 440, 467, 468, 481, 485, 492, 503, 545, 626, 635, 652, 677, 694, 714, 729, 734, 735, 737, 744, 767, 776, 777, 783, 791, 792, 796, 801, 803, 816, 819, 820, 869, 870, 886, 939, 951, 952, 993], 'Chemicals': [56, 101, 182, 189, 206, 253, 262, 277, 288, 296, 316, 538, 549, 555, 566, 580, 613, 624, 654, 668, 717, 720, 724, 758, 761, 829, 865, 898, 934, 949], 'Energy': [2, 14, 30, 32, 42, 65, 90, 95, 98, 104, 115, 117, 121, 162, 163, 165, 166, 175, 178, 188, 190, 192, 193, 198, 214, 216, 217, 223, 225, 229, 243, 246, 247, 257, 272, 274, 279, 289, 319, 322, 324, 343, 348, 349, 350, 363, 364, 384, 387, 388, 394, 402, 403, 410, 425, 437, 438, 445, 458, 475, 483, 493, 507, 522, 541, 548, 556, 558, 569, 571, 579, 598, 600, 606, 633, 650, 656, 662, 679, 692, 696, 703, 703, 706, 711, 715, 732, 742, 743, 745, 754, 772, 784, 798, 802, 810, 817, 826, 843, 850, ...], 'Engineering & Construction': [155, 156, 235, 260, 301, 314, 352, 381, 433, 478, 498, 501, 516, 572, 576, 640, 719, 738, 822, 863, 874, 892, 929, 963, 985, 994], 'Financials': [4, 16, 23, 26, 27, 29, 35, 40, 43, 49, 50, 61, 69, 73, 74, 76, 78, 81, 82, 83, 85, 100, 105, 112, 114, 131, 135, 137, 152, 171, 179, 184, 205, 210, 222, 226, 227, 232, 236, 250, 252, 259, 264, 265, 271, 273, 275, 283, 298, 306, 311, 318, 326, 329, 332, 344, 347, 367, 368, 376, 382, 398, 401, 411, 421, 436, 442, 449, 453, 453, 471, 472, 472, 476, 479, 482, 486, 488, 494, 497, 499, 506, 509, 510, 520, 529, 531, 536, 540, 551, 561, 568, 573, 590, 603, 609, 611, 646, 651, 663, ...], 'Food and Drug Stores': [7, 17, 19, 87, 107, 160, 181, 595, 614, 631, 669, 756, 809, 849, 928], 'Food, Beverages & Tobacco': [41, 44, 62, 66, 84, 94, 106, 149, 153, 161, 176, 207, 215, 242, 266, 304, 336, 337, 362, 397, 413, 429, 452, 456, 460, 535, 542, 567, 574, 587, 608, 615, 636, 664, 686, 702, 770, 787, 795, 804, 889, 902, 954], 'Health Care': [5, 6, 12, 21, 22, 33, 39, 46, 52, 55, 63, 72, 79, 86, 123, 124, 125, 130, 138, 140, 141, 168, 172, 200, 201, 202, 263, 268, 278, 286, 287, 290, 291, 305, 325, 358, 359, 372, 420, 430, 431, 447, 457, 465, 469, 515, 527, 537, 553, 559, 583, 618, 629, 661, 684, 693, 697, 708, 746, 749, 766, 775, 790, 799, 815, 818, 845, 868, 881, 883, 935, 960, 965, 977, 978], 'Hotels, Resturants & Leisure': [109, 146, 195, 218, 241, 254, 309, 371, 444, 466, 534, 546, 557, 562, 585, 731, 763, 764, 779, 797, 895, 915, 918, 941, 999], 'Household Products': [34, 151, 174, 256, 261, 328, 338, 345, 370, 434, 441, 450, 455, 533, 550, 554, 601, 665, 699, 716, 856, 890, 900, 907, 932, 950, 967, 992], 'Industrials': [11, 59, 75, 93, 97, 128, 134, 148, 211, 224, 360, 377, 396, 412, 419, 539, 544, 596, 622, 623, 630, 645, 655, 658, 666, 674, 690, 757, 782, 789, 806, 813, 823, 831, 832, 835, 841, 847, 866, 867, 873, 887, 942, 947, 964, 1000], 'Materials': [126, 127, 170, 244, 251, 303, 321, 341, 356, 373, 375, 383, 417, 418, 426, 435, 446, 480, 489, 514, 518, 577, 586, 616, 617, 620, 625, 628, 637, 639, 641, 660, 667, 687, 691, 751, 774, 793, 857, 885, 911, 982, 986], 'Media': [53, 96, 99, 203, 213, 255, 327, 366, 406, 414, 525, 530, 681, 705, 707, 722, 741, 752, 759, 762, 821, 913, 968, 969, 989], 'Motor Vehicles & Parts': [8, 9, 70, 147, 154, 169, 281, 310, 334, 339, 424, 428, 470, 588, 591, 604, 647, 670, 718, 739, 811, 957, 961, 979], 'Retailing': [1, 15, 28, 38, 47, 71, 89, 103, 111, 132, 136, 139, 143, 145, 177, 180, 191, 196, 197, 228, 234, 237, 238, 240, 258, 267, 269, 280, 293, 297, 299, 302, 330, 342, 346, 361, 365, 374, 379, 380, 393, 415, 427, 439, 495, 500, 502, 511, 512, 517, 523, 582, 592, 602, 607, 610, 621, 643, 644, 648, 657, 675, 689, 721, 748, 771, 773, 807, 812, 824, 825, 827, 840, 876, 894, 899, 922, 937, 940, 973], 'Technology': [3, 18, 20, 25, 31, 36, 51, 54, 77, 110, 113, 133, 150, 157, 158, 164, 173, 194, 219, 220, 230, 233, 284, 295, 300, 308, 313, 331, 385, 386, 400, 408, 409, 422, 451, 462, 464, 487, 491, 504, 505, 508, 513, 519, 524, 532, 543, 552, 563, 565, 584, 589, 593, 594, 612, 632, 634, 638, 649, 659, 673, 676, 678, 682, 688, 700, 725, 733, 736, 753, 760, 769, 778, 805, 830, 834, 842, 854, 864, 871, 888, 891, 893, 896, 904, 905, 906, 909, 912, 914, 919, 927, 931, 943, 944, 946, 956, 970, 971, 975, ...], 'Telecommunications': [10, 13, 37, 116, 159, 187, 292, 333, 399, 443, 461, 496, 526, 619, 786], 'Transportation': [48, 58, 67, 68, 80, 129, 142, 208, 239, 270, 353, 390, 395, 405, 407, 416, 432, 459, 521, 528, 570, 578, 642, 672, 709, 713, 740, 800, 814, 858, 884, 930, 933, 945, 972, 974], 'Wholesalers': [57, 64, 92, 102, 108, 119, 122, 167, 183, 185, 212, 276, 285, 315, 317, 320, 323, 335, 351, 357, 369, 391, 423, 463, 474, 477, 484, 564, 581, 599, 627, 653, 685, 727, 747, 780, 808, 837, 875, 991]}"
     },
     "execution_count": 20,
     "metadata": {},
     "output_type": "execute_result"
    }
   ],
   "source": [
    "sectors.groups"
   ],
   "metadata": {
    "collapsed": false,
    "pycharm": {
     "name": "#%%\n"
    }
   }
  },
  {
   "cell_type": "markdown",
   "source": [
    "# Retrieve a group with the `get_group()` method"
   ],
   "metadata": {
    "collapsed": false,
    "pycharm": {
     "name": "#%% md\n"
    }
   }
  },
  {
   "cell_type": "code",
   "execution_count": 24,
   "outputs": [
    {
     "data": {
      "text/plain": "                        Company  Sector                      Industry  \\\nRank                                                                    \n2                   Exxon Mobil  Energy            Petroleum Refining   \n14                      Chevron  Energy            Petroleum Refining   \n30                  Phillips 66  Energy            Petroleum Refining   \n32                Valero Energy  Energy            Petroleum Refining   \n42           Marathon Petroleum  Energy            Petroleum Refining   \n...                         ...     ...                           ...   \n981                  WPX Energy  Energy  Mining, Crude-Oil Production   \n983    Adams Resources & Energy  Energy            Petroleum Refining   \n995                   EP Energy  Energy  Mining, Crude-Oil Production   \n997   Portland General Electric  Energy   Utilities: Gas and Electric   \n997   Portland General Electric  Energy   Utilities: Gas and Electric   \n\n             Location  Revenue  Profits  Employees  \nRank                                                \n2          Irving, TX   246204    16150      75600  \n14      San Ramon, CA   131118     4587      61500  \n30        Houston, TX    87169     4227      14000  \n32    San Antonio, TX    81824     3990      10103  \n42        Findlay, OH    64566     2852      45440  \n...               ...      ...      ...        ...  \n981         Tulsa, OK     1958    -1727       1040  \n983       Houston, TX     1944       -1        809  \n995       Houston, TX     1908    -3748        665  \n997      Portland, OR     1898      172       2646  \n997      Portland, OR     1898      172       2646  \n\n[122 rows x 7 columns]",
      "text/html": "<div>\n<style scoped>\n    .dataframe tbody tr th:only-of-type {\n        vertical-align: middle;\n    }\n\n    .dataframe tbody tr th {\n        vertical-align: top;\n    }\n\n    .dataframe thead th {\n        text-align: right;\n    }\n</style>\n<table border=\"1\" class=\"dataframe\">\n  <thead>\n    <tr style=\"text-align: right;\">\n      <th></th>\n      <th>Company</th>\n      <th>Sector</th>\n      <th>Industry</th>\n      <th>Location</th>\n      <th>Revenue</th>\n      <th>Profits</th>\n      <th>Employees</th>\n    </tr>\n    <tr>\n      <th>Rank</th>\n      <th></th>\n      <th></th>\n      <th></th>\n      <th></th>\n      <th></th>\n      <th></th>\n      <th></th>\n    </tr>\n  </thead>\n  <tbody>\n    <tr>\n      <th>2</th>\n      <td>Exxon Mobil</td>\n      <td>Energy</td>\n      <td>Petroleum Refining</td>\n      <td>Irving, TX</td>\n      <td>246204</td>\n      <td>16150</td>\n      <td>75600</td>\n    </tr>\n    <tr>\n      <th>14</th>\n      <td>Chevron</td>\n      <td>Energy</td>\n      <td>Petroleum Refining</td>\n      <td>San Ramon, CA</td>\n      <td>131118</td>\n      <td>4587</td>\n      <td>61500</td>\n    </tr>\n    <tr>\n      <th>30</th>\n      <td>Phillips 66</td>\n      <td>Energy</td>\n      <td>Petroleum Refining</td>\n      <td>Houston, TX</td>\n      <td>87169</td>\n      <td>4227</td>\n      <td>14000</td>\n    </tr>\n    <tr>\n      <th>32</th>\n      <td>Valero Energy</td>\n      <td>Energy</td>\n      <td>Petroleum Refining</td>\n      <td>San Antonio, TX</td>\n      <td>81824</td>\n      <td>3990</td>\n      <td>10103</td>\n    </tr>\n    <tr>\n      <th>42</th>\n      <td>Marathon Petroleum</td>\n      <td>Energy</td>\n      <td>Petroleum Refining</td>\n      <td>Findlay, OH</td>\n      <td>64566</td>\n      <td>2852</td>\n      <td>45440</td>\n    </tr>\n    <tr>\n      <th>...</th>\n      <td>...</td>\n      <td>...</td>\n      <td>...</td>\n      <td>...</td>\n      <td>...</td>\n      <td>...</td>\n      <td>...</td>\n    </tr>\n    <tr>\n      <th>981</th>\n      <td>WPX Energy</td>\n      <td>Energy</td>\n      <td>Mining, Crude-Oil Production</td>\n      <td>Tulsa, OK</td>\n      <td>1958</td>\n      <td>-1727</td>\n      <td>1040</td>\n    </tr>\n    <tr>\n      <th>983</th>\n      <td>Adams Resources &amp; Energy</td>\n      <td>Energy</td>\n      <td>Petroleum Refining</td>\n      <td>Houston, TX</td>\n      <td>1944</td>\n      <td>-1</td>\n      <td>809</td>\n    </tr>\n    <tr>\n      <th>995</th>\n      <td>EP Energy</td>\n      <td>Energy</td>\n      <td>Mining, Crude-Oil Production</td>\n      <td>Houston, TX</td>\n      <td>1908</td>\n      <td>-3748</td>\n      <td>665</td>\n    </tr>\n    <tr>\n      <th>997</th>\n      <td>Portland General Electric</td>\n      <td>Energy</td>\n      <td>Utilities: Gas and Electric</td>\n      <td>Portland, OR</td>\n      <td>1898</td>\n      <td>172</td>\n      <td>2646</td>\n    </tr>\n    <tr>\n      <th>997</th>\n      <td>Portland General Electric</td>\n      <td>Energy</td>\n      <td>Utilities: Gas and Electric</td>\n      <td>Portland, OR</td>\n      <td>1898</td>\n      <td>172</td>\n      <td>2646</td>\n    </tr>\n  </tbody>\n</table>\n<p>122 rows × 7 columns</p>\n</div>"
     },
     "execution_count": 24,
     "metadata": {},
     "output_type": "execute_result"
    }
   ],
   "source": [
    "sectors.get_group(\"Energy\")"
   ],
   "metadata": {
    "collapsed": false,
    "pycharm": {
     "name": "#%%\n"
    }
   }
  },
  {
   "cell_type": "code",
   "execution_count": null,
   "outputs": [],
   "source": [],
   "metadata": {
    "collapsed": false,
    "pycharm": {
     "name": "#%%\n"
    }
   }
  },
  {
   "cell_type": "code",
   "execution_count": null,
   "outputs": [],
   "source": [],
   "metadata": {
    "collapsed": false,
    "pycharm": {
     "name": "#%%\n"
    }
   }
  },
  {
   "cell_type": "code",
   "execution_count": null,
   "outputs": [],
   "source": [],
   "metadata": {
    "collapsed": false,
    "pycharm": {
     "name": "#%%\n"
    }
   }
  },
  {
   "cell_type": "code",
   "execution_count": null,
   "outputs": [],
   "source": [],
   "metadata": {
    "collapsed": false,
    "pycharm": {
     "name": "#%%\n"
    }
   }
  },
  {
   "cell_type": "code",
   "execution_count": null,
   "outputs": [],
   "source": [],
   "metadata": {
    "collapsed": false,
    "pycharm": {
     "name": "#%%\n"
    }
   }
  },
  {
   "cell_type": "code",
   "execution_count": null,
   "outputs": [],
   "source": [],
   "metadata": {
    "collapsed": false,
    "pycharm": {
     "name": "#%%\n"
    }
   }
  }
 ],
 "metadata": {
  "kernelspec": {
   "display_name": "Python 3",
   "language": "python",
   "name": "python3"
  },
  "language_info": {
   "codemirror_mode": {
    "name": "ipython",
    "version": 2
   },
   "file_extension": ".py",
   "mimetype": "text/x-python",
   "name": "python",
   "nbconvert_exporter": "python",
   "pygments_lexer": "ipython2",
   "version": "2.7.6"
  }
 },
 "nbformat": 4,
 "nbformat_minor": 0
}