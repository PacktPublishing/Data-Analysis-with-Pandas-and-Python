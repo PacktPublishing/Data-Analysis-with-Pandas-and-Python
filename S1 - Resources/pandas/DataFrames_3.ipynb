{
 "cells": [
  {
   "cell_type": "code",
   "execution_count": 1,
   "outputs": [],
   "source": [
    "import pandas as pd"
   ],
   "metadata": {
    "collapsed": false,
    "pycharm": {
     "name": "#%%\n"
    }
   }
  },
  {
   "cell_type": "code",
   "execution_count": 2,
   "outputs": [
    {
     "data": {
      "text/plain": "                    Film  Year         Actor       Director  Box Office  \\\n0                 Dr. No  1962  Sean Connery  Terence Young       448.8   \n1  From Russia with Love  1963  Sean Connery  Terence Young       543.8   \n2             Goldfinger  1964  Sean Connery   Guy Hamilton       820.4   \n3            Thunderball  1965  Sean Connery  Terence Young       848.1   \n4          Casino Royale  1967   David Niven     Ken Hughes       315.0   \n\n   Budget  Bond Actor Salary  \n0     7.0                0.6  \n1    12.6                1.6  \n2    18.6                3.2  \n3    41.9                4.7  \n4    85.0                NaN  ",
      "text/html": "<div>\n<style scoped>\n    .dataframe tbody tr th:only-of-type {\n        vertical-align: middle;\n    }\n\n    .dataframe tbody tr th {\n        vertical-align: top;\n    }\n\n    .dataframe thead th {\n        text-align: right;\n    }\n</style>\n<table border=\"1\" class=\"dataframe\">\n  <thead>\n    <tr style=\"text-align: right;\">\n      <th></th>\n      <th>Film</th>\n      <th>Year</th>\n      <th>Actor</th>\n      <th>Director</th>\n      <th>Box Office</th>\n      <th>Budget</th>\n      <th>Bond Actor Salary</th>\n    </tr>\n  </thead>\n  <tbody>\n    <tr>\n      <th>0</th>\n      <td>Dr. No</td>\n      <td>1962</td>\n      <td>Sean Connery</td>\n      <td>Terence Young</td>\n      <td>448.8</td>\n      <td>7.0</td>\n      <td>0.6</td>\n    </tr>\n    <tr>\n      <th>1</th>\n      <td>From Russia with Love</td>\n      <td>1963</td>\n      <td>Sean Connery</td>\n      <td>Terence Young</td>\n      <td>543.8</td>\n      <td>12.6</td>\n      <td>1.6</td>\n    </tr>\n    <tr>\n      <th>2</th>\n      <td>Goldfinger</td>\n      <td>1964</td>\n      <td>Sean Connery</td>\n      <td>Guy Hamilton</td>\n      <td>820.4</td>\n      <td>18.6</td>\n      <td>3.2</td>\n    </tr>\n    <tr>\n      <th>3</th>\n      <td>Thunderball</td>\n      <td>1965</td>\n      <td>Sean Connery</td>\n      <td>Terence Young</td>\n      <td>848.1</td>\n      <td>41.9</td>\n      <td>4.7</td>\n    </tr>\n    <tr>\n      <th>4</th>\n      <td>Casino Royale</td>\n      <td>1967</td>\n      <td>David Niven</td>\n      <td>Ken Hughes</td>\n      <td>315.0</td>\n      <td>85.0</td>\n      <td>NaN</td>\n    </tr>\n  </tbody>\n</table>\n</div>"
     },
     "execution_count": 2,
     "metadata": {},
     "output_type": "execute_result"
    }
   ],
   "source": [
    "bond = pd.read_csv(\"jamesbond.csv\")\n",
    "bond.head()"
   ],
   "metadata": {
    "collapsed": false,
    "pycharm": {
     "name": "#%%\n"
    }
   }
  },
  {
   "cell_type": "markdown",
   "source": [
    "# The `set_index()` and `reset_index()` methods"
   ],
   "metadata": {
    "collapsed": false,
    "pycharm": {
     "name": "#%% md\n"
    }
   }
  },
  {
   "cell_type": "code",
   "execution_count": 3,
   "outputs": [
    {
     "data": {
      "text/plain": "                       Year         Actor       Director  Box Office  Budget  \\\nFilm                                                                           \nDr. No                 1962  Sean Connery  Terence Young       448.8     7.0   \nFrom Russia with Love  1963  Sean Connery  Terence Young       543.8    12.6   \nGoldfinger             1964  Sean Connery   Guy Hamilton       820.4    18.6   \nThunderball            1965  Sean Connery  Terence Young       848.1    41.9   \nCasino Royale          1967   David Niven     Ken Hughes       315.0    85.0   \n\n                       Bond Actor Salary  \nFilm                                      \nDr. No                               0.6  \nFrom Russia with Love                1.6  \nGoldfinger                           3.2  \nThunderball                          4.7  \nCasino Royale                        NaN  ",
      "text/html": "<div>\n<style scoped>\n    .dataframe tbody tr th:only-of-type {\n        vertical-align: middle;\n    }\n\n    .dataframe tbody tr th {\n        vertical-align: top;\n    }\n\n    .dataframe thead th {\n        text-align: right;\n    }\n</style>\n<table border=\"1\" class=\"dataframe\">\n  <thead>\n    <tr style=\"text-align: right;\">\n      <th></th>\n      <th>Year</th>\n      <th>Actor</th>\n      <th>Director</th>\n      <th>Box Office</th>\n      <th>Budget</th>\n      <th>Bond Actor Salary</th>\n    </tr>\n    <tr>\n      <th>Film</th>\n      <th></th>\n      <th></th>\n      <th></th>\n      <th></th>\n      <th></th>\n      <th></th>\n    </tr>\n  </thead>\n  <tbody>\n    <tr>\n      <th>Dr. No</th>\n      <td>1962</td>\n      <td>Sean Connery</td>\n      <td>Terence Young</td>\n      <td>448.8</td>\n      <td>7.0</td>\n      <td>0.6</td>\n    </tr>\n    <tr>\n      <th>From Russia with Love</th>\n      <td>1963</td>\n      <td>Sean Connery</td>\n      <td>Terence Young</td>\n      <td>543.8</td>\n      <td>12.6</td>\n      <td>1.6</td>\n    </tr>\n    <tr>\n      <th>Goldfinger</th>\n      <td>1964</td>\n      <td>Sean Connery</td>\n      <td>Guy Hamilton</td>\n      <td>820.4</td>\n      <td>18.6</td>\n      <td>3.2</td>\n    </tr>\n    <tr>\n      <th>Thunderball</th>\n      <td>1965</td>\n      <td>Sean Connery</td>\n      <td>Terence Young</td>\n      <td>848.1</td>\n      <td>41.9</td>\n      <td>4.7</td>\n    </tr>\n    <tr>\n      <th>Casino Royale</th>\n      <td>1967</td>\n      <td>David Niven</td>\n      <td>Ken Hughes</td>\n      <td>315.0</td>\n      <td>85.0</td>\n      <td>NaN</td>\n    </tr>\n  </tbody>\n</table>\n</div>"
     },
     "execution_count": 3,
     "metadata": {},
     "output_type": "execute_result"
    }
   ],
   "source": [
    "bond.set_index(keys=\"Film\", inplace=True)\n",
    "bond.head()"
   ],
   "metadata": {
    "collapsed": false,
    "pycharm": {
     "name": "#%%\n"
    }
   }
  },
  {
   "cell_type": "code",
   "execution_count": 4,
   "outputs": [
    {
     "data": {
      "text/plain": "                    Film  Year         Actor       Director  Box Office  \\\n0                 Dr. No  1962  Sean Connery  Terence Young       448.8   \n1  From Russia with Love  1963  Sean Connery  Terence Young       543.8   \n2             Goldfinger  1964  Sean Connery   Guy Hamilton       820.4   \n3            Thunderball  1965  Sean Connery  Terence Young       848.1   \n4          Casino Royale  1967   David Niven     Ken Hughes       315.0   \n\n   Budget  Bond Actor Salary  \n0     7.0                0.6  \n1    12.6                1.6  \n2    18.6                3.2  \n3    41.9                4.7  \n4    85.0                NaN  ",
      "text/html": "<div>\n<style scoped>\n    .dataframe tbody tr th:only-of-type {\n        vertical-align: middle;\n    }\n\n    .dataframe tbody tr th {\n        vertical-align: top;\n    }\n\n    .dataframe thead th {\n        text-align: right;\n    }\n</style>\n<table border=\"1\" class=\"dataframe\">\n  <thead>\n    <tr style=\"text-align: right;\">\n      <th></th>\n      <th>Film</th>\n      <th>Year</th>\n      <th>Actor</th>\n      <th>Director</th>\n      <th>Box Office</th>\n      <th>Budget</th>\n      <th>Bond Actor Salary</th>\n    </tr>\n  </thead>\n  <tbody>\n    <tr>\n      <th>0</th>\n      <td>Dr. No</td>\n      <td>1962</td>\n      <td>Sean Connery</td>\n      <td>Terence Young</td>\n      <td>448.8</td>\n      <td>7.0</td>\n      <td>0.6</td>\n    </tr>\n    <tr>\n      <th>1</th>\n      <td>From Russia with Love</td>\n      <td>1963</td>\n      <td>Sean Connery</td>\n      <td>Terence Young</td>\n      <td>543.8</td>\n      <td>12.6</td>\n      <td>1.6</td>\n    </tr>\n    <tr>\n      <th>2</th>\n      <td>Goldfinger</td>\n      <td>1964</td>\n      <td>Sean Connery</td>\n      <td>Guy Hamilton</td>\n      <td>820.4</td>\n      <td>18.6</td>\n      <td>3.2</td>\n    </tr>\n    <tr>\n      <th>3</th>\n      <td>Thunderball</td>\n      <td>1965</td>\n      <td>Sean Connery</td>\n      <td>Terence Young</td>\n      <td>848.1</td>\n      <td>41.9</td>\n      <td>4.7</td>\n    </tr>\n    <tr>\n      <th>4</th>\n      <td>Casino Royale</td>\n      <td>1967</td>\n      <td>David Niven</td>\n      <td>Ken Hughes</td>\n      <td>315.0</td>\n      <td>85.0</td>\n      <td>NaN</td>\n    </tr>\n  </tbody>\n</table>\n</div>"
     },
     "execution_count": 4,
     "metadata": {},
     "output_type": "execute_result"
    }
   ],
   "source": [
    "bond.reset_index(inplace=True)\n",
    "bond.head()"
   ],
   "metadata": {
    "collapsed": false,
    "pycharm": {
     "name": "#%%\n"
    }
   }
  },
  {
   "cell_type": "code",
   "execution_count": 5,
   "outputs": [
    {
     "data": {
      "text/plain": "                       Year         Actor       Director  Box Office  Budget  \\\nFilm                                                                           \nDr. No                 1962  Sean Connery  Terence Young       448.8     7.0   \nFrom Russia with Love  1963  Sean Connery  Terence Young       543.8    12.6   \nGoldfinger             1964  Sean Connery   Guy Hamilton       820.4    18.6   \nThunderball            1965  Sean Connery  Terence Young       848.1    41.9   \nCasino Royale          1967   David Niven     Ken Hughes       315.0    85.0   \n\n                       Bond Actor Salary  \nFilm                                      \nDr. No                               0.6  \nFrom Russia with Love                1.6  \nGoldfinger                           3.2  \nThunderball                          4.7  \nCasino Royale                        NaN  ",
      "text/html": "<div>\n<style scoped>\n    .dataframe tbody tr th:only-of-type {\n        vertical-align: middle;\n    }\n\n    .dataframe tbody tr th {\n        vertical-align: top;\n    }\n\n    .dataframe thead th {\n        text-align: right;\n    }\n</style>\n<table border=\"1\" class=\"dataframe\">\n  <thead>\n    <tr style=\"text-align: right;\">\n      <th></th>\n      <th>Year</th>\n      <th>Actor</th>\n      <th>Director</th>\n      <th>Box Office</th>\n      <th>Budget</th>\n      <th>Bond Actor Salary</th>\n    </tr>\n    <tr>\n      <th>Film</th>\n      <th></th>\n      <th></th>\n      <th></th>\n      <th></th>\n      <th></th>\n      <th></th>\n    </tr>\n  </thead>\n  <tbody>\n    <tr>\n      <th>Dr. No</th>\n      <td>1962</td>\n      <td>Sean Connery</td>\n      <td>Terence Young</td>\n      <td>448.8</td>\n      <td>7.0</td>\n      <td>0.6</td>\n    </tr>\n    <tr>\n      <th>From Russia with Love</th>\n      <td>1963</td>\n      <td>Sean Connery</td>\n      <td>Terence Young</td>\n      <td>543.8</td>\n      <td>12.6</td>\n      <td>1.6</td>\n    </tr>\n    <tr>\n      <th>Goldfinger</th>\n      <td>1964</td>\n      <td>Sean Connery</td>\n      <td>Guy Hamilton</td>\n      <td>820.4</td>\n      <td>18.6</td>\n      <td>3.2</td>\n    </tr>\n    <tr>\n      <th>Thunderball</th>\n      <td>1965</td>\n      <td>Sean Connery</td>\n      <td>Terence Young</td>\n      <td>848.1</td>\n      <td>41.9</td>\n      <td>4.7</td>\n    </tr>\n    <tr>\n      <th>Casino Royale</th>\n      <td>1967</td>\n      <td>David Niven</td>\n      <td>Ken Hughes</td>\n      <td>315.0</td>\n      <td>85.0</td>\n      <td>NaN</td>\n    </tr>\n  </tbody>\n</table>\n</div>"
     },
     "execution_count": 5,
     "metadata": {},
     "output_type": "execute_result"
    }
   ],
   "source": [
    "bond.set_index(\"Film\", inplace=True)\n",
    "bond.head()"
   ],
   "metadata": {
    "collapsed": false,
    "pycharm": {
     "name": "#%%\n"
    }
   }
  },
  {
   "cell_type": "markdown",
   "source": [
    "If we want to set a new index, first we need to reset_index to previous state."
   ],
   "metadata": {
    "collapsed": false,
    "pycharm": {
     "name": "#%% md\n"
    }
   }
  },
  {
   "cell_type": "code",
   "execution_count": 6,
   "outputs": [
    {
     "data": {
      "text/plain": "                       Film         Actor       Director  Box Office  Budget  \\\nYear                                                                           \n1962                 Dr. No  Sean Connery  Terence Young       448.8     7.0   \n1963  From Russia with Love  Sean Connery  Terence Young       543.8    12.6   \n1964             Goldfinger  Sean Connery   Guy Hamilton       820.4    18.6   \n1965            Thunderball  Sean Connery  Terence Young       848.1    41.9   \n1967          Casino Royale   David Niven     Ken Hughes       315.0    85.0   \n\n      Bond Actor Salary  \nYear                     \n1962                0.6  \n1963                1.6  \n1964                3.2  \n1965                4.7  \n1967                NaN  ",
      "text/html": "<div>\n<style scoped>\n    .dataframe tbody tr th:only-of-type {\n        vertical-align: middle;\n    }\n\n    .dataframe tbody tr th {\n        vertical-align: top;\n    }\n\n    .dataframe thead th {\n        text-align: right;\n    }\n</style>\n<table border=\"1\" class=\"dataframe\">\n  <thead>\n    <tr style=\"text-align: right;\">\n      <th></th>\n      <th>Film</th>\n      <th>Actor</th>\n      <th>Director</th>\n      <th>Box Office</th>\n      <th>Budget</th>\n      <th>Bond Actor Salary</th>\n    </tr>\n    <tr>\n      <th>Year</th>\n      <th></th>\n      <th></th>\n      <th></th>\n      <th></th>\n      <th></th>\n      <th></th>\n    </tr>\n  </thead>\n  <tbody>\n    <tr>\n      <th>1962</th>\n      <td>Dr. No</td>\n      <td>Sean Connery</td>\n      <td>Terence Young</td>\n      <td>448.8</td>\n      <td>7.0</td>\n      <td>0.6</td>\n    </tr>\n    <tr>\n      <th>1963</th>\n      <td>From Russia with Love</td>\n      <td>Sean Connery</td>\n      <td>Terence Young</td>\n      <td>543.8</td>\n      <td>12.6</td>\n      <td>1.6</td>\n    </tr>\n    <tr>\n      <th>1964</th>\n      <td>Goldfinger</td>\n      <td>Sean Connery</td>\n      <td>Guy Hamilton</td>\n      <td>820.4</td>\n      <td>18.6</td>\n      <td>3.2</td>\n    </tr>\n    <tr>\n      <th>1965</th>\n      <td>Thunderball</td>\n      <td>Sean Connery</td>\n      <td>Terence Young</td>\n      <td>848.1</td>\n      <td>41.9</td>\n      <td>4.7</td>\n    </tr>\n    <tr>\n      <th>1967</th>\n      <td>Casino Royale</td>\n      <td>David Niven</td>\n      <td>Ken Hughes</td>\n      <td>315.0</td>\n      <td>85.0</td>\n      <td>NaN</td>\n    </tr>\n  </tbody>\n</table>\n</div>"
     },
     "execution_count": 6,
     "metadata": {},
     "output_type": "execute_result"
    }
   ],
   "source": [
    "bond.reset_index(inplace=True)\n",
    "bond.set_index(\"Year\", inplace=True)\n",
    "bond.head()"
   ],
   "metadata": {
    "collapsed": false,
    "pycharm": {
     "name": "#%%\n"
    }
   }
  },
  {
   "cell_type": "markdown",
   "source": [
    "# Retrieve Rows by Index Label with `.loc()` Accessor"
   ],
   "metadata": {
    "collapsed": false,
    "pycharm": {
     "name": "#%% md\n"
    }
   }
  },
  {
   "cell_type": "code",
   "execution_count": 7,
   "outputs": [
    {
     "data": {
      "text/plain": "                      Year           Actor         Director  Box Office  \\\nFilm                                                                      \nA View to a Kill      1985     Roger Moore        John Glen       275.2   \nCasino Royale         2006    Daniel Craig  Martin Campbell       581.5   \nCasino Royale         1967     David Niven       Ken Hughes       315.0   \nDiamonds Are Forever  1971    Sean Connery     Guy Hamilton       442.5   \nDie Another Day       2002  Pierce Brosnan     Lee Tamahori       465.4   \n\n                      Budget  Bond Actor Salary  \nFilm                                             \nA View to a Kill        54.5                9.1  \nCasino Royale          145.3                3.3  \nCasino Royale           85.0                NaN  \nDiamonds Are Forever    34.7                5.8  \nDie Another Day        154.2               17.9  ",
      "text/html": "<div>\n<style scoped>\n    .dataframe tbody tr th:only-of-type {\n        vertical-align: middle;\n    }\n\n    .dataframe tbody tr th {\n        vertical-align: top;\n    }\n\n    .dataframe thead th {\n        text-align: right;\n    }\n</style>\n<table border=\"1\" class=\"dataframe\">\n  <thead>\n    <tr style=\"text-align: right;\">\n      <th></th>\n      <th>Year</th>\n      <th>Actor</th>\n      <th>Director</th>\n      <th>Box Office</th>\n      <th>Budget</th>\n      <th>Bond Actor Salary</th>\n    </tr>\n    <tr>\n      <th>Film</th>\n      <th></th>\n      <th></th>\n      <th></th>\n      <th></th>\n      <th></th>\n      <th></th>\n    </tr>\n  </thead>\n  <tbody>\n    <tr>\n      <th>A View to a Kill</th>\n      <td>1985</td>\n      <td>Roger Moore</td>\n      <td>John Glen</td>\n      <td>275.2</td>\n      <td>54.5</td>\n      <td>9.1</td>\n    </tr>\n    <tr>\n      <th>Casino Royale</th>\n      <td>2006</td>\n      <td>Daniel Craig</td>\n      <td>Martin Campbell</td>\n      <td>581.5</td>\n      <td>145.3</td>\n      <td>3.3</td>\n    </tr>\n    <tr>\n      <th>Casino Royale</th>\n      <td>1967</td>\n      <td>David Niven</td>\n      <td>Ken Hughes</td>\n      <td>315.0</td>\n      <td>85.0</td>\n      <td>NaN</td>\n    </tr>\n    <tr>\n      <th>Diamonds Are Forever</th>\n      <td>1971</td>\n      <td>Sean Connery</td>\n      <td>Guy Hamilton</td>\n      <td>442.5</td>\n      <td>34.7</td>\n      <td>5.8</td>\n    </tr>\n    <tr>\n      <th>Die Another Day</th>\n      <td>2002</td>\n      <td>Pierce Brosnan</td>\n      <td>Lee Tamahori</td>\n      <td>465.4</td>\n      <td>154.2</td>\n      <td>17.9</td>\n    </tr>\n  </tbody>\n</table>\n</div>"
     },
     "execution_count": 7,
     "metadata": {},
     "output_type": "execute_result"
    }
   ],
   "source": [
    "# use film as index\n",
    "bond = pd.read_csv(\"jamesbond.csv\", index_col=\"Film\")\n",
    "# sort index for optimization\n",
    "bond.sort_index(inplace=True)\n",
    "bond.head()"
   ],
   "metadata": {
    "collapsed": false,
    "pycharm": {
     "name": "#%%\n"
    }
   }
  },
  {
   "cell_type": "code",
   "execution_count": 8,
   "outputs": [
    {
     "data": {
      "text/plain": "Year                         1964\nActor                Sean Connery\nDirector             Guy Hamilton\nBox Office                  820.4\nBudget                       18.6\nBond Actor Salary             3.2\nName: Goldfinger, dtype: object"
     },
     "execution_count": 8,
     "metadata": {},
     "output_type": "execute_result"
    }
   ],
   "source": [
    "bond.loc[\"Goldfinger\"]"
   ],
   "metadata": {
    "collapsed": false,
    "pycharm": {
     "name": "#%%\n"
    }
   }
  },
  {
   "cell_type": "code",
   "execution_count": 9,
   "outputs": [
    {
     "data": {
      "text/plain": "               Year         Actor         Director  Box Office  Budget  \\\nFilm                                                                     \nCasino Royale  2006  Daniel Craig  Martin Campbell       581.5   145.3   \nCasino Royale  1967   David Niven       Ken Hughes       315.0    85.0   \n\n               Bond Actor Salary  \nFilm                              \nCasino Royale                3.3  \nCasino Royale                NaN  ",
      "text/html": "<div>\n<style scoped>\n    .dataframe tbody tr th:only-of-type {\n        vertical-align: middle;\n    }\n\n    .dataframe tbody tr th {\n        vertical-align: top;\n    }\n\n    .dataframe thead th {\n        text-align: right;\n    }\n</style>\n<table border=\"1\" class=\"dataframe\">\n  <thead>\n    <tr style=\"text-align: right;\">\n      <th></th>\n      <th>Year</th>\n      <th>Actor</th>\n      <th>Director</th>\n      <th>Box Office</th>\n      <th>Budget</th>\n      <th>Bond Actor Salary</th>\n    </tr>\n    <tr>\n      <th>Film</th>\n      <th></th>\n      <th></th>\n      <th></th>\n      <th></th>\n      <th></th>\n      <th></th>\n    </tr>\n  </thead>\n  <tbody>\n    <tr>\n      <th>Casino Royale</th>\n      <td>2006</td>\n      <td>Daniel Craig</td>\n      <td>Martin Campbell</td>\n      <td>581.5</td>\n      <td>145.3</td>\n      <td>3.3</td>\n    </tr>\n    <tr>\n      <th>Casino Royale</th>\n      <td>1967</td>\n      <td>David Niven</td>\n      <td>Ken Hughes</td>\n      <td>315.0</td>\n      <td>85.0</td>\n      <td>NaN</td>\n    </tr>\n  </tbody>\n</table>\n</div>"
     },
     "execution_count": 9,
     "metadata": {},
     "output_type": "execute_result"
    }
   ],
   "source": [
    "bond.loc[\"Casino Royale\"]"
   ],
   "metadata": {
    "collapsed": false,
    "pycharm": {
     "name": "#%%\n"
    }
   }
  },
  {
   "cell_type": "code",
   "execution_count": 10,
   "outputs": [
    {
     "data": {
      "text/plain": "                       Year           Actor       Director  Box Office  \\\nFilm                                                                     \nDiamonds Are Forever   1971    Sean Connery   Guy Hamilton       442.5   \nDie Another Day        2002  Pierce Brosnan   Lee Tamahori       465.4   \nDr. No                 1962    Sean Connery  Terence Young       448.8   \nFor Your Eyes Only     1981     Roger Moore      John Glen       449.4   \nFrom Russia with Love  1963    Sean Connery  Terence Young       543.8   \n\n                       Budget  Bond Actor Salary  \nFilm                                              \nDiamonds Are Forever     34.7                5.8  \nDie Another Day         154.2               17.9  \nDr. No                    7.0                0.6  \nFor Your Eyes Only       60.2                NaN  \nFrom Russia with Love    12.6                1.6  ",
      "text/html": "<div>\n<style scoped>\n    .dataframe tbody tr th:only-of-type {\n        vertical-align: middle;\n    }\n\n    .dataframe tbody tr th {\n        vertical-align: top;\n    }\n\n    .dataframe thead th {\n        text-align: right;\n    }\n</style>\n<table border=\"1\" class=\"dataframe\">\n  <thead>\n    <tr style=\"text-align: right;\">\n      <th></th>\n      <th>Year</th>\n      <th>Actor</th>\n      <th>Director</th>\n      <th>Box Office</th>\n      <th>Budget</th>\n      <th>Bond Actor Salary</th>\n    </tr>\n    <tr>\n      <th>Film</th>\n      <th></th>\n      <th></th>\n      <th></th>\n      <th></th>\n      <th></th>\n      <th></th>\n    </tr>\n  </thead>\n  <tbody>\n    <tr>\n      <th>Diamonds Are Forever</th>\n      <td>1971</td>\n      <td>Sean Connery</td>\n      <td>Guy Hamilton</td>\n      <td>442.5</td>\n      <td>34.7</td>\n      <td>5.8</td>\n    </tr>\n    <tr>\n      <th>Die Another Day</th>\n      <td>2002</td>\n      <td>Pierce Brosnan</td>\n      <td>Lee Tamahori</td>\n      <td>465.4</td>\n      <td>154.2</td>\n      <td>17.9</td>\n    </tr>\n    <tr>\n      <th>Dr. No</th>\n      <td>1962</td>\n      <td>Sean Connery</td>\n      <td>Terence Young</td>\n      <td>448.8</td>\n      <td>7.0</td>\n      <td>0.6</td>\n    </tr>\n    <tr>\n      <th>For Your Eyes Only</th>\n      <td>1981</td>\n      <td>Roger Moore</td>\n      <td>John Glen</td>\n      <td>449.4</td>\n      <td>60.2</td>\n      <td>NaN</td>\n    </tr>\n    <tr>\n      <th>From Russia with Love</th>\n      <td>1963</td>\n      <td>Sean Connery</td>\n      <td>Terence Young</td>\n      <td>543.8</td>\n      <td>12.6</td>\n      <td>1.6</td>\n    </tr>\n  </tbody>\n</table>\n</div>"
     },
     "execution_count": 10,
     "metadata": {},
     "output_type": "execute_result"
    }
   ],
   "source": [
    "bond.loc[\"Diamonds Are Forever\":\"From Russia with Love\"]"
   ],
   "metadata": {
    "collapsed": false,
    "pycharm": {
     "name": "#%%\n"
    }
   }
  },
  {
   "cell_type": "code",
   "execution_count": 11,
   "outputs": [
    {
     "data": {
      "text/plain": "                       Year         Actor       Director  Box Office  Budget  \\\nFilm                                                                           \nDiamonds Are Forever   1971  Sean Connery   Guy Hamilton       442.5    34.7   \nDr. No                 1962  Sean Connery  Terence Young       448.8     7.0   \nFrom Russia with Love  1963  Sean Connery  Terence Young       543.8    12.6   \n\n                       Bond Actor Salary  \nFilm                                      \nDiamonds Are Forever                 5.8  \nDr. No                               0.6  \nFrom Russia with Love                1.6  ",
      "text/html": "<div>\n<style scoped>\n    .dataframe tbody tr th:only-of-type {\n        vertical-align: middle;\n    }\n\n    .dataframe tbody tr th {\n        vertical-align: top;\n    }\n\n    .dataframe thead th {\n        text-align: right;\n    }\n</style>\n<table border=\"1\" class=\"dataframe\">\n  <thead>\n    <tr style=\"text-align: right;\">\n      <th></th>\n      <th>Year</th>\n      <th>Actor</th>\n      <th>Director</th>\n      <th>Box Office</th>\n      <th>Budget</th>\n      <th>Bond Actor Salary</th>\n    </tr>\n    <tr>\n      <th>Film</th>\n      <th></th>\n      <th></th>\n      <th></th>\n      <th></th>\n      <th></th>\n      <th></th>\n    </tr>\n  </thead>\n  <tbody>\n    <tr>\n      <th>Diamonds Are Forever</th>\n      <td>1971</td>\n      <td>Sean Connery</td>\n      <td>Guy Hamilton</td>\n      <td>442.5</td>\n      <td>34.7</td>\n      <td>5.8</td>\n    </tr>\n    <tr>\n      <th>Dr. No</th>\n      <td>1962</td>\n      <td>Sean Connery</td>\n      <td>Terence Young</td>\n      <td>448.8</td>\n      <td>7.0</td>\n      <td>0.6</td>\n    </tr>\n    <tr>\n      <th>From Russia with Love</th>\n      <td>1963</td>\n      <td>Sean Connery</td>\n      <td>Terence Young</td>\n      <td>543.8</td>\n      <td>12.6</td>\n      <td>1.6</td>\n    </tr>\n  </tbody>\n</table>\n</div>"
     },
     "execution_count": 11,
     "metadata": {},
     "output_type": "execute_result"
    }
   ],
   "source": [
    "# in steps of two\n",
    "bond.loc[\"Diamonds Are Forever\":\"From Russia with Love\":2]"
   ],
   "metadata": {
    "collapsed": false,
    "pycharm": {
     "name": "#%%\n"
    }
   }
  },
  {
   "cell_type": "markdown",
   "source": [],
   "metadata": {
    "collapsed": false,
    "pycharm": {
     "name": "#%% md\n"
    }
   }
  },
  {
   "cell_type": "code",
   "execution_count": 12,
   "outputs": [
    {
     "data": {
      "text/plain": "                                 Year           Actor            Director  \\\nFilm                                                                        \nGoldenEye                        1995  Pierce Brosnan     Martin Campbell   \nGoldfinger                       1964    Sean Connery        Guy Hamilton   \nLicence to Kill                  1989  Timothy Dalton           John Glen   \nLive and Let Die                 1973     Roger Moore        Guy Hamilton   \nMoonraker                        1979     Roger Moore       Lewis Gilbert   \nNever Say Never Again            1983    Sean Connery      Irvin Kershner   \nOctopussy                        1983     Roger Moore           John Glen   \nOn Her Majesty's Secret Service  1969  George Lazenby       Peter R. Hunt   \nQuantum of Solace                2008    Daniel Craig        Marc Forster   \nSkyfall                          2012    Daniel Craig          Sam Mendes   \nSpectre                          2015    Daniel Craig          Sam Mendes   \nThe Living Daylights             1987  Timothy Dalton           John Glen   \nThe Man with the Golden Gun      1974     Roger Moore        Guy Hamilton   \nThe Spy Who Loved Me             1977     Roger Moore       Lewis Gilbert   \nThe World Is Not Enough          1999  Pierce Brosnan       Michael Apted   \nThunderball                      1965    Sean Connery       Terence Young   \nTomorrow Never Dies              1997  Pierce Brosnan  Roger Spottiswoode   \nYou Only Live Twice              1967    Sean Connery       Lewis Gilbert   \n\n                                 Box Office  Budget  Bond Actor Salary  \nFilm                                                                    \nGoldenEye                             518.5    76.9                5.1  \nGoldfinger                            820.4    18.6                3.2  \nLicence to Kill                       250.9    56.7                7.9  \nLive and Let Die                      460.3    30.8                NaN  \nMoonraker                             535.0    91.5                NaN  \nNever Say Never Again                 380.0    86.0                NaN  \nOctopussy                             373.8    53.9                7.8  \nOn Her Majesty's Secret Service       291.5    37.3                0.6  \nQuantum of Solace                     514.2   181.4                8.1  \nSkyfall                               943.5   170.2               14.5  \nSpectre                               726.7   206.3                NaN  \nThe Living Daylights                  313.5    68.8                5.2  \nThe Man with the Golden Gun           334.0    27.7                NaN  \nThe Spy Who Loved Me                  533.0    45.1                NaN  \nThe World Is Not Enough               439.5   158.3               13.5  \nThunderball                           848.1    41.9                4.7  \nTomorrow Never Dies                   463.2   133.9               10.0  \nYou Only Live Twice                   514.2    59.9                4.4  ",
      "text/html": "<div>\n<style scoped>\n    .dataframe tbody tr th:only-of-type {\n        vertical-align: middle;\n    }\n\n    .dataframe tbody tr th {\n        vertical-align: top;\n    }\n\n    .dataframe thead th {\n        text-align: right;\n    }\n</style>\n<table border=\"1\" class=\"dataframe\">\n  <thead>\n    <tr style=\"text-align: right;\">\n      <th></th>\n      <th>Year</th>\n      <th>Actor</th>\n      <th>Director</th>\n      <th>Box Office</th>\n      <th>Budget</th>\n      <th>Bond Actor Salary</th>\n    </tr>\n    <tr>\n      <th>Film</th>\n      <th></th>\n      <th></th>\n      <th></th>\n      <th></th>\n      <th></th>\n      <th></th>\n    </tr>\n  </thead>\n  <tbody>\n    <tr>\n      <th>GoldenEye</th>\n      <td>1995</td>\n      <td>Pierce Brosnan</td>\n      <td>Martin Campbell</td>\n      <td>518.5</td>\n      <td>76.9</td>\n      <td>5.1</td>\n    </tr>\n    <tr>\n      <th>Goldfinger</th>\n      <td>1964</td>\n      <td>Sean Connery</td>\n      <td>Guy Hamilton</td>\n      <td>820.4</td>\n      <td>18.6</td>\n      <td>3.2</td>\n    </tr>\n    <tr>\n      <th>Licence to Kill</th>\n      <td>1989</td>\n      <td>Timothy Dalton</td>\n      <td>John Glen</td>\n      <td>250.9</td>\n      <td>56.7</td>\n      <td>7.9</td>\n    </tr>\n    <tr>\n      <th>Live and Let Die</th>\n      <td>1973</td>\n      <td>Roger Moore</td>\n      <td>Guy Hamilton</td>\n      <td>460.3</td>\n      <td>30.8</td>\n      <td>NaN</td>\n    </tr>\n    <tr>\n      <th>Moonraker</th>\n      <td>1979</td>\n      <td>Roger Moore</td>\n      <td>Lewis Gilbert</td>\n      <td>535.0</td>\n      <td>91.5</td>\n      <td>NaN</td>\n    </tr>\n    <tr>\n      <th>Never Say Never Again</th>\n      <td>1983</td>\n      <td>Sean Connery</td>\n      <td>Irvin Kershner</td>\n      <td>380.0</td>\n      <td>86.0</td>\n      <td>NaN</td>\n    </tr>\n    <tr>\n      <th>Octopussy</th>\n      <td>1983</td>\n      <td>Roger Moore</td>\n      <td>John Glen</td>\n      <td>373.8</td>\n      <td>53.9</td>\n      <td>7.8</td>\n    </tr>\n    <tr>\n      <th>On Her Majesty's Secret Service</th>\n      <td>1969</td>\n      <td>George Lazenby</td>\n      <td>Peter R. Hunt</td>\n      <td>291.5</td>\n      <td>37.3</td>\n      <td>0.6</td>\n    </tr>\n    <tr>\n      <th>Quantum of Solace</th>\n      <td>2008</td>\n      <td>Daniel Craig</td>\n      <td>Marc Forster</td>\n      <td>514.2</td>\n      <td>181.4</td>\n      <td>8.1</td>\n    </tr>\n    <tr>\n      <th>Skyfall</th>\n      <td>2012</td>\n      <td>Daniel Craig</td>\n      <td>Sam Mendes</td>\n      <td>943.5</td>\n      <td>170.2</td>\n      <td>14.5</td>\n    </tr>\n    <tr>\n      <th>Spectre</th>\n      <td>2015</td>\n      <td>Daniel Craig</td>\n      <td>Sam Mendes</td>\n      <td>726.7</td>\n      <td>206.3</td>\n      <td>NaN</td>\n    </tr>\n    <tr>\n      <th>The Living Daylights</th>\n      <td>1987</td>\n      <td>Timothy Dalton</td>\n      <td>John Glen</td>\n      <td>313.5</td>\n      <td>68.8</td>\n      <td>5.2</td>\n    </tr>\n    <tr>\n      <th>The Man with the Golden Gun</th>\n      <td>1974</td>\n      <td>Roger Moore</td>\n      <td>Guy Hamilton</td>\n      <td>334.0</td>\n      <td>27.7</td>\n      <td>NaN</td>\n    </tr>\n    <tr>\n      <th>The Spy Who Loved Me</th>\n      <td>1977</td>\n      <td>Roger Moore</td>\n      <td>Lewis Gilbert</td>\n      <td>533.0</td>\n      <td>45.1</td>\n      <td>NaN</td>\n    </tr>\n    <tr>\n      <th>The World Is Not Enough</th>\n      <td>1999</td>\n      <td>Pierce Brosnan</td>\n      <td>Michael Apted</td>\n      <td>439.5</td>\n      <td>158.3</td>\n      <td>13.5</td>\n    </tr>\n    <tr>\n      <th>Thunderball</th>\n      <td>1965</td>\n      <td>Sean Connery</td>\n      <td>Terence Young</td>\n      <td>848.1</td>\n      <td>41.9</td>\n      <td>4.7</td>\n    </tr>\n    <tr>\n      <th>Tomorrow Never Dies</th>\n      <td>1997</td>\n      <td>Pierce Brosnan</td>\n      <td>Roger Spottiswoode</td>\n      <td>463.2</td>\n      <td>133.9</td>\n      <td>10.0</td>\n    </tr>\n    <tr>\n      <th>You Only Live Twice</th>\n      <td>1967</td>\n      <td>Sean Connery</td>\n      <td>Lewis Gilbert</td>\n      <td>514.2</td>\n      <td>59.9</td>\n      <td>4.4</td>\n    </tr>\n  </tbody>\n</table>\n</div>"
     },
     "execution_count": 12,
     "metadata": {},
     "output_type": "execute_result"
    }
   ],
   "source": [
    "bond.loc[\"GoldenEye\":]"
   ],
   "metadata": {
    "collapsed": false,
    "pycharm": {
     "name": "#%%\n"
    }
   }
  },
  {
   "cell_type": "code",
   "execution_count": 13,
   "outputs": [
    {
     "data": {
      "text/plain": "                 Year           Actor      Director  Box Office  Budget  \\\nFilm                                                                      \nDie Another Day  2002  Pierce Brosnan  Lee Tamahori       465.4   154.2   \nOctopussy        1983     Roger Moore     John Glen       373.8    53.9   \n\n                 Bond Actor Salary  \nFilm                                \nDie Another Day               17.9  \nOctopussy                      7.8  ",
      "text/html": "<div>\n<style scoped>\n    .dataframe tbody tr th:only-of-type {\n        vertical-align: middle;\n    }\n\n    .dataframe tbody tr th {\n        vertical-align: top;\n    }\n\n    .dataframe thead th {\n        text-align: right;\n    }\n</style>\n<table border=\"1\" class=\"dataframe\">\n  <thead>\n    <tr style=\"text-align: right;\">\n      <th></th>\n      <th>Year</th>\n      <th>Actor</th>\n      <th>Director</th>\n      <th>Box Office</th>\n      <th>Budget</th>\n      <th>Bond Actor Salary</th>\n    </tr>\n    <tr>\n      <th>Film</th>\n      <th></th>\n      <th></th>\n      <th></th>\n      <th></th>\n      <th></th>\n      <th></th>\n    </tr>\n  </thead>\n  <tbody>\n    <tr>\n      <th>Die Another Day</th>\n      <td>2002</td>\n      <td>Pierce Brosnan</td>\n      <td>Lee Tamahori</td>\n      <td>465.4</td>\n      <td>154.2</td>\n      <td>17.9</td>\n    </tr>\n    <tr>\n      <th>Octopussy</th>\n      <td>1983</td>\n      <td>Roger Moore</td>\n      <td>John Glen</td>\n      <td>373.8</td>\n      <td>53.9</td>\n      <td>7.8</td>\n    </tr>\n  </tbody>\n</table>\n</div>"
     },
     "execution_count": 13,
     "metadata": {},
     "output_type": "execute_result"
    }
   ],
   "source": [
    "bond.loc[[\"Die Another Day\", \"Octopussy\"]]"
   ],
   "metadata": {
    "collapsed": false,
    "pycharm": {
     "name": "#%%\n"
    }
   }
  },
  {
   "cell_type": "code",
   "execution_count": 14,
   "outputs": [
    {
     "data": {
      "text/plain": "False"
     },
     "execution_count": 14,
     "metadata": {},
     "output_type": "execute_result"
    }
   ],
   "source": [
    "\"Gold Bond\" in bond.index\n",
    "# bond.loc[[\"Die Another Day\", \"Octopussy\", \"Gold Bond\"]]"
   ],
   "metadata": {
    "collapsed": false,
    "pycharm": {
     "name": "#%%\n"
    }
   }
  },
  {
   "cell_type": "markdown",
   "source": [
    "# Retrieve Rows by Index Position with `.iloc()` Accessor"
   ],
   "metadata": {
    "collapsed": false,
    "pycharm": {
     "name": "#%% md\n"
    }
   }
  },
  {
   "cell_type": "code",
   "execution_count": 15,
   "outputs": [
    {
     "data": {
      "text/plain": "                    Film  Year         Actor       Director  Box Office  \\\n0                 Dr. No  1962  Sean Connery  Terence Young       448.8   \n1  From Russia with Love  1963  Sean Connery  Terence Young       543.8   \n2             Goldfinger  1964  Sean Connery   Guy Hamilton       820.4   \n3            Thunderball  1965  Sean Connery  Terence Young       848.1   \n4          Casino Royale  1967   David Niven     Ken Hughes       315.0   \n\n   Budget  Bond Actor Salary  \n0     7.0                0.6  \n1    12.6                1.6  \n2    18.6                3.2  \n3    41.9                4.7  \n4    85.0                NaN  ",
      "text/html": "<div>\n<style scoped>\n    .dataframe tbody tr th:only-of-type {\n        vertical-align: middle;\n    }\n\n    .dataframe tbody tr th {\n        vertical-align: top;\n    }\n\n    .dataframe thead th {\n        text-align: right;\n    }\n</style>\n<table border=\"1\" class=\"dataframe\">\n  <thead>\n    <tr style=\"text-align: right;\">\n      <th></th>\n      <th>Film</th>\n      <th>Year</th>\n      <th>Actor</th>\n      <th>Director</th>\n      <th>Box Office</th>\n      <th>Budget</th>\n      <th>Bond Actor Salary</th>\n    </tr>\n  </thead>\n  <tbody>\n    <tr>\n      <th>0</th>\n      <td>Dr. No</td>\n      <td>1962</td>\n      <td>Sean Connery</td>\n      <td>Terence Young</td>\n      <td>448.8</td>\n      <td>7.0</td>\n      <td>0.6</td>\n    </tr>\n    <tr>\n      <th>1</th>\n      <td>From Russia with Love</td>\n      <td>1963</td>\n      <td>Sean Connery</td>\n      <td>Terence Young</td>\n      <td>543.8</td>\n      <td>12.6</td>\n      <td>1.6</td>\n    </tr>\n    <tr>\n      <th>2</th>\n      <td>Goldfinger</td>\n      <td>1964</td>\n      <td>Sean Connery</td>\n      <td>Guy Hamilton</td>\n      <td>820.4</td>\n      <td>18.6</td>\n      <td>3.2</td>\n    </tr>\n    <tr>\n      <th>3</th>\n      <td>Thunderball</td>\n      <td>1965</td>\n      <td>Sean Connery</td>\n      <td>Terence Young</td>\n      <td>848.1</td>\n      <td>41.9</td>\n      <td>4.7</td>\n    </tr>\n    <tr>\n      <th>4</th>\n      <td>Casino Royale</td>\n      <td>1967</td>\n      <td>David Niven</td>\n      <td>Ken Hughes</td>\n      <td>315.0</td>\n      <td>85.0</td>\n      <td>NaN</td>\n    </tr>\n  </tbody>\n</table>\n</div>"
     },
     "execution_count": 15,
     "metadata": {},
     "output_type": "execute_result"
    }
   ],
   "source": [
    "bond = pd.read_csv(\"jamesbond.csv\")\n",
    "bond.head()"
   ],
   "metadata": {
    "collapsed": false,
    "pycharm": {
     "name": "#%%\n"
    }
   }
  },
  {
   "cell_type": "code",
   "execution_count": 16,
   "outputs": [
    {
     "data": {
      "text/plain": "Film                 From Russia with Love\nYear                                  1963\nActor                         Sean Connery\nDirector                     Terence Young\nBox Office                           543.8\nBudget                                12.6\nBond Actor Salary                      1.6\nName: 1, dtype: object"
     },
     "execution_count": 16,
     "metadata": {},
     "output_type": "execute_result"
    }
   ],
   "source": [
    "bond.iloc[1]"
   ],
   "metadata": {
    "collapsed": false,
    "pycharm": {
     "name": "#%%\n"
    }
   }
  },
  {
   "cell_type": "code",
   "execution_count": 17,
   "outputs": [
    {
     "data": {
      "text/plain": "                    Film  Year         Actor       Director  Box Office  \\\n1  From Russia with Love  1963  Sean Connery  Terence Young       543.8   \n2             Goldfinger  1964  Sean Connery   Guy Hamilton       820.4   \n3            Thunderball  1965  Sean Connery  Terence Young       848.1   \n4          Casino Royale  1967   David Niven     Ken Hughes       315.0   \n\n   Budget  Bond Actor Salary  \n1    12.6                1.6  \n2    18.6                3.2  \n3    41.9                4.7  \n4    85.0                NaN  ",
      "text/html": "<div>\n<style scoped>\n    .dataframe tbody tr th:only-of-type {\n        vertical-align: middle;\n    }\n\n    .dataframe tbody tr th {\n        vertical-align: top;\n    }\n\n    .dataframe thead th {\n        text-align: right;\n    }\n</style>\n<table border=\"1\" class=\"dataframe\">\n  <thead>\n    <tr style=\"text-align: right;\">\n      <th></th>\n      <th>Film</th>\n      <th>Year</th>\n      <th>Actor</th>\n      <th>Director</th>\n      <th>Box Office</th>\n      <th>Budget</th>\n      <th>Bond Actor Salary</th>\n    </tr>\n  </thead>\n  <tbody>\n    <tr>\n      <th>1</th>\n      <td>From Russia with Love</td>\n      <td>1963</td>\n      <td>Sean Connery</td>\n      <td>Terence Young</td>\n      <td>543.8</td>\n      <td>12.6</td>\n      <td>1.6</td>\n    </tr>\n    <tr>\n      <th>2</th>\n      <td>Goldfinger</td>\n      <td>1964</td>\n      <td>Sean Connery</td>\n      <td>Guy Hamilton</td>\n      <td>820.4</td>\n      <td>18.6</td>\n      <td>3.2</td>\n    </tr>\n    <tr>\n      <th>3</th>\n      <td>Thunderball</td>\n      <td>1965</td>\n      <td>Sean Connery</td>\n      <td>Terence Young</td>\n      <td>848.1</td>\n      <td>41.9</td>\n      <td>4.7</td>\n    </tr>\n    <tr>\n      <th>4</th>\n      <td>Casino Royale</td>\n      <td>1967</td>\n      <td>David Niven</td>\n      <td>Ken Hughes</td>\n      <td>315.0</td>\n      <td>85.0</td>\n      <td>NaN</td>\n    </tr>\n  </tbody>\n</table>\n</div>"
     },
     "execution_count": 17,
     "metadata": {},
     "output_type": "execute_result"
    }
   ],
   "source": [
    "bond.iloc[1:5]  # the upper bond is not included"
   ],
   "metadata": {
    "collapsed": false,
    "pycharm": {
     "name": "#%%\n"
    }
   }
  },
  {
   "cell_type": "code",
   "execution_count": 18,
   "outputs": [
    {
     "data": {
      "text/plain": "                    Film  Year         Actor       Director  Box Office  \\\n1  From Russia with Love  1963  Sean Connery  Terence Young       543.8   \n3            Thunderball  1965  Sean Connery  Terence Young       848.1   \n\n   Budget  Bond Actor Salary  \n1    12.6                1.6  \n3    41.9                4.7  ",
      "text/html": "<div>\n<style scoped>\n    .dataframe tbody tr th:only-of-type {\n        vertical-align: middle;\n    }\n\n    .dataframe tbody tr th {\n        vertical-align: top;\n    }\n\n    .dataframe thead th {\n        text-align: right;\n    }\n</style>\n<table border=\"1\" class=\"dataframe\">\n  <thead>\n    <tr style=\"text-align: right;\">\n      <th></th>\n      <th>Film</th>\n      <th>Year</th>\n      <th>Actor</th>\n      <th>Director</th>\n      <th>Box Office</th>\n      <th>Budget</th>\n      <th>Bond Actor Salary</th>\n    </tr>\n  </thead>\n  <tbody>\n    <tr>\n      <th>1</th>\n      <td>From Russia with Love</td>\n      <td>1963</td>\n      <td>Sean Connery</td>\n      <td>Terence Young</td>\n      <td>543.8</td>\n      <td>12.6</td>\n      <td>1.6</td>\n    </tr>\n    <tr>\n      <th>3</th>\n      <td>Thunderball</td>\n      <td>1965</td>\n      <td>Sean Connery</td>\n      <td>Terence Young</td>\n      <td>848.1</td>\n      <td>41.9</td>\n      <td>4.7</td>\n    </tr>\n  </tbody>\n</table>\n</div>"
     },
     "execution_count": 18,
     "metadata": {},
     "output_type": "execute_result"
    }
   ],
   "source": [
    "bond.iloc[[1, 3]]"
   ],
   "metadata": {
    "collapsed": false,
    "pycharm": {
     "name": "#%%\n"
    }
   }
  },
  {
   "cell_type": "code",
   "execution_count": 19,
   "outputs": [
    {
     "data": {
      "text/plain": "                      Year           Actor         Director  Box Office  \\\nFilm                                                                      \nA View to a Kill      1985     Roger Moore        John Glen       275.2   \nCasino Royale         2006    Daniel Craig  Martin Campbell       581.5   \nCasino Royale         1967     David Niven       Ken Hughes       315.0   \nDiamonds Are Forever  1971    Sean Connery     Guy Hamilton       442.5   \nDie Another Day       2002  Pierce Brosnan     Lee Tamahori       465.4   \n\n                      Budget  Bond Actor Salary  \nFilm                                             \nA View to a Kill        54.5                9.1  \nCasino Royale          145.3                3.3  \nCasino Royale           85.0                NaN  \nDiamonds Are Forever    34.7                5.8  \nDie Another Day        154.2               17.9  ",
      "text/html": "<div>\n<style scoped>\n    .dataframe tbody tr th:only-of-type {\n        vertical-align: middle;\n    }\n\n    .dataframe tbody tr th {\n        vertical-align: top;\n    }\n\n    .dataframe thead th {\n        text-align: right;\n    }\n</style>\n<table border=\"1\" class=\"dataframe\">\n  <thead>\n    <tr style=\"text-align: right;\">\n      <th></th>\n      <th>Year</th>\n      <th>Actor</th>\n      <th>Director</th>\n      <th>Box Office</th>\n      <th>Budget</th>\n      <th>Bond Actor Salary</th>\n    </tr>\n    <tr>\n      <th>Film</th>\n      <th></th>\n      <th></th>\n      <th></th>\n      <th></th>\n      <th></th>\n      <th></th>\n    </tr>\n  </thead>\n  <tbody>\n    <tr>\n      <th>A View to a Kill</th>\n      <td>1985</td>\n      <td>Roger Moore</td>\n      <td>John Glen</td>\n      <td>275.2</td>\n      <td>54.5</td>\n      <td>9.1</td>\n    </tr>\n    <tr>\n      <th>Casino Royale</th>\n      <td>2006</td>\n      <td>Daniel Craig</td>\n      <td>Martin Campbell</td>\n      <td>581.5</td>\n      <td>145.3</td>\n      <td>3.3</td>\n    </tr>\n    <tr>\n      <th>Casino Royale</th>\n      <td>1967</td>\n      <td>David Niven</td>\n      <td>Ken Hughes</td>\n      <td>315.0</td>\n      <td>85.0</td>\n      <td>NaN</td>\n    </tr>\n    <tr>\n      <th>Diamonds Are Forever</th>\n      <td>1971</td>\n      <td>Sean Connery</td>\n      <td>Guy Hamilton</td>\n      <td>442.5</td>\n      <td>34.7</td>\n      <td>5.8</td>\n    </tr>\n    <tr>\n      <th>Die Another Day</th>\n      <td>2002</td>\n      <td>Pierce Brosnan</td>\n      <td>Lee Tamahori</td>\n      <td>465.4</td>\n      <td>154.2</td>\n      <td>17.9</td>\n    </tr>\n  </tbody>\n</table>\n</div>"
     },
     "execution_count": 19,
     "metadata": {},
     "output_type": "execute_result"
    }
   ],
   "source": [
    "bond.set_index(\"Film\", inplace=True)\n",
    "bond.sort_index(inplace=True)\n",
    "bond.head()"
   ],
   "metadata": {
    "collapsed": false,
    "pycharm": {
     "name": "#%%\n"
    }
   }
  },
  {
   "cell_type": "code",
   "execution_count": 20,
   "outputs": [
    {
     "data": {
      "text/plain": "               Year         Actor         Director  Box Office  Budget  \\\nFilm                                                                     \nCasino Royale  2006  Daniel Craig  Martin Campbell       581.5   145.3   \nCasino Royale  1967   David Niven       Ken Hughes       315.0    85.0   \n\n               Bond Actor Salary  \nFilm                              \nCasino Royale                3.3  \nCasino Royale                NaN  ",
      "text/html": "<div>\n<style scoped>\n    .dataframe tbody tr th:only-of-type {\n        vertical-align: middle;\n    }\n\n    .dataframe tbody tr th {\n        vertical-align: top;\n    }\n\n    .dataframe thead th {\n        text-align: right;\n    }\n</style>\n<table border=\"1\" class=\"dataframe\">\n  <thead>\n    <tr style=\"text-align: right;\">\n      <th></th>\n      <th>Year</th>\n      <th>Actor</th>\n      <th>Director</th>\n      <th>Box Office</th>\n      <th>Budget</th>\n      <th>Bond Actor Salary</th>\n    </tr>\n    <tr>\n      <th>Film</th>\n      <th></th>\n      <th></th>\n      <th></th>\n      <th></th>\n      <th></th>\n      <th></th>\n    </tr>\n  </thead>\n  <tbody>\n    <tr>\n      <th>Casino Royale</th>\n      <td>2006</td>\n      <td>Daniel Craig</td>\n      <td>Martin Campbell</td>\n      <td>581.5</td>\n      <td>145.3</td>\n      <td>3.3</td>\n    </tr>\n    <tr>\n      <th>Casino Royale</th>\n      <td>1967</td>\n      <td>David Niven</td>\n      <td>Ken Hughes</td>\n      <td>315.0</td>\n      <td>85.0</td>\n      <td>NaN</td>\n    </tr>\n  </tbody>\n</table>\n</div>"
     },
     "execution_count": 20,
     "metadata": {},
     "output_type": "execute_result"
    }
   ],
   "source": [
    "bond.loc[\"Casino Royale\"]"
   ],
   "metadata": {
    "collapsed": false,
    "pycharm": {
     "name": "#%%\n"
    }
   }
  },
  {
   "cell_type": "code",
   "execution_count": 21,
   "outputs": [
    {
     "data": {
      "text/plain": "Year                        1985\nActor                Roger Moore\nDirector               John Glen\nBox Office                 275.2\nBudget                      54.5\nBond Actor Salary            9.1\nName: A View to a Kill, dtype: object"
     },
     "execution_count": 21,
     "metadata": {},
     "output_type": "execute_result"
    }
   ],
   "source": [
    "bond.iloc[0]"
   ],
   "metadata": {
    "collapsed": false,
    "pycharm": {
     "name": "#%%\n"
    }
   }
  },
  {
   "cell_type": "markdown",
   "source": [
    "# Second Arguments to `.loc()` and `.iloc()` Accesors\n",
    "\n",
    "The first argument represents the rows whereas the second argument represents the columns."
   ],
   "metadata": {
    "collapsed": false,
    "pycharm": {
     "name": "#%% md\n"
    }
   }
  },
  {
   "cell_type": "code",
   "execution_count": 22,
   "outputs": [
    {
     "data": {
      "text/plain": "                      Year           Actor         Director  Box Office  \\\nFilm                                                                      \nA View to a Kill      1985     Roger Moore        John Glen       275.2   \nCasino Royale         2006    Daniel Craig  Martin Campbell       581.5   \nCasino Royale         1967     David Niven       Ken Hughes       315.0   \nDiamonds Are Forever  1971    Sean Connery     Guy Hamilton       442.5   \nDie Another Day       2002  Pierce Brosnan     Lee Tamahori       465.4   \n\n                      Budget  Bond Actor Salary  \nFilm                                             \nA View to a Kill        54.5                9.1  \nCasino Royale          145.3                3.3  \nCasino Royale           85.0                NaN  \nDiamonds Are Forever    34.7                5.8  \nDie Another Day        154.2               17.9  ",
      "text/html": "<div>\n<style scoped>\n    .dataframe tbody tr th:only-of-type {\n        vertical-align: middle;\n    }\n\n    .dataframe tbody tr th {\n        vertical-align: top;\n    }\n\n    .dataframe thead th {\n        text-align: right;\n    }\n</style>\n<table border=\"1\" class=\"dataframe\">\n  <thead>\n    <tr style=\"text-align: right;\">\n      <th></th>\n      <th>Year</th>\n      <th>Actor</th>\n      <th>Director</th>\n      <th>Box Office</th>\n      <th>Budget</th>\n      <th>Bond Actor Salary</th>\n    </tr>\n    <tr>\n      <th>Film</th>\n      <th></th>\n      <th></th>\n      <th></th>\n      <th></th>\n      <th></th>\n      <th></th>\n    </tr>\n  </thead>\n  <tbody>\n    <tr>\n      <th>A View to a Kill</th>\n      <td>1985</td>\n      <td>Roger Moore</td>\n      <td>John Glen</td>\n      <td>275.2</td>\n      <td>54.5</td>\n      <td>9.1</td>\n    </tr>\n    <tr>\n      <th>Casino Royale</th>\n      <td>2006</td>\n      <td>Daniel Craig</td>\n      <td>Martin Campbell</td>\n      <td>581.5</td>\n      <td>145.3</td>\n      <td>3.3</td>\n    </tr>\n    <tr>\n      <th>Casino Royale</th>\n      <td>1967</td>\n      <td>David Niven</td>\n      <td>Ken Hughes</td>\n      <td>315.0</td>\n      <td>85.0</td>\n      <td>NaN</td>\n    </tr>\n    <tr>\n      <th>Diamonds Are Forever</th>\n      <td>1971</td>\n      <td>Sean Connery</td>\n      <td>Guy Hamilton</td>\n      <td>442.5</td>\n      <td>34.7</td>\n      <td>5.8</td>\n    </tr>\n    <tr>\n      <th>Die Another Day</th>\n      <td>2002</td>\n      <td>Pierce Brosnan</td>\n      <td>Lee Tamahori</td>\n      <td>465.4</td>\n      <td>154.2</td>\n      <td>17.9</td>\n    </tr>\n  </tbody>\n</table>\n</div>"
     },
     "execution_count": 22,
     "metadata": {},
     "output_type": "execute_result"
    }
   ],
   "source": [
    "bond = pd.read_csv(\"jamesbond.csv\", index_col=\"Film\")\n",
    "bond.sort_index(inplace=True)\n",
    "bond.head()"
   ],
   "metadata": {
    "collapsed": false,
    "pycharm": {
     "name": "#%%\n"
    }
   }
  },
  {
   "cell_type": "code",
   "execution_count": 23,
   "outputs": [
    {
     "data": {
      "text/plain": "'Roger Moore'"
     },
     "execution_count": 23,
     "metadata": {},
     "output_type": "execute_result"
    }
   ],
   "source": [
    "bond.loc[\"Moonraker\", \"Actor\"]\n"
   ],
   "metadata": {
    "collapsed": false,
    "pycharm": {
     "name": "#%%\n"
    }
   }
  },
  {
   "cell_type": "code",
   "execution_count": 24,
   "outputs": [
    {
     "data": {
      "text/plain": "Film\nCasino Royale    Martin Campbell\nCasino Royale         Ken Hughes\nName: Director, dtype: object"
     },
     "execution_count": 24,
     "metadata": {},
     "output_type": "execute_result"
    }
   ],
   "source": [
    "bond.loc[\"Casino Royale\", \"Director\"]\n"
   ],
   "metadata": {
    "collapsed": false,
    "pycharm": {
     "name": "#%%\n"
    }
   }
  },
  {
   "cell_type": "code",
   "execution_count": 25,
   "outputs": [
    {
     "data": {
      "text/plain": "Actor       Sean Connery\nDirector    Guy Hamilton\nName: Goldfinger, dtype: object"
     },
     "execution_count": 25,
     "metadata": {},
     "output_type": "execute_result"
    }
   ],
   "source": [
    "bond.loc[\"Goldfinger\", [\"Actor\", \"Director\"]]\n"
   ],
   "metadata": {
    "collapsed": false,
    "pycharm": {
     "name": "#%%\n"
    }
   }
  },
  {
   "cell_type": "code",
   "execution_count": 26,
   "outputs": [
    {
     "data": {
      "text/plain": "                        Actor       Director\nFilm                                        \nMoonraker         Roger Moore  Lewis Gilbert\nA View to a Kill  Roger Moore      John Glen",
      "text/html": "<div>\n<style scoped>\n    .dataframe tbody tr th:only-of-type {\n        vertical-align: middle;\n    }\n\n    .dataframe tbody tr th {\n        vertical-align: top;\n    }\n\n    .dataframe thead th {\n        text-align: right;\n    }\n</style>\n<table border=\"1\" class=\"dataframe\">\n  <thead>\n    <tr style=\"text-align: right;\">\n      <th></th>\n      <th>Actor</th>\n      <th>Director</th>\n    </tr>\n    <tr>\n      <th>Film</th>\n      <th></th>\n      <th></th>\n    </tr>\n  </thead>\n  <tbody>\n    <tr>\n      <th>Moonraker</th>\n      <td>Roger Moore</td>\n      <td>Lewis Gilbert</td>\n    </tr>\n    <tr>\n      <th>A View to a Kill</th>\n      <td>Roger Moore</td>\n      <td>John Glen</td>\n    </tr>\n  </tbody>\n</table>\n</div>"
     },
     "execution_count": 26,
     "metadata": {},
     "output_type": "execute_result"
    }
   ],
   "source": [
    "bond.loc[[\"Moonraker\", \"A View to a Kill\"], [\"Actor\", \"Director\"]]\n"
   ],
   "metadata": {
    "collapsed": false,
    "pycharm": {
     "name": "#%%\n"
    }
   }
  },
  {
   "cell_type": "code",
   "execution_count": 27,
   "outputs": [
    {
     "data": {
      "text/plain": "Director      Lewis Gilbert\nBox Office            535.0\nBudget                 91.5\nName: Moonraker, dtype: object"
     },
     "execution_count": 27,
     "metadata": {},
     "output_type": "execute_result"
    }
   ],
   "source": [
    "bond.loc[\"Moonraker\", \"Director\":\"Budget\"]\n"
   ],
   "metadata": {
    "collapsed": false,
    "pycharm": {
     "name": "#%%\n"
    }
   }
  },
  {
   "cell_type": "code",
   "execution_count": 28,
   "outputs": [
    {
     "data": {
      "text/plain": "                                       Director  Box Office  Budget\nFilm                                                               \nMoonraker                         Lewis Gilbert       535.0    91.5\nNever Say Never Again            Irvin Kershner       380.0    86.0\nOctopussy                             John Glen       373.8    53.9\nOn Her Majesty's Secret Service   Peter R. Hunt       291.5    37.3\nQuantum of Solace                  Marc Forster       514.2   181.4\nSkyfall                              Sam Mendes       943.5   170.2\nSpectre                              Sam Mendes       726.7   206.3\nThe Living Daylights                  John Glen       313.5    68.8\nThe Man with the Golden Gun        Guy Hamilton       334.0    27.7\nThe Spy Who Loved Me              Lewis Gilbert       533.0    45.1\nThe World Is Not Enough           Michael Apted       439.5   158.3\nThunderball                       Terence Young       848.1    41.9",
      "text/html": "<div>\n<style scoped>\n    .dataframe tbody tr th:only-of-type {\n        vertical-align: middle;\n    }\n\n    .dataframe tbody tr th {\n        vertical-align: top;\n    }\n\n    .dataframe thead th {\n        text-align: right;\n    }\n</style>\n<table border=\"1\" class=\"dataframe\">\n  <thead>\n    <tr style=\"text-align: right;\">\n      <th></th>\n      <th>Director</th>\n      <th>Box Office</th>\n      <th>Budget</th>\n    </tr>\n    <tr>\n      <th>Film</th>\n      <th></th>\n      <th></th>\n      <th></th>\n    </tr>\n  </thead>\n  <tbody>\n    <tr>\n      <th>Moonraker</th>\n      <td>Lewis Gilbert</td>\n      <td>535.0</td>\n      <td>91.5</td>\n    </tr>\n    <tr>\n      <th>Never Say Never Again</th>\n      <td>Irvin Kershner</td>\n      <td>380.0</td>\n      <td>86.0</td>\n    </tr>\n    <tr>\n      <th>Octopussy</th>\n      <td>John Glen</td>\n      <td>373.8</td>\n      <td>53.9</td>\n    </tr>\n    <tr>\n      <th>On Her Majesty's Secret Service</th>\n      <td>Peter R. Hunt</td>\n      <td>291.5</td>\n      <td>37.3</td>\n    </tr>\n    <tr>\n      <th>Quantum of Solace</th>\n      <td>Marc Forster</td>\n      <td>514.2</td>\n      <td>181.4</td>\n    </tr>\n    <tr>\n      <th>Skyfall</th>\n      <td>Sam Mendes</td>\n      <td>943.5</td>\n      <td>170.2</td>\n    </tr>\n    <tr>\n      <th>Spectre</th>\n      <td>Sam Mendes</td>\n      <td>726.7</td>\n      <td>206.3</td>\n    </tr>\n    <tr>\n      <th>The Living Daylights</th>\n      <td>John Glen</td>\n      <td>313.5</td>\n      <td>68.8</td>\n    </tr>\n    <tr>\n      <th>The Man with the Golden Gun</th>\n      <td>Guy Hamilton</td>\n      <td>334.0</td>\n      <td>27.7</td>\n    </tr>\n    <tr>\n      <th>The Spy Who Loved Me</th>\n      <td>Lewis Gilbert</td>\n      <td>533.0</td>\n      <td>45.1</td>\n    </tr>\n    <tr>\n      <th>The World Is Not Enough</th>\n      <td>Michael Apted</td>\n      <td>439.5</td>\n      <td>158.3</td>\n    </tr>\n    <tr>\n      <th>Thunderball</th>\n      <td>Terence Young</td>\n      <td>848.1</td>\n      <td>41.9</td>\n    </tr>\n  </tbody>\n</table>\n</div>"
     },
     "execution_count": 28,
     "metadata": {},
     "output_type": "execute_result"
    }
   ],
   "source": [
    "bond.loc[\"Moonraker\":\"Thunderball\", \"Director\":\"Budget\"]\n"
   ],
   "metadata": {
    "collapsed": false,
    "pycharm": {
     "name": "#%%\n"
    }
   }
  },
  {
   "cell_type": "code",
   "execution_count": 29,
   "outputs": [
    {
     "data": {
      "text/plain": "                                           Director  Box Office  Budget  \\\nFilm                                                                      \nMoonraker                             Lewis Gilbert       535.0    91.5   \nNever Say Never Again                Irvin Kershner       380.0    86.0   \nOctopussy                                 John Glen       373.8    53.9   \nOn Her Majesty's Secret Service       Peter R. Hunt       291.5    37.3   \nQuantum of Solace                      Marc Forster       514.2   181.4   \nSkyfall                                  Sam Mendes       943.5   170.2   \nSpectre                                  Sam Mendes       726.7   206.3   \nThe Living Daylights                      John Glen       313.5    68.8   \nThe Man with the Golden Gun            Guy Hamilton       334.0    27.7   \nThe Spy Who Loved Me                  Lewis Gilbert       533.0    45.1   \nThe World Is Not Enough               Michael Apted       439.5   158.3   \nThunderball                           Terence Young       848.1    41.9   \nTomorrow Never Dies              Roger Spottiswoode       463.2   133.9   \nYou Only Live Twice                   Lewis Gilbert       514.2    59.9   \n\n                                 Bond Actor Salary  \nFilm                                                \nMoonraker                                      NaN  \nNever Say Never Again                          NaN  \nOctopussy                                      7.8  \nOn Her Majesty's Secret Service                0.6  \nQuantum of Solace                              8.1  \nSkyfall                                       14.5  \nSpectre                                        NaN  \nThe Living Daylights                           5.2  \nThe Man with the Golden Gun                    NaN  \nThe Spy Who Loved Me                           NaN  \nThe World Is Not Enough                       13.5  \nThunderball                                    4.7  \nTomorrow Never Dies                           10.0  \nYou Only Live Twice                            4.4  ",
      "text/html": "<div>\n<style scoped>\n    .dataframe tbody tr th:only-of-type {\n        vertical-align: middle;\n    }\n\n    .dataframe tbody tr th {\n        vertical-align: top;\n    }\n\n    .dataframe thead th {\n        text-align: right;\n    }\n</style>\n<table border=\"1\" class=\"dataframe\">\n  <thead>\n    <tr style=\"text-align: right;\">\n      <th></th>\n      <th>Director</th>\n      <th>Box Office</th>\n      <th>Budget</th>\n      <th>Bond Actor Salary</th>\n    </tr>\n    <tr>\n      <th>Film</th>\n      <th></th>\n      <th></th>\n      <th></th>\n      <th></th>\n    </tr>\n  </thead>\n  <tbody>\n    <tr>\n      <th>Moonraker</th>\n      <td>Lewis Gilbert</td>\n      <td>535.0</td>\n      <td>91.5</td>\n      <td>NaN</td>\n    </tr>\n    <tr>\n      <th>Never Say Never Again</th>\n      <td>Irvin Kershner</td>\n      <td>380.0</td>\n      <td>86.0</td>\n      <td>NaN</td>\n    </tr>\n    <tr>\n      <th>Octopussy</th>\n      <td>John Glen</td>\n      <td>373.8</td>\n      <td>53.9</td>\n      <td>7.8</td>\n    </tr>\n    <tr>\n      <th>On Her Majesty's Secret Service</th>\n      <td>Peter R. Hunt</td>\n      <td>291.5</td>\n      <td>37.3</td>\n      <td>0.6</td>\n    </tr>\n    <tr>\n      <th>Quantum of Solace</th>\n      <td>Marc Forster</td>\n      <td>514.2</td>\n      <td>181.4</td>\n      <td>8.1</td>\n    </tr>\n    <tr>\n      <th>Skyfall</th>\n      <td>Sam Mendes</td>\n      <td>943.5</td>\n      <td>170.2</td>\n      <td>14.5</td>\n    </tr>\n    <tr>\n      <th>Spectre</th>\n      <td>Sam Mendes</td>\n      <td>726.7</td>\n      <td>206.3</td>\n      <td>NaN</td>\n    </tr>\n    <tr>\n      <th>The Living Daylights</th>\n      <td>John Glen</td>\n      <td>313.5</td>\n      <td>68.8</td>\n      <td>5.2</td>\n    </tr>\n    <tr>\n      <th>The Man with the Golden Gun</th>\n      <td>Guy Hamilton</td>\n      <td>334.0</td>\n      <td>27.7</td>\n      <td>NaN</td>\n    </tr>\n    <tr>\n      <th>The Spy Who Loved Me</th>\n      <td>Lewis Gilbert</td>\n      <td>533.0</td>\n      <td>45.1</td>\n      <td>NaN</td>\n    </tr>\n    <tr>\n      <th>The World Is Not Enough</th>\n      <td>Michael Apted</td>\n      <td>439.5</td>\n      <td>158.3</td>\n      <td>13.5</td>\n    </tr>\n    <tr>\n      <th>Thunderball</th>\n      <td>Terence Young</td>\n      <td>848.1</td>\n      <td>41.9</td>\n      <td>4.7</td>\n    </tr>\n    <tr>\n      <th>Tomorrow Never Dies</th>\n      <td>Roger Spottiswoode</td>\n      <td>463.2</td>\n      <td>133.9</td>\n      <td>10.0</td>\n    </tr>\n    <tr>\n      <th>You Only Live Twice</th>\n      <td>Lewis Gilbert</td>\n      <td>514.2</td>\n      <td>59.9</td>\n      <td>4.4</td>\n    </tr>\n  </tbody>\n</table>\n</div>"
     },
     "execution_count": 29,
     "metadata": {},
     "output_type": "execute_result"
    }
   ],
   "source": [
    "bond.loc[\"Moonraker\":, \"Director\":]\n"
   ],
   "metadata": {
    "collapsed": false,
    "pycharm": {
     "name": "#%%\n"
    }
   }
  },
  {
   "cell_type": "code",
   "execution_count": 30,
   "outputs": [
    {
     "data": {
      "text/plain": "                      Year           Actor         Director  Box Office  \\\nFilm                                                                      \nA View to a Kill      1985     Roger Moore        John Glen       275.2   \nCasino Royale         2006    Daniel Craig  Martin Campbell       581.5   \nCasino Royale         1967     David Niven       Ken Hughes       315.0   \nDiamonds Are Forever  1971    Sean Connery     Guy Hamilton       442.5   \nDie Another Day       2002  Pierce Brosnan     Lee Tamahori       465.4   \n\n                      Budget  Bond Actor Salary  \nFilm                                             \nA View to a Kill        54.5                9.1  \nCasino Royale          145.3                3.3  \nCasino Royale           85.0                NaN  \nDiamonds Are Forever    34.7                5.8  \nDie Another Day        154.2               17.9  ",
      "text/html": "<div>\n<style scoped>\n    .dataframe tbody tr th:only-of-type {\n        vertical-align: middle;\n    }\n\n    .dataframe tbody tr th {\n        vertical-align: top;\n    }\n\n    .dataframe thead th {\n        text-align: right;\n    }\n</style>\n<table border=\"1\" class=\"dataframe\">\n  <thead>\n    <tr style=\"text-align: right;\">\n      <th></th>\n      <th>Year</th>\n      <th>Actor</th>\n      <th>Director</th>\n      <th>Box Office</th>\n      <th>Budget</th>\n      <th>Bond Actor Salary</th>\n    </tr>\n    <tr>\n      <th>Film</th>\n      <th></th>\n      <th></th>\n      <th></th>\n      <th></th>\n      <th></th>\n      <th></th>\n    </tr>\n  </thead>\n  <tbody>\n    <tr>\n      <th>A View to a Kill</th>\n      <td>1985</td>\n      <td>Roger Moore</td>\n      <td>John Glen</td>\n      <td>275.2</td>\n      <td>54.5</td>\n      <td>9.1</td>\n    </tr>\n    <tr>\n      <th>Casino Royale</th>\n      <td>2006</td>\n      <td>Daniel Craig</td>\n      <td>Martin Campbell</td>\n      <td>581.5</td>\n      <td>145.3</td>\n      <td>3.3</td>\n    </tr>\n    <tr>\n      <th>Casino Royale</th>\n      <td>1967</td>\n      <td>David Niven</td>\n      <td>Ken Hughes</td>\n      <td>315.0</td>\n      <td>85.0</td>\n      <td>NaN</td>\n    </tr>\n    <tr>\n      <th>Diamonds Are Forever</th>\n      <td>1971</td>\n      <td>Sean Connery</td>\n      <td>Guy Hamilton</td>\n      <td>442.5</td>\n      <td>34.7</td>\n      <td>5.8</td>\n    </tr>\n    <tr>\n      <th>Die Another Day</th>\n      <td>2002</td>\n      <td>Pierce Brosnan</td>\n      <td>Lee Tamahori</td>\n      <td>465.4</td>\n      <td>154.2</td>\n      <td>17.9</td>\n    </tr>\n  </tbody>\n</table>\n</div>"
     },
     "execution_count": 30,
     "metadata": {},
     "output_type": "execute_result"
    }
   ],
   "source": [
    "bond.head()"
   ],
   "metadata": {
    "collapsed": false,
    "pycharm": {
     "name": "#%%\n"
    }
   }
  },
  {
   "cell_type": "code",
   "execution_count": 31,
   "outputs": [
    {
     "data": {
      "text/plain": "'John Glen'"
     },
     "execution_count": 31,
     "metadata": {},
     "output_type": "execute_result"
    }
   ],
   "source": [
    "bond.iloc[0, 2]"
   ],
   "metadata": {
    "collapsed": false,
    "pycharm": {
     "name": "#%%\n"
    }
   }
  },
  {
   "cell_type": "code",
   "execution_count": 32,
   "outputs": [
    {
     "data": {
      "text/plain": "Year                   2006\nActor          Daniel Craig\nDirector    Martin Campbell\nName: Casino Royale, dtype: object"
     },
     "execution_count": 32,
     "metadata": {},
     "output_type": "execute_result"
    }
   ],
   "source": [
    "bond.iloc[1, 0:3]"
   ],
   "metadata": {
    "collapsed": false,
    "pycharm": {
     "name": "#%%\n"
    }
   }
  },
  {
   "cell_type": "markdown",
   "metadata": {
    "pycharm": {
     "name": "#%% md\n"
    }
   },
   "source": [
    "# Retrieve Rows by Index Label with `.loc()` Accessor"
   ]
  },
  {
   "cell_type": "code",
   "execution_count": 33,
   "metadata": {
    "pycharm": {
     "name": "#%%\n"
    }
   },
   "outputs": [
    {
     "data": {
      "text/plain": "                      Year           Actor         Director  Box Office  \\\nFilm                                                                      \nA View to a Kill      1985     Roger Moore        John Glen       275.2   \nCasino Royale         2006    Daniel Craig  Martin Campbell       581.5   \nCasino Royale         1967     David Niven       Ken Hughes       315.0   \nDiamonds Are Forever  1971    Sean Connery     Guy Hamilton       442.5   \nDie Another Day       2002  Pierce Brosnan     Lee Tamahori       465.4   \n\n                      Budget  Bond Actor Salary  \nFilm                                             \nA View to a Kill        54.5                9.1  \nCasino Royale          145.3                3.3  \nCasino Royale           85.0                NaN  \nDiamonds Are Forever    34.7                5.8  \nDie Another Day        154.2               17.9  ",
      "text/html": "<div>\n<style scoped>\n    .dataframe tbody tr th:only-of-type {\n        vertical-align: middle;\n    }\n\n    .dataframe tbody tr th {\n        vertical-align: top;\n    }\n\n    .dataframe thead th {\n        text-align: right;\n    }\n</style>\n<table border=\"1\" class=\"dataframe\">\n  <thead>\n    <tr style=\"text-align: right;\">\n      <th></th>\n      <th>Year</th>\n      <th>Actor</th>\n      <th>Director</th>\n      <th>Box Office</th>\n      <th>Budget</th>\n      <th>Bond Actor Salary</th>\n    </tr>\n    <tr>\n      <th>Film</th>\n      <th></th>\n      <th></th>\n      <th></th>\n      <th></th>\n      <th></th>\n      <th></th>\n    </tr>\n  </thead>\n  <tbody>\n    <tr>\n      <th>A View to a Kill</th>\n      <td>1985</td>\n      <td>Roger Moore</td>\n      <td>John Glen</td>\n      <td>275.2</td>\n      <td>54.5</td>\n      <td>9.1</td>\n    </tr>\n    <tr>\n      <th>Casino Royale</th>\n      <td>2006</td>\n      <td>Daniel Craig</td>\n      <td>Martin Campbell</td>\n      <td>581.5</td>\n      <td>145.3</td>\n      <td>3.3</td>\n    </tr>\n    <tr>\n      <th>Casino Royale</th>\n      <td>1967</td>\n      <td>David Niven</td>\n      <td>Ken Hughes</td>\n      <td>315.0</td>\n      <td>85.0</td>\n      <td>NaN</td>\n    </tr>\n    <tr>\n      <th>Diamonds Are Forever</th>\n      <td>1971</td>\n      <td>Sean Connery</td>\n      <td>Guy Hamilton</td>\n      <td>442.5</td>\n      <td>34.7</td>\n      <td>5.8</td>\n    </tr>\n    <tr>\n      <th>Die Another Day</th>\n      <td>2002</td>\n      <td>Pierce Brosnan</td>\n      <td>Lee Tamahori</td>\n      <td>465.4</td>\n      <td>154.2</td>\n      <td>17.9</td>\n    </tr>\n  </tbody>\n</table>\n</div>"
     },
     "execution_count": 33,
     "metadata": {},
     "output_type": "execute_result"
    }
   ],
   "source": [
    "# use film as index\n",
    "bond = pd.read_csv(\"jamesbond.csv\", index_col=\"Film\")\n",
    "# sort index for optimization\n",
    "bond.sort_index(inplace=True)\n",
    "bond.head()"
   ]
  },
  {
   "cell_type": "code",
   "execution_count": 34,
   "metadata": {
    "pycharm": {
     "name": "#%%\n"
    }
   },
   "outputs": [
    {
     "data": {
      "text/plain": "Year                         1964\nActor                Sean Connery\nDirector             Guy Hamilton\nBox Office                  820.4\nBudget                       18.6\nBond Actor Salary             3.2\nName: Goldfinger, dtype: object"
     },
     "execution_count": 34,
     "metadata": {},
     "output_type": "execute_result"
    }
   ],
   "source": [
    "bond.loc[\"Goldfinger\"]"
   ]
  },
  {
   "cell_type": "code",
   "execution_count": 35,
   "metadata": {
    "pycharm": {
     "name": "#%%\n"
    }
   },
   "outputs": [
    {
     "data": {
      "text/plain": "               Year         Actor         Director  Box Office  Budget  \\\nFilm                                                                     \nCasino Royale  2006  Daniel Craig  Martin Campbell       581.5   145.3   \nCasino Royale  1967   David Niven       Ken Hughes       315.0    85.0   \n\n               Bond Actor Salary  \nFilm                              \nCasino Royale                3.3  \nCasino Royale                NaN  ",
      "text/html": "<div>\n<style scoped>\n    .dataframe tbody tr th:only-of-type {\n        vertical-align: middle;\n    }\n\n    .dataframe tbody tr th {\n        vertical-align: top;\n    }\n\n    .dataframe thead th {\n        text-align: right;\n    }\n</style>\n<table border=\"1\" class=\"dataframe\">\n  <thead>\n    <tr style=\"text-align: right;\">\n      <th></th>\n      <th>Year</th>\n      <th>Actor</th>\n      <th>Director</th>\n      <th>Box Office</th>\n      <th>Budget</th>\n      <th>Bond Actor Salary</th>\n    </tr>\n    <tr>\n      <th>Film</th>\n      <th></th>\n      <th></th>\n      <th></th>\n      <th></th>\n      <th></th>\n      <th></th>\n    </tr>\n  </thead>\n  <tbody>\n    <tr>\n      <th>Casino Royale</th>\n      <td>2006</td>\n      <td>Daniel Craig</td>\n      <td>Martin Campbell</td>\n      <td>581.5</td>\n      <td>145.3</td>\n      <td>3.3</td>\n    </tr>\n    <tr>\n      <th>Casino Royale</th>\n      <td>1967</td>\n      <td>David Niven</td>\n      <td>Ken Hughes</td>\n      <td>315.0</td>\n      <td>85.0</td>\n      <td>NaN</td>\n    </tr>\n  </tbody>\n</table>\n</div>"
     },
     "execution_count": 35,
     "metadata": {},
     "output_type": "execute_result"
    }
   ],
   "source": [
    "bond.loc[\"Casino Royale\"]"
   ]
  },
  {
   "cell_type": "code",
   "execution_count": 36,
   "metadata": {
    "pycharm": {
     "name": "#%%\n"
    }
   },
   "outputs": [
    {
     "data": {
      "text/plain": "                       Year           Actor       Director  Box Office  \\\nFilm                                                                     \nDiamonds Are Forever   1971    Sean Connery   Guy Hamilton       442.5   \nDie Another Day        2002  Pierce Brosnan   Lee Tamahori       465.4   \nDr. No                 1962    Sean Connery  Terence Young       448.8   \nFor Your Eyes Only     1981     Roger Moore      John Glen       449.4   \nFrom Russia with Love  1963    Sean Connery  Terence Young       543.8   \n\n                       Budget  Bond Actor Salary  \nFilm                                              \nDiamonds Are Forever     34.7                5.8  \nDie Another Day         154.2               17.9  \nDr. No                    7.0                0.6  \nFor Your Eyes Only       60.2                NaN  \nFrom Russia with Love    12.6                1.6  ",
      "text/html": "<div>\n<style scoped>\n    .dataframe tbody tr th:only-of-type {\n        vertical-align: middle;\n    }\n\n    .dataframe tbody tr th {\n        vertical-align: top;\n    }\n\n    .dataframe thead th {\n        text-align: right;\n    }\n</style>\n<table border=\"1\" class=\"dataframe\">\n  <thead>\n    <tr style=\"text-align: right;\">\n      <th></th>\n      <th>Year</th>\n      <th>Actor</th>\n      <th>Director</th>\n      <th>Box Office</th>\n      <th>Budget</th>\n      <th>Bond Actor Salary</th>\n    </tr>\n    <tr>\n      <th>Film</th>\n      <th></th>\n      <th></th>\n      <th></th>\n      <th></th>\n      <th></th>\n      <th></th>\n    </tr>\n  </thead>\n  <tbody>\n    <tr>\n      <th>Diamonds Are Forever</th>\n      <td>1971</td>\n      <td>Sean Connery</td>\n      <td>Guy Hamilton</td>\n      <td>442.5</td>\n      <td>34.7</td>\n      <td>5.8</td>\n    </tr>\n    <tr>\n      <th>Die Another Day</th>\n      <td>2002</td>\n      <td>Pierce Brosnan</td>\n      <td>Lee Tamahori</td>\n      <td>465.4</td>\n      <td>154.2</td>\n      <td>17.9</td>\n    </tr>\n    <tr>\n      <th>Dr. No</th>\n      <td>1962</td>\n      <td>Sean Connery</td>\n      <td>Terence Young</td>\n      <td>448.8</td>\n      <td>7.0</td>\n      <td>0.6</td>\n    </tr>\n    <tr>\n      <th>For Your Eyes Only</th>\n      <td>1981</td>\n      <td>Roger Moore</td>\n      <td>John Glen</td>\n      <td>449.4</td>\n      <td>60.2</td>\n      <td>NaN</td>\n    </tr>\n    <tr>\n      <th>From Russia with Love</th>\n      <td>1963</td>\n      <td>Sean Connery</td>\n      <td>Terence Young</td>\n      <td>543.8</td>\n      <td>12.6</td>\n      <td>1.6</td>\n    </tr>\n  </tbody>\n</table>\n</div>"
     },
     "execution_count": 36,
     "metadata": {},
     "output_type": "execute_result"
    }
   ],
   "source": [
    "bond.loc[\"Diamonds Are Forever\":\"From Russia with Love\"]"
   ]
  },
  {
   "cell_type": "code",
   "execution_count": 37,
   "metadata": {
    "pycharm": {
     "name": "#%%\n"
    }
   },
   "outputs": [
    {
     "data": {
      "text/plain": "                       Year         Actor       Director  Box Office  Budget  \\\nFilm                                                                           \nDiamonds Are Forever   1971  Sean Connery   Guy Hamilton       442.5    34.7   \nDr. No                 1962  Sean Connery  Terence Young       448.8     7.0   \nFrom Russia with Love  1963  Sean Connery  Terence Young       543.8    12.6   \n\n                       Bond Actor Salary  \nFilm                                      \nDiamonds Are Forever                 5.8  \nDr. No                               0.6  \nFrom Russia with Love                1.6  ",
      "text/html": "<div>\n<style scoped>\n    .dataframe tbody tr th:only-of-type {\n        vertical-align: middle;\n    }\n\n    .dataframe tbody tr th {\n        vertical-align: top;\n    }\n\n    .dataframe thead th {\n        text-align: right;\n    }\n</style>\n<table border=\"1\" class=\"dataframe\">\n  <thead>\n    <tr style=\"text-align: right;\">\n      <th></th>\n      <th>Year</th>\n      <th>Actor</th>\n      <th>Director</th>\n      <th>Box Office</th>\n      <th>Budget</th>\n      <th>Bond Actor Salary</th>\n    </tr>\n    <tr>\n      <th>Film</th>\n      <th></th>\n      <th></th>\n      <th></th>\n      <th></th>\n      <th></th>\n      <th></th>\n    </tr>\n  </thead>\n  <tbody>\n    <tr>\n      <th>Diamonds Are Forever</th>\n      <td>1971</td>\n      <td>Sean Connery</td>\n      <td>Guy Hamilton</td>\n      <td>442.5</td>\n      <td>34.7</td>\n      <td>5.8</td>\n    </tr>\n    <tr>\n      <th>Dr. No</th>\n      <td>1962</td>\n      <td>Sean Connery</td>\n      <td>Terence Young</td>\n      <td>448.8</td>\n      <td>7.0</td>\n      <td>0.6</td>\n    </tr>\n    <tr>\n      <th>From Russia with Love</th>\n      <td>1963</td>\n      <td>Sean Connery</td>\n      <td>Terence Young</td>\n      <td>543.8</td>\n      <td>12.6</td>\n      <td>1.6</td>\n    </tr>\n  </tbody>\n</table>\n</div>"
     },
     "execution_count": 37,
     "metadata": {},
     "output_type": "execute_result"
    }
   ],
   "source": [
    "# in steps of two\n",
    "bond.loc[\"Diamonds Are Forever\":\"From Russia with Love\":2]"
   ]
  },
  {
   "cell_type": "code",
   "execution_count": 38,
   "metadata": {
    "pycharm": {
     "name": "#%%\n"
    }
   },
   "outputs": [
    {
     "data": {
      "text/plain": "                                 Year           Actor            Director  \\\nFilm                                                                        \nGoldenEye                        1995  Pierce Brosnan     Martin Campbell   \nGoldfinger                       1964    Sean Connery        Guy Hamilton   \nLicence to Kill                  1989  Timothy Dalton           John Glen   \nLive and Let Die                 1973     Roger Moore        Guy Hamilton   \nMoonraker                        1979     Roger Moore       Lewis Gilbert   \nNever Say Never Again            1983    Sean Connery      Irvin Kershner   \nOctopussy                        1983     Roger Moore           John Glen   \nOn Her Majesty's Secret Service  1969  George Lazenby       Peter R. Hunt   \nQuantum of Solace                2008    Daniel Craig        Marc Forster   \nSkyfall                          2012    Daniel Craig          Sam Mendes   \nSpectre                          2015    Daniel Craig          Sam Mendes   \nThe Living Daylights             1987  Timothy Dalton           John Glen   \nThe Man with the Golden Gun      1974     Roger Moore        Guy Hamilton   \nThe Spy Who Loved Me             1977     Roger Moore       Lewis Gilbert   \nThe World Is Not Enough          1999  Pierce Brosnan       Michael Apted   \nThunderball                      1965    Sean Connery       Terence Young   \nTomorrow Never Dies              1997  Pierce Brosnan  Roger Spottiswoode   \nYou Only Live Twice              1967    Sean Connery       Lewis Gilbert   \n\n                                 Box Office  Budget  Bond Actor Salary  \nFilm                                                                    \nGoldenEye                             518.5    76.9                5.1  \nGoldfinger                            820.4    18.6                3.2  \nLicence to Kill                       250.9    56.7                7.9  \nLive and Let Die                      460.3    30.8                NaN  \nMoonraker                             535.0    91.5                NaN  \nNever Say Never Again                 380.0    86.0                NaN  \nOctopussy                             373.8    53.9                7.8  \nOn Her Majesty's Secret Service       291.5    37.3                0.6  \nQuantum of Solace                     514.2   181.4                8.1  \nSkyfall                               943.5   170.2               14.5  \nSpectre                               726.7   206.3                NaN  \nThe Living Daylights                  313.5    68.8                5.2  \nThe Man with the Golden Gun           334.0    27.7                NaN  \nThe Spy Who Loved Me                  533.0    45.1                NaN  \nThe World Is Not Enough               439.5   158.3               13.5  \nThunderball                           848.1    41.9                4.7  \nTomorrow Never Dies                   463.2   133.9               10.0  \nYou Only Live Twice                   514.2    59.9                4.4  ",
      "text/html": "<div>\n<style scoped>\n    .dataframe tbody tr th:only-of-type {\n        vertical-align: middle;\n    }\n\n    .dataframe tbody tr th {\n        vertical-align: top;\n    }\n\n    .dataframe thead th {\n        text-align: right;\n    }\n</style>\n<table border=\"1\" class=\"dataframe\">\n  <thead>\n    <tr style=\"text-align: right;\">\n      <th></th>\n      <th>Year</th>\n      <th>Actor</th>\n      <th>Director</th>\n      <th>Box Office</th>\n      <th>Budget</th>\n      <th>Bond Actor Salary</th>\n    </tr>\n    <tr>\n      <th>Film</th>\n      <th></th>\n      <th></th>\n      <th></th>\n      <th></th>\n      <th></th>\n      <th></th>\n    </tr>\n  </thead>\n  <tbody>\n    <tr>\n      <th>GoldenEye</th>\n      <td>1995</td>\n      <td>Pierce Brosnan</td>\n      <td>Martin Campbell</td>\n      <td>518.5</td>\n      <td>76.9</td>\n      <td>5.1</td>\n    </tr>\n    <tr>\n      <th>Goldfinger</th>\n      <td>1964</td>\n      <td>Sean Connery</td>\n      <td>Guy Hamilton</td>\n      <td>820.4</td>\n      <td>18.6</td>\n      <td>3.2</td>\n    </tr>\n    <tr>\n      <th>Licence to Kill</th>\n      <td>1989</td>\n      <td>Timothy Dalton</td>\n      <td>John Glen</td>\n      <td>250.9</td>\n      <td>56.7</td>\n      <td>7.9</td>\n    </tr>\n    <tr>\n      <th>Live and Let Die</th>\n      <td>1973</td>\n      <td>Roger Moore</td>\n      <td>Guy Hamilton</td>\n      <td>460.3</td>\n      <td>30.8</td>\n      <td>NaN</td>\n    </tr>\n    <tr>\n      <th>Moonraker</th>\n      <td>1979</td>\n      <td>Roger Moore</td>\n      <td>Lewis Gilbert</td>\n      <td>535.0</td>\n      <td>91.5</td>\n      <td>NaN</td>\n    </tr>\n    <tr>\n      <th>Never Say Never Again</th>\n      <td>1983</td>\n      <td>Sean Connery</td>\n      <td>Irvin Kershner</td>\n      <td>380.0</td>\n      <td>86.0</td>\n      <td>NaN</td>\n    </tr>\n    <tr>\n      <th>Octopussy</th>\n      <td>1983</td>\n      <td>Roger Moore</td>\n      <td>John Glen</td>\n      <td>373.8</td>\n      <td>53.9</td>\n      <td>7.8</td>\n    </tr>\n    <tr>\n      <th>On Her Majesty's Secret Service</th>\n      <td>1969</td>\n      <td>George Lazenby</td>\n      <td>Peter R. Hunt</td>\n      <td>291.5</td>\n      <td>37.3</td>\n      <td>0.6</td>\n    </tr>\n    <tr>\n      <th>Quantum of Solace</th>\n      <td>2008</td>\n      <td>Daniel Craig</td>\n      <td>Marc Forster</td>\n      <td>514.2</td>\n      <td>181.4</td>\n      <td>8.1</td>\n    </tr>\n    <tr>\n      <th>Skyfall</th>\n      <td>2012</td>\n      <td>Daniel Craig</td>\n      <td>Sam Mendes</td>\n      <td>943.5</td>\n      <td>170.2</td>\n      <td>14.5</td>\n    </tr>\n    <tr>\n      <th>Spectre</th>\n      <td>2015</td>\n      <td>Daniel Craig</td>\n      <td>Sam Mendes</td>\n      <td>726.7</td>\n      <td>206.3</td>\n      <td>NaN</td>\n    </tr>\n    <tr>\n      <th>The Living Daylights</th>\n      <td>1987</td>\n      <td>Timothy Dalton</td>\n      <td>John Glen</td>\n      <td>313.5</td>\n      <td>68.8</td>\n      <td>5.2</td>\n    </tr>\n    <tr>\n      <th>The Man with the Golden Gun</th>\n      <td>1974</td>\n      <td>Roger Moore</td>\n      <td>Guy Hamilton</td>\n      <td>334.0</td>\n      <td>27.7</td>\n      <td>NaN</td>\n    </tr>\n    <tr>\n      <th>The Spy Who Loved Me</th>\n      <td>1977</td>\n      <td>Roger Moore</td>\n      <td>Lewis Gilbert</td>\n      <td>533.0</td>\n      <td>45.1</td>\n      <td>NaN</td>\n    </tr>\n    <tr>\n      <th>The World Is Not Enough</th>\n      <td>1999</td>\n      <td>Pierce Brosnan</td>\n      <td>Michael Apted</td>\n      <td>439.5</td>\n      <td>158.3</td>\n      <td>13.5</td>\n    </tr>\n    <tr>\n      <th>Thunderball</th>\n      <td>1965</td>\n      <td>Sean Connery</td>\n      <td>Terence Young</td>\n      <td>848.1</td>\n      <td>41.9</td>\n      <td>4.7</td>\n    </tr>\n    <tr>\n      <th>Tomorrow Never Dies</th>\n      <td>1997</td>\n      <td>Pierce Brosnan</td>\n      <td>Roger Spottiswoode</td>\n      <td>463.2</td>\n      <td>133.9</td>\n      <td>10.0</td>\n    </tr>\n    <tr>\n      <th>You Only Live Twice</th>\n      <td>1967</td>\n      <td>Sean Connery</td>\n      <td>Lewis Gilbert</td>\n      <td>514.2</td>\n      <td>59.9</td>\n      <td>4.4</td>\n    </tr>\n  </tbody>\n</table>\n</div>"
     },
     "execution_count": 38,
     "metadata": {},
     "output_type": "execute_result"
    }
   ],
   "source": [
    "bond.loc[\"GoldenEye\":]"
   ]
  },
  {
   "cell_type": "code",
   "execution_count": 39,
   "metadata": {
    "pycharm": {
     "name": "#%%\n"
    }
   },
   "outputs": [
    {
     "data": {
      "text/plain": "                 Year           Actor      Director  Box Office  Budget  \\\nFilm                                                                      \nDie Another Day  2002  Pierce Brosnan  Lee Tamahori       465.4   154.2   \nOctopussy        1983     Roger Moore     John Glen       373.8    53.9   \n\n                 Bond Actor Salary  \nFilm                                \nDie Another Day               17.9  \nOctopussy                      7.8  ",
      "text/html": "<div>\n<style scoped>\n    .dataframe tbody tr th:only-of-type {\n        vertical-align: middle;\n    }\n\n    .dataframe tbody tr th {\n        vertical-align: top;\n    }\n\n    .dataframe thead th {\n        text-align: right;\n    }\n</style>\n<table border=\"1\" class=\"dataframe\">\n  <thead>\n    <tr style=\"text-align: right;\">\n      <th></th>\n      <th>Year</th>\n      <th>Actor</th>\n      <th>Director</th>\n      <th>Box Office</th>\n      <th>Budget</th>\n      <th>Bond Actor Salary</th>\n    </tr>\n    <tr>\n      <th>Film</th>\n      <th></th>\n      <th></th>\n      <th></th>\n      <th></th>\n      <th></th>\n      <th></th>\n    </tr>\n  </thead>\n  <tbody>\n    <tr>\n      <th>Die Another Day</th>\n      <td>2002</td>\n      <td>Pierce Brosnan</td>\n      <td>Lee Tamahori</td>\n      <td>465.4</td>\n      <td>154.2</td>\n      <td>17.9</td>\n    </tr>\n    <tr>\n      <th>Octopussy</th>\n      <td>1983</td>\n      <td>Roger Moore</td>\n      <td>John Glen</td>\n      <td>373.8</td>\n      <td>53.9</td>\n      <td>7.8</td>\n    </tr>\n  </tbody>\n</table>\n</div>"
     },
     "execution_count": 39,
     "metadata": {},
     "output_type": "execute_result"
    }
   ],
   "source": [
    "bond.loc[[\"Die Another Day\", \"Octopussy\"]]"
   ]
  },
  {
   "cell_type": "code",
   "execution_count": 40,
   "metadata": {
    "pycharm": {
     "name": "#%%\n"
    }
   },
   "outputs": [
    {
     "data": {
      "text/plain": "False"
     },
     "execution_count": 40,
     "metadata": {},
     "output_type": "execute_result"
    }
   ],
   "source": [
    "\"Octopussy\" in bond.index\n",
    "\"Gold Bond\" in bond.index\n",
    "# bond.loc[[\"Die Another Day\", \"Octopussy\", \"Gold Bond\"]]"
   ]
  },
  {
   "cell_type": "markdown",
   "metadata": {
    "pycharm": {
     "name": "#%% md\n"
    }
   },
   "source": [
    "# Retrieve Rows by Index Position with `.iloc()` Accessor"
   ]
  },
  {
   "cell_type": "code",
   "execution_count": 41,
   "metadata": {
    "pycharm": {
     "name": "#%%\n"
    }
   },
   "outputs": [
    {
     "data": {
      "text/plain": "                    Film  Year         Actor       Director  Box Office  \\\n0                 Dr. No  1962  Sean Connery  Terence Young       448.8   \n1  From Russia with Love  1963  Sean Connery  Terence Young       543.8   \n2             Goldfinger  1964  Sean Connery   Guy Hamilton       820.4   \n3            Thunderball  1965  Sean Connery  Terence Young       848.1   \n4          Casino Royale  1967   David Niven     Ken Hughes       315.0   \n\n   Budget  Bond Actor Salary  \n0     7.0                0.6  \n1    12.6                1.6  \n2    18.6                3.2  \n3    41.9                4.7  \n4    85.0                NaN  ",
      "text/html": "<div>\n<style scoped>\n    .dataframe tbody tr th:only-of-type {\n        vertical-align: middle;\n    }\n\n    .dataframe tbody tr th {\n        vertical-align: top;\n    }\n\n    .dataframe thead th {\n        text-align: right;\n    }\n</style>\n<table border=\"1\" class=\"dataframe\">\n  <thead>\n    <tr style=\"text-align: right;\">\n      <th></th>\n      <th>Film</th>\n      <th>Year</th>\n      <th>Actor</th>\n      <th>Director</th>\n      <th>Box Office</th>\n      <th>Budget</th>\n      <th>Bond Actor Salary</th>\n    </tr>\n  </thead>\n  <tbody>\n    <tr>\n      <th>0</th>\n      <td>Dr. No</td>\n      <td>1962</td>\n      <td>Sean Connery</td>\n      <td>Terence Young</td>\n      <td>448.8</td>\n      <td>7.0</td>\n      <td>0.6</td>\n    </tr>\n    <tr>\n      <th>1</th>\n      <td>From Russia with Love</td>\n      <td>1963</td>\n      <td>Sean Connery</td>\n      <td>Terence Young</td>\n      <td>543.8</td>\n      <td>12.6</td>\n      <td>1.6</td>\n    </tr>\n    <tr>\n      <th>2</th>\n      <td>Goldfinger</td>\n      <td>1964</td>\n      <td>Sean Connery</td>\n      <td>Guy Hamilton</td>\n      <td>820.4</td>\n      <td>18.6</td>\n      <td>3.2</td>\n    </tr>\n    <tr>\n      <th>3</th>\n      <td>Thunderball</td>\n      <td>1965</td>\n      <td>Sean Connery</td>\n      <td>Terence Young</td>\n      <td>848.1</td>\n      <td>41.9</td>\n      <td>4.7</td>\n    </tr>\n    <tr>\n      <th>4</th>\n      <td>Casino Royale</td>\n      <td>1967</td>\n      <td>David Niven</td>\n      <td>Ken Hughes</td>\n      <td>315.0</td>\n      <td>85.0</td>\n      <td>NaN</td>\n    </tr>\n  </tbody>\n</table>\n</div>"
     },
     "execution_count": 41,
     "metadata": {},
     "output_type": "execute_result"
    }
   ],
   "source": [
    "bond = pd.read_csv(\"jamesbond.csv\")\n",
    "bond.head()"
   ]
  },
  {
   "cell_type": "code",
   "execution_count": 42,
   "metadata": {
    "pycharm": {
     "name": "#%%\n"
    }
   },
   "outputs": [
    {
     "data": {
      "text/plain": "Film                 From Russia with Love\nYear                                  1963\nActor                         Sean Connery\nDirector                     Terence Young\nBox Office                           543.8\nBudget                                12.6\nBond Actor Salary                      1.6\nName: 1, dtype: object"
     },
     "execution_count": 42,
     "metadata": {},
     "output_type": "execute_result"
    }
   ],
   "source": [
    "bond.iloc[1]"
   ]
  },
  {
   "cell_type": "code",
   "execution_count": 43,
   "metadata": {
    "pycharm": {
     "name": "#%%\n"
    }
   },
   "outputs": [
    {
     "data": {
      "text/plain": "                    Film  Year         Actor       Director  Box Office  \\\n1  From Russia with Love  1963  Sean Connery  Terence Young       543.8   \n2             Goldfinger  1964  Sean Connery   Guy Hamilton       820.4   \n3            Thunderball  1965  Sean Connery  Terence Young       848.1   \n4          Casino Royale  1967   David Niven     Ken Hughes       315.0   \n\n   Budget  Bond Actor Salary  \n1    12.6                1.6  \n2    18.6                3.2  \n3    41.9                4.7  \n4    85.0                NaN  ",
      "text/html": "<div>\n<style scoped>\n    .dataframe tbody tr th:only-of-type {\n        vertical-align: middle;\n    }\n\n    .dataframe tbody tr th {\n        vertical-align: top;\n    }\n\n    .dataframe thead th {\n        text-align: right;\n    }\n</style>\n<table border=\"1\" class=\"dataframe\">\n  <thead>\n    <tr style=\"text-align: right;\">\n      <th></th>\n      <th>Film</th>\n      <th>Year</th>\n      <th>Actor</th>\n      <th>Director</th>\n      <th>Box Office</th>\n      <th>Budget</th>\n      <th>Bond Actor Salary</th>\n    </tr>\n  </thead>\n  <tbody>\n    <tr>\n      <th>1</th>\n      <td>From Russia with Love</td>\n      <td>1963</td>\n      <td>Sean Connery</td>\n      <td>Terence Young</td>\n      <td>543.8</td>\n      <td>12.6</td>\n      <td>1.6</td>\n    </tr>\n    <tr>\n      <th>2</th>\n      <td>Goldfinger</td>\n      <td>1964</td>\n      <td>Sean Connery</td>\n      <td>Guy Hamilton</td>\n      <td>820.4</td>\n      <td>18.6</td>\n      <td>3.2</td>\n    </tr>\n    <tr>\n      <th>3</th>\n      <td>Thunderball</td>\n      <td>1965</td>\n      <td>Sean Connery</td>\n      <td>Terence Young</td>\n      <td>848.1</td>\n      <td>41.9</td>\n      <td>4.7</td>\n    </tr>\n    <tr>\n      <th>4</th>\n      <td>Casino Royale</td>\n      <td>1967</td>\n      <td>David Niven</td>\n      <td>Ken Hughes</td>\n      <td>315.0</td>\n      <td>85.0</td>\n      <td>NaN</td>\n    </tr>\n  </tbody>\n</table>\n</div>"
     },
     "execution_count": 43,
     "metadata": {},
     "output_type": "execute_result"
    }
   ],
   "source": [
    "bond.iloc[1:5]  # the upper bond is not included"
   ]
  },
  {
   "cell_type": "code",
   "execution_count": 44,
   "metadata": {
    "pycharm": {
     "name": "#%%\n"
    }
   },
   "outputs": [
    {
     "data": {
      "text/plain": "                    Film  Year         Actor       Director  Box Office  \\\n1  From Russia with Love  1963  Sean Connery  Terence Young       543.8   \n3            Thunderball  1965  Sean Connery  Terence Young       848.1   \n\n   Budget  Bond Actor Salary  \n1    12.6                1.6  \n3    41.9                4.7  ",
      "text/html": "<div>\n<style scoped>\n    .dataframe tbody tr th:only-of-type {\n        vertical-align: middle;\n    }\n\n    .dataframe tbody tr th {\n        vertical-align: top;\n    }\n\n    .dataframe thead th {\n        text-align: right;\n    }\n</style>\n<table border=\"1\" class=\"dataframe\">\n  <thead>\n    <tr style=\"text-align: right;\">\n      <th></th>\n      <th>Film</th>\n      <th>Year</th>\n      <th>Actor</th>\n      <th>Director</th>\n      <th>Box Office</th>\n      <th>Budget</th>\n      <th>Bond Actor Salary</th>\n    </tr>\n  </thead>\n  <tbody>\n    <tr>\n      <th>1</th>\n      <td>From Russia with Love</td>\n      <td>1963</td>\n      <td>Sean Connery</td>\n      <td>Terence Young</td>\n      <td>543.8</td>\n      <td>12.6</td>\n      <td>1.6</td>\n    </tr>\n    <tr>\n      <th>3</th>\n      <td>Thunderball</td>\n      <td>1965</td>\n      <td>Sean Connery</td>\n      <td>Terence Young</td>\n      <td>848.1</td>\n      <td>41.9</td>\n      <td>4.7</td>\n    </tr>\n  </tbody>\n</table>\n</div>"
     },
     "execution_count": 44,
     "metadata": {},
     "output_type": "execute_result"
    }
   ],
   "source": [
    "bond.iloc[[1, 3]]"
   ]
  },
  {
   "cell_type": "code",
   "execution_count": 45,
   "metadata": {
    "pycharm": {
     "name": "#%%\n"
    }
   },
   "outputs": [
    {
     "data": {
      "text/plain": "                      Year           Actor         Director  Box Office  \\\nFilm                                                                      \nA View to a Kill      1985     Roger Moore        John Glen       275.2   \nCasino Royale         2006    Daniel Craig  Martin Campbell       581.5   \nCasino Royale         1967     David Niven       Ken Hughes       315.0   \nDiamonds Are Forever  1971    Sean Connery     Guy Hamilton       442.5   \nDie Another Day       2002  Pierce Brosnan     Lee Tamahori       465.4   \n\n                      Budget  Bond Actor Salary  \nFilm                                             \nA View to a Kill        54.5                9.1  \nCasino Royale          145.3                3.3  \nCasino Royale           85.0                NaN  \nDiamonds Are Forever    34.7                5.8  \nDie Another Day        154.2               17.9  ",
      "text/html": "<div>\n<style scoped>\n    .dataframe tbody tr th:only-of-type {\n        vertical-align: middle;\n    }\n\n    .dataframe tbody tr th {\n        vertical-align: top;\n    }\n\n    .dataframe thead th {\n        text-align: right;\n    }\n</style>\n<table border=\"1\" class=\"dataframe\">\n  <thead>\n    <tr style=\"text-align: right;\">\n      <th></th>\n      <th>Year</th>\n      <th>Actor</th>\n      <th>Director</th>\n      <th>Box Office</th>\n      <th>Budget</th>\n      <th>Bond Actor Salary</th>\n    </tr>\n    <tr>\n      <th>Film</th>\n      <th></th>\n      <th></th>\n      <th></th>\n      <th></th>\n      <th></th>\n      <th></th>\n    </tr>\n  </thead>\n  <tbody>\n    <tr>\n      <th>A View to a Kill</th>\n      <td>1985</td>\n      <td>Roger Moore</td>\n      <td>John Glen</td>\n      <td>275.2</td>\n      <td>54.5</td>\n      <td>9.1</td>\n    </tr>\n    <tr>\n      <th>Casino Royale</th>\n      <td>2006</td>\n      <td>Daniel Craig</td>\n      <td>Martin Campbell</td>\n      <td>581.5</td>\n      <td>145.3</td>\n      <td>3.3</td>\n    </tr>\n    <tr>\n      <th>Casino Royale</th>\n      <td>1967</td>\n      <td>David Niven</td>\n      <td>Ken Hughes</td>\n      <td>315.0</td>\n      <td>85.0</td>\n      <td>NaN</td>\n    </tr>\n    <tr>\n      <th>Diamonds Are Forever</th>\n      <td>1971</td>\n      <td>Sean Connery</td>\n      <td>Guy Hamilton</td>\n      <td>442.5</td>\n      <td>34.7</td>\n      <td>5.8</td>\n    </tr>\n    <tr>\n      <th>Die Another Day</th>\n      <td>2002</td>\n      <td>Pierce Brosnan</td>\n      <td>Lee Tamahori</td>\n      <td>465.4</td>\n      <td>154.2</td>\n      <td>17.9</td>\n    </tr>\n  </tbody>\n</table>\n</div>"
     },
     "execution_count": 45,
     "metadata": {},
     "output_type": "execute_result"
    }
   ],
   "source": [
    "bond.set_index(\"Film\", inplace=True)\n",
    "bond.sort_index(inplace=True)\n",
    "bond.head()"
   ]
  },
  {
   "cell_type": "code",
   "execution_count": 46,
   "metadata": {
    "pycharm": {
     "name": "#%%\n"
    }
   },
   "outputs": [
    {
     "data": {
      "text/plain": "               Year         Actor         Director  Box Office  Budget  \\\nFilm                                                                     \nCasino Royale  2006  Daniel Craig  Martin Campbell       581.5   145.3   \nCasino Royale  1967   David Niven       Ken Hughes       315.0    85.0   \n\n               Bond Actor Salary  \nFilm                              \nCasino Royale                3.3  \nCasino Royale                NaN  ",
      "text/html": "<div>\n<style scoped>\n    .dataframe tbody tr th:only-of-type {\n        vertical-align: middle;\n    }\n\n    .dataframe tbody tr th {\n        vertical-align: top;\n    }\n\n    .dataframe thead th {\n        text-align: right;\n    }\n</style>\n<table border=\"1\" class=\"dataframe\">\n  <thead>\n    <tr style=\"text-align: right;\">\n      <th></th>\n      <th>Year</th>\n      <th>Actor</th>\n      <th>Director</th>\n      <th>Box Office</th>\n      <th>Budget</th>\n      <th>Bond Actor Salary</th>\n    </tr>\n    <tr>\n      <th>Film</th>\n      <th></th>\n      <th></th>\n      <th></th>\n      <th></th>\n      <th></th>\n      <th></th>\n    </tr>\n  </thead>\n  <tbody>\n    <tr>\n      <th>Casino Royale</th>\n      <td>2006</td>\n      <td>Daniel Craig</td>\n      <td>Martin Campbell</td>\n      <td>581.5</td>\n      <td>145.3</td>\n      <td>3.3</td>\n    </tr>\n    <tr>\n      <th>Casino Royale</th>\n      <td>1967</td>\n      <td>David Niven</td>\n      <td>Ken Hughes</td>\n      <td>315.0</td>\n      <td>85.0</td>\n      <td>NaN</td>\n    </tr>\n  </tbody>\n</table>\n</div>"
     },
     "execution_count": 46,
     "metadata": {},
     "output_type": "execute_result"
    }
   ],
   "source": [
    "bond.loc[\"Casino Royale\"]"
   ]
  },
  {
   "cell_type": "code",
   "execution_count": 47,
   "metadata": {
    "pycharm": {
     "name": "#%%\n"
    }
   },
   "outputs": [
    {
     "data": {
      "text/plain": "Year                        1985\nActor                Roger Moore\nDirector               John Glen\nBox Office                 275.2\nBudget                      54.5\nBond Actor Salary            9.1\nName: A View to a Kill, dtype: object"
     },
     "execution_count": 47,
     "metadata": {},
     "output_type": "execute_result"
    }
   ],
   "source": [
    "bond.iloc[0]"
   ]
  },
  {
   "cell_type": "markdown",
   "metadata": {
    "pycharm": {
     "name": "#%% md\n"
    }
   },
   "source": [
    "# Second Arguments to `.loc()` and `.iloc()` Accesors\n",
    "\n",
    "The first argument represents the rows whereas the second argument represents the columns."
   ]
  },
  {
   "cell_type": "code",
   "execution_count": 48,
   "metadata": {
    "pycharm": {
     "name": "#%%\n"
    }
   },
   "outputs": [
    {
     "data": {
      "text/plain": "                      Year           Actor         Director  Box Office  \\\nFilm                                                                      \nA View to a Kill      1985     Roger Moore        John Glen       275.2   \nCasino Royale         2006    Daniel Craig  Martin Campbell       581.5   \nCasino Royale         1967     David Niven       Ken Hughes       315.0   \nDiamonds Are Forever  1971    Sean Connery     Guy Hamilton       442.5   \nDie Another Day       2002  Pierce Brosnan     Lee Tamahori       465.4   \n\n                      Budget  Bond Actor Salary  \nFilm                                             \nA View to a Kill        54.5                9.1  \nCasino Royale          145.3                3.3  \nCasino Royale           85.0                NaN  \nDiamonds Are Forever    34.7                5.8  \nDie Another Day        154.2               17.9  ",
      "text/html": "<div>\n<style scoped>\n    .dataframe tbody tr th:only-of-type {\n        vertical-align: middle;\n    }\n\n    .dataframe tbody tr th {\n        vertical-align: top;\n    }\n\n    .dataframe thead th {\n        text-align: right;\n    }\n</style>\n<table border=\"1\" class=\"dataframe\">\n  <thead>\n    <tr style=\"text-align: right;\">\n      <th></th>\n      <th>Year</th>\n      <th>Actor</th>\n      <th>Director</th>\n      <th>Box Office</th>\n      <th>Budget</th>\n      <th>Bond Actor Salary</th>\n    </tr>\n    <tr>\n      <th>Film</th>\n      <th></th>\n      <th></th>\n      <th></th>\n      <th></th>\n      <th></th>\n      <th></th>\n    </tr>\n  </thead>\n  <tbody>\n    <tr>\n      <th>A View to a Kill</th>\n      <td>1985</td>\n      <td>Roger Moore</td>\n      <td>John Glen</td>\n      <td>275.2</td>\n      <td>54.5</td>\n      <td>9.1</td>\n    </tr>\n    <tr>\n      <th>Casino Royale</th>\n      <td>2006</td>\n      <td>Daniel Craig</td>\n      <td>Martin Campbell</td>\n      <td>581.5</td>\n      <td>145.3</td>\n      <td>3.3</td>\n    </tr>\n    <tr>\n      <th>Casino Royale</th>\n      <td>1967</td>\n      <td>David Niven</td>\n      <td>Ken Hughes</td>\n      <td>315.0</td>\n      <td>85.0</td>\n      <td>NaN</td>\n    </tr>\n    <tr>\n      <th>Diamonds Are Forever</th>\n      <td>1971</td>\n      <td>Sean Connery</td>\n      <td>Guy Hamilton</td>\n      <td>442.5</td>\n      <td>34.7</td>\n      <td>5.8</td>\n    </tr>\n    <tr>\n      <th>Die Another Day</th>\n      <td>2002</td>\n      <td>Pierce Brosnan</td>\n      <td>Lee Tamahori</td>\n      <td>465.4</td>\n      <td>154.2</td>\n      <td>17.9</td>\n    </tr>\n  </tbody>\n</table>\n</div>"
     },
     "execution_count": 48,
     "metadata": {},
     "output_type": "execute_result"
    }
   ],
   "source": [
    "bond = pd.read_csv(\"jamesbond.csv\", index_col=\"Film\")\n",
    "bond.sort_index(inplace=True)\n",
    "bond.head()"
   ]
  },
  {
   "cell_type": "code",
   "execution_count": 49,
   "metadata": {
    "pycharm": {
     "name": "#%%\n"
    }
   },
   "outputs": [
    {
     "data": {
      "text/plain": "'Roger Moore'"
     },
     "execution_count": 49,
     "metadata": {},
     "output_type": "execute_result"
    }
   ],
   "source": [
    "bond.loc[\"Moonraker\", \"Actor\"]\n"
   ]
  },
  {
   "cell_type": "code",
   "execution_count": 50,
   "metadata": {
    "pycharm": {
     "name": "#%%\n"
    }
   },
   "outputs": [
    {
     "data": {
      "text/plain": "Film\nCasino Royale    Martin Campbell\nCasino Royale         Ken Hughes\nName: Director, dtype: object"
     },
     "execution_count": 50,
     "metadata": {},
     "output_type": "execute_result"
    }
   ],
   "source": [
    "bond.loc[\"Casino Royale\", \"Director\"]\n"
   ]
  },
  {
   "cell_type": "code",
   "execution_count": 51,
   "metadata": {
    "pycharm": {
     "name": "#%%\n"
    }
   },
   "outputs": [
    {
     "data": {
      "text/plain": "Actor       Sean Connery\nDirector    Guy Hamilton\nName: Goldfinger, dtype: object"
     },
     "execution_count": 51,
     "metadata": {},
     "output_type": "execute_result"
    }
   ],
   "source": [
    "bond.loc[\"Goldfinger\", [\"Actor\", \"Director\"]]\n"
   ]
  },
  {
   "cell_type": "code",
   "execution_count": 52,
   "metadata": {
    "pycharm": {
     "name": "#%%\n"
    }
   },
   "outputs": [
    {
     "data": {
      "text/plain": "                        Actor       Director\nFilm                                        \nMoonraker         Roger Moore  Lewis Gilbert\nA View to a Kill  Roger Moore      John Glen",
      "text/html": "<div>\n<style scoped>\n    .dataframe tbody tr th:only-of-type {\n        vertical-align: middle;\n    }\n\n    .dataframe tbody tr th {\n        vertical-align: top;\n    }\n\n    .dataframe thead th {\n        text-align: right;\n    }\n</style>\n<table border=\"1\" class=\"dataframe\">\n  <thead>\n    <tr style=\"text-align: right;\">\n      <th></th>\n      <th>Actor</th>\n      <th>Director</th>\n    </tr>\n    <tr>\n      <th>Film</th>\n      <th></th>\n      <th></th>\n    </tr>\n  </thead>\n  <tbody>\n    <tr>\n      <th>Moonraker</th>\n      <td>Roger Moore</td>\n      <td>Lewis Gilbert</td>\n    </tr>\n    <tr>\n      <th>A View to a Kill</th>\n      <td>Roger Moore</td>\n      <td>John Glen</td>\n    </tr>\n  </tbody>\n</table>\n</div>"
     },
     "execution_count": 52,
     "metadata": {},
     "output_type": "execute_result"
    }
   ],
   "source": [
    "bond.loc[[\"Moonraker\", \"A View to a Kill\"], [\"Actor\", \"Director\"]]\n"
   ]
  },
  {
   "cell_type": "code",
   "execution_count": 53,
   "metadata": {
    "pycharm": {
     "name": "#%%\n"
    }
   },
   "outputs": [
    {
     "data": {
      "text/plain": "Director      Lewis Gilbert\nBox Office            535.0\nBudget                 91.5\nName: Moonraker, dtype: object"
     },
     "execution_count": 53,
     "metadata": {},
     "output_type": "execute_result"
    }
   ],
   "source": [
    "bond.loc[\"Moonraker\", \"Director\":\"Budget\"]\n"
   ]
  },
  {
   "cell_type": "code",
   "execution_count": 54,
   "metadata": {
    "pycharm": {
     "name": "#%%\n"
    }
   },
   "outputs": [
    {
     "data": {
      "text/plain": "                                       Director  Box Office  Budget\nFilm                                                               \nMoonraker                         Lewis Gilbert       535.0    91.5\nNever Say Never Again            Irvin Kershner       380.0    86.0\nOctopussy                             John Glen       373.8    53.9\nOn Her Majesty's Secret Service   Peter R. Hunt       291.5    37.3\nQuantum of Solace                  Marc Forster       514.2   181.4\nSkyfall                              Sam Mendes       943.5   170.2\nSpectre                              Sam Mendes       726.7   206.3\nThe Living Daylights                  John Glen       313.5    68.8\nThe Man with the Golden Gun        Guy Hamilton       334.0    27.7\nThe Spy Who Loved Me              Lewis Gilbert       533.0    45.1\nThe World Is Not Enough           Michael Apted       439.5   158.3\nThunderball                       Terence Young       848.1    41.9",
      "text/html": "<div>\n<style scoped>\n    .dataframe tbody tr th:only-of-type {\n        vertical-align: middle;\n    }\n\n    .dataframe tbody tr th {\n        vertical-align: top;\n    }\n\n    .dataframe thead th {\n        text-align: right;\n    }\n</style>\n<table border=\"1\" class=\"dataframe\">\n  <thead>\n    <tr style=\"text-align: right;\">\n      <th></th>\n      <th>Director</th>\n      <th>Box Office</th>\n      <th>Budget</th>\n    </tr>\n    <tr>\n      <th>Film</th>\n      <th></th>\n      <th></th>\n      <th></th>\n    </tr>\n  </thead>\n  <tbody>\n    <tr>\n      <th>Moonraker</th>\n      <td>Lewis Gilbert</td>\n      <td>535.0</td>\n      <td>91.5</td>\n    </tr>\n    <tr>\n      <th>Never Say Never Again</th>\n      <td>Irvin Kershner</td>\n      <td>380.0</td>\n      <td>86.0</td>\n    </tr>\n    <tr>\n      <th>Octopussy</th>\n      <td>John Glen</td>\n      <td>373.8</td>\n      <td>53.9</td>\n    </tr>\n    <tr>\n      <th>On Her Majesty's Secret Service</th>\n      <td>Peter R. Hunt</td>\n      <td>291.5</td>\n      <td>37.3</td>\n    </tr>\n    <tr>\n      <th>Quantum of Solace</th>\n      <td>Marc Forster</td>\n      <td>514.2</td>\n      <td>181.4</td>\n    </tr>\n    <tr>\n      <th>Skyfall</th>\n      <td>Sam Mendes</td>\n      <td>943.5</td>\n      <td>170.2</td>\n    </tr>\n    <tr>\n      <th>Spectre</th>\n      <td>Sam Mendes</td>\n      <td>726.7</td>\n      <td>206.3</td>\n    </tr>\n    <tr>\n      <th>The Living Daylights</th>\n      <td>John Glen</td>\n      <td>313.5</td>\n      <td>68.8</td>\n    </tr>\n    <tr>\n      <th>The Man with the Golden Gun</th>\n      <td>Guy Hamilton</td>\n      <td>334.0</td>\n      <td>27.7</td>\n    </tr>\n    <tr>\n      <th>The Spy Who Loved Me</th>\n      <td>Lewis Gilbert</td>\n      <td>533.0</td>\n      <td>45.1</td>\n    </tr>\n    <tr>\n      <th>The World Is Not Enough</th>\n      <td>Michael Apted</td>\n      <td>439.5</td>\n      <td>158.3</td>\n    </tr>\n    <tr>\n      <th>Thunderball</th>\n      <td>Terence Young</td>\n      <td>848.1</td>\n      <td>41.9</td>\n    </tr>\n  </tbody>\n</table>\n</div>"
     },
     "execution_count": 54,
     "metadata": {},
     "output_type": "execute_result"
    }
   ],
   "source": [
    "bond.loc[\"Moonraker\":\"Thunderball\", \"Director\":\"Budget\"]\n"
   ]
  },
  {
   "cell_type": "code",
   "execution_count": 55,
   "metadata": {
    "pycharm": {
     "name": "#%%\n"
    }
   },
   "outputs": [
    {
     "data": {
      "text/plain": "                                           Director  Box Office  Budget  \\\nFilm                                                                      \nMoonraker                             Lewis Gilbert       535.0    91.5   \nNever Say Never Again                Irvin Kershner       380.0    86.0   \nOctopussy                                 John Glen       373.8    53.9   \nOn Her Majesty's Secret Service       Peter R. Hunt       291.5    37.3   \nQuantum of Solace                      Marc Forster       514.2   181.4   \nSkyfall                                  Sam Mendes       943.5   170.2   \nSpectre                                  Sam Mendes       726.7   206.3   \nThe Living Daylights                      John Glen       313.5    68.8   \nThe Man with the Golden Gun            Guy Hamilton       334.0    27.7   \nThe Spy Who Loved Me                  Lewis Gilbert       533.0    45.1   \nThe World Is Not Enough               Michael Apted       439.5   158.3   \nThunderball                           Terence Young       848.1    41.9   \nTomorrow Never Dies              Roger Spottiswoode       463.2   133.9   \nYou Only Live Twice                   Lewis Gilbert       514.2    59.9   \n\n                                 Bond Actor Salary  \nFilm                                                \nMoonraker                                      NaN  \nNever Say Never Again                          NaN  \nOctopussy                                      7.8  \nOn Her Majesty's Secret Service                0.6  \nQuantum of Solace                              8.1  \nSkyfall                                       14.5  \nSpectre                                        NaN  \nThe Living Daylights                           5.2  \nThe Man with the Golden Gun                    NaN  \nThe Spy Who Loved Me                           NaN  \nThe World Is Not Enough                       13.5  \nThunderball                                    4.7  \nTomorrow Never Dies                           10.0  \nYou Only Live Twice                            4.4  ",
      "text/html": "<div>\n<style scoped>\n    .dataframe tbody tr th:only-of-type {\n        vertical-align: middle;\n    }\n\n    .dataframe tbody tr th {\n        vertical-align: top;\n    }\n\n    .dataframe thead th {\n        text-align: right;\n    }\n</style>\n<table border=\"1\" class=\"dataframe\">\n  <thead>\n    <tr style=\"text-align: right;\">\n      <th></th>\n      <th>Director</th>\n      <th>Box Office</th>\n      <th>Budget</th>\n      <th>Bond Actor Salary</th>\n    </tr>\n    <tr>\n      <th>Film</th>\n      <th></th>\n      <th></th>\n      <th></th>\n      <th></th>\n    </tr>\n  </thead>\n  <tbody>\n    <tr>\n      <th>Moonraker</th>\n      <td>Lewis Gilbert</td>\n      <td>535.0</td>\n      <td>91.5</td>\n      <td>NaN</td>\n    </tr>\n    <tr>\n      <th>Never Say Never Again</th>\n      <td>Irvin Kershner</td>\n      <td>380.0</td>\n      <td>86.0</td>\n      <td>NaN</td>\n    </tr>\n    <tr>\n      <th>Octopussy</th>\n      <td>John Glen</td>\n      <td>373.8</td>\n      <td>53.9</td>\n      <td>7.8</td>\n    </tr>\n    <tr>\n      <th>On Her Majesty's Secret Service</th>\n      <td>Peter R. Hunt</td>\n      <td>291.5</td>\n      <td>37.3</td>\n      <td>0.6</td>\n    </tr>\n    <tr>\n      <th>Quantum of Solace</th>\n      <td>Marc Forster</td>\n      <td>514.2</td>\n      <td>181.4</td>\n      <td>8.1</td>\n    </tr>\n    <tr>\n      <th>Skyfall</th>\n      <td>Sam Mendes</td>\n      <td>943.5</td>\n      <td>170.2</td>\n      <td>14.5</td>\n    </tr>\n    <tr>\n      <th>Spectre</th>\n      <td>Sam Mendes</td>\n      <td>726.7</td>\n      <td>206.3</td>\n      <td>NaN</td>\n    </tr>\n    <tr>\n      <th>The Living Daylights</th>\n      <td>John Glen</td>\n      <td>313.5</td>\n      <td>68.8</td>\n      <td>5.2</td>\n    </tr>\n    <tr>\n      <th>The Man with the Golden Gun</th>\n      <td>Guy Hamilton</td>\n      <td>334.0</td>\n      <td>27.7</td>\n      <td>NaN</td>\n    </tr>\n    <tr>\n      <th>The Spy Who Loved Me</th>\n      <td>Lewis Gilbert</td>\n      <td>533.0</td>\n      <td>45.1</td>\n      <td>NaN</td>\n    </tr>\n    <tr>\n      <th>The World Is Not Enough</th>\n      <td>Michael Apted</td>\n      <td>439.5</td>\n      <td>158.3</td>\n      <td>13.5</td>\n    </tr>\n    <tr>\n      <th>Thunderball</th>\n      <td>Terence Young</td>\n      <td>848.1</td>\n      <td>41.9</td>\n      <td>4.7</td>\n    </tr>\n    <tr>\n      <th>Tomorrow Never Dies</th>\n      <td>Roger Spottiswoode</td>\n      <td>463.2</td>\n      <td>133.9</td>\n      <td>10.0</td>\n    </tr>\n    <tr>\n      <th>You Only Live Twice</th>\n      <td>Lewis Gilbert</td>\n      <td>514.2</td>\n      <td>59.9</td>\n      <td>4.4</td>\n    </tr>\n  </tbody>\n</table>\n</div>"
     },
     "execution_count": 55,
     "metadata": {},
     "output_type": "execute_result"
    }
   ],
   "source": [
    "bond.loc[\"Moonraker\":, \"Director\":]\n"
   ]
  },
  {
   "cell_type": "code",
   "execution_count": 56,
   "metadata": {
    "pycharm": {
     "name": "#%%\n"
    }
   },
   "outputs": [
    {
     "data": {
      "text/plain": "                      Year           Actor         Director  Box Office  \\\nFilm                                                                      \nA View to a Kill      1985     Roger Moore        John Glen       275.2   \nCasino Royale         2006    Daniel Craig  Martin Campbell       581.5   \nCasino Royale         1967     David Niven       Ken Hughes       315.0   \nDiamonds Are Forever  1971    Sean Connery     Guy Hamilton       442.5   \nDie Another Day       2002  Pierce Brosnan     Lee Tamahori       465.4   \n\n                      Budget  Bond Actor Salary  \nFilm                                             \nA View to a Kill        54.5                9.1  \nCasino Royale          145.3                3.3  \nCasino Royale           85.0                NaN  \nDiamonds Are Forever    34.7                5.8  \nDie Another Day        154.2               17.9  ",
      "text/html": "<div>\n<style scoped>\n    .dataframe tbody tr th:only-of-type {\n        vertical-align: middle;\n    }\n\n    .dataframe tbody tr th {\n        vertical-align: top;\n    }\n\n    .dataframe thead th {\n        text-align: right;\n    }\n</style>\n<table border=\"1\" class=\"dataframe\">\n  <thead>\n    <tr style=\"text-align: right;\">\n      <th></th>\n      <th>Year</th>\n      <th>Actor</th>\n      <th>Director</th>\n      <th>Box Office</th>\n      <th>Budget</th>\n      <th>Bond Actor Salary</th>\n    </tr>\n    <tr>\n      <th>Film</th>\n      <th></th>\n      <th></th>\n      <th></th>\n      <th></th>\n      <th></th>\n      <th></th>\n    </tr>\n  </thead>\n  <tbody>\n    <tr>\n      <th>A View to a Kill</th>\n      <td>1985</td>\n      <td>Roger Moore</td>\n      <td>John Glen</td>\n      <td>275.2</td>\n      <td>54.5</td>\n      <td>9.1</td>\n    </tr>\n    <tr>\n      <th>Casino Royale</th>\n      <td>2006</td>\n      <td>Daniel Craig</td>\n      <td>Martin Campbell</td>\n      <td>581.5</td>\n      <td>145.3</td>\n      <td>3.3</td>\n    </tr>\n    <tr>\n      <th>Casino Royale</th>\n      <td>1967</td>\n      <td>David Niven</td>\n      <td>Ken Hughes</td>\n      <td>315.0</td>\n      <td>85.0</td>\n      <td>NaN</td>\n    </tr>\n    <tr>\n      <th>Diamonds Are Forever</th>\n      <td>1971</td>\n      <td>Sean Connery</td>\n      <td>Guy Hamilton</td>\n      <td>442.5</td>\n      <td>34.7</td>\n      <td>5.8</td>\n    </tr>\n    <tr>\n      <th>Die Another Day</th>\n      <td>2002</td>\n      <td>Pierce Brosnan</td>\n      <td>Lee Tamahori</td>\n      <td>465.4</td>\n      <td>154.2</td>\n      <td>17.9</td>\n    </tr>\n  </tbody>\n</table>\n</div>"
     },
     "execution_count": 56,
     "metadata": {},
     "output_type": "execute_result"
    }
   ],
   "source": [
    "bond.head()"
   ]
  },
  {
   "cell_type": "code",
   "execution_count": 57,
   "metadata": {
    "pycharm": {
     "name": "#%%\n"
    }
   },
   "outputs": [
    {
     "data": {
      "text/plain": "'John Glen'"
     },
     "execution_count": 57,
     "metadata": {},
     "output_type": "execute_result"
    }
   ],
   "source": [
    "bond.iloc[0, 2]"
   ]
  },
  {
   "cell_type": "code",
   "execution_count": 58,
   "metadata": {
    "pycharm": {
     "name": "#%%\n"
    }
   },
   "outputs": [
    {
     "data": {
      "text/plain": "Year                   2006\nActor          Daniel Craig\nDirector    Martin Campbell\nName: Casino Royale, dtype: object"
     },
     "execution_count": 58,
     "metadata": {},
     "output_type": "execute_result"
    }
   ],
   "source": [
    "bond.iloc[1, 0:3]"
   ]
  },
  {
   "cell_type": "markdown",
   "source": [
    "# Set New Value for a Specific Cell"
   ],
   "metadata": {
    "collapsed": false,
    "pycharm": {
     "name": "#%% md\n"
    }
   }
  },
  {
   "cell_type": "code",
   "execution_count": 59,
   "outputs": [
    {
     "data": {
      "text/plain": "                      Year           Actor         Director  Box Office  \\\nFilm                                                                      \nA View to a Kill      1985     Roger Moore        John Glen       275.2   \nCasino Royale         2006    Daniel Craig  Martin Campbell       581.5   \nCasino Royale         1967     David Niven       Ken Hughes       315.0   \nDiamonds Are Forever  1971    Sean Connery     Guy Hamilton       442.5   \nDie Another Day       2002  Pierce Brosnan     Lee Tamahori       465.4   \n\n                      Budget  Bond Actor Salary  \nFilm                                             \nA View to a Kill        54.5                9.1  \nCasino Royale          145.3                3.3  \nCasino Royale           85.0                NaN  \nDiamonds Are Forever    34.7                5.8  \nDie Another Day        154.2               17.9  ",
      "text/html": "<div>\n<style scoped>\n    .dataframe tbody tr th:only-of-type {\n        vertical-align: middle;\n    }\n\n    .dataframe tbody tr th {\n        vertical-align: top;\n    }\n\n    .dataframe thead th {\n        text-align: right;\n    }\n</style>\n<table border=\"1\" class=\"dataframe\">\n  <thead>\n    <tr style=\"text-align: right;\">\n      <th></th>\n      <th>Year</th>\n      <th>Actor</th>\n      <th>Director</th>\n      <th>Box Office</th>\n      <th>Budget</th>\n      <th>Bond Actor Salary</th>\n    </tr>\n    <tr>\n      <th>Film</th>\n      <th></th>\n      <th></th>\n      <th></th>\n      <th></th>\n      <th></th>\n      <th></th>\n    </tr>\n  </thead>\n  <tbody>\n    <tr>\n      <th>A View to a Kill</th>\n      <td>1985</td>\n      <td>Roger Moore</td>\n      <td>John Glen</td>\n      <td>275.2</td>\n      <td>54.5</td>\n      <td>9.1</td>\n    </tr>\n    <tr>\n      <th>Casino Royale</th>\n      <td>2006</td>\n      <td>Daniel Craig</td>\n      <td>Martin Campbell</td>\n      <td>581.5</td>\n      <td>145.3</td>\n      <td>3.3</td>\n    </tr>\n    <tr>\n      <th>Casino Royale</th>\n      <td>1967</td>\n      <td>David Niven</td>\n      <td>Ken Hughes</td>\n      <td>315.0</td>\n      <td>85.0</td>\n      <td>NaN</td>\n    </tr>\n    <tr>\n      <th>Diamonds Are Forever</th>\n      <td>1971</td>\n      <td>Sean Connery</td>\n      <td>Guy Hamilton</td>\n      <td>442.5</td>\n      <td>34.7</td>\n      <td>5.8</td>\n    </tr>\n    <tr>\n      <th>Die Another Day</th>\n      <td>2002</td>\n      <td>Pierce Brosnan</td>\n      <td>Lee Tamahori</td>\n      <td>465.4</td>\n      <td>154.2</td>\n      <td>17.9</td>\n    </tr>\n  </tbody>\n</table>\n</div>"
     },
     "execution_count": 59,
     "metadata": {},
     "output_type": "execute_result"
    }
   ],
   "source": [
    "bond = pd.read_csv(\"jamesbond.csv\", index_col=\"Film\")\n",
    "bond.sort_index(inplace=True)\n",
    "bond.head()"
   ],
   "metadata": {
    "collapsed": false,
    "pycharm": {
     "name": "#%%\n"
    }
   }
  },
  {
   "cell_type": "code",
   "execution_count": 60,
   "outputs": [],
   "source": [
    "bond.loc[\"Dr. No\", \"Actor\"] = \"Sir Sean Connery\""
   ],
   "metadata": {
    "collapsed": false,
    "pycharm": {
     "name": "#%%\n"
    }
   }
  },
  {
   "cell_type": "code",
   "execution_count": 61,
   "outputs": [
    {
     "data": {
      "text/plain": "Year                             1962\nActor                Sir Sean Connery\nDirector                Terence Young\nBox Office                      448.8\nBudget                            7.0\nBond Actor Salary                 0.6\nName: Dr. No, dtype: object"
     },
     "execution_count": 61,
     "metadata": {},
     "output_type": "execute_result"
    }
   ],
   "source": [
    "bond.loc[\"Dr. No\"]"
   ],
   "metadata": {
    "collapsed": false,
    "pycharm": {
     "name": "#%%\n"
    }
   }
  },
  {
   "cell_type": "code",
   "execution_count": 62,
   "outputs": [],
   "source": [
    "bond.loc[\"Dr. No\", [\"Box Office\", \"Budget\", \"Bond Actor Salary\"]] = [448800000, 7000000, 600000]"
   ],
   "metadata": {
    "collapsed": false,
    "pycharm": {
     "name": "#%%\n"
    }
   }
  },
  {
   "cell_type": "code",
   "execution_count": 63,
   "outputs": [
    {
     "data": {
      "text/plain": "Box Office           448800000.0\nBudget                 7000000.0\nBond Actor Salary       600000.0\nName: Dr. No, dtype: object"
     },
     "execution_count": 63,
     "metadata": {},
     "output_type": "execute_result"
    }
   ],
   "source": [
    "bond.loc[\"Dr. No\", [\"Box Office\", \"Budget\", \"Bond Actor Salary\"]]"
   ],
   "metadata": {
    "collapsed": false,
    "pycharm": {
     "name": "#%%\n"
    }
   }
  },
  {
   "cell_type": "markdown",
   "source": [
    "# Set Multiple Values in DataFrame"
   ],
   "metadata": {
    "collapsed": false,
    "pycharm": {
     "name": "#%% md\n"
    }
   }
  },
  {
   "cell_type": "code",
   "execution_count": 64,
   "outputs": [
    {
     "data": {
      "text/plain": "                      Year           Actor         Director  Box Office  \\\nFilm                                                                      \nA View to a Kill      1985     Roger Moore        John Glen       275.2   \nCasino Royale         2006    Daniel Craig  Martin Campbell       581.5   \nCasino Royale         1967     David Niven       Ken Hughes       315.0   \nDiamonds Are Forever  1971    Sean Connery     Guy Hamilton       442.5   \nDie Another Day       2002  Pierce Brosnan     Lee Tamahori       465.4   \n\n                      Budget  Bond Actor Salary  \nFilm                                             \nA View to a Kill        54.5                9.1  \nCasino Royale          145.3                3.3  \nCasino Royale           85.0                NaN  \nDiamonds Are Forever    34.7                5.8  \nDie Another Day        154.2               17.9  ",
      "text/html": "<div>\n<style scoped>\n    .dataframe tbody tr th:only-of-type {\n        vertical-align: middle;\n    }\n\n    .dataframe tbody tr th {\n        vertical-align: top;\n    }\n\n    .dataframe thead th {\n        text-align: right;\n    }\n</style>\n<table border=\"1\" class=\"dataframe\">\n  <thead>\n    <tr style=\"text-align: right;\">\n      <th></th>\n      <th>Year</th>\n      <th>Actor</th>\n      <th>Director</th>\n      <th>Box Office</th>\n      <th>Budget</th>\n      <th>Bond Actor Salary</th>\n    </tr>\n    <tr>\n      <th>Film</th>\n      <th></th>\n      <th></th>\n      <th></th>\n      <th></th>\n      <th></th>\n      <th></th>\n    </tr>\n  </thead>\n  <tbody>\n    <tr>\n      <th>A View to a Kill</th>\n      <td>1985</td>\n      <td>Roger Moore</td>\n      <td>John Glen</td>\n      <td>275.2</td>\n      <td>54.5</td>\n      <td>9.1</td>\n    </tr>\n    <tr>\n      <th>Casino Royale</th>\n      <td>2006</td>\n      <td>Daniel Craig</td>\n      <td>Martin Campbell</td>\n      <td>581.5</td>\n      <td>145.3</td>\n      <td>3.3</td>\n    </tr>\n    <tr>\n      <th>Casino Royale</th>\n      <td>1967</td>\n      <td>David Niven</td>\n      <td>Ken Hughes</td>\n      <td>315.0</td>\n      <td>85.0</td>\n      <td>NaN</td>\n    </tr>\n    <tr>\n      <th>Diamonds Are Forever</th>\n      <td>1971</td>\n      <td>Sean Connery</td>\n      <td>Guy Hamilton</td>\n      <td>442.5</td>\n      <td>34.7</td>\n      <td>5.8</td>\n    </tr>\n    <tr>\n      <th>Die Another Day</th>\n      <td>2002</td>\n      <td>Pierce Brosnan</td>\n      <td>Lee Tamahori</td>\n      <td>465.4</td>\n      <td>154.2</td>\n      <td>17.9</td>\n    </tr>\n  </tbody>\n</table>\n</div>"
     },
     "execution_count": 64,
     "metadata": {},
     "output_type": "execute_result"
    }
   ],
   "source": [
    "bond = pd.read_csv(\"jamesbond.csv\", index_col=\"Film\")\n",
    "bond.sort_index(inplace=True)\n",
    "bond.head()"
   ],
   "metadata": {
    "collapsed": false,
    "pycharm": {
     "name": "#%%\n"
    }
   }
  },
  {
   "cell_type": "code",
   "execution_count": 65,
   "outputs": [],
   "source": [
    "# I want to change Sean Connery to Sir Sean Connery\n",
    "actor_is_sean_connery = bond[\"Actor\"] == \"Sean Connery\""
   ],
   "metadata": {
    "collapsed": false,
    "pycharm": {
     "name": "#%%\n"
    }
   }
  },
  {
   "cell_type": "code",
   "execution_count": 66,
   "outputs": [],
   "source": [
    "bond.loc[actor_is_sean_connery, \"Actor\"] = \"Sir Sean Connery\""
   ],
   "metadata": {
    "collapsed": false,
    "pycharm": {
     "name": "#%%\n"
    }
   }
  },
  {
   "cell_type": "code",
   "execution_count": 67,
   "outputs": [
    {
     "data": {
      "text/plain": "                                 Year             Actor            Director  \\\nFilm                                                                          \nA View to a Kill                 1985       Roger Moore           John Glen   \nCasino Royale                    2006      Daniel Craig     Martin Campbell   \nCasino Royale                    1967       David Niven          Ken Hughes   \nDiamonds Are Forever             1971  Sir Sean Connery        Guy Hamilton   \nDie Another Day                  2002    Pierce Brosnan        Lee Tamahori   \nDr. No                           1962  Sir Sean Connery       Terence Young   \nFor Your Eyes Only               1981       Roger Moore           John Glen   \nFrom Russia with Love            1963  Sir Sean Connery       Terence Young   \nGoldenEye                        1995    Pierce Brosnan     Martin Campbell   \nGoldfinger                       1964  Sir Sean Connery        Guy Hamilton   \nLicence to Kill                  1989    Timothy Dalton           John Glen   \nLive and Let Die                 1973       Roger Moore        Guy Hamilton   \nMoonraker                        1979       Roger Moore       Lewis Gilbert   \nNever Say Never Again            1983  Sir Sean Connery      Irvin Kershner   \nOctopussy                        1983       Roger Moore           John Glen   \nOn Her Majesty's Secret Service  1969    George Lazenby       Peter R. Hunt   \nQuantum of Solace                2008      Daniel Craig        Marc Forster   \nSkyfall                          2012      Daniel Craig          Sam Mendes   \nSpectre                          2015      Daniel Craig          Sam Mendes   \nThe Living Daylights             1987    Timothy Dalton           John Glen   \nThe Man with the Golden Gun      1974       Roger Moore        Guy Hamilton   \nThe Spy Who Loved Me             1977       Roger Moore       Lewis Gilbert   \nThe World Is Not Enough          1999    Pierce Brosnan       Michael Apted   \nThunderball                      1965  Sir Sean Connery       Terence Young   \nTomorrow Never Dies              1997    Pierce Brosnan  Roger Spottiswoode   \nYou Only Live Twice              1967  Sir Sean Connery       Lewis Gilbert   \n\n                                 Box Office  Budget  Bond Actor Salary  \nFilm                                                                    \nA View to a Kill                      275.2    54.5                9.1  \nCasino Royale                         581.5   145.3                3.3  \nCasino Royale                         315.0    85.0                NaN  \nDiamonds Are Forever                  442.5    34.7                5.8  \nDie Another Day                       465.4   154.2               17.9  \nDr. No                                448.8     7.0                0.6  \nFor Your Eyes Only                    449.4    60.2                NaN  \nFrom Russia with Love                 543.8    12.6                1.6  \nGoldenEye                             518.5    76.9                5.1  \nGoldfinger                            820.4    18.6                3.2  \nLicence to Kill                       250.9    56.7                7.9  \nLive and Let Die                      460.3    30.8                NaN  \nMoonraker                             535.0    91.5                NaN  \nNever Say Never Again                 380.0    86.0                NaN  \nOctopussy                             373.8    53.9                7.8  \nOn Her Majesty's Secret Service       291.5    37.3                0.6  \nQuantum of Solace                     514.2   181.4                8.1  \nSkyfall                               943.5   170.2               14.5  \nSpectre                               726.7   206.3                NaN  \nThe Living Daylights                  313.5    68.8                5.2  \nThe Man with the Golden Gun           334.0    27.7                NaN  \nThe Spy Who Loved Me                  533.0    45.1                NaN  \nThe World Is Not Enough               439.5   158.3               13.5  \nThunderball                           848.1    41.9                4.7  \nTomorrow Never Dies                   463.2   133.9               10.0  \nYou Only Live Twice                   514.2    59.9                4.4  ",
      "text/html": "<div>\n<style scoped>\n    .dataframe tbody tr th:only-of-type {\n        vertical-align: middle;\n    }\n\n    .dataframe tbody tr th {\n        vertical-align: top;\n    }\n\n    .dataframe thead th {\n        text-align: right;\n    }\n</style>\n<table border=\"1\" class=\"dataframe\">\n  <thead>\n    <tr style=\"text-align: right;\">\n      <th></th>\n      <th>Year</th>\n      <th>Actor</th>\n      <th>Director</th>\n      <th>Box Office</th>\n      <th>Budget</th>\n      <th>Bond Actor Salary</th>\n    </tr>\n    <tr>\n      <th>Film</th>\n      <th></th>\n      <th></th>\n      <th></th>\n      <th></th>\n      <th></th>\n      <th></th>\n    </tr>\n  </thead>\n  <tbody>\n    <tr>\n      <th>A View to a Kill</th>\n      <td>1985</td>\n      <td>Roger Moore</td>\n      <td>John Glen</td>\n      <td>275.2</td>\n      <td>54.5</td>\n      <td>9.1</td>\n    </tr>\n    <tr>\n      <th>Casino Royale</th>\n      <td>2006</td>\n      <td>Daniel Craig</td>\n      <td>Martin Campbell</td>\n      <td>581.5</td>\n      <td>145.3</td>\n      <td>3.3</td>\n    </tr>\n    <tr>\n      <th>Casino Royale</th>\n      <td>1967</td>\n      <td>David Niven</td>\n      <td>Ken Hughes</td>\n      <td>315.0</td>\n      <td>85.0</td>\n      <td>NaN</td>\n    </tr>\n    <tr>\n      <th>Diamonds Are Forever</th>\n      <td>1971</td>\n      <td>Sir Sean Connery</td>\n      <td>Guy Hamilton</td>\n      <td>442.5</td>\n      <td>34.7</td>\n      <td>5.8</td>\n    </tr>\n    <tr>\n      <th>Die Another Day</th>\n      <td>2002</td>\n      <td>Pierce Brosnan</td>\n      <td>Lee Tamahori</td>\n      <td>465.4</td>\n      <td>154.2</td>\n      <td>17.9</td>\n    </tr>\n    <tr>\n      <th>Dr. No</th>\n      <td>1962</td>\n      <td>Sir Sean Connery</td>\n      <td>Terence Young</td>\n      <td>448.8</td>\n      <td>7.0</td>\n      <td>0.6</td>\n    </tr>\n    <tr>\n      <th>For Your Eyes Only</th>\n      <td>1981</td>\n      <td>Roger Moore</td>\n      <td>John Glen</td>\n      <td>449.4</td>\n      <td>60.2</td>\n      <td>NaN</td>\n    </tr>\n    <tr>\n      <th>From Russia with Love</th>\n      <td>1963</td>\n      <td>Sir Sean Connery</td>\n      <td>Terence Young</td>\n      <td>543.8</td>\n      <td>12.6</td>\n      <td>1.6</td>\n    </tr>\n    <tr>\n      <th>GoldenEye</th>\n      <td>1995</td>\n      <td>Pierce Brosnan</td>\n      <td>Martin Campbell</td>\n      <td>518.5</td>\n      <td>76.9</td>\n      <td>5.1</td>\n    </tr>\n    <tr>\n      <th>Goldfinger</th>\n      <td>1964</td>\n      <td>Sir Sean Connery</td>\n      <td>Guy Hamilton</td>\n      <td>820.4</td>\n      <td>18.6</td>\n      <td>3.2</td>\n    </tr>\n    <tr>\n      <th>Licence to Kill</th>\n      <td>1989</td>\n      <td>Timothy Dalton</td>\n      <td>John Glen</td>\n      <td>250.9</td>\n      <td>56.7</td>\n      <td>7.9</td>\n    </tr>\n    <tr>\n      <th>Live and Let Die</th>\n      <td>1973</td>\n      <td>Roger Moore</td>\n      <td>Guy Hamilton</td>\n      <td>460.3</td>\n      <td>30.8</td>\n      <td>NaN</td>\n    </tr>\n    <tr>\n      <th>Moonraker</th>\n      <td>1979</td>\n      <td>Roger Moore</td>\n      <td>Lewis Gilbert</td>\n      <td>535.0</td>\n      <td>91.5</td>\n      <td>NaN</td>\n    </tr>\n    <tr>\n      <th>Never Say Never Again</th>\n      <td>1983</td>\n      <td>Sir Sean Connery</td>\n      <td>Irvin Kershner</td>\n      <td>380.0</td>\n      <td>86.0</td>\n      <td>NaN</td>\n    </tr>\n    <tr>\n      <th>Octopussy</th>\n      <td>1983</td>\n      <td>Roger Moore</td>\n      <td>John Glen</td>\n      <td>373.8</td>\n      <td>53.9</td>\n      <td>7.8</td>\n    </tr>\n    <tr>\n      <th>On Her Majesty's Secret Service</th>\n      <td>1969</td>\n      <td>George Lazenby</td>\n      <td>Peter R. Hunt</td>\n      <td>291.5</td>\n      <td>37.3</td>\n      <td>0.6</td>\n    </tr>\n    <tr>\n      <th>Quantum of Solace</th>\n      <td>2008</td>\n      <td>Daniel Craig</td>\n      <td>Marc Forster</td>\n      <td>514.2</td>\n      <td>181.4</td>\n      <td>8.1</td>\n    </tr>\n    <tr>\n      <th>Skyfall</th>\n      <td>2012</td>\n      <td>Daniel Craig</td>\n      <td>Sam Mendes</td>\n      <td>943.5</td>\n      <td>170.2</td>\n      <td>14.5</td>\n    </tr>\n    <tr>\n      <th>Spectre</th>\n      <td>2015</td>\n      <td>Daniel Craig</td>\n      <td>Sam Mendes</td>\n      <td>726.7</td>\n      <td>206.3</td>\n      <td>NaN</td>\n    </tr>\n    <tr>\n      <th>The Living Daylights</th>\n      <td>1987</td>\n      <td>Timothy Dalton</td>\n      <td>John Glen</td>\n      <td>313.5</td>\n      <td>68.8</td>\n      <td>5.2</td>\n    </tr>\n    <tr>\n      <th>The Man with the Golden Gun</th>\n      <td>1974</td>\n      <td>Roger Moore</td>\n      <td>Guy Hamilton</td>\n      <td>334.0</td>\n      <td>27.7</td>\n      <td>NaN</td>\n    </tr>\n    <tr>\n      <th>The Spy Who Loved Me</th>\n      <td>1977</td>\n      <td>Roger Moore</td>\n      <td>Lewis Gilbert</td>\n      <td>533.0</td>\n      <td>45.1</td>\n      <td>NaN</td>\n    </tr>\n    <tr>\n      <th>The World Is Not Enough</th>\n      <td>1999</td>\n      <td>Pierce Brosnan</td>\n      <td>Michael Apted</td>\n      <td>439.5</td>\n      <td>158.3</td>\n      <td>13.5</td>\n    </tr>\n    <tr>\n      <th>Thunderball</th>\n      <td>1965</td>\n      <td>Sir Sean Connery</td>\n      <td>Terence Young</td>\n      <td>848.1</td>\n      <td>41.9</td>\n      <td>4.7</td>\n    </tr>\n    <tr>\n      <th>Tomorrow Never Dies</th>\n      <td>1997</td>\n      <td>Pierce Brosnan</td>\n      <td>Roger Spottiswoode</td>\n      <td>463.2</td>\n      <td>133.9</td>\n      <td>10.0</td>\n    </tr>\n    <tr>\n      <th>You Only Live Twice</th>\n      <td>1967</td>\n      <td>Sir Sean Connery</td>\n      <td>Lewis Gilbert</td>\n      <td>514.2</td>\n      <td>59.9</td>\n      <td>4.4</td>\n    </tr>\n  </tbody>\n</table>\n</div>"
     },
     "execution_count": 67,
     "metadata": {},
     "output_type": "execute_result"
    }
   ],
   "source": [
    "bond"
   ],
   "metadata": {
    "collapsed": false,
    "pycharm": {
     "name": "#%%\n"
    }
   }
  },
  {
   "cell_type": "markdown",
   "source": [
    "# Rename Index Labels or Column Names in a `DataFrame`"
   ],
   "metadata": {
    "collapsed": false,
    "pycharm": {
     "name": "#%% md\n"
    }
   }
  },
  {
   "cell_type": "code",
   "execution_count": 68,
   "outputs": [],
   "source": [
    "bond = pd.read_csv(\"jamesbond.csv\", index_col=\"Film\")\n",
    "bond.sort_index(inplace=True)"
   ],
   "metadata": {
    "collapsed": false,
    "pycharm": {
     "name": "#%%\n"
    }
   }
  },
  {
   "cell_type": "code",
   "execution_count": 69,
   "outputs": [
    {
     "data": {
      "text/plain": "                                 Year           Actor            Director  \\\nFilm                                                                        \nA View to a Kill                 1985     Roger Moore           John Glen   \nCasino Royale                    2006    Daniel Craig     Martin Campbell   \nCasino Royale                    1967     David Niven          Ken Hughes   \nDiamonds Are Forever             1971    Sean Connery        Guy Hamilton   \nDie Another Day                  2002  Pierce Brosnan        Lee Tamahori   \nDr. No                           1962    Sean Connery       Terence Young   \nFor Your Eyes Only               1981     Roger Moore           John Glen   \nFrom Russia with Love            1963    Sean Connery       Terence Young   \nGolden Eye                       1995  Pierce Brosnan     Martin Campbell   \nGoldfinger                       1964    Sean Connery        Guy Hamilton   \nLicence to Kill                  1989  Timothy Dalton           John Glen   \nLive and Let Die                 1973     Roger Moore        Guy Hamilton   \nMoonraker                        1979     Roger Moore       Lewis Gilbert   \nNever Say Never Again            1983    Sean Connery      Irvin Kershner   \nOctopussy                        1983     Roger Moore           John Glen   \nOn Her Majesty's Secret Service  1969  George Lazenby       Peter R. Hunt   \nQuantum of Solace                2008    Daniel Craig        Marc Forster   \nSkyfall                          2012    Daniel Craig          Sam Mendes   \nSpectre                          2015    Daniel Craig          Sam Mendes   \nThe Living Daylights             1987  Timothy Dalton           John Glen   \nThe Man with the Golden Gun      1974     Roger Moore        Guy Hamilton   \nThe Spy Who Loved Me             1977     Roger Moore       Lewis Gilbert   \nThe World Is Not Enough          1999  Pierce Brosnan       Michael Apted   \nThunderball                      1965    Sean Connery       Terence Young   \nTomorrow Never Dies              1997  Pierce Brosnan  Roger Spottiswoode   \nYou Only Live Twice              1967    Sean Connery       Lewis Gilbert   \n\n                                 Box Office  Budget  Bond Actor Salary  \nFilm                                                                    \nA View to a Kill                      275.2    54.5                9.1  \nCasino Royale                         581.5   145.3                3.3  \nCasino Royale                         315.0    85.0                NaN  \nDiamonds Are Forever                  442.5    34.7                5.8  \nDie Another Day                       465.4   154.2               17.9  \nDr. No                                448.8     7.0                0.6  \nFor Your Eyes Only                    449.4    60.2                NaN  \nFrom Russia with Love                 543.8    12.6                1.6  \nGolden Eye                            518.5    76.9                5.1  \nGoldfinger                            820.4    18.6                3.2  \nLicence to Kill                       250.9    56.7                7.9  \nLive and Let Die                      460.3    30.8                NaN  \nMoonraker                             535.0    91.5                NaN  \nNever Say Never Again                 380.0    86.0                NaN  \nOctopussy                             373.8    53.9                7.8  \nOn Her Majesty's Secret Service       291.5    37.3                0.6  \nQuantum of Solace                     514.2   181.4                8.1  \nSkyfall                               943.5   170.2               14.5  \nSpectre                               726.7   206.3                NaN  \nThe Living Daylights                  313.5    68.8                5.2  \nThe Man with the Golden Gun           334.0    27.7                NaN  \nThe Spy Who Loved Me                  533.0    45.1                NaN  \nThe World Is Not Enough               439.5   158.3               13.5  \nThunderball                           848.1    41.9                4.7  \nTomorrow Never Dies                   463.2   133.9               10.0  \nYou Only Live Twice                   514.2    59.9                4.4  ",
      "text/html": "<div>\n<style scoped>\n    .dataframe tbody tr th:only-of-type {\n        vertical-align: middle;\n    }\n\n    .dataframe tbody tr th {\n        vertical-align: top;\n    }\n\n    .dataframe thead th {\n        text-align: right;\n    }\n</style>\n<table border=\"1\" class=\"dataframe\">\n  <thead>\n    <tr style=\"text-align: right;\">\n      <th></th>\n      <th>Year</th>\n      <th>Actor</th>\n      <th>Director</th>\n      <th>Box Office</th>\n      <th>Budget</th>\n      <th>Bond Actor Salary</th>\n    </tr>\n    <tr>\n      <th>Film</th>\n      <th></th>\n      <th></th>\n      <th></th>\n      <th></th>\n      <th></th>\n      <th></th>\n    </tr>\n  </thead>\n  <tbody>\n    <tr>\n      <th>A View to a Kill</th>\n      <td>1985</td>\n      <td>Roger Moore</td>\n      <td>John Glen</td>\n      <td>275.2</td>\n      <td>54.5</td>\n      <td>9.1</td>\n    </tr>\n    <tr>\n      <th>Casino Royale</th>\n      <td>2006</td>\n      <td>Daniel Craig</td>\n      <td>Martin Campbell</td>\n      <td>581.5</td>\n      <td>145.3</td>\n      <td>3.3</td>\n    </tr>\n    <tr>\n      <th>Casino Royale</th>\n      <td>1967</td>\n      <td>David Niven</td>\n      <td>Ken Hughes</td>\n      <td>315.0</td>\n      <td>85.0</td>\n      <td>NaN</td>\n    </tr>\n    <tr>\n      <th>Diamonds Are Forever</th>\n      <td>1971</td>\n      <td>Sean Connery</td>\n      <td>Guy Hamilton</td>\n      <td>442.5</td>\n      <td>34.7</td>\n      <td>5.8</td>\n    </tr>\n    <tr>\n      <th>Die Another Day</th>\n      <td>2002</td>\n      <td>Pierce Brosnan</td>\n      <td>Lee Tamahori</td>\n      <td>465.4</td>\n      <td>154.2</td>\n      <td>17.9</td>\n    </tr>\n    <tr>\n      <th>Dr. No</th>\n      <td>1962</td>\n      <td>Sean Connery</td>\n      <td>Terence Young</td>\n      <td>448.8</td>\n      <td>7.0</td>\n      <td>0.6</td>\n    </tr>\n    <tr>\n      <th>For Your Eyes Only</th>\n      <td>1981</td>\n      <td>Roger Moore</td>\n      <td>John Glen</td>\n      <td>449.4</td>\n      <td>60.2</td>\n      <td>NaN</td>\n    </tr>\n    <tr>\n      <th>From Russia with Love</th>\n      <td>1963</td>\n      <td>Sean Connery</td>\n      <td>Terence Young</td>\n      <td>543.8</td>\n      <td>12.6</td>\n      <td>1.6</td>\n    </tr>\n    <tr>\n      <th>Golden Eye</th>\n      <td>1995</td>\n      <td>Pierce Brosnan</td>\n      <td>Martin Campbell</td>\n      <td>518.5</td>\n      <td>76.9</td>\n      <td>5.1</td>\n    </tr>\n    <tr>\n      <th>Goldfinger</th>\n      <td>1964</td>\n      <td>Sean Connery</td>\n      <td>Guy Hamilton</td>\n      <td>820.4</td>\n      <td>18.6</td>\n      <td>3.2</td>\n    </tr>\n    <tr>\n      <th>Licence to Kill</th>\n      <td>1989</td>\n      <td>Timothy Dalton</td>\n      <td>John Glen</td>\n      <td>250.9</td>\n      <td>56.7</td>\n      <td>7.9</td>\n    </tr>\n    <tr>\n      <th>Live and Let Die</th>\n      <td>1973</td>\n      <td>Roger Moore</td>\n      <td>Guy Hamilton</td>\n      <td>460.3</td>\n      <td>30.8</td>\n      <td>NaN</td>\n    </tr>\n    <tr>\n      <th>Moonraker</th>\n      <td>1979</td>\n      <td>Roger Moore</td>\n      <td>Lewis Gilbert</td>\n      <td>535.0</td>\n      <td>91.5</td>\n      <td>NaN</td>\n    </tr>\n    <tr>\n      <th>Never Say Never Again</th>\n      <td>1983</td>\n      <td>Sean Connery</td>\n      <td>Irvin Kershner</td>\n      <td>380.0</td>\n      <td>86.0</td>\n      <td>NaN</td>\n    </tr>\n    <tr>\n      <th>Octopussy</th>\n      <td>1983</td>\n      <td>Roger Moore</td>\n      <td>John Glen</td>\n      <td>373.8</td>\n      <td>53.9</td>\n      <td>7.8</td>\n    </tr>\n    <tr>\n      <th>On Her Majesty's Secret Service</th>\n      <td>1969</td>\n      <td>George Lazenby</td>\n      <td>Peter R. Hunt</td>\n      <td>291.5</td>\n      <td>37.3</td>\n      <td>0.6</td>\n    </tr>\n    <tr>\n      <th>Quantum of Solace</th>\n      <td>2008</td>\n      <td>Daniel Craig</td>\n      <td>Marc Forster</td>\n      <td>514.2</td>\n      <td>181.4</td>\n      <td>8.1</td>\n    </tr>\n    <tr>\n      <th>Skyfall</th>\n      <td>2012</td>\n      <td>Daniel Craig</td>\n      <td>Sam Mendes</td>\n      <td>943.5</td>\n      <td>170.2</td>\n      <td>14.5</td>\n    </tr>\n    <tr>\n      <th>Spectre</th>\n      <td>2015</td>\n      <td>Daniel Craig</td>\n      <td>Sam Mendes</td>\n      <td>726.7</td>\n      <td>206.3</td>\n      <td>NaN</td>\n    </tr>\n    <tr>\n      <th>The Living Daylights</th>\n      <td>1987</td>\n      <td>Timothy Dalton</td>\n      <td>John Glen</td>\n      <td>313.5</td>\n      <td>68.8</td>\n      <td>5.2</td>\n    </tr>\n    <tr>\n      <th>The Man with the Golden Gun</th>\n      <td>1974</td>\n      <td>Roger Moore</td>\n      <td>Guy Hamilton</td>\n      <td>334.0</td>\n      <td>27.7</td>\n      <td>NaN</td>\n    </tr>\n    <tr>\n      <th>The Spy Who Loved Me</th>\n      <td>1977</td>\n      <td>Roger Moore</td>\n      <td>Lewis Gilbert</td>\n      <td>533.0</td>\n      <td>45.1</td>\n      <td>NaN</td>\n    </tr>\n    <tr>\n      <th>The World Is Not Enough</th>\n      <td>1999</td>\n      <td>Pierce Brosnan</td>\n      <td>Michael Apted</td>\n      <td>439.5</td>\n      <td>158.3</td>\n      <td>13.5</td>\n    </tr>\n    <tr>\n      <th>Thunderball</th>\n      <td>1965</td>\n      <td>Sean Connery</td>\n      <td>Terence Young</td>\n      <td>848.1</td>\n      <td>41.9</td>\n      <td>4.7</td>\n    </tr>\n    <tr>\n      <th>Tomorrow Never Dies</th>\n      <td>1997</td>\n      <td>Pierce Brosnan</td>\n      <td>Roger Spottiswoode</td>\n      <td>463.2</td>\n      <td>133.9</td>\n      <td>10.0</td>\n    </tr>\n    <tr>\n      <th>You Only Live Twice</th>\n      <td>1967</td>\n      <td>Sean Connery</td>\n      <td>Lewis Gilbert</td>\n      <td>514.2</td>\n      <td>59.9</td>\n      <td>4.4</td>\n    </tr>\n  </tbody>\n</table>\n</div>"
     },
     "execution_count": 69,
     "metadata": {},
     "output_type": "execute_result"
    }
   ],
   "source": [
    "bond.rename(index={\"GoldenEye\": \"Golden Eye\"})"
   ],
   "metadata": {
    "collapsed": false,
    "pycharm": {
     "name": "#%%\n"
    }
   }
  },
  {
   "cell_type": "code",
   "execution_count": 70,
   "outputs": [
    {
     "data": {
      "text/plain": "                                 Release Date           Actor  \\\nFilm                                                            \nA View to a Kill                         1985     Roger Moore   \nCasino Royale                            2006    Daniel Craig   \nCasino Royale                            1967     David Niven   \nDiamonds Are Forever                     1971    Sean Connery   \nDie Another Day                          2002  Pierce Brosnan   \nDr. No                                   1962    Sean Connery   \nFor Your Eyes Only                       1981     Roger Moore   \nFrom Russia with Love                    1963    Sean Connery   \nGoldenEye                                1995  Pierce Brosnan   \nGoldfinger                               1964    Sean Connery   \nLicence to Kill                          1989  Timothy Dalton   \nLive and Let Die                         1973     Roger Moore   \nMoonraker                                1979     Roger Moore   \nNever Say Never Again                    1983    Sean Connery   \nOctopussy                                1983     Roger Moore   \nOn Her Majesty's Secret Service          1969  George Lazenby   \nQuantum of Solace                        2008    Daniel Craig   \nSkyfall                                  2012    Daniel Craig   \nSpectre                                  2015    Daniel Craig   \nThe Living Daylights                     1987  Timothy Dalton   \nThe Man with the Golden Gun              1974     Roger Moore   \nThe Spy Who Loved Me                     1977     Roger Moore   \nThe World Is Not Enough                  1999  Pierce Brosnan   \nThunderball                              1965    Sean Connery   \nTomorrow Never Dies                      1997  Pierce Brosnan   \nYou Only Live Twice                      1967    Sean Connery   \n\n                                           Director  Revenue  Budget  \\\nFilm                                                                   \nA View to a Kill                          John Glen    275.2    54.5   \nCasino Royale                       Martin Campbell    581.5   145.3   \nCasino Royale                            Ken Hughes    315.0    85.0   \nDiamonds Are Forever                   Guy Hamilton    442.5    34.7   \nDie Another Day                        Lee Tamahori    465.4   154.2   \nDr. No                                Terence Young    448.8     7.0   \nFor Your Eyes Only                        John Glen    449.4    60.2   \nFrom Russia with Love                 Terence Young    543.8    12.6   \nGoldenEye                           Martin Campbell    518.5    76.9   \nGoldfinger                             Guy Hamilton    820.4    18.6   \nLicence to Kill                           John Glen    250.9    56.7   \nLive and Let Die                       Guy Hamilton    460.3    30.8   \nMoonraker                             Lewis Gilbert    535.0    91.5   \nNever Say Never Again                Irvin Kershner    380.0    86.0   \nOctopussy                                 John Glen    373.8    53.9   \nOn Her Majesty's Secret Service       Peter R. Hunt    291.5    37.3   \nQuantum of Solace                      Marc Forster    514.2   181.4   \nSkyfall                                  Sam Mendes    943.5   170.2   \nSpectre                                  Sam Mendes    726.7   206.3   \nThe Living Daylights                      John Glen    313.5    68.8   \nThe Man with the Golden Gun            Guy Hamilton    334.0    27.7   \nThe Spy Who Loved Me                  Lewis Gilbert    533.0    45.1   \nThe World Is Not Enough               Michael Apted    439.5   158.3   \nThunderball                           Terence Young    848.1    41.9   \nTomorrow Never Dies              Roger Spottiswoode    463.2   133.9   \nYou Only Live Twice                   Lewis Gilbert    514.2    59.9   \n\n                                 Bond Actor Salary  \nFilm                                                \nA View to a Kill                               9.1  \nCasino Royale                                  3.3  \nCasino Royale                                  NaN  \nDiamonds Are Forever                           5.8  \nDie Another Day                               17.9  \nDr. No                                         0.6  \nFor Your Eyes Only                             NaN  \nFrom Russia with Love                          1.6  \nGoldenEye                                      5.1  \nGoldfinger                                     3.2  \nLicence to Kill                                7.9  \nLive and Let Die                               NaN  \nMoonraker                                      NaN  \nNever Say Never Again                          NaN  \nOctopussy                                      7.8  \nOn Her Majesty's Secret Service                0.6  \nQuantum of Solace                              8.1  \nSkyfall                                       14.5  \nSpectre                                        NaN  \nThe Living Daylights                           5.2  \nThe Man with the Golden Gun                    NaN  \nThe Spy Who Loved Me                           NaN  \nThe World Is Not Enough                       13.5  \nThunderball                                    4.7  \nTomorrow Never Dies                           10.0  \nYou Only Live Twice                            4.4  ",
      "text/html": "<div>\n<style scoped>\n    .dataframe tbody tr th:only-of-type {\n        vertical-align: middle;\n    }\n\n    .dataframe tbody tr th {\n        vertical-align: top;\n    }\n\n    .dataframe thead th {\n        text-align: right;\n    }\n</style>\n<table border=\"1\" class=\"dataframe\">\n  <thead>\n    <tr style=\"text-align: right;\">\n      <th></th>\n      <th>Release Date</th>\n      <th>Actor</th>\n      <th>Director</th>\n      <th>Revenue</th>\n      <th>Budget</th>\n      <th>Bond Actor Salary</th>\n    </tr>\n    <tr>\n      <th>Film</th>\n      <th></th>\n      <th></th>\n      <th></th>\n      <th></th>\n      <th></th>\n      <th></th>\n    </tr>\n  </thead>\n  <tbody>\n    <tr>\n      <th>A View to a Kill</th>\n      <td>1985</td>\n      <td>Roger Moore</td>\n      <td>John Glen</td>\n      <td>275.2</td>\n      <td>54.5</td>\n      <td>9.1</td>\n    </tr>\n    <tr>\n      <th>Casino Royale</th>\n      <td>2006</td>\n      <td>Daniel Craig</td>\n      <td>Martin Campbell</td>\n      <td>581.5</td>\n      <td>145.3</td>\n      <td>3.3</td>\n    </tr>\n    <tr>\n      <th>Casino Royale</th>\n      <td>1967</td>\n      <td>David Niven</td>\n      <td>Ken Hughes</td>\n      <td>315.0</td>\n      <td>85.0</td>\n      <td>NaN</td>\n    </tr>\n    <tr>\n      <th>Diamonds Are Forever</th>\n      <td>1971</td>\n      <td>Sean Connery</td>\n      <td>Guy Hamilton</td>\n      <td>442.5</td>\n      <td>34.7</td>\n      <td>5.8</td>\n    </tr>\n    <tr>\n      <th>Die Another Day</th>\n      <td>2002</td>\n      <td>Pierce Brosnan</td>\n      <td>Lee Tamahori</td>\n      <td>465.4</td>\n      <td>154.2</td>\n      <td>17.9</td>\n    </tr>\n    <tr>\n      <th>Dr. No</th>\n      <td>1962</td>\n      <td>Sean Connery</td>\n      <td>Terence Young</td>\n      <td>448.8</td>\n      <td>7.0</td>\n      <td>0.6</td>\n    </tr>\n    <tr>\n      <th>For Your Eyes Only</th>\n      <td>1981</td>\n      <td>Roger Moore</td>\n      <td>John Glen</td>\n      <td>449.4</td>\n      <td>60.2</td>\n      <td>NaN</td>\n    </tr>\n    <tr>\n      <th>From Russia with Love</th>\n      <td>1963</td>\n      <td>Sean Connery</td>\n      <td>Terence Young</td>\n      <td>543.8</td>\n      <td>12.6</td>\n      <td>1.6</td>\n    </tr>\n    <tr>\n      <th>GoldenEye</th>\n      <td>1995</td>\n      <td>Pierce Brosnan</td>\n      <td>Martin Campbell</td>\n      <td>518.5</td>\n      <td>76.9</td>\n      <td>5.1</td>\n    </tr>\n    <tr>\n      <th>Goldfinger</th>\n      <td>1964</td>\n      <td>Sean Connery</td>\n      <td>Guy Hamilton</td>\n      <td>820.4</td>\n      <td>18.6</td>\n      <td>3.2</td>\n    </tr>\n    <tr>\n      <th>Licence to Kill</th>\n      <td>1989</td>\n      <td>Timothy Dalton</td>\n      <td>John Glen</td>\n      <td>250.9</td>\n      <td>56.7</td>\n      <td>7.9</td>\n    </tr>\n    <tr>\n      <th>Live and Let Die</th>\n      <td>1973</td>\n      <td>Roger Moore</td>\n      <td>Guy Hamilton</td>\n      <td>460.3</td>\n      <td>30.8</td>\n      <td>NaN</td>\n    </tr>\n    <tr>\n      <th>Moonraker</th>\n      <td>1979</td>\n      <td>Roger Moore</td>\n      <td>Lewis Gilbert</td>\n      <td>535.0</td>\n      <td>91.5</td>\n      <td>NaN</td>\n    </tr>\n    <tr>\n      <th>Never Say Never Again</th>\n      <td>1983</td>\n      <td>Sean Connery</td>\n      <td>Irvin Kershner</td>\n      <td>380.0</td>\n      <td>86.0</td>\n      <td>NaN</td>\n    </tr>\n    <tr>\n      <th>Octopussy</th>\n      <td>1983</td>\n      <td>Roger Moore</td>\n      <td>John Glen</td>\n      <td>373.8</td>\n      <td>53.9</td>\n      <td>7.8</td>\n    </tr>\n    <tr>\n      <th>On Her Majesty's Secret Service</th>\n      <td>1969</td>\n      <td>George Lazenby</td>\n      <td>Peter R. Hunt</td>\n      <td>291.5</td>\n      <td>37.3</td>\n      <td>0.6</td>\n    </tr>\n    <tr>\n      <th>Quantum of Solace</th>\n      <td>2008</td>\n      <td>Daniel Craig</td>\n      <td>Marc Forster</td>\n      <td>514.2</td>\n      <td>181.4</td>\n      <td>8.1</td>\n    </tr>\n    <tr>\n      <th>Skyfall</th>\n      <td>2012</td>\n      <td>Daniel Craig</td>\n      <td>Sam Mendes</td>\n      <td>943.5</td>\n      <td>170.2</td>\n      <td>14.5</td>\n    </tr>\n    <tr>\n      <th>Spectre</th>\n      <td>2015</td>\n      <td>Daniel Craig</td>\n      <td>Sam Mendes</td>\n      <td>726.7</td>\n      <td>206.3</td>\n      <td>NaN</td>\n    </tr>\n    <tr>\n      <th>The Living Daylights</th>\n      <td>1987</td>\n      <td>Timothy Dalton</td>\n      <td>John Glen</td>\n      <td>313.5</td>\n      <td>68.8</td>\n      <td>5.2</td>\n    </tr>\n    <tr>\n      <th>The Man with the Golden Gun</th>\n      <td>1974</td>\n      <td>Roger Moore</td>\n      <td>Guy Hamilton</td>\n      <td>334.0</td>\n      <td>27.7</td>\n      <td>NaN</td>\n    </tr>\n    <tr>\n      <th>The Spy Who Loved Me</th>\n      <td>1977</td>\n      <td>Roger Moore</td>\n      <td>Lewis Gilbert</td>\n      <td>533.0</td>\n      <td>45.1</td>\n      <td>NaN</td>\n    </tr>\n    <tr>\n      <th>The World Is Not Enough</th>\n      <td>1999</td>\n      <td>Pierce Brosnan</td>\n      <td>Michael Apted</td>\n      <td>439.5</td>\n      <td>158.3</td>\n      <td>13.5</td>\n    </tr>\n    <tr>\n      <th>Thunderball</th>\n      <td>1965</td>\n      <td>Sean Connery</td>\n      <td>Terence Young</td>\n      <td>848.1</td>\n      <td>41.9</td>\n      <td>4.7</td>\n    </tr>\n    <tr>\n      <th>Tomorrow Never Dies</th>\n      <td>1997</td>\n      <td>Pierce Brosnan</td>\n      <td>Roger Spottiswoode</td>\n      <td>463.2</td>\n      <td>133.9</td>\n      <td>10.0</td>\n    </tr>\n    <tr>\n      <th>You Only Live Twice</th>\n      <td>1967</td>\n      <td>Sean Connery</td>\n      <td>Lewis Gilbert</td>\n      <td>514.2</td>\n      <td>59.9</td>\n      <td>4.4</td>\n    </tr>\n  </tbody>\n</table>\n</div>"
     },
     "execution_count": 70,
     "metadata": {},
     "output_type": "execute_result"
    }
   ],
   "source": [
    "bond.rename(columns={\"Year\": \"Release Date\", \"Box Office\": \"Revenue\"})"
   ],
   "metadata": {
    "collapsed": false,
    "pycharm": {
     "name": "#%%\n"
    }
   }
  },
  {
   "cell_type": "code",
   "execution_count": 71,
   "outputs": [
    {
     "data": {
      "text/plain": "Index(['Year', 'Actor', 'Director', 'Box Office', 'Budget',\n       'Bond Actor Salary'],\n      dtype='object')"
     },
     "execution_count": 71,
     "metadata": {},
     "output_type": "execute_result"
    }
   ],
   "source": [
    "bond.columns"
   ],
   "metadata": {
    "collapsed": false,
    "pycharm": {
     "name": "#%%\n"
    }
   }
  },
  {
   "cell_type": "code",
   "execution_count": 72,
   "outputs": [],
   "source": [
    "bond.columns = ['Release Date', 'Actor', 'Director', 'Revenue', 'Budget', 'Bond Actor Salary']"
   ],
   "metadata": {
    "collapsed": false,
    "pycharm": {
     "name": "#%%\n"
    }
   }
  },
  {
   "cell_type": "code",
   "execution_count": 73,
   "outputs": [
    {
     "data": {
      "text/plain": "                      Release Date           Actor         Director  Revenue  \\\nFilm                                                                           \nA View to a Kill              1985     Roger Moore        John Glen    275.2   \nCasino Royale                 2006    Daniel Craig  Martin Campbell    581.5   \nCasino Royale                 1967     David Niven       Ken Hughes    315.0   \nDiamonds Are Forever          1971    Sean Connery     Guy Hamilton    442.5   \nDie Another Day               2002  Pierce Brosnan     Lee Tamahori    465.4   \n\n                      Budget  Bond Actor Salary  \nFilm                                             \nA View to a Kill        54.5                9.1  \nCasino Royale          145.3                3.3  \nCasino Royale           85.0                NaN  \nDiamonds Are Forever    34.7                5.8  \nDie Another Day        154.2               17.9  ",
      "text/html": "<div>\n<style scoped>\n    .dataframe tbody tr th:only-of-type {\n        vertical-align: middle;\n    }\n\n    .dataframe tbody tr th {\n        vertical-align: top;\n    }\n\n    .dataframe thead th {\n        text-align: right;\n    }\n</style>\n<table border=\"1\" class=\"dataframe\">\n  <thead>\n    <tr style=\"text-align: right;\">\n      <th></th>\n      <th>Release Date</th>\n      <th>Actor</th>\n      <th>Director</th>\n      <th>Revenue</th>\n      <th>Budget</th>\n      <th>Bond Actor Salary</th>\n    </tr>\n    <tr>\n      <th>Film</th>\n      <th></th>\n      <th></th>\n      <th></th>\n      <th></th>\n      <th></th>\n      <th></th>\n    </tr>\n  </thead>\n  <tbody>\n    <tr>\n      <th>A View to a Kill</th>\n      <td>1985</td>\n      <td>Roger Moore</td>\n      <td>John Glen</td>\n      <td>275.2</td>\n      <td>54.5</td>\n      <td>9.1</td>\n    </tr>\n    <tr>\n      <th>Casino Royale</th>\n      <td>2006</td>\n      <td>Daniel Craig</td>\n      <td>Martin Campbell</td>\n      <td>581.5</td>\n      <td>145.3</td>\n      <td>3.3</td>\n    </tr>\n    <tr>\n      <th>Casino Royale</th>\n      <td>1967</td>\n      <td>David Niven</td>\n      <td>Ken Hughes</td>\n      <td>315.0</td>\n      <td>85.0</td>\n      <td>NaN</td>\n    </tr>\n    <tr>\n      <th>Diamonds Are Forever</th>\n      <td>1971</td>\n      <td>Sean Connery</td>\n      <td>Guy Hamilton</td>\n      <td>442.5</td>\n      <td>34.7</td>\n      <td>5.8</td>\n    </tr>\n    <tr>\n      <th>Die Another Day</th>\n      <td>2002</td>\n      <td>Pierce Brosnan</td>\n      <td>Lee Tamahori</td>\n      <td>465.4</td>\n      <td>154.2</td>\n      <td>17.9</td>\n    </tr>\n  </tbody>\n</table>\n</div>"
     },
     "execution_count": 73,
     "metadata": {},
     "output_type": "execute_result"
    }
   ],
   "source": [
    "bond.head()"
   ],
   "metadata": {
    "collapsed": false,
    "pycharm": {
     "name": "#%%\n"
    }
   }
  },
  {
   "cell_type": "markdown",
   "source": [
    "# Delete Rows or Columns from a `Dataframe`"
   ],
   "metadata": {
    "collapsed": false,
    "pycharm": {
     "name": "#%% md\n"
    }
   }
  },
  {
   "cell_type": "markdown",
   "source": [
    "## `drop()` method\n",
    "### Removing Rows"
   ],
   "metadata": {
    "collapsed": false,
    "pycharm": {
     "name": "#%% md\n"
    }
   }
  },
  {
   "cell_type": "code",
   "execution_count": 74,
   "outputs": [
    {
     "data": {
      "text/plain": "                      Year           Actor         Director  Box Office  \\\nFilm                                                                      \nA View to a Kill      1985     Roger Moore        John Glen       275.2   \nCasino Royale         2006    Daniel Craig  Martin Campbell       581.5   \nCasino Royale         1967     David Niven       Ken Hughes       315.0   \nDiamonds Are Forever  1971    Sean Connery     Guy Hamilton       442.5   \nDie Another Day       2002  Pierce Brosnan     Lee Tamahori       465.4   \n\n                      Budget  Bond Actor Salary  \nFilm                                             \nA View to a Kill        54.5                9.1  \nCasino Royale          145.3                3.3  \nCasino Royale           85.0                NaN  \nDiamonds Are Forever    34.7                5.8  \nDie Another Day        154.2               17.9  ",
      "text/html": "<div>\n<style scoped>\n    .dataframe tbody tr th:only-of-type {\n        vertical-align: middle;\n    }\n\n    .dataframe tbody tr th {\n        vertical-align: top;\n    }\n\n    .dataframe thead th {\n        text-align: right;\n    }\n</style>\n<table border=\"1\" class=\"dataframe\">\n  <thead>\n    <tr style=\"text-align: right;\">\n      <th></th>\n      <th>Year</th>\n      <th>Actor</th>\n      <th>Director</th>\n      <th>Box Office</th>\n      <th>Budget</th>\n      <th>Bond Actor Salary</th>\n    </tr>\n    <tr>\n      <th>Film</th>\n      <th></th>\n      <th></th>\n      <th></th>\n      <th></th>\n      <th></th>\n      <th></th>\n    </tr>\n  </thead>\n  <tbody>\n    <tr>\n      <th>A View to a Kill</th>\n      <td>1985</td>\n      <td>Roger Moore</td>\n      <td>John Glen</td>\n      <td>275.2</td>\n      <td>54.5</td>\n      <td>9.1</td>\n    </tr>\n    <tr>\n      <th>Casino Royale</th>\n      <td>2006</td>\n      <td>Daniel Craig</td>\n      <td>Martin Campbell</td>\n      <td>581.5</td>\n      <td>145.3</td>\n      <td>3.3</td>\n    </tr>\n    <tr>\n      <th>Casino Royale</th>\n      <td>1967</td>\n      <td>David Niven</td>\n      <td>Ken Hughes</td>\n      <td>315.0</td>\n      <td>85.0</td>\n      <td>NaN</td>\n    </tr>\n    <tr>\n      <th>Diamonds Are Forever</th>\n      <td>1971</td>\n      <td>Sean Connery</td>\n      <td>Guy Hamilton</td>\n      <td>442.5</td>\n      <td>34.7</td>\n      <td>5.8</td>\n    </tr>\n    <tr>\n      <th>Die Another Day</th>\n      <td>2002</td>\n      <td>Pierce Brosnan</td>\n      <td>Lee Tamahori</td>\n      <td>465.4</td>\n      <td>154.2</td>\n      <td>17.9</td>\n    </tr>\n  </tbody>\n</table>\n</div>"
     },
     "execution_count": 74,
     "metadata": {},
     "output_type": "execute_result"
    }
   ],
   "source": [
    "bond = pd.read_csv(\"jamesbond.csv\", index_col=\"Film\")\n",
    "bond.sort_index(inplace=True)\n",
    "bond.head()"
   ],
   "metadata": {
    "collapsed": false,
    "pycharm": {
     "name": "#%%\n"
    }
   }
  },
  {
   "cell_type": "code",
   "execution_count": 75,
   "outputs": [
    {
     "data": {
      "text/plain": "                                 Year           Actor            Director  \\\nFilm                                                                        \nCasino Royale                    2006    Daniel Craig     Martin Campbell   \nCasino Royale                    1967     David Niven          Ken Hughes   \nDiamonds Are Forever             1971    Sean Connery        Guy Hamilton   \nDie Another Day                  2002  Pierce Brosnan        Lee Tamahori   \nDr. No                           1962    Sean Connery       Terence Young   \nFor Your Eyes Only               1981     Roger Moore           John Glen   \nFrom Russia with Love            1963    Sean Connery       Terence Young   \nGoldenEye                        1995  Pierce Brosnan     Martin Campbell   \nGoldfinger                       1964    Sean Connery        Guy Hamilton   \nLicence to Kill                  1989  Timothy Dalton           John Glen   \nLive and Let Die                 1973     Roger Moore        Guy Hamilton   \nMoonraker                        1979     Roger Moore       Lewis Gilbert   \nNever Say Never Again            1983    Sean Connery      Irvin Kershner   \nOctopussy                        1983     Roger Moore           John Glen   \nOn Her Majesty's Secret Service  1969  George Lazenby       Peter R. Hunt   \nQuantum of Solace                2008    Daniel Craig        Marc Forster   \nSkyfall                          2012    Daniel Craig          Sam Mendes   \nSpectre                          2015    Daniel Craig          Sam Mendes   \nThe Living Daylights             1987  Timothy Dalton           John Glen   \nThe Man with the Golden Gun      1974     Roger Moore        Guy Hamilton   \nThe Spy Who Loved Me             1977     Roger Moore       Lewis Gilbert   \nThe World Is Not Enough          1999  Pierce Brosnan       Michael Apted   \nThunderball                      1965    Sean Connery       Terence Young   \nTomorrow Never Dies              1997  Pierce Brosnan  Roger Spottiswoode   \nYou Only Live Twice              1967    Sean Connery       Lewis Gilbert   \n\n                                 Box Office  Budget  Bond Actor Salary  \nFilm                                                                    \nCasino Royale                         581.5   145.3                3.3  \nCasino Royale                         315.0    85.0                NaN  \nDiamonds Are Forever                  442.5    34.7                5.8  \nDie Another Day                       465.4   154.2               17.9  \nDr. No                                448.8     7.0                0.6  \nFor Your Eyes Only                    449.4    60.2                NaN  \nFrom Russia with Love                 543.8    12.6                1.6  \nGoldenEye                             518.5    76.9                5.1  \nGoldfinger                            820.4    18.6                3.2  \nLicence to Kill                       250.9    56.7                7.9  \nLive and Let Die                      460.3    30.8                NaN  \nMoonraker                             535.0    91.5                NaN  \nNever Say Never Again                 380.0    86.0                NaN  \nOctopussy                             373.8    53.9                7.8  \nOn Her Majesty's Secret Service       291.5    37.3                0.6  \nQuantum of Solace                     514.2   181.4                8.1  \nSkyfall                               943.5   170.2               14.5  \nSpectre                               726.7   206.3                NaN  \nThe Living Daylights                  313.5    68.8                5.2  \nThe Man with the Golden Gun           334.0    27.7                NaN  \nThe Spy Who Loved Me                  533.0    45.1                NaN  \nThe World Is Not Enough               439.5   158.3               13.5  \nThunderball                           848.1    41.9                4.7  \nTomorrow Never Dies                   463.2   133.9               10.0  \nYou Only Live Twice                   514.2    59.9                4.4  ",
      "text/html": "<div>\n<style scoped>\n    .dataframe tbody tr th:only-of-type {\n        vertical-align: middle;\n    }\n\n    .dataframe tbody tr th {\n        vertical-align: top;\n    }\n\n    .dataframe thead th {\n        text-align: right;\n    }\n</style>\n<table border=\"1\" class=\"dataframe\">\n  <thead>\n    <tr style=\"text-align: right;\">\n      <th></th>\n      <th>Year</th>\n      <th>Actor</th>\n      <th>Director</th>\n      <th>Box Office</th>\n      <th>Budget</th>\n      <th>Bond Actor Salary</th>\n    </tr>\n    <tr>\n      <th>Film</th>\n      <th></th>\n      <th></th>\n      <th></th>\n      <th></th>\n      <th></th>\n      <th></th>\n    </tr>\n  </thead>\n  <tbody>\n    <tr>\n      <th>Casino Royale</th>\n      <td>2006</td>\n      <td>Daniel Craig</td>\n      <td>Martin Campbell</td>\n      <td>581.5</td>\n      <td>145.3</td>\n      <td>3.3</td>\n    </tr>\n    <tr>\n      <th>Casino Royale</th>\n      <td>1967</td>\n      <td>David Niven</td>\n      <td>Ken Hughes</td>\n      <td>315.0</td>\n      <td>85.0</td>\n      <td>NaN</td>\n    </tr>\n    <tr>\n      <th>Diamonds Are Forever</th>\n      <td>1971</td>\n      <td>Sean Connery</td>\n      <td>Guy Hamilton</td>\n      <td>442.5</td>\n      <td>34.7</td>\n      <td>5.8</td>\n    </tr>\n    <tr>\n      <th>Die Another Day</th>\n      <td>2002</td>\n      <td>Pierce Brosnan</td>\n      <td>Lee Tamahori</td>\n      <td>465.4</td>\n      <td>154.2</td>\n      <td>17.9</td>\n    </tr>\n    <tr>\n      <th>Dr. No</th>\n      <td>1962</td>\n      <td>Sean Connery</td>\n      <td>Terence Young</td>\n      <td>448.8</td>\n      <td>7.0</td>\n      <td>0.6</td>\n    </tr>\n    <tr>\n      <th>For Your Eyes Only</th>\n      <td>1981</td>\n      <td>Roger Moore</td>\n      <td>John Glen</td>\n      <td>449.4</td>\n      <td>60.2</td>\n      <td>NaN</td>\n    </tr>\n    <tr>\n      <th>From Russia with Love</th>\n      <td>1963</td>\n      <td>Sean Connery</td>\n      <td>Terence Young</td>\n      <td>543.8</td>\n      <td>12.6</td>\n      <td>1.6</td>\n    </tr>\n    <tr>\n      <th>GoldenEye</th>\n      <td>1995</td>\n      <td>Pierce Brosnan</td>\n      <td>Martin Campbell</td>\n      <td>518.5</td>\n      <td>76.9</td>\n      <td>5.1</td>\n    </tr>\n    <tr>\n      <th>Goldfinger</th>\n      <td>1964</td>\n      <td>Sean Connery</td>\n      <td>Guy Hamilton</td>\n      <td>820.4</td>\n      <td>18.6</td>\n      <td>3.2</td>\n    </tr>\n    <tr>\n      <th>Licence to Kill</th>\n      <td>1989</td>\n      <td>Timothy Dalton</td>\n      <td>John Glen</td>\n      <td>250.9</td>\n      <td>56.7</td>\n      <td>7.9</td>\n    </tr>\n    <tr>\n      <th>Live and Let Die</th>\n      <td>1973</td>\n      <td>Roger Moore</td>\n      <td>Guy Hamilton</td>\n      <td>460.3</td>\n      <td>30.8</td>\n      <td>NaN</td>\n    </tr>\n    <tr>\n      <th>Moonraker</th>\n      <td>1979</td>\n      <td>Roger Moore</td>\n      <td>Lewis Gilbert</td>\n      <td>535.0</td>\n      <td>91.5</td>\n      <td>NaN</td>\n    </tr>\n    <tr>\n      <th>Never Say Never Again</th>\n      <td>1983</td>\n      <td>Sean Connery</td>\n      <td>Irvin Kershner</td>\n      <td>380.0</td>\n      <td>86.0</td>\n      <td>NaN</td>\n    </tr>\n    <tr>\n      <th>Octopussy</th>\n      <td>1983</td>\n      <td>Roger Moore</td>\n      <td>John Glen</td>\n      <td>373.8</td>\n      <td>53.9</td>\n      <td>7.8</td>\n    </tr>\n    <tr>\n      <th>On Her Majesty's Secret Service</th>\n      <td>1969</td>\n      <td>George Lazenby</td>\n      <td>Peter R. Hunt</td>\n      <td>291.5</td>\n      <td>37.3</td>\n      <td>0.6</td>\n    </tr>\n    <tr>\n      <th>Quantum of Solace</th>\n      <td>2008</td>\n      <td>Daniel Craig</td>\n      <td>Marc Forster</td>\n      <td>514.2</td>\n      <td>181.4</td>\n      <td>8.1</td>\n    </tr>\n    <tr>\n      <th>Skyfall</th>\n      <td>2012</td>\n      <td>Daniel Craig</td>\n      <td>Sam Mendes</td>\n      <td>943.5</td>\n      <td>170.2</td>\n      <td>14.5</td>\n    </tr>\n    <tr>\n      <th>Spectre</th>\n      <td>2015</td>\n      <td>Daniel Craig</td>\n      <td>Sam Mendes</td>\n      <td>726.7</td>\n      <td>206.3</td>\n      <td>NaN</td>\n    </tr>\n    <tr>\n      <th>The Living Daylights</th>\n      <td>1987</td>\n      <td>Timothy Dalton</td>\n      <td>John Glen</td>\n      <td>313.5</td>\n      <td>68.8</td>\n      <td>5.2</td>\n    </tr>\n    <tr>\n      <th>The Man with the Golden Gun</th>\n      <td>1974</td>\n      <td>Roger Moore</td>\n      <td>Guy Hamilton</td>\n      <td>334.0</td>\n      <td>27.7</td>\n      <td>NaN</td>\n    </tr>\n    <tr>\n      <th>The Spy Who Loved Me</th>\n      <td>1977</td>\n      <td>Roger Moore</td>\n      <td>Lewis Gilbert</td>\n      <td>533.0</td>\n      <td>45.1</td>\n      <td>NaN</td>\n    </tr>\n    <tr>\n      <th>The World Is Not Enough</th>\n      <td>1999</td>\n      <td>Pierce Brosnan</td>\n      <td>Michael Apted</td>\n      <td>439.5</td>\n      <td>158.3</td>\n      <td>13.5</td>\n    </tr>\n    <tr>\n      <th>Thunderball</th>\n      <td>1965</td>\n      <td>Sean Connery</td>\n      <td>Terence Young</td>\n      <td>848.1</td>\n      <td>41.9</td>\n      <td>4.7</td>\n    </tr>\n    <tr>\n      <th>Tomorrow Never Dies</th>\n      <td>1997</td>\n      <td>Pierce Brosnan</td>\n      <td>Roger Spottiswoode</td>\n      <td>463.2</td>\n      <td>133.9</td>\n      <td>10.0</td>\n    </tr>\n    <tr>\n      <th>You Only Live Twice</th>\n      <td>1967</td>\n      <td>Sean Connery</td>\n      <td>Lewis Gilbert</td>\n      <td>514.2</td>\n      <td>59.9</td>\n      <td>4.4</td>\n    </tr>\n  </tbody>\n</table>\n</div>"
     },
     "execution_count": 75,
     "metadata": {},
     "output_type": "execute_result"
    }
   ],
   "source": [
    "bond.drop(\"A View to a Kill\")"
   ],
   "metadata": {
    "collapsed": false,
    "pycharm": {
     "name": "#%%\n"
    }
   }
  },
  {
   "cell_type": "code",
   "execution_count": 76,
   "outputs": [
    {
     "data": {
      "text/plain": "                                 Year           Actor            Director  \\\nFilm                                                                        \nCasino Royale                    2006    Daniel Craig     Martin Campbell   \nCasino Royale                    1967     David Niven          Ken Hughes   \nDr. No                           1962    Sean Connery       Terence Young   \nFor Your Eyes Only               1981     Roger Moore           John Glen   \nFrom Russia with Love            1963    Sean Connery       Terence Young   \nGoldenEye                        1995  Pierce Brosnan     Martin Campbell   \nGoldfinger                       1964    Sean Connery        Guy Hamilton   \nLicence to Kill                  1989  Timothy Dalton           John Glen   \nLive and Let Die                 1973     Roger Moore        Guy Hamilton   \nMoonraker                        1979     Roger Moore       Lewis Gilbert   \nNever Say Never Again            1983    Sean Connery      Irvin Kershner   \nOctopussy                        1983     Roger Moore           John Glen   \nOn Her Majesty's Secret Service  1969  George Lazenby       Peter R. Hunt   \nQuantum of Solace                2008    Daniel Craig        Marc Forster   \nSkyfall                          2012    Daniel Craig          Sam Mendes   \nSpectre                          2015    Daniel Craig          Sam Mendes   \nThe Living Daylights             1987  Timothy Dalton           John Glen   \nThe Man with the Golden Gun      1974     Roger Moore        Guy Hamilton   \nThe Spy Who Loved Me             1977     Roger Moore       Lewis Gilbert   \nThe World Is Not Enough          1999  Pierce Brosnan       Michael Apted   \nThunderball                      1965    Sean Connery       Terence Young   \nTomorrow Never Dies              1997  Pierce Brosnan  Roger Spottiswoode   \nYou Only Live Twice              1967    Sean Connery       Lewis Gilbert   \n\n                                 Box Office  Budget  Bond Actor Salary  \nFilm                                                                    \nCasino Royale                         581.5   145.3                3.3  \nCasino Royale                         315.0    85.0                NaN  \nDr. No                                448.8     7.0                0.6  \nFor Your Eyes Only                    449.4    60.2                NaN  \nFrom Russia with Love                 543.8    12.6                1.6  \nGoldenEye                             518.5    76.9                5.1  \nGoldfinger                            820.4    18.6                3.2  \nLicence to Kill                       250.9    56.7                7.9  \nLive and Let Die                      460.3    30.8                NaN  \nMoonraker                             535.0    91.5                NaN  \nNever Say Never Again                 380.0    86.0                NaN  \nOctopussy                             373.8    53.9                7.8  \nOn Her Majesty's Secret Service       291.5    37.3                0.6  \nQuantum of Solace                     514.2   181.4                8.1  \nSkyfall                               943.5   170.2               14.5  \nSpectre                               726.7   206.3                NaN  \nThe Living Daylights                  313.5    68.8                5.2  \nThe Man with the Golden Gun           334.0    27.7                NaN  \nThe Spy Who Loved Me                  533.0    45.1                NaN  \nThe World Is Not Enough               439.5   158.3               13.5  \nThunderball                           848.1    41.9                4.7  \nTomorrow Never Dies                   463.2   133.9               10.0  \nYou Only Live Twice                   514.2    59.9                4.4  ",
      "text/html": "<div>\n<style scoped>\n    .dataframe tbody tr th:only-of-type {\n        vertical-align: middle;\n    }\n\n    .dataframe tbody tr th {\n        vertical-align: top;\n    }\n\n    .dataframe thead th {\n        text-align: right;\n    }\n</style>\n<table border=\"1\" class=\"dataframe\">\n  <thead>\n    <tr style=\"text-align: right;\">\n      <th></th>\n      <th>Year</th>\n      <th>Actor</th>\n      <th>Director</th>\n      <th>Box Office</th>\n      <th>Budget</th>\n      <th>Bond Actor Salary</th>\n    </tr>\n    <tr>\n      <th>Film</th>\n      <th></th>\n      <th></th>\n      <th></th>\n      <th></th>\n      <th></th>\n      <th></th>\n    </tr>\n  </thead>\n  <tbody>\n    <tr>\n      <th>Casino Royale</th>\n      <td>2006</td>\n      <td>Daniel Craig</td>\n      <td>Martin Campbell</td>\n      <td>581.5</td>\n      <td>145.3</td>\n      <td>3.3</td>\n    </tr>\n    <tr>\n      <th>Casino Royale</th>\n      <td>1967</td>\n      <td>David Niven</td>\n      <td>Ken Hughes</td>\n      <td>315.0</td>\n      <td>85.0</td>\n      <td>NaN</td>\n    </tr>\n    <tr>\n      <th>Dr. No</th>\n      <td>1962</td>\n      <td>Sean Connery</td>\n      <td>Terence Young</td>\n      <td>448.8</td>\n      <td>7.0</td>\n      <td>0.6</td>\n    </tr>\n    <tr>\n      <th>For Your Eyes Only</th>\n      <td>1981</td>\n      <td>Roger Moore</td>\n      <td>John Glen</td>\n      <td>449.4</td>\n      <td>60.2</td>\n      <td>NaN</td>\n    </tr>\n    <tr>\n      <th>From Russia with Love</th>\n      <td>1963</td>\n      <td>Sean Connery</td>\n      <td>Terence Young</td>\n      <td>543.8</td>\n      <td>12.6</td>\n      <td>1.6</td>\n    </tr>\n    <tr>\n      <th>GoldenEye</th>\n      <td>1995</td>\n      <td>Pierce Brosnan</td>\n      <td>Martin Campbell</td>\n      <td>518.5</td>\n      <td>76.9</td>\n      <td>5.1</td>\n    </tr>\n    <tr>\n      <th>Goldfinger</th>\n      <td>1964</td>\n      <td>Sean Connery</td>\n      <td>Guy Hamilton</td>\n      <td>820.4</td>\n      <td>18.6</td>\n      <td>3.2</td>\n    </tr>\n    <tr>\n      <th>Licence to Kill</th>\n      <td>1989</td>\n      <td>Timothy Dalton</td>\n      <td>John Glen</td>\n      <td>250.9</td>\n      <td>56.7</td>\n      <td>7.9</td>\n    </tr>\n    <tr>\n      <th>Live and Let Die</th>\n      <td>1973</td>\n      <td>Roger Moore</td>\n      <td>Guy Hamilton</td>\n      <td>460.3</td>\n      <td>30.8</td>\n      <td>NaN</td>\n    </tr>\n    <tr>\n      <th>Moonraker</th>\n      <td>1979</td>\n      <td>Roger Moore</td>\n      <td>Lewis Gilbert</td>\n      <td>535.0</td>\n      <td>91.5</td>\n      <td>NaN</td>\n    </tr>\n    <tr>\n      <th>Never Say Never Again</th>\n      <td>1983</td>\n      <td>Sean Connery</td>\n      <td>Irvin Kershner</td>\n      <td>380.0</td>\n      <td>86.0</td>\n      <td>NaN</td>\n    </tr>\n    <tr>\n      <th>Octopussy</th>\n      <td>1983</td>\n      <td>Roger Moore</td>\n      <td>John Glen</td>\n      <td>373.8</td>\n      <td>53.9</td>\n      <td>7.8</td>\n    </tr>\n    <tr>\n      <th>On Her Majesty's Secret Service</th>\n      <td>1969</td>\n      <td>George Lazenby</td>\n      <td>Peter R. Hunt</td>\n      <td>291.5</td>\n      <td>37.3</td>\n      <td>0.6</td>\n    </tr>\n    <tr>\n      <th>Quantum of Solace</th>\n      <td>2008</td>\n      <td>Daniel Craig</td>\n      <td>Marc Forster</td>\n      <td>514.2</td>\n      <td>181.4</td>\n      <td>8.1</td>\n    </tr>\n    <tr>\n      <th>Skyfall</th>\n      <td>2012</td>\n      <td>Daniel Craig</td>\n      <td>Sam Mendes</td>\n      <td>943.5</td>\n      <td>170.2</td>\n      <td>14.5</td>\n    </tr>\n    <tr>\n      <th>Spectre</th>\n      <td>2015</td>\n      <td>Daniel Craig</td>\n      <td>Sam Mendes</td>\n      <td>726.7</td>\n      <td>206.3</td>\n      <td>NaN</td>\n    </tr>\n    <tr>\n      <th>The Living Daylights</th>\n      <td>1987</td>\n      <td>Timothy Dalton</td>\n      <td>John Glen</td>\n      <td>313.5</td>\n      <td>68.8</td>\n      <td>5.2</td>\n    </tr>\n    <tr>\n      <th>The Man with the Golden Gun</th>\n      <td>1974</td>\n      <td>Roger Moore</td>\n      <td>Guy Hamilton</td>\n      <td>334.0</td>\n      <td>27.7</td>\n      <td>NaN</td>\n    </tr>\n    <tr>\n      <th>The Spy Who Loved Me</th>\n      <td>1977</td>\n      <td>Roger Moore</td>\n      <td>Lewis Gilbert</td>\n      <td>533.0</td>\n      <td>45.1</td>\n      <td>NaN</td>\n    </tr>\n    <tr>\n      <th>The World Is Not Enough</th>\n      <td>1999</td>\n      <td>Pierce Brosnan</td>\n      <td>Michael Apted</td>\n      <td>439.5</td>\n      <td>158.3</td>\n      <td>13.5</td>\n    </tr>\n    <tr>\n      <th>Thunderball</th>\n      <td>1965</td>\n      <td>Sean Connery</td>\n      <td>Terence Young</td>\n      <td>848.1</td>\n      <td>41.9</td>\n      <td>4.7</td>\n    </tr>\n    <tr>\n      <th>Tomorrow Never Dies</th>\n      <td>1997</td>\n      <td>Pierce Brosnan</td>\n      <td>Roger Spottiswoode</td>\n      <td>463.2</td>\n      <td>133.9</td>\n      <td>10.0</td>\n    </tr>\n    <tr>\n      <th>You Only Live Twice</th>\n      <td>1967</td>\n      <td>Sean Connery</td>\n      <td>Lewis Gilbert</td>\n      <td>514.2</td>\n      <td>59.9</td>\n      <td>4.4</td>\n    </tr>\n  </tbody>\n</table>\n</div>"
     },
     "execution_count": 76,
     "metadata": {},
     "output_type": "execute_result"
    }
   ],
   "source": [
    "bond.drop([\"A View to a Kill\", \"Diamonds Are Forever\", \"Die Another Day\"])"
   ],
   "metadata": {
    "collapsed": false,
    "pycharm": {
     "name": "#%%\n"
    }
   }
  },
  {
   "cell_type": "code",
   "execution_count": 77,
   "outputs": [
    {
     "data": {
      "text/plain": "                                 Year           Actor            Director  \\\nFilm                                                                        \nA View to a Kill                 1985     Roger Moore           John Glen   \nDiamonds Are Forever             1971    Sean Connery        Guy Hamilton   \nDie Another Day                  2002  Pierce Brosnan        Lee Tamahori   \nDr. No                           1962    Sean Connery       Terence Young   \nFor Your Eyes Only               1981     Roger Moore           John Glen   \nFrom Russia with Love            1963    Sean Connery       Terence Young   \nGoldenEye                        1995  Pierce Brosnan     Martin Campbell   \nGoldfinger                       1964    Sean Connery        Guy Hamilton   \nLicence to Kill                  1989  Timothy Dalton           John Glen   \nLive and Let Die                 1973     Roger Moore        Guy Hamilton   \nMoonraker                        1979     Roger Moore       Lewis Gilbert   \nNever Say Never Again            1983    Sean Connery      Irvin Kershner   \nOctopussy                        1983     Roger Moore           John Glen   \nOn Her Majesty's Secret Service  1969  George Lazenby       Peter R. Hunt   \nQuantum of Solace                2008    Daniel Craig        Marc Forster   \nSkyfall                          2012    Daniel Craig          Sam Mendes   \nSpectre                          2015    Daniel Craig          Sam Mendes   \nThe Living Daylights             1987  Timothy Dalton           John Glen   \nThe Man with the Golden Gun      1974     Roger Moore        Guy Hamilton   \nThe Spy Who Loved Me             1977     Roger Moore       Lewis Gilbert   \nThe World Is Not Enough          1999  Pierce Brosnan       Michael Apted   \nThunderball                      1965    Sean Connery       Terence Young   \nTomorrow Never Dies              1997  Pierce Brosnan  Roger Spottiswoode   \nYou Only Live Twice              1967    Sean Connery       Lewis Gilbert   \n\n                                 Box Office  Budget  Bond Actor Salary  \nFilm                                                                    \nA View to a Kill                      275.2    54.5                9.1  \nDiamonds Are Forever                  442.5    34.7                5.8  \nDie Another Day                       465.4   154.2               17.9  \nDr. No                                448.8     7.0                0.6  \nFor Your Eyes Only                    449.4    60.2                NaN  \nFrom Russia with Love                 543.8    12.6                1.6  \nGoldenEye                             518.5    76.9                5.1  \nGoldfinger                            820.4    18.6                3.2  \nLicence to Kill                       250.9    56.7                7.9  \nLive and Let Die                      460.3    30.8                NaN  \nMoonraker                             535.0    91.5                NaN  \nNever Say Never Again                 380.0    86.0                NaN  \nOctopussy                             373.8    53.9                7.8  \nOn Her Majesty's Secret Service       291.5    37.3                0.6  \nQuantum of Solace                     514.2   181.4                8.1  \nSkyfall                               943.5   170.2               14.5  \nSpectre                               726.7   206.3                NaN  \nThe Living Daylights                  313.5    68.8                5.2  \nThe Man with the Golden Gun           334.0    27.7                NaN  \nThe Spy Who Loved Me                  533.0    45.1                NaN  \nThe World Is Not Enough               439.5   158.3               13.5  \nThunderball                           848.1    41.9                4.7  \nTomorrow Never Dies                   463.2   133.9               10.0  \nYou Only Live Twice                   514.2    59.9                4.4  ",
      "text/html": "<div>\n<style scoped>\n    .dataframe tbody tr th:only-of-type {\n        vertical-align: middle;\n    }\n\n    .dataframe tbody tr th {\n        vertical-align: top;\n    }\n\n    .dataframe thead th {\n        text-align: right;\n    }\n</style>\n<table border=\"1\" class=\"dataframe\">\n  <thead>\n    <tr style=\"text-align: right;\">\n      <th></th>\n      <th>Year</th>\n      <th>Actor</th>\n      <th>Director</th>\n      <th>Box Office</th>\n      <th>Budget</th>\n      <th>Bond Actor Salary</th>\n    </tr>\n    <tr>\n      <th>Film</th>\n      <th></th>\n      <th></th>\n      <th></th>\n      <th></th>\n      <th></th>\n      <th></th>\n    </tr>\n  </thead>\n  <tbody>\n    <tr>\n      <th>A View to a Kill</th>\n      <td>1985</td>\n      <td>Roger Moore</td>\n      <td>John Glen</td>\n      <td>275.2</td>\n      <td>54.5</td>\n      <td>9.1</td>\n    </tr>\n    <tr>\n      <th>Diamonds Are Forever</th>\n      <td>1971</td>\n      <td>Sean Connery</td>\n      <td>Guy Hamilton</td>\n      <td>442.5</td>\n      <td>34.7</td>\n      <td>5.8</td>\n    </tr>\n    <tr>\n      <th>Die Another Day</th>\n      <td>2002</td>\n      <td>Pierce Brosnan</td>\n      <td>Lee Tamahori</td>\n      <td>465.4</td>\n      <td>154.2</td>\n      <td>17.9</td>\n    </tr>\n    <tr>\n      <th>Dr. No</th>\n      <td>1962</td>\n      <td>Sean Connery</td>\n      <td>Terence Young</td>\n      <td>448.8</td>\n      <td>7.0</td>\n      <td>0.6</td>\n    </tr>\n    <tr>\n      <th>For Your Eyes Only</th>\n      <td>1981</td>\n      <td>Roger Moore</td>\n      <td>John Glen</td>\n      <td>449.4</td>\n      <td>60.2</td>\n      <td>NaN</td>\n    </tr>\n    <tr>\n      <th>From Russia with Love</th>\n      <td>1963</td>\n      <td>Sean Connery</td>\n      <td>Terence Young</td>\n      <td>543.8</td>\n      <td>12.6</td>\n      <td>1.6</td>\n    </tr>\n    <tr>\n      <th>GoldenEye</th>\n      <td>1995</td>\n      <td>Pierce Brosnan</td>\n      <td>Martin Campbell</td>\n      <td>518.5</td>\n      <td>76.9</td>\n      <td>5.1</td>\n    </tr>\n    <tr>\n      <th>Goldfinger</th>\n      <td>1964</td>\n      <td>Sean Connery</td>\n      <td>Guy Hamilton</td>\n      <td>820.4</td>\n      <td>18.6</td>\n      <td>3.2</td>\n    </tr>\n    <tr>\n      <th>Licence to Kill</th>\n      <td>1989</td>\n      <td>Timothy Dalton</td>\n      <td>John Glen</td>\n      <td>250.9</td>\n      <td>56.7</td>\n      <td>7.9</td>\n    </tr>\n    <tr>\n      <th>Live and Let Die</th>\n      <td>1973</td>\n      <td>Roger Moore</td>\n      <td>Guy Hamilton</td>\n      <td>460.3</td>\n      <td>30.8</td>\n      <td>NaN</td>\n    </tr>\n    <tr>\n      <th>Moonraker</th>\n      <td>1979</td>\n      <td>Roger Moore</td>\n      <td>Lewis Gilbert</td>\n      <td>535.0</td>\n      <td>91.5</td>\n      <td>NaN</td>\n    </tr>\n    <tr>\n      <th>Never Say Never Again</th>\n      <td>1983</td>\n      <td>Sean Connery</td>\n      <td>Irvin Kershner</td>\n      <td>380.0</td>\n      <td>86.0</td>\n      <td>NaN</td>\n    </tr>\n    <tr>\n      <th>Octopussy</th>\n      <td>1983</td>\n      <td>Roger Moore</td>\n      <td>John Glen</td>\n      <td>373.8</td>\n      <td>53.9</td>\n      <td>7.8</td>\n    </tr>\n    <tr>\n      <th>On Her Majesty's Secret Service</th>\n      <td>1969</td>\n      <td>George Lazenby</td>\n      <td>Peter R. Hunt</td>\n      <td>291.5</td>\n      <td>37.3</td>\n      <td>0.6</td>\n    </tr>\n    <tr>\n      <th>Quantum of Solace</th>\n      <td>2008</td>\n      <td>Daniel Craig</td>\n      <td>Marc Forster</td>\n      <td>514.2</td>\n      <td>181.4</td>\n      <td>8.1</td>\n    </tr>\n    <tr>\n      <th>Skyfall</th>\n      <td>2012</td>\n      <td>Daniel Craig</td>\n      <td>Sam Mendes</td>\n      <td>943.5</td>\n      <td>170.2</td>\n      <td>14.5</td>\n    </tr>\n    <tr>\n      <th>Spectre</th>\n      <td>2015</td>\n      <td>Daniel Craig</td>\n      <td>Sam Mendes</td>\n      <td>726.7</td>\n      <td>206.3</td>\n      <td>NaN</td>\n    </tr>\n    <tr>\n      <th>The Living Daylights</th>\n      <td>1987</td>\n      <td>Timothy Dalton</td>\n      <td>John Glen</td>\n      <td>313.5</td>\n      <td>68.8</td>\n      <td>5.2</td>\n    </tr>\n    <tr>\n      <th>The Man with the Golden Gun</th>\n      <td>1974</td>\n      <td>Roger Moore</td>\n      <td>Guy Hamilton</td>\n      <td>334.0</td>\n      <td>27.7</td>\n      <td>NaN</td>\n    </tr>\n    <tr>\n      <th>The Spy Who Loved Me</th>\n      <td>1977</td>\n      <td>Roger Moore</td>\n      <td>Lewis Gilbert</td>\n      <td>533.0</td>\n      <td>45.1</td>\n      <td>NaN</td>\n    </tr>\n    <tr>\n      <th>The World Is Not Enough</th>\n      <td>1999</td>\n      <td>Pierce Brosnan</td>\n      <td>Michael Apted</td>\n      <td>439.5</td>\n      <td>158.3</td>\n      <td>13.5</td>\n    </tr>\n    <tr>\n      <th>Thunderball</th>\n      <td>1965</td>\n      <td>Sean Connery</td>\n      <td>Terence Young</td>\n      <td>848.1</td>\n      <td>41.9</td>\n      <td>4.7</td>\n    </tr>\n    <tr>\n      <th>Tomorrow Never Dies</th>\n      <td>1997</td>\n      <td>Pierce Brosnan</td>\n      <td>Roger Spottiswoode</td>\n      <td>463.2</td>\n      <td>133.9</td>\n      <td>10.0</td>\n    </tr>\n    <tr>\n      <th>You Only Live Twice</th>\n      <td>1967</td>\n      <td>Sean Connery</td>\n      <td>Lewis Gilbert</td>\n      <td>514.2</td>\n      <td>59.9</td>\n      <td>4.4</td>\n    </tr>\n  </tbody>\n</table>\n</div>"
     },
     "execution_count": 77,
     "metadata": {},
     "output_type": "execute_result"
    }
   ],
   "source": [
    "bond.drop(\"Casino Royale\")"
   ],
   "metadata": {
    "collapsed": false,
    "pycharm": {
     "name": "#%%\n"
    }
   }
  },
  {
   "cell_type": "markdown",
   "source": [
    "### Removing columns"
   ],
   "metadata": {
    "collapsed": false,
    "pycharm": {
     "name": "#%% md\n"
    }
   }
  },
  {
   "cell_type": "code",
   "execution_count": 78,
   "outputs": [
    {
     "data": {
      "text/plain": "                                 Year           Actor            Director  \\\nFilm                                                                        \nA View to a Kill                 1985     Roger Moore           John Glen   \nCasino Royale                    2006    Daniel Craig     Martin Campbell   \nCasino Royale                    1967     David Niven          Ken Hughes   \nDiamonds Are Forever             1971    Sean Connery        Guy Hamilton   \nDie Another Day                  2002  Pierce Brosnan        Lee Tamahori   \nDr. No                           1962    Sean Connery       Terence Young   \nFor Your Eyes Only               1981     Roger Moore           John Glen   \nFrom Russia with Love            1963    Sean Connery       Terence Young   \nGoldenEye                        1995  Pierce Brosnan     Martin Campbell   \nGoldfinger                       1964    Sean Connery        Guy Hamilton   \nLicence to Kill                  1989  Timothy Dalton           John Glen   \nLive and Let Die                 1973     Roger Moore        Guy Hamilton   \nMoonraker                        1979     Roger Moore       Lewis Gilbert   \nNever Say Never Again            1983    Sean Connery      Irvin Kershner   \nOctopussy                        1983     Roger Moore           John Glen   \nOn Her Majesty's Secret Service  1969  George Lazenby       Peter R. Hunt   \nQuantum of Solace                2008    Daniel Craig        Marc Forster   \nSkyfall                          2012    Daniel Craig          Sam Mendes   \nSpectre                          2015    Daniel Craig          Sam Mendes   \nThe Living Daylights             1987  Timothy Dalton           John Glen   \nThe Man with the Golden Gun      1974     Roger Moore        Guy Hamilton   \nThe Spy Who Loved Me             1977     Roger Moore       Lewis Gilbert   \nThe World Is Not Enough          1999  Pierce Brosnan       Michael Apted   \nThunderball                      1965    Sean Connery       Terence Young   \nTomorrow Never Dies              1997  Pierce Brosnan  Roger Spottiswoode   \nYou Only Live Twice              1967    Sean Connery       Lewis Gilbert   \n\n                                 Bond Actor Salary  \nFilm                                                \nA View to a Kill                               9.1  \nCasino Royale                                  3.3  \nCasino Royale                                  NaN  \nDiamonds Are Forever                           5.8  \nDie Another Day                               17.9  \nDr. No                                         0.6  \nFor Your Eyes Only                             NaN  \nFrom Russia with Love                          1.6  \nGoldenEye                                      5.1  \nGoldfinger                                     3.2  \nLicence to Kill                                7.9  \nLive and Let Die                               NaN  \nMoonraker                                      NaN  \nNever Say Never Again                          NaN  \nOctopussy                                      7.8  \nOn Her Majesty's Secret Service                0.6  \nQuantum of Solace                              8.1  \nSkyfall                                       14.5  \nSpectre                                        NaN  \nThe Living Daylights                           5.2  \nThe Man with the Golden Gun                    NaN  \nThe Spy Who Loved Me                           NaN  \nThe World Is Not Enough                       13.5  \nThunderball                                    4.7  \nTomorrow Never Dies                           10.0  \nYou Only Live Twice                            4.4  ",
      "text/html": "<div>\n<style scoped>\n    .dataframe tbody tr th:only-of-type {\n        vertical-align: middle;\n    }\n\n    .dataframe tbody tr th {\n        vertical-align: top;\n    }\n\n    .dataframe thead th {\n        text-align: right;\n    }\n</style>\n<table border=\"1\" class=\"dataframe\">\n  <thead>\n    <tr style=\"text-align: right;\">\n      <th></th>\n      <th>Year</th>\n      <th>Actor</th>\n      <th>Director</th>\n      <th>Bond Actor Salary</th>\n    </tr>\n    <tr>\n      <th>Film</th>\n      <th></th>\n      <th></th>\n      <th></th>\n      <th></th>\n    </tr>\n  </thead>\n  <tbody>\n    <tr>\n      <th>A View to a Kill</th>\n      <td>1985</td>\n      <td>Roger Moore</td>\n      <td>John Glen</td>\n      <td>9.1</td>\n    </tr>\n    <tr>\n      <th>Casino Royale</th>\n      <td>2006</td>\n      <td>Daniel Craig</td>\n      <td>Martin Campbell</td>\n      <td>3.3</td>\n    </tr>\n    <tr>\n      <th>Casino Royale</th>\n      <td>1967</td>\n      <td>David Niven</td>\n      <td>Ken Hughes</td>\n      <td>NaN</td>\n    </tr>\n    <tr>\n      <th>Diamonds Are Forever</th>\n      <td>1971</td>\n      <td>Sean Connery</td>\n      <td>Guy Hamilton</td>\n      <td>5.8</td>\n    </tr>\n    <tr>\n      <th>Die Another Day</th>\n      <td>2002</td>\n      <td>Pierce Brosnan</td>\n      <td>Lee Tamahori</td>\n      <td>17.9</td>\n    </tr>\n    <tr>\n      <th>Dr. No</th>\n      <td>1962</td>\n      <td>Sean Connery</td>\n      <td>Terence Young</td>\n      <td>0.6</td>\n    </tr>\n    <tr>\n      <th>For Your Eyes Only</th>\n      <td>1981</td>\n      <td>Roger Moore</td>\n      <td>John Glen</td>\n      <td>NaN</td>\n    </tr>\n    <tr>\n      <th>From Russia with Love</th>\n      <td>1963</td>\n      <td>Sean Connery</td>\n      <td>Terence Young</td>\n      <td>1.6</td>\n    </tr>\n    <tr>\n      <th>GoldenEye</th>\n      <td>1995</td>\n      <td>Pierce Brosnan</td>\n      <td>Martin Campbell</td>\n      <td>5.1</td>\n    </tr>\n    <tr>\n      <th>Goldfinger</th>\n      <td>1964</td>\n      <td>Sean Connery</td>\n      <td>Guy Hamilton</td>\n      <td>3.2</td>\n    </tr>\n    <tr>\n      <th>Licence to Kill</th>\n      <td>1989</td>\n      <td>Timothy Dalton</td>\n      <td>John Glen</td>\n      <td>7.9</td>\n    </tr>\n    <tr>\n      <th>Live and Let Die</th>\n      <td>1973</td>\n      <td>Roger Moore</td>\n      <td>Guy Hamilton</td>\n      <td>NaN</td>\n    </tr>\n    <tr>\n      <th>Moonraker</th>\n      <td>1979</td>\n      <td>Roger Moore</td>\n      <td>Lewis Gilbert</td>\n      <td>NaN</td>\n    </tr>\n    <tr>\n      <th>Never Say Never Again</th>\n      <td>1983</td>\n      <td>Sean Connery</td>\n      <td>Irvin Kershner</td>\n      <td>NaN</td>\n    </tr>\n    <tr>\n      <th>Octopussy</th>\n      <td>1983</td>\n      <td>Roger Moore</td>\n      <td>John Glen</td>\n      <td>7.8</td>\n    </tr>\n    <tr>\n      <th>On Her Majesty's Secret Service</th>\n      <td>1969</td>\n      <td>George Lazenby</td>\n      <td>Peter R. Hunt</td>\n      <td>0.6</td>\n    </tr>\n    <tr>\n      <th>Quantum of Solace</th>\n      <td>2008</td>\n      <td>Daniel Craig</td>\n      <td>Marc Forster</td>\n      <td>8.1</td>\n    </tr>\n    <tr>\n      <th>Skyfall</th>\n      <td>2012</td>\n      <td>Daniel Craig</td>\n      <td>Sam Mendes</td>\n      <td>14.5</td>\n    </tr>\n    <tr>\n      <th>Spectre</th>\n      <td>2015</td>\n      <td>Daniel Craig</td>\n      <td>Sam Mendes</td>\n      <td>NaN</td>\n    </tr>\n    <tr>\n      <th>The Living Daylights</th>\n      <td>1987</td>\n      <td>Timothy Dalton</td>\n      <td>John Glen</td>\n      <td>5.2</td>\n    </tr>\n    <tr>\n      <th>The Man with the Golden Gun</th>\n      <td>1974</td>\n      <td>Roger Moore</td>\n      <td>Guy Hamilton</td>\n      <td>NaN</td>\n    </tr>\n    <tr>\n      <th>The Spy Who Loved Me</th>\n      <td>1977</td>\n      <td>Roger Moore</td>\n      <td>Lewis Gilbert</td>\n      <td>NaN</td>\n    </tr>\n    <tr>\n      <th>The World Is Not Enough</th>\n      <td>1999</td>\n      <td>Pierce Brosnan</td>\n      <td>Michael Apted</td>\n      <td>13.5</td>\n    </tr>\n    <tr>\n      <th>Thunderball</th>\n      <td>1965</td>\n      <td>Sean Connery</td>\n      <td>Terence Young</td>\n      <td>4.7</td>\n    </tr>\n    <tr>\n      <th>Tomorrow Never Dies</th>\n      <td>1997</td>\n      <td>Pierce Brosnan</td>\n      <td>Roger Spottiswoode</td>\n      <td>10.0</td>\n    </tr>\n    <tr>\n      <th>You Only Live Twice</th>\n      <td>1967</td>\n      <td>Sean Connery</td>\n      <td>Lewis Gilbert</td>\n      <td>4.4</td>\n    </tr>\n  </tbody>\n</table>\n</div>"
     },
     "execution_count": 78,
     "metadata": {},
     "output_type": "execute_result"
    }
   ],
   "source": [
    "bond.drop([\"Box Office\", \"Budget\"], axis=1)  # or axis=\"columns\""
   ],
   "metadata": {
    "collapsed": false,
    "pycharm": {
     "name": "#%%\n"
    }
   }
  },
  {
   "cell_type": "markdown",
   "source": [
    "## The `pop()` method"
   ],
   "metadata": {
    "collapsed": false,
    "pycharm": {
     "name": "#%% md\n"
    }
   }
  },
  {
   "cell_type": "code",
   "execution_count": 79,
   "outputs": [
    {
     "data": {
      "text/plain": "Film\nA View to a Kill                      Roger Moore\nCasino Royale                        Daniel Craig\nCasino Royale                         David Niven\nDiamonds Are Forever                 Sean Connery\nDie Another Day                    Pierce Brosnan\nDr. No                               Sean Connery\nFor Your Eyes Only                    Roger Moore\nFrom Russia with Love                Sean Connery\nGoldenEye                          Pierce Brosnan\nGoldfinger                           Sean Connery\nLicence to Kill                    Timothy Dalton\nLive and Let Die                      Roger Moore\nMoonraker                             Roger Moore\nNever Say Never Again                Sean Connery\nOctopussy                             Roger Moore\nOn Her Majesty's Secret Service    George Lazenby\nQuantum of Solace                    Daniel Craig\nSkyfall                              Daniel Craig\nSpectre                              Daniel Craig\nThe Living Daylights               Timothy Dalton\nThe Man with the Golden Gun           Roger Moore\nThe Spy Who Loved Me                  Roger Moore\nThe World Is Not Enough            Pierce Brosnan\nThunderball                          Sean Connery\nTomorrow Never Dies                Pierce Brosnan\nYou Only Live Twice                  Sean Connery\nName: Actor, dtype: object"
     },
     "execution_count": 79,
     "metadata": {},
     "output_type": "execute_result"
    }
   ],
   "source": [
    "actor = bond.pop(\"Actor\")  # pops change inplace the dataframe\n",
    "actor"
   ],
   "metadata": {
    "collapsed": false,
    "pycharm": {
     "name": "#%%\n"
    }
   }
  },
  {
   "cell_type": "code",
   "execution_count": 80,
   "outputs": [
    {
     "data": {
      "text/plain": "                      Year           Actor         Director  Box Office  \\\nFilm                                                                      \nA View to a Kill      1985     Roger Moore        John Glen       275.2   \nCasino Royale         2006    Daniel Craig  Martin Campbell       581.5   \nCasino Royale         1967     David Niven       Ken Hughes       315.0   \nDiamonds Are Forever  1971    Sean Connery     Guy Hamilton       442.5   \nDie Another Day       2002  Pierce Brosnan     Lee Tamahori       465.4   \n\n                      Budget  Bond Actor Salary  \nFilm                                             \nA View to a Kill        54.5                9.1  \nCasino Royale          145.3                3.3  \nCasino Royale           85.0                NaN  \nDiamonds Are Forever    34.7                5.8  \nDie Another Day        154.2               17.9  ",
      "text/html": "<div>\n<style scoped>\n    .dataframe tbody tr th:only-of-type {\n        vertical-align: middle;\n    }\n\n    .dataframe tbody tr th {\n        vertical-align: top;\n    }\n\n    .dataframe thead th {\n        text-align: right;\n    }\n</style>\n<table border=\"1\" class=\"dataframe\">\n  <thead>\n    <tr style=\"text-align: right;\">\n      <th></th>\n      <th>Year</th>\n      <th>Actor</th>\n      <th>Director</th>\n      <th>Box Office</th>\n      <th>Budget</th>\n      <th>Bond Actor Salary</th>\n    </tr>\n    <tr>\n      <th>Film</th>\n      <th></th>\n      <th></th>\n      <th></th>\n      <th></th>\n      <th></th>\n      <th></th>\n    </tr>\n  </thead>\n  <tbody>\n    <tr>\n      <th>A View to a Kill</th>\n      <td>1985</td>\n      <td>Roger Moore</td>\n      <td>John Glen</td>\n      <td>275.2</td>\n      <td>54.5</td>\n      <td>9.1</td>\n    </tr>\n    <tr>\n      <th>Casino Royale</th>\n      <td>2006</td>\n      <td>Daniel Craig</td>\n      <td>Martin Campbell</td>\n      <td>581.5</td>\n      <td>145.3</td>\n      <td>3.3</td>\n    </tr>\n    <tr>\n      <th>Casino Royale</th>\n      <td>1967</td>\n      <td>David Niven</td>\n      <td>Ken Hughes</td>\n      <td>315.0</td>\n      <td>85.0</td>\n      <td>NaN</td>\n    </tr>\n    <tr>\n      <th>Diamonds Are Forever</th>\n      <td>1971</td>\n      <td>Sean Connery</td>\n      <td>Guy Hamilton</td>\n      <td>442.5</td>\n      <td>34.7</td>\n      <td>5.8</td>\n    </tr>\n    <tr>\n      <th>Die Another Day</th>\n      <td>2002</td>\n      <td>Pierce Brosnan</td>\n      <td>Lee Tamahori</td>\n      <td>465.4</td>\n      <td>154.2</td>\n      <td>17.9</td>\n    </tr>\n  </tbody>\n</table>\n</div>"
     },
     "execution_count": 80,
     "metadata": {},
     "output_type": "execute_result"
    }
   ],
   "source": [
    "bond = pd.read_csv(\"jamesbond.csv\", index_col=\"Film\")\n",
    "bond.sort_index(inplace=True)\n",
    "bond.head()"
   ],
   "metadata": {
    "collapsed": false,
    "pycharm": {
     "name": "#%%\n"
    }
   }
  },
  {
   "cell_type": "code",
   "execution_count": 81,
   "outputs": [],
   "source": [
    "del bond[\"Actor\"]  # delete the \"Actor\" column"
   ],
   "metadata": {
    "collapsed": false,
    "pycharm": {
     "name": "#%%\n"
    }
   }
  },
  {
   "cell_type": "code",
   "execution_count": 82,
   "outputs": [
    {
     "data": {
      "text/plain": "                      Year         Director  Box Office  Budget  \\\nFilm                                                              \nA View to a Kill      1985        John Glen       275.2    54.5   \nCasino Royale         2006  Martin Campbell       581.5   145.3   \nCasino Royale         1967       Ken Hughes       315.0    85.0   \nDiamonds Are Forever  1971     Guy Hamilton       442.5    34.7   \nDie Another Day       2002     Lee Tamahori       465.4   154.2   \n\n                      Bond Actor Salary  \nFilm                                     \nA View to a Kill                    9.1  \nCasino Royale                       3.3  \nCasino Royale                       NaN  \nDiamonds Are Forever                5.8  \nDie Another Day                    17.9  ",
      "text/html": "<div>\n<style scoped>\n    .dataframe tbody tr th:only-of-type {\n        vertical-align: middle;\n    }\n\n    .dataframe tbody tr th {\n        vertical-align: top;\n    }\n\n    .dataframe thead th {\n        text-align: right;\n    }\n</style>\n<table border=\"1\" class=\"dataframe\">\n  <thead>\n    <tr style=\"text-align: right;\">\n      <th></th>\n      <th>Year</th>\n      <th>Director</th>\n      <th>Box Office</th>\n      <th>Budget</th>\n      <th>Bond Actor Salary</th>\n    </tr>\n    <tr>\n      <th>Film</th>\n      <th></th>\n      <th></th>\n      <th></th>\n      <th></th>\n      <th></th>\n    </tr>\n  </thead>\n  <tbody>\n    <tr>\n      <th>A View to a Kill</th>\n      <td>1985</td>\n      <td>John Glen</td>\n      <td>275.2</td>\n      <td>54.5</td>\n      <td>9.1</td>\n    </tr>\n    <tr>\n      <th>Casino Royale</th>\n      <td>2006</td>\n      <td>Martin Campbell</td>\n      <td>581.5</td>\n      <td>145.3</td>\n      <td>3.3</td>\n    </tr>\n    <tr>\n      <th>Casino Royale</th>\n      <td>1967</td>\n      <td>Ken Hughes</td>\n      <td>315.0</td>\n      <td>85.0</td>\n      <td>NaN</td>\n    </tr>\n    <tr>\n      <th>Diamonds Are Forever</th>\n      <td>1971</td>\n      <td>Guy Hamilton</td>\n      <td>442.5</td>\n      <td>34.7</td>\n      <td>5.8</td>\n    </tr>\n    <tr>\n      <th>Die Another Day</th>\n      <td>2002</td>\n      <td>Lee Tamahori</td>\n      <td>465.4</td>\n      <td>154.2</td>\n      <td>17.9</td>\n    </tr>\n  </tbody>\n</table>\n</div>"
     },
     "execution_count": 82,
     "metadata": {},
     "output_type": "execute_result"
    }
   ],
   "source": [
    "bond.head()"
   ],
   "metadata": {
    "collapsed": false,
    "pycharm": {
     "name": "#%%\n"
    }
   }
  },
  {
   "cell_type": "markdown",
   "source": [
    "# Create a Random Sample with `.random()` method"
   ],
   "metadata": {
    "collapsed": false,
    "pycharm": {
     "name": "#%% md\n"
    }
   }
  },
  {
   "cell_type": "code",
   "execution_count": 83,
   "outputs": [
    {
     "data": {
      "text/plain": "                    Year         Director  Box Office  Budget  \\\nFilm                                                            \nCasino Royale       2006  Martin Campbell       581.5   145.3   \nFor Your Eyes Only  1981        John Glen       449.4    60.2   \nLicence to Kill     1989        John Glen       250.9    56.7   \n\n                    Bond Actor Salary  \nFilm                                   \nCasino Royale                     3.3  \nFor Your Eyes Only                NaN  \nLicence to Kill                   7.9  ",
      "text/html": "<div>\n<style scoped>\n    .dataframe tbody tr th:only-of-type {\n        vertical-align: middle;\n    }\n\n    .dataframe tbody tr th {\n        vertical-align: top;\n    }\n\n    .dataframe thead th {\n        text-align: right;\n    }\n</style>\n<table border=\"1\" class=\"dataframe\">\n  <thead>\n    <tr style=\"text-align: right;\">\n      <th></th>\n      <th>Year</th>\n      <th>Director</th>\n      <th>Box Office</th>\n      <th>Budget</th>\n      <th>Bond Actor Salary</th>\n    </tr>\n    <tr>\n      <th>Film</th>\n      <th></th>\n      <th></th>\n      <th></th>\n      <th></th>\n      <th></th>\n    </tr>\n  </thead>\n  <tbody>\n    <tr>\n      <th>Casino Royale</th>\n      <td>2006</td>\n      <td>Martin Campbell</td>\n      <td>581.5</td>\n      <td>145.3</td>\n      <td>3.3</td>\n    </tr>\n    <tr>\n      <th>For Your Eyes Only</th>\n      <td>1981</td>\n      <td>John Glen</td>\n      <td>449.4</td>\n      <td>60.2</td>\n      <td>NaN</td>\n    </tr>\n    <tr>\n      <th>Licence to Kill</th>\n      <td>1989</td>\n      <td>John Glen</td>\n      <td>250.9</td>\n      <td>56.7</td>\n      <td>7.9</td>\n    </tr>\n  </tbody>\n</table>\n</div>"
     },
     "execution_count": 83,
     "metadata": {},
     "output_type": "execute_result"
    }
   ],
   "source": [
    "bond.sample(n=3, axis=0)"
   ],
   "metadata": {
    "collapsed": false,
    "pycharm": {
     "name": "#%%\n"
    }
   }
  },
  {
   "cell_type": "code",
   "execution_count": 84,
   "outputs": [
    {
     "data": {
      "text/plain": "                                 Bond Actor Salary  Budget  Box Office\nFilm                                                                  \nA View to a Kill                               9.1    54.5       275.2\nCasino Royale                                  3.3   145.3       581.5\nCasino Royale                                  NaN    85.0       315.0\nDiamonds Are Forever                           5.8    34.7       442.5\nDie Another Day                               17.9   154.2       465.4\nDr. No                                         0.6     7.0       448.8\nFor Your Eyes Only                             NaN    60.2       449.4\nFrom Russia with Love                          1.6    12.6       543.8\nGoldenEye                                      5.1    76.9       518.5\nGoldfinger                                     3.2    18.6       820.4\nLicence to Kill                                7.9    56.7       250.9\nLive and Let Die                               NaN    30.8       460.3\nMoonraker                                      NaN    91.5       535.0\nNever Say Never Again                          NaN    86.0       380.0\nOctopussy                                      7.8    53.9       373.8\nOn Her Majesty's Secret Service                0.6    37.3       291.5\nQuantum of Solace                              8.1   181.4       514.2\nSkyfall                                       14.5   170.2       943.5\nSpectre                                        NaN   206.3       726.7\nThe Living Daylights                           5.2    68.8       313.5\nThe Man with the Golden Gun                    NaN    27.7       334.0\nThe Spy Who Loved Me                           NaN    45.1       533.0\nThe World Is Not Enough                       13.5   158.3       439.5\nThunderball                                    4.7    41.9       848.1\nTomorrow Never Dies                           10.0   133.9       463.2\nYou Only Live Twice                            4.4    59.9       514.2",
      "text/html": "<div>\n<style scoped>\n    .dataframe tbody tr th:only-of-type {\n        vertical-align: middle;\n    }\n\n    .dataframe tbody tr th {\n        vertical-align: top;\n    }\n\n    .dataframe thead th {\n        text-align: right;\n    }\n</style>\n<table border=\"1\" class=\"dataframe\">\n  <thead>\n    <tr style=\"text-align: right;\">\n      <th></th>\n      <th>Bond Actor Salary</th>\n      <th>Budget</th>\n      <th>Box Office</th>\n    </tr>\n    <tr>\n      <th>Film</th>\n      <th></th>\n      <th></th>\n      <th></th>\n    </tr>\n  </thead>\n  <tbody>\n    <tr>\n      <th>A View to a Kill</th>\n      <td>9.1</td>\n      <td>54.5</td>\n      <td>275.2</td>\n    </tr>\n    <tr>\n      <th>Casino Royale</th>\n      <td>3.3</td>\n      <td>145.3</td>\n      <td>581.5</td>\n    </tr>\n    <tr>\n      <th>Casino Royale</th>\n      <td>NaN</td>\n      <td>85.0</td>\n      <td>315.0</td>\n    </tr>\n    <tr>\n      <th>Diamonds Are Forever</th>\n      <td>5.8</td>\n      <td>34.7</td>\n      <td>442.5</td>\n    </tr>\n    <tr>\n      <th>Die Another Day</th>\n      <td>17.9</td>\n      <td>154.2</td>\n      <td>465.4</td>\n    </tr>\n    <tr>\n      <th>Dr. No</th>\n      <td>0.6</td>\n      <td>7.0</td>\n      <td>448.8</td>\n    </tr>\n    <tr>\n      <th>For Your Eyes Only</th>\n      <td>NaN</td>\n      <td>60.2</td>\n      <td>449.4</td>\n    </tr>\n    <tr>\n      <th>From Russia with Love</th>\n      <td>1.6</td>\n      <td>12.6</td>\n      <td>543.8</td>\n    </tr>\n    <tr>\n      <th>GoldenEye</th>\n      <td>5.1</td>\n      <td>76.9</td>\n      <td>518.5</td>\n    </tr>\n    <tr>\n      <th>Goldfinger</th>\n      <td>3.2</td>\n      <td>18.6</td>\n      <td>820.4</td>\n    </tr>\n    <tr>\n      <th>Licence to Kill</th>\n      <td>7.9</td>\n      <td>56.7</td>\n      <td>250.9</td>\n    </tr>\n    <tr>\n      <th>Live and Let Die</th>\n      <td>NaN</td>\n      <td>30.8</td>\n      <td>460.3</td>\n    </tr>\n    <tr>\n      <th>Moonraker</th>\n      <td>NaN</td>\n      <td>91.5</td>\n      <td>535.0</td>\n    </tr>\n    <tr>\n      <th>Never Say Never Again</th>\n      <td>NaN</td>\n      <td>86.0</td>\n      <td>380.0</td>\n    </tr>\n    <tr>\n      <th>Octopussy</th>\n      <td>7.8</td>\n      <td>53.9</td>\n      <td>373.8</td>\n    </tr>\n    <tr>\n      <th>On Her Majesty's Secret Service</th>\n      <td>0.6</td>\n      <td>37.3</td>\n      <td>291.5</td>\n    </tr>\n    <tr>\n      <th>Quantum of Solace</th>\n      <td>8.1</td>\n      <td>181.4</td>\n      <td>514.2</td>\n    </tr>\n    <tr>\n      <th>Skyfall</th>\n      <td>14.5</td>\n      <td>170.2</td>\n      <td>943.5</td>\n    </tr>\n    <tr>\n      <th>Spectre</th>\n      <td>NaN</td>\n      <td>206.3</td>\n      <td>726.7</td>\n    </tr>\n    <tr>\n      <th>The Living Daylights</th>\n      <td>5.2</td>\n      <td>68.8</td>\n      <td>313.5</td>\n    </tr>\n    <tr>\n      <th>The Man with the Golden Gun</th>\n      <td>NaN</td>\n      <td>27.7</td>\n      <td>334.0</td>\n    </tr>\n    <tr>\n      <th>The Spy Who Loved Me</th>\n      <td>NaN</td>\n      <td>45.1</td>\n      <td>533.0</td>\n    </tr>\n    <tr>\n      <th>The World Is Not Enough</th>\n      <td>13.5</td>\n      <td>158.3</td>\n      <td>439.5</td>\n    </tr>\n    <tr>\n      <th>Thunderball</th>\n      <td>4.7</td>\n      <td>41.9</td>\n      <td>848.1</td>\n    </tr>\n    <tr>\n      <th>Tomorrow Never Dies</th>\n      <td>10.0</td>\n      <td>133.9</td>\n      <td>463.2</td>\n    </tr>\n    <tr>\n      <th>You Only Live Twice</th>\n      <td>4.4</td>\n      <td>59.9</td>\n      <td>514.2</td>\n    </tr>\n  </tbody>\n</table>\n</div>"
     },
     "execution_count": 84,
     "metadata": {},
     "output_type": "execute_result"
    }
   ],
   "source": [
    "bond.sample(n=3, axis=1)"
   ],
   "metadata": {
    "collapsed": false,
    "pycharm": {
     "name": "#%%\n"
    }
   }
  },
  {
   "cell_type": "markdown",
   "source": [
    "# The `.largest()` and `.smallest()` Methods"
   ],
   "metadata": {
    "collapsed": false,
    "pycharm": {
     "name": "#%% md\n"
    }
   }
  },
  {
   "cell_type": "code",
   "execution_count": 85,
   "outputs": [
    {
     "data": {
      "text/plain": "                      Year         Director  Box Office  Budget  \\\nFilm                                                              \nA View to a Kill      1985        John Glen       275.2    54.5   \nCasino Royale         2006  Martin Campbell       581.5   145.3   \nCasino Royale         1967       Ken Hughes       315.0    85.0   \nDiamonds Are Forever  1971     Guy Hamilton       442.5    34.7   \nDie Another Day       2002     Lee Tamahori       465.4   154.2   \n\n                      Bond Actor Salary  \nFilm                                     \nA View to a Kill                    9.1  \nCasino Royale                       3.3  \nCasino Royale                       NaN  \nDiamonds Are Forever                5.8  \nDie Another Day                    17.9  ",
      "text/html": "<div>\n<style scoped>\n    .dataframe tbody tr th:only-of-type {\n        vertical-align: middle;\n    }\n\n    .dataframe tbody tr th {\n        vertical-align: top;\n    }\n\n    .dataframe thead th {\n        text-align: right;\n    }\n</style>\n<table border=\"1\" class=\"dataframe\">\n  <thead>\n    <tr style=\"text-align: right;\">\n      <th></th>\n      <th>Year</th>\n      <th>Director</th>\n      <th>Box Office</th>\n      <th>Budget</th>\n      <th>Bond Actor Salary</th>\n    </tr>\n    <tr>\n      <th>Film</th>\n      <th></th>\n      <th></th>\n      <th></th>\n      <th></th>\n      <th></th>\n    </tr>\n  </thead>\n  <tbody>\n    <tr>\n      <th>A View to a Kill</th>\n      <td>1985</td>\n      <td>John Glen</td>\n      <td>275.2</td>\n      <td>54.5</td>\n      <td>9.1</td>\n    </tr>\n    <tr>\n      <th>Casino Royale</th>\n      <td>2006</td>\n      <td>Martin Campbell</td>\n      <td>581.5</td>\n      <td>145.3</td>\n      <td>3.3</td>\n    </tr>\n    <tr>\n      <th>Casino Royale</th>\n      <td>1967</td>\n      <td>Ken Hughes</td>\n      <td>315.0</td>\n      <td>85.0</td>\n      <td>NaN</td>\n    </tr>\n    <tr>\n      <th>Diamonds Are Forever</th>\n      <td>1971</td>\n      <td>Guy Hamilton</td>\n      <td>442.5</td>\n      <td>34.7</td>\n      <td>5.8</td>\n    </tr>\n    <tr>\n      <th>Die Another Day</th>\n      <td>2002</td>\n      <td>Lee Tamahori</td>\n      <td>465.4</td>\n      <td>154.2</td>\n      <td>17.9</td>\n    </tr>\n  </tbody>\n</table>\n</div>"
     },
     "execution_count": 85,
     "metadata": {},
     "output_type": "execute_result"
    }
   ],
   "source": [
    "bond.head()"
   ],
   "metadata": {
    "collapsed": false,
    "pycharm": {
     "name": "#%%\n"
    }
   }
  },
  {
   "cell_type": "code",
   "execution_count": 86,
   "outputs": [
    {
     "data": {
      "text/plain": "             Year       Director  Box Office  Budget  Bond Actor Salary\nFilm                                                                   \nSkyfall      2012     Sam Mendes       943.5   170.2               14.5\nThunderball  1965  Terence Young       848.1    41.9                4.7\nGoldfinger   1964   Guy Hamilton       820.4    18.6                3.2",
      "text/html": "<div>\n<style scoped>\n    .dataframe tbody tr th:only-of-type {\n        vertical-align: middle;\n    }\n\n    .dataframe tbody tr th {\n        vertical-align: top;\n    }\n\n    .dataframe thead th {\n        text-align: right;\n    }\n</style>\n<table border=\"1\" class=\"dataframe\">\n  <thead>\n    <tr style=\"text-align: right;\">\n      <th></th>\n      <th>Year</th>\n      <th>Director</th>\n      <th>Box Office</th>\n      <th>Budget</th>\n      <th>Bond Actor Salary</th>\n    </tr>\n    <tr>\n      <th>Film</th>\n      <th></th>\n      <th></th>\n      <th></th>\n      <th></th>\n      <th></th>\n    </tr>\n  </thead>\n  <tbody>\n    <tr>\n      <th>Skyfall</th>\n      <td>2012</td>\n      <td>Sam Mendes</td>\n      <td>943.5</td>\n      <td>170.2</td>\n      <td>14.5</td>\n    </tr>\n    <tr>\n      <th>Thunderball</th>\n      <td>1965</td>\n      <td>Terence Young</td>\n      <td>848.1</td>\n      <td>41.9</td>\n      <td>4.7</td>\n    </tr>\n    <tr>\n      <th>Goldfinger</th>\n      <td>1964</td>\n      <td>Guy Hamilton</td>\n      <td>820.4</td>\n      <td>18.6</td>\n      <td>3.2</td>\n    </tr>\n  </tbody>\n</table>\n</div>"
     },
     "execution_count": 86,
     "metadata": {},
     "output_type": "execute_result"
    }
   ],
   "source": [
    "# extract the three movies with the highest box office\n",
    "bond.nlargest(n=3, columns=\"Box Office\")"
   ],
   "metadata": {
    "collapsed": false,
    "pycharm": {
     "name": "#%%\n"
    }
   }
  },
  {
   "cell_type": "code",
   "execution_count": 87,
   "outputs": [
    {
     "data": {
      "text/plain": "                                 Year       Director  Box Office  Budget  \\\nFilm                                                                       \nLicence to Kill                  1989      John Glen       250.9    56.7   \nA View to a Kill                 1985      John Glen       275.2    54.5   \nOn Her Majesty's Secret Service  1969  Peter R. Hunt       291.5    37.3   \n\n                                 Bond Actor Salary  \nFilm                                                \nLicence to Kill                                7.9  \nA View to a Kill                               9.1  \nOn Her Majesty's Secret Service                0.6  ",
      "text/html": "<div>\n<style scoped>\n    .dataframe tbody tr th:only-of-type {\n        vertical-align: middle;\n    }\n\n    .dataframe tbody tr th {\n        vertical-align: top;\n    }\n\n    .dataframe thead th {\n        text-align: right;\n    }\n</style>\n<table border=\"1\" class=\"dataframe\">\n  <thead>\n    <tr style=\"text-align: right;\">\n      <th></th>\n      <th>Year</th>\n      <th>Director</th>\n      <th>Box Office</th>\n      <th>Budget</th>\n      <th>Bond Actor Salary</th>\n    </tr>\n    <tr>\n      <th>Film</th>\n      <th></th>\n      <th></th>\n      <th></th>\n      <th></th>\n      <th></th>\n    </tr>\n  </thead>\n  <tbody>\n    <tr>\n      <th>Licence to Kill</th>\n      <td>1989</td>\n      <td>John Glen</td>\n      <td>250.9</td>\n      <td>56.7</td>\n      <td>7.9</td>\n    </tr>\n    <tr>\n      <th>A View to a Kill</th>\n      <td>1985</td>\n      <td>John Glen</td>\n      <td>275.2</td>\n      <td>54.5</td>\n      <td>9.1</td>\n    </tr>\n    <tr>\n      <th>On Her Majesty's Secret Service</th>\n      <td>1969</td>\n      <td>Peter R. Hunt</td>\n      <td>291.5</td>\n      <td>37.3</td>\n      <td>0.6</td>\n    </tr>\n  </tbody>\n</table>\n</div>"
     },
     "execution_count": 87,
     "metadata": {},
     "output_type": "execute_result"
    }
   ],
   "source": [
    "# extract the three movies with the lowest box office\n",
    "bond.nsmallest(n=3, columns=\"Box Office\")"
   ],
   "metadata": {
    "collapsed": false,
    "pycharm": {
     "name": "#%%\n"
    }
   }
  },
  {
   "cell_type": "code",
   "execution_count": 88,
   "outputs": [
    {
     "data": {
      "text/plain": "Film\nSkyfall        943.5\nThunderball    848.1\nGoldfinger     820.4\nName: Box Office, dtype: float64"
     },
     "execution_count": 88,
     "metadata": {},
     "output_type": "execute_result"
    }
   ],
   "source": [
    "# another way\n",
    "bond[\"Box Office\"].nlargest(3)"
   ],
   "metadata": {
    "collapsed": false,
    "pycharm": {
     "name": "#%%\n"
    }
   }
  },
  {
   "cell_type": "markdown",
   "source": [
    "# Filtering with the `where()` method"
   ],
   "metadata": {
    "collapsed": false,
    "pycharm": {
     "name": "#%% md\n"
    }
   }
  },
  {
   "cell_type": "code",
   "execution_count": 89,
   "outputs": [],
   "source": [
    "bond = pd.read_csv(\"jamesbond.csv\", index_col=\"Film\")\n",
    "bond.sort_index(inplace=True)"
   ],
   "metadata": {
    "collapsed": false,
    "pycharm": {
     "name": "#%%\n"
    }
   }
  },
  {
   "cell_type": "code",
   "execution_count": 90,
   "outputs": [
    {
     "data": {
      "text/plain": "                       Year         Actor        Director  Box Office  Budget  \\\nFilm                                                                            \nDiamonds Are Forever   1971  Sean Connery    Guy Hamilton       442.5    34.7   \nDr. No                 1962  Sean Connery   Terence Young       448.8     7.0   \nFrom Russia with Love  1963  Sean Connery   Terence Young       543.8    12.6   \nGoldfinger             1964  Sean Connery    Guy Hamilton       820.4    18.6   \nNever Say Never Again  1983  Sean Connery  Irvin Kershner       380.0    86.0   \nThunderball            1965  Sean Connery   Terence Young       848.1    41.9   \nYou Only Live Twice    1967  Sean Connery   Lewis Gilbert       514.2    59.9   \n\n                       Bond Actor Salary  \nFilm                                      \nDiamonds Are Forever                 5.8  \nDr. No                               0.6  \nFrom Russia with Love                1.6  \nGoldfinger                           3.2  \nNever Say Never Again                NaN  \nThunderball                          4.7  \nYou Only Live Twice                  4.4  ",
      "text/html": "<div>\n<style scoped>\n    .dataframe tbody tr th:only-of-type {\n        vertical-align: middle;\n    }\n\n    .dataframe tbody tr th {\n        vertical-align: top;\n    }\n\n    .dataframe thead th {\n        text-align: right;\n    }\n</style>\n<table border=\"1\" class=\"dataframe\">\n  <thead>\n    <tr style=\"text-align: right;\">\n      <th></th>\n      <th>Year</th>\n      <th>Actor</th>\n      <th>Director</th>\n      <th>Box Office</th>\n      <th>Budget</th>\n      <th>Bond Actor Salary</th>\n    </tr>\n    <tr>\n      <th>Film</th>\n      <th></th>\n      <th></th>\n      <th></th>\n      <th></th>\n      <th></th>\n      <th></th>\n    </tr>\n  </thead>\n  <tbody>\n    <tr>\n      <th>Diamonds Are Forever</th>\n      <td>1971</td>\n      <td>Sean Connery</td>\n      <td>Guy Hamilton</td>\n      <td>442.5</td>\n      <td>34.7</td>\n      <td>5.8</td>\n    </tr>\n    <tr>\n      <th>Dr. No</th>\n      <td>1962</td>\n      <td>Sean Connery</td>\n      <td>Terence Young</td>\n      <td>448.8</td>\n      <td>7.0</td>\n      <td>0.6</td>\n    </tr>\n    <tr>\n      <th>From Russia with Love</th>\n      <td>1963</td>\n      <td>Sean Connery</td>\n      <td>Terence Young</td>\n      <td>543.8</td>\n      <td>12.6</td>\n      <td>1.6</td>\n    </tr>\n    <tr>\n      <th>Goldfinger</th>\n      <td>1964</td>\n      <td>Sean Connery</td>\n      <td>Guy Hamilton</td>\n      <td>820.4</td>\n      <td>18.6</td>\n      <td>3.2</td>\n    </tr>\n    <tr>\n      <th>Never Say Never Again</th>\n      <td>1983</td>\n      <td>Sean Connery</td>\n      <td>Irvin Kershner</td>\n      <td>380.0</td>\n      <td>86.0</td>\n      <td>NaN</td>\n    </tr>\n    <tr>\n      <th>Thunderball</th>\n      <td>1965</td>\n      <td>Sean Connery</td>\n      <td>Terence Young</td>\n      <td>848.1</td>\n      <td>41.9</td>\n      <td>4.7</td>\n    </tr>\n    <tr>\n      <th>You Only Live Twice</th>\n      <td>1967</td>\n      <td>Sean Connery</td>\n      <td>Lewis Gilbert</td>\n      <td>514.2</td>\n      <td>59.9</td>\n      <td>4.4</td>\n    </tr>\n  </tbody>\n</table>\n</div>"
     },
     "execution_count": 90,
     "metadata": {},
     "output_type": "execute_result"
    }
   ],
   "source": [
    "mask1 = bond[\"Actor\"] == \"Sean Connery\"\n",
    "bond[mask1]"
   ],
   "metadata": {
    "collapsed": false,
    "pycharm": {
     "name": "#%%\n"
    }
   }
  },
  {
   "cell_type": "code",
   "execution_count": 91,
   "outputs": [
    {
     "data": {
      "text/plain": "                                   Year         Actor        Director  \\\nFilm                                                                    \nA View to a Kill                    NaN           NaN             NaN   \nCasino Royale                       NaN           NaN             NaN   \nCasino Royale                       NaN           NaN             NaN   \nDiamonds Are Forever             1971.0  Sean Connery    Guy Hamilton   \nDie Another Day                     NaN           NaN             NaN   \nDr. No                           1962.0  Sean Connery   Terence Young   \nFor Your Eyes Only                  NaN           NaN             NaN   \nFrom Russia with Love            1963.0  Sean Connery   Terence Young   \nGoldenEye                           NaN           NaN             NaN   \nGoldfinger                       1964.0  Sean Connery    Guy Hamilton   \nLicence to Kill                     NaN           NaN             NaN   \nLive and Let Die                    NaN           NaN             NaN   \nMoonraker                           NaN           NaN             NaN   \nNever Say Never Again            1983.0  Sean Connery  Irvin Kershner   \nOctopussy                           NaN           NaN             NaN   \nOn Her Majesty's Secret Service     NaN           NaN             NaN   \nQuantum of Solace                   NaN           NaN             NaN   \nSkyfall                             NaN           NaN             NaN   \nSpectre                             NaN           NaN             NaN   \nThe Living Daylights                NaN           NaN             NaN   \nThe Man with the Golden Gun         NaN           NaN             NaN   \nThe Spy Who Loved Me                NaN           NaN             NaN   \nThe World Is Not Enough             NaN           NaN             NaN   \nThunderball                      1965.0  Sean Connery   Terence Young   \nTomorrow Never Dies                 NaN           NaN             NaN   \nYou Only Live Twice              1967.0  Sean Connery   Lewis Gilbert   \n\n                                 Box Office  Budget  Bond Actor Salary  \nFilm                                                                    \nA View to a Kill                        NaN     NaN                NaN  \nCasino Royale                           NaN     NaN                NaN  \nCasino Royale                           NaN     NaN                NaN  \nDiamonds Are Forever                  442.5    34.7                5.8  \nDie Another Day                         NaN     NaN                NaN  \nDr. No                                448.8     7.0                0.6  \nFor Your Eyes Only                      NaN     NaN                NaN  \nFrom Russia with Love                 543.8    12.6                1.6  \nGoldenEye                               NaN     NaN                NaN  \nGoldfinger                            820.4    18.6                3.2  \nLicence to Kill                         NaN     NaN                NaN  \nLive and Let Die                        NaN     NaN                NaN  \nMoonraker                               NaN     NaN                NaN  \nNever Say Never Again                 380.0    86.0                NaN  \nOctopussy                               NaN     NaN                NaN  \nOn Her Majesty's Secret Service         NaN     NaN                NaN  \nQuantum of Solace                       NaN     NaN                NaN  \nSkyfall                                 NaN     NaN                NaN  \nSpectre                                 NaN     NaN                NaN  \nThe Living Daylights                    NaN     NaN                NaN  \nThe Man with the Golden Gun             NaN     NaN                NaN  \nThe Spy Who Loved Me                    NaN     NaN                NaN  \nThe World Is Not Enough                 NaN     NaN                NaN  \nThunderball                           848.1    41.9                4.7  \nTomorrow Never Dies                     NaN     NaN                NaN  \nYou Only Live Twice                   514.2    59.9                4.4  ",
      "text/html": "<div>\n<style scoped>\n    .dataframe tbody tr th:only-of-type {\n        vertical-align: middle;\n    }\n\n    .dataframe tbody tr th {\n        vertical-align: top;\n    }\n\n    .dataframe thead th {\n        text-align: right;\n    }\n</style>\n<table border=\"1\" class=\"dataframe\">\n  <thead>\n    <tr style=\"text-align: right;\">\n      <th></th>\n      <th>Year</th>\n      <th>Actor</th>\n      <th>Director</th>\n      <th>Box Office</th>\n      <th>Budget</th>\n      <th>Bond Actor Salary</th>\n    </tr>\n    <tr>\n      <th>Film</th>\n      <th></th>\n      <th></th>\n      <th></th>\n      <th></th>\n      <th></th>\n      <th></th>\n    </tr>\n  </thead>\n  <tbody>\n    <tr>\n      <th>A View to a Kill</th>\n      <td>NaN</td>\n      <td>NaN</td>\n      <td>NaN</td>\n      <td>NaN</td>\n      <td>NaN</td>\n      <td>NaN</td>\n    </tr>\n    <tr>\n      <th>Casino Royale</th>\n      <td>NaN</td>\n      <td>NaN</td>\n      <td>NaN</td>\n      <td>NaN</td>\n      <td>NaN</td>\n      <td>NaN</td>\n    </tr>\n    <tr>\n      <th>Casino Royale</th>\n      <td>NaN</td>\n      <td>NaN</td>\n      <td>NaN</td>\n      <td>NaN</td>\n      <td>NaN</td>\n      <td>NaN</td>\n    </tr>\n    <tr>\n      <th>Diamonds Are Forever</th>\n      <td>1971.0</td>\n      <td>Sean Connery</td>\n      <td>Guy Hamilton</td>\n      <td>442.5</td>\n      <td>34.7</td>\n      <td>5.8</td>\n    </tr>\n    <tr>\n      <th>Die Another Day</th>\n      <td>NaN</td>\n      <td>NaN</td>\n      <td>NaN</td>\n      <td>NaN</td>\n      <td>NaN</td>\n      <td>NaN</td>\n    </tr>\n    <tr>\n      <th>Dr. No</th>\n      <td>1962.0</td>\n      <td>Sean Connery</td>\n      <td>Terence Young</td>\n      <td>448.8</td>\n      <td>7.0</td>\n      <td>0.6</td>\n    </tr>\n    <tr>\n      <th>For Your Eyes Only</th>\n      <td>NaN</td>\n      <td>NaN</td>\n      <td>NaN</td>\n      <td>NaN</td>\n      <td>NaN</td>\n      <td>NaN</td>\n    </tr>\n    <tr>\n      <th>From Russia with Love</th>\n      <td>1963.0</td>\n      <td>Sean Connery</td>\n      <td>Terence Young</td>\n      <td>543.8</td>\n      <td>12.6</td>\n      <td>1.6</td>\n    </tr>\n    <tr>\n      <th>GoldenEye</th>\n      <td>NaN</td>\n      <td>NaN</td>\n      <td>NaN</td>\n      <td>NaN</td>\n      <td>NaN</td>\n      <td>NaN</td>\n    </tr>\n    <tr>\n      <th>Goldfinger</th>\n      <td>1964.0</td>\n      <td>Sean Connery</td>\n      <td>Guy Hamilton</td>\n      <td>820.4</td>\n      <td>18.6</td>\n      <td>3.2</td>\n    </tr>\n    <tr>\n      <th>Licence to Kill</th>\n      <td>NaN</td>\n      <td>NaN</td>\n      <td>NaN</td>\n      <td>NaN</td>\n      <td>NaN</td>\n      <td>NaN</td>\n    </tr>\n    <tr>\n      <th>Live and Let Die</th>\n      <td>NaN</td>\n      <td>NaN</td>\n      <td>NaN</td>\n      <td>NaN</td>\n      <td>NaN</td>\n      <td>NaN</td>\n    </tr>\n    <tr>\n      <th>Moonraker</th>\n      <td>NaN</td>\n      <td>NaN</td>\n      <td>NaN</td>\n      <td>NaN</td>\n      <td>NaN</td>\n      <td>NaN</td>\n    </tr>\n    <tr>\n      <th>Never Say Never Again</th>\n      <td>1983.0</td>\n      <td>Sean Connery</td>\n      <td>Irvin Kershner</td>\n      <td>380.0</td>\n      <td>86.0</td>\n      <td>NaN</td>\n    </tr>\n    <tr>\n      <th>Octopussy</th>\n      <td>NaN</td>\n      <td>NaN</td>\n      <td>NaN</td>\n      <td>NaN</td>\n      <td>NaN</td>\n      <td>NaN</td>\n    </tr>\n    <tr>\n      <th>On Her Majesty's Secret Service</th>\n      <td>NaN</td>\n      <td>NaN</td>\n      <td>NaN</td>\n      <td>NaN</td>\n      <td>NaN</td>\n      <td>NaN</td>\n    </tr>\n    <tr>\n      <th>Quantum of Solace</th>\n      <td>NaN</td>\n      <td>NaN</td>\n      <td>NaN</td>\n      <td>NaN</td>\n      <td>NaN</td>\n      <td>NaN</td>\n    </tr>\n    <tr>\n      <th>Skyfall</th>\n      <td>NaN</td>\n      <td>NaN</td>\n      <td>NaN</td>\n      <td>NaN</td>\n      <td>NaN</td>\n      <td>NaN</td>\n    </tr>\n    <tr>\n      <th>Spectre</th>\n      <td>NaN</td>\n      <td>NaN</td>\n      <td>NaN</td>\n      <td>NaN</td>\n      <td>NaN</td>\n      <td>NaN</td>\n    </tr>\n    <tr>\n      <th>The Living Daylights</th>\n      <td>NaN</td>\n      <td>NaN</td>\n      <td>NaN</td>\n      <td>NaN</td>\n      <td>NaN</td>\n      <td>NaN</td>\n    </tr>\n    <tr>\n      <th>The Man with the Golden Gun</th>\n      <td>NaN</td>\n      <td>NaN</td>\n      <td>NaN</td>\n      <td>NaN</td>\n      <td>NaN</td>\n      <td>NaN</td>\n    </tr>\n    <tr>\n      <th>The Spy Who Loved Me</th>\n      <td>NaN</td>\n      <td>NaN</td>\n      <td>NaN</td>\n      <td>NaN</td>\n      <td>NaN</td>\n      <td>NaN</td>\n    </tr>\n    <tr>\n      <th>The World Is Not Enough</th>\n      <td>NaN</td>\n      <td>NaN</td>\n      <td>NaN</td>\n      <td>NaN</td>\n      <td>NaN</td>\n      <td>NaN</td>\n    </tr>\n    <tr>\n      <th>Thunderball</th>\n      <td>1965.0</td>\n      <td>Sean Connery</td>\n      <td>Terence Young</td>\n      <td>848.1</td>\n      <td>41.9</td>\n      <td>4.7</td>\n    </tr>\n    <tr>\n      <th>Tomorrow Never Dies</th>\n      <td>NaN</td>\n      <td>NaN</td>\n      <td>NaN</td>\n      <td>NaN</td>\n      <td>NaN</td>\n      <td>NaN</td>\n    </tr>\n    <tr>\n      <th>You Only Live Twice</th>\n      <td>1967.0</td>\n      <td>Sean Connery</td>\n      <td>Lewis Gilbert</td>\n      <td>514.2</td>\n      <td>59.9</td>\n      <td>4.4</td>\n    </tr>\n  </tbody>\n</table>\n</div>"
     },
     "execution_count": 91,
     "metadata": {},
     "output_type": "execute_result"
    }
   ],
   "source": [
    "bond.where(mask1)"
   ],
   "metadata": {
    "collapsed": false,
    "pycharm": {
     "name": "#%%\n"
    }
   }
  },
  {
   "cell_type": "code",
   "execution_count": 92,
   "outputs": [
    {
     "data": {
      "text/plain": "                                   Year         Actor       Director  \\\nFilm                                                                   \nA View to a Kill                    NaN           NaN            NaN   \nCasino Royale                       NaN           NaN            NaN   \nCasino Royale                       NaN           NaN            NaN   \nDiamonds Are Forever                NaN           NaN            NaN   \nDie Another Day                     NaN           NaN            NaN   \nDr. No                              NaN           NaN            NaN   \nFor Your Eyes Only                  NaN           NaN            NaN   \nFrom Russia with Love               NaN           NaN            NaN   \nGoldenEye                           NaN           NaN            NaN   \nGoldfinger                       1964.0  Sean Connery   Guy Hamilton   \nLicence to Kill                     NaN           NaN            NaN   \nLive and Let Die                    NaN           NaN            NaN   \nMoonraker                           NaN           NaN            NaN   \nNever Say Never Again               NaN           NaN            NaN   \nOctopussy                           NaN           NaN            NaN   \nOn Her Majesty's Secret Service     NaN           NaN            NaN   \nQuantum of Solace                   NaN           NaN            NaN   \nSkyfall                          2012.0  Daniel Craig     Sam Mendes   \nSpectre                             NaN           NaN            NaN   \nThe Living Daylights                NaN           NaN            NaN   \nThe Man with the Golden Gun         NaN           NaN            NaN   \nThe Spy Who Loved Me                NaN           NaN            NaN   \nThe World Is Not Enough             NaN           NaN            NaN   \nThunderball                      1965.0  Sean Connery  Terence Young   \nTomorrow Never Dies                 NaN           NaN            NaN   \nYou Only Live Twice                 NaN           NaN            NaN   \n\n                                 Box Office  Budget  Bond Actor Salary  \nFilm                                                                    \nA View to a Kill                        NaN     NaN                NaN  \nCasino Royale                           NaN     NaN                NaN  \nCasino Royale                           NaN     NaN                NaN  \nDiamonds Are Forever                    NaN     NaN                NaN  \nDie Another Day                         NaN     NaN                NaN  \nDr. No                                  NaN     NaN                NaN  \nFor Your Eyes Only                      NaN     NaN                NaN  \nFrom Russia with Love                   NaN     NaN                NaN  \nGoldenEye                               NaN     NaN                NaN  \nGoldfinger                            820.4    18.6                3.2  \nLicence to Kill                         NaN     NaN                NaN  \nLive and Let Die                        NaN     NaN                NaN  \nMoonraker                               NaN     NaN                NaN  \nNever Say Never Again                   NaN     NaN                NaN  \nOctopussy                               NaN     NaN                NaN  \nOn Her Majesty's Secret Service         NaN     NaN                NaN  \nQuantum of Solace                       NaN     NaN                NaN  \nSkyfall                               943.5   170.2               14.5  \nSpectre                                 NaN     NaN                NaN  \nThe Living Daylights                    NaN     NaN                NaN  \nThe Man with the Golden Gun             NaN     NaN                NaN  \nThe Spy Who Loved Me                    NaN     NaN                NaN  \nThe World Is Not Enough                 NaN     NaN                NaN  \nThunderball                           848.1    41.9                4.7  \nTomorrow Never Dies                     NaN     NaN                NaN  \nYou Only Live Twice                     NaN     NaN                NaN  ",
      "text/html": "<div>\n<style scoped>\n    .dataframe tbody tr th:only-of-type {\n        vertical-align: middle;\n    }\n\n    .dataframe tbody tr th {\n        vertical-align: top;\n    }\n\n    .dataframe thead th {\n        text-align: right;\n    }\n</style>\n<table border=\"1\" class=\"dataframe\">\n  <thead>\n    <tr style=\"text-align: right;\">\n      <th></th>\n      <th>Year</th>\n      <th>Actor</th>\n      <th>Director</th>\n      <th>Box Office</th>\n      <th>Budget</th>\n      <th>Bond Actor Salary</th>\n    </tr>\n    <tr>\n      <th>Film</th>\n      <th></th>\n      <th></th>\n      <th></th>\n      <th></th>\n      <th></th>\n      <th></th>\n    </tr>\n  </thead>\n  <tbody>\n    <tr>\n      <th>A View to a Kill</th>\n      <td>NaN</td>\n      <td>NaN</td>\n      <td>NaN</td>\n      <td>NaN</td>\n      <td>NaN</td>\n      <td>NaN</td>\n    </tr>\n    <tr>\n      <th>Casino Royale</th>\n      <td>NaN</td>\n      <td>NaN</td>\n      <td>NaN</td>\n      <td>NaN</td>\n      <td>NaN</td>\n      <td>NaN</td>\n    </tr>\n    <tr>\n      <th>Casino Royale</th>\n      <td>NaN</td>\n      <td>NaN</td>\n      <td>NaN</td>\n      <td>NaN</td>\n      <td>NaN</td>\n      <td>NaN</td>\n    </tr>\n    <tr>\n      <th>Diamonds Are Forever</th>\n      <td>NaN</td>\n      <td>NaN</td>\n      <td>NaN</td>\n      <td>NaN</td>\n      <td>NaN</td>\n      <td>NaN</td>\n    </tr>\n    <tr>\n      <th>Die Another Day</th>\n      <td>NaN</td>\n      <td>NaN</td>\n      <td>NaN</td>\n      <td>NaN</td>\n      <td>NaN</td>\n      <td>NaN</td>\n    </tr>\n    <tr>\n      <th>Dr. No</th>\n      <td>NaN</td>\n      <td>NaN</td>\n      <td>NaN</td>\n      <td>NaN</td>\n      <td>NaN</td>\n      <td>NaN</td>\n    </tr>\n    <tr>\n      <th>For Your Eyes Only</th>\n      <td>NaN</td>\n      <td>NaN</td>\n      <td>NaN</td>\n      <td>NaN</td>\n      <td>NaN</td>\n      <td>NaN</td>\n    </tr>\n    <tr>\n      <th>From Russia with Love</th>\n      <td>NaN</td>\n      <td>NaN</td>\n      <td>NaN</td>\n      <td>NaN</td>\n      <td>NaN</td>\n      <td>NaN</td>\n    </tr>\n    <tr>\n      <th>GoldenEye</th>\n      <td>NaN</td>\n      <td>NaN</td>\n      <td>NaN</td>\n      <td>NaN</td>\n      <td>NaN</td>\n      <td>NaN</td>\n    </tr>\n    <tr>\n      <th>Goldfinger</th>\n      <td>1964.0</td>\n      <td>Sean Connery</td>\n      <td>Guy Hamilton</td>\n      <td>820.4</td>\n      <td>18.6</td>\n      <td>3.2</td>\n    </tr>\n    <tr>\n      <th>Licence to Kill</th>\n      <td>NaN</td>\n      <td>NaN</td>\n      <td>NaN</td>\n      <td>NaN</td>\n      <td>NaN</td>\n      <td>NaN</td>\n    </tr>\n    <tr>\n      <th>Live and Let Die</th>\n      <td>NaN</td>\n      <td>NaN</td>\n      <td>NaN</td>\n      <td>NaN</td>\n      <td>NaN</td>\n      <td>NaN</td>\n    </tr>\n    <tr>\n      <th>Moonraker</th>\n      <td>NaN</td>\n      <td>NaN</td>\n      <td>NaN</td>\n      <td>NaN</td>\n      <td>NaN</td>\n      <td>NaN</td>\n    </tr>\n    <tr>\n      <th>Never Say Never Again</th>\n      <td>NaN</td>\n      <td>NaN</td>\n      <td>NaN</td>\n      <td>NaN</td>\n      <td>NaN</td>\n      <td>NaN</td>\n    </tr>\n    <tr>\n      <th>Octopussy</th>\n      <td>NaN</td>\n      <td>NaN</td>\n      <td>NaN</td>\n      <td>NaN</td>\n      <td>NaN</td>\n      <td>NaN</td>\n    </tr>\n    <tr>\n      <th>On Her Majesty's Secret Service</th>\n      <td>NaN</td>\n      <td>NaN</td>\n      <td>NaN</td>\n      <td>NaN</td>\n      <td>NaN</td>\n      <td>NaN</td>\n    </tr>\n    <tr>\n      <th>Quantum of Solace</th>\n      <td>NaN</td>\n      <td>NaN</td>\n      <td>NaN</td>\n      <td>NaN</td>\n      <td>NaN</td>\n      <td>NaN</td>\n    </tr>\n    <tr>\n      <th>Skyfall</th>\n      <td>2012.0</td>\n      <td>Daniel Craig</td>\n      <td>Sam Mendes</td>\n      <td>943.5</td>\n      <td>170.2</td>\n      <td>14.5</td>\n    </tr>\n    <tr>\n      <th>Spectre</th>\n      <td>NaN</td>\n      <td>NaN</td>\n      <td>NaN</td>\n      <td>NaN</td>\n      <td>NaN</td>\n      <td>NaN</td>\n    </tr>\n    <tr>\n      <th>The Living Daylights</th>\n      <td>NaN</td>\n      <td>NaN</td>\n      <td>NaN</td>\n      <td>NaN</td>\n      <td>NaN</td>\n      <td>NaN</td>\n    </tr>\n    <tr>\n      <th>The Man with the Golden Gun</th>\n      <td>NaN</td>\n      <td>NaN</td>\n      <td>NaN</td>\n      <td>NaN</td>\n      <td>NaN</td>\n      <td>NaN</td>\n    </tr>\n    <tr>\n      <th>The Spy Who Loved Me</th>\n      <td>NaN</td>\n      <td>NaN</td>\n      <td>NaN</td>\n      <td>NaN</td>\n      <td>NaN</td>\n      <td>NaN</td>\n    </tr>\n    <tr>\n      <th>The World Is Not Enough</th>\n      <td>NaN</td>\n      <td>NaN</td>\n      <td>NaN</td>\n      <td>NaN</td>\n      <td>NaN</td>\n      <td>NaN</td>\n    </tr>\n    <tr>\n      <th>Thunderball</th>\n      <td>1965.0</td>\n      <td>Sean Connery</td>\n      <td>Terence Young</td>\n      <td>848.1</td>\n      <td>41.9</td>\n      <td>4.7</td>\n    </tr>\n    <tr>\n      <th>Tomorrow Never Dies</th>\n      <td>NaN</td>\n      <td>NaN</td>\n      <td>NaN</td>\n      <td>NaN</td>\n      <td>NaN</td>\n      <td>NaN</td>\n    </tr>\n    <tr>\n      <th>You Only Live Twice</th>\n      <td>NaN</td>\n      <td>NaN</td>\n      <td>NaN</td>\n      <td>NaN</td>\n      <td>NaN</td>\n      <td>NaN</td>\n    </tr>\n  </tbody>\n</table>\n</div>"
     },
     "execution_count": 92,
     "metadata": {},
     "output_type": "execute_result"
    }
   ],
   "source": [
    "mask2 = bond[\"Box Office\"] > 800\n",
    "bond.where(mask2)"
   ],
   "metadata": {
    "collapsed": false,
    "pycharm": {
     "name": "#%%\n"
    }
   }
  },
  {
   "cell_type": "code",
   "execution_count": 93,
   "outputs": [
    {
     "data": {
      "text/plain": "                                   Year         Actor       Director  \\\nFilm                                                                   \nA View to a Kill                    NaN           NaN            NaN   \nCasino Royale                       NaN           NaN            NaN   \nCasino Royale                       NaN           NaN            NaN   \nDiamonds Are Forever                NaN           NaN            NaN   \nDie Another Day                     NaN           NaN            NaN   \nDr. No                              NaN           NaN            NaN   \nFor Your Eyes Only                  NaN           NaN            NaN   \nFrom Russia with Love               NaN           NaN            NaN   \nGoldenEye                           NaN           NaN            NaN   \nGoldfinger                       1964.0  Sean Connery   Guy Hamilton   \nLicence to Kill                     NaN           NaN            NaN   \nLive and Let Die                    NaN           NaN            NaN   \nMoonraker                           NaN           NaN            NaN   \nNever Say Never Again               NaN           NaN            NaN   \nOctopussy                           NaN           NaN            NaN   \nOn Her Majesty's Secret Service     NaN           NaN            NaN   \nQuantum of Solace                   NaN           NaN            NaN   \nSkyfall                             NaN           NaN            NaN   \nSpectre                             NaN           NaN            NaN   \nThe Living Daylights                NaN           NaN            NaN   \nThe Man with the Golden Gun         NaN           NaN            NaN   \nThe Spy Who Loved Me                NaN           NaN            NaN   \nThe World Is Not Enough             NaN           NaN            NaN   \nThunderball                      1965.0  Sean Connery  Terence Young   \nTomorrow Never Dies                 NaN           NaN            NaN   \nYou Only Live Twice                 NaN           NaN            NaN   \n\n                                 Box Office  Budget  Bond Actor Salary  \nFilm                                                                    \nA View to a Kill                        NaN     NaN                NaN  \nCasino Royale                           NaN     NaN                NaN  \nCasino Royale                           NaN     NaN                NaN  \nDiamonds Are Forever                    NaN     NaN                NaN  \nDie Another Day                         NaN     NaN                NaN  \nDr. No                                  NaN     NaN                NaN  \nFor Your Eyes Only                      NaN     NaN                NaN  \nFrom Russia with Love                   NaN     NaN                NaN  \nGoldenEye                               NaN     NaN                NaN  \nGoldfinger                            820.4    18.6                3.2  \nLicence to Kill                         NaN     NaN                NaN  \nLive and Let Die                        NaN     NaN                NaN  \nMoonraker                               NaN     NaN                NaN  \nNever Say Never Again                   NaN     NaN                NaN  \nOctopussy                               NaN     NaN                NaN  \nOn Her Majesty's Secret Service         NaN     NaN                NaN  \nQuantum of Solace                       NaN     NaN                NaN  \nSkyfall                                 NaN     NaN                NaN  \nSpectre                                 NaN     NaN                NaN  \nThe Living Daylights                    NaN     NaN                NaN  \nThe Man with the Golden Gun             NaN     NaN                NaN  \nThe Spy Who Loved Me                    NaN     NaN                NaN  \nThe World Is Not Enough                 NaN     NaN                NaN  \nThunderball                           848.1    41.9                4.7  \nTomorrow Never Dies                     NaN     NaN                NaN  \nYou Only Live Twice                     NaN     NaN                NaN  ",
      "text/html": "<div>\n<style scoped>\n    .dataframe tbody tr th:only-of-type {\n        vertical-align: middle;\n    }\n\n    .dataframe tbody tr th {\n        vertical-align: top;\n    }\n\n    .dataframe thead th {\n        text-align: right;\n    }\n</style>\n<table border=\"1\" class=\"dataframe\">\n  <thead>\n    <tr style=\"text-align: right;\">\n      <th></th>\n      <th>Year</th>\n      <th>Actor</th>\n      <th>Director</th>\n      <th>Box Office</th>\n      <th>Budget</th>\n      <th>Bond Actor Salary</th>\n    </tr>\n    <tr>\n      <th>Film</th>\n      <th></th>\n      <th></th>\n      <th></th>\n      <th></th>\n      <th></th>\n      <th></th>\n    </tr>\n  </thead>\n  <tbody>\n    <tr>\n      <th>A View to a Kill</th>\n      <td>NaN</td>\n      <td>NaN</td>\n      <td>NaN</td>\n      <td>NaN</td>\n      <td>NaN</td>\n      <td>NaN</td>\n    </tr>\n    <tr>\n      <th>Casino Royale</th>\n      <td>NaN</td>\n      <td>NaN</td>\n      <td>NaN</td>\n      <td>NaN</td>\n      <td>NaN</td>\n      <td>NaN</td>\n    </tr>\n    <tr>\n      <th>Casino Royale</th>\n      <td>NaN</td>\n      <td>NaN</td>\n      <td>NaN</td>\n      <td>NaN</td>\n      <td>NaN</td>\n      <td>NaN</td>\n    </tr>\n    <tr>\n      <th>Diamonds Are Forever</th>\n      <td>NaN</td>\n      <td>NaN</td>\n      <td>NaN</td>\n      <td>NaN</td>\n      <td>NaN</td>\n      <td>NaN</td>\n    </tr>\n    <tr>\n      <th>Die Another Day</th>\n      <td>NaN</td>\n      <td>NaN</td>\n      <td>NaN</td>\n      <td>NaN</td>\n      <td>NaN</td>\n      <td>NaN</td>\n    </tr>\n    <tr>\n      <th>Dr. No</th>\n      <td>NaN</td>\n      <td>NaN</td>\n      <td>NaN</td>\n      <td>NaN</td>\n      <td>NaN</td>\n      <td>NaN</td>\n    </tr>\n    <tr>\n      <th>For Your Eyes Only</th>\n      <td>NaN</td>\n      <td>NaN</td>\n      <td>NaN</td>\n      <td>NaN</td>\n      <td>NaN</td>\n      <td>NaN</td>\n    </tr>\n    <tr>\n      <th>From Russia with Love</th>\n      <td>NaN</td>\n      <td>NaN</td>\n      <td>NaN</td>\n      <td>NaN</td>\n      <td>NaN</td>\n      <td>NaN</td>\n    </tr>\n    <tr>\n      <th>GoldenEye</th>\n      <td>NaN</td>\n      <td>NaN</td>\n      <td>NaN</td>\n      <td>NaN</td>\n      <td>NaN</td>\n      <td>NaN</td>\n    </tr>\n    <tr>\n      <th>Goldfinger</th>\n      <td>1964.0</td>\n      <td>Sean Connery</td>\n      <td>Guy Hamilton</td>\n      <td>820.4</td>\n      <td>18.6</td>\n      <td>3.2</td>\n    </tr>\n    <tr>\n      <th>Licence to Kill</th>\n      <td>NaN</td>\n      <td>NaN</td>\n      <td>NaN</td>\n      <td>NaN</td>\n      <td>NaN</td>\n      <td>NaN</td>\n    </tr>\n    <tr>\n      <th>Live and Let Die</th>\n      <td>NaN</td>\n      <td>NaN</td>\n      <td>NaN</td>\n      <td>NaN</td>\n      <td>NaN</td>\n      <td>NaN</td>\n    </tr>\n    <tr>\n      <th>Moonraker</th>\n      <td>NaN</td>\n      <td>NaN</td>\n      <td>NaN</td>\n      <td>NaN</td>\n      <td>NaN</td>\n      <td>NaN</td>\n    </tr>\n    <tr>\n      <th>Never Say Never Again</th>\n      <td>NaN</td>\n      <td>NaN</td>\n      <td>NaN</td>\n      <td>NaN</td>\n      <td>NaN</td>\n      <td>NaN</td>\n    </tr>\n    <tr>\n      <th>Octopussy</th>\n      <td>NaN</td>\n      <td>NaN</td>\n      <td>NaN</td>\n      <td>NaN</td>\n      <td>NaN</td>\n      <td>NaN</td>\n    </tr>\n    <tr>\n      <th>On Her Majesty's Secret Service</th>\n      <td>NaN</td>\n      <td>NaN</td>\n      <td>NaN</td>\n      <td>NaN</td>\n      <td>NaN</td>\n      <td>NaN</td>\n    </tr>\n    <tr>\n      <th>Quantum of Solace</th>\n      <td>NaN</td>\n      <td>NaN</td>\n      <td>NaN</td>\n      <td>NaN</td>\n      <td>NaN</td>\n      <td>NaN</td>\n    </tr>\n    <tr>\n      <th>Skyfall</th>\n      <td>NaN</td>\n      <td>NaN</td>\n      <td>NaN</td>\n      <td>NaN</td>\n      <td>NaN</td>\n      <td>NaN</td>\n    </tr>\n    <tr>\n      <th>Spectre</th>\n      <td>NaN</td>\n      <td>NaN</td>\n      <td>NaN</td>\n      <td>NaN</td>\n      <td>NaN</td>\n      <td>NaN</td>\n    </tr>\n    <tr>\n      <th>The Living Daylights</th>\n      <td>NaN</td>\n      <td>NaN</td>\n      <td>NaN</td>\n      <td>NaN</td>\n      <td>NaN</td>\n      <td>NaN</td>\n    </tr>\n    <tr>\n      <th>The Man with the Golden Gun</th>\n      <td>NaN</td>\n      <td>NaN</td>\n      <td>NaN</td>\n      <td>NaN</td>\n      <td>NaN</td>\n      <td>NaN</td>\n    </tr>\n    <tr>\n      <th>The Spy Who Loved Me</th>\n      <td>NaN</td>\n      <td>NaN</td>\n      <td>NaN</td>\n      <td>NaN</td>\n      <td>NaN</td>\n      <td>NaN</td>\n    </tr>\n    <tr>\n      <th>The World Is Not Enough</th>\n      <td>NaN</td>\n      <td>NaN</td>\n      <td>NaN</td>\n      <td>NaN</td>\n      <td>NaN</td>\n      <td>NaN</td>\n    </tr>\n    <tr>\n      <th>Thunderball</th>\n      <td>1965.0</td>\n      <td>Sean Connery</td>\n      <td>Terence Young</td>\n      <td>848.1</td>\n      <td>41.9</td>\n      <td>4.7</td>\n    </tr>\n    <tr>\n      <th>Tomorrow Never Dies</th>\n      <td>NaN</td>\n      <td>NaN</td>\n      <td>NaN</td>\n      <td>NaN</td>\n      <td>NaN</td>\n      <td>NaN</td>\n    </tr>\n    <tr>\n      <th>You Only Live Twice</th>\n      <td>NaN</td>\n      <td>NaN</td>\n      <td>NaN</td>\n      <td>NaN</td>\n      <td>NaN</td>\n      <td>NaN</td>\n    </tr>\n  </tbody>\n</table>\n</div>"
     },
     "execution_count": 93,
     "metadata": {},
     "output_type": "execute_result"
    }
   ],
   "source": [
    "bond.where(mask1 & mask2)"
   ],
   "metadata": {
    "collapsed": false,
    "pycharm": {
     "name": "#%%\n"
    }
   }
  },
  {
   "cell_type": "markdown",
   "source": [
    "# The `query()` method"
   ],
   "metadata": {
    "collapsed": false,
    "pycharm": {
     "name": "#%% md\n"
    }
   }
  },
  {
   "cell_type": "code",
   "execution_count": 95,
   "outputs": [
    {
     "data": {
      "text/plain": "                      Year           Actor         Director  Box Office  \\\nFilm                                                                      \nA View to a Kill      1985     Roger Moore        John Glen       275.2   \nCasino Royale         2006    Daniel Craig  Martin Campbell       581.5   \nCasino Royale         1967     David Niven       Ken Hughes       315.0   \nDiamonds Are Forever  1971    Sean Connery     Guy Hamilton       442.5   \nDie Another Day       2002  Pierce Brosnan     Lee Tamahori       465.4   \n\n                      Budget  Bond Actor Salary  \nFilm                                             \nA View to a Kill        54.5                9.1  \nCasino Royale          145.3                3.3  \nCasino Royale           85.0                NaN  \nDiamonds Are Forever    34.7                5.8  \nDie Another Day        154.2               17.9  ",
      "text/html": "<div>\n<style scoped>\n    .dataframe tbody tr th:only-of-type {\n        vertical-align: middle;\n    }\n\n    .dataframe tbody tr th {\n        vertical-align: top;\n    }\n\n    .dataframe thead th {\n        text-align: right;\n    }\n</style>\n<table border=\"1\" class=\"dataframe\">\n  <thead>\n    <tr style=\"text-align: right;\">\n      <th></th>\n      <th>Year</th>\n      <th>Actor</th>\n      <th>Director</th>\n      <th>Box Office</th>\n      <th>Budget</th>\n      <th>Bond Actor Salary</th>\n    </tr>\n    <tr>\n      <th>Film</th>\n      <th></th>\n      <th></th>\n      <th></th>\n      <th></th>\n      <th></th>\n      <th></th>\n    </tr>\n  </thead>\n  <tbody>\n    <tr>\n      <th>A View to a Kill</th>\n      <td>1985</td>\n      <td>Roger Moore</td>\n      <td>John Glen</td>\n      <td>275.2</td>\n      <td>54.5</td>\n      <td>9.1</td>\n    </tr>\n    <tr>\n      <th>Casino Royale</th>\n      <td>2006</td>\n      <td>Daniel Craig</td>\n      <td>Martin Campbell</td>\n      <td>581.5</td>\n      <td>145.3</td>\n      <td>3.3</td>\n    </tr>\n    <tr>\n      <th>Casino Royale</th>\n      <td>1967</td>\n      <td>David Niven</td>\n      <td>Ken Hughes</td>\n      <td>315.0</td>\n      <td>85.0</td>\n      <td>NaN</td>\n    </tr>\n    <tr>\n      <th>Diamonds Are Forever</th>\n      <td>1971</td>\n      <td>Sean Connery</td>\n      <td>Guy Hamilton</td>\n      <td>442.5</td>\n      <td>34.7</td>\n      <td>5.8</td>\n    </tr>\n    <tr>\n      <th>Die Another Day</th>\n      <td>2002</td>\n      <td>Pierce Brosnan</td>\n      <td>Lee Tamahori</td>\n      <td>465.4</td>\n      <td>154.2</td>\n      <td>17.9</td>\n    </tr>\n  </tbody>\n</table>\n</div>"
     },
     "execution_count": 95,
     "metadata": {},
     "output_type": "execute_result"
    }
   ],
   "source": [
    "bond.head()"
   ],
   "metadata": {
    "collapsed": false,
    "pycharm": {
     "name": "#%%\n"
    }
   }
  },
  {
   "cell_type": "markdown",
   "source": [
    "This method only works if there is no spaces in the column names. So firstly we have to change the blank spaces for underscores."
   ],
   "metadata": {
    "collapsed": false,
    "pycharm": {
     "name": "#%% md\n"
    }
   }
  },
  {
   "cell_type": "code",
   "execution_count": 99,
   "outputs": [
    {
     "data": {
      "text/plain": "                      Year           Actor         Director  Box_Office  \\\nFilm                                                                      \nA View to a Kill      1985     Roger Moore        John Glen       275.2   \nCasino Royale         2006    Daniel Craig  Martin Campbell       581.5   \nCasino Royale         1967     David Niven       Ken Hughes       315.0   \nDiamonds Are Forever  1971    Sean Connery     Guy Hamilton       442.5   \nDie Another Day       2002  Pierce Brosnan     Lee Tamahori       465.4   \n\n                      Budget  Bond_Actor_Salary  \nFilm                                             \nA View to a Kill        54.5                9.1  \nCasino Royale          145.3                3.3  \nCasino Royale           85.0                NaN  \nDiamonds Are Forever    34.7                5.8  \nDie Another Day        154.2               17.9  ",
      "text/html": "<div>\n<style scoped>\n    .dataframe tbody tr th:only-of-type {\n        vertical-align: middle;\n    }\n\n    .dataframe tbody tr th {\n        vertical-align: top;\n    }\n\n    .dataframe thead th {\n        text-align: right;\n    }\n</style>\n<table border=\"1\" class=\"dataframe\">\n  <thead>\n    <tr style=\"text-align: right;\">\n      <th></th>\n      <th>Year</th>\n      <th>Actor</th>\n      <th>Director</th>\n      <th>Box_Office</th>\n      <th>Budget</th>\n      <th>Bond_Actor_Salary</th>\n    </tr>\n    <tr>\n      <th>Film</th>\n      <th></th>\n      <th></th>\n      <th></th>\n      <th></th>\n      <th></th>\n      <th></th>\n    </tr>\n  </thead>\n  <tbody>\n    <tr>\n      <th>A View to a Kill</th>\n      <td>1985</td>\n      <td>Roger Moore</td>\n      <td>John Glen</td>\n      <td>275.2</td>\n      <td>54.5</td>\n      <td>9.1</td>\n    </tr>\n    <tr>\n      <th>Casino Royale</th>\n      <td>2006</td>\n      <td>Daniel Craig</td>\n      <td>Martin Campbell</td>\n      <td>581.5</td>\n      <td>145.3</td>\n      <td>3.3</td>\n    </tr>\n    <tr>\n      <th>Casino Royale</th>\n      <td>1967</td>\n      <td>David Niven</td>\n      <td>Ken Hughes</td>\n      <td>315.0</td>\n      <td>85.0</td>\n      <td>NaN</td>\n    </tr>\n    <tr>\n      <th>Diamonds Are Forever</th>\n      <td>1971</td>\n      <td>Sean Connery</td>\n      <td>Guy Hamilton</td>\n      <td>442.5</td>\n      <td>34.7</td>\n      <td>5.8</td>\n    </tr>\n    <tr>\n      <th>Die Another Day</th>\n      <td>2002</td>\n      <td>Pierce Brosnan</td>\n      <td>Lee Tamahori</td>\n      <td>465.4</td>\n      <td>154.2</td>\n      <td>17.9</td>\n    </tr>\n  </tbody>\n</table>\n</div>"
     },
     "execution_count": 99,
     "metadata": {},
     "output_type": "execute_result"
    }
   ],
   "source": [
    "bond.columns = [column_name.replace(\" \", \"_\") for column_name in bond.columns]\n",
    "bond.head()"
   ],
   "metadata": {
    "collapsed": false,
    "pycharm": {
     "name": "#%%\n"
    }
   }
  },
  {
   "cell_type": "code",
   "execution_count": 100,
   "outputs": [
    {
     "data": {
      "text/plain": "                       Year         Actor        Director  Box_Office  Budget  \\\nFilm                                                                            \nDiamonds Are Forever   1971  Sean Connery    Guy Hamilton       442.5    34.7   \nDr. No                 1962  Sean Connery   Terence Young       448.8     7.0   \nFrom Russia with Love  1963  Sean Connery   Terence Young       543.8    12.6   \nGoldfinger             1964  Sean Connery    Guy Hamilton       820.4    18.6   \nNever Say Never Again  1983  Sean Connery  Irvin Kershner       380.0    86.0   \nThunderball            1965  Sean Connery   Terence Young       848.1    41.9   \nYou Only Live Twice    1967  Sean Connery   Lewis Gilbert       514.2    59.9   \n\n                       Bond_Actor_Salary  \nFilm                                      \nDiamonds Are Forever                 5.8  \nDr. No                               0.6  \nFrom Russia with Love                1.6  \nGoldfinger                           3.2  \nNever Say Never Again                NaN  \nThunderball                          4.7  \nYou Only Live Twice                  4.4  ",
      "text/html": "<div>\n<style scoped>\n    .dataframe tbody tr th:only-of-type {\n        vertical-align: middle;\n    }\n\n    .dataframe tbody tr th {\n        vertical-align: top;\n    }\n\n    .dataframe thead th {\n        text-align: right;\n    }\n</style>\n<table border=\"1\" class=\"dataframe\">\n  <thead>\n    <tr style=\"text-align: right;\">\n      <th></th>\n      <th>Year</th>\n      <th>Actor</th>\n      <th>Director</th>\n      <th>Box_Office</th>\n      <th>Budget</th>\n      <th>Bond_Actor_Salary</th>\n    </tr>\n    <tr>\n      <th>Film</th>\n      <th></th>\n      <th></th>\n      <th></th>\n      <th></th>\n      <th></th>\n      <th></th>\n    </tr>\n  </thead>\n  <tbody>\n    <tr>\n      <th>Diamonds Are Forever</th>\n      <td>1971</td>\n      <td>Sean Connery</td>\n      <td>Guy Hamilton</td>\n      <td>442.5</td>\n      <td>34.7</td>\n      <td>5.8</td>\n    </tr>\n    <tr>\n      <th>Dr. No</th>\n      <td>1962</td>\n      <td>Sean Connery</td>\n      <td>Terence Young</td>\n      <td>448.8</td>\n      <td>7.0</td>\n      <td>0.6</td>\n    </tr>\n    <tr>\n      <th>From Russia with Love</th>\n      <td>1963</td>\n      <td>Sean Connery</td>\n      <td>Terence Young</td>\n      <td>543.8</td>\n      <td>12.6</td>\n      <td>1.6</td>\n    </tr>\n    <tr>\n      <th>Goldfinger</th>\n      <td>1964</td>\n      <td>Sean Connery</td>\n      <td>Guy Hamilton</td>\n      <td>820.4</td>\n      <td>18.6</td>\n      <td>3.2</td>\n    </tr>\n    <tr>\n      <th>Never Say Never Again</th>\n      <td>1983</td>\n      <td>Sean Connery</td>\n      <td>Irvin Kershner</td>\n      <td>380.0</td>\n      <td>86.0</td>\n      <td>NaN</td>\n    </tr>\n    <tr>\n      <th>Thunderball</th>\n      <td>1965</td>\n      <td>Sean Connery</td>\n      <td>Terence Young</td>\n      <td>848.1</td>\n      <td>41.9</td>\n      <td>4.7</td>\n    </tr>\n    <tr>\n      <th>You Only Live Twice</th>\n      <td>1967</td>\n      <td>Sean Connery</td>\n      <td>Lewis Gilbert</td>\n      <td>514.2</td>\n      <td>59.9</td>\n      <td>4.4</td>\n    </tr>\n  </tbody>\n</table>\n</div>"
     },
     "execution_count": 100,
     "metadata": {},
     "output_type": "execute_result"
    }
   ],
   "source": [
    "bond.query('Actor == \"Sean Connery\"')"
   ],
   "metadata": {
    "collapsed": false,
    "pycharm": {
     "name": "#%%\n"
    }
   }
  },
  {
   "cell_type": "code",
   "execution_count": 101,
   "outputs": [
    {
     "data": {
      "text/plain": "                       Year         Actor       Director  Box_Office  Budget  \\\nFilm                                                                           \nDr. No                 1962  Sean Connery  Terence Young       448.8     7.0   \nFrom Russia with Love  1963  Sean Connery  Terence Young       543.8    12.6   \nThunderball            1965  Sean Connery  Terence Young       848.1    41.9   \n\n                       Bond_Actor_Salary  \nFilm                                      \nDr. No                               0.6  \nFrom Russia with Love                1.6  \nThunderball                          4.7  ",
      "text/html": "<div>\n<style scoped>\n    .dataframe tbody tr th:only-of-type {\n        vertical-align: middle;\n    }\n\n    .dataframe tbody tr th {\n        vertical-align: top;\n    }\n\n    .dataframe thead th {\n        text-align: right;\n    }\n</style>\n<table border=\"1\" class=\"dataframe\">\n  <thead>\n    <tr style=\"text-align: right;\">\n      <th></th>\n      <th>Year</th>\n      <th>Actor</th>\n      <th>Director</th>\n      <th>Box_Office</th>\n      <th>Budget</th>\n      <th>Bond_Actor_Salary</th>\n    </tr>\n    <tr>\n      <th>Film</th>\n      <th></th>\n      <th></th>\n      <th></th>\n      <th></th>\n      <th></th>\n      <th></th>\n    </tr>\n  </thead>\n  <tbody>\n    <tr>\n      <th>Dr. No</th>\n      <td>1962</td>\n      <td>Sean Connery</td>\n      <td>Terence Young</td>\n      <td>448.8</td>\n      <td>7.0</td>\n      <td>0.6</td>\n    </tr>\n    <tr>\n      <th>From Russia with Love</th>\n      <td>1963</td>\n      <td>Sean Connery</td>\n      <td>Terence Young</td>\n      <td>543.8</td>\n      <td>12.6</td>\n      <td>1.6</td>\n    </tr>\n    <tr>\n      <th>Thunderball</th>\n      <td>1965</td>\n      <td>Sean Connery</td>\n      <td>Terence Young</td>\n      <td>848.1</td>\n      <td>41.9</td>\n      <td>4.7</td>\n    </tr>\n  </tbody>\n</table>\n</div>"
     },
     "execution_count": 101,
     "metadata": {},
     "output_type": "execute_result"
    }
   ],
   "source": [
    "bond.query('Director == \"Terence Young\"')"
   ],
   "metadata": {
    "collapsed": false,
    "pycharm": {
     "name": "#%%\n"
    }
   }
  },
  {
   "cell_type": "code",
   "execution_count": 102,
   "outputs": [
    {
     "data": {
      "text/plain": "                                 Year           Actor            Director  \\\nFilm                                                                        \nA View to a Kill                 1985     Roger Moore           John Glen   \nCasino Royale                    2006    Daniel Craig     Martin Campbell   \nCasino Royale                    1967     David Niven          Ken Hughes   \nDie Another Day                  2002  Pierce Brosnan        Lee Tamahori   \nFor Your Eyes Only               1981     Roger Moore           John Glen   \nGoldenEye                        1995  Pierce Brosnan     Martin Campbell   \nLicence to Kill                  1989  Timothy Dalton           John Glen   \nLive and Let Die                 1973     Roger Moore        Guy Hamilton   \nMoonraker                        1979     Roger Moore       Lewis Gilbert   \nOctopussy                        1983     Roger Moore           John Glen   \nOn Her Majesty's Secret Service  1969  George Lazenby       Peter R. Hunt   \nQuantum of Solace                2008    Daniel Craig        Marc Forster   \nSkyfall                          2012    Daniel Craig          Sam Mendes   \nSpectre                          2015    Daniel Craig          Sam Mendes   \nThe Living Daylights             1987  Timothy Dalton           John Glen   \nThe Man with the Golden Gun      1974     Roger Moore        Guy Hamilton   \nThe Spy Who Loved Me             1977     Roger Moore       Lewis Gilbert   \nThe World Is Not Enough          1999  Pierce Brosnan       Michael Apted   \nTomorrow Never Dies              1997  Pierce Brosnan  Roger Spottiswoode   \n\n                                 Box_Office  Budget  Bond_Actor_Salary  \nFilm                                                                    \nA View to a Kill                      275.2    54.5                9.1  \nCasino Royale                         581.5   145.3                3.3  \nCasino Royale                         315.0    85.0                NaN  \nDie Another Day                       465.4   154.2               17.9  \nFor Your Eyes Only                    449.4    60.2                NaN  \nGoldenEye                             518.5    76.9                5.1  \nLicence to Kill                       250.9    56.7                7.9  \nLive and Let Die                      460.3    30.8                NaN  \nMoonraker                             535.0    91.5                NaN  \nOctopussy                             373.8    53.9                7.8  \nOn Her Majesty's Secret Service       291.5    37.3                0.6  \nQuantum of Solace                     514.2   181.4                8.1  \nSkyfall                               943.5   170.2               14.5  \nSpectre                               726.7   206.3                NaN  \nThe Living Daylights                  313.5    68.8                5.2  \nThe Man with the Golden Gun           334.0    27.7                NaN  \nThe Spy Who Loved Me                  533.0    45.1                NaN  \nThe World Is Not Enough               439.5   158.3               13.5  \nTomorrow Never Dies                   463.2   133.9               10.0  ",
      "text/html": "<div>\n<style scoped>\n    .dataframe tbody tr th:only-of-type {\n        vertical-align: middle;\n    }\n\n    .dataframe tbody tr th {\n        vertical-align: top;\n    }\n\n    .dataframe thead th {\n        text-align: right;\n    }\n</style>\n<table border=\"1\" class=\"dataframe\">\n  <thead>\n    <tr style=\"text-align: right;\">\n      <th></th>\n      <th>Year</th>\n      <th>Actor</th>\n      <th>Director</th>\n      <th>Box_Office</th>\n      <th>Budget</th>\n      <th>Bond_Actor_Salary</th>\n    </tr>\n    <tr>\n      <th>Film</th>\n      <th></th>\n      <th></th>\n      <th></th>\n      <th></th>\n      <th></th>\n      <th></th>\n    </tr>\n  </thead>\n  <tbody>\n    <tr>\n      <th>A View to a Kill</th>\n      <td>1985</td>\n      <td>Roger Moore</td>\n      <td>John Glen</td>\n      <td>275.2</td>\n      <td>54.5</td>\n      <td>9.1</td>\n    </tr>\n    <tr>\n      <th>Casino Royale</th>\n      <td>2006</td>\n      <td>Daniel Craig</td>\n      <td>Martin Campbell</td>\n      <td>581.5</td>\n      <td>145.3</td>\n      <td>3.3</td>\n    </tr>\n    <tr>\n      <th>Casino Royale</th>\n      <td>1967</td>\n      <td>David Niven</td>\n      <td>Ken Hughes</td>\n      <td>315.0</td>\n      <td>85.0</td>\n      <td>NaN</td>\n    </tr>\n    <tr>\n      <th>Die Another Day</th>\n      <td>2002</td>\n      <td>Pierce Brosnan</td>\n      <td>Lee Tamahori</td>\n      <td>465.4</td>\n      <td>154.2</td>\n      <td>17.9</td>\n    </tr>\n    <tr>\n      <th>For Your Eyes Only</th>\n      <td>1981</td>\n      <td>Roger Moore</td>\n      <td>John Glen</td>\n      <td>449.4</td>\n      <td>60.2</td>\n      <td>NaN</td>\n    </tr>\n    <tr>\n      <th>GoldenEye</th>\n      <td>1995</td>\n      <td>Pierce Brosnan</td>\n      <td>Martin Campbell</td>\n      <td>518.5</td>\n      <td>76.9</td>\n      <td>5.1</td>\n    </tr>\n    <tr>\n      <th>Licence to Kill</th>\n      <td>1989</td>\n      <td>Timothy Dalton</td>\n      <td>John Glen</td>\n      <td>250.9</td>\n      <td>56.7</td>\n      <td>7.9</td>\n    </tr>\n    <tr>\n      <th>Live and Let Die</th>\n      <td>1973</td>\n      <td>Roger Moore</td>\n      <td>Guy Hamilton</td>\n      <td>460.3</td>\n      <td>30.8</td>\n      <td>NaN</td>\n    </tr>\n    <tr>\n      <th>Moonraker</th>\n      <td>1979</td>\n      <td>Roger Moore</td>\n      <td>Lewis Gilbert</td>\n      <td>535.0</td>\n      <td>91.5</td>\n      <td>NaN</td>\n    </tr>\n    <tr>\n      <th>Octopussy</th>\n      <td>1983</td>\n      <td>Roger Moore</td>\n      <td>John Glen</td>\n      <td>373.8</td>\n      <td>53.9</td>\n      <td>7.8</td>\n    </tr>\n    <tr>\n      <th>On Her Majesty's Secret Service</th>\n      <td>1969</td>\n      <td>George Lazenby</td>\n      <td>Peter R. Hunt</td>\n      <td>291.5</td>\n      <td>37.3</td>\n      <td>0.6</td>\n    </tr>\n    <tr>\n      <th>Quantum of Solace</th>\n      <td>2008</td>\n      <td>Daniel Craig</td>\n      <td>Marc Forster</td>\n      <td>514.2</td>\n      <td>181.4</td>\n      <td>8.1</td>\n    </tr>\n    <tr>\n      <th>Skyfall</th>\n      <td>2012</td>\n      <td>Daniel Craig</td>\n      <td>Sam Mendes</td>\n      <td>943.5</td>\n      <td>170.2</td>\n      <td>14.5</td>\n    </tr>\n    <tr>\n      <th>Spectre</th>\n      <td>2015</td>\n      <td>Daniel Craig</td>\n      <td>Sam Mendes</td>\n      <td>726.7</td>\n      <td>206.3</td>\n      <td>NaN</td>\n    </tr>\n    <tr>\n      <th>The Living Daylights</th>\n      <td>1987</td>\n      <td>Timothy Dalton</td>\n      <td>John Glen</td>\n      <td>313.5</td>\n      <td>68.8</td>\n      <td>5.2</td>\n    </tr>\n    <tr>\n      <th>The Man with the Golden Gun</th>\n      <td>1974</td>\n      <td>Roger Moore</td>\n      <td>Guy Hamilton</td>\n      <td>334.0</td>\n      <td>27.7</td>\n      <td>NaN</td>\n    </tr>\n    <tr>\n      <th>The Spy Who Loved Me</th>\n      <td>1977</td>\n      <td>Roger Moore</td>\n      <td>Lewis Gilbert</td>\n      <td>533.0</td>\n      <td>45.1</td>\n      <td>NaN</td>\n    </tr>\n    <tr>\n      <th>The World Is Not Enough</th>\n      <td>1999</td>\n      <td>Pierce Brosnan</td>\n      <td>Michael Apted</td>\n      <td>439.5</td>\n      <td>158.3</td>\n      <td>13.5</td>\n    </tr>\n    <tr>\n      <th>Tomorrow Never Dies</th>\n      <td>1997</td>\n      <td>Pierce Brosnan</td>\n      <td>Roger Spottiswoode</td>\n      <td>463.2</td>\n      <td>133.9</td>\n      <td>10.0</td>\n    </tr>\n  </tbody>\n</table>\n</div>"
     },
     "execution_count": 102,
     "metadata": {},
     "output_type": "execute_result"
    }
   ],
   "source": [
    "bond.query('Actor != \"Sean Connery\"')"
   ],
   "metadata": {
    "collapsed": false,
    "pycharm": {
     "name": "#%%\n"
    }
   }
  },
  {
   "cell_type": "code",
   "execution_count": 103,
   "outputs": [
    {
     "data": {
      "text/plain": "             Year         Actor       Director  Box_Office  Budget  \\\nFilm                                                                 \nGoldfinger   1964  Sean Connery   Guy Hamilton       820.4    18.6   \nSkyfall      2012  Daniel Craig     Sam Mendes       943.5   170.2   \nThunderball  1965  Sean Connery  Terence Young       848.1    41.9   \n\n             Bond_Actor_Salary  \nFilm                            \nGoldfinger                 3.2  \nSkyfall                   14.5  \nThunderball                4.7  ",
      "text/html": "<div>\n<style scoped>\n    .dataframe tbody tr th:only-of-type {\n        vertical-align: middle;\n    }\n\n    .dataframe tbody tr th {\n        vertical-align: top;\n    }\n\n    .dataframe thead th {\n        text-align: right;\n    }\n</style>\n<table border=\"1\" class=\"dataframe\">\n  <thead>\n    <tr style=\"text-align: right;\">\n      <th></th>\n      <th>Year</th>\n      <th>Actor</th>\n      <th>Director</th>\n      <th>Box_Office</th>\n      <th>Budget</th>\n      <th>Bond_Actor_Salary</th>\n    </tr>\n    <tr>\n      <th>Film</th>\n      <th></th>\n      <th></th>\n      <th></th>\n      <th></th>\n      <th></th>\n      <th></th>\n    </tr>\n  </thead>\n  <tbody>\n    <tr>\n      <th>Goldfinger</th>\n      <td>1964</td>\n      <td>Sean Connery</td>\n      <td>Guy Hamilton</td>\n      <td>820.4</td>\n      <td>18.6</td>\n      <td>3.2</td>\n    </tr>\n    <tr>\n      <th>Skyfall</th>\n      <td>2012</td>\n      <td>Daniel Craig</td>\n      <td>Sam Mendes</td>\n      <td>943.5</td>\n      <td>170.2</td>\n      <td>14.5</td>\n    </tr>\n    <tr>\n      <th>Thunderball</th>\n      <td>1965</td>\n      <td>Sean Connery</td>\n      <td>Terence Young</td>\n      <td>848.1</td>\n      <td>41.9</td>\n      <td>4.7</td>\n    </tr>\n  </tbody>\n</table>\n</div>"
     },
     "execution_count": 103,
     "metadata": {},
     "output_type": "execute_result"
    }
   ],
   "source": [
    "bond.query(\"Box_Office > 800\")"
   ],
   "metadata": {
    "collapsed": false,
    "pycharm": {
     "name": "#%%\n"
    }
   }
  },
  {
   "cell_type": "code",
   "execution_count": 105,
   "outputs": [
    {
     "data": {
      "text/plain": "               Year         Actor         Director  Box_Office  Budget  \\\nFilm                                                                     \nCasino Royale  2006  Daniel Craig  Martin Campbell       581.5   145.3   \n\n               Bond_Actor_Salary  \nFilm                              \nCasino Royale                3.3  ",
      "text/html": "<div>\n<style scoped>\n    .dataframe tbody tr th:only-of-type {\n        vertical-align: middle;\n    }\n\n    .dataframe tbody tr th {\n        vertical-align: top;\n    }\n\n    .dataframe thead th {\n        text-align: right;\n    }\n</style>\n<table border=\"1\" class=\"dataframe\">\n  <thead>\n    <tr style=\"text-align: right;\">\n      <th></th>\n      <th>Year</th>\n      <th>Actor</th>\n      <th>Director</th>\n      <th>Box_Office</th>\n      <th>Budget</th>\n      <th>Bond_Actor_Salary</th>\n    </tr>\n    <tr>\n      <th>Film</th>\n      <th></th>\n      <th></th>\n      <th></th>\n      <th></th>\n      <th></th>\n      <th></th>\n    </tr>\n  </thead>\n  <tbody>\n    <tr>\n      <th>Casino Royale</th>\n      <td>2006</td>\n      <td>Daniel Craig</td>\n      <td>Martin Campbell</td>\n      <td>581.5</td>\n      <td>145.3</td>\n      <td>3.3</td>\n    </tr>\n  </tbody>\n</table>\n</div>"
     },
     "execution_count": 105,
     "metadata": {},
     "output_type": "execute_result"
    }
   ],
   "source": [
    "bond.query(\"Actor == 'Daniel Craig' and Director == 'Martin Campbell'\")"
   ],
   "metadata": {
    "collapsed": false,
    "pycharm": {
     "name": "#%%\n"
    }
   }
  },
  {
   "cell_type": "code",
   "execution_count": 106,
   "outputs": [
    {
     "data": {
      "text/plain": "                   Year           Actor         Director  Box_Office  Budget  \\\nFilm                                                                           \nCasino Royale      2006    Daniel Craig  Martin Campbell       581.5   145.3   \nGoldenEye          1995  Pierce Brosnan  Martin Campbell       518.5    76.9   \nQuantum of Solace  2008    Daniel Craig     Marc Forster       514.2   181.4   \nSkyfall            2012    Daniel Craig       Sam Mendes       943.5   170.2   \nSpectre            2015    Daniel Craig       Sam Mendes       726.7   206.3   \n\n                   Bond_Actor_Salary  \nFilm                                  \nCasino Royale                    3.3  \nGoldenEye                        5.1  \nQuantum of Solace                8.1  \nSkyfall                         14.5  \nSpectre                          NaN  ",
      "text/html": "<div>\n<style scoped>\n    .dataframe tbody tr th:only-of-type {\n        vertical-align: middle;\n    }\n\n    .dataframe tbody tr th {\n        vertical-align: top;\n    }\n\n    .dataframe thead th {\n        text-align: right;\n    }\n</style>\n<table border=\"1\" class=\"dataframe\">\n  <thead>\n    <tr style=\"text-align: right;\">\n      <th></th>\n      <th>Year</th>\n      <th>Actor</th>\n      <th>Director</th>\n      <th>Box_Office</th>\n      <th>Budget</th>\n      <th>Bond_Actor_Salary</th>\n    </tr>\n    <tr>\n      <th>Film</th>\n      <th></th>\n      <th></th>\n      <th></th>\n      <th></th>\n      <th></th>\n      <th></th>\n    </tr>\n  </thead>\n  <tbody>\n    <tr>\n      <th>Casino Royale</th>\n      <td>2006</td>\n      <td>Daniel Craig</td>\n      <td>Martin Campbell</td>\n      <td>581.5</td>\n      <td>145.3</td>\n      <td>3.3</td>\n    </tr>\n    <tr>\n      <th>GoldenEye</th>\n      <td>1995</td>\n      <td>Pierce Brosnan</td>\n      <td>Martin Campbell</td>\n      <td>518.5</td>\n      <td>76.9</td>\n      <td>5.1</td>\n    </tr>\n    <tr>\n      <th>Quantum of Solace</th>\n      <td>2008</td>\n      <td>Daniel Craig</td>\n      <td>Marc Forster</td>\n      <td>514.2</td>\n      <td>181.4</td>\n      <td>8.1</td>\n    </tr>\n    <tr>\n      <th>Skyfall</th>\n      <td>2012</td>\n      <td>Daniel Craig</td>\n      <td>Sam Mendes</td>\n      <td>943.5</td>\n      <td>170.2</td>\n      <td>14.5</td>\n    </tr>\n    <tr>\n      <th>Spectre</th>\n      <td>2015</td>\n      <td>Daniel Craig</td>\n      <td>Sam Mendes</td>\n      <td>726.7</td>\n      <td>206.3</td>\n      <td>NaN</td>\n    </tr>\n  </tbody>\n</table>\n</div>"
     },
     "execution_count": 106,
     "metadata": {},
     "output_type": "execute_result"
    }
   ],
   "source": [
    "bond.query(\"Actor == 'Daniel Craig' or Director == 'Martin Campbell'\")"
   ],
   "metadata": {
    "collapsed": false,
    "pycharm": {
     "name": "#%%\n"
    }
   }
  },
  {
   "cell_type": "code",
   "execution_count": 108,
   "outputs": [
    {
     "data": {
      "text/plain": "                                 Year           Actor         Director  \\\nFilm                                                                     \nCasino Royale                    2006    Daniel Craig  Martin Campbell   \nLicence to Kill                  1989  Timothy Dalton        John Glen   \nOn Her Majesty's Secret Service  1969  George Lazenby    Peter R. Hunt   \nQuantum of Solace                2008    Daniel Craig     Marc Forster   \nSkyfall                          2012    Daniel Craig       Sam Mendes   \nSpectre                          2015    Daniel Craig       Sam Mendes   \nThe Living Daylights             1987  Timothy Dalton        John Glen   \n\n                                 Box_Office  Budget  Bond_Actor_Salary  \nFilm                                                                    \nCasino Royale                         581.5   145.3                3.3  \nLicence to Kill                       250.9    56.7                7.9  \nOn Her Majesty's Secret Service       291.5    37.3                0.6  \nQuantum of Solace                     514.2   181.4                8.1  \nSkyfall                               943.5   170.2               14.5  \nSpectre                               726.7   206.3                NaN  \nThe Living Daylights                  313.5    68.8                5.2  ",
      "text/html": "<div>\n<style scoped>\n    .dataframe tbody tr th:only-of-type {\n        vertical-align: middle;\n    }\n\n    .dataframe tbody tr th {\n        vertical-align: top;\n    }\n\n    .dataframe thead th {\n        text-align: right;\n    }\n</style>\n<table border=\"1\" class=\"dataframe\">\n  <thead>\n    <tr style=\"text-align: right;\">\n      <th></th>\n      <th>Year</th>\n      <th>Actor</th>\n      <th>Director</th>\n      <th>Box_Office</th>\n      <th>Budget</th>\n      <th>Bond_Actor_Salary</th>\n    </tr>\n    <tr>\n      <th>Film</th>\n      <th></th>\n      <th></th>\n      <th></th>\n      <th></th>\n      <th></th>\n      <th></th>\n    </tr>\n  </thead>\n  <tbody>\n    <tr>\n      <th>Casino Royale</th>\n      <td>2006</td>\n      <td>Daniel Craig</td>\n      <td>Martin Campbell</td>\n      <td>581.5</td>\n      <td>145.3</td>\n      <td>3.3</td>\n    </tr>\n    <tr>\n      <th>Licence to Kill</th>\n      <td>1989</td>\n      <td>Timothy Dalton</td>\n      <td>John Glen</td>\n      <td>250.9</td>\n      <td>56.7</td>\n      <td>7.9</td>\n    </tr>\n    <tr>\n      <th>On Her Majesty's Secret Service</th>\n      <td>1969</td>\n      <td>George Lazenby</td>\n      <td>Peter R. Hunt</td>\n      <td>291.5</td>\n      <td>37.3</td>\n      <td>0.6</td>\n    </tr>\n    <tr>\n      <th>Quantum of Solace</th>\n      <td>2008</td>\n      <td>Daniel Craig</td>\n      <td>Marc Forster</td>\n      <td>514.2</td>\n      <td>181.4</td>\n      <td>8.1</td>\n    </tr>\n    <tr>\n      <th>Skyfall</th>\n      <td>2012</td>\n      <td>Daniel Craig</td>\n      <td>Sam Mendes</td>\n      <td>943.5</td>\n      <td>170.2</td>\n      <td>14.5</td>\n    </tr>\n    <tr>\n      <th>Spectre</th>\n      <td>2015</td>\n      <td>Daniel Craig</td>\n      <td>Sam Mendes</td>\n      <td>726.7</td>\n      <td>206.3</td>\n      <td>NaN</td>\n    </tr>\n    <tr>\n      <th>The Living Daylights</th>\n      <td>1987</td>\n      <td>Timothy Dalton</td>\n      <td>John Glen</td>\n      <td>313.5</td>\n      <td>68.8</td>\n      <td>5.2</td>\n    </tr>\n  </tbody>\n</table>\n</div>"
     },
     "execution_count": 108,
     "metadata": {},
     "output_type": "execute_result"
    }
   ],
   "source": [
    "bond.query(\"Actor in ['Timothy Dalton', 'Daniel Craig', 'George Lazenby']\")"
   ],
   "metadata": {
    "collapsed": false,
    "pycharm": {
     "name": "#%%\n"
    }
   }
  },
  {
   "cell_type": "code",
   "execution_count": 109,
   "outputs": [
    {
     "data": {
      "text/plain": "                             Year           Actor            Director  \\\nFilm                                                                    \nA View to a Kill             1985     Roger Moore           John Glen   \nCasino Royale                1967     David Niven          Ken Hughes   \nDiamonds Are Forever         1971    Sean Connery        Guy Hamilton   \nDie Another Day              2002  Pierce Brosnan        Lee Tamahori   \nDr. No                       1962    Sean Connery       Terence Young   \nFor Your Eyes Only           1981     Roger Moore           John Glen   \nFrom Russia with Love        1963    Sean Connery       Terence Young   \nGoldenEye                    1995  Pierce Brosnan     Martin Campbell   \nGoldfinger                   1964    Sean Connery        Guy Hamilton   \nLive and Let Die             1973     Roger Moore        Guy Hamilton   \nMoonraker                    1979     Roger Moore       Lewis Gilbert   \nNever Say Never Again        1983    Sean Connery      Irvin Kershner   \nOctopussy                    1983     Roger Moore           John Glen   \nThe Man with the Golden Gun  1974     Roger Moore        Guy Hamilton   \nThe Spy Who Loved Me         1977     Roger Moore       Lewis Gilbert   \nThe World Is Not Enough      1999  Pierce Brosnan       Michael Apted   \nThunderball                  1965    Sean Connery       Terence Young   \nTomorrow Never Dies          1997  Pierce Brosnan  Roger Spottiswoode   \nYou Only Live Twice          1967    Sean Connery       Lewis Gilbert   \n\n                             Box_Office  Budget  Bond_Actor_Salary  \nFilm                                                                \nA View to a Kill                  275.2    54.5                9.1  \nCasino Royale                     315.0    85.0                NaN  \nDiamonds Are Forever              442.5    34.7                5.8  \nDie Another Day                   465.4   154.2               17.9  \nDr. No                            448.8     7.0                0.6  \nFor Your Eyes Only                449.4    60.2                NaN  \nFrom Russia with Love             543.8    12.6                1.6  \nGoldenEye                         518.5    76.9                5.1  \nGoldfinger                        820.4    18.6                3.2  \nLive and Let Die                  460.3    30.8                NaN  \nMoonraker                         535.0    91.5                NaN  \nNever Say Never Again             380.0    86.0                NaN  \nOctopussy                         373.8    53.9                7.8  \nThe Man with the Golden Gun       334.0    27.7                NaN  \nThe Spy Who Loved Me              533.0    45.1                NaN  \nThe World Is Not Enough           439.5   158.3               13.5  \nThunderball                       848.1    41.9                4.7  \nTomorrow Never Dies               463.2   133.9               10.0  \nYou Only Live Twice               514.2    59.9                4.4  ",
      "text/html": "<div>\n<style scoped>\n    .dataframe tbody tr th:only-of-type {\n        vertical-align: middle;\n    }\n\n    .dataframe tbody tr th {\n        vertical-align: top;\n    }\n\n    .dataframe thead th {\n        text-align: right;\n    }\n</style>\n<table border=\"1\" class=\"dataframe\">\n  <thead>\n    <tr style=\"text-align: right;\">\n      <th></th>\n      <th>Year</th>\n      <th>Actor</th>\n      <th>Director</th>\n      <th>Box_Office</th>\n      <th>Budget</th>\n      <th>Bond_Actor_Salary</th>\n    </tr>\n    <tr>\n      <th>Film</th>\n      <th></th>\n      <th></th>\n      <th></th>\n      <th></th>\n      <th></th>\n      <th></th>\n    </tr>\n  </thead>\n  <tbody>\n    <tr>\n      <th>A View to a Kill</th>\n      <td>1985</td>\n      <td>Roger Moore</td>\n      <td>John Glen</td>\n      <td>275.2</td>\n      <td>54.5</td>\n      <td>9.1</td>\n    </tr>\n    <tr>\n      <th>Casino Royale</th>\n      <td>1967</td>\n      <td>David Niven</td>\n      <td>Ken Hughes</td>\n      <td>315.0</td>\n      <td>85.0</td>\n      <td>NaN</td>\n    </tr>\n    <tr>\n      <th>Diamonds Are Forever</th>\n      <td>1971</td>\n      <td>Sean Connery</td>\n      <td>Guy Hamilton</td>\n      <td>442.5</td>\n      <td>34.7</td>\n      <td>5.8</td>\n    </tr>\n    <tr>\n      <th>Die Another Day</th>\n      <td>2002</td>\n      <td>Pierce Brosnan</td>\n      <td>Lee Tamahori</td>\n      <td>465.4</td>\n      <td>154.2</td>\n      <td>17.9</td>\n    </tr>\n    <tr>\n      <th>Dr. No</th>\n      <td>1962</td>\n      <td>Sean Connery</td>\n      <td>Terence Young</td>\n      <td>448.8</td>\n      <td>7.0</td>\n      <td>0.6</td>\n    </tr>\n    <tr>\n      <th>For Your Eyes Only</th>\n      <td>1981</td>\n      <td>Roger Moore</td>\n      <td>John Glen</td>\n      <td>449.4</td>\n      <td>60.2</td>\n      <td>NaN</td>\n    </tr>\n    <tr>\n      <th>From Russia with Love</th>\n      <td>1963</td>\n      <td>Sean Connery</td>\n      <td>Terence Young</td>\n      <td>543.8</td>\n      <td>12.6</td>\n      <td>1.6</td>\n    </tr>\n    <tr>\n      <th>GoldenEye</th>\n      <td>1995</td>\n      <td>Pierce Brosnan</td>\n      <td>Martin Campbell</td>\n      <td>518.5</td>\n      <td>76.9</td>\n      <td>5.1</td>\n    </tr>\n    <tr>\n      <th>Goldfinger</th>\n      <td>1964</td>\n      <td>Sean Connery</td>\n      <td>Guy Hamilton</td>\n      <td>820.4</td>\n      <td>18.6</td>\n      <td>3.2</td>\n    </tr>\n    <tr>\n      <th>Live and Let Die</th>\n      <td>1973</td>\n      <td>Roger Moore</td>\n      <td>Guy Hamilton</td>\n      <td>460.3</td>\n      <td>30.8</td>\n      <td>NaN</td>\n    </tr>\n    <tr>\n      <th>Moonraker</th>\n      <td>1979</td>\n      <td>Roger Moore</td>\n      <td>Lewis Gilbert</td>\n      <td>535.0</td>\n      <td>91.5</td>\n      <td>NaN</td>\n    </tr>\n    <tr>\n      <th>Never Say Never Again</th>\n      <td>1983</td>\n      <td>Sean Connery</td>\n      <td>Irvin Kershner</td>\n      <td>380.0</td>\n      <td>86.0</td>\n      <td>NaN</td>\n    </tr>\n    <tr>\n      <th>Octopussy</th>\n      <td>1983</td>\n      <td>Roger Moore</td>\n      <td>John Glen</td>\n      <td>373.8</td>\n      <td>53.9</td>\n      <td>7.8</td>\n    </tr>\n    <tr>\n      <th>The Man with the Golden Gun</th>\n      <td>1974</td>\n      <td>Roger Moore</td>\n      <td>Guy Hamilton</td>\n      <td>334.0</td>\n      <td>27.7</td>\n      <td>NaN</td>\n    </tr>\n    <tr>\n      <th>The Spy Who Loved Me</th>\n      <td>1977</td>\n      <td>Roger Moore</td>\n      <td>Lewis Gilbert</td>\n      <td>533.0</td>\n      <td>45.1</td>\n      <td>NaN</td>\n    </tr>\n    <tr>\n      <th>The World Is Not Enough</th>\n      <td>1999</td>\n      <td>Pierce Brosnan</td>\n      <td>Michael Apted</td>\n      <td>439.5</td>\n      <td>158.3</td>\n      <td>13.5</td>\n    </tr>\n    <tr>\n      <th>Thunderball</th>\n      <td>1965</td>\n      <td>Sean Connery</td>\n      <td>Terence Young</td>\n      <td>848.1</td>\n      <td>41.9</td>\n      <td>4.7</td>\n    </tr>\n    <tr>\n      <th>Tomorrow Never Dies</th>\n      <td>1997</td>\n      <td>Pierce Brosnan</td>\n      <td>Roger Spottiswoode</td>\n      <td>463.2</td>\n      <td>133.9</td>\n      <td>10.0</td>\n    </tr>\n    <tr>\n      <th>You Only Live Twice</th>\n      <td>1967</td>\n      <td>Sean Connery</td>\n      <td>Lewis Gilbert</td>\n      <td>514.2</td>\n      <td>59.9</td>\n      <td>4.4</td>\n    </tr>\n  </tbody>\n</table>\n</div>"
     },
     "execution_count": 109,
     "metadata": {},
     "output_type": "execute_result"
    }
   ],
   "source": [
    "bond.query(\"Actor not in ['Timothy Dalton', 'Daniel Craig', 'George Lazenby']\")"
   ],
   "metadata": {
    "collapsed": false,
    "pycharm": {
     "name": "#%%\n"
    }
   }
  },
  {
   "cell_type": "markdown",
   "source": [
    "# A Review of the `apply()` Method in Singles Columns"
   ],
   "metadata": {
    "collapsed": false,
    "pycharm": {
     "name": "#%% md\n"
    }
   }
  },
  {
   "cell_type": "code",
   "execution_count": 110,
   "outputs": [
    {
     "data": {
      "text/plain": "                  Year         Actor         Director  Box_Office  Budget  \\\nFilm                                                                        \nA View to a Kill  1985   Roger Moore        John Glen       275.2    54.5   \nCasino Royale     2006  Daniel Craig  Martin Campbell       581.5   145.3   \nCasino Royale     1967   David Niven       Ken Hughes       315.0    85.0   \n\n                  Bond_Actor_Salary  \nFilm                                 \nA View to a Kill                9.1  \nCasino Royale                   3.3  \nCasino Royale                   NaN  ",
      "text/html": "<div>\n<style scoped>\n    .dataframe tbody tr th:only-of-type {\n        vertical-align: middle;\n    }\n\n    .dataframe tbody tr th {\n        vertical-align: top;\n    }\n\n    .dataframe thead th {\n        text-align: right;\n    }\n</style>\n<table border=\"1\" class=\"dataframe\">\n  <thead>\n    <tr style=\"text-align: right;\">\n      <th></th>\n      <th>Year</th>\n      <th>Actor</th>\n      <th>Director</th>\n      <th>Box_Office</th>\n      <th>Budget</th>\n      <th>Bond_Actor_Salary</th>\n    </tr>\n    <tr>\n      <th>Film</th>\n      <th></th>\n      <th></th>\n      <th></th>\n      <th></th>\n      <th></th>\n      <th></th>\n    </tr>\n  </thead>\n  <tbody>\n    <tr>\n      <th>A View to a Kill</th>\n      <td>1985</td>\n      <td>Roger Moore</td>\n      <td>John Glen</td>\n      <td>275.2</td>\n      <td>54.5</td>\n      <td>9.1</td>\n    </tr>\n    <tr>\n      <th>Casino Royale</th>\n      <td>2006</td>\n      <td>Daniel Craig</td>\n      <td>Martin Campbell</td>\n      <td>581.5</td>\n      <td>145.3</td>\n      <td>3.3</td>\n    </tr>\n    <tr>\n      <th>Casino Royale</th>\n      <td>1967</td>\n      <td>David Niven</td>\n      <td>Ken Hughes</td>\n      <td>315.0</td>\n      <td>85.0</td>\n      <td>NaN</td>\n    </tr>\n  </tbody>\n</table>\n</div>"
     },
     "execution_count": 110,
     "metadata": {},
     "output_type": "execute_result"
    }
   ],
   "source": [
    "bond.head(3)"
   ],
   "metadata": {
    "collapsed": false,
    "pycharm": {
     "name": "#%%\n"
    }
   }
  },
  {
   "cell_type": "code",
   "execution_count": 112,
   "outputs": [],
   "source": [
    "def convert_to_string_and_add_millions(num):\n",
    "    return f\"{str(num)} MILLIONS!\""
   ],
   "metadata": {
    "collapsed": false,
    "pycharm": {
     "name": "#%%\n"
    }
   }
  },
  {
   "cell_type": "code",
   "execution_count": 115,
   "outputs": [
    {
     "data": {
      "text/plain": "Film\nA View to a Kill                   275.2 MILLIONS!\nCasino Royale                      581.5 MILLIONS!\nCasino Royale                      315.0 MILLIONS!\nDiamonds Are Forever               442.5 MILLIONS!\nDie Another Day                    465.4 MILLIONS!\nDr. No                             448.8 MILLIONS!\nFor Your Eyes Only                 449.4 MILLIONS!\nFrom Russia with Love              543.8 MILLIONS!\nGoldenEye                          518.5 MILLIONS!\nGoldfinger                         820.4 MILLIONS!\nLicence to Kill                    250.9 MILLIONS!\nLive and Let Die                   460.3 MILLIONS!\nMoonraker                          535.0 MILLIONS!\nNever Say Never Again              380.0 MILLIONS!\nOctopussy                          373.8 MILLIONS!\nOn Her Majesty's Secret Service    291.5 MILLIONS!\nQuantum of Solace                  514.2 MILLIONS!\nSkyfall                            943.5 MILLIONS!\nSpectre                            726.7 MILLIONS!\nThe Living Daylights               313.5 MILLIONS!\nThe Man with the Golden Gun        334.0 MILLIONS!\nThe Spy Who Loved Me               533.0 MILLIONS!\nThe World Is Not Enough            439.5 MILLIONS!\nThunderball                        848.1 MILLIONS!\nTomorrow Never Dies                463.2 MILLIONS!\nYou Only Live Twice                514.2 MILLIONS!\nName: Box_Office, dtype: object"
     },
     "execution_count": 115,
     "metadata": {},
     "output_type": "execute_result"
    }
   ],
   "source": [
    "bond[\"Box_Office\"].apply(convert_to_string_and_add_millions)"
   ],
   "metadata": {
    "collapsed": false,
    "pycharm": {
     "name": "#%%\n"
    }
   }
  },
  {
   "cell_type": "code",
   "execution_count": 117,
   "outputs": [
    {
     "name": "stdout",
     "output_type": "stream",
     "text": [
      "Film\n",
      "A View to a Kill                   275.2 MILLIONS!\n",
      "Casino Royale                      581.5 MILLIONS!\n",
      "Casino Royale                      315.0 MILLIONS!\n",
      "Diamonds Are Forever               442.5 MILLIONS!\n",
      "Die Another Day                    465.4 MILLIONS!\n",
      "Dr. No                             448.8 MILLIONS!\n",
      "For Your Eyes Only                 449.4 MILLIONS!\n",
      "From Russia with Love              543.8 MILLIONS!\n",
      "GoldenEye                          518.5 MILLIONS!\n",
      "Goldfinger                         820.4 MILLIONS!\n",
      "Licence to Kill                    250.9 MILLIONS!\n",
      "Live and Let Die                   460.3 MILLIONS!\n",
      "Moonraker                          535.0 MILLIONS!\n",
      "Never Say Never Again              380.0 MILLIONS!\n",
      "Octopussy                          373.8 MILLIONS!\n",
      "On Her Majesty's Secret Service    291.5 MILLIONS!\n",
      "Quantum of Solace                  514.2 MILLIONS!\n",
      "Skyfall                            943.5 MILLIONS!\n",
      "Spectre                            726.7 MILLIONS!\n",
      "The Living Daylights               313.5 MILLIONS!\n",
      "The Man with the Golden Gun        334.0 MILLIONS!\n",
      "The Spy Who Loved Me               533.0 MILLIONS!\n",
      "The World Is Not Enough            439.5 MILLIONS!\n",
      "Thunderball                        848.1 MILLIONS!\n",
      "Tomorrow Never Dies                463.2 MILLIONS!\n",
      "You Only Live Twice                514.2 MILLIONS!\n",
      "Name: Box_Office, dtype: object\n",
      "Film\n",
      "A View to a Kill                    54.5 MILLIONS!\n",
      "Casino Royale                      145.3 MILLIONS!\n",
      "Casino Royale                       85.0 MILLIONS!\n",
      "Diamonds Are Forever                34.7 MILLIONS!\n",
      "Die Another Day                    154.2 MILLIONS!\n",
      "Dr. No                               7.0 MILLIONS!\n",
      "For Your Eyes Only                  60.2 MILLIONS!\n",
      "From Russia with Love               12.6 MILLIONS!\n",
      "GoldenEye                           76.9 MILLIONS!\n",
      "Goldfinger                          18.6 MILLIONS!\n",
      "Licence to Kill                     56.7 MILLIONS!\n",
      "Live and Let Die                    30.8 MILLIONS!\n",
      "Moonraker                           91.5 MILLIONS!\n",
      "Never Say Never Again               86.0 MILLIONS!\n",
      "Octopussy                           53.9 MILLIONS!\n",
      "On Her Majesty's Secret Service     37.3 MILLIONS!\n",
      "Quantum of Solace                  181.4 MILLIONS!\n",
      "Skyfall                            170.2 MILLIONS!\n",
      "Spectre                            206.3 MILLIONS!\n",
      "The Living Daylights                68.8 MILLIONS!\n",
      "The Man with the Golden Gun         27.7 MILLIONS!\n",
      "The Spy Who Loved Me                45.1 MILLIONS!\n",
      "The World Is Not Enough            158.3 MILLIONS!\n",
      "Thunderball                         41.9 MILLIONS!\n",
      "Tomorrow Never Dies                133.9 MILLIONS!\n",
      "You Only Live Twice                 59.9 MILLIONS!\n",
      "Name: Budget, dtype: object\n",
      "Film\n",
      "A View to a Kill                    9.1 MILLIONS!\n",
      "Casino Royale                       3.3 MILLIONS!\n",
      "Casino Royale                       nan MILLIONS!\n",
      "Diamonds Are Forever                5.8 MILLIONS!\n",
      "Die Another Day                    17.9 MILLIONS!\n",
      "Dr. No                              0.6 MILLIONS!\n",
      "For Your Eyes Only                  nan MILLIONS!\n",
      "From Russia with Love               1.6 MILLIONS!\n",
      "GoldenEye                           5.1 MILLIONS!\n",
      "Goldfinger                          3.2 MILLIONS!\n",
      "Licence to Kill                     7.9 MILLIONS!\n",
      "Live and Let Die                    nan MILLIONS!\n",
      "Moonraker                           nan MILLIONS!\n",
      "Never Say Never Again               nan MILLIONS!\n",
      "Octopussy                           7.8 MILLIONS!\n",
      "On Her Majesty's Secret Service     0.6 MILLIONS!\n",
      "Quantum of Solace                   8.1 MILLIONS!\n",
      "Skyfall                            14.5 MILLIONS!\n",
      "Spectre                             nan MILLIONS!\n",
      "The Living Daylights                5.2 MILLIONS!\n",
      "The Man with the Golden Gun         nan MILLIONS!\n",
      "The Spy Who Loved Me                nan MILLIONS!\n",
      "The World Is Not Enough            13.5 MILLIONS!\n",
      "Thunderball                         4.7 MILLIONS!\n",
      "Tomorrow Never Dies                10.0 MILLIONS!\n",
      "You Only Live Twice                 4.4 MILLIONS!\n",
      "Name: Bond_Actor_Salary, dtype: object\n"
     ]
    }
   ],
   "source": [
    "columns = [\"Box_Office\", \"Budget\", \"Bond_Actor_Salary\"]\n",
    "\n",
    "for column in columns:\n",
    "    print(bond[column].apply(convert_to_string_and_add_millions))"
   ],
   "metadata": {
    "collapsed": false,
    "pycharm": {
     "name": "#%%\n"
    }
   }
  },
  {
   "cell_type": "markdown",
   "source": [
    "# Apply a Function to Every DataFrame Row with the `apply` Method"
   ],
   "metadata": {
    "collapsed": false,
    "pycharm": {
     "name": "#%% md\n"
    }
   }
  },
  {
   "cell_type": "code",
   "execution_count": 142,
   "outputs": [
    {
     "data": {
      "text/plain": "                      Year           Actor         Director  Box Office  \\\nFilm                                                                      \nA View to a Kill      1985     Roger Moore        John Glen       275.2   \nCasino Royale         2006    Daniel Craig  Martin Campbell       581.5   \nCasino Royale         1967     David Niven       Ken Hughes       315.0   \nDiamonds Are Forever  1971    Sean Connery     Guy Hamilton       442.5   \nDie Another Day       2002  Pierce Brosnan     Lee Tamahori       465.4   \n\n                      Budget  Bond Actor Salary  \nFilm                                             \nA View to a Kill        54.5                9.1  \nCasino Royale          145.3                3.3  \nCasino Royale           85.0                NaN  \nDiamonds Are Forever    34.7                5.8  \nDie Another Day        154.2               17.9  ",
      "text/html": "<div>\n<style scoped>\n    .dataframe tbody tr th:only-of-type {\n        vertical-align: middle;\n    }\n\n    .dataframe tbody tr th {\n        vertical-align: top;\n    }\n\n    .dataframe thead th {\n        text-align: right;\n    }\n</style>\n<table border=\"1\" class=\"dataframe\">\n  <thead>\n    <tr style=\"text-align: right;\">\n      <th></th>\n      <th>Year</th>\n      <th>Actor</th>\n      <th>Director</th>\n      <th>Box Office</th>\n      <th>Budget</th>\n      <th>Bond Actor Salary</th>\n    </tr>\n    <tr>\n      <th>Film</th>\n      <th></th>\n      <th></th>\n      <th></th>\n      <th></th>\n      <th></th>\n      <th></th>\n    </tr>\n  </thead>\n  <tbody>\n    <tr>\n      <th>A View to a Kill</th>\n      <td>1985</td>\n      <td>Roger Moore</td>\n      <td>John Glen</td>\n      <td>275.2</td>\n      <td>54.5</td>\n      <td>9.1</td>\n    </tr>\n    <tr>\n      <th>Casino Royale</th>\n      <td>2006</td>\n      <td>Daniel Craig</td>\n      <td>Martin Campbell</td>\n      <td>581.5</td>\n      <td>145.3</td>\n      <td>3.3</td>\n    </tr>\n    <tr>\n      <th>Casino Royale</th>\n      <td>1967</td>\n      <td>David Niven</td>\n      <td>Ken Hughes</td>\n      <td>315.0</td>\n      <td>85.0</td>\n      <td>NaN</td>\n    </tr>\n    <tr>\n      <th>Diamonds Are Forever</th>\n      <td>1971</td>\n      <td>Sean Connery</td>\n      <td>Guy Hamilton</td>\n      <td>442.5</td>\n      <td>34.7</td>\n      <td>5.8</td>\n    </tr>\n    <tr>\n      <th>Die Another Day</th>\n      <td>2002</td>\n      <td>Pierce Brosnan</td>\n      <td>Lee Tamahori</td>\n      <td>465.4</td>\n      <td>154.2</td>\n      <td>17.9</td>\n    </tr>\n  </tbody>\n</table>\n</div>"
     },
     "execution_count": 142,
     "metadata": {},
     "output_type": "execute_result"
    }
   ],
   "source": [
    "bond = pd.read_csv(\"jamesbond.csv\", index_col=\"Film\")\n",
    "bond.sort_index(inplace=True)\n",
    "bond.head()"
   ],
   "metadata": {
    "collapsed": false,
    "pycharm": {
     "name": "#%%\n"
    }
   }
  },
  {
   "cell_type": "code",
   "execution_count": 143,
   "outputs": [],
   "source": [
    "def good_movie(row):\n",
    "    actor = row[1]\n",
    "    budget = row[4]\n",
    "\n",
    "    if actor == \"Daniel Craig\":\n",
    "        return \"The best\"\n",
    "    elif actor == \"Sean Connery\" and budget >= 40:\n",
    "        return \"Enjoyable\"\n",
    "    else:\n",
    "        return \"I have no clue\""
   ],
   "metadata": {
    "collapsed": false,
    "pycharm": {
     "name": "#%%\n"
    }
   }
  },
  {
   "cell_type": "code",
   "execution_count": 144,
   "outputs": [],
   "source": [
    "bond[\"Review\"] = bond.apply(good_movie, axis=\"columns\")"
   ],
   "metadata": {
    "collapsed": false,
    "pycharm": {
     "name": "#%%\n"
    }
   }
  },
  {
   "cell_type": "code",
   "execution_count": 146,
   "outputs": [
    {
     "data": {
      "text/plain": "                                 Year           Actor            Director  \\\nFilm                                                                        \nA View to a Kill                 1985     Roger Moore           John Glen   \nCasino Royale                    2006    Daniel Craig     Martin Campbell   \nCasino Royale                    1967     David Niven          Ken Hughes   \nDiamonds Are Forever             1971    Sean Connery        Guy Hamilton   \nDie Another Day                  2002  Pierce Brosnan        Lee Tamahori   \nDr. No                           1962    Sean Connery       Terence Young   \nFor Your Eyes Only               1981     Roger Moore           John Glen   \nFrom Russia with Love            1963    Sean Connery       Terence Young   \nGoldenEye                        1995  Pierce Brosnan     Martin Campbell   \nGoldfinger                       1964    Sean Connery        Guy Hamilton   \nLicence to Kill                  1989  Timothy Dalton           John Glen   \nLive and Let Die                 1973     Roger Moore        Guy Hamilton   \nMoonraker                        1979     Roger Moore       Lewis Gilbert   \nNever Say Never Again            1983    Sean Connery      Irvin Kershner   \nOctopussy                        1983     Roger Moore           John Glen   \nOn Her Majesty's Secret Service  1969  George Lazenby       Peter R. Hunt   \nQuantum of Solace                2008    Daniel Craig        Marc Forster   \nSkyfall                          2012    Daniel Craig          Sam Mendes   \nSpectre                          2015    Daniel Craig          Sam Mendes   \nThe Living Daylights             1987  Timothy Dalton           John Glen   \nThe Man with the Golden Gun      1974     Roger Moore        Guy Hamilton   \nThe Spy Who Loved Me             1977     Roger Moore       Lewis Gilbert   \nThe World Is Not Enough          1999  Pierce Brosnan       Michael Apted   \nThunderball                      1965    Sean Connery       Terence Young   \nTomorrow Never Dies              1997  Pierce Brosnan  Roger Spottiswoode   \nYou Only Live Twice              1967    Sean Connery       Lewis Gilbert   \n\n                                 Box Office  Budget  Bond Actor Salary  \\\nFilm                                                                     \nA View to a Kill                      275.2    54.5                9.1   \nCasino Royale                         581.5   145.3                3.3   \nCasino Royale                         315.0    85.0                NaN   \nDiamonds Are Forever                  442.5    34.7                5.8   \nDie Another Day                       465.4   154.2               17.9   \nDr. No                                448.8     7.0                0.6   \nFor Your Eyes Only                    449.4    60.2                NaN   \nFrom Russia with Love                 543.8    12.6                1.6   \nGoldenEye                             518.5    76.9                5.1   \nGoldfinger                            820.4    18.6                3.2   \nLicence to Kill                       250.9    56.7                7.9   \nLive and Let Die                      460.3    30.8                NaN   \nMoonraker                             535.0    91.5                NaN   \nNever Say Never Again                 380.0    86.0                NaN   \nOctopussy                             373.8    53.9                7.8   \nOn Her Majesty's Secret Service       291.5    37.3                0.6   \nQuantum of Solace                     514.2   181.4                8.1   \nSkyfall                               943.5   170.2               14.5   \nSpectre                               726.7   206.3                NaN   \nThe Living Daylights                  313.5    68.8                5.2   \nThe Man with the Golden Gun           334.0    27.7                NaN   \nThe Spy Who Loved Me                  533.0    45.1                NaN   \nThe World Is Not Enough               439.5   158.3               13.5   \nThunderball                           848.1    41.9                4.7   \nTomorrow Never Dies                   463.2   133.9               10.0   \nYou Only Live Twice                   514.2    59.9                4.4   \n\n                                         Review  \nFilm                                             \nA View to a Kill                 I have no clue  \nCasino Royale                          The best  \nCasino Royale                    I have no clue  \nDiamonds Are Forever             I have no clue  \nDie Another Day                  I have no clue  \nDr. No                           I have no clue  \nFor Your Eyes Only               I have no clue  \nFrom Russia with Love            I have no clue  \nGoldenEye                        I have no clue  \nGoldfinger                       I have no clue  \nLicence to Kill                  I have no clue  \nLive and Let Die                 I have no clue  \nMoonraker                        I have no clue  \nNever Say Never Again                 Enjoyable  \nOctopussy                        I have no clue  \nOn Her Majesty's Secret Service  I have no clue  \nQuantum of Solace                      The best  \nSkyfall                                The best  \nSpectre                                The best  \nThe Living Daylights             I have no clue  \nThe Man with the Golden Gun      I have no clue  \nThe Spy Who Loved Me             I have no clue  \nThe World Is Not Enough          I have no clue  \nThunderball                           Enjoyable  \nTomorrow Never Dies              I have no clue  \nYou Only Live Twice                   Enjoyable  ",
      "text/html": "<div>\n<style scoped>\n    .dataframe tbody tr th:only-of-type {\n        vertical-align: middle;\n    }\n\n    .dataframe tbody tr th {\n        vertical-align: top;\n    }\n\n    .dataframe thead th {\n        text-align: right;\n    }\n</style>\n<table border=\"1\" class=\"dataframe\">\n  <thead>\n    <tr style=\"text-align: right;\">\n      <th></th>\n      <th>Year</th>\n      <th>Actor</th>\n      <th>Director</th>\n      <th>Box Office</th>\n      <th>Budget</th>\n      <th>Bond Actor Salary</th>\n      <th>Review</th>\n    </tr>\n    <tr>\n      <th>Film</th>\n      <th></th>\n      <th></th>\n      <th></th>\n      <th></th>\n      <th></th>\n      <th></th>\n      <th></th>\n    </tr>\n  </thead>\n  <tbody>\n    <tr>\n      <th>A View to a Kill</th>\n      <td>1985</td>\n      <td>Roger Moore</td>\n      <td>John Glen</td>\n      <td>275.2</td>\n      <td>54.5</td>\n      <td>9.1</td>\n      <td>I have no clue</td>\n    </tr>\n    <tr>\n      <th>Casino Royale</th>\n      <td>2006</td>\n      <td>Daniel Craig</td>\n      <td>Martin Campbell</td>\n      <td>581.5</td>\n      <td>145.3</td>\n      <td>3.3</td>\n      <td>The best</td>\n    </tr>\n    <tr>\n      <th>Casino Royale</th>\n      <td>1967</td>\n      <td>David Niven</td>\n      <td>Ken Hughes</td>\n      <td>315.0</td>\n      <td>85.0</td>\n      <td>NaN</td>\n      <td>I have no clue</td>\n    </tr>\n    <tr>\n      <th>Diamonds Are Forever</th>\n      <td>1971</td>\n      <td>Sean Connery</td>\n      <td>Guy Hamilton</td>\n      <td>442.5</td>\n      <td>34.7</td>\n      <td>5.8</td>\n      <td>I have no clue</td>\n    </tr>\n    <tr>\n      <th>Die Another Day</th>\n      <td>2002</td>\n      <td>Pierce Brosnan</td>\n      <td>Lee Tamahori</td>\n      <td>465.4</td>\n      <td>154.2</td>\n      <td>17.9</td>\n      <td>I have no clue</td>\n    </tr>\n    <tr>\n      <th>Dr. No</th>\n      <td>1962</td>\n      <td>Sean Connery</td>\n      <td>Terence Young</td>\n      <td>448.8</td>\n      <td>7.0</td>\n      <td>0.6</td>\n      <td>I have no clue</td>\n    </tr>\n    <tr>\n      <th>For Your Eyes Only</th>\n      <td>1981</td>\n      <td>Roger Moore</td>\n      <td>John Glen</td>\n      <td>449.4</td>\n      <td>60.2</td>\n      <td>NaN</td>\n      <td>I have no clue</td>\n    </tr>\n    <tr>\n      <th>From Russia with Love</th>\n      <td>1963</td>\n      <td>Sean Connery</td>\n      <td>Terence Young</td>\n      <td>543.8</td>\n      <td>12.6</td>\n      <td>1.6</td>\n      <td>I have no clue</td>\n    </tr>\n    <tr>\n      <th>GoldenEye</th>\n      <td>1995</td>\n      <td>Pierce Brosnan</td>\n      <td>Martin Campbell</td>\n      <td>518.5</td>\n      <td>76.9</td>\n      <td>5.1</td>\n      <td>I have no clue</td>\n    </tr>\n    <tr>\n      <th>Goldfinger</th>\n      <td>1964</td>\n      <td>Sean Connery</td>\n      <td>Guy Hamilton</td>\n      <td>820.4</td>\n      <td>18.6</td>\n      <td>3.2</td>\n      <td>I have no clue</td>\n    </tr>\n    <tr>\n      <th>Licence to Kill</th>\n      <td>1989</td>\n      <td>Timothy Dalton</td>\n      <td>John Glen</td>\n      <td>250.9</td>\n      <td>56.7</td>\n      <td>7.9</td>\n      <td>I have no clue</td>\n    </tr>\n    <tr>\n      <th>Live and Let Die</th>\n      <td>1973</td>\n      <td>Roger Moore</td>\n      <td>Guy Hamilton</td>\n      <td>460.3</td>\n      <td>30.8</td>\n      <td>NaN</td>\n      <td>I have no clue</td>\n    </tr>\n    <tr>\n      <th>Moonraker</th>\n      <td>1979</td>\n      <td>Roger Moore</td>\n      <td>Lewis Gilbert</td>\n      <td>535.0</td>\n      <td>91.5</td>\n      <td>NaN</td>\n      <td>I have no clue</td>\n    </tr>\n    <tr>\n      <th>Never Say Never Again</th>\n      <td>1983</td>\n      <td>Sean Connery</td>\n      <td>Irvin Kershner</td>\n      <td>380.0</td>\n      <td>86.0</td>\n      <td>NaN</td>\n      <td>Enjoyable</td>\n    </tr>\n    <tr>\n      <th>Octopussy</th>\n      <td>1983</td>\n      <td>Roger Moore</td>\n      <td>John Glen</td>\n      <td>373.8</td>\n      <td>53.9</td>\n      <td>7.8</td>\n      <td>I have no clue</td>\n    </tr>\n    <tr>\n      <th>On Her Majesty's Secret Service</th>\n      <td>1969</td>\n      <td>George Lazenby</td>\n      <td>Peter R. Hunt</td>\n      <td>291.5</td>\n      <td>37.3</td>\n      <td>0.6</td>\n      <td>I have no clue</td>\n    </tr>\n    <tr>\n      <th>Quantum of Solace</th>\n      <td>2008</td>\n      <td>Daniel Craig</td>\n      <td>Marc Forster</td>\n      <td>514.2</td>\n      <td>181.4</td>\n      <td>8.1</td>\n      <td>The best</td>\n    </tr>\n    <tr>\n      <th>Skyfall</th>\n      <td>2012</td>\n      <td>Daniel Craig</td>\n      <td>Sam Mendes</td>\n      <td>943.5</td>\n      <td>170.2</td>\n      <td>14.5</td>\n      <td>The best</td>\n    </tr>\n    <tr>\n      <th>Spectre</th>\n      <td>2015</td>\n      <td>Daniel Craig</td>\n      <td>Sam Mendes</td>\n      <td>726.7</td>\n      <td>206.3</td>\n      <td>NaN</td>\n      <td>The best</td>\n    </tr>\n    <tr>\n      <th>The Living Daylights</th>\n      <td>1987</td>\n      <td>Timothy Dalton</td>\n      <td>John Glen</td>\n      <td>313.5</td>\n      <td>68.8</td>\n      <td>5.2</td>\n      <td>I have no clue</td>\n    </tr>\n    <tr>\n      <th>The Man with the Golden Gun</th>\n      <td>1974</td>\n      <td>Roger Moore</td>\n      <td>Guy Hamilton</td>\n      <td>334.0</td>\n      <td>27.7</td>\n      <td>NaN</td>\n      <td>I have no clue</td>\n    </tr>\n    <tr>\n      <th>The Spy Who Loved Me</th>\n      <td>1977</td>\n      <td>Roger Moore</td>\n      <td>Lewis Gilbert</td>\n      <td>533.0</td>\n      <td>45.1</td>\n      <td>NaN</td>\n      <td>I have no clue</td>\n    </tr>\n    <tr>\n      <th>The World Is Not Enough</th>\n      <td>1999</td>\n      <td>Pierce Brosnan</td>\n      <td>Michael Apted</td>\n      <td>439.5</td>\n      <td>158.3</td>\n      <td>13.5</td>\n      <td>I have no clue</td>\n    </tr>\n    <tr>\n      <th>Thunderball</th>\n      <td>1965</td>\n      <td>Sean Connery</td>\n      <td>Terence Young</td>\n      <td>848.1</td>\n      <td>41.9</td>\n      <td>4.7</td>\n      <td>Enjoyable</td>\n    </tr>\n    <tr>\n      <th>Tomorrow Never Dies</th>\n      <td>1997</td>\n      <td>Pierce Brosnan</td>\n      <td>Roger Spottiswoode</td>\n      <td>463.2</td>\n      <td>133.9</td>\n      <td>10.0</td>\n      <td>I have no clue</td>\n    </tr>\n    <tr>\n      <th>You Only Live Twice</th>\n      <td>1967</td>\n      <td>Sean Connery</td>\n      <td>Lewis Gilbert</td>\n      <td>514.2</td>\n      <td>59.9</td>\n      <td>4.4</td>\n      <td>Enjoyable</td>\n    </tr>\n  </tbody>\n</table>\n</div>"
     },
     "execution_count": 146,
     "metadata": {},
     "output_type": "execute_result"
    }
   ],
   "source": [
    "bond"
   ],
   "metadata": {
    "collapsed": false,
    "pycharm": {
     "name": "#%%\n"
    }
   }
  },
  {
   "cell_type": "markdown",
   "source": [
    "# The `copy()` Method"
   ],
   "metadata": {
    "collapsed": false,
    "pycharm": {
     "name": "#%% md\n"
    }
   }
  },
  {
   "cell_type": "code",
   "execution_count": 154,
   "outputs": [
    {
     "data": {
      "text/plain": "                      Year           Actor         Director  Box Office  \\\nFilm                                                                      \nA View to a Kill      1985     Roger Moore        John Glen       275.2   \nCasino Royale         2006    Daniel Craig  Martin Campbell       581.5   \nCasino Royale         1967     David Niven       Ken Hughes       315.0   \nDiamonds Are Forever  1971    Sean Connery     Guy Hamilton       442.5   \nDie Another Day       2002  Pierce Brosnan     Lee Tamahori       465.4   \n\n                      Budget  Bond Actor Salary  \nFilm                                             \nA View to a Kill        54.5                9.1  \nCasino Royale          145.3                3.3  \nCasino Royale           85.0                NaN  \nDiamonds Are Forever    34.7                5.8  \nDie Another Day        154.2               17.9  ",
      "text/html": "<div>\n<style scoped>\n    .dataframe tbody tr th:only-of-type {\n        vertical-align: middle;\n    }\n\n    .dataframe tbody tr th {\n        vertical-align: top;\n    }\n\n    .dataframe thead th {\n        text-align: right;\n    }\n</style>\n<table border=\"1\" class=\"dataframe\">\n  <thead>\n    <tr style=\"text-align: right;\">\n      <th></th>\n      <th>Year</th>\n      <th>Actor</th>\n      <th>Director</th>\n      <th>Box Office</th>\n      <th>Budget</th>\n      <th>Bond Actor Salary</th>\n    </tr>\n    <tr>\n      <th>Film</th>\n      <th></th>\n      <th></th>\n      <th></th>\n      <th></th>\n      <th></th>\n      <th></th>\n    </tr>\n  </thead>\n  <tbody>\n    <tr>\n      <th>A View to a Kill</th>\n      <td>1985</td>\n      <td>Roger Moore</td>\n      <td>John Glen</td>\n      <td>275.2</td>\n      <td>54.5</td>\n      <td>9.1</td>\n    </tr>\n    <tr>\n      <th>Casino Royale</th>\n      <td>2006</td>\n      <td>Daniel Craig</td>\n      <td>Martin Campbell</td>\n      <td>581.5</td>\n      <td>145.3</td>\n      <td>3.3</td>\n    </tr>\n    <tr>\n      <th>Casino Royale</th>\n      <td>1967</td>\n      <td>David Niven</td>\n      <td>Ken Hughes</td>\n      <td>315.0</td>\n      <td>85.0</td>\n      <td>NaN</td>\n    </tr>\n    <tr>\n      <th>Diamonds Are Forever</th>\n      <td>1971</td>\n      <td>Sean Connery</td>\n      <td>Guy Hamilton</td>\n      <td>442.5</td>\n      <td>34.7</td>\n      <td>5.8</td>\n    </tr>\n    <tr>\n      <th>Die Another Day</th>\n      <td>2002</td>\n      <td>Pierce Brosnan</td>\n      <td>Lee Tamahori</td>\n      <td>465.4</td>\n      <td>154.2</td>\n      <td>17.9</td>\n    </tr>\n  </tbody>\n</table>\n</div>"
     },
     "execution_count": 154,
     "metadata": {},
     "output_type": "execute_result"
    }
   ],
   "source": [
    "bond = pd.read_csv(\"jamesbond.csv\", index_col=\"Film\")\n",
    "bond.sort_index(inplace=True)\n",
    "bond.head()"
   ],
   "metadata": {
    "collapsed": false,
    "pycharm": {
     "name": "#%%\n"
    }
   }
  },
  {
   "cell_type": "code",
   "execution_count": 155,
   "outputs": [
    {
     "data": {
      "text/plain": "Film\nA View to a Kill          John Glen\nCasino Royale       Martin Campbell\nCasino Royale            Ken Hughes\nName: Director, dtype: object"
     },
     "execution_count": 155,
     "metadata": {},
     "output_type": "execute_result"
    }
   ],
   "source": [
    "directors = bond[\"Director\"].copy()\n",
    "directors.head(3)"
   ],
   "metadata": {
    "collapsed": false,
    "pycharm": {
     "name": "#%%\n"
    }
   }
  },
  {
   "cell_type": "code",
   "execution_count": 158,
   "outputs": [],
   "source": [
    "directors[\"A View to a Kill\"] = \"Mister John Glen\""
   ],
   "metadata": {
    "collapsed": false,
    "pycharm": {
     "name": "#%%\n"
    }
   }
  },
  {
   "cell_type": "code",
   "execution_count": 159,
   "outputs": [
    {
     "data": {
      "text/plain": "Film\nA View to a Kill        Mister John Glen\nCasino Royale            Martin Campbell\nCasino Royale                 Ken Hughes\nDiamonds Are Forever        Guy Hamilton\nDie Another Day             Lee Tamahori\nName: Director, dtype: object"
     },
     "execution_count": 159,
     "metadata": {},
     "output_type": "execute_result"
    }
   ],
   "source": [
    "directors.head()"
   ],
   "metadata": {
    "collapsed": false,
    "pycharm": {
     "name": "#%%\n"
    }
   }
  },
  {
   "cell_type": "code",
   "execution_count": 160,
   "outputs": [
    {
     "data": {
      "text/plain": "                      Year           Actor         Director  Box Office  \\\nFilm                                                                      \nA View to a Kill      1985     Roger Moore        John Glen       275.2   \nCasino Royale         2006    Daniel Craig  Martin Campbell       581.5   \nCasino Royale         1967     David Niven       Ken Hughes       315.0   \nDiamonds Are Forever  1971    Sean Connery     Guy Hamilton       442.5   \nDie Another Day       2002  Pierce Brosnan     Lee Tamahori       465.4   \n\n                      Budget  Bond Actor Salary  \nFilm                                             \nA View to a Kill        54.5                9.1  \nCasino Royale          145.3                3.3  \nCasino Royale           85.0                NaN  \nDiamonds Are Forever    34.7                5.8  \nDie Another Day        154.2               17.9  ",
      "text/html": "<div>\n<style scoped>\n    .dataframe tbody tr th:only-of-type {\n        vertical-align: middle;\n    }\n\n    .dataframe tbody tr th {\n        vertical-align: top;\n    }\n\n    .dataframe thead th {\n        text-align: right;\n    }\n</style>\n<table border=\"1\" class=\"dataframe\">\n  <thead>\n    <tr style=\"text-align: right;\">\n      <th></th>\n      <th>Year</th>\n      <th>Actor</th>\n      <th>Director</th>\n      <th>Box Office</th>\n      <th>Budget</th>\n      <th>Bond Actor Salary</th>\n    </tr>\n    <tr>\n      <th>Film</th>\n      <th></th>\n      <th></th>\n      <th></th>\n      <th></th>\n      <th></th>\n      <th></th>\n    </tr>\n  </thead>\n  <tbody>\n    <tr>\n      <th>A View to a Kill</th>\n      <td>1985</td>\n      <td>Roger Moore</td>\n      <td>John Glen</td>\n      <td>275.2</td>\n      <td>54.5</td>\n      <td>9.1</td>\n    </tr>\n    <tr>\n      <th>Casino Royale</th>\n      <td>2006</td>\n      <td>Daniel Craig</td>\n      <td>Martin Campbell</td>\n      <td>581.5</td>\n      <td>145.3</td>\n      <td>3.3</td>\n    </tr>\n    <tr>\n      <th>Casino Royale</th>\n      <td>1967</td>\n      <td>David Niven</td>\n      <td>Ken Hughes</td>\n      <td>315.0</td>\n      <td>85.0</td>\n      <td>NaN</td>\n    </tr>\n    <tr>\n      <th>Diamonds Are Forever</th>\n      <td>1971</td>\n      <td>Sean Connery</td>\n      <td>Guy Hamilton</td>\n      <td>442.5</td>\n      <td>34.7</td>\n      <td>5.8</td>\n    </tr>\n    <tr>\n      <th>Die Another Day</th>\n      <td>2002</td>\n      <td>Pierce Brosnan</td>\n      <td>Lee Tamahori</td>\n      <td>465.4</td>\n      <td>154.2</td>\n      <td>17.9</td>\n    </tr>\n  </tbody>\n</table>\n</div>"
     },
     "execution_count": 160,
     "metadata": {},
     "output_type": "execute_result"
    }
   ],
   "source": [
    "bond.head()"
   ],
   "metadata": {
    "collapsed": false,
    "pycharm": {
     "name": "#%%\n"
    }
   }
  }
 ],
 "metadata": {
  "kernelspec": {
   "display_name": "Python 3.10.4 ('pandas_playground')",
   "language": "python",
   "name": "python3"
  },
  "language_info": {
   "codemirror_mode": {
    "name": "ipython",
    "version": 3
   },
   "file_extension": ".py",
   "mimetype": "text/x-python",
   "name": "python",
   "nbconvert_exporter": "python",
   "pygments_lexer": "ipython3",
   "version": "3.10.4"
  },
  "orig_nbformat": 4,
  "vscode": {
   "interpreter": {
    "hash": "5431d8997ded1fc9d3d05a65bd72c147f4ad391ac23d4b528cffdf6ff5a60c23"
   }
  }
 },
 "nbformat": 4,
 "nbformat_minor": 2
}