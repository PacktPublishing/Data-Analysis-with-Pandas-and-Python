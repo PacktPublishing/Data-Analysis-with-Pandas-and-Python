{
 "cells": [
  {
   "cell_type": "markdown",
   "id": "93180543-b57f-4e2e-8bb9-3495bc1bf4aa",
   "metadata": {
    "pycharm": {
     "name": "#%% md\n"
    }
   },
   "source": [
    "# The `get()` method on a `Series`\n",
    "This is a method that avoid erros."
   ]
  },
  {
   "cell_type": "code",
   "execution_count": null,
   "id": "2e540f26-89fc-4d6b-84cd-475d932f1a01",
   "metadata": {
    "pycharm": {
     "name": "#%%\n"
    }
   },
   "outputs": [],
   "source": [
    "import pandas as pd"
   ]
  },
  {
   "cell_type": "code",
   "execution_count": null,
   "id": "3a0ba3a7-3bc8-40a2-8f12-72313a4f004a",
   "metadata": {
    "pycharm": {
     "name": "#%%\n"
    }
   },
   "outputs": [],
   "source": [
    "pokemon = pd.read_csv(\"pokemon.csv\", index_col=\"Pokemon\").squeeze()\n",
    "pokemon.sort_index(inplace=True)  # sorting index allows optimization\n",
    "pokemon.head()"
   ]
  },
  {
   "cell_type": "code",
   "execution_count": null,
   "id": "eba3566b-3d42-4a6e-a58e-1ce5e606abec",
   "metadata": {
    "pycharm": {
     "name": "#%%\n"
    }
   },
   "outputs": [],
   "source": [
    "pokemon.get(key=\"Bulbasaur\")"
   ]
  },
  {
   "cell_type": "code",
   "execution_count": null,
   "id": "eb25eaa9-ed0a-49d5-beea-37cdfdbd306e",
   "metadata": {
    "pycharm": {
     "name": "#%%\n"
    }
   },
   "outputs": [],
   "source": [
    "pokemon.get(key=[0, 5])"
   ]
  },
  {
   "cell_type": "code",
   "execution_count": null,
   "id": "313336cc-c801-4427-9b81-648185cae5c0",
   "metadata": {
    "pycharm": {
     "name": "#%%\n"
    }
   },
   "outputs": [],
   "source": [
    "# using non existing key\n",
    "pokemon.get(key=[0, 1000], default=\"This is not a Pokemon\")"
   ]
  },
  {
   "cell_type": "code",
   "execution_count": null,
   "id": "0d3f6de1-eb36-4a07-a84e-2e1031e9c3d4",
   "metadata": {
    "pycharm": {
     "name": "#%%\n"
    }
   },
   "outputs": [],
   "source": [
    "pokemon.get(key=\"Pikachu\", default=\"This is not a Pokemon\")"
   ]
  }
 ],
 "metadata": {
  "kernelspec": {
   "display_name": "Python 3.10.4 ('pandas_playground')",
   "language": "python",
   "name": "python3"
  },
  "language_info": {
   "codemirror_mode": {
    "name": "ipython",
    "version": 3
   },
   "file_extension": ".py",
   "mimetype": "text/x-python",
   "name": "python",
   "nbconvert_exporter": "python",
   "pygments_lexer": "ipython3",
   "version": "3.10.4"
  },
  "vscode": {
   "interpreter": {
    "hash": "5431d8997ded1fc9d3d05a65bd72c147f4ad391ac23d4b528cffdf6ff5a60c23"
   }
  }
 },
 "nbformat": 4,
 "nbformat_minor": 5
}
