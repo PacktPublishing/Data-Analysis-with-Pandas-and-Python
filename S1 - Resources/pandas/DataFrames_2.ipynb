{
 "cells": [
  {
   "cell_type": "markdown",
   "id": "ffd819b7",
   "metadata": {
    "pycharm": {
     "name": "#%% md\n"
    }
   },
   "source": [
    "# This modulo dataset + memory optimization"
   ]
  },
  {
   "cell_type": "code",
   "execution_count": 2,
   "id": "698b4584-06d5-42db-ab8d-b4e5351adab7",
   "metadata": {
    "pycharm": {
     "name": "#%%\n"
    }
   },
   "outputs": [],
   "source": [
    "import pandas as pd"
   ]
  },
  {
   "cell_type": "code",
   "execution_count": 15,
   "id": "4d0ea5ce",
   "metadata": {
    "pycharm": {
     "name": "#%%\n"
    }
   },
   "outputs": [
    {
     "data": {
      "text/plain": "  First Name  Gender Start Date     Last Login Time  Salary  Bonus %  \\\n0    Douglas    Male 1993-08-06 2022-08-13 12:42:00   97308    6.945   \n1     Thomas    Male 1996-03-31 2022-08-13 06:53:00   61933    4.170   \n2      Maria  Female 1993-04-23 2022-08-13 11:17:00  130590   11.858   \n3      Jerry    Male 2005-03-04 2022-08-13 13:00:00  138705    9.340   \n4      Larry    Male 1998-01-24 2022-08-13 16:47:00  101004    1.389   \n\n   Senior Management             Team  \n0               True        Marketing  \n1               True              NaN  \n2              False          Finance  \n3               True          Finance  \n4               True  Client Services  ",
      "text/html": "<div>\n<style scoped>\n    .dataframe tbody tr th:only-of-type {\n        vertical-align: middle;\n    }\n\n    .dataframe tbody tr th {\n        vertical-align: top;\n    }\n\n    .dataframe thead th {\n        text-align: right;\n    }\n</style>\n<table border=\"1\" class=\"dataframe\">\n  <thead>\n    <tr style=\"text-align: right;\">\n      <th></th>\n      <th>First Name</th>\n      <th>Gender</th>\n      <th>Start Date</th>\n      <th>Last Login Time</th>\n      <th>Salary</th>\n      <th>Bonus %</th>\n      <th>Senior Management</th>\n      <th>Team</th>\n    </tr>\n  </thead>\n  <tbody>\n    <tr>\n      <th>0</th>\n      <td>Douglas</td>\n      <td>Male</td>\n      <td>1993-08-06</td>\n      <td>2022-08-13 12:42:00</td>\n      <td>97308</td>\n      <td>6.945</td>\n      <td>True</td>\n      <td>Marketing</td>\n    </tr>\n    <tr>\n      <th>1</th>\n      <td>Thomas</td>\n      <td>Male</td>\n      <td>1996-03-31</td>\n      <td>2022-08-13 06:53:00</td>\n      <td>61933</td>\n      <td>4.170</td>\n      <td>True</td>\n      <td>NaN</td>\n    </tr>\n    <tr>\n      <th>2</th>\n      <td>Maria</td>\n      <td>Female</td>\n      <td>1993-04-23</td>\n      <td>2022-08-13 11:17:00</td>\n      <td>130590</td>\n      <td>11.858</td>\n      <td>False</td>\n      <td>Finance</td>\n    </tr>\n    <tr>\n      <th>3</th>\n      <td>Jerry</td>\n      <td>Male</td>\n      <td>2005-03-04</td>\n      <td>2022-08-13 13:00:00</td>\n      <td>138705</td>\n      <td>9.340</td>\n      <td>True</td>\n      <td>Finance</td>\n    </tr>\n    <tr>\n      <th>4</th>\n      <td>Larry</td>\n      <td>Male</td>\n      <td>1998-01-24</td>\n      <td>2022-08-13 16:47:00</td>\n      <td>101004</td>\n      <td>1.389</td>\n      <td>True</td>\n      <td>Client Services</td>\n    </tr>\n  </tbody>\n</table>\n</div>"
     },
     "execution_count": 15,
     "metadata": {},
     "output_type": "execute_result"
    }
   ],
   "source": [
    "df = pd.read_csv(\"employees.csv\", parse_dates=[\"Start Date\", \"Last Login Time\"])\n",
    "df[\"Senior Management\"] = df[\"Senior Management\"].astype(bool)\n",
    "df[\"Gender\"] = df[\"Gender\"].astype(\"category\")\n",
    "df[\"Team\"] = df[\"Team\"].astype(\"category\")\n",
    "df.head()"
   ]
  },
  {
   "cell_type": "markdown",
   "source": [
    "# Filter a DataFrame based on a condition"
   ],
   "metadata": {
    "collapsed": false,
    "pycharm": {
     "name": "#%% md\n"
    }
   }
  },
  {
   "cell_type": "markdown",
   "source": [
    "## With a funky syntax"
   ],
   "metadata": {
    "collapsed": false,
    "pycharm": {
     "name": "#%% md\n"
    }
   }
  },
  {
   "cell_type": "code",
   "execution_count": 21,
   "outputs": [
    {
     "data": {
      "text/plain": "    First Name Gender Start Date     Last Login Time  Salary  Bonus %  \\\n0      Douglas   Male 1993-08-06 2022-08-13 12:42:00   97308    6.945   \n1       Thomas   Male 1996-03-31 2022-08-13 06:53:00   61933    4.170   \n3        Jerry   Male 2005-03-04 2022-08-13 13:00:00  138705    9.340   \n4        Larry   Male 1998-01-24 2022-08-13 16:47:00  101004    1.389   \n5       Dennis   Male 1987-04-18 2022-08-13 01:35:00  115163   10.125   \n..         ...    ...        ...                 ...     ...      ...   \n994     George   Male 2013-06-21 2022-08-13 17:47:00   98874    4.479   \n996    Phillip   Male 1984-01-31 2022-08-13 06:30:00   42392   19.675   \n997    Russell   Male 2013-05-20 2022-08-13 12:39:00   96914    1.421   \n998      Larry   Male 2013-04-20 2022-08-13 16:45:00   60500   11.985   \n999     Albert   Male 2012-05-15 2022-08-13 18:24:00  129949   10.169   \n\n     Senior Management                  Team  \n0                 True             Marketing  \n1                 True                   NaN  \n3                 True               Finance  \n4                 True       Client Services  \n5                False                 Legal  \n..                 ...                   ...  \n994               True             Marketing  \n996              False               Finance  \n997              False               Product  \n998              False  Business Development  \n999               True                 Sales  \n\n[424 rows x 8 columns]",
      "text/html": "<div>\n<style scoped>\n    .dataframe tbody tr th:only-of-type {\n        vertical-align: middle;\n    }\n\n    .dataframe tbody tr th {\n        vertical-align: top;\n    }\n\n    .dataframe thead th {\n        text-align: right;\n    }\n</style>\n<table border=\"1\" class=\"dataframe\">\n  <thead>\n    <tr style=\"text-align: right;\">\n      <th></th>\n      <th>First Name</th>\n      <th>Gender</th>\n      <th>Start Date</th>\n      <th>Last Login Time</th>\n      <th>Salary</th>\n      <th>Bonus %</th>\n      <th>Senior Management</th>\n      <th>Team</th>\n    </tr>\n  </thead>\n  <tbody>\n    <tr>\n      <th>0</th>\n      <td>Douglas</td>\n      <td>Male</td>\n      <td>1993-08-06</td>\n      <td>2022-08-13 12:42:00</td>\n      <td>97308</td>\n      <td>6.945</td>\n      <td>True</td>\n      <td>Marketing</td>\n    </tr>\n    <tr>\n      <th>1</th>\n      <td>Thomas</td>\n      <td>Male</td>\n      <td>1996-03-31</td>\n      <td>2022-08-13 06:53:00</td>\n      <td>61933</td>\n      <td>4.170</td>\n      <td>True</td>\n      <td>NaN</td>\n    </tr>\n    <tr>\n      <th>3</th>\n      <td>Jerry</td>\n      <td>Male</td>\n      <td>2005-03-04</td>\n      <td>2022-08-13 13:00:00</td>\n      <td>138705</td>\n      <td>9.340</td>\n      <td>True</td>\n      <td>Finance</td>\n    </tr>\n    <tr>\n      <th>4</th>\n      <td>Larry</td>\n      <td>Male</td>\n      <td>1998-01-24</td>\n      <td>2022-08-13 16:47:00</td>\n      <td>101004</td>\n      <td>1.389</td>\n      <td>True</td>\n      <td>Client Services</td>\n    </tr>\n    <tr>\n      <th>5</th>\n      <td>Dennis</td>\n      <td>Male</td>\n      <td>1987-04-18</td>\n      <td>2022-08-13 01:35:00</td>\n      <td>115163</td>\n      <td>10.125</td>\n      <td>False</td>\n      <td>Legal</td>\n    </tr>\n    <tr>\n      <th>...</th>\n      <td>...</td>\n      <td>...</td>\n      <td>...</td>\n      <td>...</td>\n      <td>...</td>\n      <td>...</td>\n      <td>...</td>\n      <td>...</td>\n    </tr>\n    <tr>\n      <th>994</th>\n      <td>George</td>\n      <td>Male</td>\n      <td>2013-06-21</td>\n      <td>2022-08-13 17:47:00</td>\n      <td>98874</td>\n      <td>4.479</td>\n      <td>True</td>\n      <td>Marketing</td>\n    </tr>\n    <tr>\n      <th>996</th>\n      <td>Phillip</td>\n      <td>Male</td>\n      <td>1984-01-31</td>\n      <td>2022-08-13 06:30:00</td>\n      <td>42392</td>\n      <td>19.675</td>\n      <td>False</td>\n      <td>Finance</td>\n    </tr>\n    <tr>\n      <th>997</th>\n      <td>Russell</td>\n      <td>Male</td>\n      <td>2013-05-20</td>\n      <td>2022-08-13 12:39:00</td>\n      <td>96914</td>\n      <td>1.421</td>\n      <td>False</td>\n      <td>Product</td>\n    </tr>\n    <tr>\n      <th>998</th>\n      <td>Larry</td>\n      <td>Male</td>\n      <td>2013-04-20</td>\n      <td>2022-08-13 16:45:00</td>\n      <td>60500</td>\n      <td>11.985</td>\n      <td>False</td>\n      <td>Business Development</td>\n    </tr>\n    <tr>\n      <th>999</th>\n      <td>Albert</td>\n      <td>Male</td>\n      <td>2012-05-15</td>\n      <td>2022-08-13 18:24:00</td>\n      <td>129949</td>\n      <td>10.169</td>\n      <td>True</td>\n      <td>Sales</td>\n    </tr>\n  </tbody>\n</table>\n<p>424 rows × 8 columns</p>\n</div>"
     },
     "execution_count": 21,
     "metadata": {},
     "output_type": "execute_result"
    }
   ],
   "source": [
    "df[df[\"Gender\"] == \"Male\"]  # extracting all rows with gender == \"male\""
   ],
   "metadata": {
    "collapsed": false,
    "pycharm": {
     "name": "#%%\n"
    }
   }
  },
  {
   "cell_type": "code",
   "execution_count": 23,
   "outputs": [
    {
     "data": {
      "text/plain": "    First Name  Gender Start Date     Last Login Time  Salary  Bonus %  \\\n2        Maria  Female 1993-04-23 2022-08-13 11:17:00  130590   11.858   \n3        Jerry    Male 2005-03-04 2022-08-13 13:00:00  138705    9.340   \n7          NaN  Female 2015-07-20 2022-08-13 10:43:00   45906   11.598   \n14    Kimberly  Female 1999-01-14 2022-08-13 07:13:00   41426   14.543   \n46       Bruce    Male 2009-11-28 2022-08-13 22:47:00  114796    6.796   \n..         ...     ...        ...                 ...     ...      ...   \n907  Elizabeth  Female 1998-07-27 2022-08-13 11:12:00  137144   10.081   \n954        Joe    Male 1980-01-19 2022-08-13 16:06:00  119667    1.148   \n987     Gloria  Female 2014-12-08 2022-08-13 05:08:00  136709   10.331   \n992    Anthony    Male 2011-10-16 2022-08-13 08:35:00  112769   11.625   \n996    Phillip    Male 1984-01-31 2022-08-13 06:30:00   42392   19.675   \n\n     Senior Management     Team  \n2                False  Finance  \n3                 True  Finance  \n7                 True  Finance  \n14                True  Finance  \n46               False  Finance  \n..                 ...      ...  \n907              False  Finance  \n954               True  Finance  \n987               True  Finance  \n992               True  Finance  \n996              False  Finance  \n\n[102 rows x 8 columns]",
      "text/html": "<div>\n<style scoped>\n    .dataframe tbody tr th:only-of-type {\n        vertical-align: middle;\n    }\n\n    .dataframe tbody tr th {\n        vertical-align: top;\n    }\n\n    .dataframe thead th {\n        text-align: right;\n    }\n</style>\n<table border=\"1\" class=\"dataframe\">\n  <thead>\n    <tr style=\"text-align: right;\">\n      <th></th>\n      <th>First Name</th>\n      <th>Gender</th>\n      <th>Start Date</th>\n      <th>Last Login Time</th>\n      <th>Salary</th>\n      <th>Bonus %</th>\n      <th>Senior Management</th>\n      <th>Team</th>\n    </tr>\n  </thead>\n  <tbody>\n    <tr>\n      <th>2</th>\n      <td>Maria</td>\n      <td>Female</td>\n      <td>1993-04-23</td>\n      <td>2022-08-13 11:17:00</td>\n      <td>130590</td>\n      <td>11.858</td>\n      <td>False</td>\n      <td>Finance</td>\n    </tr>\n    <tr>\n      <th>3</th>\n      <td>Jerry</td>\n      <td>Male</td>\n      <td>2005-03-04</td>\n      <td>2022-08-13 13:00:00</td>\n      <td>138705</td>\n      <td>9.340</td>\n      <td>True</td>\n      <td>Finance</td>\n    </tr>\n    <tr>\n      <th>7</th>\n      <td>NaN</td>\n      <td>Female</td>\n      <td>2015-07-20</td>\n      <td>2022-08-13 10:43:00</td>\n      <td>45906</td>\n      <td>11.598</td>\n      <td>True</td>\n      <td>Finance</td>\n    </tr>\n    <tr>\n      <th>14</th>\n      <td>Kimberly</td>\n      <td>Female</td>\n      <td>1999-01-14</td>\n      <td>2022-08-13 07:13:00</td>\n      <td>41426</td>\n      <td>14.543</td>\n      <td>True</td>\n      <td>Finance</td>\n    </tr>\n    <tr>\n      <th>46</th>\n      <td>Bruce</td>\n      <td>Male</td>\n      <td>2009-11-28</td>\n      <td>2022-08-13 22:47:00</td>\n      <td>114796</td>\n      <td>6.796</td>\n      <td>False</td>\n      <td>Finance</td>\n    </tr>\n    <tr>\n      <th>...</th>\n      <td>...</td>\n      <td>...</td>\n      <td>...</td>\n      <td>...</td>\n      <td>...</td>\n      <td>...</td>\n      <td>...</td>\n      <td>...</td>\n    </tr>\n    <tr>\n      <th>907</th>\n      <td>Elizabeth</td>\n      <td>Female</td>\n      <td>1998-07-27</td>\n      <td>2022-08-13 11:12:00</td>\n      <td>137144</td>\n      <td>10.081</td>\n      <td>False</td>\n      <td>Finance</td>\n    </tr>\n    <tr>\n      <th>954</th>\n      <td>Joe</td>\n      <td>Male</td>\n      <td>1980-01-19</td>\n      <td>2022-08-13 16:06:00</td>\n      <td>119667</td>\n      <td>1.148</td>\n      <td>True</td>\n      <td>Finance</td>\n    </tr>\n    <tr>\n      <th>987</th>\n      <td>Gloria</td>\n      <td>Female</td>\n      <td>2014-12-08</td>\n      <td>2022-08-13 05:08:00</td>\n      <td>136709</td>\n      <td>10.331</td>\n      <td>True</td>\n      <td>Finance</td>\n    </tr>\n    <tr>\n      <th>992</th>\n      <td>Anthony</td>\n      <td>Male</td>\n      <td>2011-10-16</td>\n      <td>2022-08-13 08:35:00</td>\n      <td>112769</td>\n      <td>11.625</td>\n      <td>True</td>\n      <td>Finance</td>\n    </tr>\n    <tr>\n      <th>996</th>\n      <td>Phillip</td>\n      <td>Male</td>\n      <td>1984-01-31</td>\n      <td>2022-08-13 06:30:00</td>\n      <td>42392</td>\n      <td>19.675</td>\n      <td>False</td>\n      <td>Finance</td>\n    </tr>\n  </tbody>\n</table>\n<p>102 rows × 8 columns</p>\n</div>"
     },
     "execution_count": 23,
     "metadata": {},
     "output_type": "execute_result"
    }
   ],
   "source": [
    "df[df[\"Team\"] == \"Finance\"] # df with all rows corresponding to team finance"
   ],
   "metadata": {
    "collapsed": false,
    "pycharm": {
     "name": "#%%\n"
    }
   }
  },
  {
   "cell_type": "markdown",
   "source": [
    "## There is a more elegant way to do this\n",
    "And we can even combine conditions."
   ],
   "metadata": {
    "collapsed": false,
    "pycharm": {
     "name": "#%% md\n"
    }
   }
  },
  {
   "cell_type": "code",
   "execution_count": 66,
   "outputs": [
    {
     "data": {
      "text/plain": "    First Name  Gender Start Date     Last Login Time  Salary  Bonus %  \\\n2        Maria  Female 1993-04-23 2022-08-13 11:17:00  130590   11.858   \n3        Jerry    Male 2005-03-04 2022-08-13 13:00:00  138705    9.340   \n7          NaN  Female 2015-07-20 2022-08-13 10:43:00   45906   11.598   \n14    Kimberly  Female 1999-01-14 2022-08-13 07:13:00   41426   14.543   \n46       Bruce    Male 2009-11-28 2022-08-13 22:47:00  114796    6.796   \n..         ...     ...        ...                 ...     ...      ...   \n907  Elizabeth  Female 1998-07-27 2022-08-13 11:12:00  137144   10.081   \n954        Joe    Male 1980-01-19 2022-08-13 16:06:00  119667    1.148   \n987     Gloria  Female 2014-12-08 2022-08-13 05:08:00  136709   10.331   \n992    Anthony    Male 2011-10-16 2022-08-13 08:35:00  112769   11.625   \n996    Phillip    Male 1984-01-31 2022-08-13 06:30:00   42392   19.675   \n\n     Senior Management     Team  \n2                False  Finance  \n3                 True  Finance  \n7                 True  Finance  \n14                True  Finance  \n46               False  Finance  \n..                 ...      ...  \n907              False  Finance  \n954               True  Finance  \n987               True  Finance  \n992               True  Finance  \n996              False  Finance  \n\n[102 rows x 8 columns]",
      "text/html": "<div>\n<style scoped>\n    .dataframe tbody tr th:only-of-type {\n        vertical-align: middle;\n    }\n\n    .dataframe tbody tr th {\n        vertical-align: top;\n    }\n\n    .dataframe thead th {\n        text-align: right;\n    }\n</style>\n<table border=\"1\" class=\"dataframe\">\n  <thead>\n    <tr style=\"text-align: right;\">\n      <th></th>\n      <th>First Name</th>\n      <th>Gender</th>\n      <th>Start Date</th>\n      <th>Last Login Time</th>\n      <th>Salary</th>\n      <th>Bonus %</th>\n      <th>Senior Management</th>\n      <th>Team</th>\n    </tr>\n  </thead>\n  <tbody>\n    <tr>\n      <th>2</th>\n      <td>Maria</td>\n      <td>Female</td>\n      <td>1993-04-23</td>\n      <td>2022-08-13 11:17:00</td>\n      <td>130590</td>\n      <td>11.858</td>\n      <td>False</td>\n      <td>Finance</td>\n    </tr>\n    <tr>\n      <th>3</th>\n      <td>Jerry</td>\n      <td>Male</td>\n      <td>2005-03-04</td>\n      <td>2022-08-13 13:00:00</td>\n      <td>138705</td>\n      <td>9.340</td>\n      <td>True</td>\n      <td>Finance</td>\n    </tr>\n    <tr>\n      <th>7</th>\n      <td>NaN</td>\n      <td>Female</td>\n      <td>2015-07-20</td>\n      <td>2022-08-13 10:43:00</td>\n      <td>45906</td>\n      <td>11.598</td>\n      <td>True</td>\n      <td>Finance</td>\n    </tr>\n    <tr>\n      <th>14</th>\n      <td>Kimberly</td>\n      <td>Female</td>\n      <td>1999-01-14</td>\n      <td>2022-08-13 07:13:00</td>\n      <td>41426</td>\n      <td>14.543</td>\n      <td>True</td>\n      <td>Finance</td>\n    </tr>\n    <tr>\n      <th>46</th>\n      <td>Bruce</td>\n      <td>Male</td>\n      <td>2009-11-28</td>\n      <td>2022-08-13 22:47:00</td>\n      <td>114796</td>\n      <td>6.796</td>\n      <td>False</td>\n      <td>Finance</td>\n    </tr>\n    <tr>\n      <th>...</th>\n      <td>...</td>\n      <td>...</td>\n      <td>...</td>\n      <td>...</td>\n      <td>...</td>\n      <td>...</td>\n      <td>...</td>\n      <td>...</td>\n    </tr>\n    <tr>\n      <th>907</th>\n      <td>Elizabeth</td>\n      <td>Female</td>\n      <td>1998-07-27</td>\n      <td>2022-08-13 11:12:00</td>\n      <td>137144</td>\n      <td>10.081</td>\n      <td>False</td>\n      <td>Finance</td>\n    </tr>\n    <tr>\n      <th>954</th>\n      <td>Joe</td>\n      <td>Male</td>\n      <td>1980-01-19</td>\n      <td>2022-08-13 16:06:00</td>\n      <td>119667</td>\n      <td>1.148</td>\n      <td>True</td>\n      <td>Finance</td>\n    </tr>\n    <tr>\n      <th>987</th>\n      <td>Gloria</td>\n      <td>Female</td>\n      <td>2014-12-08</td>\n      <td>2022-08-13 05:08:00</td>\n      <td>136709</td>\n      <td>10.331</td>\n      <td>True</td>\n      <td>Finance</td>\n    </tr>\n    <tr>\n      <th>992</th>\n      <td>Anthony</td>\n      <td>Male</td>\n      <td>2011-10-16</td>\n      <td>2022-08-13 08:35:00</td>\n      <td>112769</td>\n      <td>11.625</td>\n      <td>True</td>\n      <td>Finance</td>\n    </tr>\n    <tr>\n      <th>996</th>\n      <td>Phillip</td>\n      <td>Male</td>\n      <td>1984-01-31</td>\n      <td>2022-08-13 06:30:00</td>\n      <td>42392</td>\n      <td>19.675</td>\n      <td>False</td>\n      <td>Finance</td>\n    </tr>\n  </tbody>\n</table>\n<p>102 rows × 8 columns</p>\n</div>"
     },
     "execution_count": 66,
     "metadata": {},
     "output_type": "execute_result"
    }
   ],
   "source": [
    "condition = df[\"Team\"] == \"Finance\"\n",
    "df[condition]"
   ],
   "metadata": {
    "collapsed": false,
    "pycharm": {
     "name": "#%%\n"
    }
   }
  },
  {
   "cell_type": "markdown",
   "source": [
    "## Extracting a boolean"
   ],
   "metadata": {
    "collapsed": false,
    "pycharm": {
     "name": "#%% md\n"
    }
   }
  },
  {
   "cell_type": "code",
   "execution_count": 48,
   "outputs": [
    {
     "data": {
      "text/plain": "    First Name  Gender Start Date     Last Login Time  Salary  Bonus %  \\\n2        Maria  Female 1993-04-23 2022-08-13 11:17:00  130590   11.858   \n5       Dennis    Male 1987-04-18 2022-08-13 01:35:00  115163   10.125   \n13        Gary    Male 2008-01-27 2022-08-13 23:40:00  109831    5.831   \n15     Lillian  Female 2016-06-05 2022-08-13 06:09:00   59414    1.256   \n16      Jeremy    Male 2010-09-21 2022-08-13 05:56:00   90370    7.369   \n..         ...     ...        ...                 ...     ...      ...   \n989     Justin     NaN 1991-02-10 2022-08-13 16:58:00   38344    3.794   \n995      Henry     NaN 2014-11-23 2022-08-13 06:09:00  132483   16.655   \n996    Phillip    Male 1984-01-31 2022-08-13 06:30:00   42392   19.675   \n997    Russell    Male 2013-05-20 2022-08-13 12:39:00   96914    1.421   \n998      Larry    Male 2013-04-20 2022-08-13 16:45:00   60500   11.985   \n\n     Senior Management                  Team  \n2                False               Finance  \n5                False                 Legal  \n13               False                 Sales  \n15               False               Product  \n16               False       Human Resources  \n..                 ...                   ...  \n989              False                 Legal  \n995              False          Distribution  \n996              False               Finance  \n997              False               Product  \n998              False  Business Development  \n\n[465 rows x 8 columns]",
      "text/html": "<div>\n<style scoped>\n    .dataframe tbody tr th:only-of-type {\n        vertical-align: middle;\n    }\n\n    .dataframe tbody tr th {\n        vertical-align: top;\n    }\n\n    .dataframe thead th {\n        text-align: right;\n    }\n</style>\n<table border=\"1\" class=\"dataframe\">\n  <thead>\n    <tr style=\"text-align: right;\">\n      <th></th>\n      <th>First Name</th>\n      <th>Gender</th>\n      <th>Start Date</th>\n      <th>Last Login Time</th>\n      <th>Salary</th>\n      <th>Bonus %</th>\n      <th>Senior Management</th>\n      <th>Team</th>\n    </tr>\n  </thead>\n  <tbody>\n    <tr>\n      <th>2</th>\n      <td>Maria</td>\n      <td>Female</td>\n      <td>1993-04-23</td>\n      <td>2022-08-13 11:17:00</td>\n      <td>130590</td>\n      <td>11.858</td>\n      <td>False</td>\n      <td>Finance</td>\n    </tr>\n    <tr>\n      <th>5</th>\n      <td>Dennis</td>\n      <td>Male</td>\n      <td>1987-04-18</td>\n      <td>2022-08-13 01:35:00</td>\n      <td>115163</td>\n      <td>10.125</td>\n      <td>False</td>\n      <td>Legal</td>\n    </tr>\n    <tr>\n      <th>13</th>\n      <td>Gary</td>\n      <td>Male</td>\n      <td>2008-01-27</td>\n      <td>2022-08-13 23:40:00</td>\n      <td>109831</td>\n      <td>5.831</td>\n      <td>False</td>\n      <td>Sales</td>\n    </tr>\n    <tr>\n      <th>15</th>\n      <td>Lillian</td>\n      <td>Female</td>\n      <td>2016-06-05</td>\n      <td>2022-08-13 06:09:00</td>\n      <td>59414</td>\n      <td>1.256</td>\n      <td>False</td>\n      <td>Product</td>\n    </tr>\n    <tr>\n      <th>16</th>\n      <td>Jeremy</td>\n      <td>Male</td>\n      <td>2010-09-21</td>\n      <td>2022-08-13 05:56:00</td>\n      <td>90370</td>\n      <td>7.369</td>\n      <td>False</td>\n      <td>Human Resources</td>\n    </tr>\n    <tr>\n      <th>...</th>\n      <td>...</td>\n      <td>...</td>\n      <td>...</td>\n      <td>...</td>\n      <td>...</td>\n      <td>...</td>\n      <td>...</td>\n      <td>...</td>\n    </tr>\n    <tr>\n      <th>989</th>\n      <td>Justin</td>\n      <td>NaN</td>\n      <td>1991-02-10</td>\n      <td>2022-08-13 16:58:00</td>\n      <td>38344</td>\n      <td>3.794</td>\n      <td>False</td>\n      <td>Legal</td>\n    </tr>\n    <tr>\n      <th>995</th>\n      <td>Henry</td>\n      <td>NaN</td>\n      <td>2014-11-23</td>\n      <td>2022-08-13 06:09:00</td>\n      <td>132483</td>\n      <td>16.655</td>\n      <td>False</td>\n      <td>Distribution</td>\n    </tr>\n    <tr>\n      <th>996</th>\n      <td>Phillip</td>\n      <td>Male</td>\n      <td>1984-01-31</td>\n      <td>2022-08-13 06:30:00</td>\n      <td>42392</td>\n      <td>19.675</td>\n      <td>False</td>\n      <td>Finance</td>\n    </tr>\n    <tr>\n      <th>997</th>\n      <td>Russell</td>\n      <td>Male</td>\n      <td>2013-05-20</td>\n      <td>2022-08-13 12:39:00</td>\n      <td>96914</td>\n      <td>1.421</td>\n      <td>False</td>\n      <td>Product</td>\n    </tr>\n    <tr>\n      <th>998</th>\n      <td>Larry</td>\n      <td>Male</td>\n      <td>2013-04-20</td>\n      <td>2022-08-13 16:45:00</td>\n      <td>60500</td>\n      <td>11.985</td>\n      <td>False</td>\n      <td>Business Development</td>\n    </tr>\n  </tbody>\n</table>\n<p>465 rows × 8 columns</p>\n</div>"
     },
     "execution_count": 48,
     "metadata": {},
     "output_type": "execute_result"
    }
   ],
   "source": [
    "condition = df[\"Senior Management\"] != True\n",
    "df[condition]"
   ],
   "metadata": {
    "collapsed": false,
    "pycharm": {
     "name": "#%%\n"
    }
   }
  },
  {
   "cell_type": "code",
   "execution_count": 51,
   "outputs": [
    {
     "data": {
      "text/plain": "  First Name  Gender Start Date     Last Login Time  Salary  Bonus %  \\\n0    Douglas    Male 1993-08-06 2022-08-13 12:42:00   97308    6.945   \n1     Thomas    Male 1996-03-31 2022-08-13 06:53:00   61933    4.170   \n2      Maria  Female 1993-04-23 2022-08-13 11:17:00  130590   11.858   \n3      Jerry    Male 2005-03-04 2022-08-13 13:00:00  138705    9.340   \n4      Larry    Male 1998-01-24 2022-08-13 16:47:00  101004    1.389   \n\n   Senior Management             Team  \n0               True        Marketing  \n1               True              NaN  \n2              False          Finance  \n3               True          Finance  \n4               True  Client Services  ",
      "text/html": "<div>\n<style scoped>\n    .dataframe tbody tr th:only-of-type {\n        vertical-align: middle;\n    }\n\n    .dataframe tbody tr th {\n        vertical-align: top;\n    }\n\n    .dataframe thead th {\n        text-align: right;\n    }\n</style>\n<table border=\"1\" class=\"dataframe\">\n  <thead>\n    <tr style=\"text-align: right;\">\n      <th></th>\n      <th>First Name</th>\n      <th>Gender</th>\n      <th>Start Date</th>\n      <th>Last Login Time</th>\n      <th>Salary</th>\n      <th>Bonus %</th>\n      <th>Senior Management</th>\n      <th>Team</th>\n    </tr>\n  </thead>\n  <tbody>\n    <tr>\n      <th>0</th>\n      <td>Douglas</td>\n      <td>Male</td>\n      <td>1993-08-06</td>\n      <td>2022-08-13 12:42:00</td>\n      <td>97308</td>\n      <td>6.945</td>\n      <td>True</td>\n      <td>Marketing</td>\n    </tr>\n    <tr>\n      <th>1</th>\n      <td>Thomas</td>\n      <td>Male</td>\n      <td>1996-03-31</td>\n      <td>2022-08-13 06:53:00</td>\n      <td>61933</td>\n      <td>4.170</td>\n      <td>True</td>\n      <td>NaN</td>\n    </tr>\n    <tr>\n      <th>2</th>\n      <td>Maria</td>\n      <td>Female</td>\n      <td>1993-04-23</td>\n      <td>2022-08-13 11:17:00</td>\n      <td>130590</td>\n      <td>11.858</td>\n      <td>False</td>\n      <td>Finance</td>\n    </tr>\n    <tr>\n      <th>3</th>\n      <td>Jerry</td>\n      <td>Male</td>\n      <td>2005-03-04</td>\n      <td>2022-08-13 13:00:00</td>\n      <td>138705</td>\n      <td>9.340</td>\n      <td>True</td>\n      <td>Finance</td>\n    </tr>\n    <tr>\n      <th>4</th>\n      <td>Larry</td>\n      <td>Male</td>\n      <td>1998-01-24</td>\n      <td>2022-08-13 16:47:00</td>\n      <td>101004</td>\n      <td>1.389</td>\n      <td>True</td>\n      <td>Client Services</td>\n    </tr>\n  </tbody>\n</table>\n</div>"
     },
     "execution_count": 51,
     "metadata": {},
     "output_type": "execute_result"
    }
   ],
   "source": [
    "df.head()"
   ],
   "metadata": {
    "collapsed": false,
    "pycharm": {
     "name": "#%%\n"
    }
   }
  },
  {
   "cell_type": "code",
   "execution_count": 68,
   "outputs": [
    {
     "data": {
      "text/plain": "    First Name  Gender Start Date     Last Login Time  Salary  Bonus %  \\\n2        Maria  Female 1993-04-23 2022-08-13 11:17:00  130590   11.858   \n3        Jerry    Male 2005-03-04 2022-08-13 13:00:00  138705    9.340   \n5       Dennis    Male 1987-04-18 2022-08-13 01:35:00  115163   10.125   \n9      Frances  Female 2002-08-08 2022-08-13 06:51:00  139852    7.524   \n12     Brandon    Male 1980-12-01 2022-08-13 01:08:00  112807   17.492   \n..         ...     ...        ...                 ...     ...      ...   \n987     Gloria  Female 2014-12-08 2022-08-13 05:08:00  136709   10.331   \n991       Rose  Female 2002-08-25 2022-08-13 05:12:00  134505   11.051   \n992    Anthony    Male 2011-10-16 2022-08-13 08:35:00  112769   11.625   \n995      Henry     NaN 2014-11-23 2022-08-13 06:09:00  132483   16.655   \n999     Albert    Male 2012-05-15 2022-08-13 18:24:00  129949   10.169   \n\n     Senior Management                  Team  \n2                False               Finance  \n3                 True               Finance  \n5                False                 Legal  \n9                 True  Business Development  \n12                True       Human Resources  \n..                 ...                   ...  \n987               True               Finance  \n991               True             Marketing  \n992               True               Finance  \n995              False          Distribution  \n999               True                 Sales  \n\n[322 rows x 8 columns]",
      "text/html": "<div>\n<style scoped>\n    .dataframe tbody tr th:only-of-type {\n        vertical-align: middle;\n    }\n\n    .dataframe tbody tr th {\n        vertical-align: top;\n    }\n\n    .dataframe thead th {\n        text-align: right;\n    }\n</style>\n<table border=\"1\" class=\"dataframe\">\n  <thead>\n    <tr style=\"text-align: right;\">\n      <th></th>\n      <th>First Name</th>\n      <th>Gender</th>\n      <th>Start Date</th>\n      <th>Last Login Time</th>\n      <th>Salary</th>\n      <th>Bonus %</th>\n      <th>Senior Management</th>\n      <th>Team</th>\n    </tr>\n  </thead>\n  <tbody>\n    <tr>\n      <th>2</th>\n      <td>Maria</td>\n      <td>Female</td>\n      <td>1993-04-23</td>\n      <td>2022-08-13 11:17:00</td>\n      <td>130590</td>\n      <td>11.858</td>\n      <td>False</td>\n      <td>Finance</td>\n    </tr>\n    <tr>\n      <th>3</th>\n      <td>Jerry</td>\n      <td>Male</td>\n      <td>2005-03-04</td>\n      <td>2022-08-13 13:00:00</td>\n      <td>138705</td>\n      <td>9.340</td>\n      <td>True</td>\n      <td>Finance</td>\n    </tr>\n    <tr>\n      <th>5</th>\n      <td>Dennis</td>\n      <td>Male</td>\n      <td>1987-04-18</td>\n      <td>2022-08-13 01:35:00</td>\n      <td>115163</td>\n      <td>10.125</td>\n      <td>False</td>\n      <td>Legal</td>\n    </tr>\n    <tr>\n      <th>9</th>\n      <td>Frances</td>\n      <td>Female</td>\n      <td>2002-08-08</td>\n      <td>2022-08-13 06:51:00</td>\n      <td>139852</td>\n      <td>7.524</td>\n      <td>True</td>\n      <td>Business Development</td>\n    </tr>\n    <tr>\n      <th>12</th>\n      <td>Brandon</td>\n      <td>Male</td>\n      <td>1980-12-01</td>\n      <td>2022-08-13 01:08:00</td>\n      <td>112807</td>\n      <td>17.492</td>\n      <td>True</td>\n      <td>Human Resources</td>\n    </tr>\n    <tr>\n      <th>...</th>\n      <td>...</td>\n      <td>...</td>\n      <td>...</td>\n      <td>...</td>\n      <td>...</td>\n      <td>...</td>\n      <td>...</td>\n      <td>...</td>\n    </tr>\n    <tr>\n      <th>987</th>\n      <td>Gloria</td>\n      <td>Female</td>\n      <td>2014-12-08</td>\n      <td>2022-08-13 05:08:00</td>\n      <td>136709</td>\n      <td>10.331</td>\n      <td>True</td>\n      <td>Finance</td>\n    </tr>\n    <tr>\n      <th>991</th>\n      <td>Rose</td>\n      <td>Female</td>\n      <td>2002-08-25</td>\n      <td>2022-08-13 05:12:00</td>\n      <td>134505</td>\n      <td>11.051</td>\n      <td>True</td>\n      <td>Marketing</td>\n    </tr>\n    <tr>\n      <th>992</th>\n      <td>Anthony</td>\n      <td>Male</td>\n      <td>2011-10-16</td>\n      <td>2022-08-13 08:35:00</td>\n      <td>112769</td>\n      <td>11.625</td>\n      <td>True</td>\n      <td>Finance</td>\n    </tr>\n    <tr>\n      <th>995</th>\n      <td>Henry</td>\n      <td>NaN</td>\n      <td>2014-11-23</td>\n      <td>2022-08-13 06:09:00</td>\n      <td>132483</td>\n      <td>16.655</td>\n      <td>False</td>\n      <td>Distribution</td>\n    </tr>\n    <tr>\n      <th>999</th>\n      <td>Albert</td>\n      <td>Male</td>\n      <td>2012-05-15</td>\n      <td>2022-08-13 18:24:00</td>\n      <td>129949</td>\n      <td>10.169</td>\n      <td>True</td>\n      <td>Sales</td>\n    </tr>\n  </tbody>\n</table>\n<p>322 rows × 8 columns</p>\n</div>"
     },
     "execution_count": 68,
     "metadata": {},
     "output_type": "execute_result"
    }
   ],
   "source": [
    "# Select all rows with salary above 110000\n",
    "above_11e4 = df[\"Salary\"] >= 11e4\n",
    "df[above_11e4]"
   ],
   "metadata": {
    "collapsed": false,
    "pycharm": {
     "name": "#%%\n"
    }
   }
  },
  {
   "cell_type": "code",
   "execution_count": 63,
   "outputs": [
    {
     "data": {
      "text/plain": "    First Name  Gender Start Date     Last Login Time  Salary  Bonus %  \\\n10      Louise  Female 1980-08-12 2022-08-13 09:01:00   63241   15.132   \n12     Brandon    Male 1980-12-01 2022-08-13 01:08:00  112807   17.492   \n18       Diana  Female 1981-10-23 2022-08-13 10:27:00  132940   19.082   \n28       Terry    Male 1981-11-27 2022-08-13 18:30:00  124008   13.464   \n37       Linda  Female 1981-10-19 2022-08-13 20:49:00   57427    9.557   \n..         ...     ...        ...                 ...     ...      ...   \n982       Rose  Female 1982-04-06 2022-08-13 10:43:00   91411    8.639   \n983       John    Male 1982-12-23 2022-08-13 22:35:00  146907   11.738   \n985    Stephen     NaN 1983-07-10 2022-08-13 20:10:00   85668    1.909   \n986      Donna  Female 1982-11-26 2022-08-13 07:04:00   82871   17.999   \n996    Phillip    Male 1984-01-31 2022-08-13 06:30:00   42392   19.675   \n\n     Senior Management             Team  \n10                True              NaN  \n12                True  Human Resources  \n18               False  Client Services  \n28                True  Client Services  \n37                True  Client Services  \n..                 ...              ...  \n982               True  Human Resources  \n983              False      Engineering  \n985              False            Legal  \n986              False        Marketing  \n996              False          Finance  \n\n[133 rows x 8 columns]",
      "text/html": "<div>\n<style scoped>\n    .dataframe tbody tr th:only-of-type {\n        vertical-align: middle;\n    }\n\n    .dataframe tbody tr th {\n        vertical-align: top;\n    }\n\n    .dataframe thead th {\n        text-align: right;\n    }\n</style>\n<table border=\"1\" class=\"dataframe\">\n  <thead>\n    <tr style=\"text-align: right;\">\n      <th></th>\n      <th>First Name</th>\n      <th>Gender</th>\n      <th>Start Date</th>\n      <th>Last Login Time</th>\n      <th>Salary</th>\n      <th>Bonus %</th>\n      <th>Senior Management</th>\n      <th>Team</th>\n    </tr>\n  </thead>\n  <tbody>\n    <tr>\n      <th>10</th>\n      <td>Louise</td>\n      <td>Female</td>\n      <td>1980-08-12</td>\n      <td>2022-08-13 09:01:00</td>\n      <td>63241</td>\n      <td>15.132</td>\n      <td>True</td>\n      <td>NaN</td>\n    </tr>\n    <tr>\n      <th>12</th>\n      <td>Brandon</td>\n      <td>Male</td>\n      <td>1980-12-01</td>\n      <td>2022-08-13 01:08:00</td>\n      <td>112807</td>\n      <td>17.492</td>\n      <td>True</td>\n      <td>Human Resources</td>\n    </tr>\n    <tr>\n      <th>18</th>\n      <td>Diana</td>\n      <td>Female</td>\n      <td>1981-10-23</td>\n      <td>2022-08-13 10:27:00</td>\n      <td>132940</td>\n      <td>19.082</td>\n      <td>False</td>\n      <td>Client Services</td>\n    </tr>\n    <tr>\n      <th>28</th>\n      <td>Terry</td>\n      <td>Male</td>\n      <td>1981-11-27</td>\n      <td>2022-08-13 18:30:00</td>\n      <td>124008</td>\n      <td>13.464</td>\n      <td>True</td>\n      <td>Client Services</td>\n    </tr>\n    <tr>\n      <th>37</th>\n      <td>Linda</td>\n      <td>Female</td>\n      <td>1981-10-19</td>\n      <td>2022-08-13 20:49:00</td>\n      <td>57427</td>\n      <td>9.557</td>\n      <td>True</td>\n      <td>Client Services</td>\n    </tr>\n    <tr>\n      <th>...</th>\n      <td>...</td>\n      <td>...</td>\n      <td>...</td>\n      <td>...</td>\n      <td>...</td>\n      <td>...</td>\n      <td>...</td>\n      <td>...</td>\n    </tr>\n    <tr>\n      <th>982</th>\n      <td>Rose</td>\n      <td>Female</td>\n      <td>1982-04-06</td>\n      <td>2022-08-13 10:43:00</td>\n      <td>91411</td>\n      <td>8.639</td>\n      <td>True</td>\n      <td>Human Resources</td>\n    </tr>\n    <tr>\n      <th>983</th>\n      <td>John</td>\n      <td>Male</td>\n      <td>1982-12-23</td>\n      <td>2022-08-13 22:35:00</td>\n      <td>146907</td>\n      <td>11.738</td>\n      <td>False</td>\n      <td>Engineering</td>\n    </tr>\n    <tr>\n      <th>985</th>\n      <td>Stephen</td>\n      <td>NaN</td>\n      <td>1983-07-10</td>\n      <td>2022-08-13 20:10:00</td>\n      <td>85668</td>\n      <td>1.909</td>\n      <td>False</td>\n      <td>Legal</td>\n    </tr>\n    <tr>\n      <th>986</th>\n      <td>Donna</td>\n      <td>Female</td>\n      <td>1982-11-26</td>\n      <td>2022-08-13 07:04:00</td>\n      <td>82871</td>\n      <td>17.999</td>\n      <td>False</td>\n      <td>Marketing</td>\n    </tr>\n    <tr>\n      <th>996</th>\n      <td>Phillip</td>\n      <td>Male</td>\n      <td>1984-01-31</td>\n      <td>2022-08-13 06:30:00</td>\n      <td>42392</td>\n      <td>19.675</td>\n      <td>False</td>\n      <td>Finance</td>\n    </tr>\n  </tbody>\n</table>\n<p>133 rows × 8 columns</p>\n</div>"
     },
     "execution_count": 63,
     "metadata": {},
     "output_type": "execute_result"
    }
   ],
   "source": [
    "prior_to_85 = df[\"Start Date\"] <= \"1985-01-01\"\n",
    "df[prior_to_85]"
   ],
   "metadata": {
    "collapsed": false,
    "pycharm": {
     "name": "#%%\n"
    }
   }
  },
  {
   "cell_type": "markdown",
   "source": [
    "# Filter with More than One Condition (AND)"
   ],
   "metadata": {
    "collapsed": false,
    "pycharm": {
     "name": "#%% md\n"
    }
   }
  },
  {
   "cell_type": "code",
   "execution_count": 69,
   "outputs": [
    {
     "data": {
      "text/plain": "     First Name  Gender Start Date     Last Login Time  Salary  Bonus %  \\\n43      Marilyn  Female 1980-12-07 2022-08-13 03:16:00   73524    5.207   \n62          NaN  Female 2007-06-12 2022-08-13 17:25:00   58112   19.414   \n98         Tina  Female 2016-06-16 2022-08-13 19:47:00  100705   16.961   \n140     Shirley  Female 1981-02-28 2022-08-13 13:23:00  113850    1.854   \n158       Norma  Female 1999-02-28 2022-08-13 20:45:00  114412    8.756   \n201    Kimberly  Female 1997-07-15 2022-08-13 05:57:00   36643    7.953   \n220         NaN  Female 1991-06-17 2022-08-13 12:49:00   71945    5.560   \n305    Margaret  Female 1993-02-06 2022-08-13 13:05:00  125220    3.733   \n319  Jacqueline  Female 1981-11-25 2022-08-13 15:01:00  145988   18.243   \n331      Evelyn  Female 1983-09-03 2022-08-13 13:58:00   36759   17.269   \n379         NaN  Female 2002-09-18 2022-08-13 12:39:00  118906    4.537   \n446      Cheryl  Female 1994-08-16 2022-08-13 08:33:00   67150   15.850   \n468      Janice  Female 1997-06-28 2022-08-13 13:48:00  136032   10.696   \n490      Judith  Female 2007-11-23 2022-08-13 13:22:00  117055    7.461   \n531    Virginia  Female 2010-05-02 2022-08-13 21:10:00  123649   10.154   \n535      Louise  Female 1981-09-18 2022-08-13 05:47:00   91462    8.205   \n568       Susan  Female 1986-04-18 2022-08-13 09:31:00   90829   19.142   \n585     Shirley  Female 1988-04-16 2022-08-13 11:09:00  132156    2.754   \n586        Rose  Female 2004-10-30 2022-08-13 16:34:00   56961    7.585   \n617       Kathy  Female 2001-01-14 2022-08-13 05:11:00   45682    1.451   \n625     Cynthia  Female 2015-06-29 2022-08-13 06:38:00   82408    8.701   \n627        Anne  Female 1984-11-21 2022-08-13 12:30:00  128305   16.636   \n629       Debra  Female 1983-03-12 2022-08-13 12:19:00   74911   19.513   \n656        Lisa  Female 1982-02-09 2022-08-13 18:44:00  113592   17.108   \n675       Diane  Female 2009-10-30 2022-08-13 18:56:00  130577   12.791   \n676       Annie  Female 1992-06-06 2022-08-13 10:04:00  138925    9.801   \n730      Nicole  Female 2009-04-26 2022-08-13 00:40:00   66047   18.674   \n785         NaN  Female 1982-07-24 2022-08-13 00:00:00   57811    8.941   \n811      Judith  Female 1989-09-03 2022-08-13 11:16:00  134048    6.818   \n813      Evelyn  Female 2002-02-10 2022-08-13 04:44:00  123621   19.767   \n817        Ruby  Female 2008-05-31 2022-08-13 20:41:00   83112    4.083   \n824       Julia  Female 2014-08-18 2022-08-13 03:12:00   97566    2.147   \n881        Ruby  Female 1980-01-28 2022-08-13 23:08:00  142868    6.318   \n883     Kathryn  Female 1995-10-27 2022-08-13 15:39:00   57300   18.015   \n894       Betty  Female 2002-11-19 2022-08-13 10:40:00   37005    7.645   \n913        Lois  Female 2015-12-11 2022-08-13 16:10:00   99747    6.168   \n930       Nancy  Female 2001-09-10 2022-08-13 23:57:00   85213    2.386   \n942        Lori  Female 2015-11-20 2022-08-13 13:15:00   75498    6.537   \n986       Donna  Female 1982-11-26 2022-08-13 07:04:00   82871   17.999   \n991        Rose  Female 2002-08-25 2022-08-13 05:12:00  134505   11.051   \n\n     Senior Management       Team  \n43                True  Marketing  \n62                True  Marketing  \n98                True  Marketing  \n140              False  Marketing  \n158               True  Marketing  \n201              False  Marketing  \n220               True  Marketing  \n305              False  Marketing  \n319              False  Marketing  \n331               True  Marketing  \n379               True  Marketing  \n446               True  Marketing  \n468               True  Marketing  \n490              False  Marketing  \n531               True  Marketing  \n535              False  Marketing  \n568              False  Marketing  \n585              False  Marketing  \n586              False  Marketing  \n617               True  Marketing  \n625               True  Marketing  \n627              False  Marketing  \n629              False  Marketing  \n656               True  Marketing  \n675              False  Marketing  \n676               True  Marketing  \n730               True  Marketing  \n785               True  Marketing  \n811               True  Marketing  \n813               True  Marketing  \n817              False  Marketing  \n824              False  Marketing  \n881              False  Marketing  \n883              False  Marketing  \n894               True  Marketing  \n913              False  Marketing  \n930               True  Marketing  \n942               True  Marketing  \n986              False  Marketing  \n991               True  Marketing  ",
      "text/html": "<div>\n<style scoped>\n    .dataframe tbody tr th:only-of-type {\n        vertical-align: middle;\n    }\n\n    .dataframe tbody tr th {\n        vertical-align: top;\n    }\n\n    .dataframe thead th {\n        text-align: right;\n    }\n</style>\n<table border=\"1\" class=\"dataframe\">\n  <thead>\n    <tr style=\"text-align: right;\">\n      <th></th>\n      <th>First Name</th>\n      <th>Gender</th>\n      <th>Start Date</th>\n      <th>Last Login Time</th>\n      <th>Salary</th>\n      <th>Bonus %</th>\n      <th>Senior Management</th>\n      <th>Team</th>\n    </tr>\n  </thead>\n  <tbody>\n    <tr>\n      <th>43</th>\n      <td>Marilyn</td>\n      <td>Female</td>\n      <td>1980-12-07</td>\n      <td>2022-08-13 03:16:00</td>\n      <td>73524</td>\n      <td>5.207</td>\n      <td>True</td>\n      <td>Marketing</td>\n    </tr>\n    <tr>\n      <th>62</th>\n      <td>NaN</td>\n      <td>Female</td>\n      <td>2007-06-12</td>\n      <td>2022-08-13 17:25:00</td>\n      <td>58112</td>\n      <td>19.414</td>\n      <td>True</td>\n      <td>Marketing</td>\n    </tr>\n    <tr>\n      <th>98</th>\n      <td>Tina</td>\n      <td>Female</td>\n      <td>2016-06-16</td>\n      <td>2022-08-13 19:47:00</td>\n      <td>100705</td>\n      <td>16.961</td>\n      <td>True</td>\n      <td>Marketing</td>\n    </tr>\n    <tr>\n      <th>140</th>\n      <td>Shirley</td>\n      <td>Female</td>\n      <td>1981-02-28</td>\n      <td>2022-08-13 13:23:00</td>\n      <td>113850</td>\n      <td>1.854</td>\n      <td>False</td>\n      <td>Marketing</td>\n    </tr>\n    <tr>\n      <th>158</th>\n      <td>Norma</td>\n      <td>Female</td>\n      <td>1999-02-28</td>\n      <td>2022-08-13 20:45:00</td>\n      <td>114412</td>\n      <td>8.756</td>\n      <td>True</td>\n      <td>Marketing</td>\n    </tr>\n    <tr>\n      <th>201</th>\n      <td>Kimberly</td>\n      <td>Female</td>\n      <td>1997-07-15</td>\n      <td>2022-08-13 05:57:00</td>\n      <td>36643</td>\n      <td>7.953</td>\n      <td>False</td>\n      <td>Marketing</td>\n    </tr>\n    <tr>\n      <th>220</th>\n      <td>NaN</td>\n      <td>Female</td>\n      <td>1991-06-17</td>\n      <td>2022-08-13 12:49:00</td>\n      <td>71945</td>\n      <td>5.560</td>\n      <td>True</td>\n      <td>Marketing</td>\n    </tr>\n    <tr>\n      <th>305</th>\n      <td>Margaret</td>\n      <td>Female</td>\n      <td>1993-02-06</td>\n      <td>2022-08-13 13:05:00</td>\n      <td>125220</td>\n      <td>3.733</td>\n      <td>False</td>\n      <td>Marketing</td>\n    </tr>\n    <tr>\n      <th>319</th>\n      <td>Jacqueline</td>\n      <td>Female</td>\n      <td>1981-11-25</td>\n      <td>2022-08-13 15:01:00</td>\n      <td>145988</td>\n      <td>18.243</td>\n      <td>False</td>\n      <td>Marketing</td>\n    </tr>\n    <tr>\n      <th>331</th>\n      <td>Evelyn</td>\n      <td>Female</td>\n      <td>1983-09-03</td>\n      <td>2022-08-13 13:58:00</td>\n      <td>36759</td>\n      <td>17.269</td>\n      <td>True</td>\n      <td>Marketing</td>\n    </tr>\n    <tr>\n      <th>379</th>\n      <td>NaN</td>\n      <td>Female</td>\n      <td>2002-09-18</td>\n      <td>2022-08-13 12:39:00</td>\n      <td>118906</td>\n      <td>4.537</td>\n      <td>True</td>\n      <td>Marketing</td>\n    </tr>\n    <tr>\n      <th>446</th>\n      <td>Cheryl</td>\n      <td>Female</td>\n      <td>1994-08-16</td>\n      <td>2022-08-13 08:33:00</td>\n      <td>67150</td>\n      <td>15.850</td>\n      <td>True</td>\n      <td>Marketing</td>\n    </tr>\n    <tr>\n      <th>468</th>\n      <td>Janice</td>\n      <td>Female</td>\n      <td>1997-06-28</td>\n      <td>2022-08-13 13:48:00</td>\n      <td>136032</td>\n      <td>10.696</td>\n      <td>True</td>\n      <td>Marketing</td>\n    </tr>\n    <tr>\n      <th>490</th>\n      <td>Judith</td>\n      <td>Female</td>\n      <td>2007-11-23</td>\n      <td>2022-08-13 13:22:00</td>\n      <td>117055</td>\n      <td>7.461</td>\n      <td>False</td>\n      <td>Marketing</td>\n    </tr>\n    <tr>\n      <th>531</th>\n      <td>Virginia</td>\n      <td>Female</td>\n      <td>2010-05-02</td>\n      <td>2022-08-13 21:10:00</td>\n      <td>123649</td>\n      <td>10.154</td>\n      <td>True</td>\n      <td>Marketing</td>\n    </tr>\n    <tr>\n      <th>535</th>\n      <td>Louise</td>\n      <td>Female</td>\n      <td>1981-09-18</td>\n      <td>2022-08-13 05:47:00</td>\n      <td>91462</td>\n      <td>8.205</td>\n      <td>False</td>\n      <td>Marketing</td>\n    </tr>\n    <tr>\n      <th>568</th>\n      <td>Susan</td>\n      <td>Female</td>\n      <td>1986-04-18</td>\n      <td>2022-08-13 09:31:00</td>\n      <td>90829</td>\n      <td>19.142</td>\n      <td>False</td>\n      <td>Marketing</td>\n    </tr>\n    <tr>\n      <th>585</th>\n      <td>Shirley</td>\n      <td>Female</td>\n      <td>1988-04-16</td>\n      <td>2022-08-13 11:09:00</td>\n      <td>132156</td>\n      <td>2.754</td>\n      <td>False</td>\n      <td>Marketing</td>\n    </tr>\n    <tr>\n      <th>586</th>\n      <td>Rose</td>\n      <td>Female</td>\n      <td>2004-10-30</td>\n      <td>2022-08-13 16:34:00</td>\n      <td>56961</td>\n      <td>7.585</td>\n      <td>False</td>\n      <td>Marketing</td>\n    </tr>\n    <tr>\n      <th>617</th>\n      <td>Kathy</td>\n      <td>Female</td>\n      <td>2001-01-14</td>\n      <td>2022-08-13 05:11:00</td>\n      <td>45682</td>\n      <td>1.451</td>\n      <td>True</td>\n      <td>Marketing</td>\n    </tr>\n    <tr>\n      <th>625</th>\n      <td>Cynthia</td>\n      <td>Female</td>\n      <td>2015-06-29</td>\n      <td>2022-08-13 06:38:00</td>\n      <td>82408</td>\n      <td>8.701</td>\n      <td>True</td>\n      <td>Marketing</td>\n    </tr>\n    <tr>\n      <th>627</th>\n      <td>Anne</td>\n      <td>Female</td>\n      <td>1984-11-21</td>\n      <td>2022-08-13 12:30:00</td>\n      <td>128305</td>\n      <td>16.636</td>\n      <td>False</td>\n      <td>Marketing</td>\n    </tr>\n    <tr>\n      <th>629</th>\n      <td>Debra</td>\n      <td>Female</td>\n      <td>1983-03-12</td>\n      <td>2022-08-13 12:19:00</td>\n      <td>74911</td>\n      <td>19.513</td>\n      <td>False</td>\n      <td>Marketing</td>\n    </tr>\n    <tr>\n      <th>656</th>\n      <td>Lisa</td>\n      <td>Female</td>\n      <td>1982-02-09</td>\n      <td>2022-08-13 18:44:00</td>\n      <td>113592</td>\n      <td>17.108</td>\n      <td>True</td>\n      <td>Marketing</td>\n    </tr>\n    <tr>\n      <th>675</th>\n      <td>Diane</td>\n      <td>Female</td>\n      <td>2009-10-30</td>\n      <td>2022-08-13 18:56:00</td>\n      <td>130577</td>\n      <td>12.791</td>\n      <td>False</td>\n      <td>Marketing</td>\n    </tr>\n    <tr>\n      <th>676</th>\n      <td>Annie</td>\n      <td>Female</td>\n      <td>1992-06-06</td>\n      <td>2022-08-13 10:04:00</td>\n      <td>138925</td>\n      <td>9.801</td>\n      <td>True</td>\n      <td>Marketing</td>\n    </tr>\n    <tr>\n      <th>730</th>\n      <td>Nicole</td>\n      <td>Female</td>\n      <td>2009-04-26</td>\n      <td>2022-08-13 00:40:00</td>\n      <td>66047</td>\n      <td>18.674</td>\n      <td>True</td>\n      <td>Marketing</td>\n    </tr>\n    <tr>\n      <th>785</th>\n      <td>NaN</td>\n      <td>Female</td>\n      <td>1982-07-24</td>\n      <td>2022-08-13 00:00:00</td>\n      <td>57811</td>\n      <td>8.941</td>\n      <td>True</td>\n      <td>Marketing</td>\n    </tr>\n    <tr>\n      <th>811</th>\n      <td>Judith</td>\n      <td>Female</td>\n      <td>1989-09-03</td>\n      <td>2022-08-13 11:16:00</td>\n      <td>134048</td>\n      <td>6.818</td>\n      <td>True</td>\n      <td>Marketing</td>\n    </tr>\n    <tr>\n      <th>813</th>\n      <td>Evelyn</td>\n      <td>Female</td>\n      <td>2002-02-10</td>\n      <td>2022-08-13 04:44:00</td>\n      <td>123621</td>\n      <td>19.767</td>\n      <td>True</td>\n      <td>Marketing</td>\n    </tr>\n    <tr>\n      <th>817</th>\n      <td>Ruby</td>\n      <td>Female</td>\n      <td>2008-05-31</td>\n      <td>2022-08-13 20:41:00</td>\n      <td>83112</td>\n      <td>4.083</td>\n      <td>False</td>\n      <td>Marketing</td>\n    </tr>\n    <tr>\n      <th>824</th>\n      <td>Julia</td>\n      <td>Female</td>\n      <td>2014-08-18</td>\n      <td>2022-08-13 03:12:00</td>\n      <td>97566</td>\n      <td>2.147</td>\n      <td>False</td>\n      <td>Marketing</td>\n    </tr>\n    <tr>\n      <th>881</th>\n      <td>Ruby</td>\n      <td>Female</td>\n      <td>1980-01-28</td>\n      <td>2022-08-13 23:08:00</td>\n      <td>142868</td>\n      <td>6.318</td>\n      <td>False</td>\n      <td>Marketing</td>\n    </tr>\n    <tr>\n      <th>883</th>\n      <td>Kathryn</td>\n      <td>Female</td>\n      <td>1995-10-27</td>\n      <td>2022-08-13 15:39:00</td>\n      <td>57300</td>\n      <td>18.015</td>\n      <td>False</td>\n      <td>Marketing</td>\n    </tr>\n    <tr>\n      <th>894</th>\n      <td>Betty</td>\n      <td>Female</td>\n      <td>2002-11-19</td>\n      <td>2022-08-13 10:40:00</td>\n      <td>37005</td>\n      <td>7.645</td>\n      <td>True</td>\n      <td>Marketing</td>\n    </tr>\n    <tr>\n      <th>913</th>\n      <td>Lois</td>\n      <td>Female</td>\n      <td>2015-12-11</td>\n      <td>2022-08-13 16:10:00</td>\n      <td>99747</td>\n      <td>6.168</td>\n      <td>False</td>\n      <td>Marketing</td>\n    </tr>\n    <tr>\n      <th>930</th>\n      <td>Nancy</td>\n      <td>Female</td>\n      <td>2001-09-10</td>\n      <td>2022-08-13 23:57:00</td>\n      <td>85213</td>\n      <td>2.386</td>\n      <td>True</td>\n      <td>Marketing</td>\n    </tr>\n    <tr>\n      <th>942</th>\n      <td>Lori</td>\n      <td>Female</td>\n      <td>2015-11-20</td>\n      <td>2022-08-13 13:15:00</td>\n      <td>75498</td>\n      <td>6.537</td>\n      <td>True</td>\n      <td>Marketing</td>\n    </tr>\n    <tr>\n      <th>986</th>\n      <td>Donna</td>\n      <td>Female</td>\n      <td>1982-11-26</td>\n      <td>2022-08-13 07:04:00</td>\n      <td>82871</td>\n      <td>17.999</td>\n      <td>False</td>\n      <td>Marketing</td>\n    </tr>\n    <tr>\n      <th>991</th>\n      <td>Rose</td>\n      <td>Female</td>\n      <td>2002-08-25</td>\n      <td>2022-08-13 05:12:00</td>\n      <td>134505</td>\n      <td>11.051</td>\n      <td>True</td>\n      <td>Marketing</td>\n    </tr>\n  </tbody>\n</table>\n</div>"
     },
     "execution_count": 69,
     "metadata": {},
     "output_type": "execute_result"
    }
   ],
   "source": [
    "# Filter data in which gender is female and team is marketing\n",
    "female = df[\"Gender\"] == \"Female\"\n",
    "marketing = df[\"Team\"] == \"Marketing\"\n",
    "df[female & marketing]"
   ],
   "metadata": {
    "collapsed": false,
    "pycharm": {
     "name": "#%%\n"
    }
   }
  },
  {
   "cell_type": "markdown",
   "source": [
    "# Filter with More than One Condition (OR)\n"
   ],
   "metadata": {
    "collapsed": false,
    "pycharm": {
     "name": "#%% md\n"
    }
   }
  },
  {
   "cell_type": "code",
   "execution_count": 70,
   "outputs": [
    {
     "data": {
      "text/plain": "  First Name  Gender Start Date     Last Login Time  Salary  Bonus %  \\\n0    Douglas    Male 1993-08-06 2022-08-13 12:42:00   97308    6.945   \n1     Thomas    Male 1996-03-31 2022-08-13 06:53:00   61933    4.170   \n2      Maria  Female 1993-04-23 2022-08-13 11:17:00  130590   11.858   \n3      Jerry    Male 2005-03-04 2022-08-13 13:00:00  138705    9.340   \n4      Larry    Male 1998-01-24 2022-08-13 16:47:00  101004    1.389   \n\n   Senior Management             Team  \n0               True        Marketing  \n1               True              NaN  \n2              False          Finance  \n3               True          Finance  \n4               True  Client Services  ",
      "text/html": "<div>\n<style scoped>\n    .dataframe tbody tr th:only-of-type {\n        vertical-align: middle;\n    }\n\n    .dataframe tbody tr th {\n        vertical-align: top;\n    }\n\n    .dataframe thead th {\n        text-align: right;\n    }\n</style>\n<table border=\"1\" class=\"dataframe\">\n  <thead>\n    <tr style=\"text-align: right;\">\n      <th></th>\n      <th>First Name</th>\n      <th>Gender</th>\n      <th>Start Date</th>\n      <th>Last Login Time</th>\n      <th>Salary</th>\n      <th>Bonus %</th>\n      <th>Senior Management</th>\n      <th>Team</th>\n    </tr>\n  </thead>\n  <tbody>\n    <tr>\n      <th>0</th>\n      <td>Douglas</td>\n      <td>Male</td>\n      <td>1993-08-06</td>\n      <td>2022-08-13 12:42:00</td>\n      <td>97308</td>\n      <td>6.945</td>\n      <td>True</td>\n      <td>Marketing</td>\n    </tr>\n    <tr>\n      <th>1</th>\n      <td>Thomas</td>\n      <td>Male</td>\n      <td>1996-03-31</td>\n      <td>2022-08-13 06:53:00</td>\n      <td>61933</td>\n      <td>4.170</td>\n      <td>True</td>\n      <td>NaN</td>\n    </tr>\n    <tr>\n      <th>2</th>\n      <td>Maria</td>\n      <td>Female</td>\n      <td>1993-04-23</td>\n      <td>2022-08-13 11:17:00</td>\n      <td>130590</td>\n      <td>11.858</td>\n      <td>False</td>\n      <td>Finance</td>\n    </tr>\n    <tr>\n      <th>3</th>\n      <td>Jerry</td>\n      <td>Male</td>\n      <td>2005-03-04</td>\n      <td>2022-08-13 13:00:00</td>\n      <td>138705</td>\n      <td>9.340</td>\n      <td>True</td>\n      <td>Finance</td>\n    </tr>\n    <tr>\n      <th>4</th>\n      <td>Larry</td>\n      <td>Male</td>\n      <td>1998-01-24</td>\n      <td>2022-08-13 16:47:00</td>\n      <td>101004</td>\n      <td>1.389</td>\n      <td>True</td>\n      <td>Client Services</td>\n    </tr>\n  </tbody>\n</table>\n</div>"
     },
     "execution_count": 70,
     "metadata": {},
     "output_type": "execute_result"
    }
   ],
   "source": [
    "df.head()"
   ],
   "metadata": {
    "collapsed": false,
    "pycharm": {
     "name": "#%%\n"
    }
   }
  },
  {
   "cell_type": "code",
   "execution_count": 73,
   "outputs": [
    {
     "data": {
      "text/plain": "    First Name  Gender Start Date     Last Login Time  Salary  Bonus %  \\\n0      Douglas    Male 1993-08-06 2022-08-13 12:42:00   97308    6.945   \n1       Thomas    Male 1996-03-31 2022-08-13 06:53:00   61933    4.170   \n3        Jerry    Male 2005-03-04 2022-08-13 13:00:00  138705    9.340   \n4        Larry    Male 1998-01-24 2022-08-13 16:47:00  101004    1.389   \n5       Dennis    Male 1987-04-18 2022-08-13 01:35:00  115163   10.125   \n..         ...     ...        ...                 ...     ...      ...   \n992    Anthony    Male 2011-10-16 2022-08-13 08:35:00  112769   11.625   \n993       Tina  Female 1997-05-15 2022-08-13 15:53:00   56450   19.040   \n994     George    Male 2013-06-21 2022-08-13 17:47:00   98874    4.479   \n996    Phillip    Male 1984-01-31 2022-08-13 06:30:00   42392   19.675   \n999     Albert    Male 2012-05-15 2022-08-13 18:24:00  129949   10.169   \n\n     Senior Management             Team  \n0                 True        Marketing  \n1                 True              NaN  \n3                 True          Finance  \n4                 True  Client Services  \n5                False            Legal  \n..                 ...              ...  \n992               True          Finance  \n993               True      Engineering  \n994               True        Marketing  \n996              False          Finance  \n999               True            Sales  \n\n[653 rows x 8 columns]",
      "text/html": "<div>\n<style scoped>\n    .dataframe tbody tr th:only-of-type {\n        vertical-align: middle;\n    }\n\n    .dataframe tbody tr th {\n        vertical-align: top;\n    }\n\n    .dataframe thead th {\n        text-align: right;\n    }\n</style>\n<table border=\"1\" class=\"dataframe\">\n  <thead>\n    <tr style=\"text-align: right;\">\n      <th></th>\n      <th>First Name</th>\n      <th>Gender</th>\n      <th>Start Date</th>\n      <th>Last Login Time</th>\n      <th>Salary</th>\n      <th>Bonus %</th>\n      <th>Senior Management</th>\n      <th>Team</th>\n    </tr>\n  </thead>\n  <tbody>\n    <tr>\n      <th>0</th>\n      <td>Douglas</td>\n      <td>Male</td>\n      <td>1993-08-06</td>\n      <td>2022-08-13 12:42:00</td>\n      <td>97308</td>\n      <td>6.945</td>\n      <td>True</td>\n      <td>Marketing</td>\n    </tr>\n    <tr>\n      <th>1</th>\n      <td>Thomas</td>\n      <td>Male</td>\n      <td>1996-03-31</td>\n      <td>2022-08-13 06:53:00</td>\n      <td>61933</td>\n      <td>4.170</td>\n      <td>True</td>\n      <td>NaN</td>\n    </tr>\n    <tr>\n      <th>3</th>\n      <td>Jerry</td>\n      <td>Male</td>\n      <td>2005-03-04</td>\n      <td>2022-08-13 13:00:00</td>\n      <td>138705</td>\n      <td>9.340</td>\n      <td>True</td>\n      <td>Finance</td>\n    </tr>\n    <tr>\n      <th>4</th>\n      <td>Larry</td>\n      <td>Male</td>\n      <td>1998-01-24</td>\n      <td>2022-08-13 16:47:00</td>\n      <td>101004</td>\n      <td>1.389</td>\n      <td>True</td>\n      <td>Client Services</td>\n    </tr>\n    <tr>\n      <th>5</th>\n      <td>Dennis</td>\n      <td>Male</td>\n      <td>1987-04-18</td>\n      <td>2022-08-13 01:35:00</td>\n      <td>115163</td>\n      <td>10.125</td>\n      <td>False</td>\n      <td>Legal</td>\n    </tr>\n    <tr>\n      <th>...</th>\n      <td>...</td>\n      <td>...</td>\n      <td>...</td>\n      <td>...</td>\n      <td>...</td>\n      <td>...</td>\n      <td>...</td>\n      <td>...</td>\n    </tr>\n    <tr>\n      <th>992</th>\n      <td>Anthony</td>\n      <td>Male</td>\n      <td>2011-10-16</td>\n      <td>2022-08-13 08:35:00</td>\n      <td>112769</td>\n      <td>11.625</td>\n      <td>True</td>\n      <td>Finance</td>\n    </tr>\n    <tr>\n      <th>993</th>\n      <td>Tina</td>\n      <td>Female</td>\n      <td>1997-05-15</td>\n      <td>2022-08-13 15:53:00</td>\n      <td>56450</td>\n      <td>19.040</td>\n      <td>True</td>\n      <td>Engineering</td>\n    </tr>\n    <tr>\n      <th>994</th>\n      <td>George</td>\n      <td>Male</td>\n      <td>2013-06-21</td>\n      <td>2022-08-13 17:47:00</td>\n      <td>98874</td>\n      <td>4.479</td>\n      <td>True</td>\n      <td>Marketing</td>\n    </tr>\n    <tr>\n      <th>996</th>\n      <td>Phillip</td>\n      <td>Male</td>\n      <td>1984-01-31</td>\n      <td>2022-08-13 06:30:00</td>\n      <td>42392</td>\n      <td>19.675</td>\n      <td>False</td>\n      <td>Finance</td>\n    </tr>\n    <tr>\n      <th>999</th>\n      <td>Albert</td>\n      <td>Male</td>\n      <td>2012-05-15</td>\n      <td>2022-08-13 18:24:00</td>\n      <td>129949</td>\n      <td>10.169</td>\n      <td>True</td>\n      <td>Sales</td>\n    </tr>\n  </tbody>\n</table>\n<p>653 rows × 8 columns</p>\n</div>"
     },
     "execution_count": 73,
     "metadata": {},
     "output_type": "execute_result"
    }
   ],
   "source": [
    "senior = df[\"Senior Management\"]\n",
    "start_date = df[\"Start Date\"] <= \"1990-01-01\"\n",
    "# check is at least a condition is true\n",
    "df[senior | start_date]"
   ],
   "metadata": {
    "collapsed": false,
    "pycharm": {
     "name": "#%%\n"
    }
   }
  },
  {
   "cell_type": "code",
   "execution_count": 87,
   "outputs": [
    {
     "data": {
      "text/plain": "    First Name  Gender Start Date     Last Login Time  Salary  Bonus %  \\\n15     Lillian  Female 2016-06-05 2022-08-13 06:09:00   59414    1.256   \n98        Tina  Female 2016-06-16 2022-08-13 19:47:00  100705   16.961   \n387     Robert    Male 1994-10-29 2022-08-13 04:26:00  123294   19.894   \n451      Terry     NaN 2016-07-15 2022-08-13 00:29:00  140002   19.490   \n\n     Senior Management             Team  \n15               False          Product  \n98                True        Marketing  \n387              False  Client Services  \n451               True        Marketing  ",
      "text/html": "<div>\n<style scoped>\n    .dataframe tbody tr th:only-of-type {\n        vertical-align: middle;\n    }\n\n    .dataframe tbody tr th {\n        vertical-align: top;\n    }\n\n    .dataframe thead th {\n        text-align: right;\n    }\n</style>\n<table border=\"1\" class=\"dataframe\">\n  <thead>\n    <tr style=\"text-align: right;\">\n      <th></th>\n      <th>First Name</th>\n      <th>Gender</th>\n      <th>Start Date</th>\n      <th>Last Login Time</th>\n      <th>Salary</th>\n      <th>Bonus %</th>\n      <th>Senior Management</th>\n      <th>Team</th>\n    </tr>\n  </thead>\n  <tbody>\n    <tr>\n      <th>15</th>\n      <td>Lillian</td>\n      <td>Female</td>\n      <td>2016-06-05</td>\n      <td>2022-08-13 06:09:00</td>\n      <td>59414</td>\n      <td>1.256</td>\n      <td>False</td>\n      <td>Product</td>\n    </tr>\n    <tr>\n      <th>98</th>\n      <td>Tina</td>\n      <td>Female</td>\n      <td>2016-06-16</td>\n      <td>2022-08-13 19:47:00</td>\n      <td>100705</td>\n      <td>16.961</td>\n      <td>True</td>\n      <td>Marketing</td>\n    </tr>\n    <tr>\n      <th>387</th>\n      <td>Robert</td>\n      <td>Male</td>\n      <td>1994-10-29</td>\n      <td>2022-08-13 04:26:00</td>\n      <td>123294</td>\n      <td>19.894</td>\n      <td>False</td>\n      <td>Client Services</td>\n    </tr>\n    <tr>\n      <th>451</th>\n      <td>Terry</td>\n      <td>NaN</td>\n      <td>2016-07-15</td>\n      <td>2022-08-13 00:29:00</td>\n      <td>140002</td>\n      <td>19.490</td>\n      <td>True</td>\n      <td>Marketing</td>\n    </tr>\n  </tbody>\n</table>\n</div>"
     },
     "execution_count": 87,
     "metadata": {},
     "output_type": "execute_result"
    }
   ],
   "source": [
    "# we can combine more than two conditions.\n",
    "# check if first_name == Robert AND team == Client Services\n",
    "# OR start date greater than 1st june 2016\n",
    "\n",
    "name = df[\"First Name\"] == \"Robert\"\n",
    "team = df[\"Team\"] == \"Client Services\"\n",
    "start_date = df[\"Start Date\"] >= \"2016-06-01\"\n",
    "df[(name & team) | start_date]"
   ],
   "metadata": {
    "collapsed": false,
    "pycharm": {
     "name": "#%%\n"
    }
   }
  },
  {
   "cell_type": "code",
   "execution_count": null,
   "outputs": [],
   "source": [],
   "metadata": {
    "collapsed": false,
    "pycharm": {
     "name": "#%%\n"
    }
   }
  }
 ],
 "metadata": {
  "kernelspec": {
   "display_name": "Python 3.10.4 ('pandas_playground')",
   "language": "python",
   "name": "python3"
  },
  "language_info": {
   "codemirror_mode": {
    "name": "ipython",
    "version": 3
   },
   "file_extension": ".py",
   "mimetype": "text/x-python",
   "name": "python",
   "nbconvert_exporter": "python",
   "pygments_lexer": "ipython3",
   "version": "3.10.4"
  },
  "vscode": {
   "interpreter": {
    "hash": "5431d8997ded1fc9d3d05a65bd72c147f4ad391ac23d4b528cffdf6ff5a60c23"
   }
  }
 },
 "nbformat": 4,
 "nbformat_minor": 5
}