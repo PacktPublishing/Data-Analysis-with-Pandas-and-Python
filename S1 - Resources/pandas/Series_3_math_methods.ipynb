{
 "cells": [
  {
   "cell_type": "code",
   "execution_count": 1,
   "id": "6a3bbf9c-2fb9-4ffb-8a92-d55e9f3314be",
   "metadata": {},
   "outputs": [],
   "source": [
    "import pandas as pd\n"
   ]
  },
  {
   "cell_type": "code",
   "execution_count": 2,
   "id": "5d0821f9-8724-4970-8504-59aaa3c7abaa",
   "metadata": {},
   "outputs": [
    {
     "data": {
      "text/plain": [
       "0    50.12\n",
       "1    54.10\n",
       "2    54.65\n",
       "3    52.38\n",
       "4    52.95\n",
       "Name: Stock Price, dtype: float64"
      ]
     },
     "execution_count": 2,
     "metadata": {},
     "output_type": "execute_result"
    }
   ],
   "source": [
    "google = pd.read_csv(\"google_stock_price.csv\").squeeze()\n",
    "google.head()\n"
   ]
  },
  {
   "cell_type": "code",
   "execution_count": 3,
   "id": "954bccfd-6dc6-4150-bf8e-ddace1424016",
   "metadata": {},
   "outputs": [
    {
     "data": {
      "text/plain": [
       "3012"
      ]
     },
     "execution_count": 3,
     "metadata": {},
     "output_type": "execute_result"
    }
   ],
   "source": [
    "google.count()  # number of valid values\n"
   ]
  },
  {
   "cell_type": "code",
   "execution_count": 4,
   "id": "0945bbeb-0bf8-4e89-a9ae-b48ccc69bf9a",
   "metadata": {},
   "outputs": [
    {
     "data": {
      "text/plain": [
       "1006942.0"
      ]
     },
     "execution_count": 4,
     "metadata": {},
     "output_type": "execute_result"
    }
   ],
   "source": [
    "google.sum()\n"
   ]
  },
  {
   "cell_type": "code",
   "execution_count": 5,
   "id": "0c49f2a5-006c-42b2-82e2-62203cc42345",
   "metadata": {},
   "outputs": [
    {
     "data": {
      "text/plain": [
       "334.31009296148744"
      ]
     },
     "execution_count": 5,
     "metadata": {},
     "output_type": "execute_result"
    }
   ],
   "source": [
    "google.mean()\n"
   ]
  },
  {
   "cell_type": "code",
   "execution_count": 6,
   "id": "92daebb2-d75e-4756-b1f5-4b195bd69ba6",
   "metadata": {},
   "outputs": [
    {
     "data": {
      "text/plain": [
       "334.3100929614874"
      ]
     },
     "execution_count": 6,
     "metadata": {},
     "output_type": "execute_result"
    }
   ],
   "source": [
    "google.sum() / google.count()\n"
   ]
  },
  {
   "cell_type": "code",
   "execution_count": 7,
   "id": "6b661168-d6cf-43fb-a5ef-3e14cbdba8c6",
   "metadata": {},
   "outputs": [
    {
     "data": {
      "text/plain": [
       "0    291.21\n",
       "Name: Stock Price, dtype: float64"
      ]
     },
     "execution_count": 7,
     "metadata": {},
     "output_type": "execute_result"
    }
   ],
   "source": [
    "google.std()\n",
    "google.min()\n",
    "google.max()\n",
    "google.median()\n",
    "google.mode()\n"
   ]
  },
  {
   "cell_type": "code",
   "execution_count": 8,
   "id": "70878764-5656-4804-b129-ba89da3615e9",
   "metadata": {},
   "outputs": [
    {
     "data": {
      "text/plain": [
       "count    3012.000000\n",
       "mean      334.310093\n",
       "std       173.187205\n",
       "min        49.950000\n",
       "25%       218.045000\n",
       "50%       283.315000\n",
       "75%       443.000000\n",
       "max       782.220000\n",
       "Name: Stock Price, dtype: float64"
      ]
     },
     "execution_count": 8,
     "metadata": {},
     "output_type": "execute_result"
    }
   ],
   "source": [
    "google.describe()\n"
   ]
  },
  {
   "cell_type": "markdown",
   "id": "5291bd05-8482-4461-856a-0d74be1edc66",
   "metadata": {},
   "source": [
    "# `idxmax()` and `idxmin()` methods"
   ]
  },
  {
   "cell_type": "code",
   "execution_count": 9,
   "id": "e9fbf567-2523-447c-bb0e-294c0906526d",
   "metadata": {},
   "outputs": [
    {
     "data": {
      "text/plain": [
       "3011"
      ]
     },
     "execution_count": 9,
     "metadata": {},
     "output_type": "execute_result"
    }
   ],
   "source": [
    "google.idxmax()\n"
   ]
  },
  {
   "cell_type": "code",
   "execution_count": 10,
   "id": "065516a7-6f11-4dc1-a27e-1ca1f1750bea",
   "metadata": {},
   "outputs": [
    {
     "data": {
      "text/plain": [
       "782.22"
      ]
     },
     "execution_count": 10,
     "metadata": {},
     "output_type": "execute_result"
    }
   ],
   "source": [
    "google.max()\n"
   ]
  },
  {
   "cell_type": "code",
   "execution_count": 11,
   "id": "c17c824b-f334-4b26-88e0-a4479c446fa1",
   "metadata": {},
   "outputs": [
    {
     "data": {
      "text/plain": [
       "782.22"
      ]
     },
     "execution_count": 11,
     "metadata": {},
     "output_type": "execute_result"
    }
   ],
   "source": [
    "google.get(3011)\n"
   ]
  },
  {
   "cell_type": "code",
   "execution_count": 12,
   "id": "67bf43d4-14bc-4228-aee1-ea17467f205d",
   "metadata": {},
   "outputs": [
    {
     "data": {
      "text/plain": [
       "11"
      ]
     },
     "execution_count": 12,
     "metadata": {},
     "output_type": "execute_result"
    }
   ],
   "source": [
    "google.idxmin()\n"
   ]
  },
  {
   "cell_type": "code",
   "execution_count": 13,
   "id": "27fd649b-125c-40e9-94d7-02da612e6bf1",
   "metadata": {},
   "outputs": [
    {
     "data": {
      "text/plain": [
       "49.95"
      ]
     },
     "execution_count": 13,
     "metadata": {},
     "output_type": "execute_result"
    }
   ],
   "source": [
    "google.min()\n"
   ]
  },
  {
   "cell_type": "code",
   "execution_count": 14,
   "id": "847d43c4-e042-4086-a964-a0c32730e05c",
   "metadata": {},
   "outputs": [
    {
     "data": {
      "text/plain": [
       "49.95"
      ]
     },
     "execution_count": 14,
     "metadata": {},
     "output_type": "execute_result"
    }
   ],
   "source": [
    "google.get(11)\n"
   ]
  },
  {
   "cell_type": "code",
   "execution_count": 15,
   "id": "802f4ee0-a8d3-435b-8749-0c61bae8e1ba",
   "metadata": {},
   "outputs": [
    {
     "data": {
      "text/plain": [
       "True"
      ]
     },
     "execution_count": 15,
     "metadata": {},
     "output_type": "execute_result"
    }
   ],
   "source": [
    "google[google.idxmax()] == google.max()\n"
   ]
  },
  {
   "cell_type": "code",
   "execution_count": 16,
   "id": "dc2d7272-943b-4cbe-b3c2-e5f54ba12215",
   "metadata": {},
   "outputs": [
    {
     "data": {
      "text/plain": [
       "True"
      ]
     },
     "execution_count": 16,
     "metadata": {},
     "output_type": "execute_result"
    }
   ],
   "source": [
    "google[google.idxmin()] == google.min()\n"
   ]
  },
  {
   "cell_type": "markdown",
   "id": "0f704691-2920-4c2c-ab84-a496c3d1d3f1",
   "metadata": {},
   "source": [
    "# The `value_counts()` method\n",
    "To count the number of unique values."
   ]
  },
  {
   "cell_type": "code",
   "execution_count": 17,
   "id": "1e168311-4304-4bc8-aec9-846393ac8123",
   "metadata": {},
   "outputs": [
    {
     "data": {
      "text/plain": [
       "Pokemon\n",
       "Bulbasaur    Grass\n",
       "Ivysaur      Grass\n",
       "Venusaur     Grass\n",
       "Name: Type, dtype: object"
      ]
     },
     "execution_count": 17,
     "metadata": {},
     "output_type": "execute_result"
    }
   ],
   "source": [
    "pokemon = pd.read_csv(\"pokemon.csv\", index_col=\"Pokemon\").squeeze()\n",
    "pokemon.head(3)\n"
   ]
  },
  {
   "cell_type": "code",
   "execution_count": 18,
   "id": "23c81080-ebf9-4999-b585-5843683c2d0c",
   "metadata": {},
   "outputs": [
    {
     "data": {
      "text/plain": [
       "Water       0.145631\n",
       "Normal      0.128988\n",
       "Grass       0.091540\n",
       "Bug         0.087379\n",
       "Fire        0.065187\n",
       "Psychic     0.065187\n",
       "Rock        0.056865\n",
       "Electric    0.049931\n",
       "Ground      0.041609\n",
       "Poison      0.038835\n",
       "Dark        0.038835\n",
       "Fighting    0.034674\n",
       "Dragon      0.033287\n",
       "Ghost       0.031900\n",
       "Ice         0.031900\n",
       "Steel       0.030513\n",
       "Fairy       0.023578\n",
       "Flying      0.004161\n",
       "Name: Type, dtype: float64"
      ]
     },
     "execution_count": 18,
     "metadata": {},
     "output_type": "execute_result"
    }
   ],
   "source": [
    "pokemon.value_counts(normalize=True)\n"
   ]
  },
  {
   "cell_type": "markdown",
   "id": "27bba37c-2484-4bd8-8303-aee697474155",
   "metadata": {},
   "source": [
    "# `.apply()` method\n",
    "This method calls a function in a series."
   ]
  },
  {
   "cell_type": "code",
   "execution_count": 19,
   "id": "8010973a-b7ee-469e-9aea-19709fd58343",
   "metadata": {},
   "outputs": [
    {
     "data": {
      "text/plain": [
       "0    50.12\n",
       "1    54.10\n",
       "2    54.65\n",
       "3    52.38\n",
       "4    52.95\n",
       "Name: Stock Price, dtype: float64"
      ]
     },
     "execution_count": 19,
     "metadata": {},
     "output_type": "execute_result"
    }
   ],
   "source": [
    "google.head()\n"
   ]
  },
  {
   "cell_type": "code",
   "execution_count": 20,
   "id": "1f8b9699-5bf8-4b6e-a829-3cd3a3309979",
   "metadata": {},
   "outputs": [],
   "source": [
    "# create a custom python function\n",
    "def classify_performance(number: float):\n",
    "    if number < 300:\n",
    "        return \"OK\"\n",
    "    elif number < 650:\n",
    "        return \"Satisfactory\"\n",
    "    else:\n",
    "        return \"Incredible!\"\n"
   ]
  },
  {
   "cell_type": "code",
   "execution_count": 21,
   "id": "e23535d3-5032-4c09-9c67-af90ae0dea7a",
   "metadata": {},
   "outputs": [
    {
     "data": {
      "text/plain": [
       "0                OK\n",
       "1                OK\n",
       "2                OK\n",
       "3                OK\n",
       "4                OK\n",
       "           ...     \n",
       "3007    Incredible!\n",
       "3008    Incredible!\n",
       "3009    Incredible!\n",
       "3010    Incredible!\n",
       "3011    Incredible!\n",
       "Name: Stock Price, Length: 3012, dtype: object"
      ]
     },
     "execution_count": 21,
     "metadata": {},
     "output_type": "execute_result"
    }
   ],
   "source": [
    "google.apply(classify_performance)\n"
   ]
  },
  {
   "cell_type": "code",
   "execution_count": 22,
   "id": "f4934533-4aae-44da-be5e-23451d0716b9",
   "metadata": {},
   "outputs": [
    {
     "data": {
      "text/plain": [
       "0    50.12\n",
       "1    54.10\n",
       "2    54.65\n",
       "3    52.38\n",
       "4    52.95\n",
       "Name: Stock Price, dtype: float64"
      ]
     },
     "execution_count": 22,
     "metadata": {},
     "output_type": "execute_result"
    }
   ],
   "source": [
    "google.head()\n"
   ]
  },
  {
   "cell_type": "code",
   "execution_count": 23,
   "id": "1a86c509-ff51-4701-9456-525ad0c561ab",
   "metadata": {},
   "outputs": [
    {
     "data": {
      "text/plain": [
       "0        51.12\n",
       "1        55.10\n",
       "2        55.65\n",
       "3        53.38\n",
       "4        53.95\n",
       "         ...  \n",
       "3007    773.88\n",
       "3008    772.07\n",
       "3009    774.18\n",
       "3010    772.61\n",
       "3011    783.22\n",
       "Name: Stock Price, Length: 3012, dtype: float64"
      ]
     },
     "execution_count": 23,
     "metadata": {},
     "output_type": "execute_result"
    }
   ],
   "source": [
    "# apply with anonimous function (in this case add 1 to stock price)\n",
    "google.apply(lambda stock_price: stock_price + 1)\n"
   ]
  },
  {
   "cell_type": "markdown",
   "id": "39a18890-73c4-4a77-adc6-c53b02a0d760",
   "metadata": {},
   "source": [
    "# The `map()` method"
   ]
  },
  {
   "cell_type": "code",
   "execution_count": 25,
   "id": "7a64e5e3-b04d-4b97-a5d6-55628ddc5999",
   "metadata": {},
   "outputs": [
    {
     "data": {
      "text/plain": [
       "0     Bulbasaur\n",
       "1       Ivysaur\n",
       "2      Venusaur\n",
       "3    Charmander\n",
       "4    Charmeleon\n",
       "Name: Pokemon, dtype: object"
      ]
     },
     "execution_count": 25,
     "metadata": {},
     "output_type": "execute_result"
    }
   ],
   "source": [
    "pokemon_names = pd.read_csv(\"pokemon.csv\", usecols=[\"Pokemon\"]).squeeze()\n",
    "pokemon_names.head(5)\n"
   ]
  },
  {
   "cell_type": "code",
   "execution_count": 26,
   "id": "96a1ddf4-392e-4829-beec-c461a7e332dc",
   "metadata": {},
   "outputs": [
    {
     "data": {
      "text/plain": [
       "Pokemon\n",
       "Bulbasaur     Grass\n",
       "Ivysaur       Grass\n",
       "Venusaur      Grass\n",
       "Charmander     Fire\n",
       "Charmeleon     Fire\n",
       "Name: Type, dtype: object"
      ]
     },
     "execution_count": 26,
     "metadata": {},
     "output_type": "execute_result"
    }
   ],
   "source": [
    "pokemon_types = pd.read_csv(\"pokemon.csv\", index_col=\"Pokemon\").squeeze()\n",
    "pokemon_types.head()\n"
   ]
  },
  {
   "cell_type": "code",
   "execution_count": 27,
   "id": "411b2778-b93f-4493-a5fe-e5e4ab996613",
   "metadata": {},
   "outputs": [
    {
     "data": {
      "text/plain": [
       "0        Grass\n",
       "1        Grass\n",
       "2        Grass\n",
       "3         Fire\n",
       "4         Fire\n",
       "        ...   \n",
       "716       Dark\n",
       "717     Dragon\n",
       "718       Rock\n",
       "719    Psychic\n",
       "720       Fire\n",
       "Name: Pokemon, Length: 721, dtype: object"
      ]
     },
     "execution_count": 27,
     "metadata": {},
     "output_type": "execute_result"
    }
   ],
   "source": [
    "pokemon_names.map(pokemon_types)\n"
   ]
  },
  {
   "cell_type": "code",
   "execution_count": 33,
   "id": "b4963310-d9c7-43af-b82c-0dcfd8917cab",
   "metadata": {
    "tags": []
   },
   "outputs": [],
   "source": [
    "pokemon_names = pd.read_csv(\"pokemon.csv\", usecols=[\"Pokemon\"]).squeeze()\n",
    "pokemon_types_dict = pd.read_csv(\"pokemon.csv\", index_col=\"Pokemon\").squeeze().to_dict()\n"
   ]
  },
  {
   "cell_type": "code",
   "execution_count": 34,
   "id": "d58fcd0d-11af-4be6-b7e7-bb66d36d7174",
   "metadata": {},
   "outputs": [
    {
     "data": {
      "text/plain": [
       "0        Grass\n",
       "1        Grass\n",
       "2        Grass\n",
       "3         Fire\n",
       "4         Fire\n",
       "        ...   \n",
       "716       Dark\n",
       "717     Dragon\n",
       "718       Rock\n",
       "719    Psychic\n",
       "720       Fire\n",
       "Name: Pokemon, Length: 721, dtype: object"
      ]
     },
     "execution_count": 34,
     "metadata": {},
     "output_type": "execute_result"
    }
   ],
   "source": [
    "pokemon_names.map(pokemon_types_dict)\n"
   ]
  }
 ],
 "metadata": {
  "kernelspec": {
   "display_name": "Python 3 (ipykernel)",
   "language": "python",
   "name": "python3"
  },
  "language_info": {
   "codemirror_mode": {
    "name": "ipython",
    "version": 3
   },
   "file_extension": ".py",
   "mimetype": "text/x-python",
   "name": "python",
   "nbconvert_exporter": "python",
   "pygments_lexer": "ipython3",
   "version": "3.10.4"
  }
 },
 "nbformat": 4,
 "nbformat_minor": 5
}
