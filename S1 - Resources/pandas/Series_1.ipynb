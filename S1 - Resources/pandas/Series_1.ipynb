{
 "cells": [
  {
   "cell_type": "code",
   "execution_count": null,
   "id": "78110153",
   "metadata": {
    "pycharm": {
     "name": "#%%\n"
    }
   },
   "outputs": [],
   "source": [
    "import pandas as pd"
   ]
  },
  {
   "cell_type": "markdown",
   "id": "0852a299",
   "metadata": {
    "pycharm": {
     "name": "#%% md\n"
    }
   },
   "source": [
    "# Create a series from a python list"
   ]
  },
  {
   "cell_type": "code",
   "execution_count": null,
   "id": "76a2b543",
   "metadata": {
    "pycharm": {
     "name": "#%%\n"
    }
   },
   "outputs": [],
   "source": [
    "ice_cream = [\"Chocolate\", \"Vanilla\", \"Strawberry\", \"Rum Raisin\"]\n",
    "\n",
    "pd.Series(ice_cream)"
   ]
  },
  {
   "cell_type": "code",
   "execution_count": null,
   "id": "0914b211",
   "metadata": {
    "pycharm": {
     "name": "#%%\n"
    }
   },
   "outputs": [],
   "source": [
    "lottery = [4, 8, 15, 16, 23, 42]\n",
    "\n",
    "pd.Series(lottery)"
   ]
  },
  {
   "cell_type": "code",
   "execution_count": null,
   "id": "84486e78",
   "metadata": {
    "pycharm": {
     "name": "#%%\n"
    }
   },
   "outputs": [],
   "source": [
    "registration = [True, False, False, False, True]\n",
    "\n",
    "pd.Series(registration)"
   ]
  },
  {
   "cell_type": "markdown",
   "id": "fd241160",
   "metadata": {
    "pycharm": {
     "name": "#%% md\n"
    }
   },
   "source": [
    "# Create a Series from a python dictionary"
   ]
  },
  {
   "cell_type": "code",
   "execution_count": null,
   "id": "a1248bfc",
   "metadata": {
    "pycharm": {
     "name": "#%%\n"
    }
   },
   "outputs": [],
   "source": [
    "webster = {\"Aardvark\": \"An animal\", \"Banana\": \"A delicious fruit\", \"Cyan\": \"A color\"}\n",
    "pd.Series(webster)"
   ]
  },
  {
   "cell_type": "markdown",
   "id": "2fae75ec",
   "metadata": {
    "pycharm": {
     "name": "#%% md\n"
    }
   },
   "source": [
    "# Intro to attributes\n",
    "- Attributes do not modify and object."
   ]
  },
  {
   "cell_type": "code",
   "execution_count": null,
   "id": "bbfbe2a7",
   "metadata": {
    "pycharm": {
     "name": "#%%\n"
    }
   },
   "outputs": [],
   "source": [
    "about_me = [\"Smart\", \"Handsome\", \"Charming\", \"Brilliant\", \"Humble\"]\n",
    "s = pd.Series(about_me)\n",
    "s"
   ]
  },
  {
   "cell_type": "code",
   "execution_count": null,
   "id": "3d35a254",
   "metadata": {
    "pycharm": {
     "name": "#%%\n"
    }
   },
   "outputs": [],
   "source": [
    "s.values"
   ]
  },
  {
   "cell_type": "code",
   "execution_count": null,
   "id": "1c32da3f",
   "metadata": {
    "pycharm": {
     "name": "#%%\n"
    }
   },
   "outputs": [],
   "source": [
    "s.index"
   ]
  },
  {
   "cell_type": "code",
   "execution_count": null,
   "id": "e8a34d26",
   "metadata": {
    "pycharm": {
     "name": "#%%\n"
    }
   },
   "outputs": [],
   "source": [
    "s.dtypes  # data type object is pandas internal for strings."
   ]
  },
  {
   "cell_type": "markdown",
   "id": "8d965ba8",
   "metadata": {
    "pycharm": {
     "name": "#%% md\n"
    }
   },
   "source": [
    "# Intro to methods\n",
    "Methods, in opposition to attributes, allow us to modify objects."
   ]
  },
  {
   "cell_type": "code",
   "execution_count": null,
   "id": "ef93414e",
   "metadata": {
    "pycharm": {
     "name": "#%%\n"
    }
   },
   "outputs": [],
   "source": [
    "prices = [2.99, 4.45, 1.36]\n",
    "p = pd.Series(prices)\n",
    "p"
   ]
  },
  {
   "cell_type": "code",
   "execution_count": null,
   "id": "b13cf107",
   "metadata": {
    "pycharm": {
     "name": "#%%\n"
    }
   },
   "outputs": [],
   "source": [
    "p.sum()  # when using methods, we have to add parentheses around."
   ]
  },
  {
   "cell_type": "code",
   "execution_count": null,
   "id": "7075eba9",
   "metadata": {
    "pycharm": {
     "name": "#%%\n"
    }
   },
   "outputs": [],
   "source": [
    "p.product()"
   ]
  },
  {
   "cell_type": "code",
   "execution_count": null,
   "id": "9143b900",
   "metadata": {
    "pycharm": {
     "name": "#%%\n"
    }
   },
   "outputs": [],
   "source": [
    "p.mean()"
   ]
  },
  {
   "cell_type": "markdown",
   "id": "c77cd04e",
   "metadata": {
    "pycharm": {
     "name": "#%% md\n"
    }
   },
   "source": [
    "## Parameters and arguments"
   ]
  },
  {
   "cell_type": "code",
   "execution_count": null,
   "id": "dafad99d",
   "metadata": {
    "pycharm": {
     "name": "#%%\n"
    }
   },
   "outputs": [],
   "source": [
    "# Difficulty - Easy, Medium, Hard\n",
    "# Volume - 1 through 10\n",
    "# Subtitles - False/True\n",
    "# For example, for the parameter diffuculty, we can pass as arguments:\n",
    "# easy, medium or hard.\n",
    "from calendar import weekday\n",
    "\n",
    "fruits = [\"Apple\", \"Orange\", \"Plum\", \"Grape\", \"Blueberry\"]\n",
    "weekdays = [\"Monday\", \"Tuesday\", \"Wednesday\", \"Thursday\", \"Friday\"]\n",
    "\n",
    "pd.Series(data=fruits, index=weekdays)"
   ]
  },
  {
   "cell_type": "code",
   "execution_count": null,
   "id": "1a5d6dc7",
   "metadata": {
    "pycharm": {
     "name": "#%%\n"
    }
   },
   "outputs": [],
   "source": [
    "fruits = [\"Apple\", \"Orange\", \"Plum\", \"Grape\", \"Blueberry\", \"Watermelon\"]\n",
    "# pd series allows not unique index\n",
    "weekdays = [\"Monday\", \"Tuesday\", \"Wednesday\", \"Thursday\", \"Friday\", \"Monday\"]\n",
    "\n",
    "pd.Series(data=fruits, index=weekdays)"
   ]
  },
  {
   "cell_type": "markdown",
   "id": "1d4ab3f4",
   "metadata": {
    "pycharm": {
     "name": "#%% md\n"
    }
   },
   "source": [
    "## Import `Series` with `read_csv` method"
   ]
  },
  {
   "cell_type": "code",
   "execution_count": null,
   "id": "0063dfae",
   "metadata": {
    "pycharm": {
     "name": "#%%\n"
    }
   },
   "outputs": [],
   "source": [
    "# use sequeeze to convert a single column dataframe into a Series\n",
    "pokemon = pd.read_csv(\"pokemon.csv\", usecols=[\"Pokemon\"]).squeeze()\n",
    "\n",
    "pokemon"
   ]
  },
  {
   "cell_type": "code",
   "execution_count": null,
   "id": "48c9ad1b-70bd-4b6f-a023-fb9ddc8ddd7d",
   "metadata": {
    "pycharm": {
     "name": "#%%\n"
    }
   },
   "outputs": [],
   "source": [
    "google = pd.read_csv(\"google_stock_price.csv\").squeeze()\n",
    "\n",
    "google"
   ]
  },
  {
   "cell_type": "markdown",
   "id": "5225e217-9d13-49e7-964d-1965384114d9",
   "metadata": {
    "pycharm": {
     "name": "#%% md\n"
    }
   },
   "source": [
    "## The `tail()` and the `head()` methods\n",
    "Both methods return a brand new object."
   ]
  },
  {
   "cell_type": "code",
   "execution_count": null,
   "id": "e3e14881-669c-41d8-9d91-f3ce0c23fb1e",
   "metadata": {
    "pycharm": {
     "name": "#%%\n"
    }
   },
   "outputs": [],
   "source": [
    "pokemon.head()"
   ]
  },
  {
   "cell_type": "code",
   "execution_count": null,
   "id": "9c0681f0-32e4-40ca-9245-2ee06c99125c",
   "metadata": {
    "pycharm": {
     "name": "#%%\n"
    }
   },
   "outputs": [],
   "source": [
    "google.tail()"
   ]
  },
  {
   "cell_type": "markdown",
   "id": "aff3e62c-5006-428b-a73c-68c8605f9893",
   "metadata": {
    "pycharm": {
     "name": "#%% md\n"
    }
   },
   "source": [
    "## Python built-in functions\n",
    "Pandas series play really well with the standard python methods."
   ]
  },
  {
   "cell_type": "code",
   "execution_count": null,
   "id": "d9f6b781-c5d2-4234-b180-28f9d67e2e66",
   "metadata": {
    "pycharm": {
     "name": "#%%\n"
    }
   },
   "outputs": [],
   "source": [
    "len(pokemon)\n",
    "len(google)"
   ]
  },
  {
   "cell_type": "code",
   "execution_count": null,
   "id": "828f99be-a0b1-4283-8349-d0abccdda115",
   "metadata": {
    "pycharm": {
     "name": "#%%\n"
    }
   },
   "outputs": [],
   "source": [
    "type(pokemon)"
   ]
  },
  {
   "cell_type": "code",
   "execution_count": null,
   "id": "d7c34bbc-e4f4-40ad-b609-c6f7a0c8fbf1",
   "metadata": {
    "collapsed": true,
    "jupyter": {
     "outputs_hidden": true
    },
    "pycharm": {
     "name": "#%%\n"
    },
    "tags": []
   },
   "outputs": [],
   "source": [
    "dir(pokemon)"
   ]
  },
  {
   "cell_type": "code",
   "execution_count": null,
   "id": "efcb9870-76c9-47da-9fc0-6379ec950d8f",
   "metadata": {
    "collapsed": true,
    "jupyter": {
     "outputs_hidden": true
    },
    "pycharm": {
     "name": "#%%\n"
    },
    "tags": []
   },
   "outputs": [],
   "source": [
    "sorted(pokemon)"
   ]
  },
  {
   "cell_type": "code",
   "execution_count": null,
   "id": "f8ce7370-8273-46a3-9aac-b61e39e492d9",
   "metadata": {
    "collapsed": true,
    "jupyter": {
     "outputs_hidden": true
    },
    "pycharm": {
     "name": "#%%\n"
    },
    "tags": []
   },
   "outputs": [],
   "source": [
    "sorted(google)"
   ]
  },
  {
   "cell_type": "code",
   "execution_count": null,
   "id": "bc17961c-cd86-4025-9f81-0bd27946aa07",
   "metadata": {
    "collapsed": true,
    "jupyter": {
     "outputs_hidden": true
    },
    "pycharm": {
     "name": "#%%\n"
    },
    "tags": []
   },
   "outputs": [],
   "source": [
    "list(pokemon)"
   ]
  },
  {
   "cell_type": "code",
   "execution_count": null,
   "id": "38df3744-1d41-4bd6-b68a-890dad3c03b9",
   "metadata": {
    "collapsed": true,
    "jupyter": {
     "outputs_hidden": true
    },
    "pycharm": {
     "name": "#%%\n"
    },
    "tags": []
   },
   "outputs": [],
   "source": [
    "dict(google)"
   ]
  },
  {
   "cell_type": "code",
   "execution_count": null,
   "id": "74b94a86-41a2-4051-9af3-070e37486105",
   "metadata": {
    "pycharm": {
     "name": "#%%\n"
    }
   },
   "outputs": [],
   "source": [
    "max(pokemon)"
   ]
  },
  {
   "cell_type": "code",
   "execution_count": null,
   "id": "41eca859-b842-4e3c-9c78-cf741759ef22",
   "metadata": {
    "pycharm": {
     "name": "#%%\n"
    }
   },
   "outputs": [],
   "source": [
    "min(pokemon)"
   ]
  },
  {
   "cell_type": "code",
   "execution_count": null,
   "id": "158d2e09-a705-4207-bf1c-094c955b98b3",
   "metadata": {
    "pycharm": {
     "name": "#%%\n"
    }
   },
   "outputs": [],
   "source": [
    "max(google)"
   ]
  },
  {
   "cell_type": "code",
   "execution_count": null,
   "id": "f8425a71-a68c-4fd9-9717-12e53f8eb59e",
   "metadata": {
    "pycharm": {
     "name": "#%%\n"
    }
   },
   "outputs": [],
   "source": [
    "min(google)"
   ]
  },
  {
   "cell_type": "code",
   "execution_count": null,
   "id": "17a1feb0-5509-458f-92e9-65d5c925bdac",
   "metadata": {
    "collapsed": true,
    "jupyter": {
     "outputs_hidden": true
    },
    "pycharm": {
     "name": "#%%\n"
    },
    "tags": []
   },
   "outputs": [],
   "source": [
    "pokemon.values"
   ]
  },
  {
   "cell_type": "code",
   "execution_count": null,
   "id": "daf41405-2cc6-4f65-9839-36eec1de7a00",
   "metadata": {
    "pycharm": {
     "name": "#%%\n"
    }
   },
   "outputs": [],
   "source": [
    "pokemon.index"
   ]
  },
  {
   "cell_type": "code",
   "execution_count": null,
   "id": "28ffa846-7fdd-46fc-864e-69a4de1ed4e4",
   "metadata": {
    "pycharm": {
     "name": "#%%\n"
    }
   },
   "outputs": [],
   "source": [
    "pokemon.dtype"
   ]
  },
  {
   "cell_type": "code",
   "execution_count": null,
   "id": "f991d453-ae95-4c9f-8d26-fe49e7f509df",
   "metadata": {
    "pycharm": {
     "name": "#%%\n"
    }
   },
   "outputs": [],
   "source": [
    "google.dtype"
   ]
  },
  {
   "cell_type": "code",
   "execution_count": null,
   "id": "055c894e-44c4-488b-a834-78af5966fe25",
   "metadata": {
    "pycharm": {
     "name": "#%%\n"
    }
   },
   "outputs": [],
   "source": [
    "pokemon.is_unique  # true if there are no duplicate values"
   ]
  },
  {
   "cell_type": "code",
   "execution_count": null,
   "id": "d01098e7-ec9b-4f98-866e-2614677a4af1",
   "metadata": {
    "pycharm": {
     "name": "#%%\n"
    }
   },
   "outputs": [],
   "source": [
    "google.is_unique"
   ]
  },
  {
   "cell_type": "code",
   "execution_count": null,
   "id": "c96e44f9-691c-4062-9770-1ff122c2aadf",
   "metadata": {
    "pycharm": {
     "name": "#%%\n"
    }
   },
   "outputs": [],
   "source": [
    "pokemon.ndim  # series have always a single dimension"
   ]
  },
  {
   "cell_type": "code",
   "execution_count": null,
   "id": "cbf8ab6b-3e6b-459d-a4cb-e133b1b6a9a9",
   "metadata": {
    "pycharm": {
     "name": "#%%\n"
    }
   },
   "outputs": [],
   "source": [
    "pokemon.shape"
   ]
  },
  {
   "cell_type": "code",
   "execution_count": null,
   "id": "99f6590e-4bcf-4840-98a8-ab167d816767",
   "metadata": {
    "pycharm": {
     "name": "#%%\n"
    }
   },
   "outputs": [],
   "source": [
    "pokemon.size  # number of values"
   ]
  },
  {
   "cell_type": "code",
   "execution_count": null,
   "id": "de92a308-0bf5-49df-b09b-41ac407c72f0",
   "metadata": {
    "pycharm": {
     "name": "#%%\n"
    }
   },
   "outputs": [],
   "source": [
    "pokemon.name"
   ]
  },
  {
   "cell_type": "markdown",
   "id": "0a1ad84e-e304-4d83-b7e9-90057354762e",
   "metadata": {
    "pycharm": {
     "name": "#%% md\n"
    }
   },
   "source": [
    "## The `.sort_values()` method"
   ]
  },
  {
   "cell_type": "code",
   "execution_count": null,
   "id": "7008ccc0-494c-444e-8e07-04a808ecbe61",
   "metadata": {
    "pycharm": {
     "name": "#%%\n"
    }
   },
   "outputs": [],
   "source": [
    "pokemon.sort_values().head()  # an example of methods chaining"
   ]
  },
  {
   "cell_type": "code",
   "execution_count": null,
   "id": "ceab2b76-c883-4153-90d8-7aaf9bb61afc",
   "metadata": {
    "pycharm": {
     "name": "#%%\n"
    }
   },
   "outputs": [],
   "source": [
    "pokemon.sort_values(ascending=False).tail()"
   ]
  },
  {
   "cell_type": "code",
   "execution_count": null,
   "id": "e1e6c812-bacd-4051-a36a-b732a5c08942",
   "metadata": {
    "pycharm": {
     "name": "#%%\n"
    }
   },
   "outputs": [],
   "source": [
    "google.sort_values().head()"
   ]
  },
  {
   "cell_type": "code",
   "execution_count": null,
   "id": "0a922aa9-6a38-4439-bbf8-28fe19cb0570",
   "metadata": {
    "pycharm": {
     "name": "#%%\n"
    }
   },
   "outputs": [],
   "source": [
    "google.sort_values(ascending=False).head()"
   ]
  },
  {
   "cell_type": "markdown",
   "id": "be4d792f-f61a-4591-afbd-624dcc4b89a6",
   "metadata": {
    "pycharm": {
     "name": "#%% md\n"
    }
   },
   "source": [
    "##  The `inplace` parameter\n",
    "It is available accross many methods. When set to `True`, the original variable is overwritten."
   ]
  },
  {
   "cell_type": "code",
   "execution_count": null,
   "id": "8eee0bb9-537b-4781-8e81-4ae43c2e86fd",
   "metadata": {
    "pycharm": {
     "name": "#%%\n"
    }
   },
   "outputs": [],
   "source": [
    "google.head()"
   ]
  },
  {
   "cell_type": "code",
   "execution_count": null,
   "id": "7b79814c-8ef8-4275-90ad-8e7b0ac80856",
   "metadata": {
    "pycharm": {
     "name": "#%%\n"
    }
   },
   "outputs": [],
   "source": [
    "google_sorted = (\n",
    "    google.copy()\n",
    ")  # to sort inplace, first we must create a copy of our series\n",
    "google_sorted.sort_values(ascending=False, inplace=True)"
   ]
  },
  {
   "cell_type": "code",
   "execution_count": null,
   "id": "2a4e3a3b-a4a9-4756-8cc9-1c64f4e208f3",
   "metadata": {
    "pycharm": {
     "name": "#%%\n"
    }
   },
   "outputs": [],
   "source": [
    "google_sorted.head()"
   ]
  },
  {
   "cell_type": "code",
   "execution_count": null,
   "id": "b9b6af88-d0c0-4329-9af8-cbed1a76b629",
   "metadata": {
    "pycharm": {
     "name": "#%%\n"
    }
   },
   "outputs": [],
   "source": [
    "pokemon_sorted = pokemon.copy()\n",
    "pokemon_sorted.sort_values(ascending=False, inplace=True)"
   ]
  },
  {
   "cell_type": "markdown",
   "id": "739a7685-f390-4d96-afeb-f057653188a4",
   "metadata": {
    "pycharm": {
     "name": "#%% md\n"
    }
   },
   "source": [
    "## The `sort_index()` method"
   ]
  },
  {
   "cell_type": "code",
   "execution_count": null,
   "id": "66cac4da-6189-4978-927a-dff369b76097",
   "metadata": {
    "pycharm": {
     "name": "#%%\n"
    }
   },
   "outputs": [],
   "source": [
    "pokemon_sorted.sort_index(inplace=True)\n",
    "pokemon_sorted"
   ]
  },
  {
   "cell_type": "markdown",
   "id": "82167739-2fba-4fff-bbb8-5c59aff99884",
   "metadata": {
    "pycharm": {
     "name": "#%% md\n"
    }
   },
   "source": [
    "## Python `in` keyword "
   ]
  },
  {
   "cell_type": "code",
   "execution_count": null,
   "id": "99920334-55ba-414a-92ad-6f95bed3b850",
   "metadata": {
    "pycharm": {
     "name": "#%%\n"
    }
   },
   "outputs": [],
   "source": [
    "pokemon.head(3)"
   ]
  },
  {
   "cell_type": "code",
   "execution_count": null,
   "id": "28b71170-3441-4507-8512-11e51be32f02",
   "metadata": {
    "pycharm": {
     "name": "#%%\n"
    }
   },
   "outputs": [],
   "source": [
    "\"Bulbasaur\" in pokemon  # by default 'in' look up into the index column"
   ]
  },
  {
   "cell_type": "code",
   "execution_count": null,
   "id": "64a0e72d-af5c-4b4d-ae6f-d73d3c979fec",
   "metadata": {
    "pycharm": {
     "name": "#%%\n"
    }
   },
   "outputs": [],
   "source": [
    "100 in pokemon\n",
    "100 in pokemon.index"
   ]
  },
  {
   "cell_type": "code",
   "execution_count": null,
   "id": "29386bd0-f9e7-454c-b001-e76c97c9e79c",
   "metadata": {
    "pycharm": {
     "name": "#%%\n"
    }
   },
   "outputs": [],
   "source": [
    "\"Bulbasaur\" in pokemon.values  # look up into the values"
   ]
  },
  {
   "cell_type": "code",
   "execution_count": null,
   "id": "15db59d8-6545-4b4f-b8da-5d81d6434f52",
   "metadata": {
    "pycharm": {
     "name": "#%%\n"
    }
   },
   "outputs": [],
   "source": [
    "\"Noa\" in pokemon.values"
   ]
  },
  {
   "cell_type": "markdown",
   "id": "597bfd38-e35e-40fc-a0fb-1278a4b06608",
   "metadata": {
    "pycharm": {
     "name": "#%% md\n"
    }
   },
   "source": [
    "## Extracting elements from `index position`"
   ]
  },
  {
   "cell_type": "code",
   "execution_count": null,
   "id": "6043c604-c83f-4399-a66b-084219e4f6f0",
   "metadata": {
    "pycharm": {
     "name": "#%%\n"
    }
   },
   "outputs": [],
   "source": [
    "pokemon[1]  # extracting a single element"
   ]
  },
  {
   "cell_type": "code",
   "execution_count": null,
   "id": "a982653d-e8f2-40fc-bcc7-6f6b74999a0e",
   "metadata": {
    "pycharm": {
     "name": "#%%\n"
    }
   },
   "outputs": [],
   "source": [
    "pokemon[[100, 200, 300]]  # extracting several elements"
   ]
  },
  {
   "cell_type": "code",
   "execution_count": null,
   "id": "5dc5d6b4-c3f6-4f33-b518-912ca22565ac",
   "metadata": {
    "collapsed": true,
    "jupyter": {
     "outputs_hidden": true
    },
    "pycharm": {
     "name": "#%%\n"
    },
    "tags": []
   },
   "outputs": [],
   "source": [
    "pokemon[100:115]  # extracting from interval of values."
   ]
  },
  {
   "cell_type": "markdown",
   "id": "0bf21a28-702a-4014-a909-bda2c2dd8ccf",
   "metadata": {
    "pycharm": {
     "name": "#%% md\n"
    }
   },
   "source": [
    "# Extracting elements by `index_label`"
   ]
  },
  {
   "cell_type": "code",
   "execution_count": null,
   "id": "54eda895-6752-4218-9234-23a8237bb6e1",
   "metadata": {
    "pycharm": {
     "name": "#%%\n"
    }
   },
   "outputs": [],
   "source": [
    "pokemon_values = pd.read_csv(\n",
    "    \"pokemon.csv\", index_col=\"Pokemon\"\n",
    ").squeeze()  # create a series, using Pokemon col as index"
   ]
  },
  {
   "cell_type": "code",
   "execution_count": null,
   "id": "562a5460-88d4-4301-8716-3943f04efab4",
   "metadata": {
    "pycharm": {
     "name": "#%%\n"
    }
   },
   "outputs": [],
   "source": [
    "pokemon_values"
   ]
  },
  {
   "cell_type": "code",
   "execution_count": null,
   "id": "d08c4af3-1bdc-475b-8e94-e92e53012c75",
   "metadata": {
    "pycharm": {
     "name": "#%%\n"
    }
   },
   "outputs": [],
   "source": [
    "pokemon_values[0]\n",
    "pokemon_values[[100, 124]]"
   ]
  },
  {
   "cell_type": "code",
   "execution_count": null,
   "id": "abd07060-b9f2-4c1a-bf89-e0823af55211",
   "metadata": {
    "pycharm": {
     "name": "#%%\n"
    }
   },
   "outputs": [],
   "source": [
    "pokemon_values[\"Bulbasaur\"]"
   ]
  },
  {
   "cell_type": "code",
   "execution_count": null,
   "id": "e81824b2-6533-4a31-81c4-3eb069a8f386",
   "metadata": {
    "pycharm": {
     "name": "#%%\n"
    }
   },
   "outputs": [],
   "source": [
    "pokemon_values[[\"Bulbasaur\", \"Electrode\"]]"
   ]
  },
  {
   "cell_type": "code",
   "execution_count": null,
   "id": "0444aca4-8b2d-4ef4-b702-20154c517632",
   "metadata": {
    "pycharm": {
     "name": "#%%\n"
    }
   },
   "outputs": [],
   "source": [
    "pokemon_values[\n",
    "    \"Charmander\":\"Weedle\"\n",
    "]  # in this case the upper bound position is include"
   ]
  },
  {
   "cell_type": "code",
   "execution_count": null,
   "id": "c36e01a7-18ec-4594-b085-123a4262c418",
   "metadata": {
    "pycharm": {
     "name": "#%%\n"
    }
   },
   "outputs": [],
   "source": [
    "pokemon_values[\"Charmander\":\"Weedle\":2]  # two elements steps"
   ]
  },
  {
   "cell_type": "code",
   "execution_count": null,
   "id": "b6908995-1af7-4b0d-a68f-92fe7ff78032",
   "metadata": {
    "pycharm": {
     "name": "#%%\n"
    }
   },
   "outputs": [],
   "source": [
    "# pokemon_values[[\"Pikachu\", \"Digiman\"]] # if a single key is missing the function returns error.\n",
    "\n",
    "new_index = [\"Pikachu\", \"Digiman\"]\n",
    "pokemon_values.reindex(index=new_index)  # with this method, NaN if key does not exist."
   ]
  }
 ],
 "metadata": {
  "kernelspec": {
   "display_name": "Python 3 (ipykernel)",
   "language": "python",
   "name": "python3"
  },
  "language_info": {
   "codemirror_mode": {
    "name": "ipython",
    "version": 3
   },
   "file_extension": ".py",
   "mimetype": "text/x-python",
   "name": "python",
   "nbconvert_exporter": "python",
   "pygments_lexer": "ipython3",
   "version": "3.10.4"
  },
  "vscode": {
   "interpreter": {
    "hash": "5431d8997ded1fc9d3d05a65bd72c147f4ad391ac23d4b528cffdf6ff5a60c23"
   }
  }
 },
 "nbformat": 4,
 "nbformat_minor": 5
}
