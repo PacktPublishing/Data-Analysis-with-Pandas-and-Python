{
 "cells": [
  {
   "cell_type": "code",
   "execution_count": 2,
   "metadata": {
    "collapsed": true
   },
   "outputs": [],
   "source": [
    "import pandas as pd\n",
    "import datetime as dt"
   ]
  },
  {
   "cell_type": "markdown",
   "metadata": {},
   "source": [
    "## Review of Python's `datetime` Module"
   ]
  },
  {
   "cell_type": "code",
   "execution_count": 2,
   "metadata": {
    "collapsed": false
   },
   "outputs": [],
   "source": [
    "someday = dt.date(2010, 1, 20)"
   ]
  },
  {
   "cell_type": "code",
   "execution_count": 3,
   "metadata": {
    "collapsed": false
   },
   "outputs": [
    {
     "data": {
      "text/plain": [
       "20"
      ]
     },
     "execution_count": 3,
     "metadata": {},
     "output_type": "execute_result"
    }
   ],
   "source": [
    "someday.year\n",
    "someday.month\n",
    "someday.day"
   ]
  },
  {
   "cell_type": "code",
   "execution_count": 4,
   "metadata": {
    "collapsed": false
   },
   "outputs": [
    {
     "data": {
      "text/plain": [
       "'2010-01-20'"
      ]
     },
     "execution_count": 4,
     "metadata": {},
     "output_type": "execute_result"
    }
   ],
   "source": [
    "str(someday)"
   ]
  },
  {
   "cell_type": "code",
   "execution_count": 5,
   "metadata": {
    "collapsed": false
   },
   "outputs": [
    {
     "data": {
      "text/plain": [
       "'2010-01-10 17:13:57'"
      ]
     },
     "execution_count": 5,
     "metadata": {},
     "output_type": "execute_result"
    }
   ],
   "source": [
    "str(dt.datetime(2010, 1, 10, 17, 13, 57))"
   ]
  },
  {
   "cell_type": "code",
   "execution_count": 6,
   "metadata": {
    "collapsed": true
   },
   "outputs": [],
   "source": [
    "sometime = dt.datetime(2010, 1, 10, 17, 13, 57)"
   ]
  },
  {
   "cell_type": "code",
   "execution_count": 7,
   "metadata": {
    "collapsed": false
   },
   "outputs": [
    {
     "data": {
      "text/plain": [
       "57"
      ]
     },
     "execution_count": 7,
     "metadata": {},
     "output_type": "execute_result"
    }
   ],
   "source": [
    "sometime.year\n",
    "sometime.month\n",
    "sometime.day\n",
    "sometime.hour\n",
    "sometime.minute\n",
    "sometime.second"
   ]
  },
  {
   "cell_type": "markdown",
   "metadata": {},
   "source": [
    "## The `pandas Timestamp` Object"
   ]
  },
  {
   "cell_type": "code",
   "execution_count": 8,
   "metadata": {
    "collapsed": false
   },
   "outputs": [
    {
     "data": {
      "text/plain": [
       "Timestamp('2021-03-08 18:13:29')"
      ]
     },
     "execution_count": 8,
     "metadata": {},
     "output_type": "execute_result"
    }
   ],
   "source": [
    "pd.Timestamp(\"2015-03-31\")\n",
    "pd.Timestamp(\"2015/03/31\")\n",
    "pd.Timestamp(\"2013, 11, 04\")\n",
    "pd.Timestamp(\"1/1/2015\")\n",
    "pd.Timestamp(\"19/12/2015\")\n",
    "pd.Timestamp(\"12/19/2015\")\n",
    "pd.Timestamp(\"4/3/2000\")\n",
    "pd.Timestamp(\"2021-03-08 08:35:15\")\n",
    "pd.Timestamp(\"2021-03-08 6:13:29 PM\")"
   ]
  },
  {
   "cell_type": "code",
   "execution_count": 9,
   "metadata": {
    "collapsed": false
   },
   "outputs": [
    {
     "data": {
      "text/plain": [
       "Timestamp('2015-01-01 00:00:00')"
      ]
     },
     "execution_count": 9,
     "metadata": {},
     "output_type": "execute_result"
    }
   ],
   "source": [
    "pd.Timestamp(dt.date(2015, 1, 1))"
   ]
  },
  {
   "cell_type": "code",
   "execution_count": 10,
   "metadata": {
    "collapsed": false
   },
   "outputs": [
    {
     "data": {
      "text/plain": [
       "Timestamp('2000-02-03 21:35:22')"
      ]
     },
     "execution_count": 10,
     "metadata": {},
     "output_type": "execute_result"
    }
   ],
   "source": [
    "pd.Timestamp(dt.datetime(2000, 2, 3, 21, 35, 22))"
   ]
  },
  {
   "cell_type": "markdown",
   "metadata": {},
   "source": [
    "## The `pandas DateTimeIndex` Object"
   ]
  },
  {
   "cell_type": "code",
   "execution_count": 11,
   "metadata": {
    "collapsed": false
   },
   "outputs": [
    {
     "data": {
      "text/plain": [
       "DatetimeIndex(['2016-01-02', '2016-04-12', '2009-09-07'], dtype='datetime64[ns]', freq=None)"
      ]
     },
     "execution_count": 11,
     "metadata": {},
     "output_type": "execute_result"
    }
   ],
   "source": [
    "dates = [\"2016/01/02\", \"2016/04/12\", \"2009/09/07\"]\n",
    "pd.DatetimeIndex(dates)"
   ]
  },
  {
   "cell_type": "code",
   "execution_count": 12,
   "metadata": {
    "collapsed": false
   },
   "outputs": [],
   "source": [
    "dates = [dt.date(2016, 1, 10), dt.date(1994, 6, 13), dt.date(2003, 12, 29)]\n",
    "dtIndex = pd.DatetimeIndex(dates)"
   ]
  },
  {
   "cell_type": "code",
   "execution_count": 13,
   "metadata": {
    "collapsed": false
   },
   "outputs": [
    {
     "data": {
      "text/plain": [
       "2016-01-10    100\n",
       "1994-06-13    200\n",
       "2003-12-29    300\n",
       "dtype: int64"
      ]
     },
     "execution_count": 13,
     "metadata": {},
     "output_type": "execute_result"
    }
   ],
   "source": [
    "values = [100, 200, 300]\n",
    "pd.Series(data = values, index = dtIndex)"
   ]
  },
  {
   "cell_type": "markdown",
   "metadata": {},
   "source": [
    "## The `pd.to_datetime()` Method"
   ]
  },
  {
   "cell_type": "code",
   "execution_count": 14,
   "metadata": {
    "collapsed": false
   },
   "outputs": [
    {
     "data": {
      "text/plain": [
       "DatetimeIndex(['2015-01-03', '2014-02-08', '2016-01-01', '1996-07-04'], dtype='datetime64[ns]', freq=None)"
      ]
     },
     "execution_count": 14,
     "metadata": {},
     "output_type": "execute_result"
    }
   ],
   "source": [
    "pd.to_datetime(\"2001-04-19\")\n",
    "pd.to_datetime(dt.date(2015, 1, 1))\n",
    "pd.to_datetime(dt.datetime(2015, 1, 1, 14, 35, 20))\n",
    "pd.to_datetime([\"2015-01-03\", \"2014/02/08\", \"2016\", \"July 4th, 1996\"])"
   ]
  },
  {
   "cell_type": "code",
   "execution_count": 15,
   "metadata": {
    "collapsed": false
   },
   "outputs": [
    {
     "data": {
      "text/plain": [
       "0        2015-01-03\n",
       "1        2014/02/08\n",
       "2              2016\n",
       "3    July 4th, 1996\n",
       "dtype: object"
      ]
     },
     "execution_count": 15,
     "metadata": {},
     "output_type": "execute_result"
    }
   ],
   "source": [
    "times = pd.Series([\"2015-01-03\", \"2014/02/08\", \"2016\", \"July 4th, 1996\"])\n",
    "times"
   ]
  },
  {
   "cell_type": "code",
   "execution_count": 16,
   "metadata": {
    "collapsed": false
   },
   "outputs": [
    {
     "data": {
      "text/plain": [
       "0   2015-01-03\n",
       "1   2014-02-08\n",
       "2   2016-01-01\n",
       "3   1996-07-04\n",
       "dtype: datetime64[ns]"
      ]
     },
     "execution_count": 16,
     "metadata": {},
     "output_type": "execute_result"
    }
   ],
   "source": [
    "pd.to_datetime(times)"
   ]
  },
  {
   "cell_type": "code",
   "execution_count": 17,
   "metadata": {
    "collapsed": false
   },
   "outputs": [
    {
     "data": {
      "text/plain": [
       "0    July 4th, 1996\n",
       "1        10/04/1991\n",
       "2             Hello\n",
       "3        2015-02-31\n",
       "dtype: object"
      ]
     },
     "execution_count": 17,
     "metadata": {},
     "output_type": "execute_result"
    }
   ],
   "source": [
    "dates = pd.Series([\"July 4th, 1996\", \"10/04/1991\", \"Hello\", \"2015-02-31\"])\n",
    "dates"
   ]
  },
  {
   "cell_type": "code",
   "execution_count": 18,
   "metadata": {
    "collapsed": false
   },
   "outputs": [
    {
     "data": {
      "text/plain": [
       "0   1996-07-04\n",
       "1   1991-10-04\n",
       "2          NaT\n",
       "3          NaT\n",
       "dtype: datetime64[ns]"
      ]
     },
     "execution_count": 18,
     "metadata": {},
     "output_type": "execute_result"
    }
   ],
   "source": [
    "pd.to_datetime(dates, errors = \"coerce\")"
   ]
  },
  {
   "cell_type": "code",
   "execution_count": 19,
   "metadata": {
    "collapsed": false
   },
   "outputs": [
    {
     "data": {
      "text/plain": [
       "DatetimeIndex(['2012-10-08 18:15:05', '2012-10-09 18:15:05',\n",
       "               '2012-10-10 18:15:05', '2012-10-11 18:15:05',\n",
       "               '2012-10-12 18:15:05'],\n",
       "              dtype='datetime64[ns]', freq=None)"
      ]
     },
     "execution_count": 19,
     "metadata": {},
     "output_type": "execute_result"
    }
   ],
   "source": [
    "pd.to_datetime([1349720105, 1349806505, 1349892905, 1349979305, 1350065705], unit = \"s\")"
   ]
  },
  {
   "cell_type": "code",
   "execution_count": 20,
   "metadata": {
    "collapsed": false
   },
   "outputs": [
    {
     "data": {
      "text/plain": [
       "Period('2016-01-08', '10D')"
      ]
     },
     "execution_count": 20,
     "metadata": {},
     "output_type": "execute_result"
    }
   ],
   "source": [
    "pd.Period(\"2016-01-08\", freq = \"10D\")"
   ]
  },
  {
   "cell_type": "code",
   "execution_count": 21,
   "metadata": {
    "collapsed": false
   },
   "outputs": [
    {
     "data": {
      "text/plain": [
       "2016-01    1\n",
       "2016-02    2\n",
       "2016-03    3\n",
       "Freq: 2M, dtype: int64"
      ]
     },
     "execution_count": 21,
     "metadata": {},
     "output_type": "execute_result"
    }
   ],
   "source": [
    "dates = [\"2016-01-01\", \"2016-02-01\", \"2016-03-01\"]\n",
    "pd.Series([1, 2, 3], index = pd.PeriodIndex(dates, freq = \"2M\"))"
   ]
  },
  {
   "cell_type": "code",
   "execution_count": 22,
   "metadata": {
    "collapsed": false
   },
   "outputs": [
    {
     "data": {
      "text/plain": [
       "2015-12-29/2016-01-04    999\n",
       "2016-01-26/2016-02-01    500\n",
       "2016-01-26/2016-02-01    325\n",
       "Freq: W-MON, Name: Weekly Revenue, dtype: int64"
      ]
     },
     "execution_count": 22,
     "metadata": {},
     "output_type": "execute_result"
    }
   ],
   "source": [
    "pd.Period(\"2016-01-08\", freq = \"W\")\n",
    "pd.Period(\"2016-01-08\", freq = \"W-SUN\")\n",
    "pd.Period(\"2016-01-08\", freq = \"W-WED\")\n",
    "pd.Period(\"2015-12-10\", freq = \"10D\")\n",
    "\n",
    "dates = [\"2016-01-01\", \"2016-02-01\", \"2016-02-01\"]\n",
    "pd.PeriodIndex(dates, freq = \"W-MON\")\n",
    "weeks = pd.PeriodIndex(dates, freq = \"W-MON\")\n",
    "\n",
    "pd.Series([999, 500, 325], index = weeks, name = \"Weekly Revenue\")"
   ]
  },
  {
   "cell_type": "markdown",
   "metadata": {},
   "source": [
    "## Create Range of Dates with the `pd.date_range()` Method, Part 1"
   ]
  },
  {
   "cell_type": "code",
   "execution_count": 5,
   "metadata": {
    "collapsed": false
   },
   "outputs": [],
   "source": [
    "times = pd.date_range(start = \"2016-01-01\", end = \"2016-01-10\", freq = \"D\")"
   ]
  },
  {
   "cell_type": "code",
   "execution_count": 6,
   "metadata": {
    "collapsed": false
   },
   "outputs": [
    {
     "data": {
      "text/plain": [
       "pandas.tseries.index.DatetimeIndex"
      ]
     },
     "execution_count": 6,
     "metadata": {},
     "output_type": "execute_result"
    }
   ],
   "source": [
    "type(times)"
   ]
  },
  {
   "cell_type": "code",
   "execution_count": 9,
   "metadata": {
    "collapsed": false
   },
   "outputs": [
    {
     "data": {
      "text/plain": [
       "pandas.tslib.Timestamp"
      ]
     },
     "execution_count": 9,
     "metadata": {},
     "output_type": "execute_result"
    }
   ],
   "source": [
    "type(times[0])"
   ]
  },
  {
   "cell_type": "code",
   "execution_count": 22,
   "metadata": {
    "collapsed": false
   },
   "outputs": [
    {
     "data": {
      "text/plain": [
       "DatetimeIndex(['2016-12-31', '2017-12-31', '2018-12-31', '2019-12-31',\n",
       "               '2020-12-31', '2021-12-31', '2022-12-31', '2023-12-31',\n",
       "               '2024-12-31', '2025-12-31', '2026-12-31', '2027-12-31',\n",
       "               '2028-12-31', '2029-12-31', '2030-12-31', '2031-12-31',\n",
       "               '2032-12-31', '2033-12-31', '2034-12-31', '2035-12-31',\n",
       "               '2036-12-31', '2037-12-31', '2038-12-31', '2039-12-31',\n",
       "               '2040-12-31', '2041-12-31', '2042-12-31', '2043-12-31',\n",
       "               '2044-12-31', '2045-12-31', '2046-12-31', '2047-12-31',\n",
       "               '2048-12-31', '2049-12-31'],\n",
       "              dtype='datetime64[ns]', freq='A-DEC')"
      ]
     },
     "execution_count": 22,
     "metadata": {},
     "output_type": "execute_result"
    }
   ],
   "source": [
    "pd.date_range(start = \"2016-01-01\", end = \"2050-01-01\", freq = \"A\")"
   ]
  },
  {
   "cell_type": "code",
   "execution_count": null,
   "metadata": {
    "collapsed": true
   },
   "outputs": [],
   "source": []
  },
  {
   "cell_type": "code",
   "execution_count": null,
   "metadata": {
    "collapsed": true
   },
   "outputs": [],
   "source": []
  },
  {
   "cell_type": "code",
   "execution_count": null,
   "metadata": {
    "collapsed": true
   },
   "outputs": [],
   "source": []
  },
  {
   "cell_type": "code",
   "execution_count": null,
   "metadata": {
    "collapsed": true
   },
   "outputs": [],
   "source": []
  },
  {
   "cell_type": "code",
   "execution_count": null,
   "metadata": {
    "collapsed": true
   },
   "outputs": [],
   "source": []
  },
  {
   "cell_type": "code",
   "execution_count": null,
   "metadata": {
    "collapsed": true
   },
   "outputs": [],
   "source": []
  },
  {
   "cell_type": "code",
   "execution_count": null,
   "metadata": {
    "collapsed": true
   },
   "outputs": [],
   "source": []
  },
  {
   "cell_type": "code",
   "execution_count": null,
   "metadata": {
    "collapsed": true
   },
   "outputs": [],
   "source": []
  },
  {
   "cell_type": "code",
   "execution_count": null,
   "metadata": {
    "collapsed": true
   },
   "outputs": [],
   "source": []
  },
  {
   "cell_type": "code",
   "execution_count": null,
   "metadata": {
    "collapsed": true
   },
   "outputs": [],
   "source": []
  },
  {
   "cell_type": "code",
   "execution_count": null,
   "metadata": {
    "collapsed": true
   },
   "outputs": [],
   "source": []
  },
  {
   "cell_type": "code",
   "execution_count": null,
   "metadata": {
    "collapsed": true
   },
   "outputs": [],
   "source": []
  },
  {
   "cell_type": "code",
   "execution_count": null,
   "metadata": {
    "collapsed": true
   },
   "outputs": [],
   "source": []
  },
  {
   "cell_type": "code",
   "execution_count": null,
   "metadata": {
    "collapsed": true
   },
   "outputs": [],
   "source": []
  },
  {
   "cell_type": "code",
   "execution_count": null,
   "metadata": {
    "collapsed": true
   },
   "outputs": [],
   "source": []
  },
  {
   "cell_type": "code",
   "execution_count": null,
   "metadata": {
    "collapsed": true
   },
   "outputs": [],
   "source": []
  },
  {
   "cell_type": "code",
   "execution_count": null,
   "metadata": {
    "collapsed": true
   },
   "outputs": [],
   "source": []
  },
  {
   "cell_type": "code",
   "execution_count": null,
   "metadata": {
    "collapsed": true
   },
   "outputs": [],
   "source": []
  },
  {
   "cell_type": "code",
   "execution_count": null,
   "metadata": {
    "collapsed": true
   },
   "outputs": [],
   "source": []
  },
  {
   "cell_type": "markdown",
   "metadata": {},
   "source": [
    "## Create Range of Dates with the `pd.date_range()` Method, Part 2"
   ]
  },
  {
   "cell_type": "code",
   "execution_count": 27,
   "metadata": {
    "collapsed": false
   },
   "outputs": [
    {
     "data": {
      "text/plain": [
       "DatetimeIndex(['2012-09-09 00:00:00', '2012-09-09 06:00:00',\n",
       "               '2012-09-09 12:00:00', '2012-09-09 18:00:00',\n",
       "               '2012-09-10 00:00:00', '2012-09-10 06:00:00',\n",
       "               '2012-09-10 12:00:00', '2012-09-10 18:00:00',\n",
       "               '2012-09-11 00:00:00', '2012-09-11 06:00:00',\n",
       "               '2012-09-11 12:00:00', '2012-09-11 18:00:00',\n",
       "               '2012-09-12 00:00:00', '2012-09-12 06:00:00',\n",
       "               '2012-09-12 12:00:00', '2012-09-12 18:00:00',\n",
       "               '2012-09-13 00:00:00', '2012-09-13 06:00:00',\n",
       "               '2012-09-13 12:00:00', '2012-09-13 18:00:00',\n",
       "               '2012-09-14 00:00:00', '2012-09-14 06:00:00',\n",
       "               '2012-09-14 12:00:00', '2012-09-14 18:00:00',\n",
       "               '2012-09-15 00:00:00', '2012-09-15 06:00:00',\n",
       "               '2012-09-15 12:00:00', '2012-09-15 18:00:00',\n",
       "               '2012-09-16 00:00:00', '2012-09-16 06:00:00',\n",
       "               '2012-09-16 12:00:00', '2012-09-16 18:00:00',\n",
       "               '2012-09-17 00:00:00', '2012-09-17 06:00:00',\n",
       "               '2012-09-17 12:00:00', '2012-09-17 18:00:00',\n",
       "               '2012-09-18 00:00:00', '2012-09-18 06:00:00',\n",
       "               '2012-09-18 12:00:00', '2012-09-18 18:00:00',\n",
       "               '2012-09-19 00:00:00', '2012-09-19 06:00:00',\n",
       "               '2012-09-19 12:00:00', '2012-09-19 18:00:00',\n",
       "               '2012-09-20 00:00:00', '2012-09-20 06:00:00',\n",
       "               '2012-09-20 12:00:00', '2012-09-20 18:00:00',\n",
       "               '2012-09-21 00:00:00', '2012-09-21 06:00:00'],\n",
       "              dtype='datetime64[ns]', freq='6H')"
      ]
     },
     "execution_count": 27,
     "metadata": {},
     "output_type": "execute_result"
    }
   ],
   "source": [
    "pd.date_range(start = \"2012-09-09\", periods = 50, freq = \"6H\")"
   ]
  },
  {
   "cell_type": "markdown",
   "metadata": {},
   "source": [
    "## Create Range of Dates with the `pd.date_range()` Method, Part 3"
   ]
  },
  {
   "cell_type": "code",
   "execution_count": 28,
   "metadata": {
    "collapsed": false
   },
   "outputs": [
    {
     "data": {
      "text/plain": [
       "DatetimeIndex(['1999-12-02 03:00:00', '1999-12-02 10:00:00',\n",
       "               '1999-12-02 17:00:00', '1999-12-03 00:00:00',\n",
       "               '1999-12-03 07:00:00', '1999-12-03 14:00:00',\n",
       "               '1999-12-03 21:00:00', '1999-12-04 04:00:00',\n",
       "               '1999-12-04 11:00:00', '1999-12-04 18:00:00',\n",
       "               '1999-12-05 01:00:00', '1999-12-05 08:00:00',\n",
       "               '1999-12-05 15:00:00', '1999-12-05 22:00:00',\n",
       "               '1999-12-06 05:00:00', '1999-12-06 12:00:00',\n",
       "               '1999-12-06 19:00:00', '1999-12-07 02:00:00',\n",
       "               '1999-12-07 09:00:00', '1999-12-07 16:00:00',\n",
       "               '1999-12-07 23:00:00', '1999-12-08 06:00:00',\n",
       "               '1999-12-08 13:00:00', '1999-12-08 20:00:00',\n",
       "               '1999-12-09 03:00:00', '1999-12-09 10:00:00',\n",
       "               '1999-12-09 17:00:00', '1999-12-10 00:00:00',\n",
       "               '1999-12-10 07:00:00', '1999-12-10 14:00:00',\n",
       "               '1999-12-10 21:00:00', '1999-12-11 04:00:00',\n",
       "               '1999-12-11 11:00:00', '1999-12-11 18:00:00',\n",
       "               '1999-12-12 01:00:00', '1999-12-12 08:00:00',\n",
       "               '1999-12-12 15:00:00', '1999-12-12 22:00:00',\n",
       "               '1999-12-13 05:00:00', '1999-12-13 12:00:00',\n",
       "               '1999-12-13 19:00:00', '1999-12-14 02:00:00',\n",
       "               '1999-12-14 09:00:00', '1999-12-14 16:00:00',\n",
       "               '1999-12-14 23:00:00', '1999-12-15 06:00:00',\n",
       "               '1999-12-15 13:00:00', '1999-12-15 20:00:00',\n",
       "               '1999-12-16 03:00:00', '1999-12-16 10:00:00',\n",
       "               '1999-12-16 17:00:00', '1999-12-17 00:00:00',\n",
       "               '1999-12-17 07:00:00', '1999-12-17 14:00:00',\n",
       "               '1999-12-17 21:00:00', '1999-12-18 04:00:00',\n",
       "               '1999-12-18 11:00:00', '1999-12-18 18:00:00',\n",
       "               '1999-12-19 01:00:00', '1999-12-19 08:00:00',\n",
       "               '1999-12-19 15:00:00', '1999-12-19 22:00:00',\n",
       "               '1999-12-20 05:00:00', '1999-12-20 12:00:00',\n",
       "               '1999-12-20 19:00:00', '1999-12-21 02:00:00',\n",
       "               '1999-12-21 09:00:00', '1999-12-21 16:00:00',\n",
       "               '1999-12-21 23:00:00', '1999-12-22 06:00:00',\n",
       "               '1999-12-22 13:00:00', '1999-12-22 20:00:00',\n",
       "               '1999-12-23 03:00:00', '1999-12-23 10:00:00',\n",
       "               '1999-12-23 17:00:00', '1999-12-24 00:00:00',\n",
       "               '1999-12-24 07:00:00', '1999-12-24 14:00:00',\n",
       "               '1999-12-24 21:00:00', '1999-12-25 04:00:00',\n",
       "               '1999-12-25 11:00:00', '1999-12-25 18:00:00',\n",
       "               '1999-12-26 01:00:00', '1999-12-26 08:00:00',\n",
       "               '1999-12-26 15:00:00', '1999-12-26 22:00:00',\n",
       "               '1999-12-27 05:00:00', '1999-12-27 12:00:00',\n",
       "               '1999-12-27 19:00:00', '1999-12-28 02:00:00',\n",
       "               '1999-12-28 09:00:00', '1999-12-28 16:00:00',\n",
       "               '1999-12-28 23:00:00', '1999-12-29 06:00:00',\n",
       "               '1999-12-29 13:00:00', '1999-12-29 20:00:00',\n",
       "               '1999-12-30 03:00:00', '1999-12-30 10:00:00',\n",
       "               '1999-12-30 17:00:00', '1999-12-31 00:00:00'],\n",
       "              dtype='datetime64[ns]', freq='7H')"
      ]
     },
     "execution_count": 28,
     "metadata": {},
     "output_type": "execute_result"
    }
   ],
   "source": [
    "pd.date_range(end = \"1999-12-31\", periods = 100, freq = \"7H\")"
   ]
  },
  {
   "cell_type": "markdown",
   "metadata": {},
   "source": [
    "## The `.dt` Accessor"
   ]
  },
  {
   "cell_type": "code",
   "execution_count": 29,
   "metadata": {
    "collapsed": false
   },
   "outputs": [],
   "source": [
    "bunch_of_dates = pd.date_range(start = \"2000-01-01\", end = \"2010-12-31\", freq = \"24D\")"
   ]
  },
  {
   "cell_type": "code",
   "execution_count": 30,
   "metadata": {
    "collapsed": false
   },
   "outputs": [
    {
     "data": {
      "text/plain": [
       "0   2000-01-01\n",
       "1   2000-01-25\n",
       "2   2000-02-18\n",
       "dtype: datetime64[ns]"
      ]
     },
     "execution_count": 30,
     "metadata": {},
     "output_type": "execute_result"
    }
   ],
   "source": [
    "s = pd.Series(bunch_of_dates)\n",
    "s.head(3)"
   ]
  },
  {
   "cell_type": "code",
   "execution_count": 31,
   "metadata": {
    "collapsed": false
   },
   "outputs": [
    {
     "data": {
      "text/plain": [
       "5     2000-04-30\n",
       "57    2003-09-30\n",
       "71    2004-08-31\n",
       "90    2005-11-30\n",
       "123   2008-01-31\n",
       "161   2010-07-31\n",
       "dtype: datetime64[ns]"
      ]
     },
     "execution_count": 31,
     "metadata": {},
     "output_type": "execute_result"
    }
   ],
   "source": [
    "mask = s.dt.is_month_end\n",
    "s[mask]"
   ]
  },
  {
   "cell_type": "markdown",
   "metadata": {
    "collapsed": true
   },
   "source": [
    "## Import Financial Data Set with `pandas_datareader` Library"
   ]
  },
  {
   "cell_type": "code",
   "execution_count": 33,
   "metadata": {
    "collapsed": true
   },
   "outputs": [],
   "source": [
    "import pandas as pd\n",
    "import datetime as dt\n",
    "from pandas_datareader import data"
   ]
  },
  {
   "cell_type": "code",
   "execution_count": 35,
   "metadata": {
    "collapsed": false
   },
   "outputs": [
    {
     "data": {
      "text/html": [
       "<div>\n",
       "<table border=\"1\" class=\"dataframe\">\n",
       "  <thead>\n",
       "    <tr style=\"text-align: right;\">\n",
       "      <th></th>\n",
       "      <th>Open</th>\n",
       "      <th>High</th>\n",
       "      <th>Low</th>\n",
       "      <th>Close</th>\n",
       "      <th>Volume</th>\n",
       "    </tr>\n",
       "    <tr>\n",
       "      <th>Date</th>\n",
       "      <th></th>\n",
       "      <th></th>\n",
       "      <th></th>\n",
       "      <th></th>\n",
       "      <th></th>\n",
       "    </tr>\n",
       "  </thead>\n",
       "  <tbody>\n",
       "    <tr>\n",
       "      <th>2010-01-04</th>\n",
       "      <td>30.62</td>\n",
       "      <td>31.10</td>\n",
       "      <td>30.59</td>\n",
       "      <td>30.95</td>\n",
       "      <td>38414185</td>\n",
       "    </tr>\n",
       "    <tr>\n",
       "      <th>2010-01-05</th>\n",
       "      <td>30.85</td>\n",
       "      <td>31.10</td>\n",
       "      <td>30.64</td>\n",
       "      <td>30.96</td>\n",
       "      <td>49758862</td>\n",
       "    </tr>\n",
       "    <tr>\n",
       "      <th>2010-01-06</th>\n",
       "      <td>30.88</td>\n",
       "      <td>31.08</td>\n",
       "      <td>30.52</td>\n",
       "      <td>30.77</td>\n",
       "      <td>58182332</td>\n",
       "    </tr>\n",
       "  </tbody>\n",
       "</table>\n",
       "</div>"
      ],
      "text/plain": [
       "             Open   High    Low  Close    Volume\n",
       "Date                                            \n",
       "2010-01-04  30.62  31.10  30.59  30.95  38414185\n",
       "2010-01-05  30.85  31.10  30.64  30.96  49758862\n",
       "2010-01-06  30.88  31.08  30.52  30.77  58182332"
      ]
     },
     "execution_count": 35,
     "metadata": {},
     "output_type": "execute_result"
    }
   ],
   "source": [
    "company = \"MSFT\"\n",
    "start = \"2010-01-01\"\n",
    "end = \"2017-12-31\"\n",
    "\n",
    "stocks = data.DataReader(name = company, data_source = \"google\", start = start, end = end)\n",
    "stocks.head(3)"
   ]
  },
  {
   "cell_type": "code",
   "execution_count": 40,
   "metadata": {
    "collapsed": false
   },
   "outputs": [
    {
     "data": {
      "text/plain": [
       "[DatetimeIndex(['2010-01-04', '2010-01-05', '2010-01-06', '2010-01-07',\n",
       "                '2010-01-08', '2010-01-11', '2010-01-12', '2010-01-13',\n",
       "                '2010-01-14', '2010-01-15',\n",
       "                ...\n",
       "                '2016-09-02', '2016-09-06', '2016-09-07', '2016-09-08',\n",
       "                '2016-09-09', '2016-09-12', '2016-09-13', '2016-09-14',\n",
       "                '2016-09-15', '2016-09-16'],\n",
       "               dtype='datetime64[ns]', name='Date', length=1688, freq=None),\n",
       " Index(['Open', 'High', 'Low', 'Close', 'Volume'], dtype='object')]"
      ]
     },
     "execution_count": 40,
     "metadata": {},
     "output_type": "execute_result"
    }
   ],
   "source": [
    "stocks.values\n",
    "stocks.columns\n",
    "stocks.index[0]\n",
    "stocks.axes"
   ]
  },
  {
   "cell_type": "markdown",
   "metadata": {
    "collapsed": true
   },
   "source": [
    "## Selecting from a `DataFrame` with a `DateTimeIndex`"
   ]
  },
  {
   "cell_type": "code",
   "execution_count": 57,
   "metadata": {
    "collapsed": false
   },
   "outputs": [
    {
     "data": {
      "text/html": [
       "<div>\n",
       "<table border=\"1\" class=\"dataframe\">\n",
       "  <thead>\n",
       "    <tr style=\"text-align: right;\">\n",
       "      <th></th>\n",
       "      <th>Open</th>\n",
       "      <th>High</th>\n",
       "      <th>Low</th>\n",
       "      <th>Close</th>\n",
       "      <th>Volume</th>\n",
       "    </tr>\n",
       "    <tr>\n",
       "      <th>Date</th>\n",
       "      <th></th>\n",
       "      <th></th>\n",
       "      <th></th>\n",
       "      <th></th>\n",
       "      <th></th>\n",
       "    </tr>\n",
       "  </thead>\n",
       "  <tbody>\n",
       "    <tr>\n",
       "      <th>2010-01-04</th>\n",
       "      <td>30.62</td>\n",
       "      <td>31.10</td>\n",
       "      <td>30.59</td>\n",
       "      <td>30.95</td>\n",
       "      <td>38414185</td>\n",
       "    </tr>\n",
       "    <tr>\n",
       "      <th>2010-01-05</th>\n",
       "      <td>30.85</td>\n",
       "      <td>31.10</td>\n",
       "      <td>30.64</td>\n",
       "      <td>30.96</td>\n",
       "      <td>49758862</td>\n",
       "    </tr>\n",
       "    <tr>\n",
       "      <th>2010-01-06</th>\n",
       "      <td>30.88</td>\n",
       "      <td>31.08</td>\n",
       "      <td>30.52</td>\n",
       "      <td>30.77</td>\n",
       "      <td>58182332</td>\n",
       "    </tr>\n",
       "  </tbody>\n",
       "</table>\n",
       "</div>"
      ],
      "text/plain": [
       "             Open   High    Low  Close    Volume\n",
       "Date                                            \n",
       "2010-01-04  30.62  31.10  30.59  30.95  38414185\n",
       "2010-01-05  30.85  31.10  30.64  30.96  49758862\n",
       "2010-01-06  30.88  31.08  30.52  30.77  58182332"
      ]
     },
     "execution_count": 57,
     "metadata": {},
     "output_type": "execute_result"
    }
   ],
   "source": [
    "stocks = data.DataReader(name = company, data_source = \"google\", start = start, end = end)\n",
    "stocks.head(3)"
   ]
  },
  {
   "cell_type": "code",
   "execution_count": 61,
   "metadata": {
    "collapsed": false
   },
   "outputs": [
    {
     "data": {
      "text/plain": [
       "Open            25.08\n",
       "High            25.47\n",
       "Low             25.00\n",
       "Close           25.39\n",
       "Volume    76064201.00\n",
       "Name: 2011-03-15 00:00:00, dtype: float64"
      ]
     },
     "execution_count": 61,
     "metadata": {},
     "output_type": "execute_result"
    }
   ],
   "source": [
    "stocks.loc[\"2014-03-04\"]\n",
    "stocks.iloc[300]\n",
    "stocks.ix[\"2014-03-04\"]\n",
    "stocks.ix[300]"
   ]
  },
  {
   "cell_type": "code",
   "execution_count": 62,
   "metadata": {
    "collapsed": true
   },
   "outputs": [
    {
     "ename": "KeyError",
     "evalue": "'2016-01-01'",
     "output_type": "error",
     "traceback": [
      "\u001b[0;31m---------------------------------------------------------------------------\u001b[0m",
      "\u001b[0;31mTypeError\u001b[0m                                 Traceback (most recent call last)",
      "\u001b[0;32mpandas/index.pyx\u001b[0m in \u001b[0;36mpandas.index.DatetimeEngine.get_loc (pandas/index.c:10990)\u001b[0;34m()\u001b[0m\n",
      "\u001b[0;32mpandas/hashtable.pyx\u001b[0m in \u001b[0;36mpandas.hashtable.Int64HashTable.get_item (pandas/hashtable.c:6589)\u001b[0;34m()\u001b[0m\n",
      "\u001b[0;31mTypeError\u001b[0m: an integer is required",
      "\nDuring handling of the above exception, another exception occurred:\n",
      "\u001b[0;31mKeyError\u001b[0m                                  Traceback (most recent call last)",
      "\u001b[0;32m/Users/borisp/anaconda/envs/3.5/lib/python3.5/site-packages/pandas/indexes/base.py\u001b[0m in \u001b[0;36mget_loc\u001b[0;34m(self, key, method, tolerance)\u001b[0m\n\u001b[1;32m   1944\u001b[0m             \u001b[0;32mtry\u001b[0m\u001b[0;34m:\u001b[0m\u001b[0;34m\u001b[0m\u001b[0m\n\u001b[0;32m-> 1945\u001b[0;31m                 \u001b[0;32mreturn\u001b[0m \u001b[0mself\u001b[0m\u001b[0;34m.\u001b[0m\u001b[0m_engine\u001b[0m\u001b[0;34m.\u001b[0m\u001b[0mget_loc\u001b[0m\u001b[0;34m(\u001b[0m\u001b[0mkey\u001b[0m\u001b[0;34m)\u001b[0m\u001b[0;34m\u001b[0m\u001b[0m\n\u001b[0m\u001b[1;32m   1946\u001b[0m             \u001b[0;32mexcept\u001b[0m \u001b[0mKeyError\u001b[0m\u001b[0;34m:\u001b[0m\u001b[0;34m\u001b[0m\u001b[0m\n",
      "\u001b[0;32mpandas/index.pyx\u001b[0m in \u001b[0;36mpandas.index.DatetimeEngine.get_loc (pandas/index.c:11140)\u001b[0;34m()\u001b[0m\n",
      "\u001b[0;32mpandas/index.pyx\u001b[0m in \u001b[0;36mpandas.index.DatetimeEngine.get_loc (pandas/index.c:11046)\u001b[0;34m()\u001b[0m\n",
      "\u001b[0;32mpandas/index.pyx\u001b[0m in \u001b[0;36mpandas.index.DatetimeEngine._date_check_type (pandas/index.c:11210)\u001b[0;34m()\u001b[0m\n",
      "\u001b[0;31mKeyError\u001b[0m: '2016-01-01'",
      "\nDuring handling of the above exception, another exception occurred:\n",
      "\u001b[0;31mTypeError\u001b[0m                                 Traceback (most recent call last)",
      "\u001b[0;32mpandas/index.pyx\u001b[0m in \u001b[0;36mpandas.index.DatetimeEngine.get_loc (pandas/index.c:10990)\u001b[0;34m()\u001b[0m\n",
      "\u001b[0;32mpandas/hashtable.pyx\u001b[0m in \u001b[0;36mpandas.hashtable.Int64HashTable.get_item (pandas/hashtable.c:6589)\u001b[0;34m()\u001b[0m\n",
      "\u001b[0;31mTypeError\u001b[0m: an integer is required",
      "\nDuring handling of the above exception, another exception occurred:\n",
      "\u001b[0;31mKeyError\u001b[0m                                  Traceback (most recent call last)",
      "\u001b[0;32m/Users/borisp/anaconda/envs/3.5/lib/python3.5/site-packages/pandas/tseries/index.py\u001b[0m in \u001b[0;36mget_loc\u001b[0;34m(self, key, method, tolerance)\u001b[0m\n\u001b[1;32m   1430\u001b[0m         \u001b[0;32mtry\u001b[0m\u001b[0;34m:\u001b[0m\u001b[0;34m\u001b[0m\u001b[0m\n\u001b[0;32m-> 1431\u001b[0;31m             \u001b[0;32mreturn\u001b[0m \u001b[0mIndex\u001b[0m\u001b[0;34m.\u001b[0m\u001b[0mget_loc\u001b[0m\u001b[0;34m(\u001b[0m\u001b[0mself\u001b[0m\u001b[0;34m,\u001b[0m \u001b[0mkey\u001b[0m\u001b[0;34m,\u001b[0m \u001b[0mmethod\u001b[0m\u001b[0;34m,\u001b[0m \u001b[0mtolerance\u001b[0m\u001b[0;34m)\u001b[0m\u001b[0;34m\u001b[0m\u001b[0m\n\u001b[0m\u001b[1;32m   1432\u001b[0m         \u001b[0;32mexcept\u001b[0m \u001b[0;34m(\u001b[0m\u001b[0mKeyError\u001b[0m\u001b[0;34m,\u001b[0m \u001b[0mValueError\u001b[0m\u001b[0;34m,\u001b[0m \u001b[0mTypeError\u001b[0m\u001b[0;34m)\u001b[0m\u001b[0;34m:\u001b[0m\u001b[0;34m\u001b[0m\u001b[0m\n",
      "\u001b[0;32m/Users/borisp/anaconda/envs/3.5/lib/python3.5/site-packages/pandas/indexes/base.py\u001b[0m in \u001b[0;36mget_loc\u001b[0;34m(self, key, method, tolerance)\u001b[0m\n\u001b[1;32m   1946\u001b[0m             \u001b[0;32mexcept\u001b[0m \u001b[0mKeyError\u001b[0m\u001b[0;34m:\u001b[0m\u001b[0;34m\u001b[0m\u001b[0m\n\u001b[0;32m-> 1947\u001b[0;31m                 \u001b[0;32mreturn\u001b[0m \u001b[0mself\u001b[0m\u001b[0;34m.\u001b[0m\u001b[0m_engine\u001b[0m\u001b[0;34m.\u001b[0m\u001b[0mget_loc\u001b[0m\u001b[0;34m(\u001b[0m\u001b[0mself\u001b[0m\u001b[0;34m.\u001b[0m\u001b[0m_maybe_cast_indexer\u001b[0m\u001b[0;34m(\u001b[0m\u001b[0mkey\u001b[0m\u001b[0;34m)\u001b[0m\u001b[0;34m)\u001b[0m\u001b[0;34m\u001b[0m\u001b[0m\n\u001b[0m\u001b[1;32m   1948\u001b[0m \u001b[0;34m\u001b[0m\u001b[0m\n",
      "\u001b[0;32mpandas/index.pyx\u001b[0m in \u001b[0;36mpandas.index.DatetimeEngine.get_loc (pandas/index.c:11140)\u001b[0;34m()\u001b[0m\n",
      "\u001b[0;32mpandas/index.pyx\u001b[0m in \u001b[0;36mpandas.index.DatetimeEngine.get_loc (pandas/index.c:11046)\u001b[0;34m()\u001b[0m\n",
      "\u001b[0;32mpandas/index.pyx\u001b[0m in \u001b[0;36mpandas.index.DatetimeEngine._date_check_type (pandas/index.c:11210)\u001b[0;34m()\u001b[0m\n",
      "\u001b[0;31mKeyError\u001b[0m: '2016-01-01'",
      "\nDuring handling of the above exception, another exception occurred:\n",
      "\u001b[0;31mKeyError\u001b[0m                                  Traceback (most recent call last)",
      "\u001b[0;32mpandas/index.pyx\u001b[0m in \u001b[0;36mpandas.index.DatetimeEngine.get_loc (pandas/index.c:10828)\u001b[0;34m()\u001b[0m\n",
      "\u001b[0;32mpandas/hashtable.pyx\u001b[0m in \u001b[0;36mpandas.hashtable.Int64HashTable.get_item (pandas/hashtable.c:6610)\u001b[0;34m()\u001b[0m\n",
      "\u001b[0;32mpandas/hashtable.pyx\u001b[0m in \u001b[0;36mpandas.hashtable.Int64HashTable.get_item (pandas/hashtable.c:6554)\u001b[0;34m()\u001b[0m\n",
      "\u001b[0;31mKeyError\u001b[0m: 1451606400000000000",
      "\nDuring handling of the above exception, another exception occurred:\n",
      "\u001b[0;31mKeyError\u001b[0m                                  Traceback (most recent call last)",
      "\u001b[0;32m/Users/borisp/anaconda/envs/3.5/lib/python3.5/site-packages/pandas/indexes/base.py\u001b[0m in \u001b[0;36mget_loc\u001b[0;34m(self, key, method, tolerance)\u001b[0m\n\u001b[1;32m   1944\u001b[0m             \u001b[0;32mtry\u001b[0m\u001b[0;34m:\u001b[0m\u001b[0;34m\u001b[0m\u001b[0m\n\u001b[0;32m-> 1945\u001b[0;31m                 \u001b[0;32mreturn\u001b[0m \u001b[0mself\u001b[0m\u001b[0;34m.\u001b[0m\u001b[0m_engine\u001b[0m\u001b[0;34m.\u001b[0m\u001b[0mget_loc\u001b[0m\u001b[0;34m(\u001b[0m\u001b[0mkey\u001b[0m\u001b[0;34m)\u001b[0m\u001b[0;34m\u001b[0m\u001b[0m\n\u001b[0m\u001b[1;32m   1946\u001b[0m             \u001b[0;32mexcept\u001b[0m \u001b[0mKeyError\u001b[0m\u001b[0;34m:\u001b[0m\u001b[0;34m\u001b[0m\u001b[0m\n",
      "\u001b[0;32mpandas/index.pyx\u001b[0m in \u001b[0;36mpandas.index.DatetimeEngine.get_loc (pandas/index.c:11140)\u001b[0;34m()\u001b[0m\n",
      "\u001b[0;32mpandas/index.pyx\u001b[0m in \u001b[0;36mpandas.index.DatetimeEngine.get_loc (pandas/index.c:10895)\u001b[0;34m()\u001b[0m\n",
      "\u001b[0;31mKeyError\u001b[0m: Timestamp('2016-01-01 00:00:00')",
      "\nDuring handling of the above exception, another exception occurred:\n",
      "\u001b[0;31mKeyError\u001b[0m                                  Traceback (most recent call last)",
      "\u001b[0;32mpandas/index.pyx\u001b[0m in \u001b[0;36mpandas.index.DatetimeEngine.get_loc (pandas/index.c:10828)\u001b[0;34m()\u001b[0m\n",
      "\u001b[0;32mpandas/hashtable.pyx\u001b[0m in \u001b[0;36mpandas.hashtable.Int64HashTable.get_item (pandas/hashtable.c:6610)\u001b[0;34m()\u001b[0m\n",
      "\u001b[0;32mpandas/hashtable.pyx\u001b[0m in \u001b[0;36mpandas.hashtable.Int64HashTable.get_item (pandas/hashtable.c:6554)\u001b[0;34m()\u001b[0m\n",
      "\u001b[0;31mKeyError\u001b[0m: 1451606400000000000",
      "\nDuring handling of the above exception, another exception occurred:\n",
      "\u001b[0;31mKeyError\u001b[0m                                  Traceback (most recent call last)",
      "\u001b[0;32m/Users/borisp/anaconda/envs/3.5/lib/python3.5/site-packages/pandas/tseries/index.py\u001b[0m in \u001b[0;36mget_loc\u001b[0;34m(self, key, method, tolerance)\u001b[0m\n\u001b[1;32m   1439\u001b[0m                 \u001b[0mstamp\u001b[0m \u001b[0;34m=\u001b[0m \u001b[0mTimestamp\u001b[0m\u001b[0;34m(\u001b[0m\u001b[0mkey\u001b[0m\u001b[0;34m,\u001b[0m \u001b[0mtz\u001b[0m\u001b[0;34m=\u001b[0m\u001b[0mself\u001b[0m\u001b[0;34m.\u001b[0m\u001b[0mtz\u001b[0m\u001b[0;34m)\u001b[0m\u001b[0;34m\u001b[0m\u001b[0m\n\u001b[0;32m-> 1440\u001b[0;31m                 \u001b[0;32mreturn\u001b[0m \u001b[0mIndex\u001b[0m\u001b[0;34m.\u001b[0m\u001b[0mget_loc\u001b[0m\u001b[0;34m(\u001b[0m\u001b[0mself\u001b[0m\u001b[0;34m,\u001b[0m \u001b[0mstamp\u001b[0m\u001b[0;34m,\u001b[0m \u001b[0mmethod\u001b[0m\u001b[0;34m,\u001b[0m \u001b[0mtolerance\u001b[0m\u001b[0;34m)\u001b[0m\u001b[0;34m\u001b[0m\u001b[0m\n\u001b[0m\u001b[1;32m   1441\u001b[0m             \u001b[0;32mexcept\u001b[0m \u001b[0;34m(\u001b[0m\u001b[0mKeyError\u001b[0m\u001b[0;34m,\u001b[0m \u001b[0mValueError\u001b[0m\u001b[0;34m)\u001b[0m\u001b[0;34m:\u001b[0m\u001b[0;34m\u001b[0m\u001b[0m\n",
      "\u001b[0;32m/Users/borisp/anaconda/envs/3.5/lib/python3.5/site-packages/pandas/indexes/base.py\u001b[0m in \u001b[0;36mget_loc\u001b[0;34m(self, key, method, tolerance)\u001b[0m\n\u001b[1;32m   1946\u001b[0m             \u001b[0;32mexcept\u001b[0m \u001b[0mKeyError\u001b[0m\u001b[0;34m:\u001b[0m\u001b[0;34m\u001b[0m\u001b[0m\n\u001b[0;32m-> 1947\u001b[0;31m                 \u001b[0;32mreturn\u001b[0m \u001b[0mself\u001b[0m\u001b[0;34m.\u001b[0m\u001b[0m_engine\u001b[0m\u001b[0;34m.\u001b[0m\u001b[0mget_loc\u001b[0m\u001b[0;34m(\u001b[0m\u001b[0mself\u001b[0m\u001b[0;34m.\u001b[0m\u001b[0m_maybe_cast_indexer\u001b[0m\u001b[0;34m(\u001b[0m\u001b[0mkey\u001b[0m\u001b[0;34m)\u001b[0m\u001b[0;34m)\u001b[0m\u001b[0;34m\u001b[0m\u001b[0m\n\u001b[0m\u001b[1;32m   1948\u001b[0m \u001b[0;34m\u001b[0m\u001b[0m\n",
      "\u001b[0;32mpandas/index.pyx\u001b[0m in \u001b[0;36mpandas.index.DatetimeEngine.get_loc (pandas/index.c:11140)\u001b[0;34m()\u001b[0m\n",
      "\u001b[0;32mpandas/index.pyx\u001b[0m in \u001b[0;36mpandas.index.DatetimeEngine.get_loc (pandas/index.c:10895)\u001b[0;34m()\u001b[0m\n",
      "\u001b[0;31mKeyError\u001b[0m: Timestamp('2016-01-01 00:00:00')",
      "\nDuring handling of the above exception, another exception occurred:\n",
      "\u001b[0;31mKeyError\u001b[0m                                  Traceback (most recent call last)",
      "\u001b[0;32m<ipython-input-62-7bfeb55d4b0b>\u001b[0m in \u001b[0;36m<module>\u001b[0;34m()\u001b[0m\n\u001b[0;32m----> 1\u001b[0;31m \u001b[0mstocks\u001b[0m\u001b[0;34m.\u001b[0m\u001b[0mix\u001b[0m\u001b[0;34m[\u001b[0m\u001b[0;34m\"2016-01-01\"\u001b[0m\u001b[0;34m]\u001b[0m\u001b[0;34m\u001b[0m\u001b[0m\n\u001b[0m",
      "\u001b[0;32m/Users/borisp/anaconda/envs/3.5/lib/python3.5/site-packages/pandas/core/indexing.py\u001b[0m in \u001b[0;36m__getitem__\u001b[0;34m(self, key)\u001b[0m\n\u001b[1;32m     76\u001b[0m         \u001b[0;32melse\u001b[0m\u001b[0;34m:\u001b[0m\u001b[0;34m\u001b[0m\u001b[0m\n\u001b[1;32m     77\u001b[0m             \u001b[0mkey\u001b[0m \u001b[0;34m=\u001b[0m \u001b[0mcom\u001b[0m\u001b[0;34m.\u001b[0m\u001b[0m_apply_if_callable\u001b[0m\u001b[0;34m(\u001b[0m\u001b[0mkey\u001b[0m\u001b[0;34m,\u001b[0m \u001b[0mself\u001b[0m\u001b[0;34m.\u001b[0m\u001b[0mobj\u001b[0m\u001b[0;34m)\u001b[0m\u001b[0;34m\u001b[0m\u001b[0m\n\u001b[0;32m---> 78\u001b[0;31m             \u001b[0;32mreturn\u001b[0m \u001b[0mself\u001b[0m\u001b[0;34m.\u001b[0m\u001b[0m_getitem_axis\u001b[0m\u001b[0;34m(\u001b[0m\u001b[0mkey\u001b[0m\u001b[0;34m,\u001b[0m \u001b[0maxis\u001b[0m\u001b[0;34m=\u001b[0m\u001b[0;36m0\u001b[0m\u001b[0;34m)\u001b[0m\u001b[0;34m\u001b[0m\u001b[0m\n\u001b[0m\u001b[1;32m     79\u001b[0m \u001b[0;34m\u001b[0m\u001b[0m\n\u001b[1;32m     80\u001b[0m     \u001b[0;32mdef\u001b[0m \u001b[0m_get_label\u001b[0m\u001b[0;34m(\u001b[0m\u001b[0mself\u001b[0m\u001b[0;34m,\u001b[0m \u001b[0mlabel\u001b[0m\u001b[0;34m,\u001b[0m \u001b[0maxis\u001b[0m\u001b[0;34m=\u001b[0m\u001b[0;36m0\u001b[0m\u001b[0;34m)\u001b[0m\u001b[0;34m:\u001b[0m\u001b[0;34m\u001b[0m\u001b[0m\n",
      "\u001b[0;32m/Users/borisp/anaconda/envs/3.5/lib/python3.5/site-packages/pandas/core/indexing.py\u001b[0m in \u001b[0;36m_getitem_axis\u001b[0;34m(self, key, axis)\u001b[0m\n\u001b[1;32m   1016\u001b[0m                     \u001b[0;32mreturn\u001b[0m \u001b[0mself\u001b[0m\u001b[0;34m.\u001b[0m\u001b[0m_get_loc\u001b[0m\u001b[0;34m(\u001b[0m\u001b[0mkey\u001b[0m\u001b[0;34m,\u001b[0m \u001b[0maxis\u001b[0m\u001b[0;34m=\u001b[0m\u001b[0maxis\u001b[0m\u001b[0;34m)\u001b[0m\u001b[0;34m\u001b[0m\u001b[0m\n\u001b[1;32m   1017\u001b[0m \u001b[0;34m\u001b[0m\u001b[0m\n\u001b[0;32m-> 1018\u001b[0;31m             \u001b[0;32mreturn\u001b[0m \u001b[0mself\u001b[0m\u001b[0;34m.\u001b[0m\u001b[0m_get_label\u001b[0m\u001b[0;34m(\u001b[0m\u001b[0mkey\u001b[0m\u001b[0;34m,\u001b[0m \u001b[0maxis\u001b[0m\u001b[0;34m=\u001b[0m\u001b[0maxis\u001b[0m\u001b[0;34m)\u001b[0m\u001b[0;34m\u001b[0m\u001b[0m\n\u001b[0m\u001b[1;32m   1019\u001b[0m \u001b[0;34m\u001b[0m\u001b[0m\n\u001b[1;32m   1020\u001b[0m     \u001b[0;32mdef\u001b[0m \u001b[0m_getitem_iterable\u001b[0m\u001b[0;34m(\u001b[0m\u001b[0mself\u001b[0m\u001b[0;34m,\u001b[0m \u001b[0mkey\u001b[0m\u001b[0;34m,\u001b[0m \u001b[0maxis\u001b[0m\u001b[0;34m=\u001b[0m\u001b[0;36m0\u001b[0m\u001b[0;34m)\u001b[0m\u001b[0;34m:\u001b[0m\u001b[0;34m\u001b[0m\u001b[0m\n",
      "\u001b[0;32m/Users/borisp/anaconda/envs/3.5/lib/python3.5/site-packages/pandas/core/indexing.py\u001b[0m in \u001b[0;36m_get_label\u001b[0;34m(self, label, axis)\u001b[0m\n\u001b[1;32m     91\u001b[0m             \u001b[0;32mraise\u001b[0m \u001b[0mIndexingError\u001b[0m\u001b[0;34m(\u001b[0m\u001b[0;34m'no slices here, handle elsewhere'\u001b[0m\u001b[0;34m)\u001b[0m\u001b[0;34m\u001b[0m\u001b[0m\n\u001b[1;32m     92\u001b[0m \u001b[0;34m\u001b[0m\u001b[0m\n\u001b[0;32m---> 93\u001b[0;31m         \u001b[0;32mreturn\u001b[0m \u001b[0mself\u001b[0m\u001b[0;34m.\u001b[0m\u001b[0mobj\u001b[0m\u001b[0;34m.\u001b[0m\u001b[0m_xs\u001b[0m\u001b[0;34m(\u001b[0m\u001b[0mlabel\u001b[0m\u001b[0;34m,\u001b[0m \u001b[0maxis\u001b[0m\u001b[0;34m=\u001b[0m\u001b[0maxis\u001b[0m\u001b[0;34m)\u001b[0m\u001b[0;34m\u001b[0m\u001b[0m\n\u001b[0m\u001b[1;32m     94\u001b[0m \u001b[0;34m\u001b[0m\u001b[0m\n\u001b[1;32m     95\u001b[0m     \u001b[0;32mdef\u001b[0m \u001b[0m_get_loc\u001b[0m\u001b[0;34m(\u001b[0m\u001b[0mself\u001b[0m\u001b[0;34m,\u001b[0m \u001b[0mkey\u001b[0m\u001b[0;34m,\u001b[0m \u001b[0maxis\u001b[0m\u001b[0;34m=\u001b[0m\u001b[0;36m0\u001b[0m\u001b[0;34m)\u001b[0m\u001b[0;34m:\u001b[0m\u001b[0;34m\u001b[0m\u001b[0m\n",
      "\u001b[0;32m/Users/borisp/anaconda/envs/3.5/lib/python3.5/site-packages/pandas/core/generic.py\u001b[0m in \u001b[0;36mxs\u001b[0;34m(self, key, axis, level, copy, drop_level)\u001b[0m\n\u001b[1;32m   1747\u001b[0m                                                       drop_level=drop_level)\n\u001b[1;32m   1748\u001b[0m         \u001b[0;32melse\u001b[0m\u001b[0;34m:\u001b[0m\u001b[0;34m\u001b[0m\u001b[0m\n\u001b[0;32m-> 1749\u001b[0;31m             \u001b[0mloc\u001b[0m \u001b[0;34m=\u001b[0m \u001b[0mself\u001b[0m\u001b[0;34m.\u001b[0m\u001b[0mindex\u001b[0m\u001b[0;34m.\u001b[0m\u001b[0mget_loc\u001b[0m\u001b[0;34m(\u001b[0m\u001b[0mkey\u001b[0m\u001b[0;34m)\u001b[0m\u001b[0;34m\u001b[0m\u001b[0m\n\u001b[0m\u001b[1;32m   1750\u001b[0m \u001b[0;34m\u001b[0m\u001b[0m\n\u001b[1;32m   1751\u001b[0m             \u001b[0;32mif\u001b[0m \u001b[0misinstance\u001b[0m\u001b[0;34m(\u001b[0m\u001b[0mloc\u001b[0m\u001b[0;34m,\u001b[0m \u001b[0mnp\u001b[0m\u001b[0;34m.\u001b[0m\u001b[0mndarray\u001b[0m\u001b[0;34m)\u001b[0m\u001b[0;34m:\u001b[0m\u001b[0;34m\u001b[0m\u001b[0m\n",
      "\u001b[0;32m/Users/borisp/anaconda/envs/3.5/lib/python3.5/site-packages/pandas/tseries/index.py\u001b[0m in \u001b[0;36mget_loc\u001b[0;34m(self, key, method, tolerance)\u001b[0m\n\u001b[1;32m   1440\u001b[0m                 \u001b[0;32mreturn\u001b[0m \u001b[0mIndex\u001b[0m\u001b[0;34m.\u001b[0m\u001b[0mget_loc\u001b[0m\u001b[0;34m(\u001b[0m\u001b[0mself\u001b[0m\u001b[0;34m,\u001b[0m \u001b[0mstamp\u001b[0m\u001b[0;34m,\u001b[0m \u001b[0mmethod\u001b[0m\u001b[0;34m,\u001b[0m \u001b[0mtolerance\u001b[0m\u001b[0;34m)\u001b[0m\u001b[0;34m\u001b[0m\u001b[0m\n\u001b[1;32m   1441\u001b[0m             \u001b[0;32mexcept\u001b[0m \u001b[0;34m(\u001b[0m\u001b[0mKeyError\u001b[0m\u001b[0;34m,\u001b[0m \u001b[0mValueError\u001b[0m\u001b[0;34m)\u001b[0m\u001b[0;34m:\u001b[0m\u001b[0;34m\u001b[0m\u001b[0m\n\u001b[0;32m-> 1442\u001b[0;31m                 \u001b[0;32mraise\u001b[0m \u001b[0mKeyError\u001b[0m\u001b[0;34m(\u001b[0m\u001b[0mkey\u001b[0m\u001b[0;34m)\u001b[0m\u001b[0;34m\u001b[0m\u001b[0m\n\u001b[0m\u001b[1;32m   1443\u001b[0m \u001b[0;34m\u001b[0m\u001b[0m\n\u001b[1;32m   1444\u001b[0m     \u001b[0;32mdef\u001b[0m \u001b[0m_maybe_cast_slice_bound\u001b[0m\u001b[0;34m(\u001b[0m\u001b[0mself\u001b[0m\u001b[0;34m,\u001b[0m \u001b[0mlabel\u001b[0m\u001b[0;34m,\u001b[0m \u001b[0mside\u001b[0m\u001b[0;34m,\u001b[0m \u001b[0mkind\u001b[0m\u001b[0;34m)\u001b[0m\u001b[0;34m:\u001b[0m\u001b[0;34m\u001b[0m\u001b[0m\n",
      "\u001b[0;31mKeyError\u001b[0m: '2016-01-01'"
     ]
    }
   ],
   "source": [
    "stocks.ix[\"2016-01-01\"]"
   ]
  },
  {
   "cell_type": "code",
   "execution_count": 64,
   "metadata": {
    "collapsed": false
   },
   "outputs": [
    {
     "data": {
      "text/html": [
       "<div>\n",
       "<table border=\"1\" class=\"dataframe\">\n",
       "  <thead>\n",
       "    <tr style=\"text-align: right;\">\n",
       "      <th></th>\n",
       "      <th>Open</th>\n",
       "      <th>High</th>\n",
       "      <th>Low</th>\n",
       "      <th>Close</th>\n",
       "      <th>Volume</th>\n",
       "    </tr>\n",
       "    <tr>\n",
       "      <th>Date</th>\n",
       "      <th></th>\n",
       "      <th></th>\n",
       "      <th></th>\n",
       "      <th></th>\n",
       "      <th></th>\n",
       "    </tr>\n",
       "  </thead>\n",
       "  <tbody>\n",
       "    <tr>\n",
       "      <th>2013-10-01</th>\n",
       "      <td>33.35</td>\n",
       "      <td>33.61</td>\n",
       "      <td>33.30</td>\n",
       "      <td>33.58</td>\n",
       "      <td>36718733</td>\n",
       "    </tr>\n",
       "    <tr>\n",
       "      <th>2013-10-02</th>\n",
       "      <td>33.36</td>\n",
       "      <td>34.03</td>\n",
       "      <td>33.29</td>\n",
       "      <td>33.92</td>\n",
       "      <td>46946813</td>\n",
       "    </tr>\n",
       "    <tr>\n",
       "      <th>2013-10-03</th>\n",
       "      <td>33.88</td>\n",
       "      <td>34.00</td>\n",
       "      <td>33.42</td>\n",
       "      <td>33.86</td>\n",
       "      <td>38707452</td>\n",
       "    </tr>\n",
       "    <tr>\n",
       "      <th>2013-10-04</th>\n",
       "      <td>33.69</td>\n",
       "      <td>33.99</td>\n",
       "      <td>33.62</td>\n",
       "      <td>33.88</td>\n",
       "      <td>33008107</td>\n",
       "    </tr>\n",
       "    <tr>\n",
       "      <th>2013-10-07</th>\n",
       "      <td>33.60</td>\n",
       "      <td>33.71</td>\n",
       "      <td>33.20</td>\n",
       "      <td>33.30</td>\n",
       "      <td>35069279</td>\n",
       "    </tr>\n",
       "  </tbody>\n",
       "</table>\n",
       "</div>"
      ],
      "text/plain": [
       "             Open   High    Low  Close    Volume\n",
       "Date                                            \n",
       "2013-10-01  33.35  33.61  33.30  33.58  36718733\n",
       "2013-10-02  33.36  34.03  33.29  33.92  46946813\n",
       "2013-10-03  33.88  34.00  33.42  33.86  38707452\n",
       "2013-10-04  33.69  33.99  33.62  33.88  33008107\n",
       "2013-10-07  33.60  33.71  33.20  33.30  35069279"
      ]
     },
     "execution_count": 64,
     "metadata": {},
     "output_type": "execute_result"
    }
   ],
   "source": [
    "stocks.loc[\"2013-10-01\" : \"2013-10-07\"]\n",
    "stocks.ix[\"2013-10-01\" : \"2013-10-07\"]"
   ]
  },
  {
   "cell_type": "code",
   "execution_count": 66,
   "metadata": {
    "collapsed": false
   },
   "outputs": [],
   "source": [
    "birthdays = pd.date_range(start = \"1991-04-12\", end = \"2017-12-31\", freq = pd.DateOffset(years = 1))"
   ]
  },
  {
   "cell_type": "code",
   "execution_count": 70,
   "metadata": {
    "collapsed": false
   },
   "outputs": [],
   "source": [
    "mask = stocks.index.isin(birthdays)"
   ]
  },
  {
   "cell_type": "code",
   "execution_count": 72,
   "metadata": {
    "collapsed": false
   },
   "outputs": [
    {
     "data": {
      "text/html": [
       "<div>\n",
       "<table border=\"1\" class=\"dataframe\">\n",
       "  <thead>\n",
       "    <tr style=\"text-align: right;\">\n",
       "      <th></th>\n",
       "      <th>Open</th>\n",
       "      <th>High</th>\n",
       "      <th>Low</th>\n",
       "      <th>Close</th>\n",
       "      <th>Volume</th>\n",
       "    </tr>\n",
       "    <tr>\n",
       "      <th>Date</th>\n",
       "      <th></th>\n",
       "      <th></th>\n",
       "      <th></th>\n",
       "      <th></th>\n",
       "      <th></th>\n",
       "    </tr>\n",
       "  </thead>\n",
       "  <tbody>\n",
       "    <tr>\n",
       "      <th>2010-04-12</th>\n",
       "      <td>30.25</td>\n",
       "      <td>30.49</td>\n",
       "      <td>30.20</td>\n",
       "      <td>30.32</td>\n",
       "      <td>37074279</td>\n",
       "    </tr>\n",
       "    <tr>\n",
       "      <th>2011-04-12</th>\n",
       "      <td>25.83</td>\n",
       "      <td>25.85</td>\n",
       "      <td>25.55</td>\n",
       "      <td>25.64</td>\n",
       "      <td>36936975</td>\n",
       "    </tr>\n",
       "    <tr>\n",
       "      <th>2012-04-12</th>\n",
       "      <td>30.48</td>\n",
       "      <td>31.04</td>\n",
       "      <td>30.42</td>\n",
       "      <td>30.98</td>\n",
       "      <td>38306010</td>\n",
       "    </tr>\n",
       "    <tr>\n",
       "      <th>2013-04-12</th>\n",
       "      <td>28.85</td>\n",
       "      <td>29.02</td>\n",
       "      <td>28.66</td>\n",
       "      <td>28.79</td>\n",
       "      <td>62888012</td>\n",
       "    </tr>\n",
       "    <tr>\n",
       "      <th>2016-04-12</th>\n",
       "      <td>54.37</td>\n",
       "      <td>54.78</td>\n",
       "      <td>53.76</td>\n",
       "      <td>54.65</td>\n",
       "      <td>24574169</td>\n",
       "    </tr>\n",
       "  </tbody>\n",
       "</table>\n",
       "</div>"
      ],
      "text/plain": [
       "             Open   High    Low  Close    Volume\n",
       "Date                                            \n",
       "2010-04-12  30.25  30.49  30.20  30.32  37074279\n",
       "2011-04-12  25.83  25.85  25.55  25.64  36936975\n",
       "2012-04-12  30.48  31.04  30.42  30.98  38306010\n",
       "2013-04-12  28.85  29.02  28.66  28.79  62888012\n",
       "2016-04-12  54.37  54.78  53.76  54.65  24574169"
      ]
     },
     "execution_count": 72,
     "metadata": {},
     "output_type": "execute_result"
    }
   ],
   "source": [
    "stocks[mask]"
   ]
  },
  {
   "cell_type": "markdown",
   "metadata": {
    "collapsed": true
   },
   "source": [
    "## `Timestamp` Object Attributes"
   ]
  },
  {
   "cell_type": "code",
   "execution_count": 73,
   "metadata": {
    "collapsed": false
   },
   "outputs": [
    {
     "data": {
      "text/html": [
       "<div>\n",
       "<table border=\"1\" class=\"dataframe\">\n",
       "  <thead>\n",
       "    <tr style=\"text-align: right;\">\n",
       "      <th></th>\n",
       "      <th>Open</th>\n",
       "      <th>High</th>\n",
       "      <th>Low</th>\n",
       "      <th>Close</th>\n",
       "      <th>Volume</th>\n",
       "    </tr>\n",
       "    <tr>\n",
       "      <th>Date</th>\n",
       "      <th></th>\n",
       "      <th></th>\n",
       "      <th></th>\n",
       "      <th></th>\n",
       "      <th></th>\n",
       "    </tr>\n",
       "  </thead>\n",
       "  <tbody>\n",
       "    <tr>\n",
       "      <th>2010-01-04</th>\n",
       "      <td>30.62</td>\n",
       "      <td>31.10</td>\n",
       "      <td>30.59</td>\n",
       "      <td>30.95</td>\n",
       "      <td>38414185</td>\n",
       "    </tr>\n",
       "    <tr>\n",
       "      <th>2010-01-05</th>\n",
       "      <td>30.85</td>\n",
       "      <td>31.10</td>\n",
       "      <td>30.64</td>\n",
       "      <td>30.96</td>\n",
       "      <td>49758862</td>\n",
       "    </tr>\n",
       "    <tr>\n",
       "      <th>2010-01-06</th>\n",
       "      <td>30.88</td>\n",
       "      <td>31.08</td>\n",
       "      <td>30.52</td>\n",
       "      <td>30.77</td>\n",
       "      <td>58182332</td>\n",
       "    </tr>\n",
       "  </tbody>\n",
       "</table>\n",
       "</div>"
      ],
      "text/plain": [
       "             Open   High    Low  Close    Volume\n",
       "Date                                            \n",
       "2010-01-04  30.62  31.10  30.59  30.95  38414185\n",
       "2010-01-05  30.85  31.10  30.64  30.96  49758862\n",
       "2010-01-06  30.88  31.08  30.52  30.77  58182332"
      ]
     },
     "execution_count": 73,
     "metadata": {},
     "output_type": "execute_result"
    }
   ],
   "source": [
    "stocks = data.DataReader(name = company, data_source = \"google\", start = start, end = end)\n",
    "stocks.head(3)"
   ]
  },
  {
   "cell_type": "code",
   "execution_count": 76,
   "metadata": {
    "collapsed": false
   },
   "outputs": [
    {
     "data": {
      "text/plain": [
       "Timestamp('2011-12-28 00:00:00')"
      ]
     },
     "execution_count": 76,
     "metadata": {},
     "output_type": "execute_result"
    }
   ],
   "source": [
    "someday = stocks.index[500]\n",
    "someday"
   ]
  },
  {
   "cell_type": "code",
   "execution_count": 82,
   "metadata": {
    "collapsed": false
   },
   "outputs": [
    {
     "data": {
      "text/plain": [
       "False"
      ]
     },
     "execution_count": 82,
     "metadata": {},
     "output_type": "execute_result"
    }
   ],
   "source": [
    "someday.day\n",
    "someday.month\n",
    "someday.year\n",
    "someday.weekday_name\n",
    "someday.is_month_end\n",
    "someday.is_month_start"
   ]
  },
  {
   "cell_type": "code",
   "execution_count": 83,
   "metadata": {
    "collapsed": true
   },
   "outputs": [],
   "source": [
    "stocks.insert(0, \"Day of Week\", stocks.index.weekday_name)"
   ]
  },
  {
   "cell_type": "code",
   "execution_count": 85,
   "metadata": {
    "collapsed": false
   },
   "outputs": [],
   "source": [
    "stocks.insert(1, \"Is Start of Month\", stocks.index.is_month_start)"
   ]
  },
  {
   "cell_type": "code",
   "execution_count": 88,
   "metadata": {
    "collapsed": false,
    "scrolled": true
   },
   "outputs": [
    {
     "data": {
      "text/html": [
       "<div>\n",
       "<table border=\"1\" class=\"dataframe\">\n",
       "  <thead>\n",
       "    <tr style=\"text-align: right;\">\n",
       "      <th></th>\n",
       "      <th>Day of Week</th>\n",
       "      <th>Is Start of Month</th>\n",
       "      <th>Open</th>\n",
       "      <th>High</th>\n",
       "      <th>Low</th>\n",
       "      <th>Close</th>\n",
       "      <th>Volume</th>\n",
       "    </tr>\n",
       "    <tr>\n",
       "      <th>Date</th>\n",
       "      <th></th>\n",
       "      <th></th>\n",
       "      <th></th>\n",
       "      <th></th>\n",
       "      <th></th>\n",
       "      <th></th>\n",
       "      <th></th>\n",
       "    </tr>\n",
       "  </thead>\n",
       "  <tbody>\n",
       "    <tr>\n",
       "      <th>2010-02-01</th>\n",
       "      <td>Monday</td>\n",
       "      <td>True</td>\n",
       "      <td>28.39</td>\n",
       "      <td>28.48</td>\n",
       "      <td>27.92</td>\n",
       "      <td>28.41</td>\n",
       "      <td>85931099</td>\n",
       "    </tr>\n",
       "    <tr>\n",
       "      <th>2010-03-01</th>\n",
       "      <td>Monday</td>\n",
       "      <td>True</td>\n",
       "      <td>28.77</td>\n",
       "      <td>29.05</td>\n",
       "      <td>28.53</td>\n",
       "      <td>29.02</td>\n",
       "      <td>43805302</td>\n",
       "    </tr>\n",
       "    <tr>\n",
       "      <th>2010-06-01</th>\n",
       "      <td>Tuesday</td>\n",
       "      <td>True</td>\n",
       "      <td>25.53</td>\n",
       "      <td>26.31</td>\n",
       "      <td>25.52</td>\n",
       "      <td>25.89</td>\n",
       "      <td>76155453</td>\n",
       "    </tr>\n",
       "    <tr>\n",
       "      <th>2010-07-01</th>\n",
       "      <td>Thursday</td>\n",
       "      <td>True</td>\n",
       "      <td>23.09</td>\n",
       "      <td>23.32</td>\n",
       "      <td>22.73</td>\n",
       "      <td>23.16</td>\n",
       "      <td>92239399</td>\n",
       "    </tr>\n",
       "    <tr>\n",
       "      <th>2010-09-01</th>\n",
       "      <td>Wednesday</td>\n",
       "      <td>True</td>\n",
       "      <td>23.67</td>\n",
       "      <td>23.95</td>\n",
       "      <td>23.54</td>\n",
       "      <td>23.90</td>\n",
       "      <td>65235852</td>\n",
       "    </tr>\n",
       "    <tr>\n",
       "      <th>2010-10-01</th>\n",
       "      <td>Friday</td>\n",
       "      <td>True</td>\n",
       "      <td>24.77</td>\n",
       "      <td>24.82</td>\n",
       "      <td>24.30</td>\n",
       "      <td>24.38</td>\n",
       "      <td>62672276</td>\n",
       "    </tr>\n",
       "    <tr>\n",
       "      <th>2010-11-01</th>\n",
       "      <td>Monday</td>\n",
       "      <td>True</td>\n",
       "      <td>26.88</td>\n",
       "      <td>27.22</td>\n",
       "      <td>26.70</td>\n",
       "      <td>26.95</td>\n",
       "      <td>61916183</td>\n",
       "    </tr>\n",
       "    <tr>\n",
       "      <th>2010-12-01</th>\n",
       "      <td>Wednesday</td>\n",
       "      <td>True</td>\n",
       "      <td>25.57</td>\n",
       "      <td>26.25</td>\n",
       "      <td>25.56</td>\n",
       "      <td>26.04</td>\n",
       "      <td>74123490</td>\n",
       "    </tr>\n",
       "    <tr>\n",
       "      <th>2011-02-01</th>\n",
       "      <td>Tuesday</td>\n",
       "      <td>True</td>\n",
       "      <td>27.80</td>\n",
       "      <td>28.06</td>\n",
       "      <td>27.61</td>\n",
       "      <td>27.99</td>\n",
       "      <td>62810661</td>\n",
       "    </tr>\n",
       "    <tr>\n",
       "      <th>2011-03-01</th>\n",
       "      <td>Tuesday</td>\n",
       "      <td>True</td>\n",
       "      <td>26.60</td>\n",
       "      <td>26.78</td>\n",
       "      <td>26.15</td>\n",
       "      <td>26.16</td>\n",
       "      <td>60054986</td>\n",
       "    </tr>\n",
       "    <tr>\n",
       "      <th>2011-04-01</th>\n",
       "      <td>Friday</td>\n",
       "      <td>True</td>\n",
       "      <td>25.53</td>\n",
       "      <td>25.53</td>\n",
       "      <td>25.31</td>\n",
       "      <td>25.48</td>\n",
       "      <td>63114201</td>\n",
       "    </tr>\n",
       "    <tr>\n",
       "      <th>2011-06-01</th>\n",
       "      <td>Wednesday</td>\n",
       "      <td>True</td>\n",
       "      <td>24.99</td>\n",
       "      <td>25.10</td>\n",
       "      <td>24.37</td>\n",
       "      <td>24.43</td>\n",
       "      <td>74036467</td>\n",
       "    </tr>\n",
       "    <tr>\n",
       "      <th>2011-07-01</th>\n",
       "      <td>Friday</td>\n",
       "      <td>True</td>\n",
       "      <td>25.93</td>\n",
       "      <td>26.17</td>\n",
       "      <td>25.84</td>\n",
       "      <td>26.02</td>\n",
       "      <td>52914516</td>\n",
       "    </tr>\n",
       "    <tr>\n",
       "      <th>2011-08-01</th>\n",
       "      <td>Monday</td>\n",
       "      <td>True</td>\n",
       "      <td>27.51</td>\n",
       "      <td>27.68</td>\n",
       "      <td>26.75</td>\n",
       "      <td>27.27</td>\n",
       "      <td>61846218</td>\n",
       "    </tr>\n",
       "    <tr>\n",
       "      <th>2011-09-01</th>\n",
       "      <td>Thursday</td>\n",
       "      <td>True</td>\n",
       "      <td>26.46</td>\n",
       "      <td>26.86</td>\n",
       "      <td>26.21</td>\n",
       "      <td>26.21</td>\n",
       "      <td>60511548</td>\n",
       "    </tr>\n",
       "    <tr>\n",
       "      <th>2011-11-01</th>\n",
       "      <td>Tuesday</td>\n",
       "      <td>True</td>\n",
       "      <td>26.19</td>\n",
       "      <td>26.32</td>\n",
       "      <td>25.86</td>\n",
       "      <td>25.99</td>\n",
       "      <td>61186956</td>\n",
       "    </tr>\n",
       "    <tr>\n",
       "      <th>2011-12-01</th>\n",
       "      <td>Thursday</td>\n",
       "      <td>True</td>\n",
       "      <td>25.56</td>\n",
       "      <td>25.63</td>\n",
       "      <td>25.20</td>\n",
       "      <td>25.28</td>\n",
       "      <td>48545338</td>\n",
       "    </tr>\n",
       "    <tr>\n",
       "      <th>2012-02-01</th>\n",
       "      <td>Wednesday</td>\n",
       "      <td>True</td>\n",
       "      <td>29.79</td>\n",
       "      <td>30.05</td>\n",
       "      <td>29.76</td>\n",
       "      <td>29.89</td>\n",
       "      <td>67413817</td>\n",
       "    </tr>\n",
       "    <tr>\n",
       "      <th>2012-03-01</th>\n",
       "      <td>Thursday</td>\n",
       "      <td>True</td>\n",
       "      <td>31.93</td>\n",
       "      <td>32.39</td>\n",
       "      <td>31.85</td>\n",
       "      <td>32.29</td>\n",
       "      <td>77348930</td>\n",
       "    </tr>\n",
       "    <tr>\n",
       "      <th>2012-05-01</th>\n",
       "      <td>Tuesday</td>\n",
       "      <td>True</td>\n",
       "      <td>32.05</td>\n",
       "      <td>32.34</td>\n",
       "      <td>31.95</td>\n",
       "      <td>32.01</td>\n",
       "      <td>43833208</td>\n",
       "    </tr>\n",
       "    <tr>\n",
       "      <th>2012-06-01</th>\n",
       "      <td>Friday</td>\n",
       "      <td>True</td>\n",
       "      <td>28.76</td>\n",
       "      <td>28.96</td>\n",
       "      <td>28.44</td>\n",
       "      <td>28.45</td>\n",
       "      <td>56641282</td>\n",
       "    </tr>\n",
       "    <tr>\n",
       "      <th>2012-08-01</th>\n",
       "      <td>Wednesday</td>\n",
       "      <td>True</td>\n",
       "      <td>29.59</td>\n",
       "      <td>29.65</td>\n",
       "      <td>29.21</td>\n",
       "      <td>29.41</td>\n",
       "      <td>31722523</td>\n",
       "    </tr>\n",
       "    <tr>\n",
       "      <th>2012-10-01</th>\n",
       "      <td>Monday</td>\n",
       "      <td>True</td>\n",
       "      <td>29.81</td>\n",
       "      <td>29.98</td>\n",
       "      <td>29.42</td>\n",
       "      <td>29.49</td>\n",
       "      <td>54042532</td>\n",
       "    </tr>\n",
       "    <tr>\n",
       "      <th>2012-11-01</th>\n",
       "      <td>Thursday</td>\n",
       "      <td>True</td>\n",
       "      <td>28.84</td>\n",
       "      <td>29.56</td>\n",
       "      <td>28.82</td>\n",
       "      <td>29.52</td>\n",
       "      <td>72047818</td>\n",
       "    </tr>\n",
       "    <tr>\n",
       "      <th>2013-02-01</th>\n",
       "      <td>Friday</td>\n",
       "      <td>True</td>\n",
       "      <td>27.67</td>\n",
       "      <td>28.05</td>\n",
       "      <td>27.55</td>\n",
       "      <td>27.93</td>\n",
       "      <td>55566440</td>\n",
       "    </tr>\n",
       "    <tr>\n",
       "      <th>2013-03-01</th>\n",
       "      <td>Friday</td>\n",
       "      <td>True</td>\n",
       "      <td>27.72</td>\n",
       "      <td>27.98</td>\n",
       "      <td>27.52</td>\n",
       "      <td>27.95</td>\n",
       "      <td>34851878</td>\n",
       "    </tr>\n",
       "    <tr>\n",
       "      <th>2013-04-01</th>\n",
       "      <td>Monday</td>\n",
       "      <td>True</td>\n",
       "      <td>28.64</td>\n",
       "      <td>28.66</td>\n",
       "      <td>28.36</td>\n",
       "      <td>28.61</td>\n",
       "      <td>29203122</td>\n",
       "    </tr>\n",
       "    <tr>\n",
       "      <th>2013-05-01</th>\n",
       "      <td>Wednesday</td>\n",
       "      <td>True</td>\n",
       "      <td>32.93</td>\n",
       "      <td>33.08</td>\n",
       "      <td>32.60</td>\n",
       "      <td>32.72</td>\n",
       "      <td>54336834</td>\n",
       "    </tr>\n",
       "    <tr>\n",
       "      <th>2013-07-01</th>\n",
       "      <td>Monday</td>\n",
       "      <td>True</td>\n",
       "      <td>34.75</td>\n",
       "      <td>34.99</td>\n",
       "      <td>34.33</td>\n",
       "      <td>34.36</td>\n",
       "      <td>31064000</td>\n",
       "    </tr>\n",
       "    <tr>\n",
       "      <th>2013-08-01</th>\n",
       "      <td>Thursday</td>\n",
       "      <td>True</td>\n",
       "      <td>32.06</td>\n",
       "      <td>32.09</td>\n",
       "      <td>31.60</td>\n",
       "      <td>31.67</td>\n",
       "      <td>42557872</td>\n",
       "    </tr>\n",
       "    <tr>\n",
       "      <th>2013-10-01</th>\n",
       "      <td>Tuesday</td>\n",
       "      <td>True</td>\n",
       "      <td>33.35</td>\n",
       "      <td>33.61</td>\n",
       "      <td>33.30</td>\n",
       "      <td>33.58</td>\n",
       "      <td>36718733</td>\n",
       "    </tr>\n",
       "    <tr>\n",
       "      <th>2013-11-01</th>\n",
       "      <td>Friday</td>\n",
       "      <td>True</td>\n",
       "      <td>35.67</td>\n",
       "      <td>35.69</td>\n",
       "      <td>35.39</td>\n",
       "      <td>35.52</td>\n",
       "      <td>40271887</td>\n",
       "    </tr>\n",
       "    <tr>\n",
       "      <th>2014-04-01</th>\n",
       "      <td>Tuesday</td>\n",
       "      <td>True</td>\n",
       "      <td>41.15</td>\n",
       "      <td>41.59</td>\n",
       "      <td>41.07</td>\n",
       "      <td>41.42</td>\n",
       "      <td>32610395</td>\n",
       "    </tr>\n",
       "    <tr>\n",
       "      <th>2014-05-01</th>\n",
       "      <td>Thursday</td>\n",
       "      <td>True</td>\n",
       "      <td>40.24</td>\n",
       "      <td>40.36</td>\n",
       "      <td>39.95</td>\n",
       "      <td>40.00</td>\n",
       "      <td>28791455</td>\n",
       "    </tr>\n",
       "    <tr>\n",
       "      <th>2014-07-01</th>\n",
       "      <td>Tuesday</td>\n",
       "      <td>True</td>\n",
       "      <td>41.86</td>\n",
       "      <td>42.15</td>\n",
       "      <td>41.69</td>\n",
       "      <td>41.87</td>\n",
       "      <td>26922597</td>\n",
       "    </tr>\n",
       "    <tr>\n",
       "      <th>2014-08-01</th>\n",
       "      <td>Friday</td>\n",
       "      <td>True</td>\n",
       "      <td>43.21</td>\n",
       "      <td>43.25</td>\n",
       "      <td>42.60</td>\n",
       "      <td>42.86</td>\n",
       "      <td>31171094</td>\n",
       "    </tr>\n",
       "    <tr>\n",
       "      <th>2014-10-01</th>\n",
       "      <td>Wednesday</td>\n",
       "      <td>True</td>\n",
       "      <td>46.27</td>\n",
       "      <td>46.53</td>\n",
       "      <td>45.84</td>\n",
       "      <td>45.90</td>\n",
       "      <td>38088355</td>\n",
       "    </tr>\n",
       "    <tr>\n",
       "      <th>2014-12-01</th>\n",
       "      <td>Monday</td>\n",
       "      <td>True</td>\n",
       "      <td>47.88</td>\n",
       "      <td>48.78</td>\n",
       "      <td>47.71</td>\n",
       "      <td>48.62</td>\n",
       "      <td>31191575</td>\n",
       "    </tr>\n",
       "    <tr>\n",
       "      <th>2015-04-01</th>\n",
       "      <td>Wednesday</td>\n",
       "      <td>True</td>\n",
       "      <td>40.60</td>\n",
       "      <td>40.76</td>\n",
       "      <td>40.31</td>\n",
       "      <td>40.72</td>\n",
       "      <td>36865322</td>\n",
       "    </tr>\n",
       "    <tr>\n",
       "      <th>2015-05-01</th>\n",
       "      <td>Friday</td>\n",
       "      <td>True</td>\n",
       "      <td>48.58</td>\n",
       "      <td>48.88</td>\n",
       "      <td>48.40</td>\n",
       "      <td>48.66</td>\n",
       "      <td>38937336</td>\n",
       "    </tr>\n",
       "    <tr>\n",
       "      <th>2015-06-01</th>\n",
       "      <td>Monday</td>\n",
       "      <td>True</td>\n",
       "      <td>47.06</td>\n",
       "      <td>47.77</td>\n",
       "      <td>46.62</td>\n",
       "      <td>47.23</td>\n",
       "      <td>28837332</td>\n",
       "    </tr>\n",
       "    <tr>\n",
       "      <th>2015-07-01</th>\n",
       "      <td>Wednesday</td>\n",
       "      <td>True</td>\n",
       "      <td>44.46</td>\n",
       "      <td>45.23</td>\n",
       "      <td>44.10</td>\n",
       "      <td>44.44</td>\n",
       "      <td>28343907</td>\n",
       "    </tr>\n",
       "    <tr>\n",
       "      <th>2015-09-01</th>\n",
       "      <td>Tuesday</td>\n",
       "      <td>True</td>\n",
       "      <td>42.17</td>\n",
       "      <td>42.59</td>\n",
       "      <td>41.66</td>\n",
       "      <td>41.82</td>\n",
       "      <td>49194736</td>\n",
       "    </tr>\n",
       "    <tr>\n",
       "      <th>2015-10-01</th>\n",
       "      <td>Thursday</td>\n",
       "      <td>True</td>\n",
       "      <td>44.75</td>\n",
       "      <td>44.75</td>\n",
       "      <td>43.75</td>\n",
       "      <td>44.61</td>\n",
       "      <td>28470381</td>\n",
       "    </tr>\n",
       "    <tr>\n",
       "      <th>2015-12-01</th>\n",
       "      <td>Tuesday</td>\n",
       "      <td>True</td>\n",
       "      <td>54.41</td>\n",
       "      <td>55.23</td>\n",
       "      <td>54.30</td>\n",
       "      <td>55.22</td>\n",
       "      <td>39848647</td>\n",
       "    </tr>\n",
       "    <tr>\n",
       "      <th>2016-02-01</th>\n",
       "      <td>Monday</td>\n",
       "      <td>True</td>\n",
       "      <td>54.88</td>\n",
       "      <td>55.09</td>\n",
       "      <td>54.50</td>\n",
       "      <td>54.71</td>\n",
       "      <td>43587105</td>\n",
       "    </tr>\n",
       "    <tr>\n",
       "      <th>2016-03-01</th>\n",
       "      <td>Tuesday</td>\n",
       "      <td>True</td>\n",
       "      <td>50.97</td>\n",
       "      <td>52.59</td>\n",
       "      <td>50.92</td>\n",
       "      <td>52.58</td>\n",
       "      <td>32778474</td>\n",
       "    </tr>\n",
       "    <tr>\n",
       "      <th>2016-04-01</th>\n",
       "      <td>Friday</td>\n",
       "      <td>True</td>\n",
       "      <td>55.05</td>\n",
       "      <td>55.61</td>\n",
       "      <td>54.57</td>\n",
       "      <td>55.57</td>\n",
       "      <td>24298612</td>\n",
       "    </tr>\n",
       "    <tr>\n",
       "      <th>2016-06-01</th>\n",
       "      <td>Wednesday</td>\n",
       "      <td>True</td>\n",
       "      <td>52.44</td>\n",
       "      <td>52.95</td>\n",
       "      <td>52.44</td>\n",
       "      <td>52.85</td>\n",
       "      <td>25324828</td>\n",
       "    </tr>\n",
       "    <tr>\n",
       "      <th>2016-07-01</th>\n",
       "      <td>Friday</td>\n",
       "      <td>True</td>\n",
       "      <td>51.13</td>\n",
       "      <td>51.72</td>\n",
       "      <td>51.07</td>\n",
       "      <td>51.16</td>\n",
       "      <td>21400392</td>\n",
       "    </tr>\n",
       "    <tr>\n",
       "      <th>2016-08-01</th>\n",
       "      <td>Monday</td>\n",
       "      <td>True</td>\n",
       "      <td>56.60</td>\n",
       "      <td>56.75</td>\n",
       "      <td>56.14</td>\n",
       "      <td>56.58</td>\n",
       "      <td>26003419</td>\n",
       "    </tr>\n",
       "    <tr>\n",
       "      <th>2016-09-01</th>\n",
       "      <td>Thursday</td>\n",
       "      <td>True</td>\n",
       "      <td>57.01</td>\n",
       "      <td>57.82</td>\n",
       "      <td>57.01</td>\n",
       "      <td>57.59</td>\n",
       "      <td>26075363</td>\n",
       "    </tr>\n",
       "  </tbody>\n",
       "</table>\n",
       "</div>"
      ],
      "text/plain": [
       "           Day of Week Is Start of Month   Open   High    Low  Close    Volume\n",
       "Date                                                                          \n",
       "2010-02-01      Monday              True  28.39  28.48  27.92  28.41  85931099\n",
       "2010-03-01      Monday              True  28.77  29.05  28.53  29.02  43805302\n",
       "2010-06-01     Tuesday              True  25.53  26.31  25.52  25.89  76155453\n",
       "2010-07-01    Thursday              True  23.09  23.32  22.73  23.16  92239399\n",
       "2010-09-01   Wednesday              True  23.67  23.95  23.54  23.90  65235852\n",
       "2010-10-01      Friday              True  24.77  24.82  24.30  24.38  62672276\n",
       "2010-11-01      Monday              True  26.88  27.22  26.70  26.95  61916183\n",
       "2010-12-01   Wednesday              True  25.57  26.25  25.56  26.04  74123490\n",
       "2011-02-01     Tuesday              True  27.80  28.06  27.61  27.99  62810661\n",
       "2011-03-01     Tuesday              True  26.60  26.78  26.15  26.16  60054986\n",
       "2011-04-01      Friday              True  25.53  25.53  25.31  25.48  63114201\n",
       "2011-06-01   Wednesday              True  24.99  25.10  24.37  24.43  74036467\n",
       "2011-07-01      Friday              True  25.93  26.17  25.84  26.02  52914516\n",
       "2011-08-01      Monday              True  27.51  27.68  26.75  27.27  61846218\n",
       "2011-09-01    Thursday              True  26.46  26.86  26.21  26.21  60511548\n",
       "2011-11-01     Tuesday              True  26.19  26.32  25.86  25.99  61186956\n",
       "2011-12-01    Thursday              True  25.56  25.63  25.20  25.28  48545338\n",
       "2012-02-01   Wednesday              True  29.79  30.05  29.76  29.89  67413817\n",
       "2012-03-01    Thursday              True  31.93  32.39  31.85  32.29  77348930\n",
       "2012-05-01     Tuesday              True  32.05  32.34  31.95  32.01  43833208\n",
       "2012-06-01      Friday              True  28.76  28.96  28.44  28.45  56641282\n",
       "2012-08-01   Wednesday              True  29.59  29.65  29.21  29.41  31722523\n",
       "2012-10-01      Monday              True  29.81  29.98  29.42  29.49  54042532\n",
       "2012-11-01    Thursday              True  28.84  29.56  28.82  29.52  72047818\n",
       "2013-02-01      Friday              True  27.67  28.05  27.55  27.93  55566440\n",
       "2013-03-01      Friday              True  27.72  27.98  27.52  27.95  34851878\n",
       "2013-04-01      Monday              True  28.64  28.66  28.36  28.61  29203122\n",
       "2013-05-01   Wednesday              True  32.93  33.08  32.60  32.72  54336834\n",
       "2013-07-01      Monday              True  34.75  34.99  34.33  34.36  31064000\n",
       "2013-08-01    Thursday              True  32.06  32.09  31.60  31.67  42557872\n",
       "2013-10-01     Tuesday              True  33.35  33.61  33.30  33.58  36718733\n",
       "2013-11-01      Friday              True  35.67  35.69  35.39  35.52  40271887\n",
       "2014-04-01     Tuesday              True  41.15  41.59  41.07  41.42  32610395\n",
       "2014-05-01    Thursday              True  40.24  40.36  39.95  40.00  28791455\n",
       "2014-07-01     Tuesday              True  41.86  42.15  41.69  41.87  26922597\n",
       "2014-08-01      Friday              True  43.21  43.25  42.60  42.86  31171094\n",
       "2014-10-01   Wednesday              True  46.27  46.53  45.84  45.90  38088355\n",
       "2014-12-01      Monday              True  47.88  48.78  47.71  48.62  31191575\n",
       "2015-04-01   Wednesday              True  40.60  40.76  40.31  40.72  36865322\n",
       "2015-05-01      Friday              True  48.58  48.88  48.40  48.66  38937336\n",
       "2015-06-01      Monday              True  47.06  47.77  46.62  47.23  28837332\n",
       "2015-07-01   Wednesday              True  44.46  45.23  44.10  44.44  28343907\n",
       "2015-09-01     Tuesday              True  42.17  42.59  41.66  41.82  49194736\n",
       "2015-10-01    Thursday              True  44.75  44.75  43.75  44.61  28470381\n",
       "2015-12-01     Tuesday              True  54.41  55.23  54.30  55.22  39848647\n",
       "2016-02-01      Monday              True  54.88  55.09  54.50  54.71  43587105\n",
       "2016-03-01     Tuesday              True  50.97  52.59  50.92  52.58  32778474\n",
       "2016-04-01      Friday              True  55.05  55.61  54.57  55.57  24298612\n",
       "2016-06-01   Wednesday              True  52.44  52.95  52.44  52.85  25324828\n",
       "2016-07-01      Friday              True  51.13  51.72  51.07  51.16  21400392\n",
       "2016-08-01      Monday              True  56.60  56.75  56.14  56.58  26003419\n",
       "2016-09-01    Thursday              True  57.01  57.82  57.01  57.59  26075363"
      ]
     },
     "execution_count": 88,
     "metadata": {},
     "output_type": "execute_result"
    }
   ],
   "source": [
    "stocks[stocks[\"Is Start of Month\"]]"
   ]
  },
  {
   "cell_type": "markdown",
   "metadata": {
    "collapsed": true
   },
   "source": [
    "## The `.truncate()` Method"
   ]
  },
  {
   "cell_type": "code",
   "execution_count": 89,
   "metadata": {
    "collapsed": false
   },
   "outputs": [
    {
     "data": {
      "text/html": [
       "<div>\n",
       "<table border=\"1\" class=\"dataframe\">\n",
       "  <thead>\n",
       "    <tr style=\"text-align: right;\">\n",
       "      <th></th>\n",
       "      <th>Open</th>\n",
       "      <th>High</th>\n",
       "      <th>Low</th>\n",
       "      <th>Close</th>\n",
       "      <th>Volume</th>\n",
       "    </tr>\n",
       "    <tr>\n",
       "      <th>Date</th>\n",
       "      <th></th>\n",
       "      <th></th>\n",
       "      <th></th>\n",
       "      <th></th>\n",
       "      <th></th>\n",
       "    </tr>\n",
       "  </thead>\n",
       "  <tbody>\n",
       "    <tr>\n",
       "      <th>2010-01-04</th>\n",
       "      <td>30.62</td>\n",
       "      <td>31.10</td>\n",
       "      <td>30.59</td>\n",
       "      <td>30.95</td>\n",
       "      <td>38414185</td>\n",
       "    </tr>\n",
       "    <tr>\n",
       "      <th>2010-01-05</th>\n",
       "      <td>30.85</td>\n",
       "      <td>31.10</td>\n",
       "      <td>30.64</td>\n",
       "      <td>30.96</td>\n",
       "      <td>49758862</td>\n",
       "    </tr>\n",
       "    <tr>\n",
       "      <th>2010-01-06</th>\n",
       "      <td>30.88</td>\n",
       "      <td>31.08</td>\n",
       "      <td>30.52</td>\n",
       "      <td>30.77</td>\n",
       "      <td>58182332</td>\n",
       "    </tr>\n",
       "  </tbody>\n",
       "</table>\n",
       "</div>"
      ],
      "text/plain": [
       "             Open   High    Low  Close    Volume\n",
       "Date                                            \n",
       "2010-01-04  30.62  31.10  30.59  30.95  38414185\n",
       "2010-01-05  30.85  31.10  30.64  30.96  49758862\n",
       "2010-01-06  30.88  31.08  30.52  30.77  58182332"
      ]
     },
     "execution_count": 89,
     "metadata": {},
     "output_type": "execute_result"
    }
   ],
   "source": [
    "stocks = data.DataReader(name = company, data_source = \"google\", start = start, end = end)\n",
    "stocks.head(3)"
   ]
  },
  {
   "cell_type": "code",
   "execution_count": 92,
   "metadata": {
    "collapsed": true
   },
   "outputs": [
    {
     "data": {
      "text/html": [
       "<div>\n",
       "<table border=\"1\" class=\"dataframe\">\n",
       "  <thead>\n",
       "    <tr style=\"text-align: right;\">\n",
       "      <th></th>\n",
       "      <th>Open</th>\n",
       "      <th>High</th>\n",
       "      <th>Low</th>\n",
       "      <th>Close</th>\n",
       "      <th>Volume</th>\n",
       "    </tr>\n",
       "    <tr>\n",
       "      <th>Date</th>\n",
       "      <th></th>\n",
       "      <th></th>\n",
       "      <th></th>\n",
       "      <th></th>\n",
       "      <th></th>\n",
       "    </tr>\n",
       "  </thead>\n",
       "  <tbody>\n",
       "    <tr>\n",
       "      <th>2012-06-07</th>\n",
       "      <td>29.64</td>\n",
       "      <td>29.70</td>\n",
       "      <td>29.17</td>\n",
       "      <td>29.23</td>\n",
       "      <td>37794901</td>\n",
       "    </tr>\n",
       "    <tr>\n",
       "      <th>2012-06-08</th>\n",
       "      <td>29.21</td>\n",
       "      <td>29.68</td>\n",
       "      <td>29.05</td>\n",
       "      <td>29.65</td>\n",
       "      <td>42554321</td>\n",
       "    </tr>\n",
       "    <tr>\n",
       "      <th>2012-06-11</th>\n",
       "      <td>29.73</td>\n",
       "      <td>29.81</td>\n",
       "      <td>28.82</td>\n",
       "      <td>28.90</td>\n",
       "      <td>46365066</td>\n",
       "    </tr>\n",
       "    <tr>\n",
       "      <th>2012-06-12</th>\n",
       "      <td>29.10</td>\n",
       "      <td>29.30</td>\n",
       "      <td>28.84</td>\n",
       "      <td>29.29</td>\n",
       "      <td>35338135</td>\n",
       "    </tr>\n",
       "    <tr>\n",
       "      <th>2012-06-13</th>\n",
       "      <td>29.22</td>\n",
       "      <td>29.44</td>\n",
       "      <td>29.05</td>\n",
       "      <td>29.13</td>\n",
       "      <td>32984515</td>\n",
       "    </tr>\n",
       "    <tr>\n",
       "      <th>2012-06-14</th>\n",
       "      <td>29.33</td>\n",
       "      <td>29.46</td>\n",
       "      <td>28.88</td>\n",
       "      <td>29.34</td>\n",
       "      <td>39460156</td>\n",
       "    </tr>\n",
       "    <tr>\n",
       "      <th>2012-06-15</th>\n",
       "      <td>29.59</td>\n",
       "      <td>30.08</td>\n",
       "      <td>29.49</td>\n",
       "      <td>30.02</td>\n",
       "      <td>62314362</td>\n",
       "    </tr>\n",
       "    <tr>\n",
       "      <th>2012-06-18</th>\n",
       "      <td>29.99</td>\n",
       "      <td>30.03</td>\n",
       "      <td>29.71</td>\n",
       "      <td>29.84</td>\n",
       "      <td>58679618</td>\n",
       "    </tr>\n",
       "    <tr>\n",
       "      <th>2012-06-19</th>\n",
       "      <td>30.19</td>\n",
       "      <td>31.11</td>\n",
       "      <td>30.05</td>\n",
       "      <td>30.70</td>\n",
       "      <td>75725717</td>\n",
       "    </tr>\n",
       "    <tr>\n",
       "      <th>2012-06-20</th>\n",
       "      <td>30.93</td>\n",
       "      <td>31.05</td>\n",
       "      <td>30.64</td>\n",
       "      <td>30.93</td>\n",
       "      <td>36257101</td>\n",
       "    </tr>\n",
       "    <tr>\n",
       "      <th>2012-06-21</th>\n",
       "      <td>30.96</td>\n",
       "      <td>31.14</td>\n",
       "      <td>30.06</td>\n",
       "      <td>30.14</td>\n",
       "      <td>48461283</td>\n",
       "    </tr>\n",
       "    <tr>\n",
       "      <th>2012-06-22</th>\n",
       "      <td>30.30</td>\n",
       "      <td>30.73</td>\n",
       "      <td>30.03</td>\n",
       "      <td>30.70</td>\n",
       "      <td>45098017</td>\n",
       "    </tr>\n",
       "    <tr>\n",
       "      <th>2012-06-25</th>\n",
       "      <td>30.30</td>\n",
       "      <td>30.32</td>\n",
       "      <td>29.62</td>\n",
       "      <td>29.86</td>\n",
       "      <td>42225199</td>\n",
       "    </tr>\n",
       "    <tr>\n",
       "      <th>2012-06-26</th>\n",
       "      <td>30.00</td>\n",
       "      <td>30.27</td>\n",
       "      <td>29.94</td>\n",
       "      <td>30.02</td>\n",
       "      <td>38422237</td>\n",
       "    </tr>\n",
       "    <tr>\n",
       "      <th>2012-06-27</th>\n",
       "      <td>30.19</td>\n",
       "      <td>30.50</td>\n",
       "      <td>30.03</td>\n",
       "      <td>30.17</td>\n",
       "      <td>33783977</td>\n",
       "    </tr>\n",
       "    <tr>\n",
       "      <th>2012-06-28</th>\n",
       "      <td>29.98</td>\n",
       "      <td>30.05</td>\n",
       "      <td>29.42</td>\n",
       "      <td>29.91</td>\n",
       "      <td>45333920</td>\n",
       "    </tr>\n",
       "    <tr>\n",
       "      <th>2012-06-29</th>\n",
       "      <td>30.45</td>\n",
       "      <td>30.69</td>\n",
       "      <td>30.14</td>\n",
       "      <td>30.59</td>\n",
       "      <td>55227108</td>\n",
       "    </tr>\n",
       "    <tr>\n",
       "      <th>2012-07-02</th>\n",
       "      <td>30.62</td>\n",
       "      <td>30.62</td>\n",
       "      <td>30.21</td>\n",
       "      <td>30.56</td>\n",
       "      <td>30589039</td>\n",
       "    </tr>\n",
       "    <tr>\n",
       "      <th>2012-07-03</th>\n",
       "      <td>30.23</td>\n",
       "      <td>30.76</td>\n",
       "      <td>30.17</td>\n",
       "      <td>30.76</td>\n",
       "      <td>20941442</td>\n",
       "    </tr>\n",
       "    <tr>\n",
       "      <th>2012-07-05</th>\n",
       "      <td>30.59</td>\n",
       "      <td>30.78</td>\n",
       "      <td>30.38</td>\n",
       "      <td>30.70</td>\n",
       "      <td>28802821</td>\n",
       "    </tr>\n",
       "    <tr>\n",
       "      <th>2012-07-06</th>\n",
       "      <td>30.61</td>\n",
       "      <td>30.70</td>\n",
       "      <td>29.95</td>\n",
       "      <td>30.18</td>\n",
       "      <td>38297403</td>\n",
       "    </tr>\n",
       "    <tr>\n",
       "      <th>2012-07-09</th>\n",
       "      <td>30.12</td>\n",
       "      <td>30.23</td>\n",
       "      <td>29.78</td>\n",
       "      <td>30.00</td>\n",
       "      <td>30682552</td>\n",
       "    </tr>\n",
       "    <tr>\n",
       "      <th>2012-07-10</th>\n",
       "      <td>30.08</td>\n",
       "      <td>30.22</td>\n",
       "      <td>29.51</td>\n",
       "      <td>29.74</td>\n",
       "      <td>37537369</td>\n",
       "    </tr>\n",
       "    <tr>\n",
       "      <th>2012-07-11</th>\n",
       "      <td>29.71</td>\n",
       "      <td>29.74</td>\n",
       "      <td>29.10</td>\n",
       "      <td>29.30</td>\n",
       "      <td>39188842</td>\n",
       "    </tr>\n",
       "    <tr>\n",
       "      <th>2012-07-12</th>\n",
       "      <td>29.15</td>\n",
       "      <td>29.18</td>\n",
       "      <td>28.54</td>\n",
       "      <td>28.63</td>\n",
       "      <td>63530444</td>\n",
       "    </tr>\n",
       "    <tr>\n",
       "      <th>2012-07-13</th>\n",
       "      <td>28.76</td>\n",
       "      <td>29.48</td>\n",
       "      <td>28.72</td>\n",
       "      <td>29.39</td>\n",
       "      <td>39090585</td>\n",
       "    </tr>\n",
       "    <tr>\n",
       "      <th>2012-07-16</th>\n",
       "      <td>29.48</td>\n",
       "      <td>29.53</td>\n",
       "      <td>29.04</td>\n",
       "      <td>29.44</td>\n",
       "      <td>27901963</td>\n",
       "    </tr>\n",
       "    <tr>\n",
       "      <th>2012-07-17</th>\n",
       "      <td>29.64</td>\n",
       "      <td>29.86</td>\n",
       "      <td>29.20</td>\n",
       "      <td>29.66</td>\n",
       "      <td>33776331</td>\n",
       "    </tr>\n",
       "    <tr>\n",
       "      <th>2012-07-18</th>\n",
       "      <td>29.60</td>\n",
       "      <td>30.45</td>\n",
       "      <td>29.46</td>\n",
       "      <td>30.45</td>\n",
       "      <td>41100151</td>\n",
       "    </tr>\n",
       "    <tr>\n",
       "      <th>2012-07-19</th>\n",
       "      <td>30.51</td>\n",
       "      <td>30.80</td>\n",
       "      <td>30.38</td>\n",
       "      <td>30.66</td>\n",
       "      <td>46663183</td>\n",
       "    </tr>\n",
       "    <tr>\n",
       "      <th>...</th>\n",
       "      <td>...</td>\n",
       "      <td>...</td>\n",
       "      <td>...</td>\n",
       "      <td>...</td>\n",
       "      <td>...</td>\n",
       "    </tr>\n",
       "    <tr>\n",
       "      <th>2013-01-16</th>\n",
       "      <td>27.15</td>\n",
       "      <td>27.23</td>\n",
       "      <td>27.01</td>\n",
       "      <td>27.04</td>\n",
       "      <td>41077374</td>\n",
       "    </tr>\n",
       "    <tr>\n",
       "      <th>2013-01-17</th>\n",
       "      <td>27.19</td>\n",
       "      <td>27.47</td>\n",
       "      <td>27.06</td>\n",
       "      <td>27.25</td>\n",
       "      <td>51685841</td>\n",
       "    </tr>\n",
       "    <tr>\n",
       "      <th>2013-01-18</th>\n",
       "      <td>27.10</td>\n",
       "      <td>27.29</td>\n",
       "      <td>27.04</td>\n",
       "      <td>27.25</td>\n",
       "      <td>52171305</td>\n",
       "    </tr>\n",
       "    <tr>\n",
       "      <th>2013-01-22</th>\n",
       "      <td>27.30</td>\n",
       "      <td>27.45</td>\n",
       "      <td>27.00</td>\n",
       "      <td>27.15</td>\n",
       "      <td>58656745</td>\n",
       "    </tr>\n",
       "    <tr>\n",
       "      <th>2013-01-23</th>\n",
       "      <td>27.20</td>\n",
       "      <td>27.64</td>\n",
       "      <td>27.20</td>\n",
       "      <td>27.61</td>\n",
       "      <td>50387614</td>\n",
       "    </tr>\n",
       "    <tr>\n",
       "      <th>2013-01-24</th>\n",
       "      <td>27.70</td>\n",
       "      <td>28.07</td>\n",
       "      <td>27.47</td>\n",
       "      <td>27.63</td>\n",
       "      <td>101739246</td>\n",
       "    </tr>\n",
       "    <tr>\n",
       "      <th>2013-01-25</th>\n",
       "      <td>27.58</td>\n",
       "      <td>28.23</td>\n",
       "      <td>27.39</td>\n",
       "      <td>27.88</td>\n",
       "      <td>81853106</td>\n",
       "    </tr>\n",
       "    <tr>\n",
       "      <th>2013-01-28</th>\n",
       "      <td>28.01</td>\n",
       "      <td>28.22</td>\n",
       "      <td>27.76</td>\n",
       "      <td>27.91</td>\n",
       "      <td>56061493</td>\n",
       "    </tr>\n",
       "    <tr>\n",
       "      <th>2013-01-29</th>\n",
       "      <td>27.82</td>\n",
       "      <td>28.13</td>\n",
       "      <td>27.60</td>\n",
       "      <td>28.01</td>\n",
       "      <td>49247863</td>\n",
       "    </tr>\n",
       "    <tr>\n",
       "      <th>2013-01-30</th>\n",
       "      <td>28.01</td>\n",
       "      <td>28.19</td>\n",
       "      <td>27.76</td>\n",
       "      <td>27.85</td>\n",
       "      <td>43585526</td>\n",
       "    </tr>\n",
       "    <tr>\n",
       "      <th>2013-01-31</th>\n",
       "      <td>27.79</td>\n",
       "      <td>27.97</td>\n",
       "      <td>27.40</td>\n",
       "      <td>27.45</td>\n",
       "      <td>50536148</td>\n",
       "    </tr>\n",
       "    <tr>\n",
       "      <th>2013-02-01</th>\n",
       "      <td>27.67</td>\n",
       "      <td>28.05</td>\n",
       "      <td>27.55</td>\n",
       "      <td>27.93</td>\n",
       "      <td>55566440</td>\n",
       "    </tr>\n",
       "    <tr>\n",
       "      <th>2013-02-04</th>\n",
       "      <td>27.87</td>\n",
       "      <td>28.02</td>\n",
       "      <td>27.42</td>\n",
       "      <td>27.44</td>\n",
       "      <td>50539942</td>\n",
       "    </tr>\n",
       "    <tr>\n",
       "      <th>2013-02-05</th>\n",
       "      <td>27.62</td>\n",
       "      <td>27.66</td>\n",
       "      <td>27.36</td>\n",
       "      <td>27.50</td>\n",
       "      <td>35410361</td>\n",
       "    </tr>\n",
       "    <tr>\n",
       "      <th>2013-02-06</th>\n",
       "      <td>27.38</td>\n",
       "      <td>27.54</td>\n",
       "      <td>27.25</td>\n",
       "      <td>27.34</td>\n",
       "      <td>41889572</td>\n",
       "    </tr>\n",
       "    <tr>\n",
       "      <th>2013-02-07</th>\n",
       "      <td>27.35</td>\n",
       "      <td>27.39</td>\n",
       "      <td>27.10</td>\n",
       "      <td>27.28</td>\n",
       "      <td>38034068</td>\n",
       "    </tr>\n",
       "    <tr>\n",
       "      <th>2013-02-08</th>\n",
       "      <td>27.35</td>\n",
       "      <td>27.71</td>\n",
       "      <td>27.31</td>\n",
       "      <td>27.55</td>\n",
       "      <td>33320436</td>\n",
       "    </tr>\n",
       "    <tr>\n",
       "      <th>2013-02-11</th>\n",
       "      <td>27.65</td>\n",
       "      <td>27.92</td>\n",
       "      <td>27.50</td>\n",
       "      <td>27.86</td>\n",
       "      <td>32248149</td>\n",
       "    </tr>\n",
       "    <tr>\n",
       "      <th>2013-02-12</th>\n",
       "      <td>27.88</td>\n",
       "      <td>28.00</td>\n",
       "      <td>27.75</td>\n",
       "      <td>27.88</td>\n",
       "      <td>35991329</td>\n",
       "    </tr>\n",
       "    <tr>\n",
       "      <th>2013-02-13</th>\n",
       "      <td>27.93</td>\n",
       "      <td>28.11</td>\n",
       "      <td>27.88</td>\n",
       "      <td>28.03</td>\n",
       "      <td>41716060</td>\n",
       "    </tr>\n",
       "    <tr>\n",
       "      <th>2013-02-14</th>\n",
       "      <td>27.92</td>\n",
       "      <td>28.06</td>\n",
       "      <td>27.87</td>\n",
       "      <td>28.04</td>\n",
       "      <td>32663454</td>\n",
       "    </tr>\n",
       "    <tr>\n",
       "      <th>2013-02-15</th>\n",
       "      <td>28.04</td>\n",
       "      <td>28.16</td>\n",
       "      <td>27.88</td>\n",
       "      <td>28.01</td>\n",
       "      <td>49657740</td>\n",
       "    </tr>\n",
       "    <tr>\n",
       "      <th>2013-02-19</th>\n",
       "      <td>27.88</td>\n",
       "      <td>28.09</td>\n",
       "      <td>27.80</td>\n",
       "      <td>28.04</td>\n",
       "      <td>38806870</td>\n",
       "    </tr>\n",
       "    <tr>\n",
       "      <th>2013-02-20</th>\n",
       "      <td>28.13</td>\n",
       "      <td>28.20</td>\n",
       "      <td>27.83</td>\n",
       "      <td>27.87</td>\n",
       "      <td>44112446</td>\n",
       "    </tr>\n",
       "    <tr>\n",
       "      <th>2013-02-21</th>\n",
       "      <td>27.74</td>\n",
       "      <td>27.74</td>\n",
       "      <td>27.23</td>\n",
       "      <td>27.49</td>\n",
       "      <td>49085538</td>\n",
       "    </tr>\n",
       "    <tr>\n",
       "      <th>2013-02-22</th>\n",
       "      <td>27.68</td>\n",
       "      <td>27.76</td>\n",
       "      <td>27.48</td>\n",
       "      <td>27.76</td>\n",
       "      <td>31430018</td>\n",
       "    </tr>\n",
       "    <tr>\n",
       "      <th>2013-02-25</th>\n",
       "      <td>27.97</td>\n",
       "      <td>28.05</td>\n",
       "      <td>27.37</td>\n",
       "      <td>27.37</td>\n",
       "      <td>48020353</td>\n",
       "    </tr>\n",
       "    <tr>\n",
       "      <th>2013-02-26</th>\n",
       "      <td>27.38</td>\n",
       "      <td>27.60</td>\n",
       "      <td>27.34</td>\n",
       "      <td>27.37</td>\n",
       "      <td>49925050</td>\n",
       "    </tr>\n",
       "    <tr>\n",
       "      <th>2013-02-27</th>\n",
       "      <td>27.42</td>\n",
       "      <td>28.00</td>\n",
       "      <td>27.33</td>\n",
       "      <td>27.81</td>\n",
       "      <td>36395589</td>\n",
       "    </tr>\n",
       "    <tr>\n",
       "      <th>2013-02-28</th>\n",
       "      <td>27.88</td>\n",
       "      <td>27.97</td>\n",
       "      <td>27.74</td>\n",
       "      <td>27.80</td>\n",
       "      <td>35840861</td>\n",
       "    </tr>\n",
       "  </tbody>\n",
       "</table>\n",
       "<p>182 rows × 5 columns</p>\n",
       "</div>"
      ],
      "text/plain": [
       "             Open   High    Low  Close     Volume\n",
       "Date                                             \n",
       "2012-06-07  29.64  29.70  29.17  29.23   37794901\n",
       "2012-06-08  29.21  29.68  29.05  29.65   42554321\n",
       "2012-06-11  29.73  29.81  28.82  28.90   46365066\n",
       "2012-06-12  29.10  29.30  28.84  29.29   35338135\n",
       "2012-06-13  29.22  29.44  29.05  29.13   32984515\n",
       "2012-06-14  29.33  29.46  28.88  29.34   39460156\n",
       "2012-06-15  29.59  30.08  29.49  30.02   62314362\n",
       "2012-06-18  29.99  30.03  29.71  29.84   58679618\n",
       "2012-06-19  30.19  31.11  30.05  30.70   75725717\n",
       "2012-06-20  30.93  31.05  30.64  30.93   36257101\n",
       "2012-06-21  30.96  31.14  30.06  30.14   48461283\n",
       "2012-06-22  30.30  30.73  30.03  30.70   45098017\n",
       "2012-06-25  30.30  30.32  29.62  29.86   42225199\n",
       "2012-06-26  30.00  30.27  29.94  30.02   38422237\n",
       "2012-06-27  30.19  30.50  30.03  30.17   33783977\n",
       "2012-06-28  29.98  30.05  29.42  29.91   45333920\n",
       "2012-06-29  30.45  30.69  30.14  30.59   55227108\n",
       "2012-07-02  30.62  30.62  30.21  30.56   30589039\n",
       "2012-07-03  30.23  30.76  30.17  30.76   20941442\n",
       "2012-07-05  30.59  30.78  30.38  30.70   28802821\n",
       "2012-07-06  30.61  30.70  29.95  30.18   38297403\n",
       "2012-07-09  30.12  30.23  29.78  30.00   30682552\n",
       "2012-07-10  30.08  30.22  29.51  29.74   37537369\n",
       "2012-07-11  29.71  29.74  29.10  29.30   39188842\n",
       "2012-07-12  29.15  29.18  28.54  28.63   63530444\n",
       "2012-07-13  28.76  29.48  28.72  29.39   39090585\n",
       "2012-07-16  29.48  29.53  29.04  29.44   27901963\n",
       "2012-07-17  29.64  29.86  29.20  29.66   33776331\n",
       "2012-07-18  29.60  30.45  29.46  30.45   41100151\n",
       "2012-07-19  30.51  30.80  30.38  30.66   46663183\n",
       "...           ...    ...    ...    ...        ...\n",
       "2013-01-16  27.15  27.23  27.01  27.04   41077374\n",
       "2013-01-17  27.19  27.47  27.06  27.25   51685841\n",
       "2013-01-18  27.10  27.29  27.04  27.25   52171305\n",
       "2013-01-22  27.30  27.45  27.00  27.15   58656745\n",
       "2013-01-23  27.20  27.64  27.20  27.61   50387614\n",
       "2013-01-24  27.70  28.07  27.47  27.63  101739246\n",
       "2013-01-25  27.58  28.23  27.39  27.88   81853106\n",
       "2013-01-28  28.01  28.22  27.76  27.91   56061493\n",
       "2013-01-29  27.82  28.13  27.60  28.01   49247863\n",
       "2013-01-30  28.01  28.19  27.76  27.85   43585526\n",
       "2013-01-31  27.79  27.97  27.40  27.45   50536148\n",
       "2013-02-01  27.67  28.05  27.55  27.93   55566440\n",
       "2013-02-04  27.87  28.02  27.42  27.44   50539942\n",
       "2013-02-05  27.62  27.66  27.36  27.50   35410361\n",
       "2013-02-06  27.38  27.54  27.25  27.34   41889572\n",
       "2013-02-07  27.35  27.39  27.10  27.28   38034068\n",
       "2013-02-08  27.35  27.71  27.31  27.55   33320436\n",
       "2013-02-11  27.65  27.92  27.50  27.86   32248149\n",
       "2013-02-12  27.88  28.00  27.75  27.88   35991329\n",
       "2013-02-13  27.93  28.11  27.88  28.03   41716060\n",
       "2013-02-14  27.92  28.06  27.87  28.04   32663454\n",
       "2013-02-15  28.04  28.16  27.88  28.01   49657740\n",
       "2013-02-19  27.88  28.09  27.80  28.04   38806870\n",
       "2013-02-20  28.13  28.20  27.83  27.87   44112446\n",
       "2013-02-21  27.74  27.74  27.23  27.49   49085538\n",
       "2013-02-22  27.68  27.76  27.48  27.76   31430018\n",
       "2013-02-25  27.97  28.05  27.37  27.37   48020353\n",
       "2013-02-26  27.38  27.60  27.34  27.37   49925050\n",
       "2013-02-27  27.42  28.00  27.33  27.81   36395589\n",
       "2013-02-28  27.88  27.97  27.74  27.80   35840861\n",
       "\n",
       "[182 rows x 5 columns]"
      ]
     },
     "execution_count": 92,
     "metadata": {},
     "output_type": "execute_result"
    }
   ],
   "source": [
    "stocks.truncate(before = \"2012-06-07\", after = \"2013-02-28\")"
   ]
  },
  {
   "cell_type": "markdown",
   "metadata": {},
   "source": [
    "## `pd.DateOffset` Objects"
   ]
  },
  {
   "cell_type": "code",
   "execution_count": 94,
   "metadata": {
    "collapsed": false
   },
   "outputs": [
    {
     "data": {
      "text/html": [
       "<div>\n",
       "<table border=\"1\" class=\"dataframe\">\n",
       "  <thead>\n",
       "    <tr style=\"text-align: right;\">\n",
       "      <th></th>\n",
       "      <th>Open</th>\n",
       "      <th>High</th>\n",
       "      <th>Low</th>\n",
       "      <th>Close</th>\n",
       "      <th>Volume</th>\n",
       "    </tr>\n",
       "    <tr>\n",
       "      <th>Date</th>\n",
       "      <th></th>\n",
       "      <th></th>\n",
       "      <th></th>\n",
       "      <th></th>\n",
       "      <th></th>\n",
       "    </tr>\n",
       "  </thead>\n",
       "  <tbody>\n",
       "    <tr>\n",
       "      <th>2004-08-19</th>\n",
       "      <td>49.96</td>\n",
       "      <td>51.98</td>\n",
       "      <td>47.93</td>\n",
       "      <td>50.12</td>\n",
       "      <td>NaN</td>\n",
       "    </tr>\n",
       "    <tr>\n",
       "      <th>2004-08-20</th>\n",
       "      <td>50.69</td>\n",
       "      <td>54.49</td>\n",
       "      <td>50.20</td>\n",
       "      <td>54.10</td>\n",
       "      <td>NaN</td>\n",
       "    </tr>\n",
       "    <tr>\n",
       "      <th>2004-08-23</th>\n",
       "      <td>55.32</td>\n",
       "      <td>56.68</td>\n",
       "      <td>54.47</td>\n",
       "      <td>54.65</td>\n",
       "      <td>NaN</td>\n",
       "    </tr>\n",
       "  </tbody>\n",
       "</table>\n",
       "</div>"
      ],
      "text/plain": [
       "             Open   High    Low  Close  Volume\n",
       "Date                                          \n",
       "2004-08-19  49.96  51.98  47.93  50.12     NaN\n",
       "2004-08-20  50.69  54.49  50.20  54.10     NaN\n",
       "2004-08-23  55.32  56.68  54.47  54.65     NaN"
      ]
     },
     "execution_count": 94,
     "metadata": {},
     "output_type": "execute_result"
    }
   ],
   "source": [
    "stocks = data.DataReader(name = \"GOOG\", data_source = \"google\",\n",
    "                start = dt.date(2000, 1, 1), end = dt.datetime.now())\n",
    "stocks.head(3)"
   ]
  },
  {
   "cell_type": "code",
   "execution_count": 105,
   "metadata": {
    "collapsed": false
   },
   "outputs": [
    {
     "data": {
      "text/plain": [
       "DatetimeIndex(['2010-05-01 03:42:00', '2010-05-02 03:42:00',\n",
       "               '2010-05-05 03:42:00', '2010-05-06 03:42:00',\n",
       "               '2010-05-07 03:42:00', '2010-05-08 03:42:00',\n",
       "               '2010-05-09 03:42:00', '2010-05-12 03:42:00',\n",
       "               '2010-05-12 03:42:00', '2010-05-13 03:42:00',\n",
       "               ...\n",
       "               '2022-05-14 03:42:00', '2022-05-18 03:42:00',\n",
       "               '2022-05-19 03:42:00', '2022-05-20 03:42:00',\n",
       "               '2022-05-21 03:42:00', '2022-05-24 03:42:00',\n",
       "               '2022-05-25 03:42:00', '2022-05-26 03:42:00',\n",
       "               '2022-05-27 03:42:00', '2022-05-28 03:42:00'],\n",
       "              dtype='datetime64[ns]', name='Date', length=3041, freq=None)"
      ]
     },
     "execution_count": 105,
     "metadata": {},
     "output_type": "execute_result"
    }
   ],
   "source": [
    "stocks.index + pd.DateOffset(months = 8, years = 5, days = 12, hours = 3, minutes = 42)"
   ]
  },
  {
   "cell_type": "markdown",
   "metadata": {},
   "source": [
    "## More Fun with `pd.DateOffset` Objects"
   ]
  },
  {
   "cell_type": "code",
   "execution_count": 141,
   "metadata": {
    "collapsed": true
   },
   "outputs": [],
   "source": [
    "import pandas as pd\n",
    "import datetime as dt\n",
    "from pandas_datareader import data\n",
    "from pandas.tseries.offsets import *"
   ]
  },
  {
   "cell_type": "code",
   "execution_count": 135,
   "metadata": {
    "collapsed": false
   },
   "outputs": [
    {
     "data": {
      "text/html": [
       "<div>\n",
       "<table border=\"1\" class=\"dataframe\">\n",
       "  <thead>\n",
       "    <tr style=\"text-align: right;\">\n",
       "      <th></th>\n",
       "      <th>Open</th>\n",
       "      <th>High</th>\n",
       "      <th>Low</th>\n",
       "      <th>Close</th>\n",
       "      <th>Volume</th>\n",
       "    </tr>\n",
       "    <tr>\n",
       "      <th>Date</th>\n",
       "      <th></th>\n",
       "      <th></th>\n",
       "      <th></th>\n",
       "      <th></th>\n",
       "      <th></th>\n",
       "    </tr>\n",
       "  </thead>\n",
       "  <tbody>\n",
       "    <tr>\n",
       "      <th>2004-08-19</th>\n",
       "      <td>49.96</td>\n",
       "      <td>51.98</td>\n",
       "      <td>47.93</td>\n",
       "      <td>50.12</td>\n",
       "      <td>NaN</td>\n",
       "    </tr>\n",
       "    <tr>\n",
       "      <th>2004-08-20</th>\n",
       "      <td>50.69</td>\n",
       "      <td>54.49</td>\n",
       "      <td>50.20</td>\n",
       "      <td>54.10</td>\n",
       "      <td>NaN</td>\n",
       "    </tr>\n",
       "    <tr>\n",
       "      <th>2004-08-23</th>\n",
       "      <td>55.32</td>\n",
       "      <td>56.68</td>\n",
       "      <td>54.47</td>\n",
       "      <td>54.65</td>\n",
       "      <td>NaN</td>\n",
       "    </tr>\n",
       "  </tbody>\n",
       "</table>\n",
       "</div>"
      ],
      "text/plain": [
       "             Open   High    Low  Close  Volume\n",
       "Date                                          \n",
       "2004-08-19  49.96  51.98  47.93  50.12     NaN\n",
       "2004-08-20  50.69  54.49  50.20  54.10     NaN\n",
       "2004-08-23  55.32  56.68  54.47  54.65     NaN"
      ]
     },
     "execution_count": 135,
     "metadata": {},
     "output_type": "execute_result"
    }
   ],
   "source": [
    "stocks = data.DataReader(name = \"GOOG\", data_source = \"google\",\n",
    "                start = dt.date(2000, 1, 1), end = dt.datetime.now())\n",
    "\n",
    "stocks.head(3)"
   ]
  },
  {
   "cell_type": "code",
   "execution_count": 151,
   "metadata": {
    "collapsed": false
   },
   "outputs": [
    {
     "name": "stderr",
     "output_type": "stream",
     "text": [
      "/Users/borisp/anaconda/envs/3.5/lib/python3.5/site-packages/pandas/tseries/index.py:814: PerformanceWarning: Non-vectorized DateOffset being applied to Series or DatetimeIndex\n",
      "  \"or DatetimeIndex\", PerformanceWarning)\n"
     ]
    },
    {
     "data": {
      "text/plain": [
       "DatetimeIndex(['2004-06-01', '2004-06-01', '2004-06-01', '2004-06-01',\n",
       "               '2004-06-01', '2004-06-01', '2004-06-01', '2004-06-01',\n",
       "               '2004-06-01', '2004-06-01',\n",
       "               ...\n",
       "               '2016-09-01', '2016-09-01', '2016-09-01', '2016-09-01',\n",
       "               '2016-09-01', '2016-09-01', '2016-09-01', '2016-09-01',\n",
       "               '2016-09-01', '2016-09-01'],\n",
       "              dtype='datetime64[ns]', name='Date', length=3041, freq=None)"
      ]
     },
     "execution_count": 151,
     "metadata": {},
     "output_type": "execute_result"
    }
   ],
   "source": [
    "stocks.index - MonthEnd()\n",
    "stocks.index - BMonthEnd()\n",
    "stocks.index - QuarterEnd()\n",
    "stocks.index - QuarterBegin()"
   ]
  },
  {
   "cell_type": "code",
   "execution_count": 157,
   "metadata": {
    "collapsed": false
   },
   "outputs": [
    {
     "data": {
      "text/plain": [
       "DatetimeIndex(['2004-01-01', '2004-01-01', '2004-01-01', '2004-01-01',\n",
       "               '2004-01-01', '2004-01-01', '2004-01-01', '2004-01-01',\n",
       "               '2004-01-01', '2004-01-01',\n",
       "               ...\n",
       "               '2016-01-01', '2016-01-01', '2016-01-01', '2016-01-01',\n",
       "               '2016-01-01', '2016-01-01', '2016-01-01', '2016-01-01',\n",
       "               '2016-01-01', '2016-01-01'],\n",
       "              dtype='datetime64[ns]', name='Date', length=3041, freq=None)"
      ]
     },
     "execution_count": 157,
     "metadata": {},
     "output_type": "execute_result"
    }
   ],
   "source": [
    "stocks.index - YearBegin()"
   ]
  },
  {
   "cell_type": "markdown",
   "metadata": {},
   "source": [
    "## The `Timedelta` Object"
   ]
  },
  {
   "cell_type": "code",
   "execution_count": 215,
   "metadata": {
    "collapsed": false
   },
   "outputs": [],
   "source": [
    "timeA = pd.Timestamp(\"2016-03-31 04:35:16 PM\")\n",
    "timeB = pd.Timestamp(\"2016-03-20 02:16:49 AM\")"
   ]
  },
  {
   "cell_type": "code",
   "execution_count": 219,
   "metadata": {
    "collapsed": false
   },
   "outputs": [
    {
     "data": {
      "text/plain": [
       "Timedelta('-12 days +09:41:33')"
      ]
     },
     "execution_count": 219,
     "metadata": {},
     "output_type": "execute_result"
    }
   ],
   "source": [
    "timeB - timeA"
   ]
  },
  {
   "cell_type": "code",
   "execution_count": 217,
   "metadata": {
    "collapsed": false
   },
   "outputs": [
    {
     "data": {
      "text/plain": [
       "pandas.tslib.Timedelta"
      ]
     },
     "execution_count": 217,
     "metadata": {},
     "output_type": "execute_result"
    }
   ],
   "source": [
    "type(timeA - timeB)"
   ]
  },
  {
   "cell_type": "code",
   "execution_count": 218,
   "metadata": {
    "collapsed": false
   },
   "outputs": [
    {
     "data": {
      "text/plain": [
       "pandas.tslib.Timestamp"
      ]
     },
     "execution_count": 218,
     "metadata": {},
     "output_type": "execute_result"
    }
   ],
   "source": [
    "type(timeA)"
   ]
  },
  {
   "cell_type": "code",
   "execution_count": 227,
   "metadata": {
    "collapsed": false
   },
   "outputs": [
    {
     "data": {
      "text/plain": [
       "Timedelta('59 days 12:45:00')"
      ]
     },
     "execution_count": 227,
     "metadata": {},
     "output_type": "execute_result"
    }
   ],
   "source": [
    "pd.Timedelta(weeks = 8, days = 3, hours = 12, minutes = 45)"
   ]
  },
  {
   "cell_type": "code",
   "execution_count": 226,
   "metadata": {
    "collapsed": false
   },
   "outputs": [
    {
     "data": {
      "text/plain": [
       "Timedelta('14 days 06:12:49')"
      ]
     },
     "execution_count": 226,
     "metadata": {},
     "output_type": "execute_result"
    }
   ],
   "source": [
    "pd.Timedelta(\"14 days 6 hours 12 minutes 49 seconds\")"
   ]
  },
  {
   "cell_type": "markdown",
   "metadata": {},
   "source": [
    "## `Timedeltas` in a Dataset"
   ]
  },
  {
   "cell_type": "code",
   "execution_count": 240,
   "metadata": {
    "collapsed": false
   },
   "outputs": [
    {
     "data": {
      "text/html": [
       "<div>\n",
       "<table border=\"1\" class=\"dataframe\">\n",
       "  <thead>\n",
       "    <tr style=\"text-align: right;\">\n",
       "      <th></th>\n",
       "      <th>order_date</th>\n",
       "      <th>delivery_date</th>\n",
       "    </tr>\n",
       "    <tr>\n",
       "      <th>ID</th>\n",
       "      <th></th>\n",
       "      <th></th>\n",
       "    </tr>\n",
       "  </thead>\n",
       "  <tbody>\n",
       "    <tr>\n",
       "      <th>1</th>\n",
       "      <td>1998-05-24</td>\n",
       "      <td>1999-02-05</td>\n",
       "    </tr>\n",
       "    <tr>\n",
       "      <th>2</th>\n",
       "      <td>1992-04-22</td>\n",
       "      <td>1998-03-06</td>\n",
       "    </tr>\n",
       "    <tr>\n",
       "      <th>4</th>\n",
       "      <td>1991-02-10</td>\n",
       "      <td>1992-08-26</td>\n",
       "    </tr>\n",
       "  </tbody>\n",
       "</table>\n",
       "</div>"
      ],
      "text/plain": [
       "   order_date delivery_date\n",
       "ID                         \n",
       "1  1998-05-24    1999-02-05\n",
       "2  1992-04-22    1998-03-06\n",
       "4  1991-02-10    1992-08-26"
      ]
     },
     "execution_count": 240,
     "metadata": {},
     "output_type": "execute_result"
    }
   ],
   "source": [
    "shipping = pd.read_csv(\"ecommerce.csv\", index_col = \"ID\", parse_dates = [\"order_date\", \"delivery_date\"])\n",
    "shipping.head(3)"
   ]
  },
  {
   "cell_type": "code",
   "execution_count": 243,
   "metadata": {
    "collapsed": false
   },
   "outputs": [],
   "source": [
    "shipping[\"Delivery Time\"] = shipping[\"delivery_date\"] - shipping[\"order_date\"]"
   ]
  },
  {
   "cell_type": "code",
   "execution_count": 244,
   "metadata": {
    "collapsed": false
   },
   "outputs": [
    {
     "data": {
      "text/html": [
       "<div>\n",
       "<table border=\"1\" class=\"dataframe\">\n",
       "  <thead>\n",
       "    <tr style=\"text-align: right;\">\n",
       "      <th></th>\n",
       "      <th>order_date</th>\n",
       "      <th>delivery_date</th>\n",
       "      <th>Delivery Time</th>\n",
       "    </tr>\n",
       "    <tr>\n",
       "      <th>ID</th>\n",
       "      <th></th>\n",
       "      <th></th>\n",
       "      <th></th>\n",
       "    </tr>\n",
       "  </thead>\n",
       "  <tbody>\n",
       "    <tr>\n",
       "      <th>1</th>\n",
       "      <td>1998-05-24</td>\n",
       "      <td>1999-02-05</td>\n",
       "      <td>257 days</td>\n",
       "    </tr>\n",
       "    <tr>\n",
       "      <th>2</th>\n",
       "      <td>1992-04-22</td>\n",
       "      <td>1998-03-06</td>\n",
       "      <td>2144 days</td>\n",
       "    </tr>\n",
       "    <tr>\n",
       "      <th>4</th>\n",
       "      <td>1991-02-10</td>\n",
       "      <td>1992-08-26</td>\n",
       "      <td>563 days</td>\n",
       "    </tr>\n",
       "  </tbody>\n",
       "</table>\n",
       "</div>"
      ],
      "text/plain": [
       "   order_date delivery_date  Delivery Time\n",
       "ID                                        \n",
       "1  1998-05-24    1999-02-05       257 days\n",
       "2  1992-04-22    1998-03-06      2144 days\n",
       "4  1991-02-10    1992-08-26       563 days"
      ]
     },
     "execution_count": 244,
     "metadata": {},
     "output_type": "execute_result"
    }
   ],
   "source": [
    "shipping.head(3)"
   ]
  },
  {
   "cell_type": "code",
   "execution_count": 249,
   "metadata": {
    "collapsed": false
   },
   "outputs": [],
   "source": [
    "shipping[\"Twice As Long\"] = shipping[\"delivery_date\"] + shipping[\"Delivery Time\"]"
   ]
  },
  {
   "cell_type": "code",
   "execution_count": 250,
   "metadata": {
    "collapsed": false
   },
   "outputs": [
    {
     "data": {
      "text/html": [
       "<div>\n",
       "<table border=\"1\" class=\"dataframe\">\n",
       "  <thead>\n",
       "    <tr style=\"text-align: right;\">\n",
       "      <th></th>\n",
       "      <th>order_date</th>\n",
       "      <th>delivery_date</th>\n",
       "      <th>Delivery Time</th>\n",
       "      <th>Twice As Long</th>\n",
       "    </tr>\n",
       "    <tr>\n",
       "      <th>ID</th>\n",
       "      <th></th>\n",
       "      <th></th>\n",
       "      <th></th>\n",
       "      <th></th>\n",
       "    </tr>\n",
       "  </thead>\n",
       "  <tbody>\n",
       "    <tr>\n",
       "      <th>1</th>\n",
       "      <td>1998-05-24</td>\n",
       "      <td>1999-02-05</td>\n",
       "      <td>257 days</td>\n",
       "      <td>1999-10-20</td>\n",
       "    </tr>\n",
       "    <tr>\n",
       "      <th>2</th>\n",
       "      <td>1992-04-22</td>\n",
       "      <td>1998-03-06</td>\n",
       "      <td>2144 days</td>\n",
       "      <td>2004-01-18</td>\n",
       "    </tr>\n",
       "    <tr>\n",
       "      <th>4</th>\n",
       "      <td>1991-02-10</td>\n",
       "      <td>1992-08-26</td>\n",
       "      <td>563 days</td>\n",
       "      <td>1994-03-12</td>\n",
       "    </tr>\n",
       "  </tbody>\n",
       "</table>\n",
       "</div>"
      ],
      "text/plain": [
       "   order_date delivery_date  Delivery Time Twice As Long\n",
       "ID                                                      \n",
       "1  1998-05-24    1999-02-05       257 days    1999-10-20\n",
       "2  1992-04-22    1998-03-06      2144 days    2004-01-18\n",
       "4  1991-02-10    1992-08-26       563 days    1994-03-12"
      ]
     },
     "execution_count": 250,
     "metadata": {},
     "output_type": "execute_result"
    }
   ],
   "source": [
    "shipping.head(3)"
   ]
  },
  {
   "cell_type": "code",
   "execution_count": 251,
   "metadata": {
    "collapsed": false
   },
   "outputs": [
    {
     "data": {
      "text/plain": [
       "order_date        datetime64[ns]\n",
       "delivery_date     datetime64[ns]\n",
       "Delivery Time    timedelta64[ns]\n",
       "Twice As Long     datetime64[ns]\n",
       "dtype: object"
      ]
     },
     "execution_count": 251,
     "metadata": {},
     "output_type": "execute_result"
    }
   ],
   "source": [
    "shipping.dtypes"
   ]
  },
  {
   "cell_type": "code",
   "execution_count": 257,
   "metadata": {
    "collapsed": false
   },
   "outputs": [
    {
     "data": {
      "text/html": [
       "<div>\n",
       "<table border=\"1\" class=\"dataframe\">\n",
       "  <thead>\n",
       "    <tr style=\"text-align: right;\">\n",
       "      <th></th>\n",
       "      <th>order_date</th>\n",
       "      <th>delivery_date</th>\n",
       "      <th>Delivery Time</th>\n",
       "      <th>Twice As Long</th>\n",
       "    </tr>\n",
       "    <tr>\n",
       "      <th>ID</th>\n",
       "      <th></th>\n",
       "      <th></th>\n",
       "      <th></th>\n",
       "      <th></th>\n",
       "    </tr>\n",
       "  </thead>\n",
       "  <tbody>\n",
       "    <tr>\n",
       "      <th>130</th>\n",
       "      <td>1990-04-02</td>\n",
       "      <td>1999-08-16</td>\n",
       "      <td>3423 days</td>\n",
       "      <td>2008-12-29</td>\n",
       "    </tr>\n",
       "  </tbody>\n",
       "</table>\n",
       "</div>"
      ],
      "text/plain": [
       "    order_date delivery_date  Delivery Time Twice As Long\n",
       "ID                                                       \n",
       "130 1990-04-02    1999-08-16      3423 days    2008-12-29"
      ]
     },
     "execution_count": 257,
     "metadata": {},
     "output_type": "execute_result"
    }
   ],
   "source": [
    "mask = shipping[\"Delivery Time\"] == \"3423 days\"\n",
    "shipping[mask]"
   ]
  },
  {
   "cell_type": "code",
   "execution_count": 260,
   "metadata": {
    "collapsed": false
   },
   "outputs": [
    {
     "data": {
      "text/plain": [
       "Timedelta('8 days 00:00:00')"
      ]
     },
     "execution_count": 260,
     "metadata": {},
     "output_type": "execute_result"
    }
   ],
   "source": [
    "shipping[\"Delivery Time\"].min()"
   ]
  },
  {
   "cell_type": "code",
   "execution_count": null,
   "metadata": {
    "collapsed": true
   },
   "outputs": [],
   "source": []
  },
  {
   "cell_type": "code",
   "execution_count": null,
   "metadata": {
    "collapsed": true
   },
   "outputs": [],
   "source": []
  }
 ],
 "metadata": {
  "anaconda-cloud": {},
  "kernelspec": {
   "display_name": "Python [conda root]",
   "language": "python",
   "name": "conda-root-py"
  },
  "language_info": {
   "codemirror_mode": {
    "name": "ipython",
    "version": 2
   },
   "file_extension": ".py",
   "mimetype": "text/x-python",
   "name": "python",
   "nbconvert_exporter": "python",
   "pygments_lexer": "ipython2",
   "version": "2.7.12"
  }
 },
 "nbformat": 4,
 "nbformat_minor": 1
}
